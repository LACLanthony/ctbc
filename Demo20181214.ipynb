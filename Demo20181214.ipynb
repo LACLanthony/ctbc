{
 "cells": [
  {
   "cell_type": "markdown",
   "metadata": {},
   "source": [
    "## 利用維基百科查詢企業資訊"
   ]
  },
  {
   "cell_type": "code",
   "execution_count": 33,
   "metadata": {},
   "outputs": [],
   "source": [
    "import requests\n",
    "res = requests.get('https://zh.wikipedia.org/zh-tw/Google')"
   ]
  },
  {
   "cell_type": "code",
   "execution_count": 34,
   "metadata": {},
   "outputs": [],
   "source": [
    "from bs4 import BeautifulSoup\n",
    "soup = BeautifulSoup(res.text, 'lxml')"
   ]
  },
  {
   "cell_type": "code",
   "execution_count": 35,
   "metadata": {},
   "outputs": [],
   "source": [
    "#soup.select_one('.infobox')\n",
    "#soup.select_one('.vcard')\n",
    "vcard = soup.select_one('.infobox.vcard')"
   ]
  },
  {
   "cell_type": "markdown",
   "metadata": {},
   "source": [
    "## W3School Table\n",
    "- https://www.w3schools.com/html/html_tables.asp"
   ]
  },
  {
   "cell_type": "code",
   "execution_count": 36,
   "metadata": {},
   "outputs": [],
   "source": [
    "a = 1\n",
    "\n",
    "if a > 3:\n",
    "    print('GO')\n"
   ]
  },
  {
   "cell_type": "code",
   "execution_count": 37,
   "metadata": {},
   "outputs": [
    {
     "name": "stdout",
     "output_type": "stream",
     "text": [
      "GO\n"
     ]
    }
   ],
   "source": [
    "#a = None\n",
    "#a= False\n",
    "#a = []\n",
    "#a = {}\n",
    "if a:\n",
    "    print('GO')"
   ]
  },
  {
   "cell_type": "code",
   "execution_count": 38,
   "metadata": {},
   "outputs": [
    {
     "name": "stdout",
     "output_type": "stream",
     "text": [
      "GO\n"
     ]
    }
   ],
   "source": [
    "#a = True\n",
    "#a = 9\n",
    "#a = [1]\n",
    "#a = {1}\n",
    "if a:\n",
    "    print('GO')"
   ]
  },
  {
   "cell_type": "code",
   "execution_count": 39,
   "metadata": {},
   "outputs": [],
   "source": [
    "company_info = {}\n",
    "for tr in vcard.select('tr'):\n",
    "    if tr.select_one('th') and tr.select_one('td'):\n",
    "        #print(tr.select_one('th').text.strip(), tr.select_one('td').text.strip())\n",
    "        #print('========================')\n",
    "        header = tr.select_one('th').text.strip()\n",
    "        data   = tr.select_one('td').text.strip()\n",
    "        company_info[header]  = data"
   ]
  },
  {
   "cell_type": "code",
   "execution_count": 40,
   "metadata": {},
   "outputs": [
    {
     "data": {
      "text/html": [
       "<div>\n",
       "<style scoped>\n",
       "    .dataframe tbody tr th:only-of-type {\n",
       "        vertical-align: middle;\n",
       "    }\n",
       "\n",
       "    .dataframe tbody tr th {\n",
       "        vertical-align: top;\n",
       "    }\n",
       "\n",
       "    .dataframe thead th {\n",
       "        text-align: right;\n",
       "    }\n",
       "</style>\n",
       "<table border=\"1\" class=\"dataframe\">\n",
       "  <thead>\n",
       "    <tr style=\"text-align: right;\">\n",
       "      <th></th>\n",
       "      <th>代表人物</th>\n",
       "      <th>公司類型</th>\n",
       "      <th>創辦人</th>\n",
       "      <th>員工人數</th>\n",
       "      <th>業務範圍</th>\n",
       "      <th>標語口號</th>\n",
       "      <th>母公司</th>\n",
       "      <th>營業額</th>\n",
       "      <th>產品</th>\n",
       "      <th>產業</th>\n",
       "      <th>稅前盈餘</th>\n",
       "      <th>稅後盈餘</th>\n",
       "      <th>網站</th>\n",
       "      <th>總資產</th>\n",
       "      <th>總部</th>\n",
       "      <th>資產淨值</th>\n",
       "    </tr>\n",
       "  </thead>\n",
       "  <tbody>\n",
       "    <tr>\n",
       "      <th>0</th>\n",
       "      <td>桑德爾·皮蔡（CEO）</td>\n",
       "      <td>子公司</td>\n",
       "      <td>賴利·佩吉、謝爾蓋·布林</td>\n",
       "      <td>80,110（2017年Q4，Alphabet Inc.員工總數）[2]</td>\n",
       "      <td>世界</td>\n",
       "      <td>Don't be evil.（不作惡）</td>\n",
       "      <td>Alphabet Inc.</td>\n",
       "      <td>▲US$858.07億（2016年）[1]</td>\n",
       "      <td>參見Google產品列表</td>\n",
       "      <td>網際網路、軟體、通訊裝置</td>\n",
       "      <td>▲US$224.93億（2016年）[1]</td>\n",
       "      <td>▲US$190.68億（2016年）[1]</td>\n",
       "      <td>www.google.com</td>\n",
       "      <td>▲US$1,304.26億（2014年）[1]</td>\n",
       "      <td>美國加利福尼亞州山景城Googleplex</td>\n",
       "      <td>▲US$1,038.60億（2014年）[1]</td>\n",
       "    </tr>\n",
       "  </tbody>\n",
       "</table>\n",
       "</div>"
      ],
      "text/plain": [
       "          代表人物 公司類型           創辦人                                  員工人數 業務範圍  \\\n",
       "0  桑德爾·皮蔡（CEO）  子公司  賴利·佩吉、謝爾蓋·布林  80,110（2017年Q4，Alphabet Inc.員工總數）[2]   世界   \n",
       "\n",
       "                  標語口號            母公司                    營業額            產品  \\\n",
       "0  Don't be evil.（不作惡）  Alphabet Inc.  ▲US$858.07億（2016年）[1]  參見Google產品列表   \n",
       "\n",
       "             產業                   稅前盈餘                   稅後盈餘              網站  \\\n",
       "0  網際網路、軟體、通訊裝置  ▲US$224.93億（2016年）[1]  ▲US$190.68億（2016年）[1]  www.google.com   \n",
       "\n",
       "                       總資產                     總部                     資產淨值  \n",
       "0  ▲US$1,304.26億（2014年）[1]  美國加利福尼亞州山景城Googleplex  ▲US$1,038.60億（2014年）[1]  "
      ]
     },
     "execution_count": 40,
     "metadata": {},
     "output_type": "execute_result"
    }
   ],
   "source": [
    "import pandas\n",
    "companydf = pandas.DataFrame([company_info])\n",
    "companydf"
   ]
  },
  {
   "cell_type": "code",
   "execution_count": 56,
   "metadata": {},
   "outputs": [],
   "source": [
    "def getCompanyInfo(company):\n",
    "    companyurl = 'https://zh.wikipedia.org/zh-tw/{}'\n",
    "    res = requests.get(companyurl.format(company))\n",
    "    soup = BeautifulSoup(res.text, 'lxml')\n",
    "    vcard = soup.select_one('.infobox')\n",
    "    company_info = {}\n",
    "    for tr in vcard.select('tr'):\n",
    "        if tr.select_one('th') and tr.select_one('td'):\n",
    "            #print(tr.select_one('th').text.strip(), tr.select_one('td').text.strip())\n",
    "            #print('========================')\n",
    "            header = tr.select_one('th').text.strip()\n",
    "            dataary = []\n",
    "            for line in tr.select_one('td').prettify().split('<br/>'):\n",
    "                soup2 = BeautifulSoup(line, 'lxml')\n",
    "                dataary.append(' '.join(soup2.text.strip().split()))\n",
    "            data   = ','.join(dataary)\n",
    "            company_info[header]  = data\n",
    "    return company_info"
   ]
  },
  {
   "cell_type": "code",
   "execution_count": 57,
   "metadata": {},
   "outputs": [
    {
     "data": {
      "text/plain": [
       "{'SWIFT識別碼': 'CTCBTWTP',\n",
       " '主要股東': '中國信託金融控股股份有限公司 （100.00%）',\n",
       " '代表人': '董事長： 童兆勤,總經理： 陳佳文',\n",
       " '實收資本額': '新台幣 1,406.9 億元 (2017)',\n",
       " '年營業額': '新台幣 936.8 億元 (2017)',\n",
       " '簡稱': '中國信託、中信銀行、中信商銀、CTBC、CTCB、CTB、中信銀、中信',\n",
       " '網站': '中國信託商業銀行 （繁體中文）',\n",
       " '總部地址': '中華民國,臺北市 南港區 經貿二路 168號（中國信託金融園區）',\n",
       " '股票代號': '臺證所 ： 2891',\n",
       " '郵遞區號': '115-68',\n",
       " '金融代號': '822',\n",
       " '開設日期': '1966年（民國55年）3月14日(52年267天）'}"
      ]
     },
     "execution_count": 57,
     "metadata": {},
     "output_type": "execute_result"
    }
   ],
   "source": [
    "getCompanyInfo('中國信託商業銀行')"
   ]
  },
  {
   "cell_type": "code",
   "execution_count": 58,
   "metadata": {},
   "outputs": [
    {
     "data": {
      "text/plain": [
       "{'主要子公司': '富邦產物保險,富邦人壽保險,台北富邦銀行,富邦綜合證券,富邦金控創業投資,富邦行銷,富邦資產管理,富邦銀行（香港）,運彩科技股份有限公司',\n",
       " '主要股東': '臺北市政府 （13.11%）,明東實業 （8.45%）,道盈實業 （7.73%）,蔡明興 （3.20%）,紅福投資 （2.57%）,蔡明忠 (2.04%)',\n",
       " '代表人物': '董事長 ： 蔡明興,總經理 ： 韓蔚廷',\n",
       " '公司類型': '金融控股公司 、 上市公司',\n",
       " '商業名稱': '富邦金控、富邦金',\n",
       " '實收資本額': '新台幣 108,336,039,950元（2015年）',\n",
       " '成立': '2001年12月19日（16年357天）',\n",
       " '標語口號': '誠信、親切、專業、創新',\n",
       " '母公司': '富邦集團',\n",
       " '每股盈利': '6.21（2015年）',\n",
       " '每股資產淨值': '35.92（2015年）',\n",
       " '營業額': '▼ 新台幣4061.45億元 （2017年）',\n",
       " '產品': '金融服務、保險',\n",
       " '產業': '金融業',\n",
       " '稅前盈餘': '▲ 新台幣580.51億元 （2017年）',\n",
       " '統一編號': '03374805',\n",
       " '網站': 'www.fubon.com',\n",
       " '總資產': '▲ 新台幣6兆9195億元 （2017年）',\n",
       " '總部': '中華民國 （ 臺灣 ）,臺北市 大安區 建國南路一段 237號',\n",
       " '股票代號': '臺證所 ： 2881,LSE ： FBND',\n",
       " '資產淨值': '新台幣 376,077百萬元（2015年）'}"
      ]
     },
     "execution_count": 58,
     "metadata": {},
     "output_type": "execute_result"
    }
   ],
   "source": [
    "getCompanyInfo('富邦金控')"
   ]
  },
  {
   "cell_type": "code",
   "execution_count": 59,
   "metadata": {},
   "outputs": [
    {
     "data": {
      "text/plain": [
       "{'主要子公司': '30家 [2]',\n",
       " '主要股東': '花旗託管台積電存託憑證專戶（20.68%）,中華民國 行政院國家發展基金管理會 （6.38%）,花旗台新加坡（2.64%）',\n",
       " '代表人物': '董事長 ： 劉德音,總裁 ： 魏哲家',\n",
       " '公司類型': '上市公司',\n",
       " '創辦人': '張忠謀 （榮譽董事長）',\n",
       " '實收資本額': '新臺幣 259,303,804,580元',\n",
       " '成立': '1987年2月21日 ( 1987-02-21 )',\n",
       " '營業額': '▲ 新臺幣 9774.47億元（2017年） [1]',\n",
       " '產品': '晶圓代工 服務',\n",
       " '產業': '電子工業',\n",
       " '稅後盈餘': '▲ 新臺幣 3431億元（2017年）',\n",
       " '統一編號': '22099131',\n",
       " '網站': 'www .tsmc .com',\n",
       " '總部': '中華民國,新竹市 東區 力行六路8號',\n",
       " '股票代號': '臺證所 ： 2330,（1994年9月5日上市）,NYSE ： TSM'}"
      ]
     },
     "execution_count": 59,
     "metadata": {},
     "output_type": "execute_result"
    }
   ],
   "source": [
    "getCompanyInfo('台積電')"
   ]
  },
  {
   "cell_type": "markdown",
   "metadata": {},
   "source": [
    "## 金融公司分類\n",
    "- https://zh.wikipedia.org/wiki/Category:%E8%87%BA%E7%81%A3%E7%9A%84%E9%87%91%E8%9E%8D%E6%8E%A7%E8%82%A1%E5%85%AC%E5%8F%B8"
   ]
  },
  {
   "cell_type": "code",
   "execution_count": 60,
   "metadata": {},
   "outputs": [],
   "source": [
    "import pandas\n",
    "company_list = pandas.read_clipboard(header = None)"
   ]
  },
  {
   "cell_type": "code",
   "execution_count": 63,
   "metadata": {},
   "outputs": [
    {
     "data": {
      "text/plain": [
       "['第一金融控股',\n",
       " '富邦金融控股',\n",
       " '國泰金融控股',\n",
       " '國票金融控股',\n",
       " '華南金融控股',\n",
       " '日盛金融控股',\n",
       " '台新金融控股',\n",
       " '臺灣金融控股',\n",
       " '新光金融控股',\n",
       " '元大金融控股',\n",
       " '永豐金融控股',\n",
       " '玉山金融控股',\n",
       " '中華開發金融控股',\n",
       " '兆豐金融控股',\n",
       " '中國信託金融控股',\n",
       " '合作金庫金融控股']"
      ]
     },
     "execution_count": 63,
     "metadata": {},
     "output_type": "execute_result"
    }
   ],
   "source": [
    "company_list[0].tolist()"
   ]
  },
  {
   "cell_type": "code",
   "execution_count": 64,
   "metadata": {},
   "outputs": [],
   "source": [
    "company_list = ['第一金融控股',\n",
    " '富邦金融控股',\n",
    " '國泰金融控股',\n",
    " '國票金融控股',\n",
    " '華南金融控股',\n",
    " '日盛金融控股',\n",
    " '台新金融控股',\n",
    " '臺灣金融控股',\n",
    " '新光金融控股',\n",
    " '元大金融控股',\n",
    " '永豐金融控股',\n",
    " '玉山金融控股',\n",
    " '中華開發金融控股',\n",
    " '兆豐金融控股',\n",
    " '中國信託金融控股',\n",
    " '合作金庫金融控股']"
   ]
  },
  {
   "cell_type": "code",
   "execution_count": 68,
   "metadata": {},
   "outputs": [],
   "source": [
    "company_profiles = []\n",
    "for company in company_list: \n",
    "    profile = getCompanyInfo(company)\n",
    "    profile['公司名稱'] = company\n",
    "    company_profiles.append(profile)"
   ]
  },
  {
   "cell_type": "code",
   "execution_count": 69,
   "metadata": {},
   "outputs": [],
   "source": [
    "company_df = pandas.DataFrame(company_profiles)"
   ]
  },
  {
   "cell_type": "code",
   "execution_count": 71,
   "metadata": {},
   "outputs": [],
   "source": [
    "company_df.to_excel('financial_company.xlsx')"
   ]
  },
  {
   "cell_type": "markdown",
   "metadata": {},
   "source": [
    "## 利用Google 查詢公司子公司"
   ]
  },
  {
   "cell_type": "code",
   "execution_count": 102,
   "metadata": {},
   "outputs": [],
   "source": [
    "import requests\n",
    "googleurl = 'https://www.google.com.tw/search?rlz=1C5CHFA_enTW718TW718&ei=wSETXMKBBtL6kwXd8bm4BQ&q={0}+{1}&oq={0}+{1}&gs_l=psy-ab.3..0i30.1996.3600..4138...0.0..0.127.853.6j3......0....1..gws-wiz.......0.JbpCn4-ONug'\n",
    "res = requests.get(googleurl.format('國泰世華', '子公司'))"
   ]
  },
  {
   "cell_type": "code",
   "execution_count": 103,
   "metadata": {},
   "outputs": [],
   "source": [
    "from bs4 import BeautifulSoup\n",
    "soup = BeautifulSoup(res.text, 'lxml')"
   ]
  },
  {
   "cell_type": "code",
   "execution_count": 104,
   "metadata": {},
   "outputs": [],
   "source": [
    "#res.text"
   ]
  },
  {
   "cell_type": "code",
   "execution_count": 105,
   "metadata": {},
   "outputs": [],
   "source": [
    "company_ary = []\n",
    "for company in soup.select('#ires span'):\n",
    "    if 'st' in company.get('class'):\n",
    "        break\n",
    "    if company.text.strip('，') != '': \n",
    "        company_ary.append(company.text.strip('，'))"
   ]
  },
  {
   "cell_type": "code",
   "execution_count": 106,
   "metadata": {},
   "outputs": [
    {
     "data": {
      "text/plain": [
       "['世越銀行',\n",
       " 'Cathay United Bank (Cambodia) Corporation Limited',\n",
       " 'Cathay United Bank (China) Ltd',\n",
       " 'Seaward Leasing, Ltd.',\n",
       " 'Cathay Life Insurance Agent Co., Ltd.',\n",
       " 'Cathay United Bank Co. Ltd.']"
      ]
     },
     "execution_count": 106,
     "metadata": {},
     "output_type": "execute_result"
    }
   ],
   "source": [
    "company_ary"
   ]
  },
  {
   "cell_type": "code",
   "execution_count": 107,
   "metadata": {},
   "outputs": [],
   "source": [
    "import requests\n",
    "googleurl = 'https://www.google.com.tw/search?rlz=1C5CHFA_enTW718TW718&ei=wSETXMKBBtL6kwXd8bm4BQ&q={0}+{1}&oq={0}+{1}&gs_l=psy-ab.3..0i30.1996.3600..4138...0.0..0.127.853.6j3......0....1..gws-wiz.......0.JbpCn4-ONug'\n",
    "\n",
    "def getSubCompany(keyword):\n",
    "    res = requests.get(googleurl.format(keyword, '子公司'))\n",
    "    soup = BeautifulSoup(res.text, 'lxml')\n",
    "    company_ary = []\n",
    "    for company in soup.select('#ires span'):\n",
    "        if 'st' in company.get('class'):\n",
    "            break\n",
    "        if company.text.strip('，') != '': \n",
    "            company_ary.append(company.text.strip('，'))\n",
    "    return company_ary"
   ]
  },
  {
   "cell_type": "code",
   "execution_count": 109,
   "metadata": {},
   "outputs": [
    {
     "data": {
      "text/plain": [
       "['SSMC',\n",
       " 'WaferTech',\n",
       " 'QUALCOMM Panel Manufacturing Ltd.',\n",
       " 'TSMC North America, Inc.',\n",
       " 'TSMC Global Ltd.',\n",
       " 'TSMC (Nanjing) Co. Ltd',\n",
       " 'Tsmc Korea Limited',\n",
       " 'TSMC Guang Neng Investment, Ltd.',\n",
       " 'TSMC China Company Limited',\n",
       " 'Tsmc Europe B.v.',\n",
       " 'Tsmc Japan Limited',\n",
       " 'VisEra Holding Company',\n",
       " 'Tsmc Technology, Inc.',\n",
       " 'Tsmc Design Technology Canada Inc.',\n",
       " 'TSMC Solar Europe B.V.',\n",
       " 'Tsmc Solar North America, Inc']"
      ]
     },
     "execution_count": 109,
     "metadata": {},
     "output_type": "execute_result"
    }
   ],
   "source": [
    "getSubCompany('台積電')"
   ]
  },
  {
   "cell_type": "markdown",
   "metadata": {},
   "source": [
    "## 中英譯名查詢"
   ]
  },
  {
   "cell_type": "code",
   "execution_count": 112,
   "metadata": {},
   "outputs": [],
   "source": [
    "import requests\n",
    "headers = {\n",
    " 'User-Agent': 'Mozilla/5.0 (Macintosh; Intel Mac OS X 10_13_6) AppleWebKit/537.36 (KHTML, like Gecko) Chrome/70.0.3538.110 Safari/537.36'   \n",
    "}\n",
    "res = requests.get('https://www.post.gov.tw/post/internet/Templates/creat_checkImage3.jsp?rand=0.95517516&vKey=81354b99-91ae-45cf-9137-21c109d30de6', headers = headers)"
   ]
  },
  {
   "cell_type": "code",
   "execution_count": 113,
   "metadata": {},
   "outputs": [],
   "source": [
    "with open('captcha.jpg', 'wb') as f:\n",
    "    f.write(res.content)"
   ]
  },
  {
   "cell_type": "code",
   "execution_count": 114,
   "metadata": {},
   "outputs": [
    {
     "data": {
      "image/png": "[encoded data removed]",
      "text/plain": [
       "<PIL.JpegImagePlugin.JpegImageFile image mode=RGB size=120x40 at 0x11DCCB630>"
      ]
     },
     "execution_count": 114,
     "metadata": {},
     "output_type": "execute_result"
    }
   ],
   "source": [
    "from PIL import Image\n",
    "Image.open('captcha.jpg')"
   ]
  },
  {
   "cell_type": "code",
   "execution_count": 115,
   "metadata": {},
   "outputs": [
    {
     "name": "stdout",
     "output_type": "stream",
     "text": [
      "Requirement already satisfied: pytesseract in /Users/davidchiu/.pyenv/versions/3.6.2/lib/python3.6/site-packages\n",
      "Requirement already satisfied: Pillow in /Users/davidchiu/.pyenv/versions/3.6.2/lib/python3.6/site-packages (from pytesseract)\n",
      "\u001b[33mYou are using pip version 9.0.1, however version 18.1 is available.\n",
      "You should consider upgrading via the 'pip install --upgrade pip' command.\u001b[0m\n"
     ]
    }
   ],
   "source": [
    "! pip install pytesseract"
   ]
  },
  {
   "cell_type": "code",
   "execution_count": 117,
   "metadata": {},
   "outputs": [
    {
     "name": "stdout",
     "output_type": "stream",
     "text": [
      "3197\n"
     ]
    }
   ],
   "source": [
    "import pytesseract\n",
    "print(pytesseract.image_to_string(Image.open('captcha.jpg')))"
   ]
  },
  {
   "cell_type": "code",
   "execution_count": 118,
   "metadata": {},
   "outputs": [],
   "source": [
    "payload = {\n",
    "'do_s_1':'1',\n",
    "'vKey':'fee348a7-0956-4e0b-ad87-46fccc837b5c',\n",
    "'showMode':'1',\n",
    "'city':'臺北市',\n",
    "'change_city':'2',\n",
    "'cityarea':'中山區',\n",
    "'street':'南京東路２段',\n",
    "'lane':'',\n",
    "'alley':'',\n",
    "'num':'137',\n",
    "'num_hyphen':'',\n",
    "'fl':'14',\n",
    "'hyphen':'',\n",
    "'suite':'',\n",
    "'list':'true',\n",
    "'checkImange':'8553',\n",
    "'submit':'查詢',  \n",
    "}\n",
    "res2 = requests.post('https://www.post.gov.tw/post/internet/Postal/index.jsp?ID=207', data = payload, headers = headers)"
   ]
  },
  {
   "cell_type": "code",
   "execution_count": 123,
   "metadata": {},
   "outputs": [],
   "source": [
    "payload = {\n",
    "'do_s_1':'1',\n",
    "'vKey':'fee348a7-0956-4e0b-ad87-46fccc837b5c',\n",
    "'showMode':'1',\n",
    "'city':'臺北市',\n",
    "'change_city':'2',\n",
    "'cityarea':'中山區',\n",
    "'street':'玉門街',\n",
    "'lane':'',\n",
    "'alley':'',\n",
    "'num':'1',\n",
    "'num_hyphen':'',\n",
    "'fl':'',\n",
    "'hyphen':'',\n",
    "'suite':'',\n",
    "'list':'true',\n",
    "'checkImange':'8553',\n",
    "'submit':'查詢',  \n",
    "}\n",
    "res2 = requests.post('https://www.post.gov.tw/post/internet/Postal/index.jsp?ID=207', data = payload, headers = headers)"
   ]
  },
  {
   "cell_type": "code",
   "execution_count": 124,
   "metadata": {},
   "outputs": [],
   "source": [
    "from bs4 import BeautifulSoup\n",
    "soup2 = BeautifulSoup(res2.text, 'lxml')"
   ]
  },
  {
   "cell_type": "code",
   "execution_count": 125,
   "metadata": {},
   "outputs": [
    {
     "data": {
      "text/plain": [
       "'No.1, Yumen St., Zhongshan Dist., Taipei City 104, Taiwan (R.O.C.)'"
      ]
     },
     "execution_count": 125,
     "metadata": {},
     "output_type": "execute_result"
    }
   ],
   "source": [
    "soup2.select_one('#tb1 td').text"
   ]
  },
  {
   "cell_type": "markdown",
   "metadata": {},
   "source": [
    "## 經濟部─公司及分公司基本資料查詢"
   ]
  },
  {
   "cell_type": "code",
   "execution_count": 185,
   "metadata": {},
   "outputs": [],
   "source": [
    "import requests\n",
    "headers = {\n",
    " 'Cookie': 'JSESSIONID=451C9443D663EAAD2DE8CC85C025EB16',\n",
    " 'Referer': 'https://serv.gcis.nat.gov.tw/pub/cmpy/cmpyInfoListAction.do;jsessionid=451C9443D663EAAD2DE8CC85C025EB16'   \n",
    "}\n",
    "res = requests.get('https://serv.gcis.nat.gov.tw/pub/kaptcha.jpg', headers = headers)\n",
    "with open('kaptcha.jpg', 'wb') as f:\n",
    "    f.write(res.content)"
   ]
  },
  {
   "cell_type": "code",
   "execution_count": 186,
   "metadata": {},
   "outputs": [
    {
     "data": {
      "image/png": "[encoded data removed]",
      "text/plain": [
       "<PIL.JpegImagePlugin.JpegImageFile image mode=RGB size=120x40 at 0x10CAF8BA8>"
      ]
     },
     "execution_count": 186,
     "metadata": {},
     "output_type": "execute_result"
    }
   ],
   "source": [
    "from PIL import Image\n",
    "Image.open('kaptcha.jpg')"
   ]
  },
  {
   "cell_type": "code",
   "execution_count": 187,
   "metadata": {},
   "outputs": [],
   "source": [
    "?pytesseract.image_to_string"
   ]
  },
  {
   "cell_type": "code",
   "execution_count": 2,
   "metadata": {},
   "outputs": [
    {
     "ename": "TesseractError",
     "evalue": "(1, 'Error opening data file /Users/travis/build/RabbitLabs/tesseract/tesseract/share/tessdata/eng.traineddata Please make sure the TESSDATA_PREFIX environment variable is set to the parent directory of your \"tessdata\" directory. Failed loading language \\'eng\\' Tesseract couldn\\'t load any languages! Could not initialize tesseract.')",
     "output_type": "error",
     "traceback": [
      "\u001b[0;31m---------------------------------------------------------------------------\u001b[0m",
      "\u001b[0;31mTesseractError\u001b[0m                            Traceback (most recent call last)",
      "\u001b[0;32m<ipython-input-2-af0f1c452841>\u001b[0m in \u001b[0;36m<module>\u001b[0;34m()\u001b[0m\n\u001b[1;32m      3\u001b[0m \u001b[0mpytesseract\u001b[0m\u001b[0;34m.\u001b[0m\u001b[0mpytesseract\u001b[0m\u001b[0;34m.\u001b[0m\u001b[0mtesseract_cmd\u001b[0m \u001b[0;34m=\u001b[0m \u001b[0;34mr'./tesseract'\u001b[0m\u001b[0;34m\u001b[0m\u001b[0m\n\u001b[1;32m      4\u001b[0m print(pytesseract.image_to_string(Image.open('kaptcha.jpg'),                         boxes = False,\n\u001b[0;32m----> 5\u001b[0;31m                         config='--psm 12 --oem 3 -c tessedit_char_whitelist=0123456789'))\n\u001b[0m",
      "\u001b[0;32m~/.pyenv/versions/3.6.2/lib/python3.6/site-packages/pytesseract/pytesseract.py\u001b[0m in \u001b[0;36mimage_to_string\u001b[0;34m(image, lang, config, nice, boxes, output_type)\u001b[0m\n\u001b[1;32m    292\u001b[0m         \u001b[0margs\u001b[0m\u001b[0;34m.\u001b[0m\u001b[0mappend\u001b[0m\u001b[0;34m(\u001b[0m\u001b[0;32mTrue\u001b[0m\u001b[0;34m)\u001b[0m\u001b[0;34m\u001b[0m\u001b[0m\n\u001b[1;32m    293\u001b[0m \u001b[0;34m\u001b[0m\u001b[0m\n\u001b[0;32m--> 294\u001b[0;31m     \u001b[0;32mreturn\u001b[0m \u001b[0mrun_and_get_output\u001b[0m\u001b[0;34m(\u001b[0m\u001b[0;34m*\u001b[0m\u001b[0margs\u001b[0m\u001b[0;34m)\u001b[0m\u001b[0;34m\u001b[0m\u001b[0m\n\u001b[0m\u001b[1;32m    295\u001b[0m \u001b[0;34m\u001b[0m\u001b[0m\n\u001b[1;32m    296\u001b[0m \u001b[0;34m\u001b[0m\u001b[0m\n",
      "\u001b[0;32m~/.pyenv/versions/3.6.2/lib/python3.6/site-packages/pytesseract/pytesseract.py\u001b[0m in \u001b[0;36mrun_and_get_output\u001b[0;34m(image, extension, lang, config, nice, return_bytes)\u001b[0m\n\u001b[1;32m    200\u001b[0m         }\n\u001b[1;32m    201\u001b[0m \u001b[0;34m\u001b[0m\u001b[0m\n\u001b[0;32m--> 202\u001b[0;31m         \u001b[0mrun_tesseract\u001b[0m\u001b[0;34m(\u001b[0m\u001b[0;34m**\u001b[0m\u001b[0mkwargs\u001b[0m\u001b[0;34m)\u001b[0m\u001b[0;34m\u001b[0m\u001b[0m\n\u001b[0m\u001b[1;32m    203\u001b[0m         \u001b[0mfilename\u001b[0m \u001b[0;34m=\u001b[0m \u001b[0mkwargs\u001b[0m\u001b[0;34m[\u001b[0m\u001b[0;34m'output_filename_base'\u001b[0m\u001b[0;34m]\u001b[0m \u001b[0;34m+\u001b[0m \u001b[0mos\u001b[0m\u001b[0;34m.\u001b[0m\u001b[0mextsep\u001b[0m \u001b[0;34m+\u001b[0m \u001b[0mextension\u001b[0m\u001b[0;34m\u001b[0m\u001b[0m\n\u001b[1;32m    204\u001b[0m         \u001b[0;32mwith\u001b[0m \u001b[0mopen\u001b[0m\u001b[0;34m(\u001b[0m\u001b[0mfilename\u001b[0m\u001b[0;34m,\u001b[0m \u001b[0;34m'rb'\u001b[0m\u001b[0;34m)\u001b[0m \u001b[0;32mas\u001b[0m \u001b[0moutput_file\u001b[0m\u001b[0;34m:\u001b[0m\u001b[0;34m\u001b[0m\u001b[0m\n",
      "\u001b[0;32m~/.pyenv/versions/3.6.2/lib/python3.6/site-packages/pytesseract/pytesseract.py\u001b[0m in \u001b[0;36mrun_tesseract\u001b[0;34m(input_filename, output_filename_base, extension, lang, config, nice)\u001b[0m\n\u001b[1;32m    176\u001b[0m \u001b[0;34m\u001b[0m\u001b[0m\n\u001b[1;32m    177\u001b[0m     \u001b[0;32mif\u001b[0m \u001b[0mstatus_code\u001b[0m\u001b[0;34m:\u001b[0m\u001b[0;34m\u001b[0m\u001b[0m\n\u001b[0;32m--> 178\u001b[0;31m         \u001b[0;32mraise\u001b[0m \u001b[0mTesseractError\u001b[0m\u001b[0;34m(\u001b[0m\u001b[0mstatus_code\u001b[0m\u001b[0;34m,\u001b[0m \u001b[0mget_errors\u001b[0m\u001b[0;34m(\u001b[0m\u001b[0merror_string\u001b[0m\u001b[0;34m)\u001b[0m\u001b[0;34m)\u001b[0m\u001b[0;34m\u001b[0m\u001b[0m\n\u001b[0m\u001b[1;32m    179\u001b[0m \u001b[0;34m\u001b[0m\u001b[0m\n\u001b[1;32m    180\u001b[0m     \u001b[0;32mreturn\u001b[0m \u001b[0;32mTrue\u001b[0m\u001b[0;34m\u001b[0m\u001b[0m\n",
      "\u001b[0;31mTesseractError\u001b[0m: (1, 'Error opening data file /Users/travis/build/RabbitLabs/tesseract/tesseract/share/tessdata/eng.traineddata Please make sure the TESSDATA_PREFIX environment variable is set to the parent directory of your \"tessdata\" directory. Failed loading language \\'eng\\' Tesseract couldn\\'t load any languages! Could not initialize tesseract.')"
     ]
    }
   ],
   "source": [
    "import pytesseract\n",
    "from PIL import Image\n",
    "pytesseract.pytesseract.tesseract_cmd = r'./tesseract'\n",
    "print(pytesseract.image_to_string(Image.open('kaptcha.jpg'), \\\n",
    "                        boxes = False,\n",
    "                        config='--psm 12 --oem 3 -c tessedit_char_whitelist=0123456789'))"
   ]
  },
  {
   "cell_type": "code",
   "execution_count": null,
   "metadata": {},
   "outputs": [],
   "source": []
  }
 ],
 "metadata": {
  "kernelspec": {
   "display_name": "Python 3",
   "language": "python",
   "name": "python3"
  },
  "language_info": {
   "codemirror_mode": {
    "name": "ipython",
    "version": 3
   },
   "file_extension": ".py",
   "mimetype": "text/x-python",
   "name": "python",
   "nbconvert_exporter": "python",
   "pygments_lexer": "ipython3",
   "version": "3.6.2"
  }
 },
 "nbformat": 4,
 "nbformat_minor": 2
}
