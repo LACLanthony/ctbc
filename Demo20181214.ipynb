{
 "cells": [
  {
   "cell_type": "code",
   "execution_count": 1,
   "metadata": {},
   "outputs": [],
   "source": [
    "import requests\n",
    "res = requests.get('https://zh.wikipedia.org/wiki/Google')"
   ]
  },
  {
   "cell_type": "code",
   "execution_count": 3,
   "metadata": {},
   "outputs": [],
   "source": [
    "from bs4 import BeautifulSoup\n",
    "soup = BeautifulSoup(res.text, 'lxml')"
   ]
  },
  {
   "cell_type": "code",
   "execution_count": 8,
   "metadata": {},
   "outputs": [
    {
     "data": {
      "text/plain": [
       "<table cellspacing=\"3\" class=\"infobox vcard\" style=\"border-spacing:3px;width:22em;text-align:left;font-size:small;line-height:1.5em;width: ;\"><tbody><tr><th class=\"fn org\" colspan=\"2\" style=\"text-align:center;font-size:125%;font-weight:bold\">Google有限公司</th></tr><tr><td colspan=\"2\" style=\"text-align:center\">\n",
       "<span lang=\"en\">Google LLC</span></td></tr><tr><td class=\"logo\" colspan=\"2\" style=\"text-align:center\">\n",
       "<a class=\"image\" href=\"/wiki/File:Google_2015_logo.svg\"><img alt=\"Google 2015 logo.svg\" data-file-height=\"92\" data-file-width=\"272\" height=\"74\" src=\"//upload.wikimedia.org/wikipedia/commons/thumb/2/2f/Google_2015_logo.svg/220px-Google_2015_logo.svg.png\" srcset=\"//upload.wikimedia.org/wikipedia/commons/thumb/2/2f/Google_2015_logo.svg/330px-Google_2015_logo.svg.png 1.5x, //upload.wikimedia.org/wikipedia/commons/thumb/2/2f/Google_2015_logo.svg/440px-Google_2015_logo.svg.png 2x\" width=\"220\"/></a></td></tr><tr><td class=\"logo\" colspan=\"2\" style=\"text-align:center\">\n",
       "<a class=\"image\" href=\"/wiki/File:Googleplex-Patio-Aug-2014.JPG\"><img alt=\"Googleplex-Patio-Aug-2014.JPG\" data-file-height=\"2448\" data-file-width=\"3264\" height=\"165\" src=\"//upload.wikimedia.org/wikipedia/commons/thumb/0/0e/Googleplex-Patio-Aug-2014.JPG/220px-Googleplex-Patio-Aug-2014.JPG\" srcset=\"//upload.wikimedia.org/wikipedia/commons/thumb/0/0e/Googleplex-Patio-Aug-2014.JPG/330px-Googleplex-Patio-Aug-2014.JPG 1.5x, //upload.wikimedia.org/wikipedia/commons/thumb/0/0e/Googleplex-Patio-Aug-2014.JPG/440px-Googleplex-Patio-Aug-2014.JPG 2x\" width=\"220\"/></a><div><a href=\"/wiki/Googleplex\" title=\"Googleplex\">Googleplex</a>，Google最初及最大的公司总部</div></td></tr><tr><th scope=\"row\" style=\"text-align:left;white-space: nowrap; padding-right:0.35em;;\"><a href=\"/wiki/Category:%E5%85%AC%E5%8F%B8\" title=\"Category:公司\">公司類型</a></th><td class=\"category\" style=\"\">\n",
       "<a href=\"/wiki/%E5%AD%90%E5%85%AC%E5%8F%B8\" title=\"子公司\">子公司</a></td></tr><tr><th scope=\"row\" style=\"text-align:left;white-space: nowrap; padding-right:0.35em;;\"><a href=\"/wiki/%E5%89%B5%E8%BE%A6%E4%BA%BA\" title=\"創辦人\">創辦人</a></th><td class=\"agent\" style=\"\">\n",
       "<a href=\"/wiki/%E6%8B%89%E9%87%8C%C2%B7%E4%BD%A9%E5%A5%87\" title=\"拉里·佩奇\">拉里·佩奇</a>、<a href=\"/wiki/%E8%B0%A2%E5%B0%94%E7%9B%96%C2%B7%E5%B8%83%E6%9E%97\" title=\"谢尔盖·布林\">谢尔盖·布林</a></td></tr><tr><th scope=\"row\" style=\"text-align:left;white-space: nowrap; padding-right:0.35em;;\">代表人物</th><td class=\"agent\" style=\"\">\n",
       "<a href=\"/wiki/%E6%A1%91%E5%BE%B7%E5%B0%94%C2%B7%E7%9A%AE%E8%94%A1\" title=\"桑德尔·皮蔡\">桑德爾·皮蔡</a>（CEO）</td></tr><tr><th scope=\"row\" style=\"text-align:left;white-space: nowrap; padding-right:0.35em;;\">總部</th><td style=\"\">\n",
       "<span class=\"flagicon\"><img alt=\"\" class=\"thumbborder\" data-file-height=\"650\" data-file-width=\"1235\" height=\"12\" src=\"//upload.wikimedia.org/wikipedia/commons/thumb/a/a4/Flag_of_the_United_States.svg/22px-Flag_of_the_United_States.svg.png\" srcset=\"//upload.wikimedia.org/wikipedia/commons/thumb/a/a4/Flag_of_the_United_States.svg/33px-Flag_of_the_United_States.svg.png 1.5x, //upload.wikimedia.org/wikipedia/commons/thumb/a/a4/Flag_of_the_United_States.svg/44px-Flag_of_the_United_States.svg.png 2x\" width=\"22\"/> </span><a class=\"mw-redirect\" href=\"/wiki/%E7%BE%8E%E5%9C%8B\" title=\"美國\">美國</a><a href=\"/wiki/%E5%8A%A0%E5%88%A9%E7%A6%8F%E5%B0%BC%E4%BA%9A%E5%B7%9E\" title=\"加利福尼亚州\">加利福尼亚州</a><a class=\"mw-redirect\" href=\"/wiki/%E8%8A%92%E5%BB%B7%E7%BB%B4%E5%B0%A4_(%E5%8A%A0%E5%88%A9%E7%A6%8F%E5%B0%BC%E4%BA%9A%E5%B7%9E)\" title=\"芒廷维尤 (加利福尼亚州)\">山景城</a><a href=\"/wiki/Googleplex\" title=\"Googleplex\">Googleplex</a></td></tr><tr><th scope=\"row\" style=\"text-align:left;white-space: nowrap; padding-right:0.35em;;\">標語口號</th><td style=\"\">\n",
       "<span lang=\"en\">Don't be evil.</span>（<a class=\"mw-redirect\" href=\"/wiki/%E4%B8%8D%E4%BD%9C%E6%81%B6\" title=\"不作恶\">不作恶</a>）</td></tr><tr><th scope=\"row\" style=\"text-align:left;white-space: nowrap; padding-right:0.35em;;\">業務範圍</th><td style=\"\">\n",
       "<span class=\"flagicon\"><img alt=\"\" data-file-height=\"242\" data-file-width=\"471\" height=\"11\" src=\"//upload.wikimedia.org/wikipedia/commons/thumb/4/43/World_Map_Icon.svg/22px-World_Map_Icon.svg.png\" srcset=\"//upload.wikimedia.org/wikipedia/commons/thumb/4/43/World_Map_Icon.svg/33px-World_Map_Icon.svg.png 1.5x, //upload.wikimedia.org/wikipedia/commons/thumb/4/43/World_Map_Icon.svg/44px-World_Map_Icon.svg.png 2x\" width=\"22\"/> </span><a href=\"/wiki/%E4%B8%96%E7%95%8C\" title=\"世界\">世界</a></td></tr><tr><th scope=\"row\" style=\"text-align:left;white-space: nowrap; padding-right:0.35em;;\"><a href=\"/wiki/%E4%BA%A7%E4%B8%9A\" title=\"产业\">产业</a></th><td class=\"category\" style=\"\">\n",
       "<a href=\"/wiki/%E4%BA%92%E8%81%94%E7%BD%91\" title=\"互联网\">互联网</a>、<a href=\"/wiki/%E8%BD%AF%E4%BB%B6\" title=\"软件\">软件</a>、<a href=\"/wiki/%E9%80%9A%E8%A8%8A%E8%A3%9D%E7%BD%AE\" title=\"通訊裝置\">通訊裝置</a></td></tr><tr><th scope=\"row\" style=\"text-align:left;white-space: nowrap; padding-right:0.35em;;\">產品</th><td style=\"\">\n",
       "参见<a href=\"/wiki/Google%E4%BA%A7%E5%93%81%E5%88%97%E8%A1%A8\" title=\"Google产品列表\">Google产品列表</a></td></tr><tr><th scope=\"row\" style=\"text-align:left;white-space: nowrap; padding-right:0.35em;;\"><a href=\"/wiki/%E7%87%9F%E6%A5%AD%E9%A1%8D\" title=\"營業額\">營業額</a></th><td style=\"\">\n",
       "<span style=\"color:#0c0; font-size:larger\">▲</span><a href=\"/wiki/%E7%BE%8E%E5%85%83\" title=\"美元\">US$</a>858.07亿（2016年）<sup class=\"reference\" id=\"cite_ref-FY_1-0\"><a href=\"#cite_note-FY-1\">[1]</a></sup></td></tr><tr><th scope=\"row\" style=\"text-align:left;white-space: nowrap; padding-right:0.35em;;\"><a href=\"/wiki/%E7%A8%85%E5%89%8D%E6%81%AF%E5%89%8D%E5%88%A9%E6%BD%A4\" title=\"稅前息前利潤\">息税前利润</a></th><td style=\"\">\n",
       "<span style=\"color:#0c0; font-size:larger\">▲</span><a href=\"/wiki/%E7%BE%8E%E5%85%83\" title=\"美元\">US$</a>224.93亿（2016年）<sup class=\"reference\" id=\"cite_ref-FY_1-1\"><a href=\"#cite_note-FY-1\">[1]</a></sup></td></tr><tr><th scope=\"row\" style=\"text-align:left;white-space: nowrap; padding-right:0.35em;;\"><a class=\"mw-disambig\" href=\"/wiki/%E5%88%A9%E6%B6%A6\" title=\"利润\">净利润</a></th><td style=\"\">\n",
       "<span style=\"color:#0c0; font-size:larger\">▲</span><a href=\"/wiki/%E7%BE%8E%E5%85%83\" title=\"美元\">US$</a>190.68亿（2016年）<sup class=\"reference\" id=\"cite_ref-FY_1-2\"><a href=\"#cite_note-FY-1\">[1]</a></sup></td></tr><tr><th scope=\"row\" style=\"text-align:left;white-space: nowrap; padding-right:0.35em;;\">總<a href=\"/wiki/%E8%B3%87%E7%94%A2\" title=\"資產\">資產</a></th><td style=\"\">\n",
       "<span style=\"color:#0c0; font-size:larger\">▲</span><a href=\"/wiki/%E7%BE%8E%E5%85%83\" title=\"美元\">US$</a>1,304.26亿（2014年）<sup class=\"reference\" id=\"cite_ref-FY_1-3\"><a href=\"#cite_note-FY-1\">[1]</a></sup></td></tr><tr><th scope=\"row\" style=\"text-align:left;white-space: nowrap; padding-right:0.35em;;\"><a href=\"/wiki/%E8%82%A1%E6%9D%B1%E6%AC%8A%E7%9B%8A\" title=\"股東權益\">資產淨值</a></th><td style=\"\">\n",
       "<span style=\"color:#0c0; font-size:larger\">▲</span><a href=\"/wiki/%E7%BE%8E%E5%85%83\" title=\"美元\">US$</a>1,038.60亿（2014年）<sup class=\"reference\" id=\"cite_ref-FY_1-4\"><a href=\"#cite_note-FY-1\">[1]</a></sup></td></tr><tr><th scope=\"row\" style=\"text-align:left;white-space: nowrap; padding-right:0.35em;;\">員工人數</th><td style=\"\">\n",
       "80,110（2017年Q4，Alphabet Inc.员工总数）<sup class=\"reference\" id=\"cite_ref-2\"><a href=\"#cite_note-2\">[2]</a></sup></td></tr><tr><th scope=\"row\" style=\"text-align:left;white-space: nowrap; padding-right:0.35em;;\"><a href=\"/wiki/%E6%8E%A7%E8%82%A1%E5%85%AC%E5%8F%B8\" title=\"控股公司\">母公司</a></th><td style=\"\">\n",
       "<a href=\"/wiki/Alphabet\" title=\"Alphabet\">Alphabet Inc.</a></td></tr><tr><th scope=\"row\" style=\"text-align:left;white-space: nowrap; padding-right:0.35em;;\">网站</th><td style=\"\">\n",
       "<span class=\"url\"><a class=\"external text\" href=\"https://www.google.com\" rel=\"nofollow\">www<wbr/>.google<wbr/>.com</a></span></td></tr></tbody></table>"
      ]
     },
     "execution_count": 8,
     "metadata": {},
     "output_type": "execute_result"
    }
   ],
   "source": [
    "#soup.select_one('.infobox')\n",
    "#soup.select_one('.vcard')\n",
    "soup.select_one('.infobox.vcard')"
   ]
  },
  {
   "cell_type": "code",
   "execution_count": null,
   "metadata": {},
   "outputs": [],
   "source": []
  }
 ],
 "metadata": {
  "kernelspec": {
   "display_name": "Python 3",
   "language": "python",
   "name": "python3"
  },
  "language_info": {
   "codemirror_mode": {
    "name": "ipython",
    "version": 3
   },
   "file_extension": ".py",
   "mimetype": "text/x-python",
   "name": "python",
   "nbconvert_exporter": "python",
   "pygments_lexer": "ipython3",
   "version": "3.6.2"
  }
 },
 "nbformat": 4,
 "nbformat_minor": 2
}
