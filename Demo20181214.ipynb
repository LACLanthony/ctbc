{
 "cells": [
  {
   "cell_type": "code",
   "execution_count": 33,
   "metadata": {},
   "outputs": [],
   "source": [
    "import requests\n",
    "res = requests.get('https://zh.wikipedia.org/zh-tw/Google')"
   ]
  },
  {
   "cell_type": "code",
   "execution_count": 34,
   "metadata": {},
   "outputs": [],
   "source": [
    "from bs4 import BeautifulSoup\n",
    "soup = BeautifulSoup(res.text, 'lxml')"
   ]
  },
  {
   "cell_type": "code",
   "execution_count": 35,
   "metadata": {},
   "outputs": [],
   "source": [
    "#soup.select_one('.infobox')\n",
    "#soup.select_one('.vcard')\n",
    "vcard = soup.select_one('.infobox.vcard')"
   ]
  },
  {
   "cell_type": "markdown",
   "metadata": {},
   "source": [
    "## W3School Table\n",
    "- https://www.w3schools.com/html/html_tables.asp"
   ]
  },
  {
   "cell_type": "code",
   "execution_count": 36,
   "metadata": {},
   "outputs": [],
   "source": [
    "a = 1\n",
    "\n",
    "if a > 3:\n",
    "    print('GO')\n"
   ]
  },
  {
   "cell_type": "code",
   "execution_count": 37,
   "metadata": {},
   "outputs": [
    {
     "name": "stdout",
     "output_type": "stream",
     "text": [
      "GO\n"
     ]
    }
   ],
   "source": [
    "#a = None\n",
    "#a= False\n",
    "#a = []\n",
    "#a = {}\n",
    "if a:\n",
    "    print('GO')"
   ]
  },
  {
   "cell_type": "code",
   "execution_count": 38,
   "metadata": {},
   "outputs": [
    {
     "name": "stdout",
     "output_type": "stream",
     "text": [
      "GO\n"
     ]
    }
   ],
   "source": [
    "#a = True\n",
    "#a = 9\n",
    "#a = [1]\n",
    "#a = {1}\n",
    "if a:\n",
    "    print('GO')"
   ]
  },
  {
   "cell_type": "code",
   "execution_count": 39,
   "metadata": {},
   "outputs": [],
   "source": [
    "company_info = {}\n",
    "for tr in vcard.select('tr'):\n",
    "    if tr.select_one('th') and tr.select_one('td'):\n",
    "        #print(tr.select_one('th').text.strip(), tr.select_one('td').text.strip())\n",
    "        #print('========================')\n",
    "        header = tr.select_one('th').text.strip()\n",
    "        data   = tr.select_one('td').text.strip()\n",
    "        company_info[header]  = data"
   ]
  },
  {
   "cell_type": "code",
   "execution_count": 40,
   "metadata": {},
   "outputs": [
    {
     "data": {
      "text/html": [
       "<div>\n",
       "<style scoped>\n",
       "    .dataframe tbody tr th:only-of-type {\n",
       "        vertical-align: middle;\n",
       "    }\n",
       "\n",
       "    .dataframe tbody tr th {\n",
       "        vertical-align: top;\n",
       "    }\n",
       "\n",
       "    .dataframe thead th {\n",
       "        text-align: right;\n",
       "    }\n",
       "</style>\n",
       "<table border=\"1\" class=\"dataframe\">\n",
       "  <thead>\n",
       "    <tr style=\"text-align: right;\">\n",
       "      <th></th>\n",
       "      <th>代表人物</th>\n",
       "      <th>公司類型</th>\n",
       "      <th>創辦人</th>\n",
       "      <th>員工人數</th>\n",
       "      <th>業務範圍</th>\n",
       "      <th>標語口號</th>\n",
       "      <th>母公司</th>\n",
       "      <th>營業額</th>\n",
       "      <th>產品</th>\n",
       "      <th>產業</th>\n",
       "      <th>稅前盈餘</th>\n",
       "      <th>稅後盈餘</th>\n",
       "      <th>網站</th>\n",
       "      <th>總資產</th>\n",
       "      <th>總部</th>\n",
       "      <th>資產淨值</th>\n",
       "    </tr>\n",
       "  </thead>\n",
       "  <tbody>\n",
       "    <tr>\n",
       "      <th>0</th>\n",
       "      <td>桑德爾·皮蔡（CEO）</td>\n",
       "      <td>子公司</td>\n",
       "      <td>賴利·佩吉、謝爾蓋·布林</td>\n",
       "      <td>80,110（2017年Q4，Alphabet Inc.員工總數）[2]</td>\n",
       "      <td>世界</td>\n",
       "      <td>Don't be evil.（不作惡）</td>\n",
       "      <td>Alphabet Inc.</td>\n",
       "      <td>▲US$858.07億（2016年）[1]</td>\n",
       "      <td>參見Google產品列表</td>\n",
       "      <td>網際網路、軟體、通訊裝置</td>\n",
       "      <td>▲US$224.93億（2016年）[1]</td>\n",
       "      <td>▲US$190.68億（2016年）[1]</td>\n",
       "      <td>www.google.com</td>\n",
       "      <td>▲US$1,304.26億（2014年）[1]</td>\n",
       "      <td>美國加利福尼亞州山景城Googleplex</td>\n",
       "      <td>▲US$1,038.60億（2014年）[1]</td>\n",
       "    </tr>\n",
       "  </tbody>\n",
       "</table>\n",
       "</div>"
      ],
      "text/plain": [
       "          代表人物 公司類型           創辦人                                  員工人數 業務範圍  \\\n",
       "0  桑德爾·皮蔡（CEO）  子公司  賴利·佩吉、謝爾蓋·布林  80,110（2017年Q4，Alphabet Inc.員工總數）[2]   世界   \n",
       "\n",
       "                  標語口號            母公司                    營業額            產品  \\\n",
       "0  Don't be evil.（不作惡）  Alphabet Inc.  ▲US$858.07億（2016年）[1]  參見Google產品列表   \n",
       "\n",
       "             產業                   稅前盈餘                   稅後盈餘              網站  \\\n",
       "0  網際網路、軟體、通訊裝置  ▲US$224.93億（2016年）[1]  ▲US$190.68億（2016年）[1]  www.google.com   \n",
       "\n",
       "                       總資產                     總部                     資產淨值  \n",
       "0  ▲US$1,304.26億（2014年）[1]  美國加利福尼亞州山景城Googleplex  ▲US$1,038.60億（2014年）[1]  "
      ]
     },
     "execution_count": 40,
     "metadata": {},
     "output_type": "execute_result"
    }
   ],
   "source": [
    "import pandas\n",
    "companydf = pandas.DataFrame([company_info])\n",
    "companydf"
   ]
  },
  {
   "cell_type": "code",
   "execution_count": 56,
   "metadata": {},
   "outputs": [],
   "source": [
    "def getCompanyInfo(company):\n",
    "    companyurl = 'https://zh.wikipedia.org/zh-tw/{}'\n",
    "    res = requests.get(companyurl.format(company))\n",
    "    soup = BeautifulSoup(res.text, 'lxml')\n",
    "    vcard = soup.select_one('.infobox')\n",
    "    company_info = {}\n",
    "    for tr in vcard.select('tr'):\n",
    "        if tr.select_one('th') and tr.select_one('td'):\n",
    "            #print(tr.select_one('th').text.strip(), tr.select_one('td').text.strip())\n",
    "            #print('========================')\n",
    "            header = tr.select_one('th').text.strip()\n",
    "            dataary = []\n",
    "            for line in tr.select_one('td').prettify().split('<br/>'):\n",
    "                soup2 = BeautifulSoup(line, 'lxml')\n",
    "                dataary.append(' '.join(soup2.text.strip().split()))\n",
    "            data   = ','.join(dataary)\n",
    "            company_info[header]  = data\n",
    "    return company_info"
   ]
  },
  {
   "cell_type": "code",
   "execution_count": 57,
   "metadata": {},
   "outputs": [
    {
     "data": {
      "text/plain": [
       "{'SWIFT識別碼': 'CTCBTWTP',\n",
       " '主要股東': '中國信託金融控股股份有限公司 （100.00%）',\n",
       " '代表人': '董事長： 童兆勤,總經理： 陳佳文',\n",
       " '實收資本額': '新台幣 1,406.9 億元 (2017)',\n",
       " '年營業額': '新台幣 936.8 億元 (2017)',\n",
       " '簡稱': '中國信託、中信銀行、中信商銀、CTBC、CTCB、CTB、中信銀、中信',\n",
       " '網站': '中國信託商業銀行 （繁體中文）',\n",
       " '總部地址': '中華民國,臺北市 南港區 經貿二路 168號（中國信託金融園區）',\n",
       " '股票代號': '臺證所 ： 2891',\n",
       " '郵遞區號': '115-68',\n",
       " '金融代號': '822',\n",
       " '開設日期': '1966年（民國55年）3月14日(52年267天）'}"
      ]
     },
     "execution_count": 57,
     "metadata": {},
     "output_type": "execute_result"
    }
   ],
   "source": [
    "getCompanyInfo('中國信託商業銀行')"
   ]
  },
  {
   "cell_type": "code",
   "execution_count": 58,
   "metadata": {},
   "outputs": [
    {
     "data": {
      "text/plain": [
       "{'主要子公司': '富邦產物保險,富邦人壽保險,台北富邦銀行,富邦綜合證券,富邦金控創業投資,富邦行銷,富邦資產管理,富邦銀行（香港）,運彩科技股份有限公司',\n",
       " '主要股東': '臺北市政府 （13.11%）,明東實業 （8.45%）,道盈實業 （7.73%）,蔡明興 （3.20%）,紅福投資 （2.57%）,蔡明忠 (2.04%)',\n",
       " '代表人物': '董事長 ： 蔡明興,總經理 ： 韓蔚廷',\n",
       " '公司類型': '金融控股公司 、 上市公司',\n",
       " '商業名稱': '富邦金控、富邦金',\n",
       " '實收資本額': '新台幣 108,336,039,950元（2015年）',\n",
       " '成立': '2001年12月19日（16年357天）',\n",
       " '標語口號': '誠信、親切、專業、創新',\n",
       " '母公司': '富邦集團',\n",
       " '每股盈利': '6.21（2015年）',\n",
       " '每股資產淨值': '35.92（2015年）',\n",
       " '營業額': '▼ 新台幣4061.45億元 （2017年）',\n",
       " '產品': '金融服務、保險',\n",
       " '產業': '金融業',\n",
       " '稅前盈餘': '▲ 新台幣580.51億元 （2017年）',\n",
       " '統一編號': '03374805',\n",
       " '網站': 'www.fubon.com',\n",
       " '總資產': '▲ 新台幣6兆9195億元 （2017年）',\n",
       " '總部': '中華民國 （ 臺灣 ）,臺北市 大安區 建國南路一段 237號',\n",
       " '股票代號': '臺證所 ： 2881,LSE ： FBND',\n",
       " '資產淨值': '新台幣 376,077百萬元（2015年）'}"
      ]
     },
     "execution_count": 58,
     "metadata": {},
     "output_type": "execute_result"
    }
   ],
   "source": [
    "getCompanyInfo('富邦金控')"
   ]
  },
  {
   "cell_type": "code",
   "execution_count": 59,
   "metadata": {},
   "outputs": [
    {
     "data": {
      "text/plain": [
       "{'主要子公司': '30家 [2]',\n",
       " '主要股東': '花旗託管台積電存託憑證專戶（20.68%）,中華民國 行政院國家發展基金管理會 （6.38%）,花旗台新加坡（2.64%）',\n",
       " '代表人物': '董事長 ： 劉德音,總裁 ： 魏哲家',\n",
       " '公司類型': '上市公司',\n",
       " '創辦人': '張忠謀 （榮譽董事長）',\n",
       " '實收資本額': '新臺幣 259,303,804,580元',\n",
       " '成立': '1987年2月21日 ( 1987-02-21 )',\n",
       " '營業額': '▲ 新臺幣 9774.47億元（2017年） [1]',\n",
       " '產品': '晶圓代工 服務',\n",
       " '產業': '電子工業',\n",
       " '稅後盈餘': '▲ 新臺幣 3431億元（2017年）',\n",
       " '統一編號': '22099131',\n",
       " '網站': 'www .tsmc .com',\n",
       " '總部': '中華民國,新竹市 東區 力行六路8號',\n",
       " '股票代號': '臺證所 ： 2330,（1994年9月5日上市）,NYSE ： TSM'}"
      ]
     },
     "execution_count": 59,
     "metadata": {},
     "output_type": "execute_result"
    }
   ],
   "source": [
    "getCompanyInfo('台積電')"
   ]
  },
  {
   "cell_type": "code",
   "execution_count": null,
   "metadata": {},
   "outputs": [],
   "source": []
  }
 ],
 "metadata": {
  "kernelspec": {
   "display_name": "Python 3",
   "language": "python",
   "name": "python3"
  },
  "language_info": {
   "codemirror_mode": {
    "name": "ipython",
    "version": 3
   },
   "file_extension": ".py",
   "mimetype": "text/x-python",
   "name": "python",
   "nbconvert_exporter": "python",
   "pygments_lexer": "ipython3",
   "version": "3.6.2"
  }
 },
 "nbformat": 4,
 "nbformat_minor": 2
}
