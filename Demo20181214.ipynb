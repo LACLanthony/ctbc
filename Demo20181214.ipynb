{
 "cells": [
  {
   "cell_type": "markdown",
   "metadata": {},
   "source": [
    "## 利用維基百科查詢企業資訊"
   ]
  },
  {
   "cell_type": "code",
   "execution_count": 33,
   "metadata": {},
   "outputs": [],
   "source": [
    "import requests\n",
    "res = requests.get('https://zh.wikipedia.org/zh-tw/Google')"
   ]
  },
  {
   "cell_type": "code",
   "execution_count": 34,
   "metadata": {},
   "outputs": [],
   "source": [
    "from bs4 import BeautifulSoup\n",
    "soup = BeautifulSoup(res.text, 'lxml')"
   ]
  },
  {
   "cell_type": "code",
   "execution_count": 35,
   "metadata": {},
   "outputs": [],
   "source": [
    "#soup.select_one('.infobox')\n",
    "#soup.select_one('.vcard')\n",
    "vcard = soup.select_one('.infobox.vcard')"
   ]
  },
  {
   "cell_type": "markdown",
   "metadata": {},
   "source": [
    "## W3School Table\n",
    "- https://www.w3schools.com/html/html_tables.asp"
   ]
  },
  {
   "cell_type": "code",
   "execution_count": 36,
   "metadata": {},
   "outputs": [],
   "source": [
    "a = 1\n",
    "\n",
    "if a > 3:\n",
    "    print('GO')\n"
   ]
  },
  {
   "cell_type": "code",
   "execution_count": 37,
   "metadata": {},
   "outputs": [
    {
     "name": "stdout",
     "output_type": "stream",
     "text": [
      "GO\n"
     ]
    }
   ],
   "source": [
    "#a = None\n",
    "#a= False\n",
    "#a = []\n",
    "#a = {}\n",
    "if a:\n",
    "    print('GO')"
   ]
  },
  {
   "cell_type": "code",
   "execution_count": 38,
   "metadata": {},
   "outputs": [
    {
     "name": "stdout",
     "output_type": "stream",
     "text": [
      "GO\n"
     ]
    }
   ],
   "source": [
    "#a = True\n",
    "#a = 9\n",
    "#a = [1]\n",
    "#a = {1}\n",
    "if a:\n",
    "    print('GO')"
   ]
  },
  {
   "cell_type": "code",
   "execution_count": 39,
   "metadata": {},
   "outputs": [],
   "source": [
    "company_info = {}\n",
    "for tr in vcard.select('tr'):\n",
    "    if tr.select_one('th') and tr.select_one('td'):\n",
    "        #print(tr.select_one('th').text.strip(), tr.select_one('td').text.strip())\n",
    "        #print('========================')\n",
    "        header = tr.select_one('th').text.strip()\n",
    "        data   = tr.select_one('td').text.strip()\n",
    "        company_info[header]  = data"
   ]
  },
  {
   "cell_type": "code",
   "execution_count": 40,
   "metadata": {},
   "outputs": [
    {
     "data": {
      "text/html": [
       "<div>\n",
       "<style scoped>\n",
       "    .dataframe tbody tr th:only-of-type {\n",
       "        vertical-align: middle;\n",
       "    }\n",
       "\n",
       "    .dataframe tbody tr th {\n",
       "        vertical-align: top;\n",
       "    }\n",
       "\n",
       "    .dataframe thead th {\n",
       "        text-align: right;\n",
       "    }\n",
       "</style>\n",
       "<table border=\"1\" class=\"dataframe\">\n",
       "  <thead>\n",
       "    <tr style=\"text-align: right;\">\n",
       "      <th></th>\n",
       "      <th>代表人物</th>\n",
       "      <th>公司類型</th>\n",
       "      <th>創辦人</th>\n",
       "      <th>員工人數</th>\n",
       "      <th>業務範圍</th>\n",
       "      <th>標語口號</th>\n",
       "      <th>母公司</th>\n",
       "      <th>營業額</th>\n",
       "      <th>產品</th>\n",
       "      <th>產業</th>\n",
       "      <th>稅前盈餘</th>\n",
       "      <th>稅後盈餘</th>\n",
       "      <th>網站</th>\n",
       "      <th>總資產</th>\n",
       "      <th>總部</th>\n",
       "      <th>資產淨值</th>\n",
       "    </tr>\n",
       "  </thead>\n",
       "  <tbody>\n",
       "    <tr>\n",
       "      <th>0</th>\n",
       "      <td>桑德爾·皮蔡（CEO）</td>\n",
       "      <td>子公司</td>\n",
       "      <td>賴利·佩吉、謝爾蓋·布林</td>\n",
       "      <td>80,110（2017年Q4，Alphabet Inc.員工總數）[2]</td>\n",
       "      <td>世界</td>\n",
       "      <td>Don't be evil.（不作惡）</td>\n",
       "      <td>Alphabet Inc.</td>\n",
       "      <td>▲US$858.07億（2016年）[1]</td>\n",
       "      <td>參見Google產品列表</td>\n",
       "      <td>網際網路、軟體、通訊裝置</td>\n",
       "      <td>▲US$224.93億（2016年）[1]</td>\n",
       "      <td>▲US$190.68億（2016年）[1]</td>\n",
       "      <td>www.google.com</td>\n",
       "      <td>▲US$1,304.26億（2014年）[1]</td>\n",
       "      <td>美國加利福尼亞州山景城Googleplex</td>\n",
       "      <td>▲US$1,038.60億（2014年）[1]</td>\n",
       "    </tr>\n",
       "  </tbody>\n",
       "</table>\n",
       "</div>"
      ],
      "text/plain": [
       "          代表人物 公司類型           創辦人                                  員工人數 業務範圍  \\\n",
       "0  桑德爾·皮蔡（CEO）  子公司  賴利·佩吉、謝爾蓋·布林  80,110（2017年Q4，Alphabet Inc.員工總數）[2]   世界   \n",
       "\n",
       "                  標語口號            母公司                    營業額            產品  \\\n",
       "0  Don't be evil.（不作惡）  Alphabet Inc.  ▲US$858.07億（2016年）[1]  參見Google產品列表   \n",
       "\n",
       "             產業                   稅前盈餘                   稅後盈餘              網站  \\\n",
       "0  網際網路、軟體、通訊裝置  ▲US$224.93億（2016年）[1]  ▲US$190.68億（2016年）[1]  www.google.com   \n",
       "\n",
       "                       總資產                     總部                     資產淨值  \n",
       "0  ▲US$1,304.26億（2014年）[1]  美國加利福尼亞州山景城Googleplex  ▲US$1,038.60億（2014年）[1]  "
      ]
     },
     "execution_count": 40,
     "metadata": {},
     "output_type": "execute_result"
    }
   ],
   "source": [
    "import pandas\n",
    "companydf = pandas.DataFrame([company_info])\n",
    "companydf"
   ]
  },
  {
   "cell_type": "code",
   "execution_count": 56,
   "metadata": {},
   "outputs": [],
   "source": [
    "def getCompanyInfo(company):\n",
    "    companyurl = 'https://zh.wikipedia.org/zh-tw/{}'\n",
    "    res = requests.get(companyurl.format(company))\n",
    "    soup = BeautifulSoup(res.text, 'lxml')\n",
    "    vcard = soup.select_one('.infobox')\n",
    "    company_info = {}\n",
    "    for tr in vcard.select('tr'):\n",
    "        if tr.select_one('th') and tr.select_one('td'):\n",
    "            #print(tr.select_one('th').text.strip(), tr.select_one('td').text.strip())\n",
    "            #print('========================')\n",
    "            header = tr.select_one('th').text.strip()\n",
    "            dataary = []\n",
    "            for line in tr.select_one('td').prettify().split('<br/>'):\n",
    "                soup2 = BeautifulSoup(line, 'lxml')\n",
    "                dataary.append(' '.join(soup2.text.strip().split()))\n",
    "            data   = ','.join(dataary)\n",
    "            company_info[header]  = data\n",
    "    return company_info"
   ]
  },
  {
   "cell_type": "code",
   "execution_count": 57,
   "metadata": {},
   "outputs": [
    {
     "data": {
      "text/plain": [
       "{'SWIFT識別碼': 'CTCBTWTP',\n",
       " '主要股東': '中國信託金融控股股份有限公司 （100.00%）',\n",
       " '代表人': '董事長： 童兆勤,總經理： 陳佳文',\n",
       " '實收資本額': '新台幣 1,406.9 億元 (2017)',\n",
       " '年營業額': '新台幣 936.8 億元 (2017)',\n",
       " '簡稱': '中國信託、中信銀行、中信商銀、CTBC、CTCB、CTB、中信銀、中信',\n",
       " '網站': '中國信託商業銀行 （繁體中文）',\n",
       " '總部地址': '中華民國,臺北市 南港區 經貿二路 168號（中國信託金融園區）',\n",
       " '股票代號': '臺證所 ： 2891',\n",
       " '郵遞區號': '115-68',\n",
       " '金融代號': '822',\n",
       " '開設日期': '1966年（民國55年）3月14日(52年267天）'}"
      ]
     },
     "execution_count": 57,
     "metadata": {},
     "output_type": "execute_result"
    }
   ],
   "source": [
    "getCompanyInfo('中國信託商業銀行')"
   ]
  },
  {
   "cell_type": "code",
   "execution_count": 58,
   "metadata": {},
   "outputs": [
    {
     "data": {
      "text/plain": [
       "{'主要子公司': '富邦產物保險,富邦人壽保險,台北富邦銀行,富邦綜合證券,富邦金控創業投資,富邦行銷,富邦資產管理,富邦銀行（香港）,運彩科技股份有限公司',\n",
       " '主要股東': '臺北市政府 （13.11%）,明東實業 （8.45%）,道盈實業 （7.73%）,蔡明興 （3.20%）,紅福投資 （2.57%）,蔡明忠 (2.04%)',\n",
       " '代表人物': '董事長 ： 蔡明興,總經理 ： 韓蔚廷',\n",
       " '公司類型': '金融控股公司 、 上市公司',\n",
       " '商業名稱': '富邦金控、富邦金',\n",
       " '實收資本額': '新台幣 108,336,039,950元（2015年）',\n",
       " '成立': '2001年12月19日（16年357天）',\n",
       " '標語口號': '誠信、親切、專業、創新',\n",
       " '母公司': '富邦集團',\n",
       " '每股盈利': '6.21（2015年）',\n",
       " '每股資產淨值': '35.92（2015年）',\n",
       " '營業額': '▼ 新台幣4061.45億元 （2017年）',\n",
       " '產品': '金融服務、保險',\n",
       " '產業': '金融業',\n",
       " '稅前盈餘': '▲ 新台幣580.51億元 （2017年）',\n",
       " '統一編號': '03374805',\n",
       " '網站': 'www.fubon.com',\n",
       " '總資產': '▲ 新台幣6兆9195億元 （2017年）',\n",
       " '總部': '中華民國 （ 臺灣 ）,臺北市 大安區 建國南路一段 237號',\n",
       " '股票代號': '臺證所 ： 2881,LSE ： FBND',\n",
       " '資產淨值': '新台幣 376,077百萬元（2015年）'}"
      ]
     },
     "execution_count": 58,
     "metadata": {},
     "output_type": "execute_result"
    }
   ],
   "source": [
    "getCompanyInfo('富邦金控')"
   ]
  },
  {
   "cell_type": "code",
   "execution_count": 59,
   "metadata": {},
   "outputs": [
    {
     "data": {
      "text/plain": [
       "{'主要子公司': '30家 [2]',\n",
       " '主要股東': '花旗託管台積電存託憑證專戶（20.68%）,中華民國 行政院國家發展基金管理會 （6.38%）,花旗台新加坡（2.64%）',\n",
       " '代表人物': '董事長 ： 劉德音,總裁 ： 魏哲家',\n",
       " '公司類型': '上市公司',\n",
       " '創辦人': '張忠謀 （榮譽董事長）',\n",
       " '實收資本額': '新臺幣 259,303,804,580元',\n",
       " '成立': '1987年2月21日 ( 1987-02-21 )',\n",
       " '營業額': '▲ 新臺幣 9774.47億元（2017年） [1]',\n",
       " '產品': '晶圓代工 服務',\n",
       " '產業': '電子工業',\n",
       " '稅後盈餘': '▲ 新臺幣 3431億元（2017年）',\n",
       " '統一編號': '22099131',\n",
       " '網站': 'www .tsmc .com',\n",
       " '總部': '中華民國,新竹市 東區 力行六路8號',\n",
       " '股票代號': '臺證所 ： 2330,（1994年9月5日上市）,NYSE ： TSM'}"
      ]
     },
     "execution_count": 59,
     "metadata": {},
     "output_type": "execute_result"
    }
   ],
   "source": [
    "getCompanyInfo('台積電')"
   ]
  },
  {
   "cell_type": "markdown",
   "metadata": {},
   "source": [
    "## 金融公司分類\n",
    "- https://zh.wikipedia.org/wiki/Category:%E8%87%BA%E7%81%A3%E7%9A%84%E9%87%91%E8%9E%8D%E6%8E%A7%E8%82%A1%E5%85%AC%E5%8F%B8"
   ]
  },
  {
   "cell_type": "code",
   "execution_count": 60,
   "metadata": {},
   "outputs": [],
   "source": [
    "import pandas\n",
    "company_list = pandas.read_clipboard(header = None)"
   ]
  },
  {
   "cell_type": "code",
   "execution_count": 63,
   "metadata": {},
   "outputs": [
    {
     "data": {
      "text/plain": [
       "['第一金融控股',\n",
       " '富邦金融控股',\n",
       " '國泰金融控股',\n",
       " '國票金融控股',\n",
       " '華南金融控股',\n",
       " '日盛金融控股',\n",
       " '台新金融控股',\n",
       " '臺灣金融控股',\n",
       " '新光金融控股',\n",
       " '元大金融控股',\n",
       " '永豐金融控股',\n",
       " '玉山金融控股',\n",
       " '中華開發金融控股',\n",
       " '兆豐金融控股',\n",
       " '中國信託金融控股',\n",
       " '合作金庫金融控股']"
      ]
     },
     "execution_count": 63,
     "metadata": {},
     "output_type": "execute_result"
    }
   ],
   "source": [
    "company_list[0].tolist()"
   ]
  },
  {
   "cell_type": "code",
   "execution_count": 64,
   "metadata": {},
   "outputs": [],
   "source": [
    "company_list = ['第一金融控股',\n",
    " '富邦金融控股',\n",
    " '國泰金融控股',\n",
    " '國票金融控股',\n",
    " '華南金融控股',\n",
    " '日盛金融控股',\n",
    " '台新金融控股',\n",
    " '臺灣金融控股',\n",
    " '新光金融控股',\n",
    " '元大金融控股',\n",
    " '永豐金融控股',\n",
    " '玉山金融控股',\n",
    " '中華開發金融控股',\n",
    " '兆豐金融控股',\n",
    " '中國信託金融控股',\n",
    " '合作金庫金融控股']"
   ]
  },
  {
   "cell_type": "code",
   "execution_count": 68,
   "metadata": {},
   "outputs": [],
   "source": [
    "company_profiles = []\n",
    "for company in company_list: \n",
    "    profile = getCompanyInfo(company)\n",
    "    profile['公司名稱'] = company\n",
    "    company_profiles.append(profile)"
   ]
  },
  {
   "cell_type": "code",
   "execution_count": 69,
   "metadata": {},
   "outputs": [],
   "source": [
    "company_df = pandas.DataFrame(company_profiles)"
   ]
  },
  {
   "cell_type": "code",
   "execution_count": 71,
   "metadata": {},
   "outputs": [],
   "source": [
    "company_df.to_excel('financial_company.xlsx')"
   ]
  },
  {
   "cell_type": "markdown",
   "metadata": {},
   "source": [
    "## 利用Google 查詢公司子公司"
   ]
  },
  {
   "cell_type": "code",
   "execution_count": 102,
   "metadata": {},
   "outputs": [],
   "source": [
    "import requests\n",
    "googleurl = 'https://www.google.com.tw/search?rlz=1C5CHFA_enTW718TW718&ei=wSETXMKBBtL6kwXd8bm4BQ&q={0}+{1}&oq={0}+{1}&gs_l=psy-ab.3..0i30.1996.3600..4138...0.0..0.127.853.6j3......0....1..gws-wiz.......0.JbpCn4-ONug'\n",
    "res = requests.get(googleurl.format('國泰世華', '子公司'))"
   ]
  },
  {
   "cell_type": "code",
   "execution_count": 103,
   "metadata": {},
   "outputs": [],
   "source": [
    "from bs4 import BeautifulSoup\n",
    "soup = BeautifulSoup(res.text, 'lxml')"
   ]
  },
  {
   "cell_type": "code",
   "execution_count": 104,
   "metadata": {},
   "outputs": [],
   "source": [
    "#res.text"
   ]
  },
  {
   "cell_type": "code",
   "execution_count": 105,
   "metadata": {},
   "outputs": [],
   "source": [
    "company_ary = []\n",
    "for company in soup.select('#ires span'):\n",
    "    if 'st' in company.get('class'):\n",
    "        break\n",
    "    if company.text.strip('，') != '': \n",
    "        company_ary.append(company.text.strip('，'))"
   ]
  },
  {
   "cell_type": "code",
   "execution_count": 106,
   "metadata": {},
   "outputs": [
    {
     "data": {
      "text/plain": [
       "['世越銀行',\n",
       " 'Cathay United Bank (Cambodia) Corporation Limited',\n",
       " 'Cathay United Bank (China) Ltd',\n",
       " 'Seaward Leasing, Ltd.',\n",
       " 'Cathay Life Insurance Agent Co., Ltd.',\n",
       " 'Cathay United Bank Co. Ltd.']"
      ]
     },
     "execution_count": 106,
     "metadata": {},
     "output_type": "execute_result"
    }
   ],
   "source": [
    "company_ary"
   ]
  },
  {
   "cell_type": "code",
   "execution_count": 107,
   "metadata": {},
   "outputs": [],
   "source": [
    "import requests\n",
    "googleurl = 'https://www.google.com.tw/search?rlz=1C5CHFA_enTW718TW718&ei=wSETXMKBBtL6kwXd8bm4BQ&q={0}+{1}&oq={0}+{1}&gs_l=psy-ab.3..0i30.1996.3600..4138...0.0..0.127.853.6j3......0....1..gws-wiz.......0.JbpCn4-ONug'\n",
    "\n",
    "def getSubCompany(keyword):\n",
    "    res = requests.get(googleurl.format(keyword, '子公司'))\n",
    "    soup = BeautifulSoup(res.text, 'lxml')\n",
    "    company_ary = []\n",
    "    for company in soup.select('#ires span'):\n",
    "        if 'st' in company.get('class'):\n",
    "            break\n",
    "        if company.text.strip('，') != '': \n",
    "            company_ary.append(company.text.strip('，'))\n",
    "    return company_ary"
   ]
  },
  {
   "cell_type": "code",
   "execution_count": 109,
   "metadata": {},
   "outputs": [
    {
     "data": {
      "text/plain": [
       "['SSMC',\n",
       " 'WaferTech',\n",
       " 'QUALCOMM Panel Manufacturing Ltd.',\n",
       " 'TSMC North America, Inc.',\n",
       " 'TSMC Global Ltd.',\n",
       " 'TSMC (Nanjing) Co. Ltd',\n",
       " 'Tsmc Korea Limited',\n",
       " 'TSMC Guang Neng Investment, Ltd.',\n",
       " 'TSMC China Company Limited',\n",
       " 'Tsmc Europe B.v.',\n",
       " 'Tsmc Japan Limited',\n",
       " 'VisEra Holding Company',\n",
       " 'Tsmc Technology, Inc.',\n",
       " 'Tsmc Design Technology Canada Inc.',\n",
       " 'TSMC Solar Europe B.V.',\n",
       " 'Tsmc Solar North America, Inc']"
      ]
     },
     "execution_count": 109,
     "metadata": {},
     "output_type": "execute_result"
    }
   ],
   "source": [
    "getSubCompany('台積電')"
   ]
  },
  {
   "cell_type": "markdown",
   "metadata": {},
   "source": [
    "## 中英譯名查詢"
   ]
  },
  {
   "cell_type": "code",
   "execution_count": 112,
   "metadata": {},
   "outputs": [],
   "source": [
    "import requests\n",
    "headers = {\n",
    " 'User-Agent': 'Mozilla/5.0 (Macintosh; Intel Mac OS X 10_13_6) AppleWebKit/537.36 (KHTML, like Gecko) Chrome/70.0.3538.110 Safari/537.36'   \n",
    "}\n",
    "res = requests.get('https://www.post.gov.tw/post/internet/Templates/creat_checkImage3.jsp?rand=0.95517516&vKey=81354b99-91ae-45cf-9137-21c109d30de6', headers = headers)"
   ]
  },
  {
   "cell_type": "code",
   "execution_count": 113,
   "metadata": {},
   "outputs": [],
   "source": [
    "with open('captcha.jpg', 'wb') as f:\n",
    "    f.write(res.content)"
   ]
  },
  {
   "cell_type": "code",
   "execution_count": 114,
   "metadata": {},
   "outputs": [
    {
     "data": {
      "image/png": "[encoded data removed]",
      "text/plain": [
       "<PIL.JpegImagePlugin.JpegImageFile image mode=RGB size=120x40 at 0x11DCCB630>"
      ]
     },
     "execution_count": 114,
     "metadata": {},
     "output_type": "execute_result"
    }
   ],
   "source": [
    "from PIL import Image\n",
    "Image.open('captcha.jpg')"
   ]
  },
  {
   "cell_type": "code",
   "execution_count": 115,
   "metadata": {},
   "outputs": [
    {
     "name": "stdout",
     "output_type": "stream",
     "text": [
      "Requirement already satisfied: pytesseract in /Users/davidchiu/.pyenv/versions/3.6.2/lib/python3.6/site-packages\n",
      "Requirement already satisfied: Pillow in /Users/davidchiu/.pyenv/versions/3.6.2/lib/python3.6/site-packages (from pytesseract)\n",
      "\u001b[33mYou are using pip version 9.0.1, however version 18.1 is available.\n",
      "You should consider upgrading via the 'pip install --upgrade pip' command.\u001b[0m\n"
     ]
    }
   ],
   "source": [
    "! pip install pytesseract"
   ]
  },
  {
   "cell_type": "code",
   "execution_count": 117,
   "metadata": {},
   "outputs": [
    {
     "name": "stdout",
     "output_type": "stream",
     "text": [
      "3197\n"
     ]
    }
   ],
   "source": [
    "import pytesseract\n",
    "print(pytesseract.image_to_string(Image.open('captcha.jpg')))"
   ]
  },
  {
   "cell_type": "code",
   "execution_count": 118,
   "metadata": {},
   "outputs": [],
   "source": [
    "payload = {\n",
    "'do_s_1':'1',\n",
    "'vKey':'fee348a7-0956-4e0b-ad87-46fccc837b5c',\n",
    "'showMode':'1',\n",
    "'city':'臺北市',\n",
    "'change_city':'2',\n",
    "'cityarea':'中山區',\n",
    "'street':'南京東路２段',\n",
    "'lane':'',\n",
    "'alley':'',\n",
    "'num':'137',\n",
    "'num_hyphen':'',\n",
    "'fl':'14',\n",
    "'hyphen':'',\n",
    "'suite':'',\n",
    "'list':'true',\n",
    "'checkImange':'8553',\n",
    "'submit':'查詢',  \n",
    "}\n",
    "res2 = requests.post('https://www.post.gov.tw/post/internet/Postal/index.jsp?ID=207', data = payload, headers = headers)"
   ]
  },
  {
   "cell_type": "code",
   "execution_count": 123,
   "metadata": {},
   "outputs": [],
   "source": [
    "payload = {\n",
    "'do_s_1':'1',\n",
    "'vKey':'fee348a7-0956-4e0b-ad87-46fccc837b5c',\n",
    "'showMode':'1',\n",
    "'city':'臺北市',\n",
    "'change_city':'2',\n",
    "'cityarea':'中山區',\n",
    "'street':'玉門街',\n",
    "'lane':'',\n",
    "'alley':'',\n",
    "'num':'1',\n",
    "'num_hyphen':'',\n",
    "'fl':'',\n",
    "'hyphen':'',\n",
    "'suite':'',\n",
    "'list':'true',\n",
    "'checkImange':'8553',\n",
    "'submit':'查詢',  \n",
    "}\n",
    "res2 = requests.post('https://www.post.gov.tw/post/internet/Postal/index.jsp?ID=207', data = payload, headers = headers)"
   ]
  },
  {
   "cell_type": "code",
   "execution_count": 124,
   "metadata": {},
   "outputs": [],
   "source": [
    "from bs4 import BeautifulSoup\n",
    "soup2 = BeautifulSoup(res2.text, 'lxml')"
   ]
  },
  {
   "cell_type": "code",
   "execution_count": 125,
   "metadata": {},
   "outputs": [
    {
     "data": {
      "text/plain": [
       "'No.1, Yumen St., Zhongshan Dist., Taipei City 104, Taiwan (R.O.C.)'"
      ]
     },
     "execution_count": 125,
     "metadata": {},
     "output_type": "execute_result"
    }
   ],
   "source": [
    "soup2.select_one('#tb1 td').text"
   ]
  },
  {
   "cell_type": "markdown",
   "metadata": {},
   "source": [
    "## 經濟部─公司及分公司基本資料查詢"
   ]
  },
  {
   "cell_type": "code",
   "execution_count": 18,
   "metadata": {},
   "outputs": [],
   "source": [
    "import requests\n",
    "headers = {\n",
    " 'Cookie': 'JSESSIONID=451C9443D663EAAD2DE8CC85C025EB16',\n",
    " 'Referer': 'https://serv.gcis.nat.gov.tw/pub/cmpy/cmpyInfoListAction.do;jsessionid=451C9443D663EAAD2DE8CC85C025EB16'   \n",
    "}\n",
    "res = requests.get('https://serv.gcis.nat.gov.tw/pub/kaptcha.jpg', headers = headers)\n",
    "with open('kaptcha.jpg', 'wb') as f:\n",
    "    f.write(res.content)"
   ]
  },
  {
   "cell_type": "code",
   "execution_count": 19,
   "metadata": {},
   "outputs": [
    {
     "data": {
      "image/png": "[encoded data removed]",
      "text/plain": [
       "<PIL.JpegImagePlugin.JpegImageFile image mode=RGB size=120x40 at 0x10E16F940>"
      ]
     },
     "execution_count": 19,
     "metadata": {},
     "output_type": "execute_result"
    }
   ],
   "source": [
    "from PIL import Image\n",
    "Image.open('kaptcha.jpg')"
   ]
  },
  {
   "cell_type": "code",
   "execution_count": 20,
   "metadata": {},
   "outputs": [],
   "source": [
    "?pytesseract.image_to_string"
   ]
  },
  {
   "cell_type": "code",
   "execution_count": 39,
   "metadata": {},
   "outputs": [
    {
     "data": {
      "text/plain": [
       "'m\\nm\\n\\n04'"
      ]
     },
     "execution_count": 39,
     "metadata": {},
     "output_type": "execute_result"
    }
   ],
   "source": [
    "import pytesseract\n",
    "pytesseract.image_to_string(Image.open('kaptcha.jpg'))"
   ]
  },
  {
   "cell_type": "code",
   "execution_count": 38,
   "metadata": {},
   "outputs": [
    {
     "name": "stdout",
     "output_type": "stream",
     "text": [
      "\n"
     ]
    }
   ],
   "source": [
    "import pytesseract\n",
    "from PIL import Image\n",
    "#pytesseract.pytesseract.tesseract_cmd = r'./tesseract'\n",
    "print(pytesseract.image_to_string(Image.open('kaptcha.jpg'), \\\n",
    "                        boxes = False,\n",
    "                        config='--psm 8 --oem 3 -c tessedit_char_whitelist=0123456789'))"
   ]
  },
  {
   "cell_type": "markdown",
   "metadata": {},
   "source": [
    "## 抓取 PTT"
   ]
  },
  {
   "cell_type": "code",
   "execution_count": 41,
   "metadata": {},
   "outputs": [],
   "source": [
    "import requests\n",
    "cookies = {'over18':'1'}\n",
    "res = requests.get('https://www.ptt.cc/bbs/Creditcard/index.html', cookies = cookies)"
   ]
  },
  {
   "cell_type": "code",
   "execution_count": 43,
   "metadata": {},
   "outputs": [],
   "source": [
    "from bs4 import BeautifulSoup\n",
    "soup = BeautifulSoup(res.text, 'lxml')\n",
    "#soup.select('.r-ent')"
   ]
  },
  {
   "cell_type": "code",
   "execution_count": 64,
   "metadata": {},
   "outputs": [],
   "source": [
    "pagenum = int(soup.select('.btn')[3].get('href').split('index')[1].split('.html')[0])"
   ]
  },
  {
   "cell_type": "code",
   "execution_count": 66,
   "metadata": {},
   "outputs": [
    {
     "name": "stdout",
     "output_type": "stream",
     "text": [
      "2897\n",
      "2896\n",
      "2895\n",
      "2894\n",
      "2893\n"
     ]
    }
   ],
   "source": [
    "for ele in range(pagenum, pagenum - 5, -1):\n",
    "    print(ele)"
   ]
  },
  {
   "cell_type": "code",
   "execution_count": 58,
   "metadata": {},
   "outputs": [],
   "source": [
    "articles = []\n",
    "domain = 'https://www.ptt.cc'\n",
    "for ent in soup.select('.r-ent'):\n",
    "    if ent.select_one('a'):\n",
    "        article = {}\n",
    "        article['cnt'] = ent.select_one('.nrec').text.strip()\n",
    "        article['title'] = ent.select_one('.title').text.strip()\n",
    "        article['link']   = domain + ent.select_one('a').get('href')\n",
    "        article['author'] = ent.select_one('.author').text.strip()\n",
    "        articles.append(article)\n",
    "    #print(ent)\n",
    "    #print('=============================')"
   ]
  },
  {
   "cell_type": "code",
   "execution_count": 59,
   "metadata": {},
   "outputs": [
    {
     "data": {
      "text/html": [
       "<div>\n",
       "<style scoped>\n",
       "    .dataframe tbody tr th:only-of-type {\n",
       "        vertical-align: middle;\n",
       "    }\n",
       "\n",
       "    .dataframe tbody tr th {\n",
       "        vertical-align: top;\n",
       "    }\n",
       "\n",
       "    .dataframe thead th {\n",
       "        text-align: right;\n",
       "    }\n",
       "</style>\n",
       "<table border=\"1\" class=\"dataframe\">\n",
       "  <thead>\n",
       "    <tr style=\"text-align: right;\">\n",
       "      <th></th>\n",
       "      <th>author</th>\n",
       "      <th>cnt</th>\n",
       "      <th>link</th>\n",
       "      <th>title</th>\n",
       "    </tr>\n",
       "  </thead>\n",
       "  <tbody>\n",
       "    <tr>\n",
       "      <th>0</th>\n",
       "      <td>q99663</td>\n",
       "      <td>X3</td>\n",
       "      <td>https://www.ptt.cc/bbs/creditcard/M.1544754989...</td>\n",
       "      <td>[問題] 國泰KOKO卡推薦人</td>\n",
       "    </tr>\n",
       "    <tr>\n",
       "      <th>1</th>\n",
       "      <td>mayyr</td>\n",
       "      <td>1</td>\n",
       "      <td>https://www.ptt.cc/bbs/creditcard/M.1544762112...</td>\n",
       "      <td>[問題] 請問koko的新戶禮500元回饋時間？</td>\n",
       "    </tr>\n",
       "    <tr>\n",
       "      <th>2</th>\n",
       "      <td>VampirePY</td>\n",
       "      <td>6</td>\n",
       "      <td>https://www.ptt.cc/bbs/creditcard/M.1544762736...</td>\n",
       "      <td>[問題] 請推薦里程卡,謝謝</td>\n",
       "    </tr>\n",
       "    <tr>\n",
       "      <th>3</th>\n",
       "      <td>rachmandavid</td>\n",
       "      <td>26</td>\n",
       "      <td>https://www.ptt.cc/bbs/creditcard/M.1544763418...</td>\n",
       "      <td>[心得] 聊聊2019小資現金回饋刷卡攻略~</td>\n",
       "    </tr>\n",
       "    <tr>\n",
       "      <th>4</th>\n",
       "      <td>usedata</td>\n",
       "      <td>1</td>\n",
       "      <td>https://www.ptt.cc/bbs/creditcard/M.1544764046...</td>\n",
       "      <td>Re: [閒聊] 唯你獨享,國泰他行帳戶繳拿10元/抽獎</td>\n",
       "    </tr>\n",
       "    <tr>\n",
       "      <th>5</th>\n",
       "      <td>MoonAthenaX</td>\n",
       "      <td>5</td>\n",
       "      <td>https://www.ptt.cc/bbs/creditcard/M.1488251491...</td>\n",
       "      <td>[公告] === 卡板板規 V8.0 === (2018/05/25修訂)</td>\n",
       "    </tr>\n",
       "    <tr>\n",
       "      <th>6</th>\n",
       "      <td>bboy0720</td>\n",
       "      <td>爆</td>\n",
       "      <td>https://www.ptt.cc/bbs/creditcard/M.1425488177...</td>\n",
       "      <td>[公告] 置底檢舉專區</td>\n",
       "    </tr>\n",
       "    <tr>\n",
       "      <th>7</th>\n",
       "      <td>MoonAthenaX</td>\n",
       "      <td>71</td>\n",
       "      <td>https://www.ptt.cc/bbs/creditcard/M.1425873650...</td>\n",
       "      <td>[情報] 各家銀行0800免付費電話</td>\n",
       "    </tr>\n",
       "    <tr>\n",
       "      <th>8</th>\n",
       "      <td>DarkRobert</td>\n",
       "      <td>爆</td>\n",
       "      <td>https://www.ptt.cc/bbs/creditcard/M.1528898930...</td>\n",
       "      <td>[心得] 小資族 日常消費 最優惠回饋 整理(11/08)</td>\n",
       "    </tr>\n",
       "  </tbody>\n",
       "</table>\n",
       "</div>"
      ],
      "text/plain": [
       "         author cnt                                               link  \\\n",
       "0        q99663  X3  https://www.ptt.cc/bbs/creditcard/M.1544754989...   \n",
       "1         mayyr   1  https://www.ptt.cc/bbs/creditcard/M.1544762112...   \n",
       "2     VampirePY   6  https://www.ptt.cc/bbs/creditcard/M.1544762736...   \n",
       "3  rachmandavid  26  https://www.ptt.cc/bbs/creditcard/M.1544763418...   \n",
       "4       usedata   1  https://www.ptt.cc/bbs/creditcard/M.1544764046...   \n",
       "5   MoonAthenaX   5  https://www.ptt.cc/bbs/creditcard/M.1488251491...   \n",
       "6      bboy0720   爆  https://www.ptt.cc/bbs/creditcard/M.1425488177...   \n",
       "7   MoonAthenaX  71  https://www.ptt.cc/bbs/creditcard/M.1425873650...   \n",
       "8    DarkRobert   爆  https://www.ptt.cc/bbs/creditcard/M.1528898930...   \n",
       "\n",
       "                                   title  \n",
       "0                        [問題] 國泰KOKO卡推薦人  \n",
       "1               [問題] 請問koko的新戶禮500元回饋時間？  \n",
       "2                         [問題] 請推薦里程卡,謝謝  \n",
       "3                 [心得] 聊聊2019小資現金回饋刷卡攻略~  \n",
       "4           Re: [閒聊] 唯你獨享,國泰他行帳戶繳拿10元/抽獎  \n",
       "5  [公告] === 卡板板規 V8.0 === (2018/05/25修訂)  \n",
       "6                            [公告] 置底檢舉專區  \n",
       "7                     [情報] 各家銀行0800免付費電話  \n",
       "8          [心得] 小資族 日常消費 最優惠回饋 整理(11/08)  "
      ]
     },
     "execution_count": 59,
     "metadata": {},
     "output_type": "execute_result"
    }
   ],
   "source": [
    "import pandas\n",
    "df = pandas.DataFrame(articles)\n",
    "df"
   ]
  },
  {
   "cell_type": "code",
   "execution_count": 106,
   "metadata": {},
   "outputs": [
    {
     "name": "stdout",
     "output_type": "stream",
     "text": [
      "2897\n",
      "2896\n",
      "2895\n",
      "2894\n",
      "2893\n"
     ]
    }
   ],
   "source": [
    "import requests\n",
    "cookies = {'over18':'1'}\n",
    "res = requests.get('https://www.ptt.cc/bbs/Creditcard/index.html', cookies = cookies)\n",
    "soup = BeautifulSoup(res.text, 'lxml')\n",
    "\n",
    "pagenum = int(soup.select('.btn')[3].get('href').split('index')[1].split('.html')[0])\n",
    "articles = []\n",
    "for p in range(pagenum, pagenum - 5, -1):\n",
    "    res = requests.get('https://www.ptt.cc/bbs/Creditcard/index{}.html'.format(p), cookies = cookies)\n",
    "    soup = BeautifulSoup(res.text, 'lxml')\n",
    "    domain = 'https://www.ptt.cc'\n",
    "    for ent in soup.select('.r-ent'):\n",
    "        if ent.select_one('a'):\n",
    "            article = {}\n",
    "            article['cnt'] = ent.select_one('.nrec').text.strip()\n",
    "            article['title'] = ent.select_one('.title').text.strip()\n",
    "            article['link']   = domain + ent.select_one('a').get('href')\n",
    "            article['author'] = ent.select_one('.author').text.strip()\n",
    "            articles.append(article)\n",
    "    print(p)"
   ]
  },
  {
   "cell_type": "code",
   "execution_count": 107,
   "metadata": {},
   "outputs": [
    {
     "data": {
      "text/html": [
       "<div>\n",
       "<style scoped>\n",
       "    .dataframe tbody tr th:only-of-type {\n",
       "        vertical-align: middle;\n",
       "    }\n",
       "\n",
       "    .dataframe tbody tr th {\n",
       "        vertical-align: top;\n",
       "    }\n",
       "\n",
       "    .dataframe thead th {\n",
       "        text-align: right;\n",
       "    }\n",
       "</style>\n",
       "<table border=\"1\" class=\"dataframe\">\n",
       "  <thead>\n",
       "    <tr style=\"text-align: right;\">\n",
       "      <th></th>\n",
       "      <th>author</th>\n",
       "      <th>cnt</th>\n",
       "      <th>link</th>\n",
       "      <th>title</th>\n",
       "    </tr>\n",
       "  </thead>\n",
       "  <tbody>\n",
       "    <tr>\n",
       "      <th>0</th>\n",
       "      <td>MONTECARLOO</td>\n",
       "      <td>24</td>\n",
       "      <td>https://www.ptt.cc/bbs/creditcard/M.1544668059...</td>\n",
       "      <td>[閒聊] 2019頂級卡，請推薦</td>\n",
       "    </tr>\n",
       "    <tr>\n",
       "      <th>1</th>\n",
       "      <td>KSchuang</td>\n",
       "      <td>3</td>\n",
       "      <td>https://www.ptt.cc/bbs/creditcard/M.1544671503...</td>\n",
       "      <td>Re: [閒聊] 2019頂級卡推薦</td>\n",
       "    </tr>\n",
       "    <tr>\n",
       "      <th>2</th>\n",
       "      <td>tengobo</td>\n",
       "      <td>8</td>\n",
       "      <td>https://www.ptt.cc/bbs/creditcard/M.1544671942...</td>\n",
       "      <td>[問題] 玉山pi錢包信用卡</td>\n",
       "    </tr>\n",
       "  </tbody>\n",
       "</table>\n",
       "</div>"
      ],
      "text/plain": [
       "        author cnt                                               link  \\\n",
       "0  MONTECARLOO  24  https://www.ptt.cc/bbs/creditcard/M.1544668059...   \n",
       "1     KSchuang   3  https://www.ptt.cc/bbs/creditcard/M.1544671503...   \n",
       "2      tengobo   8  https://www.ptt.cc/bbs/creditcard/M.1544671942...   \n",
       "\n",
       "                title  \n",
       "0    [閒聊] 2019頂級卡，請推薦  \n",
       "1  Re: [閒聊] 2019頂級卡推薦  \n",
       "2      [問題] 玉山pi錢包信用卡  "
      ]
     },
     "execution_count": 107,
     "metadata": {},
     "output_type": "execute_result"
    }
   ],
   "source": [
    "import pandas\n",
    "df = pandas.DataFrame(articles)\n",
    "df.head(3)"
   ]
  },
  {
   "cell_type": "code",
   "execution_count": 70,
   "metadata": {},
   "outputs": [],
   "source": [
    "res = requests.get('https://www.ptt.cc/bbs/creditcard/M.1544685460.A.38C.html')\n",
    "soup = BeautifulSoup(res.text, 'lxml')"
   ]
  },
  {
   "cell_type": "code",
   "execution_count": 78,
   "metadata": {},
   "outputs": [],
   "source": [
    "metadic = {}\n",
    "for meta in soup.select('.article-metaline'):\n",
    "    metadic[meta.select_one('.article-meta-tag').text] = meta.select_one('.article-meta-value').text"
   ]
  },
  {
   "cell_type": "code",
   "execution_count": 79,
   "metadata": {},
   "outputs": [
    {
     "data": {
      "text/plain": [
       "{'作者': 'LIN9 (LIN9)',\n",
       " '時間': 'Thu Dec 13 15:17:37 2018',\n",
       " '標題': '[新聞] 驚！明年5大信用卡狂砍優惠\\u3000折現金、될'}"
      ]
     },
     "execution_count": 79,
     "metadata": {},
     "output_type": "execute_result"
    }
   ],
   "source": [
    "metadic"
   ]
  },
  {
   "cell_type": "code",
   "execution_count": 85,
   "metadata": {},
   "outputs": [
    {
     "data": {
      "text/plain": [
       "'\\n新聞來源:蘋果\\n\\n新聞標題:驚！明年5大信用卡狂砍優惠\\u3000折現金、換哩程統統縮水\\n\\n新聞內容:\\n年底聖誕跨年到明年2月農曆過年消費高峰，但逢新舊年度交接，明年起信用卡權益再見\\n縮水，多家銀行近日陸續公告新辦法，範圍從點數累積、紅利折抵、停車優惠等門檻的提\\n高。\\n\\n花旗銀公布從明年1月27日起「饗樂生活卡」紅利折抵威秀影城消費，從每15點提高至20\\n點才可以折抵1元；另包括「鑽石卡」、「超級紅利回饋卡」、「饗樂生活卡」等卡別同\\n樣折抵王品集團旗下指定品牌餐廳也是提高至20點1元。\\n\\n另外花旗也規定明年1月27日起包含亞洲萬里通、中華、長榮、新加坡、泰國航空、及優\\n悅會/IHG洲際酒店點數轉換3點＝1里數／會員積分變更成每6000點 = 1200里數／會員積\\n分；若以目前來換算6000點可以換到2000里數／會員積分，新制兌換起點、可換里數門檻\\n都大幅升高。\\n\\n凱基銀也公告從明年起信用卡在特店刷卡使用分期消費服務，不再計算現金回饋或紅利積\\n點。新光銀對刷卡支付新光人壽從現行除傳統型續期保險費或投資型保單不計入計算外，\\n從明年起所有保費都不能累積紅利或現金回饋。\\n\\n在停車部分，聯邦銀行微風聯名卡中針對微風「南京館」從明年起平日停車優惠加入必需\\n消費規定，無限卡平假日加入「不限金額任刷一筆」才可以享停車優惠4小時，御璽、鈦\\n金、晶緻卡平日消費需刷卡300元，白金卡平日消費需刷卡200元才可以享有停車優惠3小\\n時，假日規範不變。\\n\\n國泰世華銀目前提供世界卡、無限卡國際機場外圍停車權益只要8成以上國外旅遊團費或\\n機票就可以享有每次30天免費，但明年起規定單筆刷卡金額需達1萬元以上。至於商務卡\\n、御璽卡、白金卡 等過去只對每次免費天數限7天，現新增一年僅限2次。\\n\\n王道銀行(2897)簽帳金融卡明年回饋也將大幅縮水，王道卡友原先祭出國內消費1.5%、海\\n外消費2.3%現金回饋無上限，但明年起僅享1%無上限。若是滿足條件的加碼回饋，亦修改\\n為國內消費僅1.3%，海外減少至1.8%回饋金。\\n\\n中國信託商銀的LINE Pay信用卡，現一般消費可享最高LINE Points2%點數回饋，1點等同\\n於現金1元，且線上線下合計超過5萬個支付點，但明年傳出回饋要從2%縮水至1%。（林潔\\n禎／台北報導）\\n\\n新聞網址:'"
      ]
     },
     "execution_count": 85,
     "metadata": {},
     "output_type": "execute_result"
    }
   ],
   "source": [
    "soup.select_one('#main-content').contents[4]"
   ]
  },
  {
   "cell_type": "code",
   "execution_count": 86,
   "metadata": {},
   "outputs": [
    {
     "data": {
      "text/plain": [
       "<a href=\"https://goo.gl/k8Sszi\" rel=\"nofollow\" target=\"_blank\">https://goo.gl/k8Sszi</a>"
      ]
     },
     "execution_count": 86,
     "metadata": {},
     "output_type": "execute_result"
    }
   ],
   "source": [
    "soup.select_one('#main-content').contents[5]"
   ]
  },
  {
   "cell_type": "code",
   "execution_count": 87,
   "metadata": {},
   "outputs": [
    {
     "data": {
      "text/plain": [
       "'\\n\\n\\n--\\n'"
      ]
     },
     "execution_count": 87,
     "metadata": {},
     "output_type": "execute_result"
    }
   ],
   "source": [
    "soup.select_one('#main-content').contents[6]"
   ]
  },
  {
   "cell_type": "code",
   "execution_count": 104,
   "metadata": {},
   "outputs": [],
   "source": [
    "maincontent = soup.select_one('#main-content')\n",
    "article_contents = []\n",
    "for c in maincontent.contents[4:]:\n",
    "    #print(str(c))\n",
    "    if str(c).strip() == '--':\n",
    "        break\n",
    "    article_contents.append(str(c).strip())"
   ]
  },
  {
   "cell_type": "code",
   "execution_count": 105,
   "metadata": {},
   "outputs": [
    {
     "data": {
      "text/plain": [
       "'新聞來源:蘋果\\n\\n新聞標題:驚！明年5大信用卡狂砍優惠\\u3000折現金、換哩程統統縮水\\n\\n新聞內容:\\n年底聖誕跨年到明年2月農曆過年消費高峰，但逢新舊年度交接，明年起信用卡權益再見\\n縮水，多家銀行近日陸續公告新辦法，範圍從點數累積、紅利折抵、停車優惠等門檻的提\\n高。\\n\\n花旗銀公布從明年1月27日起「饗樂生活卡」紅利折抵威秀影城消費，從每15點提高至20\\n點才可以折抵1元；另包括「鑽石卡」、「超級紅利回饋卡」、「饗樂生活卡」等卡別同\\n樣折抵王品集團旗下指定品牌餐廳也是提高至20點1元。\\n\\n另外花旗也規定明年1月27日起包含亞洲萬里通、中華、長榮、新加坡、泰國航空、及優\\n悅會/IHG洲際酒店點數轉換3點＝1里數／會員積分變更成每6000點 = 1200里數／會員積\\n分；若以目前來換算6000點可以換到2000里數／會員積分，新制兌換起點、可換里數門檻\\n都大幅升高。\\n\\n凱基銀也公告從明年起信用卡在特店刷卡使用分期消費服務，不再計算現金回饋或紅利積\\n點。新光銀對刷卡支付新光人壽從現行除傳統型續期保險費或投資型保單不計入計算外，\\n從明年起所有保費都不能累積紅利或現金回饋。\\n\\n在停車部分，聯邦銀行微風聯名卡中針對微風「南京館」從明年起平日停車優惠加入必需\\n消費規定，無限卡平假日加入「不限金額任刷一筆」才可以享停車優惠4小時，御璽、鈦\\n金、晶緻卡平日消費需刷卡300元，白金卡平日消費需刷卡200元才可以享有停車優惠3小\\n時，假日規範不變。\\n\\n國泰世華銀目前提供世界卡、無限卡國際機場外圍停車權益只要8成以上國外旅遊團費或\\n機票就可以享有每次30天免費，但明年起規定單筆刷卡金額需達1萬元以上。至於商務卡\\n、御璽卡、白金卡 等過去只對每次免費天數限7天，現新增一年僅限2次。\\n\\n王道銀行(2897)簽帳金融卡明年回饋也將大幅縮水，王道卡友原先祭出國內消費1.5%、海\\n外消費2.3%現金回饋無上限，但明年起僅享1%無上限。若是滿足條件的加碼回饋，亦修改\\n為國內消費僅1.3%，海外減少至1.8%回饋金。\\n\\n中國信託商銀的LINE Pay信用卡，現一般消費可享最高LINE Points2%點數回饋，1點等同\\n於現金1元，且線上線下合計超過5萬個支付點，但明年傳出回饋要從2%縮水至1%。（林潔\\n禎／台北報導）\\n\\n新聞網址: <a href=\"https://goo.gl/k8Sszi\" rel=\"nofollow\" target=\"_blank\">https://goo.gl/k8Sszi</a>'"
      ]
     },
     "execution_count": 105,
     "metadata": {},
     "output_type": "execute_result"
    }
   ],
   "source": [
    "' '.join(article_contents)"
   ]
  },
  {
   "cell_type": "code",
   "execution_count": 116,
   "metadata": {},
   "outputs": [],
   "source": [
    "def getArticle(url):\n",
    "    res = requests.get(url)\n",
    "    soup = BeautifulSoup(res.text, 'lxml')\n",
    "    dic = {}\n",
    "    for meta in soup.select('.article-metaline'):\n",
    "        dic[meta.select_one('.article-meta-tag').text] = meta.select_one('.article-meta-value').text\n",
    "    maincontent = soup.select_one('#main-content')\n",
    "    article_contents = []\n",
    "    for c in maincontent.contents[4:]:\n",
    "        article_contents.append(str(c).strip()) \n",
    "        if '--' in str(c).strip():\n",
    "            break\n",
    "    dic['content'] = ' '.join(article_contents)\n",
    "    return dic"
   ]
  },
  {
   "cell_type": "code",
   "execution_count": 118,
   "metadata": {},
   "outputs": [
    {
     "data": {
      "text/plain": [
       "{'content': '修改了標題，我是希望大家推薦，不是我要推薦啦~XP\\n\\n這幾天在幫家人挑選適合的頂卡，主要看的是機場接送/貴賓室/市區停車/免年費資格幾\\n項，申請者的年收200~300，應該都符合申請門檻，但免年費的認定含稅不含稅就差異很\\n大了（希望可用稅養）\\n\\n鎖定了以下幾張：\\n\\n● 中信鼎極：年消費36萬認定含稅，年收符合又是薪轉户，雖然權益縮水，原本以為最\\n容易，但後來發現現在取消首年免年費（需符合某些條件)，後來就殘念了\\n\\n●  玉山世界：申請與年費門檻都算低，貴賓室使用條件也不難（六個月內刷機票團費，\\n前一個月消費5000)，但機場接送要刷滿兩萬，日本線很容易達不到，這張應該會申請來\\n備用 （但看板上說2019權益會再縮……要觀望）\\n\\n● 日盛無限：網頁上就可下載申請書，免年費門檻是很硬的一般消費30萬，但貴賓室機\\n場接送只要三個月內刷，都沒金額限制，停車也是上期有新增消費即可，如果2019權益不\\n改，還不錯\\n\\n● 富邦世界（或尊御世界）\\n這兩張差在免年費認定前者含稅後者不含，其實如果使用量不大，刷6000就可以使用貴賓\\n室跟接送，世界卡容易養，尊御適合出國中度使用者，但是……昨天收到理專通知，我自\\n己使用中的尊御修改了2019權益，看完後覺得如果尊御都這樣，世界卡應該也會再縮……\\n（觀望中） <a href=\"https://i.imgur.com/KB6hJO8.jpg\" rel=\"nofollow\" target=\"_blank\">https://i.imgur.com/KB6hJO8.jpg</a>  <div class=\"richcontent\"><blockquote class=\"imgur-embed-pub\" data-id=\"KB6hJO8\" lang=\"en\"><a href=\"//imgur.com/KB6hJO8\"></a></blockquote><script async=\"\" charset=\"utf-8\" src=\"//s.imgur.com/min/embed.js\"></script></div> 請問還有沒有比較推薦或值得注意的頂卡呢？ 先謝謝各位前輩了~\\n\\n--',\n",
       " '作者': 'MONTECARLOO (快樂是最重要的)',\n",
       " '時間': 'Thu Dec 13 10:27:37 2018',\n",
       " '標題': '[閒聊] 2019頂級卡,請推薦'}"
      ]
     },
     "execution_count": 118,
     "metadata": {},
     "output_type": "execute_result"
    }
   ],
   "source": [
    "getArticle('https://www.ptt.cc/bbs/creditcard/M.1544668059.A.C5F.html')"
   ]
  },
  {
   "cell_type": "code",
   "execution_count": null,
   "metadata": {},
   "outputs": [],
   "source": [
    "totalarticles = []\n",
    "for ele in articles:\n",
    "    totalarticles.append(getArticle(ele.get('link')))"
   ]
  },
  {
   "cell_type": "code",
   "execution_count": null,
   "metadata": {},
   "outputs": [],
   "source": [
    "import pandas\n",
    "totaldf = pandas.DataFrame(totalarticles)\n",
    "totaldf"
   ]
  }
 ],
 "metadata": {
  "kernelspec": {
   "display_name": "Python 3",
   "language": "python",
   "name": "python3"
  },
  "language_info": {
   "codemirror_mode": {
    "name": "ipython",
    "version": 3
   },
   "file_extension": ".py",
   "mimetype": "text/x-python",
   "name": "python",
   "nbconvert_exporter": "python",
   "pygments_lexer": "ipython3",
   "version": "3.6.2"
  }
 },
 "nbformat": 4,
 "nbformat_minor": 2
}
