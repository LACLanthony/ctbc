{
 "cells": [
  {
   "cell_type": "markdown",
   "metadata": {},
   "source": [
    "## 利用維基百科查詢企業資訊"
   ]
  },
  {
   "cell_type": "code",
   "execution_count": 33,
   "metadata": {},
   "outputs": [],
   "source": [
    "import requests\n",
    "res = requests.get('https://zh.wikipedia.org/zh-tw/Google')"
   ]
  },
  {
   "cell_type": "code",
   "execution_count": 34,
   "metadata": {},
   "outputs": [],
   "source": [
    "from bs4 import BeautifulSoup\n",
    "soup = BeautifulSoup(res.text, 'lxml')"
   ]
  },
  {
   "cell_type": "code",
   "execution_count": 35,
   "metadata": {},
   "outputs": [],
   "source": [
    "#soup.select_one('.infobox')\n",
    "#soup.select_one('.vcard')\n",
    "vcard = soup.select_one('.infobox.vcard')"
   ]
  },
  {
   "cell_type": "markdown",
   "metadata": {},
   "source": [
    "## W3School Table\n",
    "- https://www.w3schools.com/html/html_tables.asp"
   ]
  },
  {
   "cell_type": "code",
   "execution_count": 36,
   "metadata": {},
   "outputs": [],
   "source": [
    "a = 1\n",
    "\n",
    "if a > 3:\n",
    "    print('GO')\n"
   ]
  },
  {
   "cell_type": "code",
   "execution_count": 37,
   "metadata": {},
   "outputs": [
    {
     "name": "stdout",
     "output_type": "stream",
     "text": [
      "GO\n"
     ]
    }
   ],
   "source": [
    "#a = None\n",
    "#a= False\n",
    "#a = []\n",
    "#a = {}\n",
    "if a:\n",
    "    print('GO')"
   ]
  },
  {
   "cell_type": "code",
   "execution_count": 38,
   "metadata": {},
   "outputs": [
    {
     "name": "stdout",
     "output_type": "stream",
     "text": [
      "GO\n"
     ]
    }
   ],
   "source": [
    "#a = True\n",
    "#a = 9\n",
    "#a = [1]\n",
    "#a = {1}\n",
    "if a:\n",
    "    print('GO')"
   ]
  },
  {
   "cell_type": "code",
   "execution_count": 39,
   "metadata": {},
   "outputs": [],
   "source": [
    "company_info = {}\n",
    "for tr in vcard.select('tr'):\n",
    "    if tr.select_one('th') and tr.select_one('td'):\n",
    "        #print(tr.select_one('th').text.strip(), tr.select_one('td').text.strip())\n",
    "        #print('========================')\n",
    "        header = tr.select_one('th').text.strip()\n",
    "        data   = tr.select_one('td').text.strip()\n",
    "        company_info[header]  = data"
   ]
  },
  {
   "cell_type": "code",
   "execution_count": 40,
   "metadata": {},
   "outputs": [
    {
     "data": {
      "text/html": [
       "<div>\n",
       "<style scoped>\n",
       "    .dataframe tbody tr th:only-of-type {\n",
       "        vertical-align: middle;\n",
       "    }\n",
       "\n",
       "    .dataframe tbody tr th {\n",
       "        vertical-align: top;\n",
       "    }\n",
       "\n",
       "    .dataframe thead th {\n",
       "        text-align: right;\n",
       "    }\n",
       "</style>\n",
       "<table border=\"1\" class=\"dataframe\">\n",
       "  <thead>\n",
       "    <tr style=\"text-align: right;\">\n",
       "      <th></th>\n",
       "      <th>代表人物</th>\n",
       "      <th>公司類型</th>\n",
       "      <th>創辦人</th>\n",
       "      <th>員工人數</th>\n",
       "      <th>業務範圍</th>\n",
       "      <th>標語口號</th>\n",
       "      <th>母公司</th>\n",
       "      <th>營業額</th>\n",
       "      <th>產品</th>\n",
       "      <th>產業</th>\n",
       "      <th>稅前盈餘</th>\n",
       "      <th>稅後盈餘</th>\n",
       "      <th>網站</th>\n",
       "      <th>總資產</th>\n",
       "      <th>總部</th>\n",
       "      <th>資產淨值</th>\n",
       "    </tr>\n",
       "  </thead>\n",
       "  <tbody>\n",
       "    <tr>\n",
       "      <th>0</th>\n",
       "      <td>桑德爾·皮蔡（CEO）</td>\n",
       "      <td>子公司</td>\n",
       "      <td>賴利·佩吉、謝爾蓋·布林</td>\n",
       "      <td>80,110（2017年Q4，Alphabet Inc.員工總數）[2]</td>\n",
       "      <td>世界</td>\n",
       "      <td>Don't be evil.（不作惡）</td>\n",
       "      <td>Alphabet Inc.</td>\n",
       "      <td>▲US$858.07億（2016年）[1]</td>\n",
       "      <td>參見Google產品列表</td>\n",
       "      <td>網際網路、軟體、通訊裝置</td>\n",
       "      <td>▲US$224.93億（2016年）[1]</td>\n",
       "      <td>▲US$190.68億（2016年）[1]</td>\n",
       "      <td>www.google.com</td>\n",
       "      <td>▲US$1,304.26億（2014年）[1]</td>\n",
       "      <td>美國加利福尼亞州山景城Googleplex</td>\n",
       "      <td>▲US$1,038.60億（2014年）[1]</td>\n",
       "    </tr>\n",
       "  </tbody>\n",
       "</table>\n",
       "</div>"
      ],
      "text/plain": [
       "          代表人物 公司類型           創辦人                                  員工人數 業務範圍  \\\n",
       "0  桑德爾·皮蔡（CEO）  子公司  賴利·佩吉、謝爾蓋·布林  80,110（2017年Q4，Alphabet Inc.員工總數）[2]   世界   \n",
       "\n",
       "                  標語口號            母公司                    營業額            產品  \\\n",
       "0  Don't be evil.（不作惡）  Alphabet Inc.  ▲US$858.07億（2016年）[1]  參見Google產品列表   \n",
       "\n",
       "             產業                   稅前盈餘                   稅後盈餘              網站  \\\n",
       "0  網際網路、軟體、通訊裝置  ▲US$224.93億（2016年）[1]  ▲US$190.68億（2016年）[1]  www.google.com   \n",
       "\n",
       "                       總資產                     總部                     資產淨值  \n",
       "0  ▲US$1,304.26億（2014年）[1]  美國加利福尼亞州山景城Googleplex  ▲US$1,038.60億（2014年）[1]  "
      ]
     },
     "execution_count": 40,
     "metadata": {},
     "output_type": "execute_result"
    }
   ],
   "source": [
    "import pandas\n",
    "companydf = pandas.DataFrame([company_info])\n",
    "companydf"
   ]
  },
  {
   "cell_type": "code",
   "execution_count": 56,
   "metadata": {},
   "outputs": [],
   "source": [
    "def getCompanyInfo(company):\n",
    "    companyurl = 'https://zh.wikipedia.org/zh-tw/{}'\n",
    "    res = requests.get(companyurl.format(company))\n",
    "    soup = BeautifulSoup(res.text, 'lxml')\n",
    "    vcard = soup.select_one('.infobox')\n",
    "    company_info = {}\n",
    "    for tr in vcard.select('tr'):\n",
    "        if tr.select_one('th') and tr.select_one('td'):\n",
    "            #print(tr.select_one('th').text.strip(), tr.select_one('td').text.strip())\n",
    "            #print('========================')\n",
    "            header = tr.select_one('th').text.strip()\n",
    "            dataary = []\n",
    "            for line in tr.select_one('td').prettify().split('<br/>'):\n",
    "                soup2 = BeautifulSoup(line, 'lxml')\n",
    "                dataary.append(' '.join(soup2.text.strip().split()))\n",
    "            data   = ','.join(dataary)\n",
    "            company_info[header]  = data\n",
    "    return company_info"
   ]
  },
  {
   "cell_type": "code",
   "execution_count": 57,
   "metadata": {},
   "outputs": [
    {
     "data": {
      "text/plain": [
       "{'SWIFT識別碼': 'CTCBTWTP',\n",
       " '主要股東': '中國信託金融控股股份有限公司 （100.00%）',\n",
       " '代表人': '董事長： 童兆勤,總經理： 陳佳文',\n",
       " '實收資本額': '新台幣 1,406.9 億元 (2017)',\n",
       " '年營業額': '新台幣 936.8 億元 (2017)',\n",
       " '簡稱': '中國信託、中信銀行、中信商銀、CTBC、CTCB、CTB、中信銀、中信',\n",
       " '網站': '中國信託商業銀行 （繁體中文）',\n",
       " '總部地址': '中華民國,臺北市 南港區 經貿二路 168號（中國信託金融園區）',\n",
       " '股票代號': '臺證所 ： 2891',\n",
       " '郵遞區號': '115-68',\n",
       " '金融代號': '822',\n",
       " '開設日期': '1966年（民國55年）3月14日(52年267天）'}"
      ]
     },
     "execution_count": 57,
     "metadata": {},
     "output_type": "execute_result"
    }
   ],
   "source": [
    "getCompanyInfo('中國信託商業銀行')"
   ]
  },
  {
   "cell_type": "code",
   "execution_count": 58,
   "metadata": {},
   "outputs": [
    {
     "data": {
      "text/plain": [
       "{'主要子公司': '富邦產物保險,富邦人壽保險,台北富邦銀行,富邦綜合證券,富邦金控創業投資,富邦行銷,富邦資產管理,富邦銀行（香港）,運彩科技股份有限公司',\n",
       " '主要股東': '臺北市政府 （13.11%）,明東實業 （8.45%）,道盈實業 （7.73%）,蔡明興 （3.20%）,紅福投資 （2.57%）,蔡明忠 (2.04%)',\n",
       " '代表人物': '董事長 ： 蔡明興,總經理 ： 韓蔚廷',\n",
       " '公司類型': '金融控股公司 、 上市公司',\n",
       " '商業名稱': '富邦金控、富邦金',\n",
       " '實收資本額': '新台幣 108,336,039,950元（2015年）',\n",
       " '成立': '2001年12月19日（16年357天）',\n",
       " '標語口號': '誠信、親切、專業、創新',\n",
       " '母公司': '富邦集團',\n",
       " '每股盈利': '6.21（2015年）',\n",
       " '每股資產淨值': '35.92（2015年）',\n",
       " '營業額': '▼ 新台幣4061.45億元 （2017年）',\n",
       " '產品': '金融服務、保險',\n",
       " '產業': '金融業',\n",
       " '稅前盈餘': '▲ 新台幣580.51億元 （2017年）',\n",
       " '統一編號': '03374805',\n",
       " '網站': 'www.fubon.com',\n",
       " '總資產': '▲ 新台幣6兆9195億元 （2017年）',\n",
       " '總部': '中華民國 （ 臺灣 ）,臺北市 大安區 建國南路一段 237號',\n",
       " '股票代號': '臺證所 ： 2881,LSE ： FBND',\n",
       " '資產淨值': '新台幣 376,077百萬元（2015年）'}"
      ]
     },
     "execution_count": 58,
     "metadata": {},
     "output_type": "execute_result"
    }
   ],
   "source": [
    "getCompanyInfo('富邦金控')"
   ]
  },
  {
   "cell_type": "code",
   "execution_count": 59,
   "metadata": {},
   "outputs": [
    {
     "data": {
      "text/plain": [
       "{'主要子公司': '30家 [2]',\n",
       " '主要股東': '花旗託管台積電存託憑證專戶（20.68%）,中華民國 行政院國家發展基金管理會 （6.38%）,花旗台新加坡（2.64%）',\n",
       " '代表人物': '董事長 ： 劉德音,總裁 ： 魏哲家',\n",
       " '公司類型': '上市公司',\n",
       " '創辦人': '張忠謀 （榮譽董事長）',\n",
       " '實收資本額': '新臺幣 259,303,804,580元',\n",
       " '成立': '1987年2月21日 ( 1987-02-21 )',\n",
       " '營業額': '▲ 新臺幣 9774.47億元（2017年） [1]',\n",
       " '產品': '晶圓代工 服務',\n",
       " '產業': '電子工業',\n",
       " '稅後盈餘': '▲ 新臺幣 3431億元（2017年）',\n",
       " '統一編號': '22099131',\n",
       " '網站': 'www .tsmc .com',\n",
       " '總部': '中華民國,新竹市 東區 力行六路8號',\n",
       " '股票代號': '臺證所 ： 2330,（1994年9月5日上市）,NYSE ： TSM'}"
      ]
     },
     "execution_count": 59,
     "metadata": {},
     "output_type": "execute_result"
    }
   ],
   "source": [
    "getCompanyInfo('台積電')"
   ]
  },
  {
   "cell_type": "markdown",
   "metadata": {},
   "source": [
    "## 金融公司分類\n",
    "- https://zh.wikipedia.org/wiki/Category:%E8%87%BA%E7%81%A3%E7%9A%84%E9%87%91%E8%9E%8D%E6%8E%A7%E8%82%A1%E5%85%AC%E5%8F%B8"
   ]
  },
  {
   "cell_type": "code",
   "execution_count": 60,
   "metadata": {},
   "outputs": [],
   "source": [
    "import pandas\n",
    "company_list = pandas.read_clipboard(header = None)"
   ]
  },
  {
   "cell_type": "code",
   "execution_count": 63,
   "metadata": {},
   "outputs": [
    {
     "data": {
      "text/plain": [
       "['第一金融控股',\n",
       " '富邦金融控股',\n",
       " '國泰金融控股',\n",
       " '國票金融控股',\n",
       " '華南金融控股',\n",
       " '日盛金融控股',\n",
       " '台新金融控股',\n",
       " '臺灣金融控股',\n",
       " '新光金融控股',\n",
       " '元大金融控股',\n",
       " '永豐金融控股',\n",
       " '玉山金融控股',\n",
       " '中華開發金融控股',\n",
       " '兆豐金融控股',\n",
       " '中國信託金融控股',\n",
       " '合作金庫金融控股']"
      ]
     },
     "execution_count": 63,
     "metadata": {},
     "output_type": "execute_result"
    }
   ],
   "source": [
    "company_list[0].tolist()"
   ]
  },
  {
   "cell_type": "code",
   "execution_count": 64,
   "metadata": {},
   "outputs": [],
   "source": [
    "company_list = ['第一金融控股',\n",
    " '富邦金融控股',\n",
    " '國泰金融控股',\n",
    " '國票金融控股',\n",
    " '華南金融控股',\n",
    " '日盛金融控股',\n",
    " '台新金融控股',\n",
    " '臺灣金融控股',\n",
    " '新光金融控股',\n",
    " '元大金融控股',\n",
    " '永豐金融控股',\n",
    " '玉山金融控股',\n",
    " '中華開發金融控股',\n",
    " '兆豐金融控股',\n",
    " '中國信託金融控股',\n",
    " '合作金庫金融控股']"
   ]
  },
  {
   "cell_type": "code",
   "execution_count": 68,
   "metadata": {},
   "outputs": [],
   "source": [
    "company_profiles = []\n",
    "for company in company_list: \n",
    "    profile = getCompanyInfo(company)\n",
    "    profile['公司名稱'] = company\n",
    "    company_profiles.append(profile)"
   ]
  },
  {
   "cell_type": "code",
   "execution_count": 69,
   "metadata": {},
   "outputs": [],
   "source": [
    "company_df = pandas.DataFrame(company_profiles)"
   ]
  },
  {
   "cell_type": "code",
   "execution_count": 71,
   "metadata": {},
   "outputs": [],
   "source": [
    "company_df.to_excel('financial_company.xlsx')"
   ]
  },
  {
   "cell_type": "markdown",
   "metadata": {},
   "source": [
    "## 利用Google 查詢公司子公司"
   ]
  },
  {
   "cell_type": "code",
   "execution_count": 78,
   "metadata": {},
   "outputs": [],
   "source": [
    "import requests\n",
    "googleurl = 'https://www.google.com.tw/search?rlz=1C5CHFA_enTW718TW718&ei=wSETXMKBBtL6kwXd8bm4BQ&q={0}+{1}&oq={0}+{1}&gs_l=psy-ab.3..0i30.1996.3600..4138...0.0..0.127.853.6j3......0....1..gws-wiz.......0.JbpCn4-ONug'\n",
    "res = requests.get(googleurl.format('中國信託商業銀行', '子公司'))"
   ]
  },
  {
   "cell_type": "code",
   "execution_count": 77,
   "metadata": {},
   "outputs": [
    {
     "data": {
      "text/plain": [
       "'<!doctype html><html itemscope=\"\" itemtype=\"http://schema.org/SearchResultsPage\" lang=\"zh-TW\"><head><meta content=\"text/html; charset=UTF-8\" http-equiv=\"Content-Type\"><meta content=\"/images/branding/googleg/1x/googleg_standard_color_128dp.png\" itemprop=\"image\"><noscript><meta content=\"0;url=/search?q=%E5%9C%8B%E6%B3%B0%E4%B8%96%E8%8F%AF%E9%8A%80%E8%A1%8C+%E5%AD%90%E5%85%AC%E5%8F%B8&amp;rlz=1C5CHFA_enTW718TW718&amp;ie=UTF-8&amp;gbv=1&amp;sei=vSMTXIqRCYuL8wWK5pzAAg\" http-equiv=\"refresh\"><style>table,div,span,p{display:none}</style><div style=\"display:block\">如果系統沒有在數秒鐘後將您重新導向，請按一下<a href=\"/search?q=%E5%9C%8B%E6%B3%B0%E4%B8%96%E8%8F%AF%E9%8A%80%E8%A1%8C+%E5%AD%90%E5%85%AC%E5%8F%B8&amp;rlz=1C5CHFA_enTW718TW718&amp;ie=UTF-8&amp;gbv=1&amp;sei=vSMTXIqRCYuL8wWK5pzAAg\">這裡</a>。</div></noscript><title>國泰世華銀行 子公司 - Google 搜尋</title><style>#gbar,#guser{font-size:13px;padding-top:1px !important;}#gbar{height:22px}#guser{padding-bottom:7px !important;text-align:right}.gbh,.gbd{border-top:1px solid #c9d7f1;font-size:1px}.gbh{height:0;position:absolute;top:24px;width:100%}@media all{.gb1{height:22px;margin-right:.5em;vertical-align:top}#gbar{float:left}}a.gb1,a.gb4{text-decoration:underline !important}a.gb1,a.gb4{color:#00c !important}.gbi .gb4{color:#dd8e27 !important}.gbf .gb4{color:#900 !important} </style><style>.star{float:left;margin-top:1px;overflow:hidden}.ybhkme{font-size:11px}.j{width:34em}#center_col b,#center_col em,#center_col strong,#rhs_block b,#rhs_block em,#rhs_block strong{color:#c03;font-weight:normal}#Nojgqb b{color:#000;font-weight:bold}#center_col a b,#center_col a em,#center_col a strong,#rhs a b,#rhs a em,#rhs a strong{text-decoration:underline}body,td,div,a{font-family:arial,sans-serif;tap-highlight-color:rgba(255,255,255,0)}body{margin:0}a img{border:0}#gbar{float:left;height:22px;padding-left:2px;font-size:13px}.gsfi,.gsfs{font-size:17px}.w,.q:active,.q:visited,.tbotu{color:#11c}a.gl{text-decoration:none}#foot{padding:0 8px}#foot a{white-space:nowrap}h3{font-size:16px;font-weight:normal;margin:0;padding:0}#res h3{display:inline}.hd{height:1px;position:absolute;top:-1000em}.g,body,html,table,.std{font-size:13px}.g{margin-bottom:23px;margin-top:0;zoom:1}ol li,ul li{list-style:none}h1,ol,ul,li{margin:0;padding:0}.e{margin:2px 0 0.75em}#leftnav a{text-decoration:none}#leftnav h2{color:#767676;font-weight:normal;margin:0}#nav{border-collapse:collapse;margin-top:17px;text-align:left}#nav td{text-align:center}.nobr{white-space:nowrap}.ts{border-collapse:collapse}.s br{display:none}.csb{display:block;height:40px}.images_table td{line-height:17px;padding-bottom:16px}.images_table img{border:1px solid #ccc;padding:1px}#tbd,#abd{display:block;min-height:1px}#abd{padding-top:3px}#tbd li{display:inline}.TIrJXe,.UU5df{margin-bottom:8px}#tbd .tbt li{display:block;font-size:13px;line-height:1.2;padding-bottom:3px;padding-left:8px;text-indent:-8px}.tbos,.b{font-weight:bold}em{font-weight:bold;font-style:normal}.mime{color:#1a0dab;font-weight:bold;font-size:x-small}.soc a{text-decoration:none}.soc{color:#808080}.ul7Gbc{color:#e7711b}#Db7kif{border:1px solid #e0e0e0;margin-left:-8px;margin-right:-8px;padding:15px 20px 5px}.mrH1y{font-size:32px}.PZ6wOb{color:#777;font-size:16px;margin-top:5px}.gwrItc{color:#777;font-size:14px;margin-top:5px}.SVob4e{border:1px solid #e0e0e0;padding-left:20px}.mYu5Hb{border:1px solid #e0e0e0;padding:5px 20px}#vob{border:1px solid #e0e0e0;padding:15px 15px}#ZjIC2e{font-size:22px;line-height:22px;padding-bottom:5px}#vob_st{line-height:1.24}.DfLGHd{border-width:1px;border-style:solid;border-color:#eee;background-color:#fff;position:relative;margin-bottom:26px}.uRIxYb,.NjTIc,.PftIHd,.DXoZmb{font-family:Arial;font-weight:lighter}.uRIxYb{margin-bottom:5px}.uRIxYb{font-size:xx-large}.NjTIc{font-size:medium}.PftIHd{font-size:large}.DXoZmb{font-size:small}.DfLGHd{margin-left:-8px;margin-right:-15px;padding:20px 20px 24px}.ernfsc{border-spacing:0px 2px}.D3VFNd{max-width:380px;text-overflow:ellipsis;white-space:nowrap;overflow:hidden;padding-left:0px}.c1Ujmc{padding-left:15px;white-space:nowrap;color:#666}.EjZtie{padding-left:0px}.SFt5jb{color:#212121}.Pt7r9e{color:#878787}.bkcGhd{color:#093}.fIP9ce{color:#c00}.LDBB9d{padding:1px}.gssb_a{padding:0 10px !important}.gssb_c{left:132px !important;right:295px !important;top:78px !important;width:572px !important}.gssb_c table{font-size:16px !important}.gssb_e{border:1px solid #ccc !important;border-top-color:#d9d9d9 !important}.gssb_i{background:#eee !important}#res{padding:0 8px}#rhs_block{padding-top:43px}#MCN7mf{padding:0 8px}#subform_ctrl{font-size:11px;height:17px;margin:5px 3px 0 17px}.taf{padding-bottom:3px}.WIkLp{padding:20px 0 3px}.FuZzl{padding:20px 0 3px}#topstuff .e{padding-bottom:6px}.slk .sld{width:250px}.slk{margin-bottom:-3px}.slk .zaHRAf{padding-bottom:5px;width:250px}.ac,.st{line-height:1.24}.a1DBFd,#ofr{font-size:16px;margin:1em 0;padding:0 8px}.tZz6cc{padding-bottom:25px}.s{color:#545454}.ac{color:#545454}a.fl,.A8ul6 a,.osl a{color:#1a0dab;text-decoration:none}a:link{color:#1a0dab;cursor:pointer}#tads a:link{color:#1a0dab}#tads .soc a:link{color:#808080}a:visited{color:#61C}.blg a{text-decoration:none}cite,cite a:link{color:#006621;font-style:normal}#tads cite{color:#006621}.hJND5c{font-size:15px}.kvs{margin-top:1px}.hJND5c,.kvs,.slp{display:block;margin-bottom:1px}.kt{border-spacing:2px 0;margin-top:1px}.f{color:#808080}.L4Zeue{color:#093}h4.r{display:inline;font-size:small;font-weight:normal}.g{line-height:1.2}.NpC9Hd{display:inline-block;vertical-align:top;overflow:hidden;position:relative}.COi8F{margin:0 0 2em 1.3em}.COi8F li{list-style-type:disc}.osl{color:#777;margin-top:4px}.r{font-size:16px;margin:0}.gL9Hy{font-size:16px}.spell_orig{font-size:13px}.spell_orig a{text-decoration:none}.spell_orig b i{font-style:normal;font-weight:normal}.th{border:1px solid #ebebeb}.ts td{padding:0}.videobox{padding-bottom:3px}.slk a{text-decoration:none}#leftnav a:hover,#leftnav .tbou a:hover,.slk h3 a,a:hover{text-decoration:underline}#mn{table-layout:fixed;width:100%}#leftnav a{color:#222;font-size:13px}#leftnav{padding:43px 4px 4px 0}.tbos{color:#dd4b39}.tbt{margin-bottom:28px}#tbd{padding:0 0 0 16px}.tbou a{color:#222}#center_col{border:0;padding:0 8px 0 0}#topstuff .e{padding-top:3px}#topstuff .p64x9c{padding-top:6px}#ab_name{color:#dd4b39;font:20px \"Arial\";margin-left:15px}#resultStats{color:#999;font-size:13px;overflow:hidden;white-space:nowrap}.mslg>td{padding-right:1px;padding-top:2px}.slk .sld{margin-top:2px;padding:5px 0 5px 5px}.fmp{padding-top:3px}.close_btn{overflow:hidden}#fll a,#bfl a{color:#1a0dab !important;margin:0 12px;text-decoration:none !important}.ng{color:#dd4b39}#mss{margin:.33em 0 0;padding:0;display:table}.NYKCib{display:inline-block;float:left;white-space:nowrap;padding-right:16px}#mss p{margin:0;padding-top:5px}.tn{border-bottom:1px solid #ebebeb;display:block;float:left;height:59px;line-height:54px;min-width:980px;padding:0;position:relative;white-space:nowrap}.qrSWbe,a.qrSWbe{color:#777;cursor:pointer;display:inline-block;font-family:arial,sans-serif;font-size:small;height:54px;line-height:54px;margin:0 8px;padding:0 8px;text-decoration:none;white-space:nowrap}.tnuiC{border-bottom:3px solid #dd4b39;color:#dd4b39;font-weight:bold;margin:2px 8px 0}a.KDZjCd:hover{color:black;text-decoration:none;white-space:nowrap}body{margin:0;padding:0}.sFTC8c{display:inline-block;float:left;margin-top:2px}.pqkqJe,a.pqkqJe{margin-left:1px}.sd{line-height:43px;padding:0 8px 0 9px}a:active,.osl a:active,.tbou a:active,#leftnav a:active{color:#dd4b39}#bfl a:active{color:#dd4b39 !important}.csb{background:url(/images/nav_logo229.png) no-repeat;overflow:hidden}.close_btn{background:url(/images/nav_logo229.png) no-repeat -138px -84px;height:14px;width:14px;display:block}.star{background:url(/images/nav_logo229.png) no-repeat -94px -245px;height:13px;width:65px;display:block}.star div,.star span{background:url(/images/nav_logo229.png) no-repeat 0 -245px;height:13px;width:65px;display:block}.Pj9hGd{display:inline;margin:0 3px;outline-color:transparent;overflow:hidden;position:relative}.Pj9hGd>div{outline-color:transparent}.CiacGf{border-color:transparent;border-style:solid dashed dashed;border-top-color:green;border-width:4px 4px 0 4px;cursor:pointer;display:inline-block;font-size:0;height:0;left:4px;line-height:0;outline-color:transparent;position:relative;top:-3px;width:0}.CiacGf{margin-top:-4px}.am-dropdown-menu{display:block;background:#fff;border:1px solid #dcdcdc;font-size:13px;left:0;padding:0;position:absolute;right:auto;white-space:nowrap;z-index:3}.mUpfKd{list-style:none;white-space:nowrap}.mUpfKd:hover{background-color:#eee}a.imx0m{color:#333;cursor:pointer;display:block;padding:7px 18px;text-decoration:none}#tads a.imx0m{color:#333}.sfbgg{background:#f1f1f1;border-bottom:1px solid #e5e5e5;height:71px}#logocont{z-index:1;padding-left:4px;padding-top:4px}#logo{display:block;height:49px;margin-top:12px;margin-left:12px;overflow:hidden;position:relative;width:137px}#logo img{left:0;position:absolute;top:-41px}.lst-a{background:white;border:1px solid #d9d9d9;border-top-color:silver;width:570px}.lst-a:hover{border:1px solid #b9b9b9;border-top:1px solid #a0a0a0;box-shadow:inset 0 1px 2px rgba(0,0,0,0.1);-webkit-box-shadow:inset 0 1px 2px rgba(0,0,0,0.1);-moz-box-shadow:inset 0 1px 2px rgba(0,0,0,0.1)}.lst-td{border:none;padding:0}.tia input{border-right:none;padding-right:0}.tia{padding-right:0}.lst{background:none;border:none;color:#000;font:16px arial,sans-serif;float:left;height:22px;margin:0;padding:3px 6px 2px 9px;vertical-align:top;width:100%;word-break:break-all}.lst:focus{outline:none}.lst-b{background:none;border:none;height:26px;padding:0 6px 0 12px}.ds{border-right:1px solid #e7e7e7;position:relative;height:29px;margin-left:17px;z-index:100}.lsbb{background-image:-moz-linear-gradient(top,#4d90fe,#4787ed);background-image:-ms-linear-gradient(top,#4d90fe,#4787ed);background-image:-o-linear-gradient(top,#4d90fe,#4787ed);background-image:-webkit-gradient(linear,left top,left bottom,from(#4d90fe),to(#4787ed));background-image:-webkit-linear-gradient(top,#4d90fe,#4787ed);background-image:linear-gradient(top,#4d90fe,#4787ed);border:1px solid #3079ed;border-radius:2px;background-color:#4d90fe;height:27px;width:68px}.lsbb:hover{background-image:-moz-linear-gradient(top,#4d90fe,#357ae8);background-image:-ms-linear-gradient(top,#4d90fe,#357ae8);background-image:-o-linear-gradient(top,#4d90fe,#357ae8);background-image:-webkit-gradient(linear,left top,left bottom,from(#4d90fe),to(#357ae8));background-image:-webkit-linear-gradient(top,#4d90fe,#357ae8);background-color:#357ae8;background-image:linear-gradient(top,#4d90fe,#357ae8);border:1px solid #2f5bb7}.lsb{background:transparent;background-position:0 -343px;background-repeat:repeat-x;border:none;color:#000;cursor:default;font:15px arial,sans-serif;height:29px;margin:0;vertical-align:top;width:100%}.lsb:active{-moz-box-shadow:inset 0 1px 2px rgba(0,0,0,0.3);-webkit-box-shadow:inset 0 1px 2px rgba(0,0,0,0.3);box-shadow:inset 0 1px 2px rgba(0,0,0,0.3);background:transparent;color:transparent;overflow:hidden;position:relative;width:100%}.sbico{color:transparent;display:inline-block;height:15px;margin:0 auto;margin-top:2px;width:15px;overflow:hidden}</style><script nonce=\"ySG52xylroJFxX9umEcEYg==\">(function(){window.google={kEI:\\'vSMTXIqRCYuL8wWK5pzAAg\\',kEXPI:\\'0,1353746,58,1957,1017,1406,698,527,730,326,293,131,1049,30,524,28,675,895,547,5,2335688,159,32,68,329226,1294,12383,4855,32691,15248,867,12163,5281,7642,1402,2196,363,3320,5505,1241,1201,260,5107,575,835,284,2,1306,2431,1362,1712,27,2584,3390,8,1524,11,35,773,2115,138,2817,1526,404,519,22,604,2,1818,147,528,3,2064,182,283,1464,1672,669,1049,2,333,130,1344,386,8,735,268,81,7,28,447,16,620,29,1031,348,474,3204,375,268,4290,314,876,412,2,554,2635,272,108,1,285,309,639,1220,38,363,556,574,145,21,1,133,499,718,93,1233,38,484,47,487,593,543,745,420,661,359,8,790,9,2,258,244,255,764,432,277,2,2,26,2,366,265,217,2045,300,2,676,44,18,31,485,401,844,660,97,249,97,150,1116,411,724,22,1236,851,382,250,366,96,87,28,71,388,376,6,4,34,331,135,249,18,4,89,61,106,171,351,588,340,198,89,148,172,5972046,2554,122,107,6,5997366,90,131\\',authuser:0,kscs:\\'c9c918f0_vSMTXIqRCYuL8wWK5pzAAg\\',kGL:\\'TW\\'};google.kHL=\\'zh-TW\\';})();google.time=function(){return(new Date).getTime()};(function(){google.lc=[];google.li=0;google.getEI=function(a){for(var b;a&&(!a.getAttribute||!(b=a.getAttribute(\"eid\")));)a=a.parentNode;return b||google.kEI};google.getLEI=function(a){for(var b=null;a&&(!a.getAttribute||!(b=a.getAttribute(\"leid\")));)a=a.parentNode;return b};google.https=function(){return\"https:\"==window.location.protocol};google.ml=function(){return null};google.log=function(a,b,e,c,g){if(a=google.logUrl(a,b,e,c,g)){b=new Image;var d=google.lc,f=google.li;d[f]=b;b.onerror=b.onload=b.onabort=function(){delete d[f]};google.vel&&google.vel.lu&&google.vel.lu(a);b.src=a;google.li=f+1}};google.logUrl=function(a,b,e,c,g){var d=\"\",f=google.ls||\"\";e||-1!=b.search(\"&ei=\")||(d=\"&ei=\"+google.getEI(c),-1==b.search(\"&lei=\")&&(c=google.getLEI(c))&&(d+=\"&lei=\"+c));c=\"\";!e&&google.cshid&&-1==b.search(\"&cshid=\")&&\"slh\"!=a&&(c=\"&cshid=\"+google.cshid);a=e||\"/\"+(g||\"gen_204\")+\"?atyp=i&ct=\"+a+\"&cad=\"+b+d+f+\"&zx=\"+google.time()+c;/^http:/i.test(a)&&google.https()&&(google.ml(Error(\"a\"),!1,{src:a,glmm:1}),a=\"\");return a};}).call(this);(function(){google.y={};google.x=function(a,b){if(a)var c=a.id;else{do c=Math.random();while(google.y[c])}google.y[c]=[a,b];return!1};google.lm=[];google.plm=function(a){google.lm.push.apply(google.lm,a)};google.lq=[];google.load=function(a,b,c){google.lq.push([[a],b,c])};google.loadAll=function(a,b){google.lq.push([a,b])};}).call(this);google.f={};(function(){var b={gen204:\"dcl\",clearcut:4};var c=[function(){google.c&&google.tick(\"load\",b)}];google.dclc=function(a){c.length?c.push(a):a()};function d(){for(var a;a=c.shift();)a()}window.addEventListener?(document.addEventListener(\"DOMContentLoaded\",d,!1),window.addEventListener(\"load\",d,!1)):window.attachEvent&&window.attachEvent(\"onload\",d);}).call(this);</script><script type=\"text/javascript\" nonce=\"ySG52xylroJFxX9umEcEYg==\"></script><script nonce=\"ySG52xylroJFxX9umEcEYg==\">(function(){google.sham=function(c){for(var d=c.parentElement,a=null,b=0;b<d.childNodes.length;b++){var e=d.childNodes[b];-1<(\" \"+e.className+\" \").indexOf(\" am-dropdown-menu \")&&(a=e)}\"none\"==a.style.display?(a.style.display=\"\",google.log(\"hpam\",\"&ved=\"+c.getAttribute(\"data-ved\"))):a.style.display=\"none\"};}).call(this);(function(){var b=[];google.jsc={xx:b,x:function(a){b.push(a)},mm:[],m:function(a){google.jsc.mm.length||(google.jsc.mm=a)}};}).call(this);</script></head><body class=\"hsrp\" bgcolor=\"#ffffff\" marginheight=\"0\" marginwidth=\"0\" topmargin=\"0\"><div id=gbar><nobr><b class=gb1>搜尋</b> <a class=gb1 href=\"https://www.google.com.tw/search?hl=zh-TW&tbm=isch&source=og&tab=wi\">圖片</a> <a class=gb1 href=\"https://maps.google.com.tw/maps?hl=zh-TW&tab=wl\">地圖</a> <a class=gb1 href=\"https://play.google.com/?hl=zh-TW&tab=w8\">Play</a> <a class=gb1 href=\"https://www.youtube.com/results?gl=TW&tab=w1\">YouTube</a> <a class=gb1 href=\"https://news.google.com.tw/nwshp?hl=zh-TW&tab=wn\">新聞</a> <a class=gb1 href=\"https://mail.google.com/mail/?tab=wm\">Gmail</a> <a class=gb1 href=\"https://drive.google.com/?tab=wo\">雲端硬碟</a> <a class=gb1 style=\"text-decoration:none\" href=\"https://www.google.com.tw/intl/zh-TW/about/products?tab=wh\"><u>更多</u> &raquo;</a></nobr></div><div id=guser width=100%><nobr><span id=gbn class=gbi></span><span id=gbf class=gbf></span><span id=gbe></span><a href=\"http://www.google.com.tw/history/optout?hl=zh-TW\" class=gb4>網頁記錄</a> | <a  href=\"/preferences?hl=zh-TW\" class=gb4>設定</a> | <a target=_top id=gb_70 href=\"https://accounts.google.com/ServiceLogin?hl=zh-TW&passive=true&continue=https://www.google.com.tw/search%3Frlz%3D1C5CHFA_enTW718TW718%26ei%3DwSETXMKBBtL6kwXd8bm4BQ%26q%3D%25E5%259C%258B%25E6%25B3%25B0%25E4%25B8%2596%25E8%258F%25AF%25E9%258A%2580%25E8%25A1%258C%2B%25E5%25AD%2590%25E5%2585%25AC%25E5%258F%25B8%26oq%3D%25E5%259C%258B%25E6%25B3%25B0%25E4%25B8%2596%25E8%258F%25AF%25E9%258A%2580%25E8%25A1%258C%2B%25E5%25AD%2590%25E5%2585%25AC%25E5%258F%25B8%26gs_l%3Dpsy-ab.3..0i30.1996.3600..4138...0.0..0.127.853.6j3......0....1..gws-wiz.......0.JbpCn4-ONug\" class=gb4>登入</a></nobr></div><div class=gbh style=left:0></div><div class=gbh style=right:0></div><table id=\"mn\" border=\"0\" cellpadding=\"0\" cellspacing=\"0\" style=\"position:relative\"><tr><th width=\"132\"></th><th width=\"573\"></th><th width=\"278\"></th><th></th></tr><tr><td class=\"sfbgg\" valign=\"top\"><div id=\"logocont\"><h1><a href=\"/webhp?hl=zh-TW\" style=\"background-image:url(/images/nav_logo229.png);background-repeat:no-repeat;height:37px;width:95px;display:block;background-position:0 -41px\" id=\"logo\" title=\"Go to Google Home\"></a></h1></div></td><td class=\"sfbgg\" colspan=\"2\" valign=\"top\" style=\"padding-left:0px\"><form style=\"display:block;margin:0;background:none\" action=\"/search\" id=\"tsf\" method=\"GET\" name=\"gs\"><table border=\"0\" cellpadding=\"0\" cellspacing=\"0\" style=\"margin-top:20px;position:relative\"><tr><td><div class=\"lst-a\"><table cellpadding=\"0\" cellspacing=\"0\"><tr><td class=\"lst-td\" width=\"555\" valign=\"bottom\"><div style=\"position:relative;zoom:1\"><input class=\"lst\" value=\"國泰世華銀行 子公司\" title=\"搜尋\" autocomplete=\"off\" id=\"sbhost\" maxlength=\"2048\" name=\"q\" type=\"text\"></div></td></tr></table></div></td><td><div class=\"ds\"><div class=\"lsbb\"><button class=\"lsb\" value=\"搜尋\" name=\"btnG\" type=\"submit\"><span class=\"sbico\" style=\"background-image:url(/images/nav_logo229.png);background-repeat:no-repeat;height:14px;width:13px;display:block;background-position:-36px -111px\"></span></button></div></div></td></tr></table><input name=\"rlz\" value=\"1C5CHFA_enTW718TW718\" type=\"hidden\"></form></td><td class=\"sfbgg\">&nbsp;</td></tr><tr style=\"position:relative\"><td><div style=\"border-bottom:1px solid #ebebeb;height:59px\"></div></td><td colspan=\"2\"><div class=\"tn\"><div class=\"qrSWbe tnuiC sFTC8c pqkqJe\">全部</div><div class=\"sFTC8c\"><a class=\"qrSWbe KDZjCd\" href=\"/search?q=%E5%9C%8B%E6%B3%B0%E4%B8%96%E8%8F%AF%E9%8A%80%E8%A1%8C+%E5%AD%90%E5%85%AC%E5%8F%B8&amp;rlz=1C5CHFA_enTW718TW718&amp;ie=UTF-8&amp;prmd=ivns&amp;source=lnms&amp;tbm=isch&amp;sa=X&amp;ved=0ahUKEwjK49PgsJ7fAhWLxbwKHQozBygQ_AUIBQ\">圖片</a></div><div class=\"sFTC8c\"><a class=\"qrSWbe KDZjCd\" href=\"/search?q=%E5%9C%8B%E6%B3%B0%E4%B8%96%E8%8F%AF%E9%8A%80%E8%A1%8C+%E5%AD%90%E5%85%AC%E5%8F%B8&amp;rlz=1C5CHFA_enTW718TW718&amp;ie=UTF-8&amp;prmd=ivns&amp;source=lnms&amp;tbm=vid&amp;sa=X&amp;ved=0ahUKEwjK49PgsJ7fAhWLxbwKHQozBygQ_AUIBg\">影片</a></div><div class=\"sFTC8c\"><a class=\"qrSWbe KDZjCd\" href=\"/search?q=%E5%9C%8B%E6%B3%B0%E4%B8%96%E8%8F%AF%E9%8A%80%E8%A1%8C+%E5%AD%90%E5%85%AC%E5%8F%B8&amp;rlz=1C5CHFA_enTW718TW718&amp;ie=UTF-8&amp;prmd=ivns&amp;source=lnms&amp;tbm=nws&amp;sa=X&amp;ved=0ahUKEwjK49PgsJ7fAhWLxbwKHQozBygQ_AUIBw\">新聞</a></div><div class=\"sFTC8c\"><a class=\"qrSWbe KDZjCd\" href=\"https://maps.google.com.tw/maps?rlz=1C5CHFA_enTW718TW718&amp;q=%E5%9C%8B%E6%B3%B0%E4%B8%96%E8%8F%AF%E9%8A%80%E8%A1%8C+%E5%AD%90%E5%85%AC%E5%8F%B8&amp;um=1&amp;ie=UTF-8&amp;sa=X&amp;ved=0ahUKEwjK49PgsJ7fAhWLxbwKHQozBygQ_AUICA\">地圖</a></div><div class=\"sFTC8c\"><a class=\"qrSWbe KDZjCd\" href=\"/search?q=%E5%9C%8B%E6%B3%B0%E4%B8%96%E8%8F%AF%E9%8A%80%E8%A1%8C+%E5%AD%90%E5%85%AC%E5%8F%B8&amp;rlz=1C5CHFA_enTW718TW718&amp;ie=UTF-8&amp;prmd=ivns&amp;source=lnms&amp;tbm=bks&amp;sa=X&amp;ved=0ahUKEwjK49PgsJ7fAhWLxbwKHQozBygQ_AUICQ\">書籍</a></div></div><div style=\"border-bottom:1px solid #ebebeb;height:59px\"></div></td><td><div style=\"border-bottom:1px solid #ebebeb;height:59px\"></div></td></tr><tbody id=\"desktop-search\"><style>.pCA4Bd,.pCA4Bd a:link,.pCA4Bd a:visited,a.pCA4Bd:link,a.pCA4Bd:visited{color:#808080}.AzrInc{color:#61C}.ellip{overflow:hidden;text-overflow:ellipsis;white-space:nowrap}.dg4MBd img{border-top-left-radius:2px;border-top-right-radius:2px}.WPcjGf .dg4MBd img{border-top-left-radius:0}.qJz6Qb{color:#db4437;font-size:medium;vertical-align:top;width:24px}.rllt__wrapped,.rllt__wrap-on-expand{}.rllt__wrapped,.rllt__details .rllt__wrapped,.rllt__details .rllt__wrapped div{white-space:normal}.rl-qs-crs-t .rllt__details .rllt__wrap-on-expand{white-space:nowrap}.rllt__details .rllt__wrap-on-expand,.tile-static .rllt__details .rllt__wrap-on-expand{white-space:normal}.rllt__details .rllt__wrap-on-expand div{white-space:inherit;overflow:inherit;text-overflow:inherit}.kR1eme{color:rgba(0,0,0,.87);font-size:16px;line-height:18px;}.t1IUkc{display:flex}.EIKTG{color:#cc4125}.orNyrb{color:#f09300}.LiTCwd{color:#66667d}.rl-qs-crs-t .rllt__multi-line>:not(:first-child){display:none}.rl-qs-crs-t .rllt__initially-hidden{display:none}.MmpQZb{background:url(data:image/png;base64,iVBORw0KGgoAAAANSUhEUgAAABgAAAAYCAYAAADgdz34AAAATUlEQVR4AWPwySykKR61AIJHLZDiXd0AwtS1AGF4IBD/g+IGciygqSUggqaWgAiaWgIiKLJkKFmAafhQiWRMw+md0Qa+qKAMj1owagEA9oqlMViMbnkAAAAASUVORK5CYII=)}.boLwW{display:inline-block;height:18px;width:18px}.nap1td,.nap1td:link,.nap1td:visited{color:#1a0dab;display:table-cell;font-size:11px;line-height:20px;text-align:center;text-decoration:none;text-transform:uppercase;vertical-align:middle;width:54px}.nap1td:last-child{width:94px}.hc8x7b{text-align:center;width:104px}.LPMtqb,.LPMtqb:hover,.LPMtqb:link,.LPMtqb:visited{color:#757575;font-size:14px;text-decoration:none}#rcnt a.LPMtqb,#rcnt a.LPMtqb:hover,#rcnt a.LPMtqb:link,#rcnt a.LPMtqb:visited{text-decoration:none}.IvtMPc{border-bottom:1px solid #ebebeb;padding:11px 0 11px 16px;text-align:left}.IvtMPc:last-child{border:none}.O6u2Ve{border-collapse:collapse;table-layout:fixed;width:100%}.O6u2Ve td{padding:0}.elzrQ{color:#1a0dab;display:block;padding:14px 16px}.elzrQ{font-size:16px}.elzrQ:hover{text-decoration:underline}.ksBKIe{border:1px solid #ebebeb;overflow:hidden}.VBt9Dc{border:1px solid #e0e0e0;font-size:13px;margin-right:-2px;}.V7Q8V{margin:4px 10px}.AwJT2c{background:white;border-bottom:0;border-left:0;border-right:0;border-top:1px solid #e0e0e0;cursor:pointer;height:40px;outline:0;width:100%}.dxrUgb{color:#777;font-size:11px}.dxrUgb a{color:#777;text-decoration:none}.xpdclpsbtn{}.xpdxpndbtn{}.xpdclpsbtn .KMK5T{background:url(/images/nav_logo229.png) no-repeat -50px -79px;height:22px;width:64px}.xpdxpndbtn .KMK5T{background:url(/images/nav_logo229.png) no-repeat -50px -102px;height:22px;width:64px}.mraOPb{color:#222;font-size:15px;line-height:normal;margin:12px 0}.dXAUyb{margin:4px 0}.R8KuR{margin:10px;overflow:hidden;position:relative;white-space:nowrap;}.M1e9Oe{display:-moz-inline-stack;display:inline-block;position:relative;width:100%;z-index:0;}.OSMzvb{display:-moz-inline-stack;display:inline-block;max-width:100%;overflow:hidden;}.JKXCdf{position:absolute;right:0;z-index:1;}.FSP1Dd{border-top:1px solid #e0e0e0;color:#000;font-size:22px;margin-top:-5px;padding-top:10px}.CB9G1b{color:#000;font-size:14px}.cC4Myd{color:#212121}.A1t5ne{color:#777}.cC4Myd{font-weight:bold}.xKoZHf{margin-left:10px}.B27ELd.ty7XEe{margin-right:10px}.x32fhf{color:#222;font-size:18px;margin:20px 0 8px 0}.lHETUb{color:#222;font-size:18px;margin:20px 10px 8px 10px}.B27ELd{display:-moz-inline-stack;display:inline-block;margin-bottom:10px;margin-right:21px;text-align:left;vertical-align:top;}.tQOFN{overflow:hidden}.czonVc{color:#777;overflow:hidden;text-overflow:ellipsis;white-space:normal;word-wrap:break-word}.brYqc{margin:6px 0 0 8px;overflow:hidden;text-overflow:ellipsis;white-space:normal;word-wrap:break-word}</style><tr><td id=\"leftnav\" valign=\"top\"><div><h2 class=\"hd\">Search Options</h2><ul class=\"med\" id=\"tbd\"><li><ul class=\"tbt\"><li class=\"tbos\" id=\"lr_\">不限國家/地區</li><li class=\"tbou\" id=\"ctr_countryTW\"><a class=\"q\" href=\"/search?q=%E5%9C%8B%E6%B3%B0%E4%B8%96%E8%8F%AF%E9%8A%80%E8%A1%8C+%E5%AD%90%E5%85%AC%E5%8F%B8&amp;rlz=1C5CHFA_enTW718TW718&amp;ie=UTF-8&amp;prmd=ivns&amp;source=lnt&amp;tbs=ctr:countryTW&amp;cr=countryTW&amp;sa=X&amp;ved=0ahUKEwjK49PgsJ7fAhWLxbwKHQozBygQpwUIDg\">國家/地區：台灣</a></li></ul></li><li><ul class=\"tbt\"><li class=\"tbos\" id=\"lr_\">不限語言</li><li class=\"tbou\" id=\"lr_lang_1zh-CN|lang_1zh-TW\"><a class=\"q\" href=\"/search?q=%E5%9C%8B%E6%B3%B0%E4%B8%96%E8%8F%AF%E9%8A%80%E8%A1%8C+%E5%AD%90%E5%85%AC%E5%8F%B8&amp;rlz=1C5CHFA_enTW718TW718&amp;ie=UTF-8&amp;prmd=ivns&amp;source=lnt&amp;tbs=lr:lang_1zh-CN%7Clang_1zh-TW&amp;lr=lang_zh-CN%7Clang_zh-TW&amp;sa=X&amp;ved=0ahUKEwjK49PgsJ7fAhWLxbwKHQozBygQpwUIDg\">所有中文網頁</a></li><li class=\"tbou\" id=\"lr_lang_1zh-TW\"><a class=\"q\" href=\"/search?q=%E5%9C%8B%E6%B3%B0%E4%B8%96%E8%8F%AF%E9%8A%80%E8%A1%8C+%E5%AD%90%E5%85%AC%E5%8F%B8&amp;rlz=1C5CHFA_enTW718TW718&amp;ie=UTF-8&amp;prmd=ivns&amp;source=lnt&amp;tbs=lr:lang_1zh-TW&amp;lr=lang_zh-TW&amp;sa=X&amp;ved=0ahUKEwjK49PgsJ7fAhWLxbwKHQozBygQpwUIDg\">繁體中文網頁</a></li></ul></li><li><ul class=\"tbt\"><li class=\"tbos\" id=\"qdr_\">不限時間</li><li class=\"tbou\" id=\"qdr_h\"><a class=\"q\" href=\"/search?q=%E5%9C%8B%E6%B3%B0%E4%B8%96%E8%8F%AF%E9%8A%80%E8%A1%8C+%E5%AD%90%E5%85%AC%E5%8F%B8&amp;rlz=1C5CHFA_enTW718TW718&amp;ie=UTF-8&amp;prmd=ivns&amp;source=lnt&amp;tbs=qdr:h&amp;sa=X&amp;ved=0ahUKEwjK49PgsJ7fAhWLxbwKHQozBygQpwUIDg\"> 過去 1 小時</a></li><li class=\"tbou\" id=\"qdr_d\"><a class=\"q\" href=\"/search?q=%E5%9C%8B%E6%B3%B0%E4%B8%96%E8%8F%AF%E9%8A%80%E8%A1%8C+%E5%AD%90%E5%85%AC%E5%8F%B8&amp;rlz=1C5CHFA_enTW718TW718&amp;ie=UTF-8&amp;prmd=ivns&amp;source=lnt&amp;tbs=qdr:d&amp;sa=X&amp;ved=0ahUKEwjK49PgsJ7fAhWLxbwKHQozBygQpwUIDg\"> 過去 24 小時</a></li><li class=\"tbou\" id=\"qdr_w\"><a class=\"q\" href=\"/search?q=%E5%9C%8B%E6%B3%B0%E4%B8%96%E8%8F%AF%E9%8A%80%E8%A1%8C+%E5%AD%90%E5%85%AC%E5%8F%B8&amp;rlz=1C5CHFA_enTW718TW718&amp;ie=UTF-8&amp;prmd=ivns&amp;source=lnt&amp;tbs=qdr:w&amp;sa=X&amp;ved=0ahUKEwjK49PgsJ7fAhWLxbwKHQozBygQpwUIDg\"> 過去 1 週</a></li><li class=\"tbou\" id=\"qdr_m\"><a class=\"q\" href=\"/search?q=%E5%9C%8B%E6%B3%B0%E4%B8%96%E8%8F%AF%E9%8A%80%E8%A1%8C+%E5%AD%90%E5%85%AC%E5%8F%B8&amp;rlz=1C5CHFA_enTW718TW718&amp;ie=UTF-8&amp;prmd=ivns&amp;source=lnt&amp;tbs=qdr:m&amp;sa=X&amp;ved=0ahUKEwjK49PgsJ7fAhWLxbwKHQozBygQpwUIDg\"> 過去 1 個月</a></li><li class=\"tbou\" id=\"qdr_y\"><a class=\"q\" href=\"/search?q=%E5%9C%8B%E6%B3%B0%E4%B8%96%E8%8F%AF%E9%8A%80%E8%A1%8C+%E5%AD%90%E5%85%AC%E5%8F%B8&amp;rlz=1C5CHFA_enTW718TW718&amp;ie=UTF-8&amp;prmd=ivns&amp;source=lnt&amp;tbs=qdr:y&amp;sa=X&amp;ved=0ahUKEwjK49PgsJ7fAhWLxbwKHQozBygQpwUIDg\"> 過去 1 年</a></li></ul></li><li><ul class=\"tbt\"><li class=\"tbos\" id=\"li_\">所有結果</li><li class=\"tbou\" id=\"li_1\"><a class=\"q\" href=\"/search?q=%E5%9C%8B%E6%B3%B0%E4%B8%96%E8%8F%AF%E9%8A%80%E8%A1%8C+%E5%AD%90%E5%85%AC%E5%8F%B8&amp;rlz=1C5CHFA_enTW718TW718&amp;ie=UTF-8&amp;prmd=ivns&amp;source=lnt&amp;tbs=li:1&amp;sa=X&amp;ved=0ahUKEwjK49PgsJ7fAhWLxbwKHQozBygQpwUIDg\">一字不差</a></li></ul></li></ul></div></td><td valign=\"top\"><div id=\"center_col\"><div class=\"sd\" id=\"resultStats\">約有 2,750,000 項結果</div><div id=\"res\"><div id=\"topstuff\"></div><div id=\"search\"><div id=\"ires\"><ol><div class=\"g\"><div class=\"g\"><div id=\"Db7kif\"><span class=\"ED44Kd\">世越銀行</span><span class=\"ED44Kd\">，<br>Cathay United Bank (Cambodia) Corporation Limited</span><span class=\"ED44Kd\">，<br>Cathay United Bank (China) Ltd</span><span class=\"ED44Kd\">，<br>Seaward Leasing, Ltd.</span><span class=\"ED44Kd\">，<br>Cathay Life Insurance Agent Co., Ltd.</span><span class=\"ED44Kd\">，<br>Cathay United Bank Co. Ltd.</span><div class=\"gwrItc\"> 國泰世華商業銀行  , 子公司  </div><br></div></div></div><div class=\"g\"><h3 class=\"r\"><a href=\"/url?q=https://www.cathaybk.com.tw/cathaybk/about/about/intro/history/&amp;sa=U&amp;ved=0ahUKEwjK49PgsJ7fAhWLxbwKHQozBygQFggaMAE&amp;usg=AOvVaw2wd6N5aef4Na6wyQqoqdLK\">本行歷史- <b>公司</b>簡介- 關於我們- 關於我們- <b>國泰世華銀行</b></a></h3><div class=\"s\"><div class=\"hJND5c\" style=\"margin-bottom:2px\"><cite>https://www.cathaybk.com.tw/cathaybk/about/about/intro/history/</cite><div class=\"Pj9hGd\"><div style=\"display:inline\" onclick=\"google.sham(this);\" aria-expanded=\"false\" aria-haspopup=\"true\" tabindex=\"0\" data-ved=\"0ahUKEwjK49PgsJ7fAhWLxbwKHQozBygQ7B0IGzAB\"><span class=\"CiacGf\"></span></div><div style=\"display:none\" class=\"am-dropdown-menu\" role=\"menu\" tabindex=\"-1\"><ul><li class=\"mUpfKd\"><a class=\"imx0m\" href=\"/url?q=http://webcache.googleusercontent.com/search%3Fq%3Dcache:pHlnP1SPb40J:https://www.cathaybk.com.tw/cathaybk/about/about/intro/history/%252B%25E5%259C%258B%25E6%25B3%25B0%25E4%25B8%2596%25E8%258F%25AF%25E9%258A%2580%25E8%25A1%258C%2B%25E5%25AD%2590%25E5%2585%25AC%25E5%258F%25B8%26rlz%3D1C5CHFA_enTW718TW718%26hl%3Dzh-TW%26ct%3Dclnk&amp;sa=U&amp;ved=0ahUKEwjK49PgsJ7fAhWLxbwKHQozBygQIAgdMAE&amp;usg=AOvVaw0OGFpcWppuHbe9N11J_sN4\">頁庫存檔</a></li></ul></div></div></div><span class=\"st\">1975年成立<b>國泰銀行</b>與的<b>世華銀行</b>分別先後加入<b>國泰</b>金融控股股份有限<b>公司</b>，成為<br>\\n<b>國泰</b>金融控股<b>公司</b>轄下百分之百控股之二家子<b>銀行</b>，正式整合資源，提供全方位完善<br>\\n&nbsp;...</span><br></div></div><div class=\"g\"><h3 class=\"r\"><a href=\"/url?q=https://www.cathaybk.com.tw/cathaybk/about/about/intro/awards/&amp;sa=U&amp;ved=0ahUKEwjK49PgsJ7fAhWLxbwKHQozBygQFggfMAI&amp;usg=AOvVaw17Ypnlbzvnl57O8skpLtPW\">得獎紀錄- <b>公司</b>簡介- 關於我們- 關於我們- <b>國泰世華銀行</b></a></h3><div class=\"s\"><div class=\"hJND5c\" style=\"margin-bottom:2px\"><cite>https://www.cathaybk.com.tw/cathaybk/about/about/intro/awards/</cite><div class=\"Pj9hGd\"><div style=\"display:inline\" onclick=\"google.sham(this);\" aria-expanded=\"false\" aria-haspopup=\"true\" tabindex=\"0\" data-ved=\"0ahUKEwjK49PgsJ7fAhWLxbwKHQozBygQ7B0IIDAC\"><span class=\"CiacGf\"></span></div><div style=\"display:none\" class=\"am-dropdown-menu\" role=\"menu\" tabindex=\"-1\"><ul><li class=\"mUpfKd\"><a class=\"imx0m\" href=\"/url?q=http://webcache.googleusercontent.com/search%3Fq%3Dcache:ygtZJ7PGwcEJ:https://www.cathaybk.com.tw/cathaybk/about/about/intro/awards/%252B%25E5%259C%258B%25E6%25B3%25B0%25E4%25B8%2596%25E8%258F%25AF%25E9%258A%2580%25E8%25A1%258C%2B%25E5%25AD%2590%25E5%2585%25AC%25E5%258F%25B8%26rlz%3D1C5CHFA_enTW718TW718%26hl%3Dzh-TW%26ct%3Dclnk&amp;sa=U&amp;ved=0ahUKEwjK49PgsJ7fAhWLxbwKHQozBygQIAgiMAI&amp;usg=AOvVaw1sW9s1CiNt_i0qNiSHKi9D\">頁庫存檔</a></li></ul></div></div></div><span class=\"st\"><b>國泰世華銀行</b>歷年得獎紀錄與評等。 ... <b>公司</b>簡介. 得獎紀錄. 2018; 2017; 2016; <br>\\n2015; 2014; 歷史紀錄. 榮獲《Euromoney雜誌》Asia Pacific Best Service Bank <br>\\nFrom&nbsp;...</span><br></div></div><div class=\"g\"><h3 class=\"r\"><a href=\"/url?q=https://www.cathaybk.com.tw/&amp;sa=U&amp;ved=0ahUKEwjK49PgsJ7fAhWLxbwKHQozBygQFggkMAM&amp;usg=AOvVaw3WW1-F6qubl2d_clFfgd5l\"><b>國泰世華銀行</b></a></h3><div class=\"s\"><div class=\"hJND5c\" style=\"margin-bottom:2px\"><cite>https://www.cathaybk.com.tw/</cite><div class=\"Pj9hGd\"><div style=\"display:inline\" onclick=\"google.sham(this);\" aria-expanded=\"false\" aria-haspopup=\"true\" tabindex=\"0\" data-ved=\"0ahUKEwjK49PgsJ7fAhWLxbwKHQozBygQ7B0IJTAD\"><span class=\"CiacGf\"></span></div><div style=\"display:none\" class=\"am-dropdown-menu\" role=\"menu\" tabindex=\"-1\"><ul><li class=\"mUpfKd\"><a class=\"imx0m\" href=\"/url?q=http://webcache.googleusercontent.com/search%3Fq%3Dcache:z619YAaV2K4J:https://www.cathaybk.com.tw/%252B%25E5%259C%258B%25E6%25B3%25B0%25E4%25B8%2596%25E8%258F%25AF%25E9%258A%2580%25E8%25A1%258C%2B%25E5%25AD%2590%25E5%2585%25AC%25E5%258F%25B8%26rlz%3D1C5CHFA_enTW718TW718%26hl%3Dzh-TW%26ct%3Dclnk&amp;sa=U&amp;ved=0ahUKEwjK49PgsJ7fAhWLxbwKHQozBygQIAgnMAM&amp;usg=AOvVaw3_sl2LIhjRzq-VTPbICvXa\">頁庫存檔</a></li><li class=\"mUpfKd\"><a class=\"imx0m\" href=\"/search?rlz=1C5CHFA_enTW718TW718&amp;ie=UTF-8&amp;q=related:https://www.cathaybk.com.tw/+%E5%9C%8B%E6%B3%B0%E4%B8%96%E8%8F%AF%E9%8A%80%E8%A1%8C+%E5%AD%90%E5%85%AC%E5%8F%B8&amp;tbo=1&amp;sa=X&amp;ved=0ahUKEwjK49PgsJ7fAhWLxbwKHQozBygQHwgoMAM\">類似內容</a></li></ul></div></div></div><span class=\"st\">快速解決資金問題交給國泰 國泰小額貸款，款待您的生活！ ... 本資料僅供參考，<br>\\n實際交易匯率請洽本行各外匯指定<b>銀行</b>議定! .... <b>國泰世華</b>商業<b>銀行</b>股份有限<b>公司</b></span><br></div></div><div class=\"g\"><h3 class=\"r\"><a href=\"/url?q=https://zh.wikipedia.org/zh-tw/%25E5%259C%258B%25E6%25B3%25B0%25E4%25B8%2596%25E8%258F%25AF%25E5%2595%2586%25E6%25A5%25AD%25E9%258A%2580%25E8%25A1%258C&amp;sa=U&amp;ved=0ahUKEwjK49PgsJ7fAhWLxbwKHQozBygQFggqMAQ&amp;usg=AOvVaw0pchz9sVJtzty24UPgywGG\"><b>國泰世華</b>商業<b>銀行</b>- &#32500;基百科，自由的百科全&#20070;</a></h3><div class=\"s\"><div class=\"hJND5c\" style=\"margin-bottom:2px\"><cite>https://zh.wikipedia.org/zh-tw/<b>國泰世華</b>商業<b>銀行</b></cite><div class=\"Pj9hGd\"><div style=\"display:inline\" onclick=\"google.sham(this);\" aria-expanded=\"false\" aria-haspopup=\"true\" tabindex=\"0\" data-ved=\"0ahUKEwjK49PgsJ7fAhWLxbwKHQozBygQ7B0IKzAE\"><span class=\"CiacGf\"></span></div><div style=\"display:none\" class=\"am-dropdown-menu\" role=\"menu\" tabindex=\"-1\"><ul><li class=\"mUpfKd\"><a class=\"imx0m\" href=\"/url?q=http://webcache.googleusercontent.com/search%3Fq%3Dcache:NmDz8Oz6G5sJ:https://zh.wikipedia.org/zh-tw/%2525E5%25259C%25258B%2525E6%2525B3%2525B0%2525E4%2525B8%252596%2525E8%25258F%2525AF%2525E5%252595%252586%2525E6%2525A5%2525AD%2525E9%25258A%252580%2525E8%2525A1%25258C%252B%25E5%259C%258B%25E6%25B3%25B0%25E4%25B8%2596%25E8%258F%25AF%25E9%258A%2580%25E8%25A1%258C%2B%25E5%25AD%2590%25E5%2585%25AC%25E5%258F%25B8%26rlz%3D1C5CHFA_enTW718TW718%26hl%3Dzh-TW%26ct%3Dclnk&amp;sa=U&amp;ved=0ahUKEwjK49PgsJ7fAhWLxbwKHQozBygQIAgtMAQ&amp;usg=AOvVaw035okGL6NSVdnGQsG6rPrO\">頁庫存檔</a></li><li class=\"mUpfKd\"><a class=\"imx0m\" href=\"/search?rlz=1C5CHFA_enTW718TW718&amp;ie=UTF-8&amp;q=related:https://zh.wikipedia.org/zh-tw/%25E5%259C%258B%25E6%25B3%25B0%25E4%25B8%2596%25E8%258F%25AF%25E5%2595%2586%25E6%25A5%25AD%25E9%258A%2580%25E8%25A1%258C+%E5%9C%8B%E6%B3%B0%E4%B8%96%E8%8F%AF%E9%8A%80%E8%A1%8C+%E5%AD%90%E5%85%AC%E5%8F%B8&amp;tbo=1&amp;sa=X&amp;ved=0ahUKEwjK49PgsJ7fAhWLxbwKHQozBygQHwguMAQ\">類似內容</a></li></ul></div></div></div><span class=\"st\">國泰世華商業銀行股份有限公司，簡稱<b>國泰世華銀行</b>，為臺灣的大型商業銀行之一，<br>\\n由原世華聯合商業銀行與國泰商業銀行合併後更名。 世華聯合商業銀行與國泰商業<br>\\n銀行皆為國泰金融控股公司之<b>子公司</b>。</span><br></div></div><div class=\"g\"><h3 class=\"r\"><a href=\"/url?q=https://zh.wikipedia.org/zh-tw/%25E5%259C%258B%25E6%25B3%25B0%25E9%2587%2591%25E8%259E%258D%25E6%258E%25A7%25E8%2582%25A1&amp;sa=U&amp;ved=0ahUKEwjK49PgsJ7fAhWLxbwKHQozBygQFggwMAU&amp;usg=AOvVaw1ROUSpo2CjKfyAPbR-Dn0m\"><b>國泰</b>金融控股- &#32500;基百科，自由的百科全&#20070;</a></h3><div class=\"s\"><div class=\"hJND5c\" style=\"margin-bottom:2px\"><cite>https://zh.wikipedia.org/zh-tw/<b>國泰</b>金融控股</cite><div class=\"Pj9hGd\"><div style=\"display:inline\" onclick=\"google.sham(this);\" aria-expanded=\"false\" aria-haspopup=\"true\" tabindex=\"0\" data-ved=\"0ahUKEwjK49PgsJ7fAhWLxbwKHQozBygQ7B0IMTAF\"><span class=\"CiacGf\"></span></div><div style=\"display:none\" class=\"am-dropdown-menu\" role=\"menu\" tabindex=\"-1\"><ul><li class=\"mUpfKd\"><a class=\"imx0m\" href=\"/url?q=http://webcache.googleusercontent.com/search%3Fq%3Dcache:mWODCf1Q5uoJ:https://zh.wikipedia.org/zh-tw/%2525E5%25259C%25258B%2525E6%2525B3%2525B0%2525E9%252587%252591%2525E8%25259E%25258D%2525E6%25258E%2525A7%2525E8%252582%2525A1%252B%25E5%259C%258B%25E6%25B3%25B0%25E4%25B8%2596%25E8%258F%25AF%25E9%258A%2580%25E8%25A1%258C%2B%25E5%25AD%2590%25E5%2585%25AC%25E5%258F%25B8%26rlz%3D1C5CHFA_enTW718TW718%26hl%3Dzh-TW%26ct%3Dclnk&amp;sa=U&amp;ved=0ahUKEwjK49PgsJ7fAhWLxbwKHQozBygQIAgzMAU&amp;usg=AOvVaw0EhP-jFBsQlC2R8irHNbHm\">頁庫存檔</a></li><li class=\"mUpfKd\"><a class=\"imx0m\" href=\"/search?rlz=1C5CHFA_enTW718TW718&amp;ie=UTF-8&amp;q=related:https://zh.wikipedia.org/zh-tw/%25E5%259C%258B%25E6%25B3%25B0%25E9%2587%2591%25E8%259E%258D%25E6%258E%25A7%25E8%2582%25A1+%E5%9C%8B%E6%B3%B0%E4%B8%96%E8%8F%AF%E9%8A%80%E8%A1%8C+%E5%AD%90%E5%85%AC%E5%8F%B8&amp;tbo=1&amp;sa=X&amp;ved=0ahUKEwjK49PgsJ7fAhWLxbwKHQozBygQHwg0MAU\">類似內容</a></li></ul></div></div></div><span class=\"st\">母公司 &middot; 霖園集團 &middot; 主要<b>子公司</b> &middot; 國泰人壽 &middot; <b>國泰世華</b>商業<b>銀行</b> &middot; 國泰產險 &middot; 國泰綜合<br>\\n證券 &middot; 國泰投信 &middot; 國泰創投 &middot; 國泰康利. 网站, www.cathayholdings.com. 國泰金融<br>\\n控股公司（英語：Cathay Financial Holdings Co., Ltd.，臺證所：2882，簡稱：國泰金控<br>\\n），為&nbsp;...</span><br></div></div><div class=\"g\"><h3 class=\"r\"><a href=\"/url?q=https://www.104.com.tw/jobbank/custjob/index.php%3Fr%3Dcust%26j%3D3e404872644c44703e3841232323236534b3d383725j01&amp;sa=U&amp;ved=0ahUKEwjK49PgsJ7fAhWLxbwKHQozBygQFgg2MAY&amp;usg=AOvVaw0Z4yc9hRVqIjNGVABEJKYN\"><b>國泰世華</b>商業<b>銀行</b>股份有限<b>公司</b>_人力資源部＜<b>公司</b>簡介及所有工作 ...</a></h3><div class=\"s\"><div class=\"hJND5c\" style=\"margin-bottom:2px\"><cite>https://www.104.com.tw/jobbank/custjob/index.php?r=cust&amp;j...</cite><div class=\"Pj9hGd\"><div style=\"display:inline\" onclick=\"google.sham(this);\" aria-expanded=\"false\" aria-haspopup=\"true\" tabindex=\"0\" data-ved=\"0ahUKEwjK49PgsJ7fAhWLxbwKHQozBygQ7B0INzAG\"><span class=\"CiacGf\"></span></div><div style=\"display:none\" class=\"am-dropdown-menu\" role=\"menu\" tabindex=\"-1\"><ul><li class=\"mUpfKd\"><a class=\"imx0m\" href=\"/search?rlz=1C5CHFA_enTW718TW718&amp;ie=UTF-8&amp;q=related:https://www.104.com.tw/jobbank/custjob/index.php%3Fr%3Dcust%26j%3D3e404872644c44703e3841232323236534b3d383725j01+%E5%9C%8B%E6%B3%B0%E4%B8%96%E8%8F%AF%E9%8A%80%E8%A1%8C+%E5%AD%90%E5%85%AC%E5%8F%B8&amp;tbo=1&amp;sa=X&amp;ved=0ahUKEwjK49PgsJ7fAhWLxbwKHQozBygQHwg5MAY\">類似內容</a></li></ul></div></div></div><span class=\"st\">國泰世華商業銀行股份有限公司_人力資源部,銀行業,<b>國泰世華銀行</b>成立於民國64 ... <br>\\n並與集團旗下國泰人壽、國泰產險及國泰證券等各<b>子公司</b>充分配合，發揮集團金流&nbsp;...</span><br></div></div><div class=\"ksBKIe g\"><a href=\"https://maps.google.com.tw/maps?rlz=1C5CHFA_enTW718TW718&amp;um=1&amp;ie=UTF-8&amp;fb=1&amp;gl=tw&amp;sa=X&amp;sll=25.05919,121.558689&amp;sspn=0.0597149,0.0878953&amp;q=%E5%9C%8B%E6%B3%B0%E4%B8%96%E8%8F%AF%E9%8A%80%E8%A1%8C+%E5%AD%90%E5%85%AC%E5%8F%B8&amp;ved=0ahUKEwjK49PgsJ7fAhWLxbwKHQozBygQtgMIPw\" style=\"cursor:pointer;position:relative;height:200px;display:block\" tabindex=\"0\"><img height=\"200\" id=\"lu_map\" src=\"/maps/vt/data=D0U6rxPRhDZ-rEDRadJ7k1cGA_yJROlAQzgPeOERC4pkinXqOh101M6EiiQZdLudWlNjsIm26Z6v-rP5jur4sN7ODeZZrlDm8D6ttv2q1TYxjK44qxQjyk6t71vIx52_bktGSPGFrZNze_EHF7Ae67cgIP-Fzty7GPuhlqY_SMe-EvcU07GygFyvruqWT-Vi8x2LOQujlmd_eu5yciob9scCzP0gVFQcA-DGN85iXG3ySBCbGiN3NPpUgfbbT_X1qXG2OzoSFVWaH7lDuN_pmntoxvmOAoDtjC2A7EqQYej8rHyyZlXQsqPnvf-v3y2xlj8QvWwBLHz6k-zInOTykK_Xn6hUGpVY4R2GM59wY853BKMmOXhkMHciArCEZzYvHOARNalf9-_FvnTn3dqLjJAaeH2JzZWa_szBhXNGPjJLSLHsf5t7XVch_A_xbL7o_X8UVHCffPqdrrR5q8GFMBOGdnUL3ZXtDbCcjpm_riePH2_Y1FikOMkMybQ0etAxcPVVWU9cQHSE2M3iBzkNes_5gdalfTL_fd1ddTNO7YYOVDg6V4CQDKQ3TzTCZXq5GD72Xc_q2fQ96Joakjr4R7PjvNH-xKQEC8GfMA2pl0_LT1vFHsiEK2-zTnbDzR51AvLc5b9qgvjrl1cLvJUD-3WT7WECKWISISNYHZF5C3UgVc0eCWlWZPBXr7xDZ_2A5cvGWnpz7sULduJCzG9KyraEaAFxRyhQdZ-si3bqADkWXlB_eTPhyCSNsTeodzNfz2PYYt_b9uJokV0VgAV2y1hsnjnB2oHUK-wbK-iXmmu8g7dB0WGC2nac9Kj1OqJjP4curvxmVr8IywK-xWBnvzCoDg_cGlwgE18IYLmn7FJxQKyldKRuONqTKjXgxRdY77C5-PfjrZx3X24eoYbZHNZzJrxi25oQvuwOrT_ERJ_X6O1f6SF6Zu8zgvMoCcYZaCYZuNL08JRQXH-ouV4fj3ML85MqnR-Z4fX5XczhIxoKcji18ocz9IR4A950LUnqLZm8PGGTVzfylebLVXQw4ni482ejRuKQXQN6P44CDcTPE-dGG2ZbbjSmNgHrkiK-PqTtDS1yPJqHdrV7yVhuCpbur4U8_NcaJNy_ubQS0L3UhsufsdK2oJrePw6rlIg2ybE45ecWu8RtzJs5KexcgvjwqAuBIagkmjXrvBManTgY9NNQ3onzcXBqxcjEBh6Cbi4F0Q\" width=\"547\" title=\"國泰世華銀行 子公司地圖\" alt=\"國泰世華銀行 子公司地圖\" border=\"0\"></a><div class=\"IvtMPc\"><table class=\"O6u2Ve\"><td class=\"qJz6Qb\">A</td><td><a class=\"LPMtqb\" href=\"/search?rlz=1C5CHFA_enTW718TW718&amp;ie=UTF-8&amp;q=%E5%9C%8B%E6%B3%B0%E4%B8%96%E8%8F%AF%E5%95%86%E6%A5%AD%E9%8A%80%E8%A1%8C%E8%82%A1%E4%BB%BD%E6%9C%89%E9%99%90%E5%85%AC%E5%8F%B8%E6%85%B6%E5%9F%8E%E5%88%86%E8%A1%8C+%E5%8F%B0%E5%8C%97%E5%B8%82%E6%9D%BE%E5%B1%B1%E5%8D%80&amp;ludocid=4859999097148360178&amp;sa=X&amp;ved=0ahUKEwjK49PgsJ7fAhWLxbwKHQozBygQvS4IQjAH\"><div class=\"kR1eme gsrt rllt__wrapped\" aria-level=\"3\" role=\"heading\"><span>國泰世華商業銀行股份有限公司慶城分行</span></div><div><span>民生東路三段158號</span> &middot; 02 2545 5559</div><div><div class=\"rllt__wrapped\">營業至 下午3:30</div></div></a></td><td class=\"hc8x7b\"><a href=\"/search?rlz=1C5CHFA_enTW718TW718&amp;ie=UTF-8&amp;q=%E5%9C%8B%E6%B3%B0%E4%B8%96%E8%8F%AF%E5%95%86%E6%A5%AD%E9%8A%80%E8%A1%8C%E8%82%A1%E4%BB%BD%E6%9C%89%E9%99%90%E5%85%AC%E5%8F%B8%E6%85%B6%E5%9F%8E%E5%88%86%E8%A1%8C+%E5%8F%B0%E5%8C%97%E5%B8%82%E6%9D%BE%E5%B1%B1%E5%8D%80&amp;ludocid=4859999097148360178&amp;sa=X&amp;ved=0ahUKEwjK49PgsJ7fAhWLxbwKHQozBygQ_pABCEYwBw\" class=\"nap1td\"><div class=\"boLwW MmpQZb\"></div><div>更多資訊</div></a></td></table></div><div class=\"IvtMPc\"><table class=\"O6u2Ve\"><td class=\"qJz6Qb\">B</td><td><a class=\"LPMtqb\" href=\"/search?rlz=1C5CHFA_enTW718TW718&amp;ie=UTF-8&amp;q=%E5%9C%8B%E6%B3%B0%E4%B8%96%E8%8F%AF%E9%8A%80%E8%A1%8CATM(%E7%BE%A4%E7%9B%8A%E9%87%91%E9%BC%8E%E7%B8%BD%E5%85%AC%E5%8F%B8)+%E5%8F%B0%E5%8C%97%E5%B8%82%E4%BF%A1%E7%BE%A9%E5%8D%80&amp;ludocid=11744561831381033450&amp;sa=X&amp;ved=0ahUKEwjK49PgsJ7fAhWLxbwKHQozBygQvS4ISDAI\"><div class=\"kR1eme gsrt rllt__wrapped\" aria-level=\"3\" role=\"heading\"><span>國泰世華銀行ATM(群益金鼎總公司)</span></div><div><span>松仁路97號</span> &middot; 02 8722 6677</div><div><div class=\"rllt__wrapped\">24 小時營業</div></div></a></td><td class=\"hc8x7b\"><a href=\"/search?rlz=1C5CHFA_enTW718TW718&amp;ie=UTF-8&amp;q=%E5%9C%8B%E6%B3%B0%E4%B8%96%E8%8F%AF%E9%8A%80%E8%A1%8CATM(%E7%BE%A4%E7%9B%8A%E9%87%91%E9%BC%8E%E7%B8%BD%E5%85%AC%E5%8F%B8)+%E5%8F%B0%E5%8C%97%E5%B8%82%E4%BF%A1%E7%BE%A9%E5%8D%80&amp;ludocid=11744561831381033450&amp;sa=X&amp;ved=0ahUKEwjK49PgsJ7fAhWLxbwKHQozBygQ_pABCEwwCA\" class=\"nap1td\"><div class=\"boLwW MmpQZb\"></div><div>更多資訊</div></a></td></table></div><div class=\"IvtMPc\"><table class=\"O6u2Ve\"><td class=\"qJz6Qb\">C</td><td><a class=\"LPMtqb\" href=\"/search?rlz=1C5CHFA_enTW718TW718&amp;ie=UTF-8&amp;q=%E5%9C%8B%E6%B3%B0%E4%B8%96%E8%8F%AF%E9%8A%80%E8%A1%8C+%E5%85%A7%E6%B9%96%E5%88%86%E8%A1%8C+%E5%8F%B0%E5%8C%97%E5%B8%82%E5%85%A7%E6%B9%96%E5%8D%80&amp;ludocid=4843456460230287693&amp;sa=X&amp;ved=0ahUKEwjK49PgsJ7fAhWLxbwKHQozBygQvS4ITjAJ\"><div class=\"kR1eme gsrt rllt__wrapped\" aria-level=\"3\" role=\"heading\"><span>國泰世華銀行 內湖分行</span></div><div><span>內湖路一段310號</span> &middot; 02 2659 6899</div><div><div class=\"rllt__wrapped\">營業至 下午3:30</div></div></a></td><td class=\"hc8x7b\"><a href=\"/search?rlz=1C5CHFA_enTW718TW718&amp;ie=UTF-8&amp;q=%E5%9C%8B%E6%B3%B0%E4%B8%96%E8%8F%AF%E9%8A%80%E8%A1%8C+%E5%85%A7%E6%B9%96%E5%88%86%E8%A1%8C+%E5%8F%B0%E5%8C%97%E5%B8%82%E5%85%A7%E6%B9%96%E5%8D%80&amp;ludocid=4843456460230287693&amp;sa=X&amp;ved=0ahUKEwjK49PgsJ7fAhWLxbwKHQozBygQ_pABCFIwCQ\" class=\"nap1td\"><div class=\"boLwW MmpQZb\"></div><div>更多資訊</div></a></td></table></div><div><a class=\"elzrQ\" href=\"/search?rlz=1C5CHFA_enTW718TW718&amp;ie=UTF-8&amp;q=%E5%9C%8B%E6%B3%B0%E4%B8%96%E8%8F%AF%E9%8A%80%E8%A1%8C+%E5%AD%90%E5%85%AC%E5%8F%B8&amp;npsic=0&amp;rlst=f&amp;rlha=0&amp;rllag=25059190,121558689,2756&amp;sa=X&amp;ved=0ahUKEwjK49PgsJ7fAhWLxbwKHQozBygQjGoIUw\">更多地點</a></div></div><div class=\"g\"><h3 class=\"r\"><a href=\"/url?q=https://www.104.com.tw/jobbank/custjob/index.php%3Fr%3Dcust%26j%3D664e462862704d2844463f245a323a6313c3e466f383a426b40463e212121216314874523543j54&amp;sa=U&amp;ved=0ahUKEwjK49PgsJ7fAhWLxbwKHQozBygQFghVMAo&amp;usg=AOvVaw1af-4wt15M-q0PLKHyD_SZ\"><b>國泰世華</b>商業<b>銀行</b>股份有限<b>公司</b>_直效行銷部＜<b>公司</b>簡介及所有工作 ...</a></h3><div class=\"s\"><div class=\"hJND5c\" style=\"margin-bottom:2px\"><cite>https://www.104.com.tw/jobbank/custjob/index.php?r=cust&amp;j...</cite></div><span class=\"st\">國泰世華商業銀行股份有限公司_直效行銷部,銀行業,<b>國泰世華銀行</b>成立於民國64 ... <br>\\n並與集團旗下國泰人壽、國泰產險及國泰證券等各<b>子公司</b>充分配合，發揮集團金流&nbsp;...</span><br></div></div><div class=\"g\"><h3 class=\"r\"><a href=\"/url?q=https://www.1111.com.tw/corp/9975332/&amp;sa=U&amp;ved=0ahUKEwjK49PgsJ7fAhWLxbwKHQozBygQFghXMAs&amp;usg=AOvVaw172GQCsKijG69ff_osO05x\"><b>國泰世華</b>商業<b>銀行</b>股份有限<b>公司</b>－人力資源部 - 1111人力<b>銀行</b></a></h3><div class=\"s\"><div class=\"hJND5c\" style=\"margin-bottom:2px\"><cite>https://www.1111.com.tw/corp/9975332/</cite><div class=\"Pj9hGd\"><div style=\"display:inline\" onclick=\"google.sham(this);\" aria-expanded=\"false\" aria-haspopup=\"true\" tabindex=\"0\" data-ved=\"0ahUKEwjK49PgsJ7fAhWLxbwKHQozBygQ7B0IWDAL\"><span class=\"CiacGf\"></span></div><div style=\"display:none\" class=\"am-dropdown-menu\" role=\"menu\" tabindex=\"-1\"><ul><li class=\"mUpfKd\"><a class=\"imx0m\" href=\"/url?q=http://webcache.googleusercontent.com/search%3Fq%3Dcache:fIV5LZA5Y3oJ:https://www.1111.com.tw/corp/9975332/%252B%25E5%259C%258B%25E6%25B3%25B0%25E4%25B8%2596%25E8%258F%25AF%25E9%258A%2580%25E8%25A1%258C%2B%25E5%25AD%2590%25E5%2585%25AC%25E5%258F%25B8%26rlz%3D1C5CHFA_enTW718TW718%26hl%3Dzh-TW%26ct%3Dclnk&amp;sa=U&amp;ved=0ahUKEwjK49PgsJ7fAhWLxbwKHQozBygQIAhaMAs&amp;usg=AOvVaw2WZefA_EB8JT6GNkhVwug9\">頁庫存檔</a></li></ul></div></div></div><span class=\"st\">想找<b>國泰世華</b>商業<b>銀行</b>股份有限公司－人力資源部更多的工作職缺，請上1111 ... 外<br>\\n，並與集團旗下國泰人壽、國泰產險及國泰證券等各<b>子公司</b>充分配合，發揮集團金流<br>\\n&nbsp;...</span><br></div></div><div class=\"g\"><h3 class=\"r\"><a href=\"/url?q=https://wiki.mbalib.com/zh-tw/%25E5%259B%25BD%25E6%25B3%25B0%25E4%25B8%2596%25E5%258D%258E%25E9%2593%25B6%25E8%25A1%258C&amp;sa=U&amp;ved=0ahUKEwjK49PgsJ7fAhWLxbwKHQozBygQFghcMAw&amp;usg=AOvVaw0Bb3ZCfErZP0vJ0aPXk0VN\"><b>國泰世華銀行</b>- MBA智&#24211;百科</a></h3><div class=\"s\"><div class=\"hJND5c\" style=\"margin-bottom:2px\"><cite>https://wiki.mbalib.com/zh-tw/<b>&#22269;泰世&#21326;&#38134;行</b></cite><div class=\"Pj9hGd\"><div style=\"display:inline\" onclick=\"google.sham(this);\" aria-expanded=\"false\" aria-haspopup=\"true\" tabindex=\"0\" data-ved=\"0ahUKEwjK49PgsJ7fAhWLxbwKHQozBygQ7B0IXTAM\"><span class=\"CiacGf\"></span></div><div style=\"display:none\" class=\"am-dropdown-menu\" role=\"menu\" tabindex=\"-1\"><ul><li class=\"mUpfKd\"><a class=\"imx0m\" href=\"/url?q=http://webcache.googleusercontent.com/search%3Fq%3Dcache:auirMc_Q-SwJ:https://wiki.mbalib.com/zh-tw/%2525E5%25259B%2525BD%2525E6%2525B3%2525B0%2525E4%2525B8%252596%2525E5%25258D%25258E%2525E9%252593%2525B6%2525E8%2525A1%25258C%252B%25E5%259C%258B%25E6%25B3%25B0%25E4%25B8%2596%25E8%258F%25AF%25E9%258A%2580%25E8%25A1%258C%2B%25E5%25AD%2590%25E5%2585%25AC%25E5%258F%25B8%26rlz%3D1C5CHFA_enTW718TW718%26hl%3Dzh-TW%26ct%3Dclnk&amp;sa=U&amp;ved=0ahUKEwjK49PgsJ7fAhWLxbwKHQozBygQIAhfMAw&amp;usg=AOvVaw0asHeNYWWPh3lexFroZWrK\">頁庫存檔</a></li></ul></div></div></div><span class=\"st\"><b>國泰世華</b>系由原「世華聯合商業<b>銀行</b>」與「國泰商業<b>銀行</b>」合併後更名，前身世華聯合 ... <br>\\n先後加入國泰金融控股股份有限<b>公司</b>，成為國泰金融控股<b>公司</b>轄下之二家子<b>銀行</b>。</span><br></div></div><div class=\"g\"><h3 class=\"r\"><a href=\"/url?q=https://tw.stock.yahoo.com/news/%25E5%2585%25AC%25E5%2591%258A-%25E5%259C%258B%25E6%25B3%25B0%25E9%2587%2591%25E4%25BB%25A3%25E5%25AD%2590%25E5%2585%25AC%25E5%258F%25B8%25E5%259C%258B%25E6%25B3%25B0%25E4%25B8%2596%25E8%258F%25AF%25E9%258A%2580%25E8%25A1%258C%25E8%2588%2587%25E5%259C%258B%25E6%25B3%25B0%25E4%25BA%25BA%25E5%25A3%25BD%25E7%25B5%2582%25E6%25AD%25A2%25E6%2594%25B6%25E8%25B3%25BC%25E9%25A6%25AC%25E4%25BE%2586%25E8%25A5%25BF%25E4%25BA%259Ethe-bank-nova-scotia-234700597.html&amp;sa=U&amp;ved=0ahUKEwjK49PgsJ7fAhWLxbwKHQozBygQFghhMA0&amp;usg=AOvVaw0U2WVWJg3iHdz21JyrtMzu\">【公告】國泰金代<b>子公司國泰世華銀行</b>與國泰人壽終止收購馬來西亞The ...</a></h3><div class=\"s\"><div class=\"hJND5c\" style=\"margin-bottom:2px\"><cite>https://tw.stock.yahoo.com/.../公告- <b>國泰</b>金代<b>子公司國泰世華銀行</b>與<b>國泰</b>人壽終止收購馬來西亞the-...</cite><div class=\"Pj9hGd\"><div style=\"display:inline\" onclick=\"google.sham(this);\" aria-expanded=\"false\" aria-haspopup=\"true\" tabindex=\"0\" data-ved=\"0ahUKEwjK49PgsJ7fAhWLxbwKHQozBygQ7B0IYjAN\"><span class=\"CiacGf\"></span></div><div style=\"display:none\" class=\"am-dropdown-menu\" role=\"menu\" tabindex=\"-1\"><ul><li class=\"mUpfKd\"><a class=\"imx0m\" href=\"/url?q=http://webcache.googleusercontent.com/search%3Fq%3Dcache:3DyJEO7RM24J:https://tw.stock.yahoo.com/news/%2525E5%252585%2525AC%2525E5%252591%25258A-%2525E5%25259C%25258B%2525E6%2525B3%2525B0%2525E9%252587%252591%2525E4%2525BB%2525A3%2525E5%2525AD%252590%2525E5%252585%2525AC%2525E5%25258F%2525B8%2525E5%25259C%25258B%2525E6%2525B3%2525B0%2525E4%2525B8%252596%2525E8%25258F%2525AF%2525E9%25258A%252580%2525E8%2525A1%25258C%2525E8%252588%252587%2525E5%25259C%25258B%2525E6%2525B3%2525B0%2525E4%2525BA%2525BA%2525E5%2525A3%2525BD%2525E7%2525B5%252582%2525E6%2525AD%2525A2%2525E6%252594%2525B6%2525E8%2525B3%2525BC%2525E9%2525A6%2525AC%2525E4%2525BE%252586%2525E8%2525A5%2525BF%2525E4%2525BA%25259Ethe-bank-nova-scotia-234700597.html%252B%25E5%259C%258B%25E6%25B3%25B0%25E4%25B8%2596%25E8%258F%25AF%25E9%258A%2580%25E8%25A1%258C%2B%25E5%25AD%2590%25E5%2585%25AC%25E5%258F%25B8%26rlz%3D1C5CHFA_enTW718TW718%26hl%3Dzh-TW%26ct%3Dclnk&amp;sa=U&amp;ved=0ahUKEwjK49PgsJ7fAhWLxbwKHQozBygQIAhkMA0&amp;usg=AOvVaw0Wh-g9FbJU3dwwZ0fpghQF\">頁庫存檔</a></li></ul></div></div></div><span class=\"st\">2018年4月11日 <b>...</b> 日期：2018年04月11日. 公司名稱：國泰金(2882). 主旨：代<b>子公司國泰世華銀行</b>與<br>\\n國泰人壽終止收購馬來西亞The Bank of Nova Scotia Berhad&nbsp;...</span><br></div></div></ol></div></div></div><div style=\"clear:both;margin-bottom:17px;overflow:hidden\"><div style=\"font-size:16px;padding:0 8px 1px\">與「<b>國泰世華銀行 子公司</b>」相關的搜尋查詢</div><table border=\"0\" cellpadding=\"0\" cellspacing=\"0\"><tr><td valign=\"top\"><p class=\"aw5cc\" style=\"margin:3px 8px\"><a href=\"/search?rlz=1C5CHFA_enTW718TW718&amp;ie=UTF-8&amp;q=%E5%9C%8B%E6%B3%B0%E4%B8%96%E8%8F%AF%E9%8A%80%E8%A1%8C%E5%88%86%E8%A1%8C&amp;sa=X&amp;ved=0ahUKEwjK49PgsJ7fAhWLxbwKHQozBygQ1QIIaCgA\">國泰世華銀行分行</a></p></td><td valign=\"top\" style=\"padding-left:10px\"><p class=\"aw5cc\" style=\"margin:3px 8px\"><a href=\"/search?rlz=1C5CHFA_enTW718TW718&amp;ie=UTF-8&amp;q=%E5%9C%8B%E6%B3%B0%E4%B8%96%E8%8F%AFatm&amp;sa=X&amp;ved=0ahUKEwjK49PgsJ7fAhWLxbwKHQozBygQ1QIIaSgB\">國泰世華atm</a></p></td></tr><tr><td valign=\"top\"><p class=\"aw5cc\" style=\"margin:3px 8px\"><a href=\"/search?rlz=1C5CHFA_enTW718TW718&amp;ie=UTF-8&amp;q=%E5%9C%8B%E6%B3%B0%E4%B8%96%E8%8F%AF%E5%90%88%E4%BD%B5%E6%A1%88&amp;sa=X&amp;ved=0ahUKEwjK49PgsJ7fAhWLxbwKHQozBygQ1QIIaigC\">國泰世華合併案</a></p></td><td valign=\"top\" style=\"padding-left:10px\"><p class=\"aw5cc\" style=\"margin:3px 8px\"><a href=\"/search?rlz=1C5CHFA_enTW718TW718&amp;ie=UTF-8&amp;q=%E5%9C%8B%E6%B3%B0%E4%B8%96%E8%8F%AF%E9%8A%80%E8%A1%8C%E7%B8%BD%E9%83%A8&amp;sa=X&amp;ved=0ahUKEwjK49PgsJ7fAhWLxbwKHQozBygQ1QIIaygD\">國泰世華銀行總部</a></p></td></tr><tr><td valign=\"top\"><p class=\"aw5cc\" style=\"margin:3px 8px\"><a href=\"/search?rlz=1C5CHFA_enTW718TW718&amp;ie=UTF-8&amp;q=%E5%9C%8B%E6%B3%B0%E4%B8%96%E8%8F%AF%E9%8A%80%E8%A1%8C%E4%BF%A1%E7%94%A8%E5%8D%A1&amp;sa=X&amp;ved=0ahUKEwjK49PgsJ7fAhWLxbwKHQozBygQ1QIIbCgE\">國泰世華銀行信用卡</a></p></td><td valign=\"top\" style=\"padding-left:10px\"><p class=\"aw5cc\" style=\"margin:3px 8px\"><a href=\"/search?rlz=1C5CHFA_enTW718TW718&amp;ie=UTF-8&amp;q=%E4%B8%96%E8%8F%AF%E8%81%AF%E5%90%88%E5%95%86%E6%A5%AD%E9%8A%80%E8%A1%8C%E6%AD%B7%E5%8F%B2&amp;sa=X&amp;ved=0ahUKEwjK49PgsJ7fAhWLxbwKHQozBygQ1QIIbSgF\">世華聯合商業銀行歷史</a></p></td></tr><tr><td valign=\"top\"><p class=\"aw5cc\" style=\"margin:3px 8px\"><a href=\"/search?rlz=1C5CHFA_enTW718TW718&amp;ie=UTF-8&amp;q=%E5%9C%8B%E6%B3%B0%E4%B8%96%E8%8F%AF%E9%8A%80%E8%A1%8C%E8%8B%B1%E6%96%87&amp;sa=X&amp;ved=0ahUKEwjK49PgsJ7fAhWLxbwKHQozBygQ1QIIbigG\">國泰世華銀行英文</a></p></td><td valign=\"top\" style=\"padding-left:10px\"><p class=\"aw5cc\" style=\"margin:3px 8px\"><a href=\"/search?rlz=1C5CHFA_enTW718TW718&amp;ie=UTF-8&amp;q=%E5%9C%8B%E6%B3%B0%E4%B8%96%E8%8F%AF%E8%8B%B1%E6%96%87%E7%B8%AE%E5%AF%AB&amp;sa=X&amp;ved=0ahUKEwjK49PgsJ7fAhWLxbwKHQozBygQ1QIIbygH\">國泰世華英文縮寫</a></p></td></tr><tr><td valign=\"top\"><p class=\"aw5cc\" style=\"margin:3px 8px\"><a href=\"/search?rlz=1C5CHFA_enTW718TW718&amp;ie=UTF-8&amp;q=%E5%9C%8B%E6%B3%B0%E4%B8%96%E8%8F%AF%E5%AE%A2%E6%9C%8D&amp;sa=X&amp;ved=0ahUKEwjK49PgsJ7fAhWLxbwKHQozBygQ1QIIcCgI\">國泰世華客服</a></p></td><td valign=\"top\" style=\"padding-left:10px\"><p class=\"aw5cc\" style=\"margin:3px 8px\"><a href=\"/search?rlz=1C5CHFA_enTW718TW718&amp;ie=UTF-8&amp;q=%E5%9C%8B%E6%B3%B0%E4%B8%96%E8%8F%AF%E4%BC%81%E6%A5%AD%E6%96%87%E5%8C%96&amp;sa=X&amp;ved=0ahUKEwjK49PgsJ7fAhWLxbwKHQozBygQ1QIIcSgJ\">國泰世華企業文化</a></p></td></tr></table></div></div><div id=\"foot\"><table align=\"center\" border=\"0\" cellpadding=\"0\" cellspacing=\"0\" id=\"nav\"><tr valign=\"top\"><td align=\"left\" class=\"b\"><span class=\"csb\" style=\"background-position:-24px 0;width:28px\"></span><b></b></td><td><span class=\"csb\" style=\"background-position:-53px 0;width:20px\"></span><b>1</b></td><td><a class=\"fl\" href=\"/search?q=%E5%9C%8B%E6%B3%B0%E4%B8%96%E8%8F%AF%E9%8A%80%E8%A1%8C+%E5%AD%90%E5%85%AC%E5%8F%B8&amp;rlz=1C5CHFA_enTW718TW718&amp;ie=UTF-8&amp;prmd=ivns&amp;ei=vSMTXIqRCYuL8wWK5pzAAg&amp;start=10&amp;sa=N\"><span class=\"csb\" style=\"background-position:-74px 0;width:20px\"></span>2</a></td><td><a class=\"fl\" href=\"/search?q=%E5%9C%8B%E6%B3%B0%E4%B8%96%E8%8F%AF%E9%8A%80%E8%A1%8C+%E5%AD%90%E5%85%AC%E5%8F%B8&amp;rlz=1C5CHFA_enTW718TW718&amp;ie=UTF-8&amp;prmd=ivns&amp;ei=vSMTXIqRCYuL8wWK5pzAAg&amp;start=20&amp;sa=N\"><span class=\"csb\" style=\"background-position:-74px 0;width:20px\"></span>3</a></td><td><a class=\"fl\" href=\"/search?q=%E5%9C%8B%E6%B3%B0%E4%B8%96%E8%8F%AF%E9%8A%80%E8%A1%8C+%E5%AD%90%E5%85%AC%E5%8F%B8&amp;rlz=1C5CHFA_enTW718TW718&amp;ie=UTF-8&amp;prmd=ivns&amp;ei=vSMTXIqRCYuL8wWK5pzAAg&amp;start=30&amp;sa=N\"><span class=\"csb\" style=\"background-position:-74px 0;width:20px\"></span>4</a></td><td><a class=\"fl\" href=\"/search?q=%E5%9C%8B%E6%B3%B0%E4%B8%96%E8%8F%AF%E9%8A%80%E8%A1%8C+%E5%AD%90%E5%85%AC%E5%8F%B8&amp;rlz=1C5CHFA_enTW718TW718&amp;ie=UTF-8&amp;prmd=ivns&amp;ei=vSMTXIqRCYuL8wWK5pzAAg&amp;start=40&amp;sa=N\"><span class=\"csb\" style=\"background-position:-74px 0;width:20px\"></span>5</a></td><td><a class=\"fl\" href=\"/search?q=%E5%9C%8B%E6%B3%B0%E4%B8%96%E8%8F%AF%E9%8A%80%E8%A1%8C+%E5%AD%90%E5%85%AC%E5%8F%B8&amp;rlz=1C5CHFA_enTW718TW718&amp;ie=UTF-8&amp;prmd=ivns&amp;ei=vSMTXIqRCYuL8wWK5pzAAg&amp;start=50&amp;sa=N\"><span class=\"csb\" style=\"background-position:-74px 0;width:20px\"></span>6</a></td><td><a class=\"fl\" href=\"/search?q=%E5%9C%8B%E6%B3%B0%E4%B8%96%E8%8F%AF%E9%8A%80%E8%A1%8C+%E5%AD%90%E5%85%AC%E5%8F%B8&amp;rlz=1C5CHFA_enTW718TW718&amp;ie=UTF-8&amp;prmd=ivns&amp;ei=vSMTXIqRCYuL8wWK5pzAAg&amp;start=60&amp;sa=N\"><span class=\"csb\" style=\"background-position:-74px 0;width:20px\"></span>7</a></td><td><a class=\"fl\" href=\"/search?q=%E5%9C%8B%E6%B3%B0%E4%B8%96%E8%8F%AF%E9%8A%80%E8%A1%8C+%E5%AD%90%E5%85%AC%E5%8F%B8&amp;rlz=1C5CHFA_enTW718TW718&amp;ie=UTF-8&amp;prmd=ivns&amp;ei=vSMTXIqRCYuL8wWK5pzAAg&amp;start=70&amp;sa=N\"><span class=\"csb\" style=\"background-position:-74px 0;width:20px\"></span>8</a></td><td><a class=\"fl\" href=\"/search?q=%E5%9C%8B%E6%B3%B0%E4%B8%96%E8%8F%AF%E9%8A%80%E8%A1%8C+%E5%AD%90%E5%85%AC%E5%8F%B8&amp;rlz=1C5CHFA_enTW718TW718&amp;ie=UTF-8&amp;prmd=ivns&amp;ei=vSMTXIqRCYuL8wWK5pzAAg&amp;start=80&amp;sa=N\"><span class=\"csb\" style=\"background-position:-74px 0;width:20px\"></span>9</a></td><td><a class=\"fl\" href=\"/search?q=%E5%9C%8B%E6%B3%B0%E4%B8%96%E8%8F%AF%E9%8A%80%E8%A1%8C+%E5%AD%90%E5%85%AC%E5%8F%B8&amp;rlz=1C5CHFA_enTW718TW718&amp;ie=UTF-8&amp;prmd=ivns&amp;ei=vSMTXIqRCYuL8wWK5pzAAg&amp;start=90&amp;sa=N\"><span class=\"csb\" style=\"background-position:-74px 0;width:20px\"></span>10</a></td><td class=\"b\" style=\"text-align:left\"><a class=\"fl\" href=\"/search?q=%E5%9C%8B%E6%B3%B0%E4%B8%96%E8%8F%AF%E9%8A%80%E8%A1%8C+%E5%AD%90%E5%85%AC%E5%8F%B8&amp;rlz=1C5CHFA_enTW718TW718&amp;ie=UTF-8&amp;prmd=ivns&amp;ei=vSMTXIqRCYuL8wWK5pzAAg&amp;start=10&amp;sa=N\" style=\"text-align:left\"><span class=\"csb\" style=\"background-position:-96px 0;width:71px\"></span><span style=\"display:block;margin-left:53px\">下一頁</span></a></td></tr></table><p class=\"A8ul6\" id=\"bfl\" style=\"margin:19px 0 0;text-align:center\"><a href=\"/advanced_search?q=%E5%9C%8B%E6%B3%B0%E4%B8%96%E8%8F%AF%E9%8A%80%E8%A1%8C+%E5%AD%90%E5%85%AC%E5%8F%B8&amp;rlz=1C5CHFA_enTW718TW718&amp;ie=UTF-8&amp;prmd=ivns\">進階搜尋</a><a href=\"/support/websearch/bin/answer.py?answer=134479&amp;hl=zh-TW\">搜尋說明</a> <a href=\"/tools/feedback/survey/html?productId=196&amp;query=%E5%9C%8B%E6%B3%B0%E4%B8%96%E8%8F%AF%E9%8A%80%E8%A1%8C+%E5%AD%90%E5%85%AC%E5%8F%B8&amp;hl=zh-TW\">提供意見</a></p><div class=\"A8ul6\" id=\"fll\" style=\"margin:19px auto 19px auto;text-align:center\"><a href=\"/\"> Google 首頁 </a> <a href=\"/intl/zh-TW/ads\">廣告計劃</a> <a href=\"/intl/zh-TW/policies/privacy/\">隱私權</a> <a href=\"/intl/zh-TW/policies/terms/\">服務條款</a> <a href=\"/intl/zh-TW/about.html\">關於 Google</a></div></div></td><td id=\"rhs_block\" valign=\"top\"><ol><div class=\"g\"><div class=\"VBt9Dc hp-xpdbox\"><div class=\"R8KuR\" style=\"float:right\"><div class=\"OSMzvb\" style=\"height:76px;width:86px\"><a href=\"/url?q=https://www.mybank.com.tw/myatm/howtouse03_01.asp&amp;sa=U&amp;ved=0ahUKEwjK49PgsJ7fAhWLxbwKHQozBygQndQBCHswDg&amp;usg=AOvVaw2bKHQ_adjxern2VMV2ej0N\"><img src=\"https://encrypted-tbn0.gstatic.com/images?q=tbn:ANd9GcS_A4C9dd5ZkPFu2hX_r_jAbQIvmhcnyU1J1UeAqkyfDzbIRM8u-WFyJWA\" style=\"margin-left:0px;margin-right:0px\" title=\"https://www.mybank.com.tw/myatm/howtouse03_01.asp\" alt=\"「國泰世華銀行 子公司」的圖片搜尋結果\"></a></div></div><div class=\"V7Q8V\"><div><div class=\"FSP1Dd\">國泰世華商業銀行</div></div></div><div class=\"V7Q8V\"><div class=\"mraOPb\"><span>國泰世華商業銀行股份有限公司，簡稱國泰世華銀行，為臺灣的大型商業銀行之一，由原世華聯合商業銀行與國泰商業銀行合併後更名。\\n世華聯合商業銀行與國泰商業銀行皆為國泰金融控股公司之子公司。國泰金控為使銀行金融資源更為有效利用，所以於2003年10月27日進行合併。 <a class=\"fl\" href=\"/url?q=https://zh.wikipedia.org/zh-tw/%25E5%259C%258B%25E6%25B3%25B0%25E4%25B8%2596%25E8%258F%25AF%25E5%2595%2586%25E6%25A5%25AD%25E9%258A%2580%25E8%25A1%258C&amp;sa=U&amp;ved=0ahUKEwjK49PgsJ7fAhWLxbwKHQozBygQmhMIgAEoADAQ&amp;usg=AOvVaw20Kuy6Drj1ITejytXtAo0h\">維基百科</a></span></div></div><div class=\"V7Q8V\" style=\"display:none\"></div><div class=\"V7Q8V\"></div><div class=\"V7Q8V\"><span class=\"cC4Myd\">總部： </span><span class=\"A1t5ne\"><a class=\"A1t5ne fl\" href=\"/search?rlz=1C5CHFA_enTW718TW718&amp;ie=UTF-8&amp;q=%E5%8F%B0%E5%8C%97%E5%B8%82&amp;stick=H4sIAAAAAAAAAOPgE-LUz9U3SK6yzEhS4gAx00qyK7S0spOt9POL0hPzMqsSSzLz81A4VhmpiSmFpYlFJalFxQCLie35QwAAAA&amp;sa=X&amp;ved=0ahUKEwjK49PgsJ7fAhWLxbwKHQozBygQmxMIhAEoADAT\">臺北市</a></span></div><div class=\"V7Q8V\"><span class=\"cC4Myd\">上級機構： </span><span class=\"A1t5ne\"><a class=\"A1t5ne fl\" href=\"/search?rlz=1C5CHFA_enTW718TW718&amp;ie=UTF-8&amp;q=%E5%9C%8B%E6%B3%B0%E9%87%91%E8%9E%8D%E6%8E%A7%E8%82%A1&amp;stick=H4sIAAAAAAAAAOPgE-LUz9U3SK6yzEhS4tZP1zc0NS0yKCy20FLOKLfST87PyUlNLsnMz9PPL0pPzMusSgRxiq0KEotS80oAeM3vEz8AAAA&amp;sa=X&amp;ved=0ahUKEwjK49PgsJ7fAhWLxbwKHQozBygQmxMIhwEoADAU\">國泰金融控股公司</a></span></div><div class=\"V7Q8V\"><span class=\"cC4Myd\">營業據點數目： </span><span class=\"A1t5ne\">165 (<a class=\"A1t5ne fl\" href=\"/search?rlz=1C5CHFA_enTW718TW718&amp;ie=UTF-8&amp;q=branch+banking&amp;stick=H4sIAAAAAAAAAOPgE-LUz9U3SK6yzEhSAjMzDMrKLLV0M8qt9JPzc3JSk0sy8_P084vSE_MyqxJBnGKrnPxkCEshrzQ3KbUIAJhAJKxHAAAA&amp;sa=X&amp;ved=0ahUKEwjK49PgsJ7fAhWLxbwKHQozBygQmxMIigEoADAV\">Branch</a>)</span></div><div class=\"V7Q8V\"><span class=\"cC4Myd\">代表人： </span><span class=\"A1t5ne\">董事長：郭明鑑; 總經理：李偉正</span></div><div class=\"V7Q8V\"><span class=\"cC4Myd\">實收資本額： </span><span class=\"A1t5ne\">新臺幣786億元</span></div><div class=\"V7Q8V\"><span class=\"cC4Myd\">子公司： </span><span class=\"A1t5ne\"><a class=\"A1t5ne fl\" href=\"/search?rlz=1C5CHFA_enTW718TW718&amp;ie=UTF-8&amp;q=%E4%B8%96%E8%B6%8A%E9%8A%80%E8%A1%8C&amp;stick=H4sIAAAAAAAAAOPgE-LUz9U3SK6yzEhS4tVP1zc0TC42MzEwTqrQ0swot9JPzs_JSU0uyczP088vSk_My6xKBHGKrYpLk4ozUzITizJTiwFUql_aRwAAAA&amp;sa=X&amp;ved=0ahUKEwjK49PgsJ7fAhWLxbwKHQozBygQmxMIkQEoADAY\">世越銀行</a></span><span>， <a class=\"fl\" href=\"/search?rlz=1C5CHFA_enTW718TW718&amp;ie=UTF-8&amp;q=%E5%9C%8B%E6%B3%B0%E4%B8%96%E8%8F%AF%E5%95%86%E6%A5%AD%E9%8A%80%E8%A1%8C+%E5%AD%90%E5%85%AC%E5%8F%B8&amp;stick=H4sIAAAAAAAAAOPgE-LUz9U3SK6yzEjS0swot9JPzs_JSU0uyczP088vSk_My6xKBHGKrYpLk4ozUzITizJTiwHw9o4jOAAAAA\">更多內容</a></span></div><div class=\"dXAUyb\"><div class=\"lHETUb\">其他人也搜尋了</div><div class=\"xKoZHf B27ELd\" style=\"width:72px\"><div class=\"tQOFN\" style=\"height:72px\"><a class=\"FEM55\" href=\"/search?rlz=1C5CHFA_enTW718TW718&amp;ie=UTF-8&amp;q=%E4%B8%AD%E5%9C%8B%E4%BF%A1%E8%A8%97%E5%95%86%E6%A5%AD%E9%8A%80%E8%A1%8C&amp;stick=H4sIAAAAAAAAAONgFuLUz9U3SK6yzEhS4gIxTQyNSirMtPic83Nz8_OCM1NSyxMriwEJpsXeKQAAAA&amp;sa=X&amp;ved=0ahUKEwjK49PgsJ7fAhWLxbwKHQozBygQsQ4IlQEwGQ\"><img alt=\"中國信託商業銀行\" height=\"21px\" src=\"https://encrypted-tbn2.gstatic.com/images?q=tbn:ANd9GcQgXzd-8m5FUkUHsKb1xLa3uFPMuPcN3AoGHTRuHgON5boUziP3ubQm\" style=\"margin-top:25px\" title=\"中國信託商業銀行\" width=\"72px\"></a></div><div class=\"brYqc\"><a class=\"fl\" href=\"/search?rlz=1C5CHFA_enTW718TW718&amp;ie=UTF-8&amp;q=%E4%B8%AD%E5%9C%8B%E4%BF%A1%E8%A8%97%E5%95%86%E6%A5%AD%E9%8A%80%E8%A1%8C&amp;stick=H4sIAAAAAAAAAONgFuLUz9U3SK6yzEhS4gIxTQyNSirMtPic83Nz8_OCM1NSyxMriwEJpsXeKQAAAA&amp;sa=X&amp;ved=0ahUKEwjK49PgsJ7fAhWLxbwKHQozBygQxA0IlgEwGQ\" title=\"中國信託商業銀行\">中國信託商業銀行</a><div class=\"czonVc\" title=\"中國信託商業銀行\"></div></div></div><div class=\"B27ELd\" style=\"width:72px\"><div class=\"tQOFN\" style=\"height:72px\"><a class=\"FEM55\" href=\"/search?rlz=1C5CHFA_enTW718TW718&amp;ie=UTF-8&amp;q=%E7%8E%89%E5%B1%B1%E9%8A%80%E8%A1%8C&amp;stick=H4sIAAAAAAAAAONgFuLUz9U3SK6yzEhS4gIx84yLLYyMtPic83Nz8_OCM1NSyxMriwFN1PXoKQAAAA&amp;sa=X&amp;ved=0ahUKEwjK49PgsJ7fAhWLxbwKHQozBygQsQ4ImAEwGQ\"><img alt=\"玉山商業銀行\" height=\"60px\" src=\"https://encrypted-tbn2.gstatic.com/images?q=tbn:ANd9GcQlfvRkVSN4sPBHvxLltBxaYXJ51KjO2QCtw2alllcU--ogtzcF2POo\" style=\"margin-top:6px\" title=\"玉山商業銀行\" width=\"72px\"></a></div><div class=\"brYqc\"><a class=\"fl\" href=\"/search?rlz=1C5CHFA_enTW718TW718&amp;ie=UTF-8&amp;q=%E7%8E%89%E5%B1%B1%E9%8A%80%E8%A1%8C&amp;stick=H4sIAAAAAAAAAONgFuLUz9U3SK6yzEhS4gIx84yLLYyMtPic83Nz8_OCM1NSyxMriwFN1PXoKQAAAA&amp;sa=X&amp;ved=0ahUKEwjK49PgsJ7fAhWLxbwKHQozBygQxA0ImQEwGQ\" title=\"玉山商業銀行\">玉山商業銀行</a><div class=\"czonVc\" title=\"玉山商業銀行\"></div></div></div><div class=\"ty7XEe B27ELd\" style=\"width:72px\"><div class=\"tQOFN\" style=\"height:72px\"><a class=\"FEM55\" href=\"/search?rlz=1C5CHFA_enTW718TW718&amp;ie=UTF-8&amp;q=%E5%8F%B0%E6%96%B0%E5%9C%8B%E9%9A%9B%E5%95%86%E6%A5%AD%E9%8A%80%E8%A1%8C&amp;stick=H4sIAAAAAAAAAONgFuLUz9U3SK6yzEhSAjNTTPOMUrT4nPNzc_PzgjNTUssTK4sBKTEIiigAAAA&amp;sa=X&amp;ved=0ahUKEwjK49PgsJ7fAhWLxbwKHQozBygQsQ4ImwEwGQ\"><img alt=\"台新國際商業銀行\" height=\"42px\" src=\"https://encrypted-tbn0.gstatic.com/images?q=tbn:ANd9GcTKGXw-qQFO3kd05acO0TKKDJBnUk0AUz2_nzZr8jMUP1B6oKwvhGLU\" style=\"margin-top:15px\" title=\"台新國際商業銀行\" width=\"72px\"></a></div><div class=\"brYqc\"><a class=\"fl\" href=\"/search?rlz=1C5CHFA_enTW718TW718&amp;ie=UTF-8&amp;q=%E5%8F%B0%E6%96%B0%E5%9C%8B%E9%9A%9B%E5%95%86%E6%A5%AD%E9%8A%80%E8%A1%8C&amp;stick=H4sIAAAAAAAAAONgFuLUz9U3SK6yzEhSAjNTTPOMUrT4nPNzc_PzgjNTUssTK4sBKTEIiigAAAA&amp;sa=X&amp;ved=0ahUKEwjK49PgsJ7fAhWLxbwKHQozBygQxA0InAEwGQ\" title=\"台新國際商業銀行\">台新國際商業銀行</a><div class=\"czonVc\" title=\"台新國際商業銀行\"></div></div></div><br><div class=\"xKoZHf B27ELd\" style=\"width:72px\"><div class=\"tQOFN\" style=\"height:72px\"><a class=\"FEM55\" href=\"/search?rlz=1C5CHFA_enTW718TW718&amp;ie=UTF-8&amp;q=%E5%85%83%E5%A4%A7%E5%95%86%E6%A5%AD%E9%8A%80%E8%A1%8C&amp;stick=H4sIAAAAAAAAAONgFuLUz9U3SK6yzEhS4tZP1zc0NS02yzEv1OJzzs_Nzc8LzkxJLU-sLAYAJ_ktOCoAAAA&amp;sa=X&amp;ved=0ahUKEwjK49PgsJ7fAhWLxbwKHQozBygQsQ4IngEwGQ\"><img alt=\"元大商業銀行\" height=\"25px\" src=\"https://encrypted-tbn2.gstatic.com/images?q=tbn:ANd9GcQfg8kk5WDKdV4oYbfslf3CVx6W7qxT3q5_xOx5hBwLV6FrSFAiWgPM\" style=\"margin-top:23px\" title=\"元大商業銀行\" width=\"72px\"></a></div><div class=\"brYqc\"><a class=\"fl\" href=\"/search?rlz=1C5CHFA_enTW718TW718&amp;ie=UTF-8&amp;q=%E5%85%83%E5%A4%A7%E5%95%86%E6%A5%AD%E9%8A%80%E8%A1%8C&amp;stick=H4sIAAAAAAAAAONgFuLUz9U3SK6yzEhS4tZP1zc0NS02yzEv1OJzzs_Nzc8LzkxJLU-sLAYAJ_ktOCoAAAA&amp;sa=X&amp;ved=0ahUKEwjK49PgsJ7fAhWLxbwKHQozBygQxA0InwEwGQ\" title=\"元大商業銀行\">元大商業銀行</a><div class=\"czonVc\" title=\"元大商業銀行\"></div></div></div><div class=\"B27ELd\" style=\"width:72px\"><div class=\"tQOFN\" style=\"height:72px\"><a class=\"FEM55\" href=\"/search?rlz=1C5CHFA_enTW718TW718&amp;ie=UTF-8&amp;q=%E9%81%A0%E6%9D%B1%E5%9C%8B%E9%9A%9B%E5%95%86%E6%A5%AD%E9%8A%80%E8%A1%8C&amp;stick=H4sIAAAAAAAAAONgFuLUz9U3SK6yzEhS4tZP1zc0NS2KN83K0uJzzs_Nzc8LzkxJLU-sLAYAW0MYNSoAAAA&amp;sa=X&amp;ved=0ahUKEwjK49PgsJ7fAhWLxbwKHQozBygQsQ4IoQEwGQ\"><img alt=\"遠東國際商業銀行\" height=\"18px\" src=\"https://encrypted-tbn3.gstatic.com/images?q=tbn:ANd9GcQvUen52XrImNzx__G5oLrK_ngnRrDjvWf4rOc9-svVy9lBUIn8fXSF\" style=\"margin-top:27px\" title=\"遠東國際商業銀行\" width=\"72px\"></a></div><div class=\"brYqc\"><a class=\"fl\" href=\"/search?rlz=1C5CHFA_enTW718TW718&amp;ie=UTF-8&amp;q=%E9%81%A0%E6%9D%B1%E5%9C%8B%E9%9A%9B%E5%95%86%E6%A5%AD%E9%8A%80%E8%A1%8C&amp;stick=H4sIAAAAAAAAAONgFuLUz9U3SK6yzEhS4tZP1zc0NS2KN83K0uJzzs_Nzc8LzkxJLU-sLAYAW0MYNSoAAAA&amp;sa=X&amp;ved=0ahUKEwjK49PgsJ7fAhWLxbwKHQozBygQxA0IogEwGQ\" title=\"遠東國際商業銀行\">遠東國際商業銀行</a><div class=\"czonVc\" title=\"遠東國際商業銀行\"></div></div></div><div class=\"ty7XEe B27ELd\" style=\"width:72px\"><div class=\"tQOFN\" style=\"height:72px\"><a class=\"FEM55\" href=\"/search?rlz=1C5CHFA_enTW718TW718&amp;ie=UTF-8&amp;q=%E8%8F%AF%E5%8D%97%E9%8A%80%E8%A1%8C&amp;stick=H4sIAAAAAAAAAONgFuLUz9U3SK6yzEhS4tZP1zc0MjQoKs-20OJzzs_Nzc8LzkxJLU-sLAYAqWJN6yoAAAA&amp;sa=X&amp;ved=0ahUKEwjK49PgsJ7fAhWLxbwKHQozBygQsQ4IpAEwGQ\"><img alt=\"華南銀行\" height=\"19px\" src=\"https://encrypted-tbn3.gstatic.com/images?q=tbn:ANd9GcQ_uNtlZbPs7PA-5lgAyGdlejsYFQTZqOKxBiIvR6OvcmG6sLaN4g4A\" style=\"margin-top:26px\" title=\"華南銀行\" width=\"72px\"></a></div><div class=\"brYqc\"><a class=\"fl\" href=\"/search?rlz=1C5CHFA_enTW718TW718&amp;ie=UTF-8&amp;q=%E8%8F%AF%E5%8D%97%E9%8A%80%E8%A1%8C&amp;stick=H4sIAAAAAAAAAONgFuLUz9U3SK6yzEhS4tZP1zc0MjQoKs-20OJzzs_Nzc8LzkxJLU-sLAYAqWJN6yoAAAA&amp;sa=X&amp;ved=0ahUKEwjK49PgsJ7fAhWLxbwKHQozBygQxA0IpQEwGQ\" title=\"華南銀行\">華南銀行</a><div class=\"czonVc\" title=\"華南銀行\"></div></div></div><br></div></div></div></ol></td></tr></tbody></table><script type=\"text/javascript\" nonce=\"ySG52xylroJFxX9umEcEYg==\">(function(){var eventid=\\'vSMTXIqRCYuL8wWK5pzAAg\\';google.kEI = eventid;})();</script><script src=\"/xjs/_/js/k=xjs.hp.en.0GauuOqvTPw.O/m=sb_he,d/rt=j/d=1/rs=ACT90oFKQaTShRdyxBSo-VxANFPbcIx10A\" nonce=\"ySG52xylroJFxX9umEcEYg==\"></script><script type=\"text/javascript\" nonce=\"ySG52xylroJFxX9umEcEYg==\">google.ac&&google.ac.c({\"agen\":true,\"cgen\":true,\"client\":\"heirloom-serp\",\"dh\":true,\"dhqt\":true,\"ds\":\"\",\"ffql\":\"zh-TW\",\"fl\":true,\"host\":\"google.com.tw\",\"isbh\":28,\"jsonp\":true,\"msgs\":{\"cibl\":\"清除搜尋\",\"dym\":\"您是不是要查：\",\"lcky\":\"好手氣\",\"lml\":\"瞭解詳情\",\"oskt\":\"輸入工具\",\"psrc\":\"已從您的「\\\\u003Ca href=\\\\\"/history\\\\\"\\\\u003E網頁記錄\\\\u003C/a\\\\u003E」中移除這筆搜尋記錄\",\"psrl\":\"移除\",\"sbit\":\"以圖搜尋\",\"srch\":\"Google 搜尋\"},\"ovr\":{},\"pq\":\"國泰世華銀行 子公司\",\"refpd\":true,\"refspre\":true,\"rfs\":[\"國泰世華銀行分行\",\"國泰世華合併案\",\"國泰世華銀行信用卡\",\"國泰世華銀行英文\",\"國泰世華客服\",\"國泰世華atm\",\"國泰世華銀行總部\",\"世華聯合商業銀行歷史\",\"國泰世華英文縮寫\",\"國泰世華企業文化\"],\"sbpl\":24,\"sbpr\":24,\"scd\":10,\"sce\":5,\"stok\":\"IpiULCtKlJZ92z7FZYy-JWSuj4M\",\"uhde\":false})</script><script nonce=\"ySG52xylroJFxX9umEcEYg==\">(function(){window.google.cdo={height:0,width:0};(function(){var a=window.innerWidth,b=window.innerHeight;if(!a||!b){var c=window.document,d=\"CSS1Compat\"==c.compatMode?c.documentElement:c.body;a=d.clientWidth;b=d.clientHeight}a&&b&&(a!=google.cdo.width||b!=google.cdo.height)&&google.log(\"\",\"\",\"/client_204?&atyp=i&biw=\"+a+\"&bih=\"+b+\"&ei=\"+google.kEI);}).call(this);})();</script></body></html>'"
      ]
     },
     "execution_count": 77,
     "metadata": {},
     "output_type": "execute_result"
    }
   ],
   "source": [
    "res.text"
   ]
  },
  {
   "cell_type": "code",
   "execution_count": null,
   "metadata": {},
   "outputs": [],
   "source": []
  }
 ],
 "metadata": {
  "kernelspec": {
   "display_name": "Python 3",
   "language": "python",
   "name": "python3"
  },
  "language_info": {
   "codemirror_mode": {
    "name": "ipython",
    "version": 3
   },
   "file_extension": ".py",
   "mimetype": "text/x-python",
   "name": "python",
   "nbconvert_exporter": "python",
   "pygments_lexer": "ipython3",
   "version": "3.6.2"
  }
 },
 "nbformat": 4,
 "nbformat_minor": 2
}
