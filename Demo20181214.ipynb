{
 "cells": [
  {
   "cell_type": "code",
   "execution_count": 1,
   "metadata": {},
   "outputs": [],
   "source": [
    "import requests\n",
    "res = requests.get('https://zh.wikipedia.org/wiki/Google')"
   ]
  },
  {
   "cell_type": "code",
   "execution_count": 3,
   "metadata": {},
   "outputs": [],
   "source": [
    "from bs4 import BeautifulSoup\n",
    "soup = BeautifulSoup(res.text, 'lxml')"
   ]
  },
  {
   "cell_type": "code",
   "execution_count": 9,
   "metadata": {},
   "outputs": [],
   "source": [
    "#soup.select_one('.infobox')\n",
    "#soup.select_one('.vcard')\n",
    "vcard = soup.select_one('.infobox.vcard')"
   ]
  },
  {
   "cell_type": "markdown",
   "metadata": {},
   "source": [
    "## W3School Table\n",
    "- https://www.w3schools.com/html/html_tables.asp"
   ]
  },
  {
   "cell_type": "code",
   "execution_count": 17,
   "metadata": {},
   "outputs": [],
   "source": [
    "a = 1\n",
    "\n",
    "if a > 3:\n",
    "    print('GO')\n"
   ]
  },
  {
   "cell_type": "code",
   "execution_count": 25,
   "metadata": {},
   "outputs": [],
   "source": [
    "#a = None\n",
    "#a= False\n",
    "#a = []\n",
    "#a = {}\n",
    "if a:\n",
    "    print('GO')"
   ]
  },
  {
   "cell_type": "code",
   "execution_count": 22,
   "metadata": {},
   "outputs": [
    {
     "name": "stdout",
     "output_type": "stream",
     "text": [
      "GO\n"
     ]
    }
   ],
   "source": [
    "#a = True\n",
    "#a = 9\n",
    "#a = [1]\n",
    "#a = {1}\n",
    "if a:\n",
    "    print('GO')"
   ]
  },
  {
   "cell_type": "code",
   "execution_count": 27,
   "metadata": {},
   "outputs": [
    {
     "name": "stdout",
     "output_type": "stream",
     "text": [
      "公司類型 子公司\n",
      "========================\n",
      "創辦人 拉里·佩奇、谢尔盖·布林\n",
      "========================\n",
      "代表人物 桑德爾·皮蔡（CEO）\n",
      "========================\n",
      "總部 美國加利福尼亚州山景城Googleplex\n",
      "========================\n",
      "標語口號 Don't be evil.（不作恶）\n",
      "========================\n",
      "業務範圍 世界\n",
      "========================\n",
      "产业 互联网、软件、通訊裝置\n",
      "========================\n",
      "產品 参见Google产品列表\n",
      "========================\n",
      "營業額 ▲US$858.07亿（2016年）[1]\n",
      "========================\n",
      "息税前利润 ▲US$224.93亿（2016年）[1]\n",
      "========================\n",
      "净利润 ▲US$190.68亿（2016年）[1]\n",
      "========================\n",
      "總資產 ▲US$1,304.26亿（2014年）[1]\n",
      "========================\n",
      "資產淨值 ▲US$1,038.60亿（2014年）[1]\n",
      "========================\n",
      "員工人數 80,110（2017年Q4，Alphabet Inc.员工总数）[2]\n",
      "========================\n",
      "母公司 Alphabet Inc.\n",
      "========================\n",
      "网站 www.google.com\n",
      "========================\n"
     ]
    }
   ],
   "source": [
    "for tr in vcard.select('tr'):\n",
    "    if tr.select_one('th') and tr.select_one('td'):\n",
    "        print(tr.select_one('th').text.strip(), tr.select_one('td').text.strip())\n",
    "        print('========================')"
   ]
  },
  {
   "cell_type": "code",
   "execution_count": null,
   "metadata": {},
   "outputs": [],
   "source": []
  }
 ],
 "metadata": {
  "kernelspec": {
   "display_name": "Python 3",
   "language": "python",
   "name": "python3"
  },
  "language_info": {
   "codemirror_mode": {
    "name": "ipython",
    "version": 3
   },
   "file_extension": ".py",
   "mimetype": "text/x-python",
   "name": "python",
   "nbconvert_exporter": "python",
   "pygments_lexer": "ipython3",
   "version": "3.6.2"
  }
 },
 "nbformat": 4,
 "nbformat_minor": 2
}
