{
 "cells": [
  {
   "cell_type": "markdown",
   "metadata": {},
   "source": [
    "## GET"
   ]
  },
  {
   "cell_type": "code",
   "execution_count": 23,
   "metadata": {},
   "outputs": [
    {
     "data": {
      "text/plain": [
       "<Response [200]>"
      ]
     },
     "execution_count": 23,
     "metadata": {},
     "output_type": "execute_result"
    }
   ],
   "source": [
    "import requests\n",
    "#res = requests.get('https://tw.appledaily.com/new/realtime', verify=False)\n",
    "res = requests.get('https://tw.appledaily.com/new/realtime')\n",
    "res"
   ]
  },
  {
   "cell_type": "markdown",
   "metadata": {},
   "source": [
    "## HTTP 狀態碼\n",
    "- https://zh.wikipedia.org/wiki/HTTP%E7%8A%B6%E6%80%81%E7%A0%81"
   ]
  },
  {
   "cell_type": "code",
   "execution_count": 24,
   "metadata": {},
   "outputs": [
    {
     "name": "stdout",
     "output_type": "stream",
     "text": [
      "['__attrs__', '__bool__', '__class__', '__delattr__', '__dict__', '__dir__', '__doc__', '__enter__', '__eq__', '__exit__', '__format__', '__ge__', '__getattribute__', '__getstate__', '__gt__', '__hash__', '__init__', '__init_subclass__', '__iter__', '__le__', '__lt__', '__module__', '__ne__', '__new__', '__nonzero__', '__reduce__', '__reduce_ex__', '__repr__', '__setattr__', '__setstate__', '__sizeof__', '__str__', '__subclasshook__', '__weakref__', '_content', '_content_consumed', '_next', 'apparent_encoding', 'close', 'connection', 'content', 'cookies', 'elapsed', 'encoding', 'headers', 'history', 'is_permanent_redirect', 'is_redirect', 'iter_content', 'iter_lines', 'json', 'links', 'next', 'ok', 'raise_for_status', 'raw', 'reason', 'request', 'status_code', 'text', 'url']\n"
     ]
    }
   ],
   "source": [
    "print(dir(res))"
   ]
  },
  {
   "cell_type": "code",
   "execution_count": 29,
   "metadata": {},
   "outputs": [
    {
     "data": {
      "text/plain": [
       "requests.models.Response"
      ]
     },
     "execution_count": 29,
     "metadata": {},
     "output_type": "execute_result"
    }
   ],
   "source": [
    "type(res)"
   ]
  },
  {
   "cell_type": "code",
   "execution_count": 27,
   "metadata": {},
   "outputs": [],
   "source": [
    "#res.text"
   ]
  },
  {
   "cell_type": "code",
   "execution_count": 10,
   "metadata": {},
   "outputs": [],
   "source": [
    "import speech_recognition\n",
    "r = speech_recognition.Recognizer()\n",
    "\n",
    "voice = speech_recognition.AudioFile('/Users/davidchiu/Downloads/out8396308749427800915.wav')\n",
    "with voice as source:\n",
    "    audio = r.record(source)\n",
    "\n",
    "captcha = r.recognize_google(audio, language='en')"
   ]
  },
  {
   "cell_type": "code",
   "execution_count": 11,
   "metadata": {},
   "outputs": [
    {
     "data": {
      "text/plain": [
       "'9475'"
      ]
     },
     "execution_count": 11,
     "metadata": {},
     "output_type": "execute_result"
    }
   ],
   "source": [
    "captcha"
   ]
  },
  {
   "cell_type": "markdown",
   "metadata": {},
   "source": [
    "## POST"
   ]
  },
  {
   "cell_type": "code",
   "execution_count": 12,
   "metadata": {},
   "outputs": [],
   "source": [
    "import requests\n",
    "url = 'http://www.thsrc.com.tw/tw/TimeTable/Search'\n",
    "\n",
    "payload = {\n",
    "'StartStationName':  '台北站',\n",
    "'EndStationName'  :  '新竹站',\n",
    "'SearchType'  : 'S',\n",
    "'StartStation': '977abb69-413a-4ccf-a109-0272c24fd490',\n",
    "'EndStation'  : 'a7a04c89-900b-4798-95a3-c01c455622f4',\n",
    "'DepartueSearchDate': '2018/10/30',\n",
    "'DepartueSearchTime': '12:00',    \n",
    "    \n",
    "} \n",
    "\n",
    "res = requests.post(url, data = payload)"
   ]
  },
  {
   "cell_type": "code",
   "execution_count": 13,
   "metadata": {},
   "outputs": [
    {
     "data": {
      "text/plain": [
       "<Response [200]>"
      ]
     },
     "execution_count": 13,
     "metadata": {},
     "output_type": "execute_result"
    }
   ],
   "source": [
    "res"
   ]
  },
  {
   "cell_type": "code",
   "execution_count": 20,
   "metadata": {},
   "outputs": [],
   "source": [
    "#res.text\n",
    "jd = res.json()\n",
    "import pandas\n",
    "df = pandas.DataFrame(jd['data']['DepartureTable']['TrainItem'])"
   ]
  },
  {
   "cell_type": "code",
   "execution_count": 22,
   "metadata": {},
   "outputs": [
    {
     "data": {
      "text/html": [
       "<div>\n",
       "<style>\n",
       "    .dataframe thead tr:only-child th {\n",
       "        text-align: right;\n",
       "    }\n",
       "\n",
       "    .dataframe thead th {\n",
       "        text-align: left;\n",
       "    }\n",
       "\n",
       "    .dataframe tbody tr th {\n",
       "        vertical-align: top;\n",
       "    }\n",
       "</style>\n",
       "<table border=\"1\" class=\"dataframe\">\n",
       "  <thead>\n",
       "    <tr style=\"text-align: right;\">\n",
       "      <th></th>\n",
       "      <th>DepartureTime</th>\n",
       "      <th>DestinationTime</th>\n",
       "      <th>Discount</th>\n",
       "      <th>Duration</th>\n",
       "      <th>NonReservedCar</th>\n",
       "      <th>Note</th>\n",
       "      <th>Sequence</th>\n",
       "      <th>StationInfo</th>\n",
       "      <th>TrainNumber</th>\n",
       "    </tr>\n",
       "  </thead>\n",
       "  <tbody>\n",
       "    <tr>\n",
       "      <th>0</th>\n",
       "      <td>06:26</td>\n",
       "      <td>07:00</td>\n",
       "      <td>[{'Id': '68d9fc7b-7330-44c2-962a-74bc47d2ee8a'...</td>\n",
       "      <td>00:34</td>\n",
       "      <td>4</td>\n",
       "      <td></td>\n",
       "      <td>0</td>\n",
       "      <td>[{'StationNo': '01', 'StationName': '南港站', 'De...</td>\n",
       "      <td>0803</td>\n",
       "    </tr>\n",
       "  </tbody>\n",
       "</table>\n",
       "</div>"
      ],
      "text/plain": [
       "  DepartureTime DestinationTime  \\\n",
       "0         06:26           07:00   \n",
       "\n",
       "                                            Discount Duration NonReservedCar  \\\n",
       "0  [{'Id': '68d9fc7b-7330-44c2-962a-74bc47d2ee8a'...    00:34              4   \n",
       "\n",
       "  Note  Sequence                                        StationInfo  \\\n",
       "0              0  [{'StationNo': '01', 'StationName': '南港站', 'De...   \n",
       "\n",
       "  TrainNumber  \n",
       "0        0803  "
      ]
     },
     "execution_count": 22,
     "metadata": {},
     "output_type": "execute_result"
    }
   ],
   "source": [
    "df.head(1)"
   ]
  },
  {
   "cell_type": "markdown",
   "metadata": {},
   "source": [
    "## BeautifulSoup4"
   ]
  },
  {
   "cell_type": "code",
   "execution_count": 28,
   "metadata": {},
   "outputs": [
    {
     "name": "stdout",
     "output_type": "stream",
     "text": [
      "\n",
      "\n",
      "Hello World\n",
      "This is link1\n",
      "This is link2\n",
      "\n",
      "\n"
     ]
    }
   ],
   "source": [
    "from bs4 import BeautifulSoup \n",
    "\n",
    "html_sample = ''' \n",
    "<html> \n",
    " <body> \n",
    " <h1 id=\"title\">Hello World</h1> \n",
    " <a href=\"#\" class=\"link\">This is link1</a> \n",
    " <a href=\"# link2\" class=\"link\">This is link2</a> \n",
    " </body> \n",
    " </html>'''\n",
    "\n",
    "soup = BeautifulSoup(html_sample, 'lxml')\n",
    "print(soup.text)\n"
   ]
  },
  {
   "cell_type": "code",
   "execution_count": 30,
   "metadata": {},
   "outputs": [
    {
     "data": {
      "text/plain": [
       "bs4.BeautifulSoup"
      ]
     },
     "execution_count": 30,
     "metadata": {},
     "output_type": "execute_result"
    }
   ],
   "source": [
    "type(soup)"
   ]
  },
  {
   "cell_type": "code",
   "execution_count": 32,
   "metadata": {},
   "outputs": [
    {
     "data": {
      "text/plain": [
       "<h1 id=\"title\">Hello World</h1>"
      ]
     },
     "execution_count": 32,
     "metadata": {},
     "output_type": "execute_result"
    }
   ],
   "source": [
    "soup.select_one('h1')"
   ]
  },
  {
   "cell_type": "code",
   "execution_count": 33,
   "metadata": {},
   "outputs": [
    {
     "data": {
      "text/plain": [
       "'Hello World'"
      ]
     },
     "execution_count": 33,
     "metadata": {},
     "output_type": "execute_result"
    }
   ],
   "source": [
    "soup.select_one('h1').text"
   ]
  },
  {
   "cell_type": "code",
   "execution_count": 35,
   "metadata": {},
   "outputs": [
    {
     "data": {
      "text/plain": [
       "<a class=\"link\" href=\"#\">This is link1</a>"
      ]
     },
     "execution_count": 35,
     "metadata": {},
     "output_type": "execute_result"
    }
   ],
   "source": [
    "soup.select_one('a')"
   ]
  },
  {
   "cell_type": "code",
   "execution_count": 36,
   "metadata": {},
   "outputs": [
    {
     "data": {
      "text/plain": [
       "'This is link1'"
      ]
     },
     "execution_count": 36,
     "metadata": {},
     "output_type": "execute_result"
    }
   ],
   "source": [
    "soup.select_one('a').text"
   ]
  },
  {
   "cell_type": "code",
   "execution_count": 38,
   "metadata": {},
   "outputs": [
    {
     "data": {
      "text/plain": [
       "bs4.element.Tag"
      ]
     },
     "execution_count": 38,
     "metadata": {},
     "output_type": "execute_result"
    }
   ],
   "source": [
    "type(soup.select_one('a'))"
   ]
  },
  {
   "cell_type": "code",
   "execution_count": 39,
   "metadata": {},
   "outputs": [
    {
     "data": {
      "text/plain": [
       "[<a class=\"link\" href=\"#\">This is link1</a>,\n",
       " <a class=\"link\" href=\"# link2\">This is link2</a>]"
      ]
     },
     "execution_count": 39,
     "metadata": {},
     "output_type": "execute_result"
    }
   ],
   "source": [
    "soup.select('a')"
   ]
  },
  {
   "cell_type": "code",
   "execution_count": 40,
   "metadata": {},
   "outputs": [
    {
     "data": {
      "text/plain": [
       "list"
      ]
     },
     "execution_count": 40,
     "metadata": {},
     "output_type": "execute_result"
    }
   ],
   "source": [
    "type(soup.select('a'))"
   ]
  },
  {
   "cell_type": "code",
   "execution_count": 41,
   "metadata": {},
   "outputs": [
    {
     "data": {
      "text/plain": [
       "<a class=\"link\" href=\"#\">This is link1</a>"
      ]
     },
     "execution_count": 41,
     "metadata": {},
     "output_type": "execute_result"
    }
   ],
   "source": [
    "soup.select('a')[0]"
   ]
  },
  {
   "cell_type": "code",
   "execution_count": 42,
   "metadata": {},
   "outputs": [
    {
     "data": {
      "text/plain": [
       "'This is link1'"
      ]
     },
     "execution_count": 42,
     "metadata": {},
     "output_type": "execute_result"
    }
   ],
   "source": [
    "soup.select('a')[0].text"
   ]
  },
  {
   "cell_type": "code",
   "execution_count": 43,
   "metadata": {},
   "outputs": [
    {
     "data": {
      "text/plain": [
       "<a class=\"link\" href=\"# link2\">This is link2</a>"
      ]
     },
     "execution_count": 43,
     "metadata": {},
     "output_type": "execute_result"
    }
   ],
   "source": [
    "soup.select('a')[1]"
   ]
  },
  {
   "cell_type": "code",
   "execution_count": 44,
   "metadata": {},
   "outputs": [
    {
     "data": {
      "text/plain": [
       "'This is link2'"
      ]
     },
     "execution_count": 44,
     "metadata": {},
     "output_type": "execute_result"
    }
   ],
   "source": [
    "soup.select('a')[1].text"
   ]
  },
  {
   "cell_type": "code",
   "execution_count": 46,
   "metadata": {},
   "outputs": [
    {
     "data": {
      "text/plain": [
       "<h1 id=\"title\">Hello World</h1>"
      ]
     },
     "execution_count": 46,
     "metadata": {},
     "output_type": "execute_result"
    }
   ],
   "source": [
    "# id => #\n",
    "soup.select_one('#title')"
   ]
  },
  {
   "cell_type": "code",
   "execution_count": 47,
   "metadata": {},
   "outputs": [
    {
     "data": {
      "text/plain": [
       "[<a class=\"link\" href=\"#\">This is link1</a>,\n",
       " <a class=\"link\" href=\"# link2\">This is link2</a>]"
      ]
     },
     "execution_count": 47,
     "metadata": {},
     "output_type": "execute_result"
    }
   ],
   "source": [
    "# class => .\n",
    "soup.select('.link')"
   ]
  },
  {
   "cell_type": "code",
   "execution_count": 49,
   "metadata": {},
   "outputs": [
    {
     "data": {
      "text/plain": [
       "<h1 id=\"title\">Hello World</h1>"
      ]
     },
     "execution_count": 49,
     "metadata": {},
     "output_type": "execute_result"
    }
   ],
   "source": [
    "soup.select_one('h1#title')"
   ]
  },
  {
   "cell_type": "code",
   "execution_count": 51,
   "metadata": {},
   "outputs": [
    {
     "data": {
      "text/plain": [
       "<h1 id=\"title\">Hello World</h1>"
      ]
     },
     "execution_count": 51,
     "metadata": {},
     "output_type": "execute_result"
    }
   ],
   "source": [
    "soup.select_one('body #title')"
   ]
  },
  {
   "cell_type": "code",
   "execution_count": 52,
   "metadata": {},
   "outputs": [
    {
     "data": {
      "text/plain": [
       "<h1 id=\"title\">Hello World</h1>"
      ]
     },
     "execution_count": 52,
     "metadata": {},
     "output_type": "execute_result"
    }
   ],
   "source": [
    "soup.select_one('body h1#title')"
   ]
  },
  {
   "cell_type": "code",
   "execution_count": 53,
   "metadata": {},
   "outputs": [
    {
     "data": {
      "text/plain": [
       "[<a class=\"link\" href=\"#\">This is link1</a>,\n",
       " <a class=\"link\" href=\"# link2\">This is link2</a>]"
      ]
     },
     "execution_count": 53,
     "metadata": {},
     "output_type": "execute_result"
    }
   ],
   "source": [
    "soup.select('a')"
   ]
  },
  {
   "cell_type": "code",
   "execution_count": 55,
   "metadata": {},
   "outputs": [
    {
     "data": {
      "text/plain": [
       "[<a class=\"link\" href=\"#\">This is link1</a>,\n",
       " <a class=\"link\" href=\"# link2\">This is link2</a>]"
      ]
     },
     "execution_count": 55,
     "metadata": {},
     "output_type": "execute_result"
    }
   ],
   "source": [
    "soup.select('a.link')"
   ]
  },
  {
   "cell_type": "code",
   "execution_count": 56,
   "metadata": {},
   "outputs": [
    {
     "data": {
      "text/plain": [
       "[<a class=\"link\" href=\"#\">This is link1</a>,\n",
       " <a class=\"link\" href=\"# link2\">This is link2</a>]"
      ]
     },
     "execution_count": 56,
     "metadata": {},
     "output_type": "execute_result"
    }
   ],
   "source": [
    "soup.select('body a.link')"
   ]
  },
  {
   "cell_type": "code",
   "execution_count": 57,
   "metadata": {},
   "outputs": [
    {
     "name": "stdout",
     "output_type": "stream",
     "text": [
      "This is link1\n",
      "This is link2\n"
     ]
    }
   ],
   "source": [
    "for link in soup.select('body a.link'):\n",
    "    print(link.text)"
   ]
  },
  {
   "cell_type": "code",
   "execution_count": 59,
   "metadata": {},
   "outputs": [
    {
     "name": "stdout",
     "output_type": "stream",
     "text": [
      "#\n",
      "# link2\n"
     ]
    }
   ],
   "source": [
    "for link in soup.select('body a.link'):\n",
    "    print(link.get('href'))"
   ]
  },
  {
   "cell_type": "code",
   "execution_count": 60,
   "metadata": {},
   "outputs": [],
   "source": [
    "a = '<a href=\"https://www.largitdata.com\" data-attr=\"qoo\" data-whatever=\"oop\">largitdata</a>'"
   ]
  },
  {
   "cell_type": "code",
   "execution_count": 61,
   "metadata": {},
   "outputs": [],
   "source": [
    "s2 = BeautifulSoup(a, 'lxml')"
   ]
  },
  {
   "cell_type": "code",
   "execution_count": 63,
   "metadata": {},
   "outputs": [
    {
     "data": {
      "text/plain": [
       "'qoo'"
      ]
     },
     "execution_count": 63,
     "metadata": {},
     "output_type": "execute_result"
    }
   ],
   "source": [
    "s2.select_one('a').get('data-attr')"
   ]
  },
  {
   "cell_type": "code",
   "execution_count": 64,
   "metadata": {},
   "outputs": [
    {
     "data": {
      "text/plain": [
       "'oop'"
      ]
     },
     "execution_count": 64,
     "metadata": {},
     "output_type": "execute_result"
    }
   ],
   "source": [
    "s2.select_one('a').get('data-whatever')"
   ]
  },
  {
   "cell_type": "code",
   "execution_count": 65,
   "metadata": {},
   "outputs": [
    {
     "data": {
      "text/plain": [
       "'https://www.largitdata.com'"
      ]
     },
     "execution_count": 65,
     "metadata": {},
     "output_type": "execute_result"
    }
   ],
   "source": [
    "s2.select_one('a').get('href')"
   ]
  },
  {
   "cell_type": "markdown",
   "metadata": {},
   "source": [
    "## 簡單的匯率爬取程序"
   ]
  },
  {
   "cell_type": "code",
   "execution_count": 76,
   "metadata": {},
   "outputs": [],
   "source": [
    "import requests\n",
    "headers = {\n",
    "'Cookie': 'JSESSIONID=NTDCbT3FyYb1dyFJkRhDqr6kv1jwRmQNHhJp20JJ6bCQJ4LM6sMt!-215875682!1540568881812; ineb_browse_history=TW_RB_TX_ebank_049341:TW_RB_TX_ebank_049341:TW_RB_TX_ebank_026941:TW_RB_TX_ebank_026941:TW_RB_TX_ebank_470195:TW_RB_TX_ebank_026941:TW_RB_TX_ebank_049341:TW_RB_TX_ebank_026941:TW_RB_TX_ebank_470195:TW_RB_TX_ebank_470195; _ga=GA1.2.1814953450.1525263360; BIGipServer~RBIT~INEB_POOL_WEB=!dc6QVu332D5jiA6u8oTajfYXJZVovXOZW6fIPRw3+IlxuX8GxdWeVtIMvrS/I6b56Oc6p64Zjg3e; BIGipServer~RBIT~INEB_POOL_AP=!0yo2ObCJElxaM4Su8oTajfYXJZVovQsYOKWD7MJoAcKBl8VOyzKcjpXlm0JCqU2MaFpQH/jKzXMzTw==; TS01649781=01c2a9c2b9f0bbbb851b20c8b36851e5fcaf996243f07caca45d2a097757a907ac18313114b464fafd8bd30d5e7cbd34f7d9677f03fee81a292b956ca7cf1b80d255f520ff8c069e023a38bd1fe3783df0baac9b55090bad569f6836c2cbeb8637cc200535d0d5f995e9f5ce7488388930f7511af8c670f4b45de2f468821f5cb98f121ec660af911f7843ac40105e613581c498fdcc7a12fce502e87cbefab3693f62dfed; _gid=GA1.2.872421050.1540778223; EBANKSID=BH5PbWDLpWvrN1WVNvZ1tg5VQfxJ67HxB2vygGYcC3GH5spS03xW!-215875682; TS01f8e2a2=01c2a9c2b9018f53e8a85b36bd30a1a97c43173879c6365a411c1056739cec0d64a8274b34f50ff9b1d0d4b904f2e5c547a449ede4681ffe56c43b66d05981b2792a46c5aca5426bf025ffd02d63df2877fa3ae9156b4750e83bc044de8aad62cd935fd818a362437075aa6a87998328837e79ad054850ed5e0691d15ffc3758a70ca6e24b; _gat=1',    \n",
    "'Referer': 'https://www.ctbcbank.com/CTCBPortalWeb/appmanager/ebank/rb',    \n",
    "'X-Requested-With': 'XMLHttpRequest',\n",
    "'User-Agent': 'Mozilla/5.0 (Macintosh; Intel Mac OS X 10_13_6) AppleWebKit/537.36 (KHTML, like Gecko) Chrome/69.0.3497.100 Safari/537.36'  \n",
    "}\n",
    "res = requests.get('https://www.ctbcbank.com/CTCBPortalWeb/pages/invest/exchangeRateInfoDetials.jsf?_=1540785134388', headers = headers)"
   ]
  },
  {
   "cell_type": "code",
   "execution_count": 85,
   "metadata": {},
   "outputs": [
    {
     "name": "stdout",
     "output_type": "stream",
     "text": [
      "美元\n",
      "30.9250\n"
     ]
    }
   ],
   "source": [
    "from bs4 import BeautifulSoup\n",
    "soup = BeautifulSoup(res.text, 'lxml')\n",
    "print(soup.select_one('.rate_table .column_text').text.strip())\n",
    "print(soup.select_one('.rate_table .column_text2').text.strip())"
   ]
  },
  {
   "cell_type": "markdown",
   "metadata": {},
   "source": [
    "## 蘋果網路爬蟲"
   ]
  },
  {
   "cell_type": "code",
   "execution_count": 86,
   "metadata": {},
   "outputs": [
    {
     "data": {
      "text/plain": [
       "<Response [200]>"
      ]
     },
     "execution_count": 86,
     "metadata": {},
     "output_type": "execute_result"
    }
   ],
   "source": [
    "import requests\n",
    "res = requests.get('https://tw.appledaily.com/new/realtime')\n",
    "res"
   ]
  },
  {
   "cell_type": "code",
   "execution_count": 87,
   "metadata": {},
   "outputs": [],
   "source": [
    "from bs4 import BeautifulSoup\n",
    "soup = BeautifulSoup(res.text, 'lxml')"
   ]
  },
  {
   "cell_type": "code",
   "execution_count": 89,
   "metadata": {},
   "outputs": [
    {
     "data": {
      "text/plain": [
       "159"
      ]
     },
     "execution_count": 89,
     "metadata": {},
     "output_type": "execute_result"
    }
   ],
   "source": [
    "len(soup.select('a'))"
   ]
  },
  {
   "cell_type": "code",
   "execution_count": 91,
   "metadata": {},
   "outputs": [
    {
     "data": {
      "text/plain": [
       "30"
      ]
     },
     "execution_count": 91,
     "metadata": {},
     "output_type": "execute_result"
    }
   ],
   "source": [
    "len(soup.select('li.rtddt a'))"
   ]
  },
  {
   "cell_type": "code",
   "execution_count": 106,
   "metadata": {},
   "outputs": [
    {
     "name": "stdout",
     "output_type": "stream",
     "text": [
      "【普悠瑪司機】尤振仲住院8天今出院　女兒...(19615) 社會 13:05 https://tw.news.appledaily.com/local/realtime/20181029/1456153/\n",
      "============================\n",
      "「不想繼續幫韓國瑜造勢」　綠委低調不評論... 政治 13:05 https://tw.news.appledaily.com/politics/realtime/20181029/1456259/\n",
      "============================\n",
      "【普悠瑪調查】剩今天！司機員50萬交保檢...(6120) 社會 13:04 https://tw.news.appledaily.com/local/realtime/20181029/1456121/\n",
      "============================\n",
      "【記者會全文】邱議瑩反擊：陪睡政見是韓國...(73960) 政治 13:02 https://tw.news.appledaily.com/politics/realtime/20181029/1456125/\n",
      "============================\n",
      "【小型運動休旅】6夯車省油比一比　有3輛...(14611) 3C 13:02 https://tw.lifestyle.appledaily.com/gadget/realtime/20181029/1456074/\n",
      "============================\n",
      "〈雙姝爭后1〉Sandy搶《聲林之王》主... 壹週刊 13:00 https://tw.news.appledaily.com/nextmag/realtime/20181029/1456211/\n",
      "============================\n",
      "​〈雙姝爭后2〉吳宗憲聯手女兒Sandy... 壹週刊 13:00 https://tw.news.appledaily.com/nextmag/realtime/20181029/1456212/\n",
      "============================\n",
      "​〈雙姝爭后3〉漲價or靠自己 綜藝天王... 壹週刊 13:00 https://tw.news.appledaily.com/nextmag/realtime/20181029/1456216/\n",
      "============================\n",
      "【獨家】白家綺新婚9天被爆戀過汪建民　甜... 娛樂 12:58 https://tw.entertainment.appledaily.com/realtime/20181029/1456202/\n",
      "============================\n",
      "台鐵新局長張政源自願從政次降任　月薪少了...(4317) 政治 12:55 https://tw.news.appledaily.com/politics/realtime/20181029/1456159/\n",
      "============================\n",
      "華德動能交付欣欣客運12台電動巴士　今上... 財經 12:54 https://tw.finance.appledaily.com/realtime/20181029/1456269/\n",
      "============================\n",
      "賓士車撞翻救護車　病患飛出車外(2075) 社會 12:51 https://tw.news.appledaily.com/local/realtime/20181029/1456220/\n",
      "============================\n",
      "今年雙11出生寶寶    送7990元大...(4064) 3C 12:50 https://tw.lifestyle.appledaily.com/gadget/realtime/20181029/1456070/\n",
      "============================\n",
      "羨慕同學捧現金炫富　男大生出賣帳戶成詐欺...(79) 社會 12:50 https://tw.news.appledaily.com/local/realtime/20181029/1456233/\n",
      "============================\n",
      "《藍色大門》泳池將拆除　陳柏霖桂綸鎂重溫...(188) 娛樂 12:46 https://tw.entertainment.appledaily.com/realtime/20181029/1456256/\n",
      "============================\n",
      "【獨家】小S新節目無奈減薪　吞4千萬義大...(102544) 娛樂 12:45 https://tw.entertainment.appledaily.com/realtime/20181029/1455822/\n",
      "============================\n",
      "王景玉逃死出庭精神佳　秒回個資稱「都有吃...(9677) 社會 12:44 https://tw.news.appledaily.com/local/realtime/20181029/1456143/\n",
      "============================\n",
      "【最即時專題5】邱議瑩繼續譴責韓國瑜　陳...(829) 政治 12:43 https://tw.news.appledaily.com/politics/realtime/20181029/1456255/\n",
      "============================\n",
      "【更新】墜江影片曝光！重慶公車衝落長江　...(7852) 國際 12:42 https://tw.news.appledaily.com/international/realtime/20181029/1456071/\n",
      "============================\n",
      "流感疫苗變質影響接種﹖　疾管署：持續監控(135) 生活 12:42 https://tw.news.appledaily.com/life/realtime/20181029/1456254/\n",
      "============================\n",
      "女搭小黃忘拿萬元筆電　熱心警1小時尋回(235) 社會 12:40 https://tw.news.appledaily.com/local/realtime/20181029/1456247/\n",
      "============================\n",
      "辱罵兄長女友髒字　女遭公然侮辱起訴(300) 社會 12:38 https://tw.news.appledaily.com/local/realtime/20181029/1456235/\n",
      "============================\n",
      "新竹晶品城百貨男子墜樓　送醫無生命跡象(701) 社會 12:37 https://tw.news.appledaily.com/local/realtime/20181029/1456249/\n",
      "============================\n",
      "2月大女嬰猝死遭丟包醫院　狠心母逃跑原因...(15633) 社會 12:36 https://tw.news.appledaily.com/local/realtime/20181029/1456169/\n",
      "============================\n",
      "印尼獅航墜海189人生死未卜　外交部：持...(2598) 政治 12:35 https://tw.news.appledaily.com/politics/realtime/20181029/1456251/\n",
      "============================\n",
      "普悠瑪事故創花東　觀光局補助出遊交通費1...(1422) 生活 12:33 https://tw.news.appledaily.com/life/realtime/20181029/1456192/\n",
      "============================\n",
      "騎車被狗咬！張震嶽打破傷風救命　怒「不該...(2412) 娛樂 12:33 https://tw.entertainment.appledaily.com/realtime/20181029/1456170/\n",
      "============================\n",
      "大里噴沙工廠傳火警　警消迅速撲滅無傷亡(74) 社會 12:33 https://tw.news.appledaily.com/local/realtime/20181029/1456253/\n",
      "============================\n",
      "機車撞上故障廂型車　騎士送醫不治(1173) 社會 12:32 https://tw.news.appledaily.com/local/realtime/20181029/1456232/\n",
      "============================\n",
      "【最即時專題1】「老婆讓韓國瑜睡一晚」　...(141176) 政治 12:28 https://tw.news.appledaily.com/politics/realtime/20181029/1456101/\n",
      "============================\n"
     ]
    }
   ],
   "source": [
    "for news in soup.select('.rtddt a'):\n",
    "    title    = news.select_one('h1').text\n",
    "    category = news.select_one('h2').text\n",
    "    dt       = news.select_one('time').text\n",
    "    link     = news.get('href')\n",
    "    #print(news.select('h1')[0])\n",
    "    print(title, category, dt, link)\n",
    "    print('============================')"
   ]
  },
  {
   "cell_type": "code",
   "execution_count": 107,
   "metadata": {},
   "outputs": [],
   "source": [
    "news_ary = []\n",
    "for news in soup.select('.rtddt a'):\n",
    "    data     = {} \n",
    "    data['title']    = news.select_one('h1').text\n",
    "    data['category'] = news.select_one('h2').text\n",
    "    data['dt']       = news.select_one('time').text\n",
    "    data['link']     = news.get('href')\n",
    "    news_ary.append(data)"
   ]
  },
  {
   "cell_type": "code",
   "execution_count": 110,
   "metadata": {},
   "outputs": [],
   "source": [
    "import pandas\n",
    "df = pandas.DataFrame(news_ary)\n",
    "df.to_excel('applenews.xlsx')"
   ]
  },
  {
   "cell_type": "markdown",
   "metadata": {},
   "source": [
    "## 抓取內文細節"
   ]
  },
  {
   "cell_type": "code",
   "execution_count": 111,
   "metadata": {},
   "outputs": [
    {
     "data": {
      "text/plain": [
       "<Response [200]>"
      ]
     },
     "execution_count": 111,
     "metadata": {},
     "output_type": "execute_result"
    }
   ],
   "source": [
    "import requests\n",
    "res = requests.get('https://tw.news.appledaily.com/nextmag/realtime/20181029/1456211/')\n",
    "res"
   ]
  },
  {
   "cell_type": "code",
   "execution_count": 112,
   "metadata": {},
   "outputs": [],
   "source": [
    "from bs4 import BeautifulSoup\n",
    "soup = BeautifulSoup(res.text, 'lxml')"
   ]
  },
  {
   "cell_type": "code",
   "execution_count": 116,
   "metadata": {},
   "outputs": [
    {
     "name": "stdout",
     "output_type": "stream",
     "text": [
      "〈雙姝爭后1〉Sandy搶《聲林之王》主持　慘遭Lulu攔胡【壹點就報】\n"
     ]
    }
   ],
   "source": [
    "print(soup.select_one('h1').text)"
   ]
  },
  {
   "cell_type": "code",
   "execution_count": 118,
   "metadata": {},
   "outputs": [
    {
     "data": {
      "text/plain": [
       "'看本篇完整版內容，請點以下連結：〈雙姝爭后1〉Sandy搶《聲林之王》主持\\u3000慘遭Lulu攔胡【壹點就報】已播出3集的東森《聲林之王》，是台灣第一個仿照中國大舞台大製作的歌唱節目。有工作人員向《壹週刊》爆料，吳姍儒（Sandy）很想主持這節目，得知後，大力推荐自己，主動跟東森溝通，不料製作單位遲遲未回覆，又透過她老爸吳宗憲（憲哥）說項，令憲哥好友王令麟左右為難。工作人員還透露，當初《聲林之王》在尋覓主持人時，製作人王偉忠覺得主持人會唱歌還是較好，基於須找「合乎節目調性，也能對參賽者給意見」的主持人，因此堅持用發過EP《LuLu，腿》、《可以》和專輯《美小鴨》的Lulu（黃路梓茵），Sandy因此錯失機會...(點我看全文)更多壹週刊報導〈雙姝爭后1〉Sandy搶《聲林之王》主持\\u3000慘遭Lulu攔胡【壹點就報】〈雙姝爭后2〉吳宗憲聯手女兒Sandy\\u3000拿下購物台千萬代言【壹點就報】〈雙姝爭后3〉漲價or靠自己\\u3000綜藝天王星二代大不同 【壹點就報】◎你投訴‧壹週刊幫你爆料\\xa0《壹週刊APP》全新改版！完全免費！快點下載一起掌握新聞！>>IOS下載 https://goo.gl/G3jADF>>android下載 https://goo.gl/5fGOAI\\xa0'"
      ]
     },
     "execution_count": 118,
     "metadata": {},
     "output_type": "execute_result"
    }
   ],
   "source": [
    "soup.select_one('.ndArticle_margin p').text"
   ]
  },
  {
   "cell_type": "code",
   "execution_count": 120,
   "metadata": {},
   "outputs": [
    {
     "data": {
      "text/plain": [
       "'出版時間：2018/10/29 13:00'"
      ]
     },
     "execution_count": 120,
     "metadata": {},
     "output_type": "execute_result"
    }
   ],
   "source": [
    "soup.select_one('.ndArticle_creat').text"
   ]
  },
  {
   "cell_type": "code",
   "execution_count": 122,
   "metadata": {},
   "outputs": [],
   "source": [
    "from datetime import datetime \n",
    "current_time = datetime.now()"
   ]
  },
  {
   "cell_type": "code",
   "execution_count": 123,
   "metadata": {},
   "outputs": [
    {
     "data": {
      "text/plain": [
       "datetime.datetime"
      ]
     },
     "execution_count": 123,
     "metadata": {},
     "output_type": "execute_result"
    }
   ],
   "source": [
    "type(current_time)"
   ]
  },
  {
   "cell_type": "markdown",
   "metadata": {},
   "source": [
    "## Datetime Module\n",
    "- https://docs.python.org/3/library/datetime.html#strftime-and-strptime-behavior"
   ]
  },
  {
   "cell_type": "code",
   "execution_count": 124,
   "metadata": {},
   "outputs": [
    {
     "data": {
      "text/plain": [
       "'2018-10-29'"
      ]
     },
     "execution_count": 124,
     "metadata": {},
     "output_type": "execute_result"
    }
   ],
   "source": [
    "# strftime => convert time to string\n",
    "current_time.strftime('%Y-%m-%d')"
   ]
  },
  {
   "cell_type": "code",
   "execution_count": 125,
   "metadata": {},
   "outputs": [
    {
     "data": {
      "text/plain": [
       "'2018-10-29 October Monday'"
      ]
     },
     "execution_count": 125,
     "metadata": {},
     "output_type": "execute_result"
    }
   ],
   "source": [
    "current_time.strftime('%Y-%m-%d %B %A')"
   ]
  },
  {
   "cell_type": "code",
   "execution_count": 128,
   "metadata": {},
   "outputs": [
    {
     "data": {
      "text/plain": [
       "datetime.datetime(2018, 10, 29, 13, 0)"
      ]
     },
     "execution_count": 128,
     "metadata": {},
     "output_type": "execute_result"
    }
   ],
   "source": [
    "# strptime => convert string to datetime\n",
    "a = '2018/10/29 13:00'\n",
    "datetime.strptime(a, '%Y/%m/%d %H:%M')"
   ]
  },
  {
   "cell_type": "code",
   "execution_count": 131,
   "metadata": {},
   "outputs": [
    {
     "data": {
      "text/plain": [
       "datetime.timedelta(8945, 50344, 830297)"
      ]
     },
     "execution_count": 131,
     "metadata": {},
     "output_type": "execute_result"
    }
   ],
   "source": [
    "birth = '1994/5/3 00:00'\n",
    "current_time - datetime.strptime(birth, '%Y/%m/%d %H:%M')"
   ]
  },
  {
   "cell_type": "code",
   "execution_count": 138,
   "metadata": {},
   "outputs": [
    {
     "data": {
      "text/plain": [
       "datetime.datetime(2018, 11, 3, 13, 59, 4, 830297)"
      ]
     },
     "execution_count": 138,
     "metadata": {},
     "output_type": "execute_result"
    }
   ],
   "source": [
    "from datetime import timedelta\n",
    "current_time + timedelta(days = 5)"
   ]
  },
  {
   "cell_type": "code",
   "execution_count": 140,
   "metadata": {},
   "outputs": [
    {
     "name": "stdout",
     "output_type": "stream",
     "text": [
      "2018/10/30\n",
      "2018/10/31\n",
      "2018/11/01\n",
      "2018/11/02\n"
     ]
    }
   ],
   "source": [
    "for i in range(1,5):\n",
    "    #print(current_time + timedelta(days = i))\n",
    "    print((current_time + timedelta(days = i)).strftime('%Y/%m/%d'))"
   ]
  },
  {
   "cell_type": "code",
   "execution_count": 142,
   "metadata": {},
   "outputs": [
    {
     "data": {
      "text/plain": [
       "datetime.datetime(2018, 10, 29, 13, 0)"
      ]
     },
     "execution_count": 142,
     "metadata": {},
     "output_type": "execute_result"
    }
   ],
   "source": [
    "dt = soup.select_one('.ndArticle_creat').text\n",
    "datetime.strptime(dt, '出版時間：%Y/%m/%d %H:%M')"
   ]
  },
  {
   "cell_type": "code",
   "execution_count": 150,
   "metadata": {},
   "outputs": [
    {
     "data": {
      "text/plain": [
       "1111"
      ]
     },
     "execution_count": 150,
     "metadata": {},
     "output_type": "execute_result"
    }
   ],
   "source": [
    "view_cnt = int(soup.select_one('.ndArticle_view').text)\n",
    "view_cnt"
   ]
  },
  {
   "cell_type": "code",
   "execution_count": 155,
   "metadata": {},
   "outputs": [
    {
     "data": {
      "text/plain": [
       "'壹週刊'"
      ]
     },
     "execution_count": 155,
     "metadata": {},
     "output_type": "execute_result"
    }
   ],
   "source": [
    "category = soup.select('.current')[1].text\n",
    "category"
   ]
  },
  {
   "cell_type": "code",
   "execution_count": 160,
   "metadata": {},
   "outputs": [],
   "source": [
    "\n",
    "def getDetail(url):\n",
    "    res   = requests.get(url)\n",
    "    soup  = BeautifulSoup(res.text, 'lxml')\n",
    "    title   = soup.select_one('h1').text\n",
    "    content = soup.select_one('.ndArticle_margin p').text\n",
    "    dt = soup.select_one('.ndArticle_creat').text\n",
    "    dt = datetime.strptime(dt, '出版時間：%Y/%m/%d %H:%M')\n",
    "    \n",
    "    if soup.select_one('.ndArticle_view'):\n",
    "        view_cnt = int(soup.select_one('.ndArticle_view').text)\n",
    "        \n",
    "    category = soup.select('.current')[1].text\n",
    "    return {'title':title, 'content':content, 'dt':dt, \n",
    "            'view_cnt':view_cnt, 'category': category}"
   ]
  },
  {
   "cell_type": "code",
   "execution_count": 157,
   "metadata": {},
   "outputs": [
    {
     "data": {
      "text/plain": [
       "{'category': '壹週刊',\n",
       " 'content': '看本篇完整版內容，請點以下連結：〈雙姝爭后1〉Sandy搶《聲林之王》主持\\u3000慘遭Lulu攔胡【壹點就報】已播出3集的東森《聲林之王》，是台灣第一個仿照中國大舞台大製作的歌唱節目。有工作人員向《壹週刊》爆料，吳姍儒（Sandy）很想主持這節目，得知後，大力推荐自己，主動跟東森溝通，不料製作單位遲遲未回覆，又透過她老爸吳宗憲（憲哥）說項，令憲哥好友王令麟左右為難。工作人員還透露，當初《聲林之王》在尋覓主持人時，製作人王偉忠覺得主持人會唱歌還是較好，基於須找「合乎節目調性，也能對參賽者給意見」的主持人，因此堅持用發過EP《LuLu，腿》、《可以》和專輯《美小鴨》的Lulu（黃路梓茵），Sandy因此錯失機會...(點我看全文)更多壹週刊報導〈雙姝爭后1〉Sandy搶《聲林之王》主持\\u3000慘遭Lulu攔胡【壹點就報】〈雙姝爭后2〉吳宗憲聯手女兒Sandy\\u3000拿下購物台千萬代言【壹點就報】〈雙姝爭后3〉漲價or靠自己\\u3000綜藝天王星二代大不同 【壹點就報】◎你投訴‧壹週刊幫你爆料\\xa0《壹週刊APP》全新改版！完全免費！快點下載一起掌握新聞！>>IOS下載 https://goo.gl/G3jADF>>android下載 https://goo.gl/5fGOAI\\xa0',\n",
       " 'dt': datetime.datetime(2018, 10, 29, 13, 0),\n",
       " 'title': '〈雙姝爭后1〉Sandy搶《聲林之王》主持\\u3000慘遭Lulu攔胡【壹點就報】',\n",
       " 'view_cnt': 1706}"
      ]
     },
     "execution_count": 157,
     "metadata": {},
     "output_type": "execute_result"
    }
   ],
   "source": [
    "getDetail('https://tw.news.appledaily.com/nextmag/realtime/20181029/1456211/')"
   ]
  },
  {
   "cell_type": "code",
   "execution_count": 161,
   "metadata": {},
   "outputs": [
    {
     "ename": "AttributeError",
     "evalue": "'NoneType' object has no attribute 'text'",
     "output_type": "error",
     "traceback": [
      "\u001b[0;31m---------------------------------------------------------------------------\u001b[0m",
      "\u001b[0;31mAttributeError\u001b[0m                            Traceback (most recent call last)",
      "\u001b[0;32m<ipython-input-161-29c2dfbb227d>\u001b[0m in \u001b[0;36m<module>\u001b[0;34m()\u001b[0m\n\u001b[0;32m----> 1\u001b[0;31m \u001b[0mgetDetail\u001b[0m\u001b[0;34m(\u001b[0m\u001b[0;34m'https://tw.news.appledaily.com/politics/realtime/20181029/1456312/'\u001b[0m\u001b[0;34m)\u001b[0m\u001b[0;34m\u001b[0m\u001b[0m\n\u001b[0m",
      "\u001b[0;32m<ipython-input-160-0b80f149afd7>\u001b[0m in \u001b[0;36mgetDetail\u001b[0;34m(url)\u001b[0m\n\u001b[1;32m      7\u001b[0m     \u001b[0mdt\u001b[0m \u001b[0;34m=\u001b[0m \u001b[0msoup\u001b[0m\u001b[0;34m.\u001b[0m\u001b[0mselect_one\u001b[0m\u001b[0;34m(\u001b[0m\u001b[0;34m'.ndArticle_creat'\u001b[0m\u001b[0;34m)\u001b[0m\u001b[0;34m.\u001b[0m\u001b[0mtext\u001b[0m\u001b[0;34m\u001b[0m\u001b[0m\n\u001b[1;32m      8\u001b[0m     \u001b[0mdt\u001b[0m \u001b[0;34m=\u001b[0m \u001b[0mdatetime\u001b[0m\u001b[0;34m.\u001b[0m\u001b[0mstrptime\u001b[0m\u001b[0;34m(\u001b[0m\u001b[0mdt\u001b[0m\u001b[0;34m,\u001b[0m \u001b[0;34m'出版時間：%Y/%m/%d %H:%M'\u001b[0m\u001b[0;34m)\u001b[0m\u001b[0;34m\u001b[0m\u001b[0m\n\u001b[0;32m----> 9\u001b[0;31m     \u001b[0mview_cnt\u001b[0m \u001b[0;34m=\u001b[0m \u001b[0mint\u001b[0m\u001b[0;34m(\u001b[0m\u001b[0msoup\u001b[0m\u001b[0;34m.\u001b[0m\u001b[0mselect_one\u001b[0m\u001b[0;34m(\u001b[0m\u001b[0;34m'.ndArticle_view'\u001b[0m\u001b[0;34m)\u001b[0m\u001b[0;34m.\u001b[0m\u001b[0mtext\u001b[0m\u001b[0;34m)\u001b[0m\u001b[0;34m\u001b[0m\u001b[0m\n\u001b[0m\u001b[1;32m     10\u001b[0m     \u001b[0mcategory\u001b[0m \u001b[0;34m=\u001b[0m \u001b[0msoup\u001b[0m\u001b[0;34m.\u001b[0m\u001b[0mselect\u001b[0m\u001b[0;34m(\u001b[0m\u001b[0;34m'.current'\u001b[0m\u001b[0;34m)\u001b[0m\u001b[0;34m[\u001b[0m\u001b[0;36m1\u001b[0m\u001b[0;34m]\u001b[0m\u001b[0;34m.\u001b[0m\u001b[0mtext\u001b[0m\u001b[0;34m\u001b[0m\u001b[0m\n\u001b[1;32m     11\u001b[0m     return {'title':title, 'content':content, 'dt':dt, \n",
      "\u001b[0;31mAttributeError\u001b[0m: 'NoneType' object has no attribute 'text'"
     ]
    }
   ],
   "source": [
    "getDetail('https://tw.news.appledaily.com/politics/realtime/20181029/1456312/')"
   ]
  },
  {
   "cell_type": "code",
   "execution_count": 164,
   "metadata": {},
   "outputs": [],
   "source": [
    "soup.select_one('qoo')"
   ]
  },
  {
   "cell_type": "code",
   "execution_count": 170,
   "metadata": {},
   "outputs": [
    {
     "name": "stdout",
     "output_type": "stream",
     "text": [
      "printing\n"
     ]
    }
   ],
   "source": [
    "a = 5\n",
    "a = False\n",
    "a = None\n",
    "a = []\n",
    "a = ['1']\n",
    "if a:\n",
    "    print('printing')"
   ]
  },
  {
   "cell_type": "code",
   "execution_count": 171,
   "metadata": {},
   "outputs": [],
   "source": [
    "\n",
    "def getDetail(url):\n",
    "    ret   = {}\n",
    "    res   = requests.get(url)\n",
    "    soup  = BeautifulSoup(res.text, 'lxml')\n",
    "    ret['title']   = soup.select_one('h1').text\n",
    "    ret['content'] = soup.select_one('.ndArticle_margin p').text\n",
    "    dt = soup.select_one('.ndArticle_creat').text\n",
    "    ret['dt'] = datetime.strptime(dt, '出版時間：%Y/%m/%d %H:%M')\n",
    "    \n",
    "    if soup.select_one('.ndArticle_view'):\n",
    "        ret['view_cnt'] = int(soup.select_one('.ndArticle_view').text)\n",
    "        \n",
    "    ret['category'] = soup.select('.current')[1].text\n",
    "    return ret"
   ]
  },
  {
   "cell_type": "code",
   "execution_count": 172,
   "metadata": {},
   "outputs": [
    {
     "data": {
      "text/plain": [
       "{'category': '政治',\n",
       " 'content': '前總統馬英九今天到嘉義縣朴子市為國民黨縣長候選人吳育仁輔選，馬英九再提核能發電問題，馬英九說，民進黨政府廢核，還把核四燃料棒送到美國拍賣，真是荒蓎政策。\\xa0嘉義縣朴子市上周六發生空污褐爆問題嚴重，縣長參選人吳育仁今天在朴子掃街時，特別提及民進黨電力政策完全錯誤，才會導致朴子地區空氣污染嚴重，吳育仁說，他主張以核養綠，拒絕用肺發電，嘉義縣老人多，空污影響老幼最嚴重。\\xa0馬英九說，核綠應該併存，用核能發展綠能，到目前核電還是世界上最乾淨的能源，等到有一天綠能發展成熟，再廢核，就如同找工作一樣，總要騎馬找馬，但民進黨政府卻主張廢核，還將核四燃料棒送回美國拍賣，如同棄馬殺馬，讓他這個姓馬的，真是情何以堪。\\xa0馬英九在吳育仁及朴子市在地議員李國勝等人陪同下到朴子市第二市場掃街拜票，馬英九的熱度已大不如從前，沿途除了國安人員和警察外，已少有粉絲追隨，不過仍有民眾因為很少看過馬英九本尊，邀馬英九一同合照留作紀念。\\xa0而今天上午馬英九在朴子市拜票後，將轉往嘉義市陪同市長候選人黃敏惠掃街拜票。而今天下午3時高雄市長候選人韓國瑜將到嘉義縣黨部參加造勢大會，韓流能否在嘉義縣出現外溢效應，值得進一步觀察。（王智勇／嘉義報導）距離11月24日九合一選戰，只剩倒數最後一個月！想看最激烈的選戰實況、最精闢的選情評估、最完整的政見分析，敬請鎖定「蘋果日報九合一選舉爭霸戰」。網址：https://tw.feature.appledaily.com/election2018/',\n",
       " 'dt': datetime.datetime(2018, 10, 29, 14, 25),\n",
       " 'title': '馬英九陪吳育仁掃街\\u3000批民進黨廢核政策錯誤'}"
      ]
     },
     "execution_count": 172,
     "metadata": {},
     "output_type": "execute_result"
    }
   ],
   "source": [
    "getDetail('https://tw.news.appledaily.com/politics/realtime/20181029/1456312/')"
   ]
  },
  {
   "cell_type": "code",
   "execution_count": 173,
   "metadata": {},
   "outputs": [],
   "source": [
    "\n",
    "def getDetail(url):\n",
    "    ret   = {}\n",
    "    try:\n",
    "        res   = requests.get(url)\n",
    "        soup  = BeautifulSoup(res.text, 'lxml')\n",
    "        ret['title']   = soup.select_one('h1').text\n",
    "        ret['content'] = soup.select_one('.ndArticle_margin p').text\n",
    "        dt = soup.select_one('.ndArticle_creat').text\n",
    "        ret['dt'] = datetime.strptime(dt, '出版時間：%Y/%m/%d %H:%M')\n",
    "\n",
    "        if soup.select_one('.ndArticle_view'):\n",
    "            ret['view_cnt'] = int(soup.select_one('.ndArticle_view').text)\n",
    "\n",
    "        ret['category'] = soup.select('.current')[1].text\n",
    "    except:\n",
    "        print(url)\n",
    "    return ret"
   ]
  },
  {
   "attachments": {},
   "cell_type": "markdown",
   "metadata": {},
   "source": [
    "### 請根據列表頁的連結抓取內文資料"
   ]
  },
  {
   "cell_type": "code",
   "execution_count": 176,
   "metadata": {},
   "outputs": [],
   "source": [
    "import requests\n",
    "from bs4 import BeautifulSoup\n",
    "res = requests.get('https://tw.appledaily.com/new/realtime')\n",
    "soup = BeautifulSoup(res.text, 'lxml')\n",
    "news_ary = []\n",
    "for news in soup.select('.rtddt a'):\n",
    "    news_ary.append(getDetail(news.get('href')))\n",
    "    #print('====================')"
   ]
  },
  {
   "attachments": {},
   "cell_type": "markdown",
   "metadata": {},
   "source": [
    "## 將蘋果新聞前五頁的內文抓取下來"
   ]
  },
  {
   "cell_type": "code",
   "execution_count": 182,
   "metadata": {},
   "outputs": [],
   "source": [
    "newsurl = 'https://tw.appledaily.com/new/realtime/{}'\n",
    "news_ary = []\n",
    "for i in range(1,6):\n",
    "    #print(newsurl.format(i))\n",
    "    res = requests.get(newsurl.format(i))\n",
    "    soup = BeautifulSoup(res.text, 'lxml')\n",
    "    for news in soup.select('.rtddt a'):\n",
    "        news_ary.append(getDetail(news.get('href')))"
   ]
  },
  {
   "cell_type": "code",
   "execution_count": 183,
   "metadata": {},
   "outputs": [],
   "source": [
    "import pandas\n",
    "newsdf = pandas.DataFrame(news_ary)"
   ]
  },
  {
   "cell_type": "code",
   "execution_count": 188,
   "metadata": {},
   "outputs": [
    {
     "data": {
      "text/html": [
       "<div>\n",
       "<style>\n",
       "    .dataframe thead tr:only-child th {\n",
       "        text-align: right;\n",
       "    }\n",
       "\n",
       "    .dataframe thead th {\n",
       "        text-align: left;\n",
       "    }\n",
       "\n",
       "    .dataframe tbody tr th {\n",
       "        vertical-align: top;\n",
       "    }\n",
       "</style>\n",
       "<table border=\"1\" class=\"dataframe\">\n",
       "  <thead>\n",
       "    <tr style=\"text-align: right;\">\n",
       "      <th></th>\n",
       "      <th>category</th>\n",
       "      <th>content</th>\n",
       "      <th>dt</th>\n",
       "      <th>title</th>\n",
       "      <th>view_cnt</th>\n",
       "    </tr>\n",
       "  </thead>\n",
       "  <tbody>\n",
       "    <tr>\n",
       "      <th>60</th>\n",
       "      <td>生活</td>\n",
       "      <td>（更新：新增醫師說明)比特犬是農委會公告具攻擊性犬隻。高醫附設醫院接獲一對陳姓父女兩個月內三...</td>\n",
       "      <td>2018-10-29 13:47:00</td>\n",
       "      <td>恐怖！比特犬三度咬傷父女飼主　「棉花棒可穿過傷口」</td>\n",
       "      <td>306962.0</td>\n",
       "    </tr>\n",
       "    <tr>\n",
       "      <th>13</th>\n",
       "      <td>國際</td>\n",
       "      <td>印尼廉價航空「獅子航空」（Lion Air)一架國內班機今晨起飛後不久便與塔台失聯，當地救難...</td>\n",
       "      <td>2018-10-29 14:50:00</td>\n",
       "      <td>【不斷更新】獅航189人客機墜海　已發現人體屍骸</td>\n",
       "      <td>193277.0</td>\n",
       "    </tr>\n",
       "    <tr>\n",
       "      <th>108</th>\n",
       "      <td>政治</td>\n",
       "      <td>（更新：新增韓國瑜回應）國民黨高雄市長參選人韓國瑜日前出席姊妹挺韓國瑜成立大會時，陳述招商理...</td>\n",
       "      <td>2018-10-29 12:28:00</td>\n",
       "      <td>【最即時專題1】「老婆讓韓國瑜睡一晚」　邱議瑩不認失言：該譴責的是韓國瑜</td>\n",
       "      <td>158458.0</td>\n",
       "    </tr>\n",
       "  </tbody>\n",
       "</table>\n",
       "</div>"
      ],
      "text/plain": [
       "    category                                            content  \\\n",
       "60        生活  （更新：新增醫師說明)比特犬是農委會公告具攻擊性犬隻。高醫附設醫院接獲一對陳姓父女兩個月內三...   \n",
       "13        國際  印尼廉價航空「獅子航空」（Lion Air)一架國內班機今晨起飛後不久便與塔台失聯，當地救難...   \n",
       "108       政治  （更新：新增韓國瑜回應）國民黨高雄市長參選人韓國瑜日前出席姊妹挺韓國瑜成立大會時，陳述招商理...   \n",
       "\n",
       "                     dt                                 title  view_cnt  \n",
       "60  2018-10-29 13:47:00             恐怖！比特犬三度咬傷父女飼主　「棉花棒可穿過傷口」  306962.0  \n",
       "13  2018-10-29 14:50:00              【不斷更新】獅航189人客機墜海　已發現人體屍骸  193277.0  \n",
       "108 2018-10-29 12:28:00  【最即時專題1】「老婆讓韓國瑜睡一晚」　邱議瑩不認失言：該譴責的是韓國瑜  158458.0  "
      ]
     },
     "execution_count": 188,
     "metadata": {},
     "output_type": "execute_result"
    }
   ],
   "source": [
    "# SELECT * FROM newsdf ORDER BY view_cnt DESC LIMIT 3\n",
    "newsdf.sort_values('view_cnt', ascending=False).head(3)"
   ]
  },
  {
   "cell_type": "code",
   "execution_count": 192,
   "metadata": {},
   "outputs": [
    {
     "data": {
      "text/plain": [
       "category\n",
       "生活      550450.0\n",
       "社會      387186.0\n",
       "政治      386956.0\n",
       "娛樂時尚    293325.0\n",
       "國際      228119.0\n",
       "體育      103338.0\n",
       "財經地產     70214.0\n",
       "3C車市     31226.0\n",
       "吃喝玩樂      8994.0\n",
       "壹週刊       8945.0\n",
       "論壇        6445.0\n",
       "Name: view_cnt, dtype: float64"
      ]
     },
     "execution_count": 192,
     "metadata": {},
     "output_type": "execute_result"
    }
   ],
   "source": [
    "#SELECT catetegory, sum(view_cnt) FROM newsdf GROUP BY category ORDER BY sum(view_cnt) DESC\n",
    "newsdf.groupby('category')['view_cnt'].sum().sort_values(ascending=False)"
   ]
  },
  {
   "cell_type": "code",
   "execution_count": 196,
   "metadata": {},
   "outputs": [],
   "source": [
    "idx = newsdf.groupby('category')['view_cnt'].transform(max) == newsdf['view_cnt']"
   ]
  },
  {
   "cell_type": "code",
   "execution_count": 199,
   "metadata": {},
   "outputs": [
    {
     "data": {
      "text/html": [
       "<div>\n",
       "<style>\n",
       "    .dataframe thead tr:only-child th {\n",
       "        text-align: right;\n",
       "    }\n",
       "\n",
       "    .dataframe thead th {\n",
       "        text-align: left;\n",
       "    }\n",
       "\n",
       "    .dataframe tbody tr th {\n",
       "        vertical-align: top;\n",
       "    }\n",
       "</style>\n",
       "<table border=\"1\" class=\"dataframe\">\n",
       "  <thead>\n",
       "    <tr style=\"text-align: right;\">\n",
       "      <th></th>\n",
       "      <th>category</th>\n",
       "      <th>content</th>\n",
       "      <th>dt</th>\n",
       "      <th>title</th>\n",
       "      <th>view_cnt</th>\n",
       "    </tr>\n",
       "  </thead>\n",
       "  <tbody>\n",
       "    <tr>\n",
       "      <th>4</th>\n",
       "      <td>社會</td>\n",
       "      <td>（更新：增加嫌犯前科案情）疑因借2千元不成，就在成大校園殘忍殺害陳姓女研究生的兇嫌林榮富，就...</td>\n",
       "      <td>2018-10-29 15:01:00</td>\n",
       "      <td>【成大命案】兇嫌起底！16年前曾勒脖襲胸　強制猥褻判8月</td>\n",
       "      <td>64856.0</td>\n",
       "    </tr>\n",
       "    <tr>\n",
       "      <th>13</th>\n",
       "      <td>國際</td>\n",
       "      <td>印尼廉價航空「獅子航空」（Lion Air)一架國內班機今晨起飛後不久便與塔台失聯，當地救難...</td>\n",
       "      <td>2018-10-29 14:50:00</td>\n",
       "      <td>【不斷更新】獅航189人客機墜海　已發現人體屍骸</td>\n",
       "      <td>193277.0</td>\n",
       "    </tr>\n",
       "    <tr>\n",
       "      <th>58</th>\n",
       "      <td>體育</td>\n",
       "      <td>(新增影片)(更新比賽過程)11:17紅襪今天單場4轟，其中皮爾斯雙響砲，貝茲、馬丁尼茲各貢...</td>\n",
       "      <td>2018-10-29 13:52:00</td>\n",
       "      <td>【世界大賽】紅襪4轟5:1勝道奇　隊史第9次封王</td>\n",
       "      <td>56829.0</td>\n",
       "    </tr>\n",
       "  </tbody>\n",
       "</table>\n",
       "</div>"
      ],
      "text/plain": [
       "   category                                            content  \\\n",
       "4        社會  （更新：增加嫌犯前科案情）疑因借2千元不成，就在成大校園殘忍殺害陳姓女研究生的兇嫌林榮富，就...   \n",
       "13       國際  印尼廉價航空「獅子航空」（Lion Air)一架國內班機今晨起飛後不久便與塔台失聯，當地救難...   \n",
       "58       體育  (新增影片)(更新比賽過程)11:17紅襪今天單場4轟，其中皮爾斯雙響砲，貝茲、馬丁尼茲各貢...   \n",
       "\n",
       "                    dt                         title  view_cnt  \n",
       "4  2018-10-29 15:01:00  【成大命案】兇嫌起底！16年前曾勒脖襲胸　強制猥褻判8月   64856.0  \n",
       "13 2018-10-29 14:50:00      【不斷更新】獅航189人客機墜海　已發現人體屍骸  193277.0  \n",
       "58 2018-10-29 13:52:00      【世界大賽】紅襪4轟5:1勝道奇　隊史第9次封王   56829.0  "
      ]
     },
     "execution_count": 199,
     "metadata": {},
     "output_type": "execute_result"
    }
   ],
   "source": [
    "newsdf[idx].head(3)"
   ]
  },
  {
   "cell_type": "code",
   "execution_count": 200,
   "metadata": {},
   "outputs": [],
   "source": [
    "newsdf.to_excel('appledaily.xlsx')"
   ]
  },
  {
   "cell_type": "code",
   "execution_count": 227,
   "metadata": {},
   "outputs": [],
   "source": [
    "import speech_recognition\n",
    "\n",
    "def listenTo():\n",
    "    r = speech_recognition.Recognizer()\n",
    "\n",
    "    with speech_recognition.Microphone() as source:\n",
    "        r.adjust_for_ambient_noise(source)\n",
    "        audio = r.listen(source)\n",
    "    return r.recognize_google(audio, language='zh-TW')"
   ]
  },
  {
   "cell_type": "code",
   "execution_count": 222,
   "metadata": {},
   "outputs": [],
   "source": [
    "import requests\n",
    "term = 'AKB48'\n",
    "res = requests.get('https://www.google.com.tw/search?rlz=1C5CHFA_enTW718TW718&biw=727&bih=406&tbm=isch&sa=1&ei=17fWW9fuCcKY8QXfsKbwDg&q={}&oq={}&gs_l=img.3...4698.5996.0.6554.0.0.0.0.0.0.0.0..0.0....0...1c.1j4.64.img..0.0.0....0.5idwlwCM2yw'.format(term, term))"
   ]
  },
  {
   "cell_type": "code",
   "execution_count": 223,
   "metadata": {},
   "outputs": [],
   "source": [
    "from bs4 import BeautifulSoup\n",
    "soup = BeautifulSoup(res.text, 'lxml')\n",
    "imgurl = soup.select_one('img').get('src')\n",
    "res2   = requests.get(imgurl)\n",
    "with open('1.jpg', 'wb') as f:\n",
    "    f.write(res2.content)"
   ]
  },
  {
   "cell_type": "code",
   "execution_count": 224,
   "metadata": {},
   "outputs": [
    {
     "data": {
      "image/png": "[encoded data removed]",
      "text/plain": [
       "<PIL.JpegImagePlugin.JpegImageFile image mode=RGB size=140x59 at 0x10A442E10>"
      ]
     },
     "execution_count": 224,
     "metadata": {},
     "output_type": "execute_result"
    }
   ],
   "source": [
    "from PIL import Image\n",
    "Image.open('1.jpg')"
   ]
  },
  {
   "cell_type": "code",
   "execution_count": 240,
   "metadata": {},
   "outputs": [],
   "source": [
    "import requests\n",
    "from bs4 import BeautifulSoup\n",
    "\n",
    "def getPicture(term):\n",
    "    res = requests.get('https://www.google.com.tw/search?rlz=1C5CHFA_enTW718TW718&biw=727&bih=406&tbm=isch&sa=1&ei=17fWW9fuCcKY8QXfsKbwDg&q={}&oq={}&gs_l=img.3...4698.5996.0.6554.0.0.0.0.0.0.0.0..0.0....0...1c.1j4.64.img..0.0.0....0.5idwlwCM2yw'.format(term, term))\n",
    "    \n",
    "    soup = BeautifulSoup(res.text, 'lxml')\n",
    "    imgurl = soup.select_one('img').get('src')\n",
    "    res2   = requests.get(imgurl)\n",
    "    with open('1.jpg', 'wb') as f:\n",
    "        f.write(res2.content)\n",
    "    im = Image.open('1.jpg')\n",
    "    im.show()\n",
    "    #Image.show()"
   ]
  },
  {
   "cell_type": "code",
   "execution_count": 243,
   "metadata": {},
   "outputs": [],
   "source": [
    "getPicture(listenTo())"
   ]
  }
 ],
 "metadata": {
  "kernelspec": {
   "display_name": "Python 3",
   "language": "python",
   "name": "python3"
  },
  "language_info": {
   "codemirror_mode": {
    "name": "ipython",
    "version": 3
   },
   "file_extension": ".py",
   "mimetype": "text/x-python",
   "name": "python",
   "nbconvert_exporter": "python",
   "pygments_lexer": "ipython3",
   "version": "3.6.2"
  }
 },
 "nbformat": 4,
 "nbformat_minor": 2
}
