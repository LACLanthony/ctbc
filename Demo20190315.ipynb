{
 "cells": [
  {
   "cell_type": "markdown",
   "metadata": {},
   "source": [
    "## 用 LSTM 預測股票"
   ]
  },
  {
   "cell_type": "markdown",
   "metadata": {},
   "source": [
    "### 安裝 pandas-datareader"
   ]
  },
  {
   "cell_type": "code",
   "execution_count": 1,
   "metadata": {},
   "outputs": [
    {
     "name": "stdout",
     "output_type": "stream",
     "text": [
      "Requirement already satisfied: pandas-datareader in /Users/davidchiu/.pyenv/versions/3.6.2/lib/python3.6/site-packages\n",
      "Requirement already satisfied: pandas>=0.19.2 in /Users/davidchiu/.pyenv/versions/3.6.2/lib/python3.6/site-packages (from pandas-datareader)\n",
      "Requirement already satisfied: requests>=2.3.0 in /Users/davidchiu/.pyenv/versions/3.6.2/lib/python3.6/site-packages (from pandas-datareader)\n",
      "Requirement already satisfied: wrapt in /Users/davidchiu/.pyenv/versions/3.6.2/lib/python3.6/site-packages (from pandas-datareader)\n",
      "Requirement already satisfied: lxml in /Users/davidchiu/.pyenv/versions/3.6.2/lib/python3.6/site-packages (from pandas-datareader)\n",
      "Requirement already satisfied: pytz>=2011k in /Users/davidchiu/.pyenv/versions/3.6.2/lib/python3.6/site-packages (from pandas>=0.19.2->pandas-datareader)\n",
      "Requirement already satisfied: numpy>=1.9.0 in /Users/davidchiu/.pyenv/versions/3.6.2/lib/python3.6/site-packages (from pandas>=0.19.2->pandas-datareader)\n",
      "Requirement already satisfied: python-dateutil>=2.5.0 in /Users/davidchiu/.pyenv/versions/3.6.2/lib/python3.6/site-packages (from pandas>=0.19.2->pandas-datareader)\n",
      "Requirement already satisfied: chardet<3.1.0,>=3.0.2 in /Users/davidchiu/.pyenv/versions/3.6.2/lib/python3.6/site-packages (from requests>=2.3.0->pandas-datareader)\n",
      "Requirement already satisfied: idna<2.9,>=2.5 in /Users/davidchiu/.pyenv/versions/3.6.2/lib/python3.6/site-packages (from requests>=2.3.0->pandas-datareader)\n",
      "Requirement already satisfied: certifi>=2017.4.17 in /Users/davidchiu/.pyenv/versions/3.6.2/lib/python3.6/site-packages (from requests>=2.3.0->pandas-datareader)\n",
      "Requirement already satisfied: urllib3<1.25,>=1.21.1 in /Users/davidchiu/.pyenv/versions/3.6.2/lib/python3.6/site-packages (from requests>=2.3.0->pandas-datareader)\n",
      "Requirement already satisfied: six>=1.5 in /Users/davidchiu/.pyenv/versions/3.6.2/lib/python3.6/site-packages (from python-dateutil>=2.5.0->pandas>=0.19.2->pandas-datareader)\n",
      "\u001b[33mYou are using pip version 9.0.1, however version 19.0.3 is available.\n",
      "You should consider upgrading via the 'pip install --upgrade pip' command.\u001b[0m\n"
     ]
    }
   ],
   "source": [
    "! pip install pandas-datareader"
   ]
  },
  {
   "cell_type": "markdown",
   "metadata": {},
   "source": [
    "### 讀取股票資料"
   ]
  },
  {
   "cell_type": "code",
   "execution_count": 6,
   "metadata": {},
   "outputs": [],
   "source": [
    "import pandas_datareader\n",
    "dataset_train = pandas_datareader.get_data_yahoo('2891.TW')"
   ]
  },
  {
   "cell_type": "code",
   "execution_count": 9,
   "metadata": {},
   "outputs": [
    {
     "name": "stdout",
     "output_type": "stream",
     "text": [
      "Populating the interactive namespace from numpy and matplotlib\n"
     ]
    },
    {
     "data": {
      "text/plain": [
       "<matplotlib.axes._subplots.AxesSubplot at 0x122e08c50>"
      ]
     },
     "execution_count": 9,
     "metadata": {},
     "output_type": "execute_result"
    },
    {
     "data": {
      "image/png": "[encoded data removed]",
      "text/plain": [
       "<Figure size 432x288 with 1 Axes>"
      ]
     },
     "metadata": {},
     "output_type": "display_data"
    }
   ],
   "source": [
    "%pylab inline\n",
    "dataset_train['Close'].plot(kind = 'line')"
   ]
  },
  {
   "cell_type": "code",
   "execution_count": 10,
   "metadata": {},
   "outputs": [
    {
     "name": "stdout",
     "output_type": "stream",
     "text": [
      "<class 'pandas.core.frame.DataFrame'>\n",
      "DatetimeIndex: 2258 entries, 2010-01-04 to 2019-03-15\n",
      "Data columns (total 6 columns):\n",
      "High         2258 non-null float64\n",
      "Low          2258 non-null float64\n",
      "Open         2258 non-null float64\n",
      "Close        2258 non-null float64\n",
      "Volume       2258 non-null float64\n",
      "Adj Close    2258 non-null float64\n",
      "dtypes: float64(6)\n",
      "memory usage: 123.5 KB\n"
     ]
    }
   ],
   "source": [
    "dataset_train.info()"
   ]
  },
  {
   "cell_type": "code",
   "execution_count": 11,
   "metadata": {},
   "outputs": [
    {
     "data": {
      "text/html": [
       "<div>\n",
       "<style scoped>\n",
       "    .dataframe tbody tr th:only-of-type {\n",
       "        vertical-align: middle;\n",
       "    }\n",
       "\n",
       "    .dataframe tbody tr th {\n",
       "        vertical-align: top;\n",
       "    }\n",
       "\n",
       "    .dataframe thead th {\n",
       "        text-align: right;\n",
       "    }\n",
       "</style>\n",
       "<table border=\"1\" class=\"dataframe\">\n",
       "  <thead>\n",
       "    <tr style=\"text-align: right;\">\n",
       "      <th></th>\n",
       "      <th>High</th>\n",
       "      <th>Low</th>\n",
       "      <th>Open</th>\n",
       "      <th>Close</th>\n",
       "      <th>Volume</th>\n",
       "      <th>Adj Close</th>\n",
       "    </tr>\n",
       "  </thead>\n",
       "  <tbody>\n",
       "    <tr>\n",
       "      <th>count</th>\n",
       "      <td>2258.000000</td>\n",
       "      <td>2258.000000</td>\n",
       "      <td>2258.000000</td>\n",
       "      <td>2258.000000</td>\n",
       "      <td>2.258000e+03</td>\n",
       "      <td>2258.000000</td>\n",
       "    </tr>\n",
       "    <tr>\n",
       "      <th>mean</th>\n",
       "      <td>16.337582</td>\n",
       "      <td>16.083328</td>\n",
       "      <td>16.219394</td>\n",
       "      <td>16.212431</td>\n",
       "      <td>4.479740e+07</td>\n",
       "      <td>13.753408</td>\n",
       "    </tr>\n",
       "    <tr>\n",
       "      <th>std</th>\n",
       "      <td>3.134006</td>\n",
       "      <td>3.133552</td>\n",
       "      <td>3.133594</td>\n",
       "      <td>3.141839</td>\n",
       "      <td>2.782286e+07</td>\n",
       "      <td>3.968961</td>\n",
       "    </tr>\n",
       "    <tr>\n",
       "      <th>min</th>\n",
       "      <td>9.570480</td>\n",
       "      <td>9.205890</td>\n",
       "      <td>9.448950</td>\n",
       "      <td>9.418570</td>\n",
       "      <td>0.000000e+00</td>\n",
       "      <td>6.508332</td>\n",
       "    </tr>\n",
       "    <tr>\n",
       "      <th>25%</th>\n",
       "      <td>13.614450</td>\n",
       "      <td>13.402200</td>\n",
       "      <td>13.514900</td>\n",
       "      <td>13.487150</td>\n",
       "      <td>2.657971e+07</td>\n",
       "      <td>10.343856</td>\n",
       "    </tr>\n",
       "    <tr>\n",
       "      <th>50%</th>\n",
       "      <td>16.260500</td>\n",
       "      <td>16.024200</td>\n",
       "      <td>16.148100</td>\n",
       "      <td>16.148100</td>\n",
       "      <td>3.787212e+07</td>\n",
       "      <td>13.325441</td>\n",
       "    </tr>\n",
       "    <tr>\n",
       "      <th>75%</th>\n",
       "      <td>18.750000</td>\n",
       "      <td>18.587500</td>\n",
       "      <td>18.700001</td>\n",
       "      <td>18.667026</td>\n",
       "      <td>5.371670e+07</td>\n",
       "      <td>16.667042</td>\n",
       "    </tr>\n",
       "    <tr>\n",
       "      <th>max</th>\n",
       "      <td>23.000000</td>\n",
       "      <td>22.799999</td>\n",
       "      <td>22.900000</td>\n",
       "      <td>23.000000</td>\n",
       "      <td>3.655387e+08</td>\n",
       "      <td>23.000000</td>\n",
       "    </tr>\n",
       "  </tbody>\n",
       "</table>\n",
       "</div>"
      ],
      "text/plain": [
       "              High          Low         Open        Close        Volume  \\\n",
       "count  2258.000000  2258.000000  2258.000000  2258.000000  2.258000e+03   \n",
       "mean     16.337582    16.083328    16.219394    16.212431  4.479740e+07   \n",
       "std       3.134006     3.133552     3.133594     3.141839  2.782286e+07   \n",
       "min       9.570480     9.205890     9.448950     9.418570  0.000000e+00   \n",
       "25%      13.614450    13.402200    13.514900    13.487150  2.657971e+07   \n",
       "50%      16.260500    16.024200    16.148100    16.148100  3.787212e+07   \n",
       "75%      18.750000    18.587500    18.700001    18.667026  5.371670e+07   \n",
       "max      23.000000    22.799999    22.900000    23.000000  3.655387e+08   \n",
       "\n",
       "         Adj Close  \n",
       "count  2258.000000  \n",
       "mean     13.753408  \n",
       "std       3.968961  \n",
       "min       6.508332  \n",
       "25%      10.343856  \n",
       "50%      13.325441  \n",
       "75%      16.667042  \n",
       "max      23.000000  "
      ]
     },
     "execution_count": 11,
     "metadata": {},
     "output_type": "execute_result"
    }
   ],
   "source": [
    "dataset_train.describe()"
   ]
  },
  {
   "cell_type": "code",
   "execution_count": 12,
   "metadata": {},
   "outputs": [],
   "source": [
    "training_set = dataset_train.iloc[:, 3:4].values"
   ]
  },
  {
   "cell_type": "code",
   "execution_count": 13,
   "metadata": {},
   "outputs": [
    {
     "data": {
      "text/plain": [
       "array([[12.15299988],\n",
       "       [12.15299988],\n",
       "       [12.51760006],\n",
       "       ...,\n",
       "       [20.45000076],\n",
       "       [20.54999924],\n",
       "       [20.60000038]])"
      ]
     },
     "execution_count": 13,
     "metadata": {},
     "output_type": "execute_result"
    }
   ],
   "source": [
    "training_set"
   ]
  },
  {
   "cell_type": "markdown",
   "metadata": {},
   "source": [
    "###  資料標準化"
   ]
  },
  {
   "cell_type": "code",
   "execution_count": 14,
   "metadata": {},
   "outputs": [],
   "source": [
    "from sklearn.preprocessing import MinMaxScaler\n",
    "sc = MinMaxScaler(feature_range = (0, 1))\n",
    "training_set_scaled = sc.fit_transform(training_set)"
   ]
  },
  {
   "cell_type": "code",
   "execution_count": 15,
   "metadata": {},
   "outputs": [
    {
     "data": {
      "text/plain": [
       "array([[0.20133596],\n",
       "       [0.20133596],\n",
       "       [0.22818145],\n",
       "       ...,\n",
       "       [0.81224369],\n",
       "       [0.81960657],\n",
       "       [0.82328816]])"
      ]
     },
     "execution_count": 15,
     "metadata": {},
     "output_type": "execute_result"
    }
   ],
   "source": [
    "training_set_scaled"
   ]
  },
  {
   "cell_type": "code",
   "execution_count": 16,
   "metadata": {},
   "outputs": [
    {
     "data": {
      "text/plain": [
       "2258"
      ]
     },
     "execution_count": 16,
     "metadata": {},
     "output_type": "execute_result"
    }
   ],
   "source": [
    "len(training_set_scaled)"
   ]
  },
  {
   "cell_type": "code",
   "execution_count": 20,
   "metadata": {},
   "outputs": [
    {
     "data": {
      "text/plain": [
       "1806.4"
      ]
     },
     "execution_count": 20,
     "metadata": {},
     "output_type": "execute_result"
    }
   ],
   "source": [
    "2258 * 0.8"
   ]
  },
  {
   "cell_type": "code",
   "execution_count": 21,
   "metadata": {},
   "outputs": [],
   "source": [
    "import numpy as np\n",
    "X_train = []\n",
    "y_train = []\n",
    "for i in range(60, 1800):\n",
    "    X_train.append(training_set_scaled[i-60:i, 0])\n",
    "    y_train.append(training_set_scaled[i,0])\n",
    "X_train, y_train = np.array(X_train), np.array(y_train)"
   ]
  },
  {
   "cell_type": "code",
   "execution_count": 23,
   "metadata": {},
   "outputs": [
    {
     "data": {
      "text/plain": [
       "(1740, 60)"
      ]
     },
     "execution_count": 23,
     "metadata": {},
     "output_type": "execute_result"
    }
   ],
   "source": [
    "X_train.shape"
   ]
  },
  {
   "cell_type": "code",
   "execution_count": 24,
   "metadata": {},
   "outputs": [
    {
     "data": {
      "text/plain": [
       "(1740,)"
      ]
     },
     "execution_count": 24,
     "metadata": {},
     "output_type": "execute_result"
    }
   ],
   "source": [
    "y_train.shape"
   ]
  },
  {
   "cell_type": "code",
   "execution_count": 25,
   "metadata": {},
   "outputs": [
    {
     "data": {
      "text/plain": [
       "(1740, 60, 1)"
      ]
     },
     "execution_count": 25,
     "metadata": {},
     "output_type": "execute_result"
    }
   ],
   "source": [
    "X_train = np.reshape(X_train, (X_train.shape[0], X_train.shape[1], 1))\n",
    "X_train.shape"
   ]
  },
  {
   "cell_type": "markdown",
   "metadata": {},
   "source": [
    "###  建構神經網路模型 "
   ]
  },
  {
   "cell_type": "code",
   "execution_count": 26,
   "metadata": {},
   "outputs": [
    {
     "name": "stderr",
     "output_type": "stream",
     "text": [
      "Using TensorFlow backend.\n"
     ]
    }
   ],
   "source": [
    "# Importing the Keras libraries and packages\n",
    "from keras.models import Sequential \n",
    "from keras.layers import Dense\n",
    "from keras.layers import LSTM\n",
    "from keras.layers import Dropout\n",
    "\n",
    "# Initialising the RNN\n",
    "regressor = Sequential()"
   ]
  },
  {
   "cell_type": "code",
   "execution_count": 27,
   "metadata": {},
   "outputs": [
    {
     "name": "stdout",
     "output_type": "stream",
     "text": [
      "WARNING:tensorflow:From /Users/davidchiu/.pyenv/versions/3.6.2/lib/python3.6/site-packages/keras/backend/tensorflow_backend.py:1247: calling reduce_sum (from tensorflow.python.ops.math_ops) with keep_dims is deprecated and will be removed in a future version.\n",
      "Instructions for updating:\n",
      "keep_dims is deprecated, use keepdims instead\n"
     ]
    }
   ],
   "source": [
    "regressor.add(LSTM(units = 50, return_sequences = True, input_shape = (X_train.shape[1], 1)))\n",
    "regressor.add(Dropout(0.2))\n",
    "\n",
    "regressor.add(LSTM(units = 50, return_sequences = True)) \n",
    "regressor.add(Dropout(0.2))\n",
    "\n",
    "regressor.add(LSTM(units = 50, return_sequences = True)) \n",
    "regressor.add(Dropout(0.2))\n",
    "\n",
    "regressor.add(LSTM(units = 50))\n",
    "regressor.add(Dropout(0.2))\n",
    "\n",
    "regressor.add(Dense(units = 1))"
   ]
  },
  {
   "cell_type": "code",
   "execution_count": 28,
   "metadata": {},
   "outputs": [
    {
     "name": "stdout",
     "output_type": "stream",
     "text": [
      "WARNING:tensorflow:From /Users/davidchiu/.pyenv/versions/3.6.2/lib/python3.6/site-packages/keras/backend/tensorflow_backend.py:1349: calling reduce_mean (from tensorflow.python.ops.math_ops) with keep_dims is deprecated and will be removed in a future version.\n",
      "Instructions for updating:\n",
      "keep_dims is deprecated, use keepdims instead\n",
      "Epoch 1/100\n",
      "1740/1740 [==============================] - 11s 6ms/step - loss: 0.0340\n",
      "Epoch 2/100\n",
      "1740/1740 [==============================] - 9s 5ms/step - loss: 0.0060\n",
      "Epoch 3/100\n",
      "1740/1740 [==============================] - 9s 5ms/step - loss: 0.0042\n",
      "Epoch 4/100\n",
      "1740/1740 [==============================] - 9s 5ms/step - loss: 0.0044\n",
      "Epoch 5/100\n",
      "1740/1740 [==============================] - 9s 5ms/step - loss: 0.0038\n",
      "Epoch 6/100\n",
      "1740/1740 [==============================] - 9s 5ms/step - loss: 0.0037\n",
      "Epoch 7/100\n",
      "1740/1740 [==============================] - 9s 5ms/step - loss: 0.0036\n",
      "Epoch 8/100\n",
      "1740/1740 [==============================] - 9s 5ms/step - loss: 0.0033\n",
      "Epoch 9/100\n",
      "1740/1740 [==============================] - 9s 5ms/step - loss: 0.0033\n",
      "Epoch 10/100\n",
      "1740/1740 [==============================] - 9s 5ms/step - loss: 0.0031\n",
      "Epoch 11/100\n",
      "1740/1740 [==============================] - 9s 5ms/step - loss: 0.0035\n",
      "Epoch 12/100\n",
      "1740/1740 [==============================] - 9s 5ms/step - loss: 0.0029\n",
      "Epoch 13/100\n",
      "1740/1740 [==============================] - 9s 5ms/step - loss: 0.0028\n",
      "Epoch 14/100\n",
      "1740/1740 [==============================] - 9s 5ms/step - loss: 0.0029\n",
      "Epoch 15/100\n",
      "1740/1740 [==============================] - 9s 5ms/step - loss: 0.0025\n",
      "Epoch 16/100\n",
      "1740/1740 [==============================] - 9s 5ms/step - loss: 0.0025\n",
      "Epoch 17/100\n",
      "1740/1740 [==============================] - 9s 5ms/step - loss: 0.0025\n",
      "Epoch 18/100\n",
      "1740/1740 [==============================] - 9s 5ms/step - loss: 0.0026\n",
      "Epoch 19/100\n",
      "1740/1740 [==============================] - 9s 5ms/step - loss: 0.0024\n",
      "Epoch 20/100\n",
      "1740/1740 [==============================] - 9s 5ms/step - loss: 0.0021\n",
      "Epoch 21/100\n",
      "1740/1740 [==============================] - 9s 5ms/step - loss: 0.0023\n",
      "Epoch 22/100\n",
      "1740/1740 [==============================] - 9s 5ms/step - loss: 0.0020\n",
      "Epoch 23/100\n",
      "1740/1740 [==============================] - 9s 5ms/step - loss: 0.0020\n",
      "Epoch 24/100\n",
      "1740/1740 [==============================] - 9s 5ms/step - loss: 0.0020\n",
      "Epoch 25/100\n",
      "1740/1740 [==============================] - 9s 5ms/step - loss: 0.0021\n",
      "Epoch 26/100\n",
      "1740/1740 [==============================] - 9s 5ms/step - loss: 0.0019\n",
      "Epoch 27/100\n",
      "1740/1740 [==============================] - 9s 5ms/step - loss: 0.0017\n",
      "Epoch 28/100\n",
      "1740/1740 [==============================] - 9s 5ms/step - loss: 0.0017\n",
      "Epoch 29/100\n",
      "1740/1740 [==============================] - 9s 5ms/step - loss: 0.0018\n",
      "Epoch 30/100\n",
      "1740/1740 [==============================] - 9s 5ms/step - loss: 0.0017\n",
      "Epoch 31/100\n",
      "1740/1740 [==============================] - 9s 5ms/step - loss: 0.0018\n",
      "Epoch 32/100\n",
      "1740/1740 [==============================] - 9s 5ms/step - loss: 0.0017\n",
      "Epoch 33/100\n",
      "1740/1740 [==============================] - 9s 5ms/step - loss: 0.0018\n",
      "Epoch 34/100\n",
      "1740/1740 [==============================] - 9s 5ms/step - loss: 0.0017\n",
      "Epoch 35/100\n",
      "1740/1740 [==============================] - 9s 5ms/step - loss: 0.0016\n",
      "Epoch 36/100\n",
      "1740/1740 [==============================] - 9s 5ms/step - loss: 0.0015\n",
      "Epoch 37/100\n",
      "1740/1740 [==============================] - 9s 5ms/step - loss: 0.0015\n",
      "Epoch 38/100\n",
      "1740/1740 [==============================] - 9s 5ms/step - loss: 0.0014\n",
      "Epoch 39/100\n",
      "1740/1740 [==============================] - 9s 5ms/step - loss: 0.0015\n",
      "Epoch 40/100\n",
      "1740/1740 [==============================] - 9s 5ms/step - loss: 0.0014\n",
      "Epoch 41/100\n",
      "1740/1740 [==============================] - 9s 5ms/step - loss: 0.0015\n",
      "Epoch 42/100\n",
      "1740/1740 [==============================] - 9s 5ms/step - loss: 0.0014\n",
      "Epoch 43/100\n",
      "1740/1740 [==============================] - 9s 5ms/step - loss: 0.0013\n",
      "Epoch 44/100\n",
      "1740/1740 [==============================] - 9s 5ms/step - loss: 0.0013\n",
      "Epoch 45/100\n",
      "1740/1740 [==============================] - 9s 5ms/step - loss: 0.0013\n",
      "Epoch 46/100\n",
      "1740/1740 [==============================] - 9s 5ms/step - loss: 0.0014\n",
      "Epoch 47/100\n",
      "1740/1740 [==============================] - 9s 5ms/step - loss: 0.0013\n",
      "Epoch 48/100\n",
      "1740/1740 [==============================] - 9s 5ms/step - loss: 0.0013\n",
      "Epoch 49/100\n",
      "1740/1740 [==============================] - 9s 5ms/step - loss: 0.0013\n",
      "Epoch 50/100\n",
      "1740/1740 [==============================] - 9s 5ms/step - loss: 0.0012\n",
      "Epoch 51/100\n",
      "1740/1740 [==============================] - 9s 5ms/step - loss: 0.0012\n",
      "Epoch 52/100\n",
      "1740/1740 [==============================] - 9s 5ms/step - loss: 0.0012\n",
      "Epoch 53/100\n",
      "1740/1740 [==============================] - 9s 5ms/step - loss: 0.0012\n",
      "Epoch 54/100\n",
      "1740/1740 [==============================] - 9s 5ms/step - loss: 0.0012\n",
      "Epoch 55/100\n",
      "1740/1740 [==============================] - 9s 5ms/step - loss: 0.0012\n",
      "Epoch 56/100\n",
      "1740/1740 [==============================] - 9s 5ms/step - loss: 0.0011\n",
      "Epoch 57/100\n",
      "1740/1740 [==============================] - 9s 5ms/step - loss: 0.0010\n",
      "Epoch 58/100\n",
      "1740/1740 [==============================] - 9s 5ms/step - loss: 0.0011\n",
      "Epoch 59/100\n",
      "1740/1740 [==============================] - 9s 5ms/step - loss: 0.0010\n",
      "Epoch 60/100\n",
      "1740/1740 [==============================] - 9s 5ms/step - loss: 0.0011\n",
      "Epoch 61/100\n",
      "1740/1740 [==============================] - 9s 5ms/step - loss: 0.0010\n",
      "Epoch 62/100\n",
      "1740/1740 [==============================] - 9s 5ms/step - loss: 0.0010\n",
      "Epoch 63/100\n",
      "1740/1740 [==============================] - 9s 5ms/step - loss: 0.0010\n",
      "Epoch 64/100\n",
      "1740/1740 [==============================] - 9s 5ms/step - loss: 0.0010\n",
      "Epoch 65/100\n",
      "1740/1740 [==============================] - 9s 5ms/step - loss: 9.7573e-04\n",
      "Epoch 66/100\n",
      "1740/1740 [==============================] - 9s 5ms/step - loss: 0.0010\n",
      "Epoch 67/100\n",
      "1740/1740 [==============================] - 9s 5ms/step - loss: 8.6870e-04\n",
      "Epoch 68/100\n",
      "1740/1740 [==============================] - 9s 5ms/step - loss: 9.7379e-04\n",
      "Epoch 69/100\n",
      "1740/1740 [==============================] - 9s 5ms/step - loss: 9.2613e-04\n",
      "Epoch 70/100\n",
      "1740/1740 [==============================] - 9s 5ms/step - loss: 9.2934e-04\n",
      "Epoch 71/100\n",
      "1740/1740 [==============================] - 9s 5ms/step - loss: 9.4287e-04\n",
      "Epoch 72/100\n",
      "1740/1740 [==============================] - 9s 5ms/step - loss: 9.4677e-04\n",
      "Epoch 73/100\n",
      "1740/1740 [==============================] - 9s 5ms/step - loss: 0.0010\n",
      "Epoch 74/100\n",
      "1740/1740 [==============================] - 9s 5ms/step - loss: 8.4721e-04\n",
      "Epoch 75/100\n",
      "1740/1740 [==============================] - 9s 5ms/step - loss: 9.4316e-04\n",
      "Epoch 76/100\n",
      "1740/1740 [==============================] - 9s 5ms/step - loss: 8.4518e-04\n",
      "Epoch 77/100\n",
      "1740/1740 [==============================] - 9s 5ms/step - loss: 9.3470e-04\n",
      "Epoch 78/100\n",
      "1740/1740 [==============================] - 9s 5ms/step - loss: 7.9715e-04\n",
      "Epoch 79/100\n",
      "1740/1740 [==============================] - 9s 5ms/step - loss: 8.2008e-04\n",
      "Epoch 80/100\n",
      "1740/1740 [==============================] - 9s 5ms/step - loss: 9.1392e-04\n",
      "Epoch 81/100\n",
      "1740/1740 [==============================] - 9s 5ms/step - loss: 8.2836e-04\n",
      "Epoch 82/100\n",
      "1740/1740 [==============================] - 9s 5ms/step - loss: 8.3399e-04\n",
      "Epoch 83/100\n",
      "1740/1740 [==============================] - 9s 5ms/step - loss: 7.5917e-04\n",
      "Epoch 84/100\n",
      "1740/1740 [==============================] - 9s 5ms/step - loss: 8.2684e-04\n",
      "Epoch 85/100\n",
      "1740/1740 [==============================] - 9s 5ms/step - loss: 7.4909e-04\n",
      "Epoch 86/100\n",
      "1740/1740 [==============================] - 9s 5ms/step - loss: 7.1818e-04\n",
      "Epoch 87/100\n",
      "1740/1740 [==============================] - 9s 5ms/step - loss: 7.6108e-04\n",
      "Epoch 88/100\n",
      "1740/1740 [==============================] - 9s 5ms/step - loss: 7.8330e-04\n",
      "Epoch 89/100\n",
      "1740/1740 [==============================] - 9s 5ms/step - loss: 8.5509e-04\n",
      "Epoch 90/100\n",
      "1740/1740 [==============================] - 9s 5ms/step - loss: 7.6639e-04\n",
      "Epoch 91/100\n",
      "1740/1740 [==============================] - 9s 5ms/step - loss: 7.8282e-04\n",
      "Epoch 92/100\n"
     ]
    },
    {
     "name": "stdout",
     "output_type": "stream",
     "text": [
      "1740/1740 [==============================] - 9s 5ms/step - loss: 7.1892e-04\n",
      "Epoch 93/100\n",
      "1740/1740 [==============================] - 9s 5ms/step - loss: 7.8142e-04\n",
      "Epoch 94/100\n",
      "1740/1740 [==============================] - 9s 5ms/step - loss: 7.4777e-04\n",
      "Epoch 95/100\n",
      "1740/1740 [==============================] - 9s 5ms/step - loss: 7.7793e-04\n",
      "Epoch 96/100\n",
      "1740/1740 [==============================] - 9s 5ms/step - loss: 7.2604e-04\n",
      "Epoch 97/100\n",
      "1740/1740 [==============================] - 9s 5ms/step - loss: 6.8011e-04\n",
      "Epoch 98/100\n",
      "1740/1740 [==============================] - 9s 5ms/step - loss: 7.3575e-04\n",
      "Epoch 99/100\n",
      "1740/1740 [==============================] - 9s 5ms/step - loss: 7.4229e-04\n",
      "Epoch 100/100\n",
      "1740/1740 [==============================] - 9s 5ms/step - loss: 7.6347e-04\n"
     ]
    },
    {
     "data": {
      "text/plain": [
       "<keras.callbacks.History at 0x131a2d438>"
      ]
     },
     "execution_count": 28,
     "metadata": {},
     "output_type": "execute_result"
    }
   ],
   "source": [
    "# Compiling the RNN\n",
    "regressor.compile(optimizer = 'adam', loss = 'mean_squared_error')\n",
    "\n",
    "# Fitting the RNN to the Training set\n",
    "regressor.fit(X_train, y_train, epochs = 100, batch_size = 32)"
   ]
  },
  {
   "cell_type": "code",
   "execution_count": 82,
   "metadata": {},
   "outputs": [],
   "source": [
    "#X_train[1739,:,:]"
   ]
  },
  {
   "cell_type": "code",
   "execution_count": 39,
   "metadata": {},
   "outputs": [
    {
     "data": {
      "text/plain": [
       "array([0.69811719])"
      ]
     },
     "execution_count": 39,
     "metadata": {},
     "output_type": "execute_result"
    }
   ],
   "source": [
    "training_set_scaled[1800, :]"
   ]
  },
  {
   "cell_type": "code",
   "execution_count": 40,
   "metadata": {},
   "outputs": [
    {
     "data": {
      "text/plain": [
       "2258"
      ]
     },
     "execution_count": 40,
     "metadata": {},
     "output_type": "execute_result"
    }
   ],
   "source": [
    "len(training_set)"
   ]
  },
  {
   "cell_type": "code",
   "execution_count": 42,
   "metadata": {},
   "outputs": [
    {
     "data": {
      "text/plain": [
       "1740"
      ]
     },
     "execution_count": 42,
     "metadata": {},
     "output_type": "execute_result"
    }
   ],
   "source": [
    "len(X_train)"
   ]
  },
  {
   "cell_type": "code",
   "execution_count": 51,
   "metadata": {},
   "outputs": [
    {
     "data": {
      "text/plain": [
       "458"
      ]
     },
     "execution_count": 51,
     "metadata": {},
     "output_type": "execute_result"
    }
   ],
   "source": [
    "2258 - 1740 - 60"
   ]
  },
  {
   "cell_type": "code",
   "execution_count": 49,
   "metadata": {},
   "outputs": [],
   "source": [
    "inputs = training_set_scaled[len(training_set) - len(X_train) - 60:]"
   ]
  },
  {
   "cell_type": "code",
   "execution_count": 50,
   "metadata": {},
   "outputs": [
    {
     "data": {
      "text/plain": [
       "(1800, 1)"
      ]
     },
     "execution_count": 50,
     "metadata": {},
     "output_type": "execute_result"
    }
   ],
   "source": [
    "inputs.shape"
   ]
  },
  {
   "cell_type": "code",
   "execution_count": 60,
   "metadata": {},
   "outputs": [],
   "source": [
    "import numpy as np\n",
    "X_test = []\n",
    "y_test = []\n",
    "for i in range(1800, 2258):\n",
    "    X_test.append(training_set_scaled[i-60:i, 0])\n",
    "    y_test.append(training_set_scaled[i,0])\n",
    "X_test, y_test= np.array(X_test), np.array(y_test)"
   ]
  },
  {
   "cell_type": "code",
   "execution_count": 61,
   "metadata": {},
   "outputs": [
    {
     "data": {
      "text/plain": [
       "(458, 60)"
      ]
     },
     "execution_count": 61,
     "metadata": {},
     "output_type": "execute_result"
    }
   ],
   "source": [
    "X_test.shape"
   ]
  },
  {
   "cell_type": "code",
   "execution_count": 62,
   "metadata": {},
   "outputs": [
    {
     "data": {
      "text/plain": [
       "(458, 60, 1)"
      ]
     },
     "execution_count": 62,
     "metadata": {},
     "output_type": "execute_result"
    }
   ],
   "source": [
    "X_test = np.reshape(X_test, (X_test.shape[0], X_test.shape[1], 1))\n",
    "X_test.shape"
   ]
  },
  {
   "cell_type": "code",
   "execution_count": 63,
   "metadata": {},
   "outputs": [],
   "source": [
    "predicted = regressor.predict(X_test)"
   ]
  },
  {
   "cell_type": "code",
   "execution_count": 64,
   "metadata": {},
   "outputs": [
    {
     "data": {
      "text/plain": [
       "(458, 60, 1)"
      ]
     },
     "execution_count": 64,
     "metadata": {},
     "output_type": "execute_result"
    }
   ],
   "source": [
    "X_test.shape"
   ]
  },
  {
   "cell_type": "code",
   "execution_count": 66,
   "metadata": {},
   "outputs": [
    {
     "data": {
      "text/plain": [
       "458"
      ]
     },
     "execution_count": 66,
     "metadata": {},
     "output_type": "execute_result"
    }
   ],
   "source": [
    "len(predicted)"
   ]
  },
  {
   "cell_type": "code",
   "execution_count": 67,
   "metadata": {},
   "outputs": [
    {
     "data": {
      "text/plain": [
       "458"
      ]
     },
     "execution_count": 67,
     "metadata": {},
     "output_type": "execute_result"
    }
   ],
   "source": [
    "len(y_test)"
   ]
  },
  {
   "cell_type": "code",
   "execution_count": 77,
   "metadata": {},
   "outputs": [
    {
     "data": {
      "image/png": "[encoded data removed]",
      "text/plain": [
       "<Figure size 432x288 with 1 Axes>"
      ]
     },
     "metadata": {},
     "output_type": "display_data"
    }
   ],
   "source": [
    "import matplotlib.pyplot as plt\n",
    "plt.plot(y_test, color = 'red', label = 'Real CTBC Stock Price')\n",
    "plt.plot(predicted, color = 'blue', label = 'Predicted CTBC Stock Price')\n",
    "plt.title('CTBC Stock Price Prediction')\n",
    "plt.xlabel('Time')\n",
    "plt.ylabel('CTBC Stock Price')\n",
    "plt.legend()\n",
    "plt.show()"
   ]
  },
  {
   "cell_type": "code",
   "execution_count": 72,
   "metadata": {},
   "outputs": [],
   "source": [
    "y_test = y_test.reshape(-1,1)"
   ]
  },
  {
   "cell_type": "code",
   "execution_count": 73,
   "metadata": {},
   "outputs": [],
   "source": [
    "real_stock_price = sc.inverse_transform(y_test)"
   ]
  },
  {
   "cell_type": "code",
   "execution_count": 75,
   "metadata": {},
   "outputs": [],
   "source": [
    "predicted_stock_price = sc.inverse_transform(predicted)"
   ]
  },
  {
   "cell_type": "code",
   "execution_count": 78,
   "metadata": {},
   "outputs": [
    {
     "data": {
      "image/png": "[encoded data removed]",
      "text/plain": [
       "<Figure size 432x288 with 1 Axes>"
      ]
     },
     "metadata": {},
     "output_type": "display_data"
    }
   ],
   "source": [
    "import matplotlib.pyplot as plt\n",
    "plt.plot(real_stock_price, color = 'red', label = 'Real CTBC Stock Price')\n",
    "plt.plot(predicted_stock_price, color = 'blue', label = 'Predicted CTBC Stock Price')\n",
    "plt.title('CTBC Stock Price Prediction')\n",
    "plt.xlabel('Time')\n",
    "plt.ylabel('CTBC Stock Price')\n",
    "plt.legend()\n",
    "plt.show()"
   ]
  },
  {
   "cell_type": "code",
   "execution_count": 79,
   "metadata": {},
   "outputs": [
    {
     "data": {
      "text/plain": [
       "array([20.60000038])"
      ]
     },
     "execution_count": 79,
     "metadata": {},
     "output_type": "execute_result"
    }
   ],
   "source": [
    "real_stock_price[-1]"
   ]
  },
  {
   "cell_type": "code",
   "execution_count": 80,
   "metadata": {},
   "outputs": [
    {
     "data": {
      "text/plain": [
       "array([20.11528], dtype=float32)"
      ]
     },
     "execution_count": 80,
     "metadata": {},
     "output_type": "execute_result"
    }
   ],
   "source": [
    "predicted_stock_price[-1]"
   ]
  },
  {
   "cell_type": "code",
   "execution_count": 81,
   "metadata": {},
   "outputs": [
    {
     "data": {
      "text/plain": [
       "-0.02353011509993003"
      ]
     },
     "execution_count": 81,
     "metadata": {},
     "output_type": "execute_result"
    }
   ],
   "source": [
    "(20.11528 - 20.60000038 )/ 20.60000038"
   ]
  },
  {
   "cell_type": "code",
   "execution_count": 84,
   "metadata": {},
   "outputs": [],
   "source": [
    "training_predicted = regressor.predict(X_train)"
   ]
  },
  {
   "cell_type": "code",
   "execution_count": 85,
   "metadata": {},
   "outputs": [
    {
     "data": {
      "image/png": "[encoded data removed]",
      "text/plain": [
       "<Figure size 432x288 with 1 Axes>"
      ]
     },
     "metadata": {},
     "output_type": "display_data"
    }
   ],
   "source": [
    "import matplotlib.pyplot as plt\n",
    "plt.plot(y_train, color = 'red', label = 'Real CTBC Stock Price')\n",
    "plt.plot(training_predicted, color = 'blue', label = 'Predicted CTBC Stock Price')\n",
    "plt.title('CTBC Stock Price Prediction')\n",
    "plt.xlabel('Time')\n",
    "plt.ylabel('CTBC Stock Price')\n",
    "plt.legend()\n",
    "plt.show()"
   ]
  },
  {
   "cell_type": "code",
   "execution_count": null,
   "metadata": {},
   "outputs": [],
   "source": []
  }
 ],
 "metadata": {
  "kernelspec": {
   "display_name": "Python 3",
   "language": "python",
   "name": "python3"
  },
  "language_info": {
   "codemirror_mode": {
    "name": "ipython",
    "version": 3
   },
   "file_extension": ".py",
   "mimetype": "text/x-python",
   "name": "python",
   "nbconvert_exporter": "python",
   "pygments_lexer": "ipython3",
   "version": "3.6.2"
  }
 },
 "nbformat": 4,
 "nbformat_minor": 2
}
