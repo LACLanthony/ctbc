{
 "cells": [
  {
   "cell_type": "markdown",
   "metadata": {},
   "source": [
    "## 用 LSTM 預測股票"
   ]
  },
  {
   "cell_type": "markdown",
   "metadata": {},
   "source": [
    "### 安裝 pandas-datareader"
   ]
  },
  {
   "cell_type": "code",
   "execution_count": 1,
   "metadata": {},
   "outputs": [
    {
     "name": "stdout",
     "output_type": "stream",
     "text": [
      "Requirement already satisfied: pandas-datareader in /Users/davidchiu/.pyenv/versions/3.6.2/lib/python3.6/site-packages\n",
      "Requirement already satisfied: pandas>=0.19.2 in /Users/davidchiu/.pyenv/versions/3.6.2/lib/python3.6/site-packages (from pandas-datareader)\n",
      "Requirement already satisfied: requests>=2.3.0 in /Users/davidchiu/.pyenv/versions/3.6.2/lib/python3.6/site-packages (from pandas-datareader)\n",
      "Requirement already satisfied: wrapt in /Users/davidchiu/.pyenv/versions/3.6.2/lib/python3.6/site-packages (from pandas-datareader)\n",
      "Requirement already satisfied: lxml in /Users/davidchiu/.pyenv/versions/3.6.2/lib/python3.6/site-packages (from pandas-datareader)\n",
      "Requirement already satisfied: pytz>=2011k in /Users/davidchiu/.pyenv/versions/3.6.2/lib/python3.6/site-packages (from pandas>=0.19.2->pandas-datareader)\n",
      "Requirement already satisfied: numpy>=1.9.0 in /Users/davidchiu/.pyenv/versions/3.6.2/lib/python3.6/site-packages (from pandas>=0.19.2->pandas-datareader)\n",
      "Requirement already satisfied: python-dateutil>=2.5.0 in /Users/davidchiu/.pyenv/versions/3.6.2/lib/python3.6/site-packages (from pandas>=0.19.2->pandas-datareader)\n",
      "Requirement already satisfied: chardet<3.1.0,>=3.0.2 in /Users/davidchiu/.pyenv/versions/3.6.2/lib/python3.6/site-packages (from requests>=2.3.0->pandas-datareader)\n",
      "Requirement already satisfied: idna<2.9,>=2.5 in /Users/davidchiu/.pyenv/versions/3.6.2/lib/python3.6/site-packages (from requests>=2.3.0->pandas-datareader)\n",
      "Requirement already satisfied: certifi>=2017.4.17 in /Users/davidchiu/.pyenv/versions/3.6.2/lib/python3.6/site-packages (from requests>=2.3.0->pandas-datareader)\n",
      "Requirement already satisfied: urllib3<1.25,>=1.21.1 in /Users/davidchiu/.pyenv/versions/3.6.2/lib/python3.6/site-packages (from requests>=2.3.0->pandas-datareader)\n",
      "Requirement already satisfied: six>=1.5 in /Users/davidchiu/.pyenv/versions/3.6.2/lib/python3.6/site-packages (from python-dateutil>=2.5.0->pandas>=0.19.2->pandas-datareader)\n",
      "\u001b[33mYou are using pip version 9.0.1, however version 19.0.3 is available.\n",
      "You should consider upgrading via the 'pip install --upgrade pip' command.\u001b[0m\n"
     ]
    }
   ],
   "source": [
    "! pip install pandas-datareader"
   ]
  },
  {
   "cell_type": "markdown",
   "metadata": {},
   "source": [
    "### 讀取股票資料"
   ]
  },
  {
   "cell_type": "code",
   "execution_count": 6,
   "metadata": {},
   "outputs": [],
   "source": [
    "import pandas_datareader\n",
    "dataset_train = pandas_datareader.get_data_yahoo('2891.TW')"
   ]
  },
  {
   "cell_type": "code",
   "execution_count": 9,
   "metadata": {},
   "outputs": [
    {
     "name": "stdout",
     "output_type": "stream",
     "text": [
      "Populating the interactive namespace from numpy and matplotlib\n"
     ]
    },
    {
     "data": {
      "text/plain": [
       "<matplotlib.axes._subplots.AxesSubplot at 0x122e08c50>"
      ]
     },
     "execution_count": 9,
     "metadata": {},
     "output_type": "execute_result"
    },
    {
     "data": {
      "image/png": "[encoded data removed]",
      "text/plain": [
       "<Figure size 432x288 with 1 Axes>"
      ]
     },
     "metadata": {},
     "output_type": "display_data"
    }
   ],
   "source": [
    "%pylab inline\n",
    "dataset_train['Close'].plot(kind = 'line')"
   ]
  },
  {
   "cell_type": "code",
   "execution_count": 10,
   "metadata": {},
   "outputs": [
    {
     "name": "stdout",
     "output_type": "stream",
     "text": [
      "<class 'pandas.core.frame.DataFrame'>\n",
      "DatetimeIndex: 2258 entries, 2010-01-04 to 2019-03-15\n",
      "Data columns (total 6 columns):\n",
      "High         2258 non-null float64\n",
      "Low          2258 non-null float64\n",
      "Open         2258 non-null float64\n",
      "Close        2258 non-null float64\n",
      "Volume       2258 non-null float64\n",
      "Adj Close    2258 non-null float64\n",
      "dtypes: float64(6)\n",
      "memory usage: 123.5 KB\n"
     ]
    }
   ],
   "source": [
    "dataset_train.info()"
   ]
  },
  {
   "cell_type": "code",
   "execution_count": 11,
   "metadata": {},
   "outputs": [
    {
     "data": {
      "text/html": [
       "<div>\n",
       "<style scoped>\n",
       "    .dataframe tbody tr th:only-of-type {\n",
       "        vertical-align: middle;\n",
       "    }\n",
       "\n",
       "    .dataframe tbody tr th {\n",
       "        vertical-align: top;\n",
       "    }\n",
       "\n",
       "    .dataframe thead th {\n",
       "        text-align: right;\n",
       "    }\n",
       "</style>\n",
       "<table border=\"1\" class=\"dataframe\">\n",
       "  <thead>\n",
       "    <tr style=\"text-align: right;\">\n",
       "      <th></th>\n",
       "      <th>High</th>\n",
       "      <th>Low</th>\n",
       "      <th>Open</th>\n",
       "      <th>Close</th>\n",
       "      <th>Volume</th>\n",
       "      <th>Adj Close</th>\n",
       "    </tr>\n",
       "  </thead>\n",
       "  <tbody>\n",
       "    <tr>\n",
       "      <th>count</th>\n",
       "      <td>2258.000000</td>\n",
       "      <td>2258.000000</td>\n",
       "      <td>2258.000000</td>\n",
       "      <td>2258.000000</td>\n",
       "      <td>2.258000e+03</td>\n",
       "      <td>2258.000000</td>\n",
       "    </tr>\n",
       "    <tr>\n",
       "      <th>mean</th>\n",
       "      <td>16.337582</td>\n",
       "      <td>16.083328</td>\n",
       "      <td>16.219394</td>\n",
       "      <td>16.212431</td>\n",
       "      <td>4.479740e+07</td>\n",
       "      <td>13.753408</td>\n",
       "    </tr>\n",
       "    <tr>\n",
       "      <th>std</th>\n",
       "      <td>3.134006</td>\n",
       "      <td>3.133552</td>\n",
       "      <td>3.133594</td>\n",
       "      <td>3.141839</td>\n",
       "      <td>2.782286e+07</td>\n",
       "      <td>3.968961</td>\n",
       "    </tr>\n",
       "    <tr>\n",
       "      <th>min</th>\n",
       "      <td>9.570480</td>\n",
       "      <td>9.205890</td>\n",
       "      <td>9.448950</td>\n",
       "      <td>9.418570</td>\n",
       "      <td>0.000000e+00</td>\n",
       "      <td>6.508332</td>\n",
       "    </tr>\n",
       "    <tr>\n",
       "      <th>25%</th>\n",
       "      <td>13.614450</td>\n",
       "      <td>13.402200</td>\n",
       "      <td>13.514900</td>\n",
       "      <td>13.487150</td>\n",
       "      <td>2.657971e+07</td>\n",
       "      <td>10.343856</td>\n",
       "    </tr>\n",
       "    <tr>\n",
       "      <th>50%</th>\n",
       "      <td>16.260500</td>\n",
       "      <td>16.024200</td>\n",
       "      <td>16.148100</td>\n",
       "      <td>16.148100</td>\n",
       "      <td>3.787212e+07</td>\n",
       "      <td>13.325441</td>\n",
       "    </tr>\n",
       "    <tr>\n",
       "      <th>75%</th>\n",
       "      <td>18.750000</td>\n",
       "      <td>18.587500</td>\n",
       "      <td>18.700001</td>\n",
       "      <td>18.667026</td>\n",
       "      <td>5.371670e+07</td>\n",
       "      <td>16.667042</td>\n",
       "    </tr>\n",
       "    <tr>\n",
       "      <th>max</th>\n",
       "      <td>23.000000</td>\n",
       "      <td>22.799999</td>\n",
       "      <td>22.900000</td>\n",
       "      <td>23.000000</td>\n",
       "      <td>3.655387e+08</td>\n",
       "      <td>23.000000</td>\n",
       "    </tr>\n",
       "  </tbody>\n",
       "</table>\n",
       "</div>"
      ],
      "text/plain": [
       "              High          Low         Open        Close        Volume  \\\n",
       "count  2258.000000  2258.000000  2258.000000  2258.000000  2.258000e+03   \n",
       "mean     16.337582    16.083328    16.219394    16.212431  4.479740e+07   \n",
       "std       3.134006     3.133552     3.133594     3.141839  2.782286e+07   \n",
       "min       9.570480     9.205890     9.448950     9.418570  0.000000e+00   \n",
       "25%      13.614450    13.402200    13.514900    13.487150  2.657971e+07   \n",
       "50%      16.260500    16.024200    16.148100    16.148100  3.787212e+07   \n",
       "75%      18.750000    18.587500    18.700001    18.667026  5.371670e+07   \n",
       "max      23.000000    22.799999    22.900000    23.000000  3.655387e+08   \n",
       "\n",
       "         Adj Close  \n",
       "count  2258.000000  \n",
       "mean     13.753408  \n",
       "std       3.968961  \n",
       "min       6.508332  \n",
       "25%      10.343856  \n",
       "50%      13.325441  \n",
       "75%      16.667042  \n",
       "max      23.000000  "
      ]
     },
     "execution_count": 11,
     "metadata": {},
     "output_type": "execute_result"
    }
   ],
   "source": [
    "dataset_train.describe()"
   ]
  },
  {
   "cell_type": "code",
   "execution_count": 12,
   "metadata": {},
   "outputs": [],
   "source": [
    "training_set = dataset_train.iloc[:, 3:4].values"
   ]
  },
  {
   "cell_type": "code",
   "execution_count": 13,
   "metadata": {},
   "outputs": [
    {
     "data": {
      "text/plain": [
       "array([[12.15299988],\n",
       "       [12.15299988],\n",
       "       [12.51760006],\n",
       "       ...,\n",
       "       [20.45000076],\n",
       "       [20.54999924],\n",
       "       [20.60000038]])"
      ]
     },
     "execution_count": 13,
     "metadata": {},
     "output_type": "execute_result"
    }
   ],
   "source": [
    "training_set"
   ]
  },
  {
   "cell_type": "markdown",
   "metadata": {},
   "source": [
    "###  資料標準化"
   ]
  },
  {
   "cell_type": "code",
   "execution_count": 14,
   "metadata": {},
   "outputs": [],
   "source": [
    "from sklearn.preprocessing import MinMaxScaler\n",
    "sc = MinMaxScaler(feature_range = (0, 1))\n",
    "training_set_scaled = sc.fit_transform(training_set)"
   ]
  },
  {
   "cell_type": "code",
   "execution_count": 15,
   "metadata": {},
   "outputs": [
    {
     "data": {
      "text/plain": [
       "array([[0.20133596],\n",
       "       [0.20133596],\n",
       "       [0.22818145],\n",
       "       ...,\n",
       "       [0.81224369],\n",
       "       [0.81960657],\n",
       "       [0.82328816]])"
      ]
     },
     "execution_count": 15,
     "metadata": {},
     "output_type": "execute_result"
    }
   ],
   "source": [
    "training_set_scaled"
   ]
  },
  {
   "cell_type": "code",
   "execution_count": 16,
   "metadata": {},
   "outputs": [
    {
     "data": {
      "text/plain": [
       "2258"
      ]
     },
     "execution_count": 16,
     "metadata": {},
     "output_type": "execute_result"
    }
   ],
   "source": [
    "len(training_set_scaled)"
   ]
  },
  {
   "cell_type": "code",
   "execution_count": 20,
   "metadata": {},
   "outputs": [
    {
     "data": {
      "text/plain": [
       "1806.4"
      ]
     },
     "execution_count": 20,
     "metadata": {},
     "output_type": "execute_result"
    }
   ],
   "source": [
    "2258 * 0.8"
   ]
  },
  {
   "cell_type": "code",
   "execution_count": 21,
   "metadata": {},
   "outputs": [],
   "source": [
    "import numpy as np\n",
    "X_train = []\n",
    "y_train = []\n",
    "for i in range(60, 1800):\n",
    "    X_train.append(training_set_scaled[i-60:i, 0])\n",
    "    y_train.append(training_set_scaled[i,0])\n",
    "X_train, y_train = np.array(X_train), np.array(y_train)"
   ]
  },
  {
   "cell_type": "code",
   "execution_count": 23,
   "metadata": {},
   "outputs": [
    {
     "data": {
      "text/plain": [
       "(1740, 60)"
      ]
     },
     "execution_count": 23,
     "metadata": {},
     "output_type": "execute_result"
    }
   ],
   "source": [
    "X_train.shape"
   ]
  },
  {
   "cell_type": "code",
   "execution_count": 24,
   "metadata": {},
   "outputs": [
    {
     "data": {
      "text/plain": [
       "(1740,)"
      ]
     },
     "execution_count": 24,
     "metadata": {},
     "output_type": "execute_result"
    }
   ],
   "source": [
    "y_train.shape"
   ]
  },
  {
   "cell_type": "code",
   "execution_count": 25,
   "metadata": {},
   "outputs": [
    {
     "data": {
      "text/plain": [
       "(1740, 60, 1)"
      ]
     },
     "execution_count": 25,
     "metadata": {},
     "output_type": "execute_result"
    }
   ],
   "source": [
    "X_train = np.reshape(X_train, (X_train.shape[0], X_train.shape[1], 1))\n",
    "X_train.shape"
   ]
  },
  {
   "cell_type": "markdown",
   "metadata": {},
   "source": [
    "###  建構神經網路模型 "
   ]
  },
  {
   "cell_type": "code",
   "execution_count": 26,
   "metadata": {},
   "outputs": [
    {
     "name": "stderr",
     "output_type": "stream",
     "text": [
      "Using TensorFlow backend.\n"
     ]
    }
   ],
   "source": [
    "# Importing the Keras libraries and packages\n",
    "from keras.models import Sequential \n",
    "from keras.layers import Dense\n",
    "from keras.layers import LSTM\n",
    "from keras.layers import Dropout\n",
    "\n",
    "# Initialising the RNN\n",
    "regressor = Sequential()"
   ]
  },
  {
   "cell_type": "code",
   "execution_count": 27,
   "metadata": {},
   "outputs": [
    {
     "name": "stdout",
     "output_type": "stream",
     "text": [
      "WARNING:tensorflow:From /Users/davidchiu/.pyenv/versions/3.6.2/lib/python3.6/site-packages/keras/backend/tensorflow_backend.py:1247: calling reduce_sum (from tensorflow.python.ops.math_ops) with keep_dims is deprecated and will be removed in a future version.\n",
      "Instructions for updating:\n",
      "keep_dims is deprecated, use keepdims instead\n"
     ]
    }
   ],
   "source": [
    "regressor.add(LSTM(units = 50, return_sequences = True, input_shape = (X_train.shape[1], 1)))\n",
    "regressor.add(Dropout(0.2))\n",
    "\n",
    "regressor.add(LSTM(units = 50, return_sequences = True)) \n",
    "regressor.add(Dropout(0.2))\n",
    "\n",
    "regressor.add(LSTM(units = 50, return_sequences = True)) \n",
    "regressor.add(Dropout(0.2))\n",
    "\n",
    "regressor.add(LSTM(units = 50))\n",
    "regressor.add(Dropout(0.2))\n",
    "\n",
    "regressor.add(Dense(units = 1))"
   ]
  },
  {
   "cell_type": "code",
   "execution_count": 28,
   "metadata": {},
   "outputs": [
    {
     "name": "stdout",
     "output_type": "stream",
     "text": [
      "WARNING:tensorflow:From /Users/davidchiu/.pyenv/versions/3.6.2/lib/python3.6/site-packages/keras/backend/tensorflow_backend.py:1349: calling reduce_mean (from tensorflow.python.ops.math_ops) with keep_dims is deprecated and will be removed in a future version.\n",
      "Instructions for updating:\n",
      "keep_dims is deprecated, use keepdims instead\n",
      "Epoch 1/100\n",
      "1740/1740 [==============================] - 11s 6ms/step - loss: 0.0340\n",
      "Epoch 2/100\n",
      "1740/1740 [==============================] - 9s 5ms/step - loss: 0.0060\n",
      "Epoch 3/100\n",
      "1740/1740 [==============================] - 9s 5ms/step - loss: 0.0042\n",
      "Epoch 4/100\n",
      "1740/1740 [==============================] - 9s 5ms/step - loss: 0.0044\n",
      "Epoch 5/100\n",
      "1740/1740 [==============================] - 9s 5ms/step - loss: 0.0038\n",
      "Epoch 6/100\n",
      "1740/1740 [==============================] - 9s 5ms/step - loss: 0.0037\n",
      "Epoch 7/100\n",
      "1740/1740 [==============================] - 9s 5ms/step - loss: 0.0036\n",
      "Epoch 8/100\n",
      "1740/1740 [==============================] - 9s 5ms/step - loss: 0.0033\n",
      "Epoch 9/100\n",
      "1740/1740 [==============================] - 9s 5ms/step - loss: 0.0033\n",
      "Epoch 10/100\n",
      "1740/1740 [==============================] - 9s 5ms/step - loss: 0.0031\n",
      "Epoch 11/100\n",
      "1740/1740 [==============================] - 9s 5ms/step - loss: 0.0035\n",
      "Epoch 12/100\n",
      "1740/1740 [==============================] - 9s 5ms/step - loss: 0.0029\n",
      "Epoch 13/100\n",
      "1740/1740 [==============================] - 9s 5ms/step - loss: 0.0028\n",
      "Epoch 14/100\n",
      "1740/1740 [==============================] - 9s 5ms/step - loss: 0.0029\n",
      "Epoch 15/100\n",
      "1740/1740 [==============================] - 9s 5ms/step - loss: 0.0025\n",
      "Epoch 16/100\n",
      "1740/1740 [==============================] - 9s 5ms/step - loss: 0.0025\n",
      "Epoch 17/100\n",
      "1740/1740 [==============================] - 9s 5ms/step - loss: 0.0025\n",
      "Epoch 18/100\n",
      "1740/1740 [==============================] - 9s 5ms/step - loss: 0.0026\n",
      "Epoch 19/100\n",
      "1740/1740 [==============================] - 9s 5ms/step - loss: 0.0024\n",
      "Epoch 20/100\n",
      "1740/1740 [==============================] - 9s 5ms/step - loss: 0.0021\n",
      "Epoch 21/100\n",
      "1740/1740 [==============================] - 9s 5ms/step - loss: 0.0023\n",
      "Epoch 22/100\n",
      "1740/1740 [==============================] - 9s 5ms/step - loss: 0.0020\n",
      "Epoch 23/100\n",
      "1740/1740 [==============================] - 9s 5ms/step - loss: 0.0020\n",
      "Epoch 24/100\n",
      "1740/1740 [==============================] - 9s 5ms/step - loss: 0.0020\n",
      "Epoch 25/100\n",
      "1740/1740 [==============================] - 9s 5ms/step - loss: 0.0021\n",
      "Epoch 26/100\n",
      "1740/1740 [==============================] - 9s 5ms/step - loss: 0.0019\n",
      "Epoch 27/100\n",
      "1740/1740 [==============================] - 9s 5ms/step - loss: 0.0017\n",
      "Epoch 28/100\n",
      "1740/1740 [==============================] - 9s 5ms/step - loss: 0.0017\n",
      "Epoch 29/100\n",
      "1740/1740 [==============================] - 9s 5ms/step - loss: 0.0018\n",
      "Epoch 30/100\n",
      "1740/1740 [==============================] - 9s 5ms/step - loss: 0.0017\n",
      "Epoch 31/100\n",
      "1740/1740 [==============================] - 9s 5ms/step - loss: 0.0018\n",
      "Epoch 32/100\n",
      "1740/1740 [==============================] - 9s 5ms/step - loss: 0.0017\n",
      "Epoch 33/100\n",
      "1740/1740 [==============================] - 9s 5ms/step - loss: 0.0018\n",
      "Epoch 34/100\n",
      "1740/1740 [==============================] - 9s 5ms/step - loss: 0.0017\n",
      "Epoch 35/100\n",
      "1740/1740 [==============================] - 9s 5ms/step - loss: 0.0016\n",
      "Epoch 36/100\n",
      "1740/1740 [==============================] - 9s 5ms/step - loss: 0.0015\n",
      "Epoch 37/100\n",
      "1740/1740 [==============================] - 9s 5ms/step - loss: 0.0015\n",
      "Epoch 38/100\n",
      "1740/1740 [==============================] - 9s 5ms/step - loss: 0.0014\n",
      "Epoch 39/100\n",
      "1740/1740 [==============================] - 9s 5ms/step - loss: 0.0015\n",
      "Epoch 40/100\n",
      "1740/1740 [==============================] - 9s 5ms/step - loss: 0.0014\n",
      "Epoch 41/100\n",
      "1740/1740 [==============================] - 9s 5ms/step - loss: 0.0015\n",
      "Epoch 42/100\n",
      "1740/1740 [==============================] - 9s 5ms/step - loss: 0.0014\n",
      "Epoch 43/100\n",
      "1740/1740 [==============================] - 9s 5ms/step - loss: 0.0013\n",
      "Epoch 44/100\n",
      "1740/1740 [==============================] - 9s 5ms/step - loss: 0.0013\n",
      "Epoch 45/100\n",
      "1740/1740 [==============================] - 9s 5ms/step - loss: 0.0013\n",
      "Epoch 46/100\n",
      "1740/1740 [==============================] - 9s 5ms/step - loss: 0.0014\n",
      "Epoch 47/100\n",
      "1740/1740 [==============================] - 9s 5ms/step - loss: 0.0013\n",
      "Epoch 48/100\n",
      "1740/1740 [==============================] - 9s 5ms/step - loss: 0.0013\n",
      "Epoch 49/100\n",
      "1740/1740 [==============================] - 9s 5ms/step - loss: 0.0013\n",
      "Epoch 50/100\n",
      "1740/1740 [==============================] - 9s 5ms/step - loss: 0.0012\n",
      "Epoch 51/100\n",
      "1740/1740 [==============================] - 9s 5ms/step - loss: 0.0012\n",
      "Epoch 52/100\n",
      "1740/1740 [==============================] - 9s 5ms/step - loss: 0.0012\n",
      "Epoch 53/100\n",
      "1740/1740 [==============================] - 9s 5ms/step - loss: 0.0012\n",
      "Epoch 54/100\n",
      "1740/1740 [==============================] - 9s 5ms/step - loss: 0.0012\n",
      "Epoch 55/100\n",
      "1740/1740 [==============================] - 9s 5ms/step - loss: 0.0012\n",
      "Epoch 56/100\n",
      "1740/1740 [==============================] - 9s 5ms/step - loss: 0.0011\n",
      "Epoch 57/100\n",
      "1740/1740 [==============================] - 9s 5ms/step - loss: 0.0010\n",
      "Epoch 58/100\n",
      "1740/1740 [==============================] - 9s 5ms/step - loss: 0.0011\n",
      "Epoch 59/100\n",
      "1740/1740 [==============================] - 9s 5ms/step - loss: 0.0010\n",
      "Epoch 60/100\n",
      "1740/1740 [==============================] - 9s 5ms/step - loss: 0.0011\n",
      "Epoch 61/100\n",
      "1740/1740 [==============================] - 9s 5ms/step - loss: 0.0010\n",
      "Epoch 62/100\n",
      "1740/1740 [==============================] - 9s 5ms/step - loss: 0.0010\n",
      "Epoch 63/100\n",
      "1740/1740 [==============================] - 9s 5ms/step - loss: 0.0010\n",
      "Epoch 64/100\n",
      "1740/1740 [==============================] - 9s 5ms/step - loss: 0.0010\n",
      "Epoch 65/100\n",
      "1740/1740 [==============================] - 9s 5ms/step - loss: 9.7573e-04\n",
      "Epoch 66/100\n",
      "1740/1740 [==============================] - 9s 5ms/step - loss: 0.0010\n",
      "Epoch 67/100\n",
      "1740/1740 [==============================] - 9s 5ms/step - loss: 8.6870e-04\n",
      "Epoch 68/100\n",
      "1740/1740 [==============================] - 9s 5ms/step - loss: 9.7379e-04\n",
      "Epoch 69/100\n",
      "1740/1740 [==============================] - 9s 5ms/step - loss: 9.2613e-04\n",
      "Epoch 70/100\n",
      "1740/1740 [==============================] - 9s 5ms/step - loss: 9.2934e-04\n",
      "Epoch 71/100\n",
      "1740/1740 [==============================] - 9s 5ms/step - loss: 9.4287e-04\n",
      "Epoch 72/100\n",
      "1740/1740 [==============================] - 9s 5ms/step - loss: 9.4677e-04\n",
      "Epoch 73/100\n",
      "1740/1740 [==============================] - 9s 5ms/step - loss: 0.0010\n",
      "Epoch 74/100\n",
      "1740/1740 [==============================] - 9s 5ms/step - loss: 8.4721e-04\n",
      "Epoch 75/100\n",
      "1740/1740 [==============================] - 9s 5ms/step - loss: 9.4316e-04\n",
      "Epoch 76/100\n",
      "1740/1740 [==============================] - 9s 5ms/step - loss: 8.4518e-04\n",
      "Epoch 77/100\n",
      "1740/1740 [==============================] - 9s 5ms/step - loss: 9.3470e-04\n",
      "Epoch 78/100\n",
      "1740/1740 [==============================] - 9s 5ms/step - loss: 7.9715e-04\n",
      "Epoch 79/100\n",
      "1740/1740 [==============================] - 9s 5ms/step - loss: 8.2008e-04\n",
      "Epoch 80/100\n",
      "1740/1740 [==============================] - 9s 5ms/step - loss: 9.1392e-04\n",
      "Epoch 81/100\n",
      "1740/1740 [==============================] - 9s 5ms/step - loss: 8.2836e-04\n",
      "Epoch 82/100\n",
      "1740/1740 [==============================] - 9s 5ms/step - loss: 8.3399e-04\n",
      "Epoch 83/100\n",
      "1740/1740 [==============================] - 9s 5ms/step - loss: 7.5917e-04\n",
      "Epoch 84/100\n",
      "1740/1740 [==============================] - 9s 5ms/step - loss: 8.2684e-04\n",
      "Epoch 85/100\n",
      "1740/1740 [==============================] - 9s 5ms/step - loss: 7.4909e-04\n",
      "Epoch 86/100\n",
      "1740/1740 [==============================] - 9s 5ms/step - loss: 7.1818e-04\n",
      "Epoch 87/100\n",
      "1740/1740 [==============================] - 9s 5ms/step - loss: 7.6108e-04\n",
      "Epoch 88/100\n",
      "1740/1740 [==============================] - 9s 5ms/step - loss: 7.8330e-04\n",
      "Epoch 89/100\n",
      "1740/1740 [==============================] - 9s 5ms/step - loss: 8.5509e-04\n",
      "Epoch 90/100\n",
      "1740/1740 [==============================] - 9s 5ms/step - loss: 7.6639e-04\n",
      "Epoch 91/100\n",
      "1740/1740 [==============================] - 9s 5ms/step - loss: 7.8282e-04\n",
      "Epoch 92/100\n"
     ]
    },
    {
     "name": "stdout",
     "output_type": "stream",
     "text": [
      "1740/1740 [==============================] - 9s 5ms/step - loss: 7.1892e-04\n",
      "Epoch 93/100\n",
      "1740/1740 [==============================] - 9s 5ms/step - loss: 7.8142e-04\n",
      "Epoch 94/100\n",
      "1740/1740 [==============================] - 9s 5ms/step - loss: 7.4777e-04\n",
      "Epoch 95/100\n",
      "1740/1740 [==============================] - 9s 5ms/step - loss: 7.7793e-04\n",
      "Epoch 96/100\n",
      "1740/1740 [==============================] - 9s 5ms/step - loss: 7.2604e-04\n",
      "Epoch 97/100\n",
      "1740/1740 [==============================] - 9s 5ms/step - loss: 6.8011e-04\n",
      "Epoch 98/100\n",
      "1740/1740 [==============================] - 9s 5ms/step - loss: 7.3575e-04\n",
      "Epoch 99/100\n",
      "1740/1740 [==============================] - 9s 5ms/step - loss: 7.4229e-04\n",
      "Epoch 100/100\n",
      "1740/1740 [==============================] - 9s 5ms/step - loss: 7.6347e-04\n"
     ]
    },
    {
     "data": {
      "text/plain": [
       "<keras.callbacks.History at 0x131a2d438>"
      ]
     },
     "execution_count": 28,
     "metadata": {},
     "output_type": "execute_result"
    }
   ],
   "source": [
    "# Compiling the RNN\n",
    "regressor.compile(optimizer = 'adam', loss = 'mean_squared_error')\n",
    "\n",
    "# Fitting the RNN to the Training set\n",
    "regressor.fit(X_train, y_train, epochs = 100, batch_size = 32)"
   ]
  },
  {
   "cell_type": "code",
   "execution_count": 82,
   "metadata": {},
   "outputs": [],
   "source": [
    "#X_train[1739,:,:]"
   ]
  },
  {
   "cell_type": "code",
   "execution_count": 39,
   "metadata": {},
   "outputs": [
    {
     "data": {
      "text/plain": [
       "array([0.69811719])"
      ]
     },
     "execution_count": 39,
     "metadata": {},
     "output_type": "execute_result"
    }
   ],
   "source": [
    "training_set_scaled[1800, :]"
   ]
  },
  {
   "cell_type": "code",
   "execution_count": 40,
   "metadata": {},
   "outputs": [
    {
     "data": {
      "text/plain": [
       "2258"
      ]
     },
     "execution_count": 40,
     "metadata": {},
     "output_type": "execute_result"
    }
   ],
   "source": [
    "len(training_set)"
   ]
  },
  {
   "cell_type": "code",
   "execution_count": 42,
   "metadata": {},
   "outputs": [
    {
     "data": {
      "text/plain": [
       "1740"
      ]
     },
     "execution_count": 42,
     "metadata": {},
     "output_type": "execute_result"
    }
   ],
   "source": [
    "len(X_train)"
   ]
  },
  {
   "cell_type": "code",
   "execution_count": 51,
   "metadata": {},
   "outputs": [
    {
     "data": {
      "text/plain": [
       "458"
      ]
     },
     "execution_count": 51,
     "metadata": {},
     "output_type": "execute_result"
    }
   ],
   "source": [
    "2258 - 1740 - 60"
   ]
  },
  {
   "cell_type": "code",
   "execution_count": 49,
   "metadata": {},
   "outputs": [],
   "source": [
    "inputs = training_set_scaled[len(training_set) - len(X_train) - 60:]"
   ]
  },
  {
   "cell_type": "code",
   "execution_count": 50,
   "metadata": {},
   "outputs": [
    {
     "data": {
      "text/plain": [
       "(1800, 1)"
      ]
     },
     "execution_count": 50,
     "metadata": {},
     "output_type": "execute_result"
    }
   ],
   "source": [
    "inputs.shape"
   ]
  },
  {
   "cell_type": "code",
   "execution_count": 60,
   "metadata": {},
   "outputs": [],
   "source": [
    "import numpy as np\n",
    "X_test = []\n",
    "y_test = []\n",
    "for i in range(1800, 2258):\n",
    "    X_test.append(training_set_scaled[i-60:i, 0])\n",
    "    y_test.append(training_set_scaled[i,0])\n",
    "X_test, y_test= np.array(X_test), np.array(y_test)"
   ]
  },
  {
   "cell_type": "code",
   "execution_count": 61,
   "metadata": {},
   "outputs": [
    {
     "data": {
      "text/plain": [
       "(458, 60)"
      ]
     },
     "execution_count": 61,
     "metadata": {},
     "output_type": "execute_result"
    }
   ],
   "source": [
    "X_test.shape"
   ]
  },
  {
   "cell_type": "code",
   "execution_count": 62,
   "metadata": {},
   "outputs": [
    {
     "data": {
      "text/plain": [
       "(458, 60, 1)"
      ]
     },
     "execution_count": 62,
     "metadata": {},
     "output_type": "execute_result"
    }
   ],
   "source": [
    "X_test = np.reshape(X_test, (X_test.shape[0], X_test.shape[1], 1))\n",
    "X_test.shape"
   ]
  },
  {
   "cell_type": "code",
   "execution_count": 63,
   "metadata": {},
   "outputs": [],
   "source": [
    "predicted = regressor.predict(X_test)"
   ]
  },
  {
   "cell_type": "code",
   "execution_count": 64,
   "metadata": {},
   "outputs": [
    {
     "data": {
      "text/plain": [
       "(458, 60, 1)"
      ]
     },
     "execution_count": 64,
     "metadata": {},
     "output_type": "execute_result"
    }
   ],
   "source": [
    "X_test.shape"
   ]
  },
  {
   "cell_type": "code",
   "execution_count": 66,
   "metadata": {},
   "outputs": [
    {
     "data": {
      "text/plain": [
       "458"
      ]
     },
     "execution_count": 66,
     "metadata": {},
     "output_type": "execute_result"
    }
   ],
   "source": [
    "len(predicted)"
   ]
  },
  {
   "cell_type": "code",
   "execution_count": 67,
   "metadata": {},
   "outputs": [
    {
     "data": {
      "text/plain": [
       "458"
      ]
     },
     "execution_count": 67,
     "metadata": {},
     "output_type": "execute_result"
    }
   ],
   "source": [
    "len(y_test)"
   ]
  },
  {
   "cell_type": "code",
   "execution_count": 77,
   "metadata": {},
   "outputs": [
    {
     "data": {
      "image/png": "[encoded data removed]",
      "text/plain": [
       "<Figure size 432x288 with 1 Axes>"
      ]
     },
     "metadata": {},
     "output_type": "display_data"
    }
   ],
   "source": [
    "import matplotlib.pyplot as plt\n",
    "plt.plot(y_test, color = 'red', label = 'Real CTBC Stock Price')\n",
    "plt.plot(predicted, color = 'blue', label = 'Predicted CTBC Stock Price')\n",
    "plt.title('CTBC Stock Price Prediction')\n",
    "plt.xlabel('Time')\n",
    "plt.ylabel('CTBC Stock Price')\n",
    "plt.legend()\n",
    "plt.show()"
   ]
  },
  {
   "cell_type": "code",
   "execution_count": 72,
   "metadata": {},
   "outputs": [],
   "source": [
    "y_test = y_test.reshape(-1,1)"
   ]
  },
  {
   "cell_type": "code",
   "execution_count": 73,
   "metadata": {},
   "outputs": [],
   "source": [
    "real_stock_price = sc.inverse_transform(y_test)"
   ]
  },
  {
   "cell_type": "code",
   "execution_count": 75,
   "metadata": {},
   "outputs": [],
   "source": [
    "predicted_stock_price = sc.inverse_transform(predicted)"
   ]
  },
  {
   "cell_type": "code",
   "execution_count": 78,
   "metadata": {},
   "outputs": [
    {
     "data": {
      "image/png": "[encoded data removed]",
      "text/plain": [
       "<Figure size 432x288 with 1 Axes>"
      ]
     },
     "metadata": {},
     "output_type": "display_data"
    }
   ],
   "source": [
    "import matplotlib.pyplot as plt\n",
    "plt.plot(real_stock_price, color = 'red', label = 'Real CTBC Stock Price')\n",
    "plt.plot(predicted_stock_price, color = 'blue', label = 'Predicted CTBC Stock Price')\n",
    "plt.title('CTBC Stock Price Prediction')\n",
    "plt.xlabel('Time')\n",
    "plt.ylabel('CTBC Stock Price')\n",
    "plt.legend()\n",
    "plt.show()"
   ]
  },
  {
   "cell_type": "code",
   "execution_count": 79,
   "metadata": {},
   "outputs": [
    {
     "data": {
      "text/plain": [
       "array([20.60000038])"
      ]
     },
     "execution_count": 79,
     "metadata": {},
     "output_type": "execute_result"
    }
   ],
   "source": [
    "real_stock_price[-1]"
   ]
  },
  {
   "cell_type": "code",
   "execution_count": 80,
   "metadata": {},
   "outputs": [
    {
     "data": {
      "text/plain": [
       "array([20.11528], dtype=float32)"
      ]
     },
     "execution_count": 80,
     "metadata": {},
     "output_type": "execute_result"
    }
   ],
   "source": [
    "predicted_stock_price[-1]"
   ]
  },
  {
   "cell_type": "code",
   "execution_count": 81,
   "metadata": {},
   "outputs": [
    {
     "data": {
      "text/plain": [
       "-0.02353011509993003"
      ]
     },
     "execution_count": 81,
     "metadata": {},
     "output_type": "execute_result"
    }
   ],
   "source": [
    "(20.11528 - 20.60000038 )/ 20.60000038"
   ]
  },
  {
   "cell_type": "code",
   "execution_count": 84,
   "metadata": {},
   "outputs": [],
   "source": [
    "training_predicted = regressor.predict(X_train)"
   ]
  },
  {
   "cell_type": "code",
   "execution_count": 85,
   "metadata": {},
   "outputs": [
    {
     "data": {
      "image/png": "[encoded data removed]",
      "text/plain": [
       "<Figure size 432x288 with 1 Axes>"
      ]
     },
     "metadata": {},
     "output_type": "display_data"
    }
   ],
   "source": [
    "import matplotlib.pyplot as plt\n",
    "plt.plot(y_train, color = 'red', label = 'Real CTBC Stock Price')\n",
    "plt.plot(training_predicted, color = 'blue', label = 'Predicted CTBC Stock Price')\n",
    "plt.title('CTBC Stock Price Prediction')\n",
    "plt.xlabel('Time')\n",
    "plt.ylabel('CTBC Stock Price')\n",
    "plt.legend()\n",
    "plt.show()"
   ]
  },
  {
   "cell_type": "markdown",
   "metadata": {},
   "source": [
    "## 多變數預測"
   ]
  },
  {
   "cell_type": "markdown",
   "metadata": {},
   "source": [
    "### 讀取資料"
   ]
  },
  {
   "cell_type": "code",
   "execution_count": 86,
   "metadata": {},
   "outputs": [
    {
     "data": {
      "text/html": [
       "<div>\n",
       "<style scoped>\n",
       "    .dataframe tbody tr th:only-of-type {\n",
       "        vertical-align: middle;\n",
       "    }\n",
       "\n",
       "    .dataframe tbody tr th {\n",
       "        vertical-align: top;\n",
       "    }\n",
       "\n",
       "    .dataframe thead th {\n",
       "        text-align: right;\n",
       "    }\n",
       "</style>\n",
       "<table border=\"1\" class=\"dataframe\">\n",
       "  <thead>\n",
       "    <tr style=\"text-align: right;\">\n",
       "      <th></th>\n",
       "      <th>No</th>\n",
       "      <th>pm2.5</th>\n",
       "      <th>DEWP</th>\n",
       "      <th>TEMP</th>\n",
       "      <th>PRES</th>\n",
       "      <th>cbwd</th>\n",
       "      <th>Iws</th>\n",
       "      <th>Is</th>\n",
       "      <th>Ir</th>\n",
       "    </tr>\n",
       "    <tr>\n",
       "      <th>year_month_day_hour</th>\n",
       "      <th></th>\n",
       "      <th></th>\n",
       "      <th></th>\n",
       "      <th></th>\n",
       "      <th></th>\n",
       "      <th></th>\n",
       "      <th></th>\n",
       "      <th></th>\n",
       "      <th></th>\n",
       "    </tr>\n",
       "  </thead>\n",
       "  <tbody>\n",
       "    <tr>\n",
       "      <th>2010-01-01 00:00:00</th>\n",
       "      <td>1</td>\n",
       "      <td>NaN</td>\n",
       "      <td>-21</td>\n",
       "      <td>-11.0</td>\n",
       "      <td>1021.0</td>\n",
       "      <td>NW</td>\n",
       "      <td>1.79</td>\n",
       "      <td>0</td>\n",
       "      <td>0</td>\n",
       "    </tr>\n",
       "    <tr>\n",
       "      <th>2010-01-01 01:00:00</th>\n",
       "      <td>2</td>\n",
       "      <td>NaN</td>\n",
       "      <td>-21</td>\n",
       "      <td>-12.0</td>\n",
       "      <td>1020.0</td>\n",
       "      <td>NW</td>\n",
       "      <td>4.92</td>\n",
       "      <td>0</td>\n",
       "      <td>0</td>\n",
       "    </tr>\n",
       "    <tr>\n",
       "      <th>2010-01-01 02:00:00</th>\n",
       "      <td>3</td>\n",
       "      <td>NaN</td>\n",
       "      <td>-21</td>\n",
       "      <td>-11.0</td>\n",
       "      <td>1019.0</td>\n",
       "      <td>NW</td>\n",
       "      <td>6.71</td>\n",
       "      <td>0</td>\n",
       "      <td>0</td>\n",
       "    </tr>\n",
       "    <tr>\n",
       "      <th>2010-01-01 03:00:00</th>\n",
       "      <td>4</td>\n",
       "      <td>NaN</td>\n",
       "      <td>-21</td>\n",
       "      <td>-14.0</td>\n",
       "      <td>1019.0</td>\n",
       "      <td>NW</td>\n",
       "      <td>9.84</td>\n",
       "      <td>0</td>\n",
       "      <td>0</td>\n",
       "    </tr>\n",
       "    <tr>\n",
       "      <th>2010-01-01 04:00:00</th>\n",
       "      <td>5</td>\n",
       "      <td>NaN</td>\n",
       "      <td>-20</td>\n",
       "      <td>-12.0</td>\n",
       "      <td>1018.0</td>\n",
       "      <td>NW</td>\n",
       "      <td>12.97</td>\n",
       "      <td>0</td>\n",
       "      <td>0</td>\n",
       "    </tr>\n",
       "  </tbody>\n",
       "</table>\n",
       "</div>"
      ],
      "text/plain": [
       "                     No  pm2.5  DEWP  TEMP    PRES cbwd    Iws  Is  Ir\n",
       "year_month_day_hour                                                   \n",
       "2010-01-01 00:00:00   1    NaN   -21 -11.0  1021.0   NW   1.79   0   0\n",
       "2010-01-01 01:00:00   2    NaN   -21 -12.0  1020.0   NW   4.92   0   0\n",
       "2010-01-01 02:00:00   3    NaN   -21 -11.0  1019.0   NW   6.71   0   0\n",
       "2010-01-01 03:00:00   4    NaN   -21 -14.0  1019.0   NW   9.84   0   0\n",
       "2010-01-01 04:00:00   5    NaN   -20 -12.0  1018.0   NW  12.97   0   0"
      ]
     },
     "execution_count": 86,
     "metadata": {},
     "output_type": "execute_result"
    }
   ],
   "source": [
    "from pandas import read_csv\n",
    "from datetime import datetime\n",
    "\n",
    "def parse(x):\n",
    "\treturn datetime.strptime(x, '%Y %m %d %H')\n",
    "\n",
    "dataset = read_csv('https://raw.githubusercontent.com/ywchiu/tibamedl/master/Data/pollution.csv',  parse_dates = [['year', 'month', 'day', 'hour']], index_col=0, date_parser=parse)\n",
    "dataset.head()"
   ]
  },
  {
   "cell_type": "markdown",
   "metadata": {},
   "source": [
    "### 資料預處理"
   ]
  },
  {
   "cell_type": "code",
   "execution_count": 87,
   "metadata": {},
   "outputs": [],
   "source": [
    "dataset.drop('No', axis=1, inplace=True)\n",
    "dataset.columns = ['pollution', 'dew', 'temp', 'press', 'wnd_dir', 'wnd_spd', 'snow', 'rain']\n",
    "dataset.index.name = 'date'\n",
    "dataset['pollution'].fillna(0, inplace=True)\n"
   ]
  },
  {
   "cell_type": "code",
   "execution_count": 89,
   "metadata": {},
   "outputs": [
    {
     "data": {
      "text/html": [
       "<div>\n",
       "<style scoped>\n",
       "    .dataframe tbody tr th:only-of-type {\n",
       "        vertical-align: middle;\n",
       "    }\n",
       "\n",
       "    .dataframe tbody tr th {\n",
       "        vertical-align: top;\n",
       "    }\n",
       "\n",
       "    .dataframe thead th {\n",
       "        text-align: right;\n",
       "    }\n",
       "</style>\n",
       "<table border=\"1\" class=\"dataframe\">\n",
       "  <thead>\n",
       "    <tr style=\"text-align: right;\">\n",
       "      <th></th>\n",
       "      <th>pollution</th>\n",
       "      <th>dew</th>\n",
       "      <th>temp</th>\n",
       "      <th>press</th>\n",
       "      <th>wnd_dir</th>\n",
       "      <th>wnd_spd</th>\n",
       "      <th>snow</th>\n",
       "      <th>rain</th>\n",
       "    </tr>\n",
       "    <tr>\n",
       "      <th>date</th>\n",
       "      <th></th>\n",
       "      <th></th>\n",
       "      <th></th>\n",
       "      <th></th>\n",
       "      <th></th>\n",
       "      <th></th>\n",
       "      <th></th>\n",
       "      <th></th>\n",
       "    </tr>\n",
       "  </thead>\n",
       "  <tbody>\n",
       "    <tr>\n",
       "      <th>2010-01-02 00:00:00</th>\n",
       "      <td>129.0</td>\n",
       "      <td>-16</td>\n",
       "      <td>-4.0</td>\n",
       "      <td>1020.0</td>\n",
       "      <td>SE</td>\n",
       "      <td>1.79</td>\n",
       "      <td>0</td>\n",
       "      <td>0</td>\n",
       "    </tr>\n",
       "    <tr>\n",
       "      <th>2010-01-02 01:00:00</th>\n",
       "      <td>148.0</td>\n",
       "      <td>-15</td>\n",
       "      <td>-4.0</td>\n",
       "      <td>1020.0</td>\n",
       "      <td>SE</td>\n",
       "      <td>2.68</td>\n",
       "      <td>0</td>\n",
       "      <td>0</td>\n",
       "    </tr>\n",
       "    <tr>\n",
       "      <th>2010-01-02 02:00:00</th>\n",
       "      <td>159.0</td>\n",
       "      <td>-11</td>\n",
       "      <td>-5.0</td>\n",
       "      <td>1021.0</td>\n",
       "      <td>SE</td>\n",
       "      <td>3.57</td>\n",
       "      <td>0</td>\n",
       "      <td>0</td>\n",
       "    </tr>\n",
       "    <tr>\n",
       "      <th>2010-01-02 03:00:00</th>\n",
       "      <td>181.0</td>\n",
       "      <td>-7</td>\n",
       "      <td>-5.0</td>\n",
       "      <td>1022.0</td>\n",
       "      <td>SE</td>\n",
       "      <td>5.36</td>\n",
       "      <td>1</td>\n",
       "      <td>0</td>\n",
       "    </tr>\n",
       "    <tr>\n",
       "      <th>2010-01-02 04:00:00</th>\n",
       "      <td>138.0</td>\n",
       "      <td>-7</td>\n",
       "      <td>-5.0</td>\n",
       "      <td>1022.0</td>\n",
       "      <td>SE</td>\n",
       "      <td>6.25</td>\n",
       "      <td>2</td>\n",
       "      <td>0</td>\n",
       "    </tr>\n",
       "  </tbody>\n",
       "</table>\n",
       "</div>"
      ],
      "text/plain": [
       "                     pollution  dew  temp   press wnd_dir  wnd_spd  snow  rain\n",
       "date                                                                          \n",
       "2010-01-02 00:00:00      129.0  -16  -4.0  1020.0      SE     1.79     0     0\n",
       "2010-01-02 01:00:00      148.0  -15  -4.0  1020.0      SE     2.68     0     0\n",
       "2010-01-02 02:00:00      159.0  -11  -5.0  1021.0      SE     3.57     0     0\n",
       "2010-01-02 03:00:00      181.0   -7  -5.0  1022.0      SE     5.36     1     0\n",
       "2010-01-02 04:00:00      138.0   -7  -5.0  1022.0      SE     6.25     2     0"
      ]
     },
     "execution_count": 89,
     "metadata": {},
     "output_type": "execute_result"
    }
   ],
   "source": [
    "dataset = dataset[24:]\n",
    "dataset.head()"
   ]
  },
  {
   "cell_type": "markdown",
   "metadata": {},
   "source": [
    "### 資料探索"
   ]
  },
  {
   "cell_type": "code",
   "execution_count": 90,
   "metadata": {},
   "outputs": [
    {
     "name": "stdout",
     "output_type": "stream",
     "text": [
      "Populating the interactive namespace from numpy and matplotlib\n"
     ]
    },
    {
     "name": "stderr",
     "output_type": "stream",
     "text": [
      "/Users/davidchiu/.pyenv/versions/3.6.2/lib/python3.6/site-packages/IPython/core/magics/pylab.py:160: UserWarning: pylab import has clobbered these variables: ['datetime']\n",
      "`%matplotlib` prevents importing * from pylab and numpy\n",
      "  \"\\n`%matplotlib` prevents importing * from pylab and numpy\"\n"
     ]
    },
    {
     "data": {
      "image/png": "[encoded data removed]",
      "text/plain": [
       "<Figure size 432x288 with 7 Axes>"
      ]
     },
     "metadata": {},
     "output_type": "display_data"
    }
   ],
   "source": [
    "%pylab inline\n",
    "from matplotlib import pyplot\n",
    "values = dataset.values\n",
    "\n",
    "groups = [0, 1, 2, 3, 5, 6, 7]\n",
    "i = 1\n",
    "pyplot.figure()\n",
    "for group in groups:\n",
    "\tpyplot.subplot(len(groups), 1, i)\n",
    "\tpyplot.plot(values[:, group])\n",
    "\tpyplot.title(dataset.columns[group], y=0.5, loc='right')\n",
    "\ti += 1\n",
    "pyplot.show()"
   ]
  },
  {
   "cell_type": "markdown",
   "metadata": {},
   "source": [
    "### 資料轉換"
   ]
  },
  {
   "cell_type": "code",
   "execution_count": 91,
   "metadata": {},
   "outputs": [],
   "source": [
    "import pandas\n",
    "def series_to_supervised(data, n_in=1, n_out=1, dropnan=True):\n",
    "\tn_vars = 1 if type(data) is list else data.shape[1]\n",
    "\tdf = pandas.DataFrame(data)\n",
    "\tcols, names = list(), list()\n",
    "\tfor i in range(n_in, 0, -1):\n",
    "\t\tcols.append(df.shift(i))\n",
    "\t\tnames += [('var%d(t-%d)' % (j+1, i)) for j in range(n_vars)]\n",
    "        \n",
    "\tfor i in range(0, n_out):\n",
    "\t\tcols.append(df.shift(-i))\n",
    "\t\tif i == 0:\n",
    "\t\t\tnames += [('var%d(t)' % (j+1)) for j in range(n_vars)]\n",
    "\t\telse:\n",
    "\t\t\tnames += [('var%d(t+%d)' % (j+1, i)) for j in range(n_vars)]\n",
    "\t# put it all together\n",
    "\tagg = pandas.concat(cols, axis=1)\n",
    "\tagg.columns = names\n",
    "    \n",
    "\t# drop rows with NaN values\n",
    "\tif dropnan:\n",
    "\t\tagg.dropna(inplace=True)\n",
    "\treturn agg"
   ]
  },
  {
   "cell_type": "markdown",
   "metadata": {},
   "source": [
    "### 資料編碼"
   ]
  },
  {
   "cell_type": "code",
   "execution_count": 92,
   "metadata": {},
   "outputs": [],
   "source": [
    "from sklearn.preprocessing import LabelEncoder\n",
    "\n",
    "encoder = LabelEncoder()\n",
    "values[:,4] = encoder.fit_transform(values[:,4])\n",
    "values = values.astype('float32')"
   ]
  },
  {
   "cell_type": "code",
   "execution_count": 94,
   "metadata": {},
   "outputs": [
    {
     "data": {
      "text/plain": [
       "array([[ 129.  ,  -16.  ,   -4.  , 1020.  ,    2.  ,    1.79,    0.  ,\n",
       "           0.  ],\n",
       "       [ 148.  ,  -15.  ,   -4.  , 1020.  ,    2.  ,    2.68,    0.  ,\n",
       "           0.  ],\n",
       "       [ 159.  ,  -11.  ,   -5.  , 1021.  ,    2.  ,    3.57,    0.  ,\n",
       "           0.  ]], dtype=float32)"
      ]
     },
     "execution_count": 94,
     "metadata": {},
     "output_type": "execute_result"
    }
   ],
   "source": [
    "values[0:3]"
   ]
  },
  {
   "cell_type": "markdown",
   "metadata": {},
   "source": [
    "### 正規化特徵"
   ]
  },
  {
   "cell_type": "code",
   "execution_count": 95,
   "metadata": {},
   "outputs": [],
   "source": [
    "# normalize features\n",
    "scaler = MinMaxScaler(feature_range=(0, 1))\n",
    "scaled = scaler.fit_transform(values)\n",
    "\n",
    "# frame as supervised learning\n",
    "reframed = series_to_supervised(scaled, 1, 1)"
   ]
  },
  {
   "cell_type": "code",
   "execution_count": 96,
   "metadata": {},
   "outputs": [
    {
     "data": {
      "text/html": [
       "<div>\n",
       "<style scoped>\n",
       "    .dataframe tbody tr th:only-of-type {\n",
       "        vertical-align: middle;\n",
       "    }\n",
       "\n",
       "    .dataframe tbody tr th {\n",
       "        vertical-align: top;\n",
       "    }\n",
       "\n",
       "    .dataframe thead th {\n",
       "        text-align: right;\n",
       "    }\n",
       "</style>\n",
       "<table border=\"1\" class=\"dataframe\">\n",
       "  <thead>\n",
       "    <tr style=\"text-align: right;\">\n",
       "      <th></th>\n",
       "      <th>var1(t-1)</th>\n",
       "      <th>var2(t-1)</th>\n",
       "      <th>var3(t-1)</th>\n",
       "      <th>var4(t-1)</th>\n",
       "      <th>var5(t-1)</th>\n",
       "      <th>var6(t-1)</th>\n",
       "      <th>var7(t-1)</th>\n",
       "      <th>var8(t-1)</th>\n",
       "      <th>var1(t)</th>\n",
       "      <th>var2(t)</th>\n",
       "      <th>var3(t)</th>\n",
       "      <th>var4(t)</th>\n",
       "      <th>var5(t)</th>\n",
       "      <th>var6(t)</th>\n",
       "      <th>var7(t)</th>\n",
       "      <th>var8(t)</th>\n",
       "    </tr>\n",
       "  </thead>\n",
       "  <tbody>\n",
       "    <tr>\n",
       "      <th>1</th>\n",
       "      <td>0.129779</td>\n",
       "      <td>0.352941</td>\n",
       "      <td>0.245902</td>\n",
       "      <td>0.527273</td>\n",
       "      <td>0.666667</td>\n",
       "      <td>0.002290</td>\n",
       "      <td>0.0</td>\n",
       "      <td>0.0</td>\n",
       "      <td>0.148893</td>\n",
       "      <td>0.367647</td>\n",
       "      <td>0.245902</td>\n",
       "      <td>0.527273</td>\n",
       "      <td>0.666667</td>\n",
       "      <td>0.003811</td>\n",
       "      <td>0.000000</td>\n",
       "      <td>0.0</td>\n",
       "    </tr>\n",
       "    <tr>\n",
       "      <th>2</th>\n",
       "      <td>0.148893</td>\n",
       "      <td>0.367647</td>\n",
       "      <td>0.245902</td>\n",
       "      <td>0.527273</td>\n",
       "      <td>0.666667</td>\n",
       "      <td>0.003811</td>\n",
       "      <td>0.0</td>\n",
       "      <td>0.0</td>\n",
       "      <td>0.159960</td>\n",
       "      <td>0.426471</td>\n",
       "      <td>0.229508</td>\n",
       "      <td>0.545454</td>\n",
       "      <td>0.666667</td>\n",
       "      <td>0.005332</td>\n",
       "      <td>0.000000</td>\n",
       "      <td>0.0</td>\n",
       "    </tr>\n",
       "    <tr>\n",
       "      <th>3</th>\n",
       "      <td>0.159960</td>\n",
       "      <td>0.426471</td>\n",
       "      <td>0.229508</td>\n",
       "      <td>0.545454</td>\n",
       "      <td>0.666667</td>\n",
       "      <td>0.005332</td>\n",
       "      <td>0.0</td>\n",
       "      <td>0.0</td>\n",
       "      <td>0.182093</td>\n",
       "      <td>0.485294</td>\n",
       "      <td>0.229508</td>\n",
       "      <td>0.563637</td>\n",
       "      <td>0.666667</td>\n",
       "      <td>0.008391</td>\n",
       "      <td>0.037037</td>\n",
       "      <td>0.0</td>\n",
       "    </tr>\n",
       "  </tbody>\n",
       "</table>\n",
       "</div>"
      ],
      "text/plain": [
       "   var1(t-1)  var2(t-1)  var3(t-1)  var4(t-1)  var5(t-1)  var6(t-1)  \\\n",
       "1   0.129779   0.352941   0.245902   0.527273   0.666667   0.002290   \n",
       "2   0.148893   0.367647   0.245902   0.527273   0.666667   0.003811   \n",
       "3   0.159960   0.426471   0.229508   0.545454   0.666667   0.005332   \n",
       "\n",
       "   var7(t-1)  var8(t-1)   var1(t)   var2(t)   var3(t)   var4(t)   var5(t)  \\\n",
       "1        0.0        0.0  0.148893  0.367647  0.245902  0.527273  0.666667   \n",
       "2        0.0        0.0  0.159960  0.426471  0.229508  0.545454  0.666667   \n",
       "3        0.0        0.0  0.182093  0.485294  0.229508  0.563637  0.666667   \n",
       "\n",
       "    var6(t)   var7(t)  var8(t)  \n",
       "1  0.003811  0.000000      0.0  \n",
       "2  0.005332  0.000000      0.0  \n",
       "3  0.008391  0.037037      0.0  "
      ]
     },
     "execution_count": 96,
     "metadata": {},
     "output_type": "execute_result"
    }
   ],
   "source": [
    "reframed.head(3)"
   ]
  },
  {
   "cell_type": "markdown",
   "metadata": {},
   "source": [
    "### 捨棄欄位"
   ]
  },
  {
   "cell_type": "code",
   "execution_count": 97,
   "metadata": {},
   "outputs": [
    {
     "data": {
      "text/html": [
       "<div>\n",
       "<style scoped>\n",
       "    .dataframe tbody tr th:only-of-type {\n",
       "        vertical-align: middle;\n",
       "    }\n",
       "\n",
       "    .dataframe tbody tr th {\n",
       "        vertical-align: top;\n",
       "    }\n",
       "\n",
       "    .dataframe thead th {\n",
       "        text-align: right;\n",
       "    }\n",
       "</style>\n",
       "<table border=\"1\" class=\"dataframe\">\n",
       "  <thead>\n",
       "    <tr style=\"text-align: right;\">\n",
       "      <th></th>\n",
       "      <th>var1(t-1)</th>\n",
       "      <th>var2(t-1)</th>\n",
       "      <th>var3(t-1)</th>\n",
       "      <th>var4(t-1)</th>\n",
       "      <th>var5(t-1)</th>\n",
       "      <th>var6(t-1)</th>\n",
       "      <th>var7(t-1)</th>\n",
       "      <th>var8(t-1)</th>\n",
       "      <th>var1(t)</th>\n",
       "    </tr>\n",
       "  </thead>\n",
       "  <tbody>\n",
       "    <tr>\n",
       "      <th>1</th>\n",
       "      <td>0.129779</td>\n",
       "      <td>0.352941</td>\n",
       "      <td>0.245902</td>\n",
       "      <td>0.527273</td>\n",
       "      <td>0.666667</td>\n",
       "      <td>0.002290</td>\n",
       "      <td>0.000000</td>\n",
       "      <td>0.0</td>\n",
       "      <td>0.148893</td>\n",
       "    </tr>\n",
       "    <tr>\n",
       "      <th>2</th>\n",
       "      <td>0.148893</td>\n",
       "      <td>0.367647</td>\n",
       "      <td>0.245902</td>\n",
       "      <td>0.527273</td>\n",
       "      <td>0.666667</td>\n",
       "      <td>0.003811</td>\n",
       "      <td>0.000000</td>\n",
       "      <td>0.0</td>\n",
       "      <td>0.159960</td>\n",
       "    </tr>\n",
       "    <tr>\n",
       "      <th>3</th>\n",
       "      <td>0.159960</td>\n",
       "      <td>0.426471</td>\n",
       "      <td>0.229508</td>\n",
       "      <td>0.545454</td>\n",
       "      <td>0.666667</td>\n",
       "      <td>0.005332</td>\n",
       "      <td>0.000000</td>\n",
       "      <td>0.0</td>\n",
       "      <td>0.182093</td>\n",
       "    </tr>\n",
       "    <tr>\n",
       "      <th>4</th>\n",
       "      <td>0.182093</td>\n",
       "      <td>0.485294</td>\n",
       "      <td>0.229508</td>\n",
       "      <td>0.563637</td>\n",
       "      <td>0.666667</td>\n",
       "      <td>0.008391</td>\n",
       "      <td>0.037037</td>\n",
       "      <td>0.0</td>\n",
       "      <td>0.138833</td>\n",
       "    </tr>\n",
       "    <tr>\n",
       "      <th>5</th>\n",
       "      <td>0.138833</td>\n",
       "      <td>0.485294</td>\n",
       "      <td>0.229508</td>\n",
       "      <td>0.563637</td>\n",
       "      <td>0.666667</td>\n",
       "      <td>0.009912</td>\n",
       "      <td>0.074074</td>\n",
       "      <td>0.0</td>\n",
       "      <td>0.109658</td>\n",
       "    </tr>\n",
       "  </tbody>\n",
       "</table>\n",
       "</div>"
      ],
      "text/plain": [
       "   var1(t-1)  var2(t-1)  var3(t-1)  var4(t-1)  var5(t-1)  var6(t-1)  \\\n",
       "1   0.129779   0.352941   0.245902   0.527273   0.666667   0.002290   \n",
       "2   0.148893   0.367647   0.245902   0.527273   0.666667   0.003811   \n",
       "3   0.159960   0.426471   0.229508   0.545454   0.666667   0.005332   \n",
       "4   0.182093   0.485294   0.229508   0.563637   0.666667   0.008391   \n",
       "5   0.138833   0.485294   0.229508   0.563637   0.666667   0.009912   \n",
       "\n",
       "   var7(t-1)  var8(t-1)   var1(t)  \n",
       "1   0.000000        0.0  0.148893  \n",
       "2   0.000000        0.0  0.159960  \n",
       "3   0.000000        0.0  0.182093  \n",
       "4   0.037037        0.0  0.138833  \n",
       "5   0.074074        0.0  0.109658  "
      ]
     },
     "execution_count": 97,
     "metadata": {},
     "output_type": "execute_result"
    }
   ],
   "source": [
    "reframed.drop(reframed.columns[[9,10,11,12,13,14,15]], axis=1, inplace=True)\n",
    "reframed.head()"
   ]
  },
  {
   "cell_type": "markdown",
   "metadata": {},
   "source": [
    "### 分為訓練與測試資料集"
   ]
  },
  {
   "cell_type": "code",
   "execution_count": 98,
   "metadata": {},
   "outputs": [
    {
     "data": {
      "text/plain": [
       "((8760, 1, 8), (8760,), (35039, 1, 8), (35039,))"
      ]
     },
     "execution_count": 98,
     "metadata": {},
     "output_type": "execute_result"
    }
   ],
   "source": [
    "values = reframed.values\n",
    "n_train_hours = 365 * 24\n",
    "train = values[:n_train_hours, :]\n",
    "test = values[n_train_hours:, :]\n",
    "train_X, train_y = train[:, :-1], train[:, -1]\n",
    "test_X, test_y = test[:, :-1], test[:, -1]\n",
    "train_X = train_X.reshape((train_X.shape[0], 1, train_X.shape[1]))\n",
    "test_X = test_X.reshape((test_X.shape[0], 1, test_X.shape[1]))\n",
    "train_X.shape, train_y.shape, test_X.shape, test_y.shape"
   ]
  },
  {
   "cell_type": "markdown",
   "metadata": {},
   "source": [
    "### 建立模型"
   ]
  },
  {
   "cell_type": "code",
   "execution_count": 99,
   "metadata": {},
   "outputs": [],
   "source": [
    "import keras\n",
    "from keras import layers\n",
    "\n",
    "\n",
    "model = keras.models.Sequential()\n",
    "model.add(layers.LSTM(50, input_shape=(train_X.shape[1], train_X.shape[2])))\n",
    "model.add(layers.Dense(1))\n",
    "model.compile(loss='mae', optimizer='adam')"
   ]
  },
  {
   "cell_type": "markdown",
   "metadata": {},
   "source": [
    "### 訓練模型"
   ]
  },
  {
   "cell_type": "code",
   "execution_count": 100,
   "metadata": {},
   "outputs": [
    {
     "name": "stdout",
     "output_type": "stream",
     "text": [
      "Train on 8760 samples, validate on 35039 samples\n",
      "Epoch 1/50\n",
      " - 1s - loss: 0.0583 - val_loss: 0.0577\n",
      "Epoch 2/50\n",
      " - 1s - loss: 0.0392 - val_loss: 0.0588\n",
      "Epoch 3/50\n",
      " - 1s - loss: 0.0231 - val_loss: 0.0432\n",
      "Epoch 4/50\n",
      " - 1s - loss: 0.0170 - val_loss: 0.0342\n",
      "Epoch 5/50\n",
      " - 1s - loss: 0.0153 - val_loss: 0.0202\n",
      "Epoch 6/50\n",
      " - 1s - loss: 0.0148 - val_loss: 0.0157\n",
      "Epoch 7/50\n",
      " - 1s - loss: 0.0148 - val_loss: 0.0147\n",
      "Epoch 8/50\n",
      " - 1s - loss: 0.0147 - val_loss: 0.0149\n",
      "Epoch 9/50\n",
      " - 1s - loss: 0.0148 - val_loss: 0.0142\n",
      "Epoch 10/50\n",
      " - 1s - loss: 0.0146 - val_loss: 0.0142\n",
      "Epoch 11/50\n",
      " - 1s - loss: 0.0147 - val_loss: 0.0143\n",
      "Epoch 12/50\n",
      " - 1s - loss: 0.0147 - val_loss: 0.0137\n",
      "Epoch 13/50\n",
      " - 1s - loss: 0.0146 - val_loss: 0.0137\n",
      "Epoch 14/50\n",
      " - 1s - loss: 0.0147 - val_loss: 0.0135\n",
      "Epoch 15/50\n",
      " - 1s - loss: 0.0145 - val_loss: 0.0135\n",
      "Epoch 16/50\n",
      " - 1s - loss: 0.0146 - val_loss: 0.0134\n",
      "Epoch 17/50\n",
      " - 1s - loss: 0.0145 - val_loss: 0.0135\n",
      "Epoch 18/50\n",
      " - 1s - loss: 0.0145 - val_loss: 0.0134\n",
      "Epoch 19/50\n",
      " - 1s - loss: 0.0145 - val_loss: 0.0134\n",
      "Epoch 20/50\n",
      " - 1s - loss: 0.0145 - val_loss: 0.0134\n",
      "Epoch 21/50\n",
      " - 1s - loss: 0.0145 - val_loss: 0.0134\n",
      "Epoch 22/50\n",
      " - 1s - loss: 0.0145 - val_loss: 0.0135\n",
      "Epoch 23/50\n",
      " - 1s - loss: 0.0148 - val_loss: 0.0133\n",
      "Epoch 24/50\n",
      " - 1s - loss: 0.0145 - val_loss: 0.0136\n",
      "Epoch 25/50\n",
      " - 1s - loss: 0.0146 - val_loss: 0.0133\n",
      "Epoch 26/50\n",
      " - 1s - loss: 0.0145 - val_loss: 0.0134\n",
      "Epoch 27/50\n",
      " - 1s - loss: 0.0144 - val_loss: 0.0133\n",
      "Epoch 28/50\n",
      " - 1s - loss: 0.0144 - val_loss: 0.0134\n",
      "Epoch 29/50\n",
      " - 1s - loss: 0.0144 - val_loss: 0.0134\n",
      "Epoch 30/50\n",
      " - 1s - loss: 0.0145 - val_loss: 0.0134\n",
      "Epoch 31/50\n",
      " - 1s - loss: 0.0145 - val_loss: 0.0134\n",
      "Epoch 32/50\n",
      " - 1s - loss: 0.0144 - val_loss: 0.0133\n",
      "Epoch 33/50\n",
      " - 1s - loss: 0.0144 - val_loss: 0.0135\n",
      "Epoch 34/50\n",
      " - 1s - loss: 0.0145 - val_loss: 0.0134\n",
      "Epoch 35/50\n",
      " - 1s - loss: 0.0144 - val_loss: 0.0134\n",
      "Epoch 36/50\n",
      " - 1s - loss: 0.0144 - val_loss: 0.0133\n",
      "Epoch 37/50\n",
      " - 1s - loss: 0.0144 - val_loss: 0.0134\n",
      "Epoch 38/50\n",
      " - 1s - loss: 0.0144 - val_loss: 0.0134\n",
      "Epoch 39/50\n",
      " - 1s - loss: 0.0144 - val_loss: 0.0134\n",
      "Epoch 40/50\n",
      " - 1s - loss: 0.0144 - val_loss: 0.0133\n",
      "Epoch 41/50\n",
      " - 1s - loss: 0.0144 - val_loss: 0.0133\n",
      "Epoch 42/50\n",
      " - 1s - loss: 0.0144 - val_loss: 0.0133\n",
      "Epoch 43/50\n",
      " - 1s - loss: 0.0143 - val_loss: 0.0133\n",
      "Epoch 44/50\n",
      " - 1s - loss: 0.0144 - val_loss: 0.0133\n",
      "Epoch 45/50\n",
      " - 1s - loss: 0.0143 - val_loss: 0.0133\n",
      "Epoch 46/50\n",
      " - 1s - loss: 0.0144 - val_loss: 0.0133\n",
      "Epoch 47/50\n",
      " - 1s - loss: 0.0143 - val_loss: 0.0133\n",
      "Epoch 48/50\n",
      " - 1s - loss: 0.0144 - val_loss: 0.0133\n",
      "Epoch 49/50\n",
      " - 1s - loss: 0.0143 - val_loss: 0.0133\n",
      "Epoch 50/50\n",
      " - 1s - loss: 0.0143 - val_loss: 0.0133\n"
     ]
    }
   ],
   "source": [
    "history = model.fit(train_X, train_y, epochs=50, batch_size=72, validation_data=(test_X, test_y), verbose=2, shuffle=False)\n"
   ]
  },
  {
   "cell_type": "markdown",
   "metadata": {},
   "source": [
    "### 繪製損失圖"
   ]
  },
  {
   "cell_type": "code",
   "execution_count": 101,
   "metadata": {},
   "outputs": [
    {
     "data": {
      "image/png": "[encoded data removed]",
      "text/plain": [
       "<Figure size 432x288 with 1 Axes>"
      ]
     },
     "metadata": {},
     "output_type": "display_data"
    }
   ],
   "source": [
    "# plot history\n",
    "pyplot.plot(history.history['loss'], label='train')\n",
    "pyplot.plot(history.history['val_loss'], label='test')\n",
    "pyplot.legend()\n",
    "pyplot.show()"
   ]
  },
  {
   "cell_type": "markdown",
   "metadata": {},
   "source": [
    "### 產生預測"
   ]
  },
  {
   "cell_type": "code",
   "execution_count": 102,
   "metadata": {},
   "outputs": [],
   "source": [
    "# make a prediction\n",
    "yhat = model.predict(test_X)\n",
    "test_X = test_X.reshape((test_X.shape[0], test_X.shape[2]))\n"
   ]
  },
  {
   "cell_type": "markdown",
   "metadata": {},
   "source": [
    "### 反正規化資料"
   ]
  },
  {
   "cell_type": "code",
   "execution_count": 103,
   "metadata": {},
   "outputs": [],
   "source": [
    "# invert scaling for forecast\n",
    "inv_yhat = concatenate((yhat, test_X[:, 1:]), axis=1)\n",
    "inv_yhat = scaler.inverse_transform(inv_yhat)\n",
    "inv_yhat = inv_yhat[:,0]\n",
    "\n",
    "# invert scaling for actual\n",
    "test_y = test_y.reshape((len(test_y), 1))\n",
    "inv_y = concatenate((test_y, test_X[:, 1:]), axis=1)\n",
    "inv_y = scaler.inverse_transform(inv_y)\n",
    "inv_y = inv_y[:,0]"
   ]
  },
  {
   "cell_type": "code",
   "execution_count": 111,
   "metadata": {},
   "outputs": [
    {
     "data": {
      "text/plain": [
       "array([34.782887 , 31.13924  , 20.50057  , ...,  8.275563 ,  8.244777 ,\n",
       "        6.4732194], dtype=float32)"
      ]
     },
     "execution_count": 111,
     "metadata": {},
     "output_type": "execute_result"
    }
   ],
   "source": [
    "inv_yhat"
   ]
  },
  {
   "cell_type": "code",
   "execution_count": 112,
   "metadata": {},
   "outputs": [
    {
     "data": {
      "text/plain": [
       "array([31., 20., 19., ..., 10.,  8., 12.], dtype=float32)"
      ]
     },
     "execution_count": 112,
     "metadata": {},
     "output_type": "execute_result"
    }
   ],
   "source": [
    "inv_y"
   ]
  },
  {
   "cell_type": "code",
   "execution_count": 113,
   "metadata": {},
   "outputs": [
    {
     "data": {
      "image/png": "[encoded data removed]",
      "text/plain": [
       "<Figure size 432x288 with 1 Axes>"
      ]
     },
     "metadata": {},
     "output_type": "display_data"
    }
   ],
   "source": [
    "import matplotlib.pyplot as plt\n",
    "plt.plot(inv_y, color = 'red', label = 'Real Pollution')\n",
    "plt.plot(inv_yhat, color = 'blue', label = 'Predicted Pollution')\n",
    "plt.title('Pollution Prediction')\n",
    "plt.xlabel('Time')\n",
    "plt.ylabel('Pollution')\n",
    "plt.legend()\n",
    "plt.show()"
   ]
  },
  {
   "cell_type": "code",
   "execution_count": 114,
   "metadata": {},
   "outputs": [
    {
     "data": {
      "image/png": "[encoded data removed]",
      "text/plain": [
       "<Figure size 432x288 with 1 Axes>"
      ]
     },
     "metadata": {},
     "output_type": "display_data"
    }
   ],
   "source": [
    "import matplotlib.pyplot as plt\n",
    "plt.plot(inv_y, color = 'red', label = 'Real Pollution')\n",
    "#plt.plot(inv_yhat, color = 'blue', label = 'Predicted Pollution')\n",
    "plt.title('Pollution Prediction')\n",
    "plt.xlabel('Time')\n",
    "plt.ylabel('Pollution')\n",
    "plt.legend()\n",
    "plt.show()"
   ]
  },
  {
   "cell_type": "code",
   "execution_count": 115,
   "metadata": {},
   "outputs": [
    {
     "data": {
      "image/png": "[encoded data removed]",
      "text/plain": [
       "<Figure size 432x288 with 1 Axes>"
      ]
     },
     "metadata": {},
     "output_type": "display_data"
    }
   ],
   "source": [
    "import matplotlib.pyplot as plt\n",
    "#plt.plot(inv_y, color = 'red', label = 'Real Pollution')\n",
    "plt.plot(inv_yhat, color = 'blue', label = 'Predicted Pollution')\n",
    "plt.title('Pollution Prediction')\n",
    "plt.xlabel('Time')\n",
    "plt.ylabel('Pollution')\n",
    "plt.legend()\n",
    "plt.show()"
   ]
  },
  {
   "cell_type": "markdown",
   "metadata": {},
   "source": [
    "## 使用RNN 生成文字"
   ]
  },
  {
   "cell_type": "code",
   "execution_count": 116,
   "metadata": {},
   "outputs": [
    {
     "name": "stdout",
     "output_type": "stream",
     "text": [
      "Requirement already satisfied: h5py in /Users/davidchiu/.pyenv/versions/3.6.2/lib/python3.6/site-packages\n",
      "Requirement already satisfied: six in /Users/davidchiu/.pyenv/versions/3.6.2/lib/python3.6/site-packages (from h5py)\n",
      "Requirement already satisfied: numpy>=1.7 in /Users/davidchiu/.pyenv/versions/3.6.2/lib/python3.6/site-packages (from h5py)\n",
      "\u001b[33mYou are using pip version 9.0.1, however version 19.0.3 is available.\n",
      "You should consider upgrading via the 'pip install --upgrade pip' command.\u001b[0m\n"
     ]
    }
   ],
   "source": [
    "! pip install h5py"
   ]
  },
  {
   "cell_type": "code",
   "execution_count": 117,
   "metadata": {},
   "outputs": [],
   "source": [
    "import keras\n",
    "from keras import layers\n",
    "import sys\n",
    "import numpy as np\n",
    "\n",
    "text= 'this text file can be any text, as long as it contains text longer than maxlen defined below'\n",
    "\n",
    "chars=['\\n', ' ', '!', '\"', '#', '$', '%', '&', \"'\", '(', ')', '*', ',', '-', '.', '/', '0', '1', '2', '3', '4', '5', '6', '7', '8', '9', ':', ';', '<', '=', '>', '?', '@', 'A', 'B', 'C', 'D', 'E', 'F', 'G', 'H', 'I', 'J', 'K', 'L', 'M', 'N', 'O', 'P', 'Q', 'R', 'S', 'T', 'U', 'V', 'W', 'X', 'Y', 'Z', '[', '\\\\', ']', '^', '_', '`', 'a', 'b', 'c', 'd', 'e', 'f', 'g', 'h', 'i', 'j', 'k', 'l', 'm', 'n', 'o', 'p', 'q', 'r', 's', 't', 'u', 'v', 'w', 'x', 'y', 'z', '{', '|', '}', '~']\n",
    "\n",
    "# Dictionary mapping unique characters to their index in `chars`\n",
    "char_indices = dict((char, chars.index(char)) for char in chars)\n",
    "maxlen=60\n",
    "step=1\n",
    "\n",
    "model = keras.models.Sequential()\n",
    "model.add(layers.LSTM(1024, input_shape=(maxlen, len(chars)),return_sequences=True))\n",
    "model.add(layers.LSTM(1024, input_shape=(maxlen, len(chars))))\n",
    "model.add(layers.Dense(len(chars), activation='softmax'))\n",
    "model.load_weights(\"/Users/davidchiu/course/ctbcpy/data/pre-trained.hdf5\")\n",
    "\n",
    "optimizer = keras.optimizers.Adam(lr=0.0002)\n",
    "model.compile(loss='categorical_crossentropy', optimizer=optimizer)"
   ]
  },
  {
   "cell_type": "code",
   "execution_count": 118,
   "metadata": {},
   "outputs": [],
   "source": [
    "\n",
    "def sample(preds, temperature=1.0):\n",
    "    preds = np.asarray(preds).astype('float64')\n",
    "    preds = np.log(preds) / temperature\n",
    "    exp_preds = np.exp(preds)\n",
    "    preds = exp_preds / np.sum(exp_preds)\n",
    "    probas = np.random.multinomial(1, preds, 1)\n",
    "    return np.argmax(probas)\n",
    "\n",
    "def random_reviews():\n",
    "    # sample a start index\n",
    "    start_index = np.random.randint(0, len(text) - maxlen - 1)\n",
    "    # the initial sampled text with maxlen long\n",
    "    generated_text = text[start_index: start_index + maxlen]\n",
    "    print('Coming up with several reviews for you...')\n",
    "\n",
    "    for temperature in [0.8]:\n",
    "        sys.stdout.write(generated_text)\n",
    "\n",
    "        # We generate 600 characters\n",
    "        for i in range(600):\n",
    "            sampled = np.zeros((1, maxlen, len(chars)))\n",
    "            # Turn each char to char index.\n",
    "            for t, char in enumerate(generated_text):\n",
    "                sampled[0, t, char_indices[char]] = 1.\n",
    "            # Predict next char probabilities\n",
    "            preds = model.predict(sampled, verbose=0)[0]\n",
    "            # Add some randomness by sampling given probabilities.\n",
    "            next_index = sample(preds, temperature)\n",
    "            # Turn char index to char.\n",
    "            next_char = chars[next_index]\n",
    "            # Append char to generated text string\n",
    "            generated_text += next_char\n",
    "            # Pop the first char in generated text string.\n",
    "            generated_text = generated_text[1:]\n",
    "            # Print the new generated char.\n",
    "            sys.stdout.write(next_char)\n",
    "            sys.stdout.flush()\n",
    "        print(generated_text)"
   ]
  },
  {
   "cell_type": "code",
   "execution_count": 120,
   "metadata": {},
   "outputs": [
    {
     "name": "stdout",
     "output_type": "stream",
     "text": [
      "Coming up with several reviews for you...\n",
      "text file can be any text, as long as it contains text longer gave us quick s"
     ]
    },
    {
     "name": "stderr",
     "output_type": "stream",
     "text": [
      "/Users/davidchiu/.pyenv/versions/3.6.2/lib/python3.6/site-packages/ipykernel_launcher.py:4: RuntimeWarning: divide by zero encountered in log\n",
      "  after removing the cwd from sys.path.\n"
     ]
    },
    {
     "name": "stdout",
     "output_type": "stream",
     "text": [
      "ervice. . The lemonade is good. The jerk chicken is the only way to go. Very friendly staff.<EOR>\"\n",
      "\"<SOR>The veggie soup did not disappoint.  Don't pass this place on the clubs after the first day of travel to north Rainbow and were taken care of and we were able to find my Dim lightly memorable morning breakfast on here I HAVE try anything with the sweet & savory. Much better than First Watch.<EOR>\"\n",
      "\"<SOR>The food is amazing, depending on you to choose from and it's legit! The pan roast is a must try as well. Love this place.<EOR>\"\n",
      "\"<SOR>So where we have only Los Angelo's secis place.<EOR>\"\n",
      "\"<SOR>So where we have only Los Angelo's sec\n"
     ]
    }
   ],
   "source": [
    "random_reviews()"
   ]
  },
  {
   "cell_type": "markdown",
   "metadata": {},
   "source": [
    "## 使用GAN 生成 MNIST"
   ]
  },
  {
   "cell_type": "code",
   "execution_count": 122,
   "metadata": {},
   "outputs": [],
   "source": [
    "from keras.datasets import mnist\n",
    "from keras.layers import Input, Dense, Reshape, Flatten, Dropout\n",
    "from keras.layers import BatchNormalization, Activation, ZeroPadding2D\n",
    "from keras.layers.advanced_activations import LeakyReLU\n",
    "from keras.layers.convolutional import UpSampling2D, Conv2D\n",
    "from keras.models import Sequential, Model\n",
    "from keras.optimizers import Adam\n",
    "\n",
    "import matplotlib.pyplot as plt\n",
    "\n",
    "import sys\n",
    "\n",
    "import numpy as np\n",
    "\n",
    "def build_generator():\n",
    "\n",
    "    model = Sequential()\n",
    "\n",
    "    model.add(Dense(256, input_dim=latent_dim))\n",
    "    model.add(LeakyReLU(alpha=0.2))\n",
    "    model.add(BatchNormalization(momentum=0.8))\n",
    "    model.add(Dense(512))\n",
    "    model.add(LeakyReLU(alpha=0.2))\n",
    "    model.add(BatchNormalization(momentum=0.8))\n",
    "    model.add(Dense(1024))\n",
    "    model.add(LeakyReLU(alpha=0.2))\n",
    "    model.add(BatchNormalization(momentum=0.8))\n",
    "    model.add(Dense(np.prod(img_shape), activation='tanh'))\n",
    "    model.add(Reshape(img_shape))\n",
    "\n",
    "    model.summary()\n",
    "\n",
    "    noise = Input(shape=(latent_dim,))\n",
    "    img = model(noise)\n",
    "\n",
    "    return Model(noise, img)\n",
    "\n",
    "def build_discriminator():\n",
    "\n",
    "    model = Sequential()\n",
    "\n",
    "    model.add(Flatten(input_shape=img_shape))\n",
    "    model.add(Dense(512))\n",
    "    model.add(LeakyReLU(alpha=0.2))\n",
    "    model.add(Dense(256))\n",
    "    model.add(LeakyReLU(alpha=0.2))\n",
    "    model.add(Dense(1, activation='sigmoid'))\n",
    "    model.summary()\n",
    "\n",
    "    img = Input(shape=img_shape)\n",
    "    validity = model(img)\n",
    "\n",
    "    return Model(img, validity)\n",
    "\n",
    "def train(epochs, batch_size=128, sample_interval=50):\n",
    "\n",
    "    # Load the dataset\n",
    "    (X_train, _), (_, _) = mnist.load_data()\n",
    "\n",
    "    # Rescale -1 to 1\n",
    "    X_train = X_train / 127.5 - 1.\n",
    "    X_train = np.expand_dims(X_train, axis=3)\n",
    "\n",
    "    # Adversarial ground truths\n",
    "    valid = np.ones((batch_size, 1))\n",
    "    fake = np.zeros((batch_size, 1))\n",
    "\n",
    "    for epoch in range(epochs):\n",
    "\n",
    "        # ---------------------\n",
    "        #  Train Discriminator\n",
    "        # ---------------------\n",
    "\n",
    "        # Select a random batch of images\n",
    "        idx = np.random.randint(0, X_train.shape[0], batch_size)\n",
    "        imgs = X_train[idx]\n",
    "\n",
    "        noise = np.random.normal(0, 1, (batch_size, latent_dim))\n",
    "\n",
    "        # Generate a batch of new images\n",
    "        gen_imgs = generator.predict(noise)\n",
    "\n",
    "        # Train the discriminator\n",
    "        d_loss_real = discriminator.train_on_batch(imgs, valid)\n",
    "        d_loss_fake = discriminator.train_on_batch(gen_imgs, fake)\n",
    "        d_loss = 0.5 * np.add(d_loss_real, d_loss_fake)\n",
    "\n",
    "        # ---------------------\n",
    "        #  Train Generator\n",
    "        # ---------------------\n",
    "\n",
    "        noise = np.random.normal(0, 1, (batch_size, latent_dim))\n",
    "\n",
    "        # Train the generator (to have the discriminator label samples as valid)\n",
    "        g_loss = combined.train_on_batch(noise, valid)\n",
    "\n",
    "        # Plot the progress\n",
    "        print (\"%d [D loss: %f, acc.: %.2f%%] [G loss: %f]\" % (epoch, d_loss[0], 100*d_loss[1], g_loss))\n",
    "\n",
    "        # If at save interval => save generated image samples\n",
    "        if epoch % sample_interval == 0:\n",
    "            sample_images(epoch)\n",
    "\n",
    "def sample_images(epoch):\n",
    "    r, c = 5, 5\n",
    "    noise = np.random.normal(0, 1, (r * c, latent_dim))\n",
    "    gen_imgs = generator.predict(noise)\n",
    "\n",
    "    # Rescale images 0 - 1\n",
    "    gen_imgs = 0.5 * gen_imgs + 0.5\n",
    "\n",
    "    fig, axs = plt.subplots(r, c)\n",
    "    cnt = 0\n",
    "    for i in range(r):\n",
    "        for j in range(c):\n",
    "            axs[i,j].imshow(gen_imgs[cnt, :,:,0], cmap='gray')\n",
    "            axs[i,j].axis('off')\n",
    "            cnt += 1\n",
    "    fig.savefig(\"images/%d.png\" % epoch)\n",
    "    plt.close()"
   ]
  },
  {
   "cell_type": "code",
   "execution_count": 123,
   "metadata": {},
   "outputs": [
    {
     "name": "stdout",
     "output_type": "stream",
     "text": [
      "WARNING:tensorflow:From /Users/davidchiu/.pyenv/versions/3.6.2/lib/python3.6/site-packages/keras/backend/tensorflow_backend.py:1264: calling reduce_prod (from tensorflow.python.ops.math_ops) with keep_dims is deprecated and will be removed in a future version.\n",
      "Instructions for updating:\n",
      "keep_dims is deprecated, use keepdims instead\n",
      "_________________________________________________________________\n",
      "Layer (type)                 Output Shape              Param #   \n",
      "=================================================================\n",
      "flatten_1 (Flatten)          (None, 784)               0         \n",
      "_________________________________________________________________\n",
      "dense_4 (Dense)              (None, 512)               401920    \n",
      "_________________________________________________________________\n",
      "leaky_re_lu_1 (LeakyReLU)    (None, 512)               0         \n",
      "_________________________________________________________________\n",
      "dense_5 (Dense)              (None, 256)               131328    \n",
      "_________________________________________________________________\n",
      "leaky_re_lu_2 (LeakyReLU)    (None, 256)               0         \n",
      "_________________________________________________________________\n",
      "dense_6 (Dense)              (None, 1)                 257       \n",
      "=================================================================\n",
      "Total params: 533,505\n",
      "Trainable params: 533,505\n",
      "Non-trainable params: 0\n",
      "_________________________________________________________________\n",
      "_________________________________________________________________\n",
      "Layer (type)                 Output Shape              Param #   \n",
      "=================================================================\n",
      "dense_7 (Dense)              (None, 256)               25856     \n",
      "_________________________________________________________________\n",
      "leaky_re_lu_3 (LeakyReLU)    (None, 256)               0         \n",
      "_________________________________________________________________\n",
      "batch_normalization_1 (Batch (None, 256)               1024      \n",
      "_________________________________________________________________\n",
      "dense_8 (Dense)              (None, 512)               131584    \n",
      "_________________________________________________________________\n",
      "leaky_re_lu_4 (LeakyReLU)    (None, 512)               0         \n",
      "_________________________________________________________________\n",
      "batch_normalization_2 (Batch (None, 512)               2048      \n",
      "_________________________________________________________________\n",
      "dense_9 (Dense)              (None, 1024)              525312    \n",
      "_________________________________________________________________\n",
      "leaky_re_lu_5 (LeakyReLU)    (None, 1024)              0         \n",
      "_________________________________________________________________\n",
      "batch_normalization_3 (Batch (None, 1024)              4096      \n",
      "_________________________________________________________________\n",
      "dense_10 (Dense)             (None, 784)               803600    \n",
      "_________________________________________________________________\n",
      "reshape_1 (Reshape)          (None, 28, 28, 1)         0         \n",
      "=================================================================\n",
      "Total params: 1,493,520\n",
      "Trainable params: 1,489,936\n",
      "Non-trainable params: 3,584\n",
      "_________________________________________________________________\n"
     ]
    }
   ],
   "source": [
    "img_rows = 28\n",
    "img_cols = 28\n",
    "channels = 1\n",
    "img_shape = (img_rows, img_cols, channels)\n",
    "latent_dim = 100\n",
    "\n",
    "optimizer = Adam(0.0002, 0.5)\n",
    "\n",
    "# Build and compile the discriminator\n",
    "discriminator = build_discriminator()\n",
    "discriminator.compile(loss='binary_crossentropy',\n",
    "    optimizer=optimizer,\n",
    "    metrics=['accuracy'])\n",
    "\n",
    "# Build the generator\n",
    "generator = build_generator()\n",
    "\n",
    "# The generator takes noise as input and generates imgs\n",
    "z = Input(shape=(latent_dim,))\n",
    "img = generator(z)\n",
    "\n",
    "# For the combined model we will only train the generator\n",
    "discriminator.trainable = False\n",
    "\n",
    "# The discriminator takes generated images as input and determines validity\n",
    "validity = discriminator(img)\n",
    "\n",
    "# The combined model  (stacked generator and discriminator)\n",
    "# Trains the generator to fool the discriminator\n",
    "combined = Model(z, validity)\n",
    "combined.compile(loss='binary_crossentropy', optimizer=optimizer)"
   ]
  },
  {
   "cell_type": "code",
   "execution_count": 127,
   "metadata": {},
   "outputs": [
    {
     "name": "stderr",
     "output_type": "stream",
     "text": [
      "/Users/davidchiu/.pyenv/versions/3.6.2/lib/python3.6/site-packages/keras/engine/training.py:973: UserWarning: Discrepancy between trainable weights and collected trainable weights, did you set `model.trainable` without calling `model.compile` after ?\n",
      "  'Discrepancy between trainable weights and collected trainable'\n"
     ]
    },
    {
     "name": "stdout",
     "output_type": "stream",
     "text": [
      "0 [D loss: 0.573272, acc.: 75.78%] [G loss: 0.975727]\n",
      "1 [D loss: 0.583120, acc.: 69.92%] [G loss: 0.973092]\n",
      "2 [D loss: 0.579759, acc.: 70.31%] [G loss: 1.005350]\n",
      "3 [D loss: 0.559609, acc.: 77.73%] [G loss: 1.029801]\n",
      "4 [D loss: 0.586091, acc.: 74.61%] [G loss: 0.990369]\n",
      "5 [D loss: 0.571825, acc.: 73.05%] [G loss: 1.008646]\n",
      "6 [D loss: 0.593192, acc.: 75.00%] [G loss: 0.932061]\n",
      "7 [D loss: 0.580597, acc.: 70.31%] [G loss: 0.993043]\n",
      "8 [D loss: 0.573215, acc.: 74.61%] [G loss: 0.979603]\n",
      "9 [D loss: 0.585935, acc.: 76.56%] [G loss: 0.973214]\n",
      "10 [D loss: 0.599597, acc.: 69.53%] [G loss: 0.952654]\n",
      "11 [D loss: 0.623263, acc.: 65.23%] [G loss: 0.956118]\n",
      "12 [D loss: 0.592253, acc.: 71.48%] [G loss: 0.978124]\n",
      "13 [D loss: 0.580379, acc.: 75.00%] [G loss: 0.953464]\n",
      "14 [D loss: 0.607592, acc.: 67.97%] [G loss: 0.952938]\n",
      "15 [D loss: 0.582579, acc.: 73.83%] [G loss: 0.975284]\n",
      "16 [D loss: 0.604059, acc.: 69.53%] [G loss: 1.000628]\n",
      "17 [D loss: 0.582190, acc.: 73.44%] [G loss: 1.012581]\n",
      "18 [D loss: 0.571164, acc.: 75.78%] [G loss: 1.010786]\n",
      "19 [D loss: 0.593798, acc.: 71.88%] [G loss: 0.983233]\n",
      "20 [D loss: 0.580470, acc.: 75.78%] [G loss: 0.955514]\n",
      "21 [D loss: 0.594940, acc.: 72.27%] [G loss: 0.960370]\n",
      "22 [D loss: 0.552131, acc.: 78.91%] [G loss: 0.991385]\n",
      "23 [D loss: 0.573369, acc.: 78.52%] [G loss: 1.002856]\n",
      "24 [D loss: 0.553369, acc.: 78.12%] [G loss: 1.006515]\n",
      "25 [D loss: 0.572413, acc.: 76.17%] [G loss: 1.015625]\n",
      "26 [D loss: 0.558351, acc.: 79.69%] [G loss: 1.013348]\n",
      "27 [D loss: 0.562718, acc.: 74.61%] [G loss: 1.022969]\n",
      "28 [D loss: 0.576143, acc.: 73.44%] [G loss: 1.002410]\n",
      "29 [D loss: 0.586569, acc.: 72.66%] [G loss: 1.004809]\n",
      "30 [D loss: 0.555275, acc.: 81.64%] [G loss: 1.009335]\n",
      "31 [D loss: 0.574019, acc.: 79.30%] [G loss: 0.938543]\n",
      "32 [D loss: 0.568038, acc.: 75.00%] [G loss: 0.925938]\n",
      "33 [D loss: 0.551903, acc.: 79.69%] [G loss: 0.960086]\n",
      "34 [D loss: 0.558576, acc.: 78.91%] [G loss: 0.985523]\n",
      "35 [D loss: 0.579900, acc.: 74.22%] [G loss: 1.018360]\n",
      "36 [D loss: 0.592224, acc.: 75.00%] [G loss: 1.011349]\n",
      "37 [D loss: 0.607590, acc.: 69.92%] [G loss: 0.988243]\n",
      "38 [D loss: 0.585841, acc.: 73.83%] [G loss: 0.971354]\n",
      "39 [D loss: 0.583014, acc.: 72.66%] [G loss: 0.995506]\n",
      "40 [D loss: 0.558080, acc.: 82.03%] [G loss: 1.008605]\n",
      "41 [D loss: 0.569939, acc.: 78.12%] [G loss: 0.969761]\n",
      "42 [D loss: 0.567007, acc.: 78.52%] [G loss: 0.980320]\n",
      "43 [D loss: 0.573536, acc.: 74.61%] [G loss: 0.961866]\n",
      "44 [D loss: 0.595618, acc.: 73.44%] [G loss: 0.948718]\n",
      "45 [D loss: 0.600608, acc.: 71.88%] [G loss: 0.971415]\n",
      "46 [D loss: 0.608651, acc.: 69.92%] [G loss: 0.989209]\n",
      "47 [D loss: 0.551634, acc.: 78.91%] [G loss: 1.028143]\n",
      "48 [D loss: 0.588191, acc.: 73.83%] [G loss: 0.993755]\n",
      "49 [D loss: 0.576130, acc.: 77.34%] [G loss: 0.991574]\n",
      "50 [D loss: 0.569881, acc.: 79.69%] [G loss: 0.998376]\n",
      "51 [D loss: 0.560798, acc.: 77.73%] [G loss: 0.980531]\n",
      "52 [D loss: 0.540439, acc.: 80.86%] [G loss: 1.012175]\n",
      "53 [D loss: 0.552916, acc.: 77.73%] [G loss: 0.990089]\n",
      "54 [D loss: 0.569981, acc.: 75.78%] [G loss: 0.995204]\n",
      "55 [D loss: 0.547181, acc.: 80.47%] [G loss: 1.003196]\n",
      "56 [D loss: 0.557402, acc.: 75.78%] [G loss: 1.024412]\n",
      "57 [D loss: 0.565067, acc.: 77.34%] [G loss: 0.980948]\n",
      "58 [D loss: 0.575550, acc.: 76.56%] [G loss: 0.959844]\n",
      "59 [D loss: 0.593585, acc.: 69.53%] [G loss: 0.937726]\n",
      "60 [D loss: 0.562273, acc.: 76.17%] [G loss: 0.958273]\n",
      "61 [D loss: 0.550822, acc.: 79.69%] [G loss: 0.975995]\n",
      "62 [D loss: 0.560704, acc.: 74.61%] [G loss: 0.994977]\n",
      "63 [D loss: 0.595802, acc.: 69.53%] [G loss: 1.034373]\n",
      "64 [D loss: 0.581281, acc.: 71.88%] [G loss: 1.001468]\n",
      "65 [D loss: 0.580563, acc.: 71.88%] [G loss: 0.980698]\n",
      "66 [D loss: 0.563619, acc.: 78.12%] [G loss: 0.992150]\n",
      "67 [D loss: 0.547255, acc.: 78.12%] [G loss: 0.972051]\n",
      "68 [D loss: 0.553554, acc.: 76.56%] [G loss: 1.017261]\n",
      "69 [D loss: 0.567638, acc.: 75.00%] [G loss: 1.017889]\n",
      "70 [D loss: 0.583530, acc.: 73.44%] [G loss: 1.028728]\n",
      "71 [D loss: 0.573855, acc.: 76.17%] [G loss: 1.010749]\n",
      "72 [D loss: 0.572261, acc.: 71.88%] [G loss: 1.012320]\n",
      "73 [D loss: 0.556831, acc.: 76.95%] [G loss: 0.994449]\n",
      "74 [D loss: 0.570290, acc.: 73.83%] [G loss: 1.020390]\n",
      "75 [D loss: 0.583499, acc.: 74.61%] [G loss: 0.990657]\n",
      "76 [D loss: 0.609349, acc.: 70.31%] [G loss: 0.988461]\n",
      "77 [D loss: 0.583799, acc.: 72.66%] [G loss: 1.012207]\n",
      "78 [D loss: 0.569739, acc.: 73.44%] [G loss: 1.029817]\n",
      "79 [D loss: 0.557740, acc.: 79.30%] [G loss: 1.005684]\n",
      "80 [D loss: 0.589774, acc.: 71.88%] [G loss: 0.991618]\n",
      "81 [D loss: 0.555107, acc.: 78.52%] [G loss: 1.009297]\n",
      "82 [D loss: 0.586512, acc.: 73.83%] [G loss: 0.938772]\n",
      "83 [D loss: 0.556579, acc.: 77.34%] [G loss: 0.922301]\n",
      "84 [D loss: 0.550837, acc.: 77.34%] [G loss: 0.943183]\n",
      "85 [D loss: 0.595861, acc.: 69.14%] [G loss: 0.977929]\n",
      "86 [D loss: 0.588671, acc.: 72.27%] [G loss: 0.973521]\n",
      "87 [D loss: 0.567636, acc.: 73.05%] [G loss: 1.018322]\n",
      "88 [D loss: 0.545060, acc.: 81.25%] [G loss: 0.996983]\n",
      "89 [D loss: 0.575635, acc.: 73.44%] [G loss: 1.007263]\n",
      "90 [D loss: 0.578016, acc.: 71.88%] [G loss: 0.984465]\n",
      "91 [D loss: 0.551797, acc.: 77.34%] [G loss: 0.973785]\n",
      "92 [D loss: 0.573117, acc.: 75.39%] [G loss: 0.981388]\n",
      "93 [D loss: 0.570897, acc.: 73.44%] [G loss: 1.011037]\n",
      "94 [D loss: 0.549256, acc.: 81.25%] [G loss: 1.029713]\n",
      "95 [D loss: 0.588034, acc.: 71.88%] [G loss: 0.995981]\n",
      "96 [D loss: 0.578818, acc.: 69.92%] [G loss: 1.007966]\n",
      "97 [D loss: 0.572225, acc.: 74.22%] [G loss: 1.031064]\n",
      "98 [D loss: 0.579127, acc.: 70.70%] [G loss: 1.054750]\n",
      "99 [D loss: 0.550879, acc.: 78.91%] [G loss: 1.029422]\n",
      "100 [D loss: 0.605895, acc.: 68.75%] [G loss: 0.980463]\n",
      "101 [D loss: 0.582736, acc.: 73.05%] [G loss: 1.023394]\n",
      "102 [D loss: 0.583411, acc.: 72.66%] [G loss: 1.032879]\n",
      "103 [D loss: 0.599155, acc.: 72.27%] [G loss: 1.016531]\n",
      "104 [D loss: 0.590849, acc.: 71.48%] [G loss: 0.987607]\n",
      "105 [D loss: 0.577664, acc.: 75.00%] [G loss: 0.961852]\n",
      "106 [D loss: 0.569063, acc.: 74.22%] [G loss: 0.972289]\n",
      "107 [D loss: 0.584250, acc.: 71.48%] [G loss: 1.039902]\n",
      "108 [D loss: 0.581036, acc.: 76.56%] [G loss: 0.989127]\n",
      "109 [D loss: 0.590073, acc.: 71.48%] [G loss: 0.993069]\n",
      "110 [D loss: 0.587567, acc.: 70.70%] [G loss: 0.960635]\n",
      "111 [D loss: 0.577842, acc.: 72.27%] [G loss: 0.934291]\n",
      "112 [D loss: 0.553668, acc.: 80.08%] [G loss: 0.955040]\n",
      "113 [D loss: 0.543197, acc.: 78.12%] [G loss: 1.008209]\n",
      "114 [D loss: 0.540744, acc.: 77.73%] [G loss: 1.024889]\n",
      "115 [D loss: 0.544629, acc.: 80.08%] [G loss: 1.009494]\n",
      "116 [D loss: 0.562053, acc.: 74.22%] [G loss: 1.051111]\n",
      "117 [D loss: 0.570778, acc.: 73.83%] [G loss: 1.009793]\n",
      "118 [D loss: 0.556740, acc.: 73.83%] [G loss: 1.022368]\n",
      "119 [D loss: 0.529227, acc.: 82.42%] [G loss: 0.998772]\n",
      "120 [D loss: 0.569458, acc.: 72.66%] [G loss: 1.010270]\n",
      "121 [D loss: 0.551665, acc.: 75.00%] [G loss: 1.046377]\n",
      "122 [D loss: 0.550037, acc.: 75.00%] [G loss: 1.006160]\n",
      "123 [D loss: 0.563069, acc.: 73.05%] [G loss: 1.036092]\n",
      "124 [D loss: 0.559748, acc.: 73.44%] [G loss: 0.994048]\n",
      "125 [D loss: 0.562191, acc.: 71.88%] [G loss: 0.993524]\n",
      "126 [D loss: 0.576466, acc.: 73.44%] [G loss: 1.007341]\n",
      "127 [D loss: 0.566412, acc.: 71.48%] [G loss: 0.996623]\n",
      "128 [D loss: 0.581159, acc.: 70.70%] [G loss: 1.017554]\n",
      "129 [D loss: 0.571532, acc.: 73.05%] [G loss: 1.061577]\n",
      "130 [D loss: 0.578156, acc.: 73.83%] [G loss: 1.030784]\n",
      "131 [D loss: 0.569294, acc.: 79.69%] [G loss: 0.961658]\n",
      "132 [D loss: 0.557229, acc.: 78.12%] [G loss: 0.943242]\n",
      "133 [D loss: 0.596864, acc.: 68.36%] [G loss: 0.921860]\n",
      "134 [D loss: 0.568964, acc.: 73.44%] [G loss: 0.940987]\n",
      "135 [D loss: 0.555677, acc.: 75.78%] [G loss: 0.952697]\n",
      "136 [D loss: 0.552284, acc.: 73.44%] [G loss: 0.998251]\n",
      "137 [D loss: 0.547662, acc.: 77.73%] [G loss: 1.033852]\n",
      "138 [D loss: 0.539093, acc.: 78.52%] [G loss: 1.031292]\n",
      "139 [D loss: 0.568800, acc.: 78.91%] [G loss: 1.026975]\n",
      "140 [D loss: 0.568680, acc.: 72.66%] [G loss: 1.030399]\n",
      "141 [D loss: 0.566867, acc.: 77.34%] [G loss: 1.010499]\n",
      "142 [D loss: 0.568996, acc.: 76.17%] [G loss: 1.030542]\n",
      "143 [D loss: 0.557533, acc.: 74.22%] [G loss: 1.014638]\n",
      "144 [D loss: 0.576015, acc.: 71.88%] [G loss: 1.032137]\n",
      "145 [D loss: 0.555066, acc.: 77.73%] [G loss: 1.056350]\n",
      "146 [D loss: 0.530744, acc.: 82.03%] [G loss: 1.112643]\n",
      "147 [D loss: 0.528393, acc.: 76.56%] [G loss: 1.089433]\n",
      "148 [D loss: 0.569368, acc.: 72.66%] [G loss: 1.072586]\n",
      "149 [D loss: 0.560744, acc.: 75.78%] [G loss: 1.058978]\n"
     ]
    },
    {
     "name": "stdout",
     "output_type": "stream",
     "text": [
      "150 [D loss: 0.574934, acc.: 75.39%] [G loss: 1.064226]\n",
      "151 [D loss: 0.555014, acc.: 80.08%] [G loss: 1.044258]\n",
      "152 [D loss: 0.542312, acc.: 78.52%] [G loss: 1.045348]\n",
      "153 [D loss: 0.508553, acc.: 83.59%] [G loss: 1.081970]\n",
      "154 [D loss: 0.540151, acc.: 80.86%] [G loss: 1.016497]\n",
      "155 [D loss: 0.537474, acc.: 77.73%] [G loss: 1.020882]\n",
      "156 [D loss: 0.523564, acc.: 82.42%] [G loss: 1.029111]\n",
      "157 [D loss: 0.515859, acc.: 82.81%] [G loss: 1.041731]\n",
      "158 [D loss: 0.530666, acc.: 81.64%] [G loss: 1.059418]\n",
      "159 [D loss: 0.542396, acc.: 78.91%] [G loss: 1.049453]\n",
      "160 [D loss: 0.548106, acc.: 78.52%] [G loss: 0.998767]\n",
      "161 [D loss: 0.543386, acc.: 79.30%] [G loss: 1.026679]\n",
      "162 [D loss: 0.551929, acc.: 79.30%] [G loss: 1.013446]\n",
      "163 [D loss: 0.573896, acc.: 75.00%] [G loss: 0.992517]\n",
      "164 [D loss: 0.538503, acc.: 78.12%] [G loss: 0.994235]\n",
      "165 [D loss: 0.552497, acc.: 78.52%] [G loss: 1.022316]\n",
      "166 [D loss: 0.548319, acc.: 73.44%] [G loss: 1.026982]\n",
      "167 [D loss: 0.561330, acc.: 71.88%] [G loss: 1.050354]\n",
      "168 [D loss: 0.541676, acc.: 78.52%] [G loss: 1.109357]\n",
      "169 [D loss: 0.575965, acc.: 73.05%] [G loss: 1.050055]\n",
      "170 [D loss: 0.555583, acc.: 79.30%] [G loss: 1.060151]\n",
      "171 [D loss: 0.554197, acc.: 75.00%] [G loss: 1.040852]\n",
      "172 [D loss: 0.566689, acc.: 77.34%] [G loss: 1.040711]\n",
      "173 [D loss: 0.561875, acc.: 76.17%] [G loss: 1.005230]\n",
      "174 [D loss: 0.570177, acc.: 75.00%] [G loss: 1.041280]\n",
      "175 [D loss: 0.532258, acc.: 80.08%] [G loss: 1.026669]\n",
      "176 [D loss: 0.548039, acc.: 80.47%] [G loss: 1.036415]\n",
      "177 [D loss: 0.554079, acc.: 76.17%] [G loss: 0.996861]\n",
      "178 [D loss: 0.555625, acc.: 75.78%] [G loss: 0.993813]\n",
      "179 [D loss: 0.566616, acc.: 75.39%] [G loss: 1.025129]\n",
      "180 [D loss: 0.549065, acc.: 77.34%] [G loss: 1.018242]\n",
      "181 [D loss: 0.545621, acc.: 76.17%] [G loss: 0.997521]\n",
      "182 [D loss: 0.520508, acc.: 80.47%] [G loss: 1.017815]\n",
      "183 [D loss: 0.576865, acc.: 74.61%] [G loss: 1.026997]\n",
      "184 [D loss: 0.548461, acc.: 76.56%] [G loss: 1.051631]\n",
      "185 [D loss: 0.574011, acc.: 73.83%] [G loss: 1.054521]\n",
      "186 [D loss: 0.562664, acc.: 75.39%] [G loss: 1.016706]\n",
      "187 [D loss: 0.558981, acc.: 77.73%] [G loss: 1.015522]\n",
      "188 [D loss: 0.546751, acc.: 80.08%] [G loss: 1.010407]\n",
      "189 [D loss: 0.543391, acc.: 75.39%] [G loss: 1.020154]\n",
      "190 [D loss: 0.538798, acc.: 79.69%] [G loss: 1.024559]\n",
      "191 [D loss: 0.567028, acc.: 75.39%] [G loss: 1.039134]\n",
      "192 [D loss: 0.583103, acc.: 69.92%] [G loss: 1.035856]\n",
      "193 [D loss: 0.550729, acc.: 72.27%] [G loss: 1.060773]\n",
      "194 [D loss: 0.570732, acc.: 75.78%] [G loss: 1.036829]\n",
      "195 [D loss: 0.577383, acc.: 73.05%] [G loss: 1.049733]\n",
      "196 [D loss: 0.557770, acc.: 75.78%] [G loss: 1.056060]\n",
      "197 [D loss: 0.566985, acc.: 73.83%] [G loss: 1.036920]\n",
      "198 [D loss: 0.570781, acc.: 75.78%] [G loss: 1.020753]\n",
      "199 [D loss: 0.563624, acc.: 72.66%] [G loss: 0.987068]\n",
      "200 [D loss: 0.581967, acc.: 69.53%] [G loss: 0.987503]\n",
      "201 [D loss: 0.549547, acc.: 74.61%] [G loss: 1.024981]\n",
      "202 [D loss: 0.533034, acc.: 81.25%] [G loss: 1.042403]\n",
      "203 [D loss: 0.549644, acc.: 76.95%] [G loss: 1.026638]\n",
      "204 [D loss: 0.551084, acc.: 75.00%] [G loss: 1.041206]\n",
      "205 [D loss: 0.543032, acc.: 77.73%] [G loss: 1.037981]\n",
      "206 [D loss: 0.561337, acc.: 74.22%] [G loss: 1.039073]\n",
      "207 [D loss: 0.559258, acc.: 73.44%] [G loss: 1.046345]\n",
      "208 [D loss: 0.553076, acc.: 79.30%] [G loss: 1.013144]\n",
      "209 [D loss: 0.609845, acc.: 66.02%] [G loss: 1.002042]\n",
      "210 [D loss: 0.580632, acc.: 73.83%] [G loss: 0.986431]\n",
      "211 [D loss: 0.582959, acc.: 69.92%] [G loss: 0.991722]\n",
      "212 [D loss: 0.603310, acc.: 68.75%] [G loss: 1.046120]\n",
      "213 [D loss: 0.596216, acc.: 67.58%] [G loss: 1.001352]\n",
      "214 [D loss: 0.613986, acc.: 67.97%] [G loss: 0.995167]\n",
      "215 [D loss: 0.565760, acc.: 72.66%] [G loss: 0.997428]\n",
      "216 [D loss: 0.590566, acc.: 71.48%] [G loss: 0.927495]\n",
      "217 [D loss: 0.595743, acc.: 66.80%] [G loss: 0.946476]\n",
      "218 [D loss: 0.582305, acc.: 71.48%] [G loss: 0.980613]\n",
      "219 [D loss: 0.572639, acc.: 70.31%] [G loss: 0.974056]\n",
      "220 [D loss: 0.575893, acc.: 70.70%] [G loss: 0.970094]\n",
      "221 [D loss: 0.579157, acc.: 71.48%] [G loss: 0.971650]\n",
      "222 [D loss: 0.547696, acc.: 75.39%] [G loss: 1.031601]\n",
      "223 [D loss: 0.558395, acc.: 71.48%] [G loss: 1.016461]\n",
      "224 [D loss: 0.596035, acc.: 65.62%] [G loss: 1.007649]\n",
      "225 [D loss: 0.563366, acc.: 70.70%] [G loss: 1.028772]\n",
      "226 [D loss: 0.537970, acc.: 74.22%] [G loss: 1.097549]\n",
      "227 [D loss: 0.565885, acc.: 71.48%] [G loss: 1.091217]\n",
      "228 [D loss: 0.541290, acc.: 75.39%] [G loss: 1.081356]\n",
      "229 [D loss: 0.575349, acc.: 75.39%] [G loss: 1.014281]\n",
      "230 [D loss: 0.556239, acc.: 76.17%] [G loss: 1.010726]\n",
      "231 [D loss: 0.515409, acc.: 83.98%] [G loss: 1.049818]\n",
      "232 [D loss: 0.555674, acc.: 74.61%] [G loss: 1.032539]\n",
      "233 [D loss: 0.583191, acc.: 71.48%] [G loss: 1.047136]\n",
      "234 [D loss: 0.556554, acc.: 76.17%] [G loss: 1.037692]\n",
      "235 [D loss: 0.569690, acc.: 67.97%] [G loss: 1.021654]\n",
      "236 [D loss: 0.551468, acc.: 74.61%] [G loss: 1.023704]\n",
      "237 [D loss: 0.567559, acc.: 75.00%] [G loss: 1.033651]\n",
      "238 [D loss: 0.557591, acc.: 75.78%] [G loss: 1.038670]\n",
      "239 [D loss: 0.588695, acc.: 72.66%] [G loss: 1.008266]\n",
      "240 [D loss: 0.518138, acc.: 82.03%] [G loss: 1.026495]\n",
      "241 [D loss: 0.542095, acc.: 78.52%] [G loss: 1.019206]\n",
      "242 [D loss: 0.609153, acc.: 70.31%] [G loss: 0.996448]\n",
      "243 [D loss: 0.535225, acc.: 75.39%] [G loss: 1.012064]\n",
      "244 [D loss: 0.561027, acc.: 73.83%] [G loss: 1.020854]\n",
      "245 [D loss: 0.550229, acc.: 76.17%] [G loss: 1.074652]\n",
      "246 [D loss: 0.535819, acc.: 78.91%] [G loss: 1.024141]\n",
      "247 [D loss: 0.583525, acc.: 74.22%] [G loss: 1.010011]\n",
      "248 [D loss: 0.557990, acc.: 74.61%] [G loss: 1.018461]\n",
      "249 [D loss: 0.562059, acc.: 74.22%] [G loss: 1.009812]\n",
      "250 [D loss: 0.562243, acc.: 76.17%] [G loss: 1.019725]\n",
      "251 [D loss: 0.548601, acc.: 78.12%] [G loss: 1.046553]\n",
      "252 [D loss: 0.542522, acc.: 77.34%] [G loss: 1.042007]\n",
      "253 [D loss: 0.541989, acc.: 76.17%] [G loss: 1.023217]\n",
      "254 [D loss: 0.548990, acc.: 75.39%] [G loss: 1.034845]\n",
      "255 [D loss: 0.591641, acc.: 71.48%] [G loss: 1.003125]\n",
      "256 [D loss: 0.594670, acc.: 70.31%] [G loss: 0.981401]\n",
      "257 [D loss: 0.583728, acc.: 69.14%] [G loss: 1.018979]\n",
      "258 [D loss: 0.600162, acc.: 73.05%] [G loss: 1.029346]\n",
      "259 [D loss: 0.592680, acc.: 72.66%] [G loss: 0.988235]\n",
      "260 [D loss: 0.591464, acc.: 70.70%] [G loss: 0.977129]\n",
      "261 [D loss: 0.580455, acc.: 72.66%] [G loss: 0.976632]\n",
      "262 [D loss: 0.577125, acc.: 73.05%] [G loss: 1.000735]\n",
      "263 [D loss: 0.596219, acc.: 69.14%] [G loss: 1.038320]\n",
      "264 [D loss: 0.578883, acc.: 70.70%] [G loss: 1.032966]\n",
      "265 [D loss: 0.572606, acc.: 75.00%] [G loss: 1.002624]\n",
      "266 [D loss: 0.602348, acc.: 70.31%] [G loss: 1.014211]\n",
      "267 [D loss: 0.530843, acc.: 80.08%] [G loss: 1.026381]\n",
      "268 [D loss: 0.594748, acc.: 69.14%] [G loss: 1.046845]\n",
      "269 [D loss: 0.582010, acc.: 71.48%] [G loss: 1.035661]\n",
      "270 [D loss: 0.564815, acc.: 75.39%] [G loss: 1.059934]\n",
      "271 [D loss: 0.591171, acc.: 70.70%] [G loss: 0.997080]\n",
      "272 [D loss: 0.574519, acc.: 74.22%] [G loss: 1.053879]\n",
      "273 [D loss: 0.558908, acc.: 76.56%] [G loss: 1.061339]\n",
      "274 [D loss: 0.553811, acc.: 80.47%] [G loss: 1.033844]\n",
      "275 [D loss: 0.566710, acc.: 75.39%] [G loss: 0.978056]\n",
      "276 [D loss: 0.561777, acc.: 74.61%] [G loss: 0.971951]\n",
      "277 [D loss: 0.585151, acc.: 70.70%] [G loss: 1.020721]\n",
      "278 [D loss: 0.574596, acc.: 73.44%] [G loss: 1.049887]\n",
      "279 [D loss: 0.557911, acc.: 73.44%] [G loss: 1.078500]\n",
      "280 [D loss: 0.562490, acc.: 78.12%] [G loss: 1.036707]\n",
      "281 [D loss: 0.533359, acc.: 80.08%] [G loss: 1.049776]\n",
      "282 [D loss: 0.579506, acc.: 74.61%] [G loss: 1.049812]\n",
      "283 [D loss: 0.559073, acc.: 77.73%] [G loss: 1.042708]\n",
      "284 [D loss: 0.546533, acc.: 76.17%] [G loss: 1.015402]\n",
      "285 [D loss: 0.577285, acc.: 72.66%] [G loss: 1.064399]\n",
      "286 [D loss: 0.568338, acc.: 77.34%] [G loss: 1.015069]\n",
      "287 [D loss: 0.546076, acc.: 76.56%] [G loss: 1.047370]\n",
      "288 [D loss: 0.548320, acc.: 76.95%] [G loss: 1.069991]\n",
      "289 [D loss: 0.566150, acc.: 73.83%] [G loss: 1.038996]\n",
      "290 [D loss: 0.571553, acc.: 73.83%] [G loss: 1.037347]\n",
      "291 [D loss: 0.523213, acc.: 81.64%] [G loss: 1.100153]\n",
      "292 [D loss: 0.567414, acc.: 71.88%] [G loss: 1.062413]\n",
      "293 [D loss: 0.569884, acc.: 72.66%] [G loss: 1.075151]\n",
      "294 [D loss: 0.567129, acc.: 75.00%] [G loss: 1.033952]\n",
      "295 [D loss: 0.593814, acc.: 70.31%] [G loss: 1.064883]\n",
      "296 [D loss: 0.557850, acc.: 74.22%] [G loss: 1.065010]\n",
      "297 [D loss: 0.541771, acc.: 76.95%] [G loss: 1.103601]\n",
      "298 [D loss: 0.574101, acc.: 74.61%] [G loss: 1.138747]\n",
      "299 [D loss: 0.563671, acc.: 78.12%] [G loss: 1.104355]\n"
     ]
    },
    {
     "name": "stdout",
     "output_type": "stream",
     "text": [
      "300 [D loss: 0.566976, acc.: 77.73%] [G loss: 1.073599]\n",
      "301 [D loss: 0.539876, acc.: 79.69%] [G loss: 1.027984]\n",
      "302 [D loss: 0.587148, acc.: 70.31%] [G loss: 1.037306]\n",
      "303 [D loss: 0.544054, acc.: 76.17%] [G loss: 1.077967]\n",
      "304 [D loss: 0.587028, acc.: 71.09%] [G loss: 1.062039]\n",
      "305 [D loss: 0.554292, acc.: 76.17%] [G loss: 1.036195]\n",
      "306 [D loss: 0.540251, acc.: 76.95%] [G loss: 1.036571]\n",
      "307 [D loss: 0.547103, acc.: 75.00%] [G loss: 1.046865]\n",
      "308 [D loss: 0.553068, acc.: 79.69%] [G loss: 1.065561]\n",
      "309 [D loss: 0.566598, acc.: 75.00%] [G loss: 1.070837]\n",
      "310 [D loss: 0.552960, acc.: 71.48%] [G loss: 1.126652]\n",
      "311 [D loss: 0.571987, acc.: 75.00%] [G loss: 1.082611]\n",
      "312 [D loss: 0.574167, acc.: 73.83%] [G loss: 1.028793]\n",
      "313 [D loss: 0.579412, acc.: 75.39%] [G loss: 0.995862]\n",
      "314 [D loss: 0.528177, acc.: 76.95%] [G loss: 1.036438]\n",
      "315 [D loss: 0.563160, acc.: 75.00%] [G loss: 1.094699]\n",
      "316 [D loss: 0.550456, acc.: 76.17%] [G loss: 1.033793]\n",
      "317 [D loss: 0.578889, acc.: 74.61%] [G loss: 1.048097]\n",
      "318 [D loss: 0.577491, acc.: 69.14%] [G loss: 0.988457]\n",
      "319 [D loss: 0.568634, acc.: 70.31%] [G loss: 1.031608]\n",
      "320 [D loss: 0.546906, acc.: 75.39%] [G loss: 1.061879]\n",
      "321 [D loss: 0.551611, acc.: 78.12%] [G loss: 1.067924]\n",
      "322 [D loss: 0.568253, acc.: 74.61%] [G loss: 1.034645]\n",
      "323 [D loss: 0.566508, acc.: 73.44%] [G loss: 1.041870]\n",
      "324 [D loss: 0.560127, acc.: 71.48%] [G loss: 1.035324]\n",
      "325 [D loss: 0.577966, acc.: 73.44%] [G loss: 1.030895]\n",
      "326 [D loss: 0.565259, acc.: 75.78%] [G loss: 1.059270]\n",
      "327 [D loss: 0.547182, acc.: 73.83%] [G loss: 1.050498]\n",
      "328 [D loss: 0.535780, acc.: 76.95%] [G loss: 1.046593]\n",
      "329 [D loss: 0.575447, acc.: 72.66%] [G loss: 1.043611]\n",
      "330 [D loss: 0.545673, acc.: 73.05%] [G loss: 1.030590]\n",
      "331 [D loss: 0.563415, acc.: 73.83%] [G loss: 1.066959]\n",
      "332 [D loss: 0.561536, acc.: 75.39%] [G loss: 1.032632]\n",
      "333 [D loss: 0.581790, acc.: 70.31%] [G loss: 1.066041]\n",
      "334 [D loss: 0.554793, acc.: 71.88%] [G loss: 1.082974]\n",
      "335 [D loss: 0.574573, acc.: 71.48%] [G loss: 1.022864]\n",
      "336 [D loss: 0.591029, acc.: 69.14%] [G loss: 1.005006]\n",
      "337 [D loss: 0.549087, acc.: 78.52%] [G loss: 1.019773]\n",
      "338 [D loss: 0.552880, acc.: 76.17%] [G loss: 1.018372]\n",
      "339 [D loss: 0.559205, acc.: 73.83%] [G loss: 1.017540]\n",
      "340 [D loss: 0.541039, acc.: 75.78%] [G loss: 1.038699]\n",
      "341 [D loss: 0.555788, acc.: 75.78%] [G loss: 1.049292]\n",
      "342 [D loss: 0.565172, acc.: 74.61%] [G loss: 1.049603]\n",
      "343 [D loss: 0.564852, acc.: 73.05%] [G loss: 1.038176]\n",
      "344 [D loss: 0.565737, acc.: 73.83%] [G loss: 1.030764]\n",
      "345 [D loss: 0.583934, acc.: 70.70%] [G loss: 1.024099]\n",
      "346 [D loss: 0.540352, acc.: 80.08%] [G loss: 1.064833]\n",
      "347 [D loss: 0.554720, acc.: 76.17%] [G loss: 1.065831]\n",
      "348 [D loss: 0.552044, acc.: 75.78%] [G loss: 1.040319]\n",
      "349 [D loss: 0.574051, acc.: 75.00%] [G loss: 1.040685]\n",
      "350 [D loss: 0.538744, acc.: 79.69%] [G loss: 1.059763]\n",
      "351 [D loss: 0.554851, acc.: 76.17%] [G loss: 1.004078]\n",
      "352 [D loss: 0.541629, acc.: 78.12%] [G loss: 1.001448]\n",
      "353 [D loss: 0.592425, acc.: 69.92%] [G loss: 1.014300]\n",
      "354 [D loss: 0.566579, acc.: 74.22%] [G loss: 1.012290]\n",
      "355 [D loss: 0.539940, acc.: 76.95%] [G loss: 1.034742]\n",
      "356 [D loss: 0.542381, acc.: 78.52%] [G loss: 1.030792]\n",
      "357 [D loss: 0.573926, acc.: 71.48%] [G loss: 1.026463]\n",
      "358 [D loss: 0.576669, acc.: 75.00%] [G loss: 1.015878]\n",
      "359 [D loss: 0.555794, acc.: 76.95%] [G loss: 1.051158]\n",
      "360 [D loss: 0.558758, acc.: 78.91%] [G loss: 1.088764]\n",
      "361 [D loss: 0.540977, acc.: 80.08%] [G loss: 1.052092]\n",
      "362 [D loss: 0.561021, acc.: 74.61%] [G loss: 1.062404]\n",
      "363 [D loss: 0.546061, acc.: 77.34%] [G loss: 0.995984]\n",
      "364 [D loss: 0.566849, acc.: 74.61%] [G loss: 0.995046]\n",
      "365 [D loss: 0.569229, acc.: 76.56%] [G loss: 0.982569]\n",
      "366 [D loss: 0.537144, acc.: 77.73%] [G loss: 1.017843]\n",
      "367 [D loss: 0.521630, acc.: 77.73%] [G loss: 1.043784]\n",
      "368 [D loss: 0.555697, acc.: 75.39%] [G loss: 1.058666]\n",
      "369 [D loss: 0.560139, acc.: 72.27%] [G loss: 1.030343]\n",
      "370 [D loss: 0.562477, acc.: 69.14%] [G loss: 1.030741]\n",
      "371 [D loss: 0.580021, acc.: 69.14%] [G loss: 0.988766]\n",
      "372 [D loss: 0.565989, acc.: 70.70%] [G loss: 1.018233]\n",
      "373 [D loss: 0.526753, acc.: 82.03%] [G loss: 1.055843]\n",
      "374 [D loss: 0.564659, acc.: 73.05%] [G loss: 1.052023]\n",
      "375 [D loss: 0.530529, acc.: 76.56%] [G loss: 1.065651]\n",
      "376 [D loss: 0.573816, acc.: 69.92%] [G loss: 1.035923]\n",
      "377 [D loss: 0.538371, acc.: 79.69%] [G loss: 1.033720]\n",
      "378 [D loss: 0.541711, acc.: 77.34%] [G loss: 1.081032]\n",
      "379 [D loss: 0.563385, acc.: 73.83%] [G loss: 1.066157]\n",
      "380 [D loss: 0.598513, acc.: 72.27%] [G loss: 1.036753]\n",
      "381 [D loss: 0.567000, acc.: 72.66%] [G loss: 1.074283]\n",
      "382 [D loss: 0.538537, acc.: 78.52%] [G loss: 1.011870]\n",
      "383 [D loss: 0.556764, acc.: 75.39%] [G loss: 1.045702]\n",
      "384 [D loss: 0.584370, acc.: 71.88%] [G loss: 0.974600]\n",
      "385 [D loss: 0.582015, acc.: 73.05%] [G loss: 0.989929]\n",
      "386 [D loss: 0.583864, acc.: 71.88%] [G loss: 1.051465]\n",
      "387 [D loss: 0.591203, acc.: 70.70%] [G loss: 1.077484]\n",
      "388 [D loss: 0.576571, acc.: 73.83%] [G loss: 1.027175]\n",
      "389 [D loss: 0.582584, acc.: 70.31%] [G loss: 1.015402]\n",
      "390 [D loss: 0.551726, acc.: 75.78%] [G loss: 1.023345]\n",
      "391 [D loss: 0.573178, acc.: 73.83%] [G loss: 1.014843]\n",
      "392 [D loss: 0.578668, acc.: 75.39%] [G loss: 1.041910]\n",
      "393 [D loss: 0.557059, acc.: 83.20%] [G loss: 1.022434]\n",
      "394 [D loss: 0.539535, acc.: 78.91%] [G loss: 1.011840]\n",
      "395 [D loss: 0.538734, acc.: 75.78%] [G loss: 1.039685]\n",
      "396 [D loss: 0.561004, acc.: 76.17%] [G loss: 0.980954]\n",
      "397 [D loss: 0.566853, acc.: 73.83%] [G loss: 0.990933]\n",
      "398 [D loss: 0.561271, acc.: 74.61%] [G loss: 1.004556]\n",
      "399 [D loss: 0.542501, acc.: 80.47%] [G loss: 1.014195]\n",
      "400 [D loss: 0.550533, acc.: 78.91%] [G loss: 1.056831]\n",
      "401 [D loss: 0.563523, acc.: 77.73%] [G loss: 1.042124]\n",
      "402 [D loss: 0.545616, acc.: 76.56%] [G loss: 1.025092]\n",
      "403 [D loss: 0.544626, acc.: 76.95%] [G loss: 1.007531]\n",
      "404 [D loss: 0.554161, acc.: 75.00%] [G loss: 1.034984]\n",
      "405 [D loss: 0.550982, acc.: 75.39%] [G loss: 1.041482]\n",
      "406 [D loss: 0.584433, acc.: 68.75%] [G loss: 1.012644]\n",
      "407 [D loss: 0.558077, acc.: 75.78%] [G loss: 1.048669]\n",
      "408 [D loss: 0.544547, acc.: 77.34%] [G loss: 1.065108]\n",
      "409 [D loss: 0.543778, acc.: 74.61%] [G loss: 1.062389]\n",
      "410 [D loss: 0.558598, acc.: 71.88%] [G loss: 1.053576]\n",
      "411 [D loss: 0.590995, acc.: 69.92%] [G loss: 1.093060]\n",
      "412 [D loss: 0.570559, acc.: 71.09%] [G loss: 1.067600]\n",
      "413 [D loss: 0.599724, acc.: 67.19%] [G loss: 0.996883]\n",
      "414 [D loss: 0.600565, acc.: 72.66%] [G loss: 1.053129]\n",
      "415 [D loss: 0.568508, acc.: 75.39%] [G loss: 1.056318]\n",
      "416 [D loss: 0.584710, acc.: 76.95%] [G loss: 1.055979]\n",
      "417 [D loss: 0.573082, acc.: 73.83%] [G loss: 1.089673]\n",
      "418 [D loss: 0.561849, acc.: 70.70%] [G loss: 1.057886]\n",
      "419 [D loss: 0.596518, acc.: 69.92%] [G loss: 1.034073]\n",
      "420 [D loss: 0.583583, acc.: 74.61%] [G loss: 0.970339]\n",
      "421 [D loss: 0.557497, acc.: 75.39%] [G loss: 0.992736]\n",
      "422 [D loss: 0.551024, acc.: 75.00%] [G loss: 1.034020]\n",
      "423 [D loss: 0.567967, acc.: 71.88%] [G loss: 0.987321]\n",
      "424 [D loss: 0.571091, acc.: 71.88%] [G loss: 1.088752]\n",
      "425 [D loss: 0.580718, acc.: 76.56%] [G loss: 1.030826]\n",
      "426 [D loss: 0.560737, acc.: 77.34%] [G loss: 1.023250]\n",
      "427 [D loss: 0.554916, acc.: 76.17%] [G loss: 1.041573]\n",
      "428 [D loss: 0.563326, acc.: 73.83%] [G loss: 1.000036]\n",
      "429 [D loss: 0.577204, acc.: 73.44%] [G loss: 1.001634]\n",
      "430 [D loss: 0.537861, acc.: 78.52%] [G loss: 1.025978]\n",
      "431 [D loss: 0.544191, acc.: 75.00%] [G loss: 1.066342]\n",
      "432 [D loss: 0.541046, acc.: 79.30%] [G loss: 1.058467]\n",
      "433 [D loss: 0.567996, acc.: 73.05%] [G loss: 1.048601]\n",
      "434 [D loss: 0.551100, acc.: 74.61%] [G loss: 1.093017]\n",
      "435 [D loss: 0.579223, acc.: 76.17%] [G loss: 1.052460]\n",
      "436 [D loss: 0.564555, acc.: 74.61%] [G loss: 1.080658]\n",
      "437 [D loss: 0.562195, acc.: 75.78%] [G loss: 1.044131]\n",
      "438 [D loss: 0.573834, acc.: 74.61%] [G loss: 1.013337]\n",
      "439 [D loss: 0.511697, acc.: 78.52%] [G loss: 1.077961]\n",
      "440 [D loss: 0.538567, acc.: 76.56%] [G loss: 1.089285]\n",
      "441 [D loss: 0.558879, acc.: 75.39%] [G loss: 1.068762]\n",
      "442 [D loss: 0.562921, acc.: 75.39%] [G loss: 1.055606]\n",
      "443 [D loss: 0.561450, acc.: 74.22%] [G loss: 1.043811]\n",
      "444 [D loss: 0.534643, acc.: 78.91%] [G loss: 1.088320]\n",
      "445 [D loss: 0.561251, acc.: 77.73%] [G loss: 1.132049]\n",
      "446 [D loss: 0.533930, acc.: 79.30%] [G loss: 1.092812]\n"
     ]
    },
    {
     "name": "stdout",
     "output_type": "stream",
     "text": [
      "447 [D loss: 0.571199, acc.: 78.91%] [G loss: 1.023794]\n",
      "448 [D loss: 0.513891, acc.: 79.69%] [G loss: 1.095283]\n",
      "449 [D loss: 0.522660, acc.: 82.42%] [G loss: 1.112621]\n",
      "450 [D loss: 0.499592, acc.: 83.20%] [G loss: 1.099068]\n",
      "451 [D loss: 0.505325, acc.: 82.03%] [G loss: 1.131133]\n",
      "452 [D loss: 0.508463, acc.: 82.42%] [G loss: 1.091948]\n",
      "453 [D loss: 0.540415, acc.: 73.83%] [G loss: 1.151470]\n",
      "454 [D loss: 0.535158, acc.: 78.52%] [G loss: 1.136460]\n",
      "455 [D loss: 0.501997, acc.: 83.59%] [G loss: 1.132644]\n",
      "456 [D loss: 0.519579, acc.: 78.91%] [G loss: 1.102873]\n",
      "457 [D loss: 0.482238, acc.: 83.98%] [G loss: 1.102846]\n",
      "458 [D loss: 0.515279, acc.: 79.30%] [G loss: 1.074336]\n",
      "459 [D loss: 0.541317, acc.: 76.56%] [G loss: 1.057071]\n",
      "460 [D loss: 0.525824, acc.: 78.12%] [G loss: 1.083643]\n",
      "461 [D loss: 0.568492, acc.: 75.78%] [G loss: 1.023810]\n",
      "462 [D loss: 0.540150, acc.: 76.56%] [G loss: 1.055553]\n",
      "463 [D loss: 0.541335, acc.: 77.73%] [G loss: 1.014444]\n",
      "464 [D loss: 0.504112, acc.: 82.03%] [G loss: 1.034416]\n",
      "465 [D loss: 0.511523, acc.: 80.47%] [G loss: 1.026513]\n",
      "466 [D loss: 0.532270, acc.: 77.34%] [G loss: 1.075693]\n",
      "467 [D loss: 0.530565, acc.: 76.56%] [G loss: 1.077345]\n",
      "468 [D loss: 0.537287, acc.: 75.39%] [G loss: 1.080654]\n",
      "469 [D loss: 0.525479, acc.: 77.73%] [G loss: 1.138212]\n",
      "470 [D loss: 0.549653, acc.: 75.78%] [G loss: 1.120055]\n",
      "471 [D loss: 0.537566, acc.: 78.12%] [G loss: 1.103959]\n",
      "472 [D loss: 0.563737, acc.: 73.44%] [G loss: 1.010353]\n",
      "473 [D loss: 0.543728, acc.: 75.78%] [G loss: 1.045262]\n",
      "474 [D loss: 0.519843, acc.: 77.73%] [G loss: 1.071573]\n",
      "475 [D loss: 0.553236, acc.: 71.48%] [G loss: 1.070063]\n",
      "476 [D loss: 0.590549, acc.: 66.80%] [G loss: 1.076743]\n",
      "477 [D loss: 0.559274, acc.: 71.88%] [G loss: 1.058104]\n",
      "478 [D loss: 0.541148, acc.: 75.00%] [G loss: 1.079318]\n",
      "479 [D loss: 0.573053, acc.: 73.44%] [G loss: 1.070179]\n",
      "480 [D loss: 0.548201, acc.: 73.83%] [G loss: 1.137283]\n",
      "481 [D loss: 0.553058, acc.: 71.09%] [G loss: 1.086739]\n",
      "482 [D loss: 0.554196, acc.: 72.66%] [G loss: 1.088171]\n",
      "483 [D loss: 0.554350, acc.: 75.00%] [G loss: 1.095852]\n",
      "484 [D loss: 0.571813, acc.: 68.75%] [G loss: 1.114652]\n",
      "485 [D loss: 0.532606, acc.: 82.03%] [G loss: 1.116392]\n",
      "486 [D loss: 0.596252, acc.: 71.48%] [G loss: 1.042149]\n",
      "487 [D loss: 0.556587, acc.: 74.22%] [G loss: 1.045483]\n",
      "488 [D loss: 0.558154, acc.: 70.70%] [G loss: 1.115443]\n",
      "489 [D loss: 0.562647, acc.: 72.66%] [G loss: 1.119983]\n",
      "490 [D loss: 0.533579, acc.: 75.39%] [G loss: 1.125376]\n",
      "491 [D loss: 0.550723, acc.: 75.78%] [G loss: 1.098912]\n",
      "492 [D loss: 0.557823, acc.: 74.61%] [G loss: 0.992463]\n",
      "493 [D loss: 0.569367, acc.: 71.88%] [G loss: 1.000850]\n",
      "494 [D loss: 0.525409, acc.: 79.69%] [G loss: 1.077594]\n",
      "495 [D loss: 0.567814, acc.: 71.48%] [G loss: 1.082918]\n",
      "496 [D loss: 0.582188, acc.: 74.61%] [G loss: 1.043606]\n",
      "497 [D loss: 0.535287, acc.: 78.12%] [G loss: 1.104256]\n",
      "498 [D loss: 0.556354, acc.: 75.00%] [G loss: 1.097211]\n",
      "499 [D loss: 0.579154, acc.: 69.92%] [G loss: 1.107785]\n",
      "500 [D loss: 0.590017, acc.: 71.48%] [G loss: 1.064118]\n",
      "501 [D loss: 0.530252, acc.: 76.95%] [G loss: 1.100520]\n",
      "502 [D loss: 0.580360, acc.: 71.48%] [G loss: 1.045414]\n",
      "503 [D loss: 0.548693, acc.: 76.56%] [G loss: 1.065600]\n",
      "504 [D loss: 0.590444, acc.: 67.58%] [G loss: 1.027482]\n",
      "505 [D loss: 0.582169, acc.: 73.44%] [G loss: 1.019438]\n",
      "506 [D loss: 0.552671, acc.: 75.78%] [G loss: 1.039825]\n",
      "507 [D loss: 0.583492, acc.: 70.70%] [G loss: 1.039580]\n",
      "508 [D loss: 0.566545, acc.: 74.22%] [G loss: 1.014522]\n",
      "509 [D loss: 0.559784, acc.: 77.34%] [G loss: 1.059800]\n",
      "510 [D loss: 0.597099, acc.: 69.92%] [G loss: 1.005949]\n",
      "511 [D loss: 0.601709, acc.: 68.75%] [G loss: 1.048236]\n",
      "512 [D loss: 0.601738, acc.: 66.80%] [G loss: 1.095800]\n",
      "513 [D loss: 0.601658, acc.: 67.58%] [G loss: 1.037007]\n",
      "514 [D loss: 0.584442, acc.: 69.53%] [G loss: 1.040648]\n",
      "515 [D loss: 0.592713, acc.: 69.92%] [G loss: 1.045045]\n",
      "516 [D loss: 0.605820, acc.: 64.84%] [G loss: 1.043229]\n",
      "517 [D loss: 0.559831, acc.: 73.44%] [G loss: 1.052034]\n",
      "518 [D loss: 0.612954, acc.: 65.23%] [G loss: 1.027830]\n",
      "519 [D loss: 0.550454, acc.: 80.08%] [G loss: 1.006557]\n",
      "520 [D loss: 0.570837, acc.: 72.27%] [G loss: 1.066118]\n",
      "521 [D loss: 0.540516, acc.: 76.56%] [G loss: 1.066997]\n",
      "522 [D loss: 0.582374, acc.: 69.92%] [G loss: 1.039580]\n",
      "523 [D loss: 0.559727, acc.: 74.22%] [G loss: 1.045475]\n",
      "524 [D loss: 0.565597, acc.: 74.61%] [G loss: 1.058727]\n",
      "525 [D loss: 0.571085, acc.: 76.56%] [G loss: 1.002574]\n",
      "526 [D loss: 0.599038, acc.: 68.36%] [G loss: 1.002994]\n",
      "527 [D loss: 0.569195, acc.: 73.44%] [G loss: 0.980844]\n",
      "528 [D loss: 0.585790, acc.: 67.97%] [G loss: 1.044158]\n",
      "529 [D loss: 0.569306, acc.: 72.66%] [G loss: 1.055794]\n",
      "530 [D loss: 0.589401, acc.: 71.88%] [G loss: 1.016388]\n",
      "531 [D loss: 0.594281, acc.: 71.88%] [G loss: 1.047697]\n",
      "532 [D loss: 0.578247, acc.: 71.09%] [G loss: 1.002800]\n",
      "533 [D loss: 0.546890, acc.: 76.95%] [G loss: 1.037824]\n",
      "534 [D loss: 0.565653, acc.: 75.78%] [G loss: 0.970857]\n",
      "535 [D loss: 0.533551, acc.: 77.34%] [G loss: 0.997749]\n",
      "536 [D loss: 0.558572, acc.: 76.17%] [G loss: 1.046346]\n",
      "537 [D loss: 0.568807, acc.: 71.88%] [G loss: 1.042232]\n",
      "538 [D loss: 0.586555, acc.: 74.61%] [G loss: 1.076776]\n",
      "539 [D loss: 0.539658, acc.: 77.34%] [G loss: 1.045875]\n",
      "540 [D loss: 0.554875, acc.: 75.39%] [G loss: 1.042805]\n",
      "541 [D loss: 0.562780, acc.: 74.22%] [G loss: 1.035748]\n",
      "542 [D loss: 0.572296, acc.: 71.09%] [G loss: 1.001086]\n",
      "543 [D loss: 0.552301, acc.: 79.30%] [G loss: 1.025691]\n",
      "544 [D loss: 0.562780, acc.: 77.34%] [G loss: 1.057536]\n",
      "545 [D loss: 0.548197, acc.: 75.78%] [G loss: 1.087399]\n",
      "546 [D loss: 0.572898, acc.: 74.61%] [G loss: 1.052272]\n",
      "547 [D loss: 0.548573, acc.: 72.27%] [G loss: 1.005836]\n",
      "548 [D loss: 0.540052, acc.: 80.08%] [G loss: 1.019437]\n",
      "549 [D loss: 0.592398, acc.: 69.92%] [G loss: 0.999265]\n",
      "550 [D loss: 0.563034, acc.: 72.27%] [G loss: 1.027049]\n",
      "551 [D loss: 0.598994, acc.: 66.41%] [G loss: 1.041280]\n",
      "552 [D loss: 0.579748, acc.: 72.66%] [G loss: 0.992107]\n",
      "553 [D loss: 0.578290, acc.: 71.88%] [G loss: 1.044920]\n",
      "554 [D loss: 0.565097, acc.: 75.78%] [G loss: 1.038891]\n",
      "555 [D loss: 0.589209, acc.: 71.48%] [G loss: 1.057192]\n",
      "556 [D loss: 0.564884, acc.: 73.44%] [G loss: 1.005926]\n",
      "557 [D loss: 0.590752, acc.: 72.66%] [G loss: 0.997476]\n",
      "558 [D loss: 0.587272, acc.: 74.22%] [G loss: 1.001455]\n",
      "559 [D loss: 0.582565, acc.: 72.27%] [G loss: 1.017300]\n",
      "560 [D loss: 0.562647, acc.: 75.78%] [G loss: 0.987502]\n",
      "561 [D loss: 0.618393, acc.: 67.58%] [G loss: 0.965049]\n",
      "562 [D loss: 0.583205, acc.: 71.88%] [G loss: 0.959992]\n",
      "563 [D loss: 0.586471, acc.: 71.88%] [G loss: 0.988438]\n",
      "564 [D loss: 0.568468, acc.: 72.27%] [G loss: 0.964960]\n",
      "565 [D loss: 0.573070, acc.: 73.44%] [G loss: 0.987439]\n",
      "566 [D loss: 0.575744, acc.: 71.48%] [G loss: 0.995133]\n",
      "567 [D loss: 0.570319, acc.: 73.44%] [G loss: 0.939389]\n",
      "568 [D loss: 0.569835, acc.: 75.78%] [G loss: 0.987812]\n",
      "569 [D loss: 0.574901, acc.: 73.05%] [G loss: 0.961598]\n",
      "570 [D loss: 0.579220, acc.: 72.27%] [G loss: 0.964941]\n",
      "571 [D loss: 0.568345, acc.: 73.44%] [G loss: 1.016025]\n",
      "572 [D loss: 0.599535, acc.: 68.75%] [G loss: 1.024004]\n",
      "573 [D loss: 0.620814, acc.: 65.23%] [G loss: 0.965442]\n",
      "574 [D loss: 0.595218, acc.: 72.27%] [G loss: 0.955727]\n",
      "575 [D loss: 0.601312, acc.: 71.48%] [G loss: 0.989001]\n",
      "576 [D loss: 0.553588, acc.: 74.61%] [G loss: 1.001085]\n",
      "577 [D loss: 0.598817, acc.: 69.92%] [G loss: 1.011796]\n",
      "578 [D loss: 0.571154, acc.: 74.61%] [G loss: 1.007320]\n",
      "579 [D loss: 0.600840, acc.: 71.09%] [G loss: 0.973077]\n",
      "580 [D loss: 0.586039, acc.: 71.88%] [G loss: 0.982105]\n",
      "581 [D loss: 0.569389, acc.: 76.17%] [G loss: 0.993952]\n",
      "582 [D loss: 0.593523, acc.: 71.48%] [G loss: 0.960741]\n",
      "583 [D loss: 0.555941, acc.: 77.73%] [G loss: 0.984208]\n",
      "584 [D loss: 0.569510, acc.: 78.12%] [G loss: 1.033099]\n",
      "585 [D loss: 0.552238, acc.: 77.34%] [G loss: 0.998729]\n",
      "586 [D loss: 0.547795, acc.: 76.95%] [G loss: 0.997494]\n",
      "587 [D loss: 0.562674, acc.: 75.78%] [G loss: 1.063559]\n",
      "588 [D loss: 0.576634, acc.: 72.27%] [G loss: 1.007160]\n",
      "589 [D loss: 0.575528, acc.: 69.92%] [G loss: 1.009461]\n",
      "590 [D loss: 0.546744, acc.: 78.91%] [G loss: 1.021733]\n",
      "591 [D loss: 0.588615, acc.: 69.53%] [G loss: 1.019853]\n",
      "592 [D loss: 0.546894, acc.: 76.95%] [G loss: 1.024775]\n",
      "593 [D loss: 0.551255, acc.: 77.73%] [G loss: 1.002998]\n",
      "594 [D loss: 0.577364, acc.: 73.44%] [G loss: 1.026025]\n",
      "595 [D loss: 0.560744, acc.: 75.78%] [G loss: 1.008891]\n",
      "596 [D loss: 0.570277, acc.: 71.88%] [G loss: 1.009450]\n"
     ]
    },
    {
     "name": "stdout",
     "output_type": "stream",
     "text": [
      "597 [D loss: 0.567577, acc.: 73.44%] [G loss: 1.030586]\n",
      "598 [D loss: 0.585362, acc.: 75.00%] [G loss: 1.047821]\n",
      "599 [D loss: 0.573373, acc.: 72.66%] [G loss: 1.022441]\n",
      "600 [D loss: 0.545263, acc.: 79.30%] [G loss: 1.017958]\n",
      "601 [D loss: 0.556691, acc.: 75.78%] [G loss: 1.017844]\n",
      "602 [D loss: 0.568063, acc.: 73.05%] [G loss: 1.044062]\n",
      "603 [D loss: 0.559165, acc.: 76.95%] [G loss: 1.049959]\n",
      "604 [D loss: 0.567090, acc.: 74.61%] [G loss: 0.990201]\n",
      "605 [D loss: 0.589651, acc.: 71.88%] [G loss: 1.018836]\n",
      "606 [D loss: 0.554016, acc.: 74.22%] [G loss: 1.010301]\n",
      "607 [D loss: 0.558798, acc.: 74.61%] [G loss: 0.978872]\n",
      "608 [D loss: 0.579375, acc.: 72.27%] [G loss: 0.974312]\n",
      "609 [D loss: 0.567242, acc.: 75.00%] [G loss: 1.037116]\n",
      "610 [D loss: 0.558353, acc.: 76.56%] [G loss: 0.952553]\n",
      "611 [D loss: 0.606983, acc.: 69.14%] [G loss: 0.967972]\n",
      "612 [D loss: 0.597340, acc.: 69.53%] [G loss: 0.975424]\n",
      "613 [D loss: 0.592288, acc.: 72.27%] [G loss: 0.941779]\n",
      "614 [D loss: 0.575842, acc.: 74.22%] [G loss: 0.977700]\n",
      "615 [D loss: 0.613544, acc.: 67.58%] [G loss: 0.986789]\n",
      "616 [D loss: 0.603903, acc.: 67.97%] [G loss: 0.997875]\n",
      "617 [D loss: 0.617731, acc.: 67.19%] [G loss: 1.003676]\n",
      "618 [D loss: 0.602905, acc.: 70.70%] [G loss: 0.989400]\n",
      "619 [D loss: 0.609963, acc.: 68.75%] [G loss: 0.959078]\n",
      "620 [D loss: 0.580591, acc.: 72.66%] [G loss: 1.007617]\n",
      "621 [D loss: 0.588396, acc.: 71.09%] [G loss: 1.012135]\n",
      "622 [D loss: 0.585125, acc.: 70.31%] [G loss: 1.030662]\n",
      "623 [D loss: 0.587721, acc.: 72.27%] [G loss: 0.978016]\n",
      "624 [D loss: 0.551548, acc.: 79.30%] [G loss: 0.998852]\n",
      "625 [D loss: 0.587597, acc.: 74.61%] [G loss: 1.014558]\n",
      "626 [D loss: 0.576461, acc.: 71.09%] [G loss: 1.037813]\n",
      "627 [D loss: 0.579143, acc.: 71.48%] [G loss: 1.013935]\n",
      "628 [D loss: 0.568903, acc.: 74.61%] [G loss: 1.018867]\n",
      "629 [D loss: 0.566269, acc.: 75.00%] [G loss: 1.076044]\n",
      "630 [D loss: 0.579652, acc.: 73.05%] [G loss: 0.982771]\n",
      "631 [D loss: 0.590078, acc.: 74.61%] [G loss: 0.979269]\n",
      "632 [D loss: 0.572040, acc.: 74.22%] [G loss: 0.966822]\n",
      "633 [D loss: 0.581786, acc.: 71.88%] [G loss: 0.989842]\n",
      "634 [D loss: 0.576459, acc.: 73.05%] [G loss: 0.980503]\n",
      "635 [D loss: 0.581814, acc.: 71.48%] [G loss: 1.038141]\n",
      "636 [D loss: 0.577895, acc.: 71.48%] [G loss: 0.982096]\n",
      "637 [D loss: 0.576799, acc.: 76.17%] [G loss: 0.990192]\n",
      "638 [D loss: 0.567404, acc.: 74.22%] [G loss: 0.961809]\n",
      "639 [D loss: 0.567631, acc.: 76.56%] [G loss: 1.047765]\n",
      "640 [D loss: 0.587063, acc.: 74.61%] [G loss: 1.008092]\n",
      "641 [D loss: 0.592023, acc.: 68.36%] [G loss: 0.989261]\n",
      "642 [D loss: 0.596101, acc.: 69.92%] [G loss: 0.970752]\n",
      "643 [D loss: 0.559418, acc.: 75.78%] [G loss: 0.963583]\n",
      "644 [D loss: 0.587122, acc.: 67.58%] [G loss: 0.945546]\n",
      "645 [D loss: 0.573282, acc.: 75.39%] [G loss: 0.948558]\n",
      "646 [D loss: 0.559401, acc.: 73.83%] [G loss: 0.974180]\n",
      "647 [D loss: 0.586415, acc.: 69.53%] [G loss: 0.989830]\n",
      "648 [D loss: 0.565442, acc.: 71.48%] [G loss: 0.993477]\n",
      "649 [D loss: 0.584742, acc.: 72.27%] [G loss: 0.942714]\n",
      "650 [D loss: 0.590188, acc.: 70.31%] [G loss: 1.012554]\n",
      "651 [D loss: 0.569439, acc.: 72.27%] [G loss: 0.986485]\n",
      "652 [D loss: 0.625350, acc.: 67.19%] [G loss: 1.006728]\n",
      "653 [D loss: 0.581114, acc.: 72.66%] [G loss: 0.989288]\n",
      "654 [D loss: 0.581858, acc.: 71.48%] [G loss: 0.968057]\n",
      "655 [D loss: 0.577656, acc.: 72.27%] [G loss: 0.946017]\n",
      "656 [D loss: 0.589554, acc.: 69.92%] [G loss: 0.962900]\n",
      "657 [D loss: 0.569776, acc.: 71.48%] [G loss: 0.989806]\n",
      "658 [D loss: 0.566932, acc.: 74.61%] [G loss: 0.993880]\n",
      "659 [D loss: 0.603260, acc.: 67.19%] [G loss: 1.004263]\n",
      "660 [D loss: 0.603328, acc.: 69.92%] [G loss: 1.030231]\n",
      "661 [D loss: 0.603072, acc.: 68.36%] [G loss: 1.001477]\n",
      "662 [D loss: 0.584224, acc.: 71.88%] [G loss: 0.968317]\n",
      "663 [D loss: 0.600550, acc.: 66.80%] [G loss: 1.038514]\n",
      "664 [D loss: 0.569050, acc.: 74.22%] [G loss: 1.018528]\n",
      "665 [D loss: 0.582824, acc.: 71.09%] [G loss: 0.986932]\n",
      "666 [D loss: 0.598417, acc.: 69.92%] [G loss: 0.936602]\n",
      "667 [D loss: 0.568205, acc.: 76.95%] [G loss: 0.992022]\n",
      "668 [D loss: 0.559919, acc.: 75.78%] [G loss: 0.960330]\n",
      "669 [D loss: 0.587986, acc.: 71.48%] [G loss: 0.982583]\n",
      "670 [D loss: 0.569125, acc.: 77.73%] [G loss: 1.015946]\n",
      "671 [D loss: 0.562181, acc.: 76.17%] [G loss: 0.996573]\n",
      "672 [D loss: 0.569497, acc.: 73.83%] [G loss: 0.994765]\n",
      "673 [D loss: 0.590443, acc.: 73.05%] [G loss: 1.016688]\n",
      "674 [D loss: 0.560471, acc.: 80.08%] [G loss: 1.035999]\n",
      "675 [D loss: 0.578859, acc.: 75.00%] [G loss: 0.990732]\n",
      "676 [D loss: 0.557072, acc.: 76.95%] [G loss: 0.986786]\n",
      "677 [D loss: 0.559006, acc.: 75.00%] [G loss: 1.004853]\n",
      "678 [D loss: 0.575335, acc.: 74.22%] [G loss: 0.990352]\n",
      "679 [D loss: 0.562623, acc.: 76.17%] [G loss: 1.002964]\n",
      "680 [D loss: 0.578497, acc.: 73.83%] [G loss: 0.974416]\n",
      "681 [D loss: 0.593191, acc.: 73.05%] [G loss: 0.972394]\n",
      "682 [D loss: 0.549150, acc.: 78.91%] [G loss: 0.963268]\n",
      "683 [D loss: 0.593637, acc.: 75.39%] [G loss: 0.982545]\n",
      "684 [D loss: 0.575375, acc.: 71.88%] [G loss: 1.000362]\n",
      "685 [D loss: 0.541196, acc.: 81.25%] [G loss: 1.025617]\n",
      "686 [D loss: 0.567998, acc.: 72.66%] [G loss: 1.017845]\n",
      "687 [D loss: 0.570693, acc.: 73.44%] [G loss: 0.999499]\n",
      "688 [D loss: 0.596563, acc.: 73.05%] [G loss: 0.920717]\n",
      "689 [D loss: 0.541776, acc.: 74.22%] [G loss: 0.972234]\n",
      "690 [D loss: 0.583512, acc.: 70.31%] [G loss: 0.976192]\n",
      "691 [D loss: 0.571360, acc.: 73.83%] [G loss: 0.922098]\n",
      "692 [D loss: 0.559166, acc.: 77.34%] [G loss: 0.973822]\n",
      "693 [D loss: 0.566961, acc.: 74.22%] [G loss: 0.963903]\n",
      "694 [D loss: 0.553276, acc.: 74.22%] [G loss: 0.993372]\n",
      "695 [D loss: 0.559432, acc.: 73.83%] [G loss: 1.025867]\n",
      "696 [D loss: 0.569925, acc.: 72.27%] [G loss: 0.978638]\n",
      "697 [D loss: 0.535767, acc.: 79.30%] [G loss: 1.063407]\n",
      "698 [D loss: 0.546857, acc.: 76.56%] [G loss: 1.031560]\n",
      "699 [D loss: 0.552727, acc.: 78.52%] [G loss: 1.032398]\n",
      "700 [D loss: 0.553958, acc.: 77.73%] [G loss: 1.003128]\n",
      "701 [D loss: 0.548490, acc.: 76.95%] [G loss: 1.029747]\n",
      "702 [D loss: 0.551233, acc.: 80.86%] [G loss: 1.025076]\n",
      "703 [D loss: 0.513694, acc.: 81.64%] [G loss: 1.042233]\n",
      "704 [D loss: 0.576250, acc.: 75.00%] [G loss: 1.014966]\n",
      "705 [D loss: 0.541453, acc.: 74.22%] [G loss: 1.027456]\n",
      "706 [D loss: 0.558717, acc.: 74.61%] [G loss: 1.021467]\n",
      "707 [D loss: 0.535922, acc.: 81.25%] [G loss: 1.031905]\n",
      "708 [D loss: 0.520399, acc.: 82.03%] [G loss: 1.011736]\n",
      "709 [D loss: 0.530240, acc.: 80.47%] [G loss: 1.026734]\n",
      "710 [D loss: 0.572637, acc.: 70.31%] [G loss: 1.062907]\n",
      "711 [D loss: 0.538316, acc.: 79.69%] [G loss: 1.008835]\n",
      "712 [D loss: 0.566087, acc.: 77.34%] [G loss: 1.047124]\n",
      "713 [D loss: 0.570344, acc.: 73.83%] [G loss: 0.997923]\n",
      "714 [D loss: 0.532653, acc.: 79.30%] [G loss: 1.008714]\n",
      "715 [D loss: 0.540794, acc.: 77.73%] [G loss: 1.073380]\n",
      "716 [D loss: 0.561282, acc.: 73.83%] [G loss: 1.048067]\n",
      "717 [D loss: 0.571291, acc.: 72.66%] [G loss: 0.979206]\n",
      "718 [D loss: 0.560215, acc.: 71.09%] [G loss: 1.053508]\n",
      "719 [D loss: 0.526669, acc.: 77.34%] [G loss: 1.049450]\n",
      "720 [D loss: 0.538054, acc.: 76.95%] [G loss: 1.049504]\n",
      "721 [D loss: 0.528565, acc.: 80.86%] [G loss: 1.053046]\n",
      "722 [D loss: 0.530541, acc.: 79.30%] [G loss: 0.999983]\n",
      "723 [D loss: 0.546297, acc.: 72.66%] [G loss: 0.999435]\n",
      "724 [D loss: 0.581025, acc.: 71.48%] [G loss: 0.987642]\n",
      "725 [D loss: 0.507879, acc.: 81.64%] [G loss: 1.061606]\n",
      "726 [D loss: 0.548012, acc.: 76.95%] [G loss: 1.052402]\n",
      "727 [D loss: 0.544992, acc.: 76.95%] [G loss: 1.031846]\n",
      "728 [D loss: 0.573481, acc.: 69.92%] [G loss: 1.015978]\n",
      "729 [D loss: 0.532791, acc.: 77.73%] [G loss: 1.057341]\n",
      "730 [D loss: 0.546747, acc.: 78.12%] [G loss: 1.007068]\n",
      "731 [D loss: 0.547260, acc.: 77.34%] [G loss: 1.068002]\n",
      "732 [D loss: 0.578304, acc.: 72.66%] [G loss: 1.027631]\n",
      "733 [D loss: 0.562745, acc.: 73.44%] [G loss: 1.032562]\n",
      "734 [D loss: 0.533613, acc.: 79.69%] [G loss: 1.026694]\n",
      "735 [D loss: 0.574216, acc.: 75.00%] [G loss: 0.991999]\n",
      "736 [D loss: 0.554256, acc.: 73.44%] [G loss: 0.970174]\n",
      "737 [D loss: 0.578834, acc.: 68.75%] [G loss: 1.046388]\n",
      "738 [D loss: 0.547004, acc.: 78.12%] [G loss: 1.041703]\n",
      "739 [D loss: 0.554290, acc.: 74.22%] [G loss: 1.000570]\n",
      "740 [D loss: 0.599594, acc.: 67.58%] [G loss: 1.018124]\n",
      "741 [D loss: 0.568294, acc.: 73.05%] [G loss: 1.070804]\n",
      "742 [D loss: 0.598054, acc.: 70.31%] [G loss: 1.014854]\n",
      "743 [D loss: 0.555607, acc.: 75.00%] [G loss: 1.041240]\n",
      "744 [D loss: 0.593533, acc.: 70.70%] [G loss: 0.999432]\n",
      "745 [D loss: 0.546642, acc.: 77.34%] [G loss: 1.019965]\n",
      "746 [D loss: 0.577628, acc.: 68.75%] [G loss: 1.005224]\n"
     ]
    },
    {
     "name": "stdout",
     "output_type": "stream",
     "text": [
      "747 [D loss: 0.542752, acc.: 75.39%] [G loss: 1.032209]\n",
      "748 [D loss: 0.601711, acc.: 66.41%] [G loss: 0.997368]\n",
      "749 [D loss: 0.557966, acc.: 73.44%] [G loss: 1.033377]\n",
      "750 [D loss: 0.566832, acc.: 76.56%] [G loss: 1.054038]\n",
      "751 [D loss: 0.581990, acc.: 73.83%] [G loss: 1.047861]\n",
      "752 [D loss: 0.594022, acc.: 69.92%] [G loss: 1.041670]\n",
      "753 [D loss: 0.596138, acc.: 71.88%] [G loss: 1.040939]\n",
      "754 [D loss: 0.605437, acc.: 64.45%] [G loss: 1.032070]\n",
      "755 [D loss: 0.610067, acc.: 70.31%] [G loss: 1.020423]\n",
      "756 [D loss: 0.606562, acc.: 69.14%] [G loss: 0.983045]\n",
      "757 [D loss: 0.589948, acc.: 71.48%] [G loss: 1.030773]\n",
      "758 [D loss: 0.579897, acc.: 69.53%] [G loss: 1.022043]\n",
      "759 [D loss: 0.576061, acc.: 72.27%] [G loss: 1.029256]\n",
      "760 [D loss: 0.612342, acc.: 71.09%] [G loss: 1.005600]\n",
      "761 [D loss: 0.610555, acc.: 65.23%] [G loss: 1.046105]\n",
      "762 [D loss: 0.572274, acc.: 74.61%] [G loss: 1.015690]\n",
      "763 [D loss: 0.615598, acc.: 66.80%] [G loss: 1.010355]\n",
      "764 [D loss: 0.609833, acc.: 69.14%] [G loss: 1.035897]\n",
      "765 [D loss: 0.575059, acc.: 75.78%] [G loss: 1.026882]\n",
      "766 [D loss: 0.610723, acc.: 66.80%] [G loss: 1.023698]\n",
      "767 [D loss: 0.594215, acc.: 70.70%] [G loss: 1.034667]\n",
      "768 [D loss: 0.573732, acc.: 73.83%] [G loss: 1.019298]\n",
      "769 [D loss: 0.595373, acc.: 66.80%] [G loss: 1.026155]\n",
      "770 [D loss: 0.559665, acc.: 72.27%] [G loss: 1.001258]\n",
      "771 [D loss: 0.560373, acc.: 75.39%] [G loss: 0.988063]\n",
      "772 [D loss: 0.593184, acc.: 68.75%] [G loss: 1.025685]\n",
      "773 [D loss: 0.590111, acc.: 73.05%] [G loss: 0.986522]\n",
      "774 [D loss: 0.594863, acc.: 72.27%] [G loss: 1.047158]\n",
      "775 [D loss: 0.594622, acc.: 68.75%] [G loss: 0.999776]\n",
      "776 [D loss: 0.615818, acc.: 67.97%] [G loss: 1.012505]\n",
      "777 [D loss: 0.590454, acc.: 71.09%] [G loss: 0.971515]\n",
      "778 [D loss: 0.576815, acc.: 75.39%] [G loss: 0.983341]\n",
      "779 [D loss: 0.607232, acc.: 71.09%] [G loss: 0.960551]\n",
      "780 [D loss: 0.615921, acc.: 69.14%] [G loss: 0.968910]\n",
      "781 [D loss: 0.595021, acc.: 67.97%] [G loss: 0.938410]\n",
      "782 [D loss: 0.584467, acc.: 71.48%] [G loss: 0.966681]\n",
      "783 [D loss: 0.561982, acc.: 71.09%] [G loss: 0.992899]\n",
      "784 [D loss: 0.605018, acc.: 69.14%] [G loss: 0.989181]\n",
      "785 [D loss: 0.616511, acc.: 68.75%] [G loss: 1.020243]\n",
      "786 [D loss: 0.599438, acc.: 69.92%] [G loss: 0.980957]\n",
      "787 [D loss: 0.579350, acc.: 74.22%] [G loss: 0.972666]\n",
      "788 [D loss: 0.561623, acc.: 77.34%] [G loss: 0.972166]\n",
      "789 [D loss: 0.590686, acc.: 69.53%] [G loss: 0.995916]\n",
      "790 [D loss: 0.621160, acc.: 66.02%] [G loss: 0.967444]\n",
      "791 [D loss: 0.596178, acc.: 73.44%] [G loss: 0.899418]\n",
      "792 [D loss: 0.596494, acc.: 71.88%] [G loss: 0.946677]\n",
      "793 [D loss: 0.588086, acc.: 69.14%] [G loss: 0.941334]\n",
      "794 [D loss: 0.576758, acc.: 73.83%] [G loss: 0.981811]\n",
      "795 [D loss: 0.592691, acc.: 68.75%] [G loss: 0.946106]\n",
      "796 [D loss: 0.590193, acc.: 69.14%] [G loss: 0.972666]\n",
      "797 [D loss: 0.557016, acc.: 76.17%] [G loss: 0.974615]\n",
      "798 [D loss: 0.585730, acc.: 72.27%] [G loss: 0.979039]\n",
      "799 [D loss: 0.575616, acc.: 75.39%] [G loss: 0.921883]\n",
      "800 [D loss: 0.603504, acc.: 66.80%] [G loss: 0.950434]\n",
      "801 [D loss: 0.591287, acc.: 69.53%] [G loss: 0.991542]\n",
      "802 [D loss: 0.559853, acc.: 75.78%] [G loss: 1.018255]\n",
      "803 [D loss: 0.612701, acc.: 66.41%] [G loss: 0.942266]\n",
      "804 [D loss: 0.598579, acc.: 66.41%] [G loss: 0.939471]\n",
      "805 [D loss: 0.576472, acc.: 75.39%] [G loss: 0.960474]\n",
      "806 [D loss: 0.586986, acc.: 69.14%] [G loss: 0.976606]\n",
      "807 [D loss: 0.550578, acc.: 74.22%] [G loss: 0.981539]\n",
      "808 [D loss: 0.566437, acc.: 69.92%] [G loss: 0.950586]\n",
      "809 [D loss: 0.557170, acc.: 74.61%] [G loss: 0.920955]\n",
      "810 [D loss: 0.573634, acc.: 67.97%] [G loss: 1.040362]\n",
      "811 [D loss: 0.585967, acc.: 71.88%] [G loss: 0.996255]\n",
      "812 [D loss: 0.568664, acc.: 71.88%] [G loss: 0.982784]\n",
      "813 [D loss: 0.571795, acc.: 75.78%] [G loss: 1.009390]\n",
      "814 [D loss: 0.579632, acc.: 70.70%] [G loss: 1.002755]\n",
      "815 [D loss: 0.580679, acc.: 67.97%] [G loss: 1.031926]\n",
      "816 [D loss: 0.569266, acc.: 73.83%] [G loss: 0.938823]\n",
      "817 [D loss: 0.585531, acc.: 68.36%] [G loss: 0.962375]\n",
      "818 [D loss: 0.592298, acc.: 66.41%] [G loss: 0.978459]\n",
      "819 [D loss: 0.598230, acc.: 70.70%] [G loss: 0.965777]\n",
      "820 [D loss: 0.577670, acc.: 74.61%] [G loss: 0.960518]\n",
      "821 [D loss: 0.607217, acc.: 69.14%] [G loss: 0.968248]\n",
      "822 [D loss: 0.598031, acc.: 67.19%] [G loss: 0.952622]\n",
      "823 [D loss: 0.603812, acc.: 69.14%] [G loss: 0.985543]\n",
      "824 [D loss: 0.603557, acc.: 67.19%] [G loss: 1.035014]\n",
      "825 [D loss: 0.574791, acc.: 73.83%] [G loss: 0.986640]\n",
      "826 [D loss: 0.602048, acc.: 69.92%] [G loss: 0.962363]\n",
      "827 [D loss: 0.619060, acc.: 64.06%] [G loss: 0.924431]\n",
      "828 [D loss: 0.588794, acc.: 64.84%] [G loss: 0.940056]\n",
      "829 [D loss: 0.588413, acc.: 69.92%] [G loss: 0.987350]\n",
      "830 [D loss: 0.598512, acc.: 70.31%] [G loss: 0.976223]\n",
      "831 [D loss: 0.603693, acc.: 66.80%] [G loss: 0.978311]\n",
      "832 [D loss: 0.569153, acc.: 76.17%] [G loss: 0.975168]\n",
      "833 [D loss: 0.569756, acc.: 73.05%] [G loss: 0.964971]\n",
      "834 [D loss: 0.561086, acc.: 75.39%] [G loss: 0.979719]\n",
      "835 [D loss: 0.577628, acc.: 74.22%] [G loss: 0.964273]\n",
      "836 [D loss: 0.562305, acc.: 73.83%] [G loss: 0.964083]\n",
      "837 [D loss: 0.565373, acc.: 74.61%] [G loss: 1.021198]\n",
      "838 [D loss: 0.536859, acc.: 80.08%] [G loss: 1.022125]\n",
      "839 [D loss: 0.568938, acc.: 74.22%] [G loss: 0.958337]\n",
      "840 [D loss: 0.569187, acc.: 71.09%] [G loss: 0.966130]\n",
      "841 [D loss: 0.572893, acc.: 73.83%] [G loss: 0.927018]\n",
      "842 [D loss: 0.594648, acc.: 72.27%] [G loss: 0.951884]\n",
      "843 [D loss: 0.573382, acc.: 74.22%] [G loss: 0.954938]\n",
      "844 [D loss: 0.554420, acc.: 74.22%] [G loss: 0.980607]\n",
      "845 [D loss: 0.592679, acc.: 69.53%] [G loss: 0.963981]\n",
      "846 [D loss: 0.578432, acc.: 69.92%] [G loss: 0.996903]\n",
      "847 [D loss: 0.579460, acc.: 73.83%] [G loss: 0.963435]\n",
      "848 [D loss: 0.554484, acc.: 78.52%] [G loss: 1.016268]\n",
      "849 [D loss: 0.562354, acc.: 76.56%] [G loss: 1.020617]\n",
      "850 [D loss: 0.568455, acc.: 72.27%] [G loss: 1.020837]\n",
      "851 [D loss: 0.586097, acc.: 70.70%] [G loss: 1.025800]\n",
      "852 [D loss: 0.565120, acc.: 79.69%] [G loss: 1.036836]\n",
      "853 [D loss: 0.534957, acc.: 76.95%] [G loss: 1.006664]\n",
      "854 [D loss: 0.579125, acc.: 73.05%] [G loss: 1.005082]\n",
      "855 [D loss: 0.561161, acc.: 77.73%] [G loss: 1.014020]\n",
      "856 [D loss: 0.599860, acc.: 68.36%] [G loss: 0.998793]\n",
      "857 [D loss: 0.573429, acc.: 71.09%] [G loss: 0.997641]\n",
      "858 [D loss: 0.559884, acc.: 77.34%] [G loss: 1.026241]\n",
      "859 [D loss: 0.542001, acc.: 77.73%] [G loss: 1.057448]\n",
      "860 [D loss: 0.599474, acc.: 70.70%] [G loss: 0.985933]\n",
      "861 [D loss: 0.580928, acc.: 72.66%] [G loss: 1.046254]\n",
      "862 [D loss: 0.568288, acc.: 74.22%] [G loss: 1.037190]\n",
      "863 [D loss: 0.567418, acc.: 71.48%] [G loss: 1.017316]\n",
      "864 [D loss: 0.598441, acc.: 71.09%] [G loss: 1.051184]\n",
      "865 [D loss: 0.610064, acc.: 67.58%] [G loss: 1.031945]\n",
      "866 [D loss: 0.567641, acc.: 76.56%] [G loss: 1.026045]\n",
      "867 [D loss: 0.547549, acc.: 77.73%] [G loss: 1.065554]\n",
      "868 [D loss: 0.572936, acc.: 72.27%] [G loss: 1.038734]\n",
      "869 [D loss: 0.581406, acc.: 72.66%] [G loss: 1.038685]\n",
      "870 [D loss: 0.559206, acc.: 73.83%] [G loss: 1.032614]\n",
      "871 [D loss: 0.582259, acc.: 71.88%] [G loss: 1.002086]\n",
      "872 [D loss: 0.542879, acc.: 78.12%] [G loss: 0.995657]\n",
      "873 [D loss: 0.564992, acc.: 72.27%] [G loss: 0.983161]\n",
      "874 [D loss: 0.565910, acc.: 73.05%] [G loss: 0.999821]\n",
      "875 [D loss: 0.567271, acc.: 71.48%] [G loss: 1.005099]\n",
      "876 [D loss: 0.568809, acc.: 71.88%] [G loss: 1.008754]\n",
      "877 [D loss: 0.589353, acc.: 68.75%] [G loss: 1.034121]\n",
      "878 [D loss: 0.584440, acc.: 74.22%] [G loss: 0.999056]\n",
      "879 [D loss: 0.594174, acc.: 70.70%] [G loss: 0.958238]\n",
      "880 [D loss: 0.585550, acc.: 70.70%] [G loss: 0.994415]\n",
      "881 [D loss: 0.587686, acc.: 71.88%] [G loss: 0.997244]\n",
      "882 [D loss: 0.533029, acc.: 79.30%] [G loss: 1.037535]\n",
      "883 [D loss: 0.578847, acc.: 72.66%] [G loss: 1.047010]\n",
      "884 [D loss: 0.585007, acc.: 71.48%] [G loss: 1.013956]\n",
      "885 [D loss: 0.562632, acc.: 76.17%] [G loss: 0.996383]\n",
      "886 [D loss: 0.550751, acc.: 76.17%] [G loss: 0.993613]\n",
      "887 [D loss: 0.578185, acc.: 71.88%] [G loss: 0.958278]\n",
      "888 [D loss: 0.571023, acc.: 73.83%] [G loss: 1.030182]\n",
      "889 [D loss: 0.618531, acc.: 63.67%] [G loss: 1.005453]\n",
      "890 [D loss: 0.572435, acc.: 73.44%] [G loss: 0.977627]\n",
      "891 [D loss: 0.596985, acc.: 69.14%] [G loss: 0.957581]\n",
      "892 [D loss: 0.567768, acc.: 72.27%] [G loss: 0.994227]\n",
      "893 [D loss: 0.576942, acc.: 68.75%] [G loss: 0.981812]\n",
      "894 [D loss: 0.553121, acc.: 76.56%] [G loss: 1.015631]\n"
     ]
    },
    {
     "name": "stdout",
     "output_type": "stream",
     "text": [
      "895 [D loss: 0.584285, acc.: 70.70%] [G loss: 1.008597]\n",
      "896 [D loss: 0.559067, acc.: 75.78%] [G loss: 0.986941]\n",
      "897 [D loss: 0.561204, acc.: 74.61%] [G loss: 0.980138]\n",
      "898 [D loss: 0.540766, acc.: 77.34%] [G loss: 0.994412]\n",
      "899 [D loss: 0.599964, acc.: 68.75%] [G loss: 1.028095]\n",
      "900 [D loss: 0.553442, acc.: 75.78%] [G loss: 0.976739]\n",
      "901 [D loss: 0.565866, acc.: 75.00%] [G loss: 0.971992]\n",
      "902 [D loss: 0.551025, acc.: 76.95%] [G loss: 1.041694]\n",
      "903 [D loss: 0.560129, acc.: 75.78%] [G loss: 1.048093]\n",
      "904 [D loss: 0.532973, acc.: 80.47%] [G loss: 0.986700]\n",
      "905 [D loss: 0.566631, acc.: 71.88%] [G loss: 0.974596]\n",
      "906 [D loss: 0.578523, acc.: 70.70%] [G loss: 1.001132]\n",
      "907 [D loss: 0.554561, acc.: 76.95%] [G loss: 1.003865]\n",
      "908 [D loss: 0.550512, acc.: 75.78%] [G loss: 0.978676]\n",
      "909 [D loss: 0.544088, acc.: 75.39%] [G loss: 1.029786]\n",
      "910 [D loss: 0.569918, acc.: 73.05%] [G loss: 0.998978]\n",
      "911 [D loss: 0.600442, acc.: 71.09%] [G loss: 1.033280]\n",
      "912 [D loss: 0.577044, acc.: 73.83%] [G loss: 1.005425]\n",
      "913 [D loss: 0.568521, acc.: 76.17%] [G loss: 1.010062]\n",
      "914 [D loss: 0.580112, acc.: 75.00%] [G loss: 0.996538]\n",
      "915 [D loss: 0.566299, acc.: 75.78%] [G loss: 1.006379]\n",
      "916 [D loss: 0.594545, acc.: 75.00%] [G loss: 0.982494]\n",
      "917 [D loss: 0.592438, acc.: 73.05%] [G loss: 0.951508]\n",
      "918 [D loss: 0.574013, acc.: 72.27%] [G loss: 0.965999]\n",
      "919 [D loss: 0.593504, acc.: 70.70%] [G loss: 1.023711]\n",
      "920 [D loss: 0.567648, acc.: 73.83%] [G loss: 0.998682]\n",
      "921 [D loss: 0.587566, acc.: 68.75%] [G loss: 1.003340]\n",
      "922 [D loss: 0.566969, acc.: 75.78%] [G loss: 1.024240]\n",
      "923 [D loss: 0.567554, acc.: 75.00%] [G loss: 1.024529]\n",
      "924 [D loss: 0.589423, acc.: 68.36%] [G loss: 1.037707]\n",
      "925 [D loss: 0.544158, acc.: 76.56%] [G loss: 1.029751]\n",
      "926 [D loss: 0.563697, acc.: 76.17%] [G loss: 1.011512]\n",
      "927 [D loss: 0.561540, acc.: 80.08%] [G loss: 1.016860]\n",
      "928 [D loss: 0.556911, acc.: 76.17%] [G loss: 1.006759]\n",
      "929 [D loss: 0.593878, acc.: 69.14%] [G loss: 0.988823]\n",
      "930 [D loss: 0.579008, acc.: 73.83%] [G loss: 0.952830]\n",
      "931 [D loss: 0.572165, acc.: 73.05%] [G loss: 0.945592]\n",
      "932 [D loss: 0.577471, acc.: 69.14%] [G loss: 0.990612]\n",
      "933 [D loss: 0.592453, acc.: 73.44%] [G loss: 1.001381]\n",
      "934 [D loss: 0.580300, acc.: 71.48%] [G loss: 0.985701]\n",
      "935 [D loss: 0.561496, acc.: 76.56%] [G loss: 0.984086]\n",
      "936 [D loss: 0.563017, acc.: 75.78%] [G loss: 0.992191]\n",
      "937 [D loss: 0.586959, acc.: 71.88%] [G loss: 0.989416]\n",
      "938 [D loss: 0.612301, acc.: 69.14%] [G loss: 1.007092]\n",
      "939 [D loss: 0.572475, acc.: 73.83%] [G loss: 0.957166]\n",
      "940 [D loss: 0.580350, acc.: 74.22%] [G loss: 0.979703]\n",
      "941 [D loss: 0.566349, acc.: 75.39%] [G loss: 0.958251]\n",
      "942 [D loss: 0.593724, acc.: 72.27%] [G loss: 0.963462]\n",
      "943 [D loss: 0.553508, acc.: 75.78%] [G loss: 0.996272]\n",
      "944 [D loss: 0.589842, acc.: 71.88%] [G loss: 0.988071]\n",
      "945 [D loss: 0.577104, acc.: 71.48%] [G loss: 0.969609]\n",
      "946 [D loss: 0.576653, acc.: 75.00%] [G loss: 1.004348]\n",
      "947 [D loss: 0.586357, acc.: 70.31%] [G loss: 1.029040]\n",
      "948 [D loss: 0.568572, acc.: 75.00%] [G loss: 0.989512]\n",
      "949 [D loss: 0.587916, acc.: 74.22%] [G loss: 0.910372]\n",
      "950 [D loss: 0.598272, acc.: 69.53%] [G loss: 0.945413]\n",
      "951 [D loss: 0.560415, acc.: 73.44%] [G loss: 1.030562]\n",
      "952 [D loss: 0.585556, acc.: 74.22%] [G loss: 0.979421]\n",
      "953 [D loss: 0.574995, acc.: 70.31%] [G loss: 1.008465]\n",
      "954 [D loss: 0.601381, acc.: 67.58%] [G loss: 1.049318]\n",
      "955 [D loss: 0.578350, acc.: 73.05%] [G loss: 1.004663]\n",
      "956 [D loss: 0.573528, acc.: 71.09%] [G loss: 0.999818]\n",
      "957 [D loss: 0.617793, acc.: 66.80%] [G loss: 0.956783]\n",
      "958 [D loss: 0.576992, acc.: 70.70%] [G loss: 0.966930]\n",
      "959 [D loss: 0.596128, acc.: 67.58%] [G loss: 0.953874]\n",
      "960 [D loss: 0.576725, acc.: 69.92%] [G loss: 0.982695]\n",
      "961 [D loss: 0.571722, acc.: 76.17%] [G loss: 0.980132]\n",
      "962 [D loss: 0.584509, acc.: 69.92%] [G loss: 0.952335]\n",
      "963 [D loss: 0.589245, acc.: 71.88%] [G loss: 0.943421]\n",
      "964 [D loss: 0.569749, acc.: 69.92%] [G loss: 0.964384]\n",
      "965 [D loss: 0.588955, acc.: 73.05%] [G loss: 0.954134]\n",
      "966 [D loss: 0.577349, acc.: 73.44%] [G loss: 1.006679]\n",
      "967 [D loss: 0.601307, acc.: 68.36%] [G loss: 1.004336]\n",
      "968 [D loss: 0.578602, acc.: 73.44%] [G loss: 1.003817]\n",
      "969 [D loss: 0.556569, acc.: 75.39%] [G loss: 1.015475]\n",
      "970 [D loss: 0.580246, acc.: 71.09%] [G loss: 0.994289]\n",
      "971 [D loss: 0.587154, acc.: 71.48%] [G loss: 0.936110]\n",
      "972 [D loss: 0.553394, acc.: 77.34%] [G loss: 0.931777]\n",
      "973 [D loss: 0.582336, acc.: 73.44%] [G loss: 0.982978]\n",
      "974 [D loss: 0.583143, acc.: 71.88%] [G loss: 1.003170]\n",
      "975 [D loss: 0.550557, acc.: 75.78%] [G loss: 1.004732]\n",
      "976 [D loss: 0.577387, acc.: 75.39%] [G loss: 0.993124]\n",
      "977 [D loss: 0.590232, acc.: 69.14%] [G loss: 0.951081]\n",
      "978 [D loss: 0.609205, acc.: 69.92%] [G loss: 0.989200]\n",
      "979 [D loss: 0.593307, acc.: 73.44%] [G loss: 0.973120]\n",
      "980 [D loss: 0.592687, acc.: 69.14%] [G loss: 0.946880]\n",
      "981 [D loss: 0.591682, acc.: 73.05%] [G loss: 0.999312]\n",
      "982 [D loss: 0.556836, acc.: 74.22%] [G loss: 0.964274]\n",
      "983 [D loss: 0.608566, acc.: 71.48%] [G loss: 0.944480]\n",
      "984 [D loss: 0.568581, acc.: 76.17%] [G loss: 1.030608]\n",
      "985 [D loss: 0.598350, acc.: 66.80%] [G loss: 1.011278]\n",
      "986 [D loss: 0.570176, acc.: 72.27%] [G loss: 0.967127]\n",
      "987 [D loss: 0.603868, acc.: 69.53%] [G loss: 0.944295]\n",
      "988 [D loss: 0.569478, acc.: 75.00%] [G loss: 0.961696]\n",
      "989 [D loss: 0.580122, acc.: 72.66%] [G loss: 0.976747]\n",
      "990 [D loss: 0.592696, acc.: 68.75%] [G loss: 0.988647]\n",
      "991 [D loss: 0.573110, acc.: 74.61%] [G loss: 0.978206]\n",
      "992 [D loss: 0.599093, acc.: 68.36%] [G loss: 0.984205]\n",
      "993 [D loss: 0.584049, acc.: 73.83%] [G loss: 0.993976]\n",
      "994 [D loss: 0.588073, acc.: 70.70%] [G loss: 0.950301]\n",
      "995 [D loss: 0.592407, acc.: 69.92%] [G loss: 0.992259]\n",
      "996 [D loss: 0.584694, acc.: 71.09%] [G loss: 0.987975]\n",
      "997 [D loss: 0.591546, acc.: 70.31%] [G loss: 1.027306]\n",
      "998 [D loss: 0.571129, acc.: 75.39%] [G loss: 0.991121]\n",
      "999 [D loss: 0.607821, acc.: 64.06%] [G loss: 0.984278]\n"
     ]
    }
   ],
   "source": [
    "train(1000)"
   ]
  },
  {
   "cell_type": "code",
   "execution_count": null,
   "metadata": {},
   "outputs": [],
   "source": []
  }
 ],
 "metadata": {
  "kernelspec": {
   "display_name": "Python 3",
   "language": "python",
   "name": "python3"
  },
  "language_info": {
   "codemirror_mode": {
    "name": "ipython",
    "version": 3
   },
   "file_extension": ".py",
   "mimetype": "text/x-python",
   "name": "python",
   "nbconvert_exporter": "python",
   "pygments_lexer": "ipython3",
   "version": "3.6.2"
  }
 },
 "nbformat": 4,
 "nbformat_minor": 2
}
