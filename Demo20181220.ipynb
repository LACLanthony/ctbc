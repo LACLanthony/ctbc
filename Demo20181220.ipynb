{
 "cells": [
  {
   "cell_type": "code",
   "execution_count": 3,
   "metadata": {},
   "outputs": [
    {
     "name": "stdout",
     "output_type": "stream",
     "text": [
      "請問你要問什麼問題?幾歲\n"
     ]
    },
    {
     "data": {
      "text/plain": [
       "'我現在還不聰明，以後變聰明以後，再回答你'"
      ]
     },
     "execution_count": 3,
     "metadata": {},
     "output_type": "execute_result"
    }
   ],
   "source": [
    "qa = {\n",
    " '早安': '你也早安',\n",
    " '掰掰': '期待下次再會',\n",
    " '晚安': '你也晚安'   \n",
    "}\n",
    "\n",
    "question = input('請問你要問什麼問題?')\n",
    "qa.get(question, '我現在還不聰明，以後變聰明以後，再回答你')"
   ]
  },
  {
   "cell_type": "code",
   "execution_count": 4,
   "metadata": {},
   "outputs": [],
   "source": [
    "import requests\n",
    "res = requests.get('https://www.ctbcbank.com/CTCBPortalWeb/toPage?id=TW_RB_CM_service_000007')"
   ]
  },
  {
   "cell_type": "code",
   "execution_count": 6,
   "metadata": {},
   "outputs": [],
   "source": [
    "#res.text"
   ]
  },
  {
   "cell_type": "code",
   "execution_count": 12,
   "metadata": {},
   "outputs": [],
   "source": [
    "from bs4 import BeautifulSoup\n",
    "soup = BeautifulSoup(res.text, 'lxml')\n",
    "#for q in soup.select('.eventgoldtitle02 strong'):\n",
    "questions = []\n",
    "for q in soup.select('.style01-1'):\n",
    "    questions.append(q.text)\n",
    "#questions"
   ]
  },
  {
   "cell_type": "code",
   "execution_count": 13,
   "metadata": {},
   "outputs": [],
   "source": [
    "answers = []\n",
    "for a in soup.select('#QAContent p'):\n",
    "    answers.append(a.text)"
   ]
  },
  {
   "cell_type": "code",
   "execution_count": 14,
   "metadata": {},
   "outputs": [],
   "source": [
    "questions = [q.text for q in soup.select('.style01-1')]\n",
    "answers   = [a.text for a in soup.select('#QAContent p')]"
   ]
  },
  {
   "cell_type": "code",
   "execution_count": 16,
   "metadata": {},
   "outputs": [
    {
     "data": {
      "text/plain": [
       "<zip at 0x107b90148>"
      ]
     },
     "execution_count": 16,
     "metadata": {},
     "output_type": "execute_result"
    }
   ],
   "source": [
    "zip(questions, answers)"
   ]
  },
  {
   "cell_type": "code",
   "execution_count": 18,
   "metadata": {},
   "outputs": [],
   "source": [
    "#for rec in zip(questions, answers):\n",
    "#    print(rec)"
   ]
  },
  {
   "cell_type": "code",
   "execution_count": 21,
   "metadata": {},
   "outputs": [],
   "source": [
    "import pandas\n",
    "ctbc_qa = pandas.DataFrame(list(zip(questions, answers)), columns = ['question', 'answer'])"
   ]
  },
  {
   "cell_type": "code",
   "execution_count": 23,
   "metadata": {},
   "outputs": [],
   "source": [
    "#ctbc_qa"
   ]
  },
  {
   "cell_type": "code",
   "execution_count": 26,
   "metadata": {},
   "outputs": [
    {
     "name": "stderr",
     "output_type": "stream",
     "text": [
      "Building prefix dict from the default dictionary ...\n",
      "Loading model from cache /var/folders/46/b7dzk4mn6g54qzptv608w7d00000gn/T/jieba.cache\n",
      "Loading model cost 0.924 seconds.\n",
      "Prefix dict has been built succesfully.\n"
     ]
    },
    {
     "name": "stdout",
     "output_type": "stream",
     "text": [
      "毀補\n",
      "後\n",
      "多久\n",
      "可補\n",
      "發新卡\n",
      "?\n",
      " \n",
      "會不會\n",
      "另\n",
      "要\n",
      "收費\n",
      "？\n"
     ]
    }
   ],
   "source": [
    "import jieba\n",
    "for w in jieba.cut('毀補後多久可補發新卡? 會不會另要收費？'):\n",
    "    print(w)"
   ]
  },
  {
   "cell_type": "code",
   "execution_count": 27,
   "metadata": {},
   "outputs": [
    {
     "data": {
      "text/plain": [
       "['毀補', '後', '多久', '可補', '發新卡', '?', ' ', '會不會', '另', '要', '收費', '？']"
      ]
     },
     "execution_count": 27,
     "metadata": {},
     "output_type": "execute_result"
    }
   ],
   "source": [
    "list(jieba.cut('毀補後多久可補發新卡? 會不會另要收費？'))"
   ]
  },
  {
   "cell_type": "code",
   "execution_count": 28,
   "metadata": {},
   "outputs": [],
   "source": [
    "jieba.load_userdict('userdict.txt')"
   ]
  },
  {
   "cell_type": "code",
   "execution_count": 29,
   "metadata": {},
   "outputs": [
    {
     "data": {
      "text/plain": [
       "['毀補', '後', '多久', '可', '補發', '新卡', '?', ' ', '會不會', '另', '要', '收費', '？']"
      ]
     },
     "execution_count": 29,
     "metadata": {},
     "output_type": "execute_result"
    }
   ],
   "source": [
    "list(jieba.cut('毀補後多久可補發新卡? 會不會另要收費？'))"
   ]
  },
  {
   "cell_type": "code",
   "execution_count": 30,
   "metadata": {},
   "outputs": [
    {
     "data": {
      "text/plain": [
       "13"
      ]
     },
     "execution_count": 30,
     "metadata": {},
     "output_type": "execute_result"
    }
   ],
   "source": [
    "sentence='那我們酸民婉君也可以報名嗎'\n",
    "len(sentence)"
   ]
  },
  {
   "cell_type": "code",
   "execution_count": 32,
   "metadata": {},
   "outputs": [
    {
     "name": "stdout",
     "output_type": "stream",
     "text": [
      "那我\n",
      "我們\n",
      "們酸\n",
      "酸民\n",
      "民婉\n",
      "婉君\n",
      "君也\n",
      "也可\n",
      "可以\n",
      "以報\n",
      "報名\n",
      "名嗎\n"
     ]
    }
   ],
   "source": [
    "#for i in range(0,13 - 2 + 1 ):\n",
    "for i in range(0,len(sentence) - 2 + 1 ):\n",
    "    print(sentence[i:i+2])"
   ]
  },
  {
   "cell_type": "code",
   "execution_count": 33,
   "metadata": {},
   "outputs": [
    {
     "name": "stdout",
     "output_type": "stream",
     "text": [
      "那我們\n",
      "我們酸\n",
      "們酸民\n",
      "酸民婉\n",
      "民婉君\n",
      "婉君也\n",
      "君也可\n",
      "也可以\n",
      "可以報\n",
      "以報名\n",
      "報名嗎\n"
     ]
    }
   ],
   "source": [
    "for i in range(0,len(sentence) - 3 + 1 ):\n",
    "    print(sentence[i:i+3])"
   ]
  },
  {
   "cell_type": "code",
   "execution_count": 34,
   "metadata": {},
   "outputs": [],
   "source": [
    "def ngram(input_sentence,n=2):\n",
    "    ret = []\n",
    "    for i in range(0,len(input_sentence) - n + 1):\n",
    "        ret.append(input_sentence[i:i+n])\n",
    "    return ret\n"
   ]
  },
  {
   "cell_type": "code",
   "execution_count": 35,
   "metadata": {},
   "outputs": [],
   "source": [
    "a = '''\n",
    "全球080就是國際性080免付費服務電話。相同於080-024-365為免付費服務電話，您可透過此080電話從國外地區直接與我們聯絡，並由本行承擔所有的通話費用，稍有差別的是080-024-365僅限於台灣地區使用，而全球 080則於國外地區使用。\n",
    "您可於當地直接撥當地之免費撥接號碼，不進入語音系統，不需輸入任何卡號或密碼。\n",
    "註：手機無法撥打全球080，請儘量使用當地室內電話撥打全球080專線。\n",
    "'''"
   ]
  },
  {
   "cell_type": "code",
   "execution_count": 38,
   "metadata": {},
   "outputs": [],
   "source": [
    "from collections import Counter\n",
    "c = Counter(ngram(a,2))\n",
    "#c.most_common()"
   ]
  },
  {
   "cell_type": "code",
   "execution_count": 40,
   "metadata": {},
   "outputs": [],
   "source": [
    "from collections import Counter\n",
    "c = Counter(ngram(a,3))\n",
    "#c.most_common()"
   ]
  },
  {
   "cell_type": "code",
   "execution_count": 47,
   "metadata": {},
   "outputs": [],
   "source": [
    "import re\n",
    "delimiter = \"，|。\"  \n",
    "text = '''全球080就是國際性080免付費服務電話。相同於080-024-365為免付費服務電話，您可透過此080電話從國外地區直接與我們聯絡，並由本行承擔所有的通話費用，稍有差別的是080-024-365僅限於台灣地區使用，而全球 080則於國外地區使用。'''\n",
    "sentenceAry = []\n",
    "for i in re.split(delimiter, text):\n",
    "    sentenceAry.append(i)\n"
   ]
  },
  {
   "cell_type": "code",
   "execution_count": 45,
   "metadata": {},
   "outputs": [],
   "source": [
    "def removeKey(text, keywords):\n",
    "    ret = text\n",
    "    for word in keywords:\n",
    "        ret = ret.replace(word, '')\n",
    "    return ret\n"
   ]
  },
  {
   "cell_type": "code",
   "execution_count": 46,
   "metadata": {},
   "outputs": [
    {
     "data": {
      "text/plain": [
       "'比特幣 美上市'"
      ]
     },
     "execution_count": 46,
     "metadata": {},
     "output_type": "execute_result"
    }
   ],
   "source": [
    "a = '比特幣期貨 美核准上市'\n",
    "removeKey(a, ['期貨', '核准'])\n"
   ]
  },
  {
   "cell_type": "code",
   "execution_count": 49,
   "metadata": {},
   "outputs": [],
   "source": [
    "keywords = [] \n",
    "for n in range(4,1, -1):\n",
    "    words = []\n",
    "    for sentence in sentenceAry:\n",
    "        text_list = removeKey(sentence, keywords)\n",
    "        words.extend(ngram(text_list, n))\n",
    "        \n",
    "    c = Counter(words)\n",
    "    for word, cnt in c.items():\n",
    "        if cnt >= 3:\n",
    "            keywords.append(word)\n"
   ]
  },
  {
   "cell_type": "code",
   "execution_count": 50,
   "metadata": {},
   "outputs": [
    {
     "data": {
      "text/plain": [
       "['080', '電話', '地區']"
      ]
     },
     "execution_count": 50,
     "metadata": {},
     "output_type": "execute_result"
    }
   ],
   "source": [
    "keywords"
   ]
  },
  {
   "cell_type": "code",
   "execution_count": null,
   "metadata": {},
   "outputs": [],
   "source": []
  }
 ],
 "metadata": {
  "kernelspec": {
   "display_name": "Python 3",
   "language": "python",
   "name": "python3"
  },
  "language_info": {
   "codemirror_mode": {
    "name": "ipython",
    "version": 3
   },
   "file_extension": ".py",
   "mimetype": "text/x-python",
   "name": "python",
   "nbconvert_exporter": "python",
   "pygments_lexer": "ipython3",
   "version": "3.6.2"
  }
 },
 "nbformat": 4,
 "nbformat_minor": 2
}
