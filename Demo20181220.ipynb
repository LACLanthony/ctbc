{
 "cells": [
  {
   "cell_type": "code",
   "execution_count": 3,
   "metadata": {},
   "outputs": [
    {
     "name": "stdout",
     "output_type": "stream",
     "text": [
      "請問你要問什麼問題?幾歲\n"
     ]
    },
    {
     "data": {
      "text/plain": [
       "'我現在還不聰明，以後變聰明以後，再回答你'"
      ]
     },
     "execution_count": 3,
     "metadata": {},
     "output_type": "execute_result"
    }
   ],
   "source": [
    "qa = {\n",
    " '早安': '你也早安',\n",
    " '掰掰': '期待下次再會',\n",
    " '晚安': '你也晚安'   \n",
    "}\n",
    "\n",
    "question = input('請問你要問什麼問題?')\n",
    "qa.get(question, '我現在還不聰明，以後變聰明以後，再回答你')"
   ]
  },
  {
   "cell_type": "code",
   "execution_count": 4,
   "metadata": {},
   "outputs": [],
   "source": [
    "import requests\n",
    "res = requests.get('https://www.ctbcbank.com/CTCBPortalWeb/toPage?id=TW_RB_CM_service_000007')"
   ]
  },
  {
   "cell_type": "code",
   "execution_count": 6,
   "metadata": {},
   "outputs": [],
   "source": [
    "#res.text"
   ]
  },
  {
   "cell_type": "code",
   "execution_count": 12,
   "metadata": {},
   "outputs": [],
   "source": [
    "from bs4 import BeautifulSoup\n",
    "soup = BeautifulSoup(res.text, 'lxml')\n",
    "#for q in soup.select('.eventgoldtitle02 strong'):\n",
    "questions = []\n",
    "for q in soup.select('.style01-1'):\n",
    "    questions.append(q.text)\n",
    "#questions"
   ]
  },
  {
   "cell_type": "code",
   "execution_count": 13,
   "metadata": {},
   "outputs": [],
   "source": [
    "answers = []\n",
    "for a in soup.select('#QAContent p'):\n",
    "    answers.append(a.text)"
   ]
  },
  {
   "cell_type": "code",
   "execution_count": 14,
   "metadata": {},
   "outputs": [],
   "source": [
    "questions = [q.text for q in soup.select('.style01-1')]\n",
    "answers   = [a.text for a in soup.select('#QAContent p')]"
   ]
  },
  {
   "cell_type": "code",
   "execution_count": 16,
   "metadata": {},
   "outputs": [
    {
     "data": {
      "text/plain": [
       "<zip at 0x107b90148>"
      ]
     },
     "execution_count": 16,
     "metadata": {},
     "output_type": "execute_result"
    }
   ],
   "source": [
    "zip(questions, answers)"
   ]
  },
  {
   "cell_type": "code",
   "execution_count": 18,
   "metadata": {},
   "outputs": [],
   "source": [
    "#for rec in zip(questions, answers):\n",
    "#    print(rec)"
   ]
  },
  {
   "cell_type": "code",
   "execution_count": 21,
   "metadata": {},
   "outputs": [],
   "source": [
    "import pandas\n",
    "ctbc_qa = pandas.DataFrame(list(zip(questions, answers)), columns = ['question', 'answer'])"
   ]
  },
  {
   "cell_type": "code",
   "execution_count": 23,
   "metadata": {},
   "outputs": [],
   "source": [
    "#ctbc_qa"
   ]
  },
  {
   "cell_type": "code",
   "execution_count": 26,
   "metadata": {},
   "outputs": [
    {
     "name": "stderr",
     "output_type": "stream",
     "text": [
      "Building prefix dict from the default dictionary ...\n",
      "Loading model from cache /var/folders/46/b7dzk4mn6g54qzptv608w7d00000gn/T/jieba.cache\n",
      "Loading model cost 0.924 seconds.\n",
      "Prefix dict has been built succesfully.\n"
     ]
    },
    {
     "name": "stdout",
     "output_type": "stream",
     "text": [
      "毀補\n",
      "後\n",
      "多久\n",
      "可補\n",
      "發新卡\n",
      "?\n",
      " \n",
      "會不會\n",
      "另\n",
      "要\n",
      "收費\n",
      "？\n"
     ]
    }
   ],
   "source": [
    "import jieba\n",
    "for w in jieba.cut('毀補後多久可補發新卡? 會不會另要收費？'):\n",
    "    print(w)"
   ]
  },
  {
   "cell_type": "code",
   "execution_count": 27,
   "metadata": {},
   "outputs": [
    {
     "data": {
      "text/plain": [
       "['毀補', '後', '多久', '可補', '發新卡', '?', ' ', '會不會', '另', '要', '收費', '？']"
      ]
     },
     "execution_count": 27,
     "metadata": {},
     "output_type": "execute_result"
    }
   ],
   "source": [
    "list(jieba.cut('毀補後多久可補發新卡? 會不會另要收費？'))"
   ]
  },
  {
   "cell_type": "code",
   "execution_count": 28,
   "metadata": {},
   "outputs": [],
   "source": [
    "jieba.load_userdict('userdict.txt')"
   ]
  },
  {
   "cell_type": "code",
   "execution_count": 29,
   "metadata": {},
   "outputs": [
    {
     "data": {
      "text/plain": [
       "['毀補', '後', '多久', '可', '補發', '新卡', '?', ' ', '會不會', '另', '要', '收費', '？']"
      ]
     },
     "execution_count": 29,
     "metadata": {},
     "output_type": "execute_result"
    }
   ],
   "source": [
    "list(jieba.cut('毀補後多久可補發新卡? 會不會另要收費？'))"
   ]
  },
  {
   "cell_type": "code",
   "execution_count": 30,
   "metadata": {},
   "outputs": [
    {
     "data": {
      "text/plain": [
       "13"
      ]
     },
     "execution_count": 30,
     "metadata": {},
     "output_type": "execute_result"
    }
   ],
   "source": [
    "sentence='那我們酸民婉君也可以報名嗎'\n",
    "len(sentence)"
   ]
  },
  {
   "cell_type": "code",
   "execution_count": 32,
   "metadata": {},
   "outputs": [
    {
     "name": "stdout",
     "output_type": "stream",
     "text": [
      "那我\n",
      "我們\n",
      "們酸\n",
      "酸民\n",
      "民婉\n",
      "婉君\n",
      "君也\n",
      "也可\n",
      "可以\n",
      "以報\n",
      "報名\n",
      "名嗎\n"
     ]
    }
   ],
   "source": [
    "#for i in range(0,13 - 2 + 1 ):\n",
    "for i in range(0,len(sentence) - 2 + 1 ):\n",
    "    print(sentence[i:i+2])"
   ]
  },
  {
   "cell_type": "code",
   "execution_count": 33,
   "metadata": {},
   "outputs": [
    {
     "name": "stdout",
     "output_type": "stream",
     "text": [
      "那我們\n",
      "我們酸\n",
      "們酸民\n",
      "酸民婉\n",
      "民婉君\n",
      "婉君也\n",
      "君也可\n",
      "也可以\n",
      "可以報\n",
      "以報名\n",
      "報名嗎\n"
     ]
    }
   ],
   "source": [
    "for i in range(0,len(sentence) - 3 + 1 ):\n",
    "    print(sentence[i:i+3])"
   ]
  },
  {
   "cell_type": "code",
   "execution_count": 34,
   "metadata": {},
   "outputs": [],
   "source": [
    "def ngram(input_sentence,n=2):\n",
    "    ret = []\n",
    "    for i in range(0,len(input_sentence) - n + 1):\n",
    "        ret.append(input_sentence[i:i+n])\n",
    "    return ret\n"
   ]
  },
  {
   "cell_type": "code",
   "execution_count": 35,
   "metadata": {},
   "outputs": [],
   "source": [
    "a = '''\n",
    "全球080就是國際性080免付費服務電話。相同於080-024-365為免付費服務電話，您可透過此080電話從國外地區直接與我們聯絡，並由本行承擔所有的通話費用，稍有差別的是080-024-365僅限於台灣地區使用，而全球 080則於國外地區使用。\n",
    "您可於當地直接撥當地之免費撥接號碼，不進入語音系統，不需輸入任何卡號或密碼。\n",
    "註：手機無法撥打全球080，請儘量使用當地室內電話撥打全球080專線。\n",
    "'''"
   ]
  },
  {
   "cell_type": "code",
   "execution_count": 38,
   "metadata": {},
   "outputs": [],
   "source": [
    "from collections import Counter\n",
    "c = Counter(ngram(a,2))\n",
    "#c.most_common()"
   ]
  },
  {
   "cell_type": "code",
   "execution_count": 40,
   "metadata": {},
   "outputs": [],
   "source": [
    "from collections import Counter\n",
    "c = Counter(ngram(a,3))\n",
    "#c.most_common()"
   ]
  },
  {
   "cell_type": "code",
   "execution_count": 47,
   "metadata": {},
   "outputs": [],
   "source": [
    "import re\n",
    "delimiter = \"，|。\"  \n",
    "text = '''全球080就是國際性080免付費服務電話。相同於080-024-365為免付費服務電話，您可透過此080電話從國外地區直接與我們聯絡，並由本行承擔所有的通話費用，稍有差別的是080-024-365僅限於台灣地區使用，而全球 080則於國外地區使用。'''\n",
    "sentenceAry = []\n",
    "for i in re.split(delimiter, text):\n",
    "    sentenceAry.append(i)\n"
   ]
  },
  {
   "cell_type": "code",
   "execution_count": 45,
   "metadata": {},
   "outputs": [],
   "source": [
    "def removeKey(text, keywords):\n",
    "    ret = text\n",
    "    for word in keywords:\n",
    "        ret = ret.replace(word, '')\n",
    "    return ret\n"
   ]
  },
  {
   "cell_type": "code",
   "execution_count": 46,
   "metadata": {},
   "outputs": [
    {
     "data": {
      "text/plain": [
       "'比特幣 美上市'"
      ]
     },
     "execution_count": 46,
     "metadata": {},
     "output_type": "execute_result"
    }
   ],
   "source": [
    "a = '比特幣期貨 美核准上市'\n",
    "removeKey(a, ['期貨', '核准'])\n"
   ]
  },
  {
   "cell_type": "code",
   "execution_count": 49,
   "metadata": {},
   "outputs": [],
   "source": [
    "keywords = [] \n",
    "for n in range(4,1, -1):\n",
    "    words = []\n",
    "    for sentence in sentenceAry:\n",
    "        text_list = removeKey(sentence, keywords)\n",
    "        words.extend(ngram(text_list, n))\n",
    "        \n",
    "    c = Counter(words)\n",
    "    for word, cnt in c.items():\n",
    "        if cnt >= 3:\n",
    "            keywords.append(word)\n"
   ]
  },
  {
   "cell_type": "code",
   "execution_count": 50,
   "metadata": {},
   "outputs": [
    {
     "data": {
      "text/plain": [
       "['080', '電話', '地區']"
      ]
     },
     "execution_count": 50,
     "metadata": {},
     "output_type": "execute_result"
    }
   ],
   "source": [
    "keywords"
   ]
  },
  {
   "cell_type": "code",
   "execution_count": 56,
   "metadata": {},
   "outputs": [],
   "source": [
    "res = []\n",
    "#ctbc_qa['question'].tolist()\n",
    "res.extend(ctbc_qa['question'].tolist() )\n",
    "res.extend(ctbc_qa['answer'].tolist() )"
   ]
  },
  {
   "cell_type": "code",
   "execution_count": 59,
   "metadata": {},
   "outputs": [],
   "source": [
    "text = ' '.join(res)"
   ]
  },
  {
   "cell_type": "code",
   "execution_count": 80,
   "metadata": {},
   "outputs": [],
   "source": [
    "import re\n",
    "delimiter = \"，|。|\\?|\\？| |\\(|\\)|「|」|/|【|】|：|╱\"  \n",
    "sentenceAry = []\n",
    "for i in re.split(delimiter, text):\n",
    "    if len(i)>0:\n",
    "        sentenceAry.append(i)\n"
   ]
  },
  {
   "cell_type": "code",
   "execution_count": 93,
   "metadata": {},
   "outputs": [],
   "source": [
    "keywords = [] \n",
    "for n in range(9,1, -1):\n",
    "    words = []\n",
    "    for sentence in sentenceAry:\n",
    "        text_list = removeKey(sentence, keywords)\n",
    "        words.extend(ngram(text_list, n))\n",
    "        \n",
    "    c = Counter(words)\n",
    "    for word, cnt in c.items():\n",
    "        if cnt >= 30:\n",
    "            keywords.append(word)\n"
   ]
  },
  {
   "cell_type": "code",
   "execution_count": 96,
   "metadata": {},
   "outputs": [],
   "source": [
    "with open('userdict.txt', 'a') as f:\n",
    "    for w in keywords:\n",
    "        m = re.match('^[\\u4e00-\\u9fa5]+$', w)\n",
    "        if m:\n",
    "            f.write(w+'\\n')"
   ]
  },
  {
   "cell_type": "code",
   "execution_count": 120,
   "metadata": {},
   "outputs": [
    {
     "data": {
      "text/plain": [
       "['柯文哲 為 了 大巨蛋 一事 找 趙藤雄 算帳', '柯P 將不在 大巨蛋 舉辦 世運會']"
      ]
     },
     "execution_count": 120,
     "metadata": {},
     "output_type": "execute_result"
    }
   ],
   "source": [
    "import jieba\n",
    "jieba.load_userdict('userdict.txt')\n",
    "\n",
    "a = ['柯文哲為了大巨蛋一事找趙藤雄算帳', '柯P將不在大巨蛋舉辦世運會']\n",
    "\n",
    "corpus = [' '.join(jieba.cut(s)) for s in a]\n",
    "corpus\n"
   ]
  },
  {
   "cell_type": "code",
   "execution_count": 121,
   "metadata": {},
   "outputs": [],
   "source": [
    "from sklearn.feature_extraction.text import CountVectorizer\n",
    "vectorizer = CountVectorizer()\n",
    "X = vectorizer.fit_transform(corpus)\n"
   ]
  },
  {
   "cell_type": "code",
   "execution_count": 122,
   "metadata": {},
   "outputs": [
    {
     "data": {
      "text/plain": [
       "['一事', '世運會', '大巨蛋', '將不在', '柯p', '柯文哲', '算帳', '舉辦', '趙藤雄']"
      ]
     },
     "execution_count": 122,
     "metadata": {},
     "output_type": "execute_result"
    }
   ],
   "source": [
    "vectorizer.get_feature_names()"
   ]
  },
  {
   "cell_type": "code",
   "execution_count": 123,
   "metadata": {},
   "outputs": [
    {
     "data": {
      "text/plain": [
       "<2x9 sparse matrix of type '<class 'numpy.int64'>'\n",
       "\twith 10 stored elements in Compressed Sparse Row format>"
      ]
     },
     "execution_count": 123,
     "metadata": {},
     "output_type": "execute_result"
    }
   ],
   "source": [
    "X"
   ]
  },
  {
   "cell_type": "code",
   "execution_count": 124,
   "metadata": {},
   "outputs": [],
   "source": [
    "corpus = []\n",
    "for q in ctbc_qa['question'].tolist():\n",
    "    corpus.append(' '.join(jieba.cut(q)))"
   ]
  },
  {
   "cell_type": "code",
   "execution_count": 125,
   "metadata": {},
   "outputs": [],
   "source": [
    "corpus = [' '.join(jieba.cut(q)) for q in ctbc_qa['question'].tolist()]"
   ]
  },
  {
   "cell_type": "code",
   "execution_count": 126,
   "metadata": {},
   "outputs": [],
   "source": [
    "from sklearn.feature_extraction.text import CountVectorizer\n",
    "vectorizer = CountVectorizer()\n",
    "X = vectorizer.fit_transform(corpus)"
   ]
  },
  {
   "cell_type": "code",
   "execution_count": 136,
   "metadata": {},
   "outputs": [],
   "source": [
    "#print(vectorizer.get_feature_names())"
   ]
  },
  {
   "cell_type": "code",
   "execution_count": 134,
   "metadata": {},
   "outputs": [],
   "source": [
    "synonym_dic = {}\n",
    "with open('synonym.txt', 'r') as f:\n",
    "    for line in f:\n",
    "        fields = line.strip().split('/')\n",
    "        for field in fields[1:]:\n",
    "            synonym_dic[field] = fields[0]"
   ]
  },
  {
   "cell_type": "code",
   "execution_count": 172,
   "metadata": {},
   "outputs": [],
   "source": [
    "class SynonymCountVectorizer(CountVectorizer):\n",
    "    def build_analyzer(self):\n",
    "        analyzer = super(SynonymCountVectorizer, self).build_analyzer()\n",
    "        return lambda doc: (synonym_dic.get(w, w) for w in analyzer(doc))"
   ]
  },
  {
   "cell_type": "code",
   "execution_count": 173,
   "metadata": {},
   "outputs": [],
   "source": [
    "vectorizer = SynonymCountVectorizer()\n",
    "X = vectorizer.fit_transform(corpus)\n",
    "#print(vectorizer.get_feature_names())"
   ]
  },
  {
   "cell_type": "markdown",
   "metadata": {},
   "source": [
    "## Distance Calculation"
   ]
  },
  {
   "cell_type": "code",
   "execution_count": 145,
   "metadata": {},
   "outputs": [
    {
     "data": {
      "text/plain": [
       "1.4142135623730951"
      ]
     },
     "execution_count": 145,
     "metadata": {},
     "output_type": "execute_result"
    }
   ],
   "source": [
    "import numpy as np\n",
    "import math\n",
    "a = np.array([1,0,1,1,1])\n",
    "b = np.array([1,1,1,0,1])\n",
    "math.sqrt(sum((a - b) ** 2))"
   ]
  },
  {
   "cell_type": "code",
   "execution_count": 147,
   "metadata": {},
   "outputs": [
    {
     "data": {
      "text/plain": [
       "array([[0.        , 1.41421356],\n",
       "       [1.41421356, 0.        ]])"
      ]
     },
     "execution_count": 147,
     "metadata": {},
     "output_type": "execute_result"
    }
   ],
   "source": [
    "from sklearn.metrics.pairwise import euclidean_distances\n",
    "euclidean_distances([a,b])"
   ]
  },
  {
   "cell_type": "code",
   "execution_count": 149,
   "metadata": {},
   "outputs": [],
   "source": [
    "title   = '銀行業去年平均年薪　兆豐223萬奪冠'\n",
    "content = '立委曾銘宗在今天財委會上，出具一份數據，去年全體銀行員工平均薪資中，以兆豐銀平均每位員工薪資達223.4萬元居冠，打敗中信銀的203.6萬元，而全體平均37家銀行員工平均薪資是142.9萬元，但最後一名銀行的平均員工薪資是82.8萬元，和最高的兆豐銀、高低差距了2.69倍，也與平均薪資差了1.72倍' \n",
    "\n",
    "corpus2 = [' '.join(jieba.cut(title)), ' '.join(jieba.cut(content))]\n",
    "vectorizer2 = CountVectorizer()\n",
    "X2 = vectorizer2.fit_transform(corpus2)"
   ]
  },
  {
   "cell_type": "code",
   "execution_count": 152,
   "metadata": {},
   "outputs": [
    {
     "data": {
      "text/plain": [
       "array([[0.        , 9.38083152],\n",
       "       [9.38083152, 0.        ]])"
      ]
     },
     "execution_count": 152,
     "metadata": {},
     "output_type": "execute_result"
    }
   ],
   "source": [
    "euclidean_distances(X2)"
   ]
  },
  {
   "cell_type": "code",
   "execution_count": 170,
   "metadata": {},
   "outputs": [
    {
     "data": {
      "text/plain": [
       "0.75"
      ]
     },
     "execution_count": 170,
     "metadata": {},
     "output_type": "execute_result"
    }
   ],
   "source": [
    "a = np.array([1,0,1,1,1])\n",
    "b = np.array([1,1,1,0,1])\n",
    "(a * b).sum() / (math.sqrt((a ** 2).sum()) * math.sqrt((b ** 2).sum()) )"
   ]
  },
  {
   "cell_type": "code",
   "execution_count": 171,
   "metadata": {},
   "outputs": [
    {
     "data": {
      "text/plain": [
       "array([[1.  , 0.75],\n",
       "       [0.75, 1.  ]])"
      ]
     },
     "execution_count": 171,
     "metadata": {},
     "output_type": "execute_result"
    }
   ],
   "source": [
    "from sklearn.metrics.pairwise import cosine_distances, cosine_similarity\n",
    "cosine_similarity([a,b])"
   ]
  },
  {
   "cell_type": "code",
   "execution_count": 166,
   "metadata": {},
   "outputs": [
    {
     "data": {
      "text/plain": [
       "array([[0.  , 0.25],\n",
       "       [0.25, 0.  ]])"
      ]
     },
     "execution_count": 166,
     "metadata": {},
     "output_type": "execute_result"
    }
   ],
   "source": [
    "cosine_distances([a,b])"
   ]
  },
  {
   "cell_type": "code",
   "execution_count": 174,
   "metadata": {},
   "outputs": [],
   "source": [
    "cs = cosine_distances(X)"
   ]
  },
  {
   "cell_type": "code",
   "execution_count": 175,
   "metadata": {},
   "outputs": [
    {
     "data": {
      "text/plain": [
       "(324, 324)"
      ]
     },
     "execution_count": 175,
     "metadata": {},
     "output_type": "execute_result"
    }
   ],
   "source": [
    "cs.shape"
   ]
  },
  {
   "cell_type": "code",
   "execution_count": 230,
   "metadata": {},
   "outputs": [
    {
     "name": "stdout",
     "output_type": "stream",
     "text": [
      "請輸入你的問題：我想要開戶，請問我該準備哪些文件\n"
     ]
    }
   ],
   "source": [
    "user_input = input('請輸入你的問題：')"
   ]
  },
  {
   "cell_type": "code",
   "execution_count": 231,
   "metadata": {},
   "outputs": [],
   "source": [
    "c = [' '.join(jieba.cut(user_input))]"
   ]
  },
  {
   "cell_type": "code",
   "execution_count": 232,
   "metadata": {},
   "outputs": [],
   "source": [
    "user_vec = vectorizer.transform(c)"
   ]
  },
  {
   "cell_type": "code",
   "execution_count": 233,
   "metadata": {},
   "outputs": [
    {
     "data": {
      "text/plain": [
       "<1x724 sparse matrix of type '<class 'numpy.int64'>'\n",
       "\twith 7 stored elements in Compressed Sparse Row format>"
      ]
     },
     "execution_count": 233,
     "metadata": {},
     "output_type": "execute_result"
    }
   ],
   "source": [
    "user_vec"
   ]
  },
  {
   "cell_type": "code",
   "execution_count": 234,
   "metadata": {},
   "outputs": [],
   "source": [
    "cs = cosine_distances(user_vec,X)"
   ]
  },
  {
   "cell_type": "code",
   "execution_count": 235,
   "metadata": {},
   "outputs": [
    {
     "data": {
      "text/plain": [
       "(1, 324)"
      ]
     },
     "execution_count": 235,
     "metadata": {},
     "output_type": "execute_result"
    }
   ],
   "source": [
    "cs.shape"
   ]
  },
  {
   "cell_type": "code",
   "execution_count": 236,
   "metadata": {},
   "outputs": [
    {
     "data": {
      "text/plain": [
       "140"
      ]
     },
     "execution_count": 236,
     "metadata": {},
     "output_type": "execute_result"
    }
   ],
   "source": [
    "cs.argsort()[0][0]"
   ]
  },
  {
   "cell_type": "code",
   "execution_count": 237,
   "metadata": {},
   "outputs": [
    {
     "data": {
      "text/plain": [
       "question                                           開戶應攜帶什麼文件?\n",
       "answer      只要您持有本行信用卡正卡，且您的車輛已有申請eTag服務，就可以申請信用卡代扣繳eTag自動...\n",
       "Name: 140, dtype: object"
      ]
     },
     "execution_count": 237,
     "metadata": {},
     "output_type": "execute_result"
    }
   ],
   "source": [
    "ctbc_qa.iloc[cs.argsort()[0][0]]"
   ]
  },
  {
   "cell_type": "markdown",
   "metadata": {},
   "source": [
    "## 內容相似度對話機器人"
   ]
  },
  {
   "cell_type": "code",
   "execution_count": 269,
   "metadata": {},
   "outputs": [],
   "source": [
    "import jieba\n",
    "jieba.load_userdict('userdict.txt')\n",
    "corpus = [' '.join(jieba.cut(q)) for q in ctbc_qa['question'].tolist()]\n",
    "vectorizer = CountVectorizer()\n",
    "knowledge= vectorizer.fit_transform(corpus)"
   ]
  },
  {
   "cell_type": "code",
   "execution_count": 270,
   "metadata": {},
   "outputs": [
    {
     "name": "stdout",
     "output_type": "stream",
     "text": [
      "請輸入你的問題：hihi\n",
      "我現在無法回答您的問題，等我變聰明以後再回答您的問題\n"
     ]
    }
   ],
   "source": [
    "user_input = input('請輸入你的問題：')\n",
    "c = [' '.join(jieba.cut(user_input))]\n",
    "user_vec = vectorizer.transform(c)\n",
    "cs = cosine_distances(user_vec,knowledge)\n",
    "idx = cs.argsort()[0][0]\n",
    "if cs[0][idx] < 0.5:\n",
    "    res = ctbc_qa.iloc[cs.argsort()[0][0]]\n",
    "    print('請問你的問題是「{}」嗎?'.format(res['question']))\n",
    "    print(res['answer'])\n",
    "else:\n",
    "    print('我現在無法回答您的問題，等我變聰明以後再回答您的問題')"
   ]
  },
  {
   "cell_type": "markdown",
   "metadata": {},
   "source": [
    "## 將檔案存成pickle"
   ]
  },
  {
   "cell_type": "code",
   "execution_count": 271,
   "metadata": {},
   "outputs": [],
   "source": [
    "import pickle\n",
    "#?pickle.dump\n",
    "with open('vectorizer.pickle', 'wb') as f:\n",
    "    pickle.dump(vectorizer, f)"
   ]
  },
  {
   "cell_type": "code",
   "execution_count": 272,
   "metadata": {},
   "outputs": [],
   "source": [
    "import pickle\n",
    "with open('knowledge.pickle', 'wb') as f:\n",
    "    pickle.dump(knowledge, f)"
   ]
  },
  {
   "cell_type": "code",
   "execution_count": 273,
   "metadata": {},
   "outputs": [],
   "source": [
    "import pickle\n",
    "with open('data.pickle', 'wb') as f:\n",
    "    pickle.dump(ctbc_qa, f)"
   ]
  },
  {
   "cell_type": "code",
   "execution_count": 256,
   "metadata": {},
   "outputs": [],
   "source": [
    "import pickle\n",
    "vec = pickle.loads(open('vectorizer.pickle','rb').read() )"
   ]
  },
  {
   "cell_type": "code",
   "execution_count": 258,
   "metadata": {},
   "outputs": [
    {
     "data": {
      "text/plain": [
       "SynonymCountVectorizer(analyzer='word', binary=False, decode_error='strict',\n",
       "            dtype=<class 'numpy.int64'>, encoding='utf-8', input='content',\n",
       "            lowercase=True, max_df=1.0, max_features=None, min_df=1,\n",
       "            ngram_range=(1, 1), preprocessor=None, stop_words=None,\n",
       "            strip_accents=None, token_pattern='(?u)\\\\b\\\\w\\\\w+\\\\b',\n",
       "            tokenizer=None, vocabulary=None)"
      ]
     },
     "execution_count": 258,
     "metadata": {},
     "output_type": "execute_result"
    }
   ],
   "source": [
    "vec"
   ]
  },
  {
   "cell_type": "code",
   "execution_count": 259,
   "metadata": {},
   "outputs": [],
   "source": [
    "import pickle\n",
    "know = pickle.loads(open('knowledge.pickle','rb').read() )"
   ]
  },
  {
   "cell_type": "code",
   "execution_count": 260,
   "metadata": {},
   "outputs": [
    {
     "name": "stdout",
     "output_type": "stream",
     "text": [
      "請輸入你的問題：該如何辦定存\n",
      "請問你的問題是「如何辦定存?」嗎?\n",
      "A：1.整合式對帳單服務：凡是您透過中國信託商業銀行行銷通路購買之保單，而同時您又是中國信託網路銀行之客戶，只要您簽訂保險代理人業務同意書後，即可透過中國信託網路銀行查詢您完整的投保資訊。 2.理賠申請服務：您可至全臺任一中國信託商業銀行分行的保險代理業務專區申請理賠，我們除了提供理賠申請案件之代收送還可幫您追蹤理賠進度，再也不用擔心買了保單之後找不到業務員服務，即使保費只有360元也可享受完整的售後服務。\n"
     ]
    }
   ],
   "source": [
    "user_input = input('請輸入你的問題：')\n",
    "c = [' '.join(jieba.cut(user_input))]\n",
    "user_vec = vec.transform(c)\n",
    "cs = cosine_distances(user_vec,know)\n",
    "idx = cs.argsort()[0][0]\n",
    "if cs[0][idx] < 0.5:\n",
    "    res = ctbc_qa.iloc[cs.argsort()[0][0]]\n",
    "    print('請問你的問題是「{}」嗎?'.format(res['question']))\n",
    "    print(res['answer'])\n",
    "else:\n",
    "    print('我現在無法回答您的問題，等我變聰明以後再回答您的問題')"
   ]
  },
  {
   "cell_type": "code",
   "execution_count": 261,
   "metadata": {},
   "outputs": [
    {
     "name": "stderr",
     "output_type": "stream",
     "text": [
      " * Running on http://127.0.0.1:5000/ (Press CTRL+C to quit)\n",
      "127.0.0.1 - - [20/Dec/2018 15:06:58] \"\u001b[37mGET / HTTP/1.1\u001b[0m\" 200 -\n",
      "127.0.0.1 - - [20/Dec/2018 15:06:59] \"\u001b[33mGET /favicon.ico HTTP/1.1\u001b[0m\" 404 -\n"
     ]
    }
   ],
   "source": [
    "from flask import Flask,jsonify\n",
    "app=Flask(__name__)\n",
    "\n",
    "@app.route(\"/\")\n",
    "def getHello():\n",
    "    return 'Hello World'\n",
    "\n",
    "app.run()"
   ]
  },
  {
   "cell_type": "code",
   "execution_count": 265,
   "metadata": {},
   "outputs": [
    {
     "name": "stderr",
     "output_type": "stream",
     "text": [
      " * Running on http://127.0.0.1:5000/ (Press CTRL+C to quit)\n",
      "127.0.0.1 - - [20/Dec/2018 15:12:54] \"\u001b[37mGET /%E6%88%91%E8%A9%B2%E5%A6%82%E4%BD%95%E8%BE%A6%E5%AE%9A%E5%AD%98 HTTP/1.1\u001b[0m\" 200 -\n",
      "127.0.0.1 - - [20/Dec/2018 15:13:05] \"\u001b[37mGET /%E6%88%91%E8%A9%B2%E5%A6%82%E4%BD%95%E8%BE%A6%E5%AE%9A%E5%AD%98 HTTP/1.1\u001b[0m\" 200 -\n"
     ]
    }
   ],
   "source": [
    "import pickle\n",
    "from flask import Flask,jsonify\n",
    "app=Flask(__name__)\n",
    "know = pickle.loads(open('knowledge.pickle','rb').read() )\n",
    "vec = pickle.loads(open('vectorizer.pickle','rb').read() )\n",
    "\n",
    "@app.route(\"/<user_input>\")\n",
    "def getResponse(user_input):\n",
    "    c = [' '.join(jieba.cut(user_input))]\n",
    "    user_vec = vec.transform(c)\n",
    "    cs = cosine_distances(user_vec,know)\n",
    "    idx = cs.argsort()[0][0]\n",
    "    if cs[0][idx] < 0.5:\n",
    "        res = ctbc_qa.iloc[cs.argsort()[0][0]]\n",
    "        return jsonify({'question':res['question'], 'response':res['answer']})\n",
    "    else:\n",
    "        return jsonify({'question':res['question'], 'resonse':'我現在無法回答您的問題，等我變聰明以後再回答您的問題'})\n",
    "\n",
    "app.run()"
   ]
  },
  {
   "cell_type": "code",
   "execution_count": 279,
   "metadata": {},
   "outputs": [
    {
     "data": {
      "text/plain": [
       "'該如何辦定存'"
      ]
     },
     "execution_count": 279,
     "metadata": {},
     "output_type": "execute_result"
    }
   ],
   "source": [
    "listenTo()"
   ]
  },
  {
   "cell_type": "code",
   "execution_count": 274,
   "metadata": {},
   "outputs": [],
   "source": [
    "import speech_recognition\n",
    "def listenTo():\n",
    "    r = speech_recognition.Recognizer()\n",
    "    with speech_recognition.Microphone() as source:\n",
    "        r.adjust_for_ambient_noise(source)\n",
    "        audio = r.listen(source)\n",
    "    return r.recognize_google(audio, language='zh-TW')"
   ]
  },
  {
   "cell_type": "code",
   "execution_count": 282,
   "metadata": {},
   "outputs": [
    {
     "name": "stdout",
     "output_type": "stream",
     "text": [
      "Collecting gtts\n",
      "  Downloading https://files.pythonhosted.org/packages/e6/37/f55346a736278f0eb0ae9f7edee1a61028735ef0010db68a2e6fcd0ece56/gTTS-2.0.3.tar.gz\n",
      "Requirement already up-to-date: six in /Users/davidchiu/.pyenv/versions/3.6.2/lib/python3.6/site-packages (from gtts)\n",
      "Requirement already up-to-date: bs4 in /Users/davidchiu/.pyenv/versions/3.6.2/lib/python3.6/site-packages (from gtts)\n",
      "Requirement already up-to-date: click in /Users/davidchiu/.pyenv/versions/3.6.2/lib/python3.6/site-packages (from gtts)\n",
      "Requirement already up-to-date: requests in /Users/davidchiu/.pyenv/versions/3.6.2/lib/python3.6/site-packages (from gtts)\n",
      "Collecting gtts_token (from gtts)\n",
      "  Downloading https://files.pythonhosted.org/packages/e7/25/ca6e9cd3275bfc3097fe6b06cc31db6d3dfaf32e032e0f73fead9c9a03ce/gTTS-token-1.1.3.tar.gz\n",
      "Requirement already up-to-date: beautifulsoup4 in /Users/davidchiu/.pyenv/versions/3.6.2/lib/python3.6/site-packages (from bs4->gtts)\n",
      "Requirement already up-to-date: certifi>=2017.4.17 in /Users/davidchiu/.pyenv/versions/3.6.2/lib/python3.6/site-packages (from requests->gtts)\n",
      "Requirement already up-to-date: urllib3<1.25,>=1.21.1 in /Users/davidchiu/.pyenv/versions/3.6.2/lib/python3.6/site-packages (from requests->gtts)\n",
      "Requirement already up-to-date: idna<2.9,>=2.5 in /Users/davidchiu/.pyenv/versions/3.6.2/lib/python3.6/site-packages (from requests->gtts)\n",
      "Requirement already up-to-date: chardet<3.1.0,>=3.0.2 in /Users/davidchiu/.pyenv/versions/3.6.2/lib/python3.6/site-packages (from requests->gtts)\n",
      "Building wheels for collected packages: gtts, gtts-token\n",
      "  Running setup.py bdist_wheel for gtts ... \u001b[?25ldone\n",
      "\u001b[?25h  Stored in directory: /Users/davidchiu/Library/Caches/pip/wheels/ac/d3/52/db6c154b20dfaab7e0b514eb5eef92cecd057e40e16fdda58b\n",
      "  Running setup.py bdist_wheel for gtts-token ... \u001b[?25ldone\n",
      "\u001b[?25h  Stored in directory: /Users/davidchiu/Library/Caches/pip/wheels/dd/11/61/33f7e51bf545e910552b2255eead2a7cd8ef54064b46dceb34\n",
      "Successfully built gtts gtts-token\n",
      "Installing collected packages: gtts-token, gtts\n",
      "  Found existing installation: gTTS-token 1.1.2\n",
      "    Uninstalling gTTS-token-1.1.2:\n",
      "      Successfully uninstalled gTTS-token-1.1.2\n",
      "  Found existing installation: gTTS 2.0.1\n",
      "    Uninstalling gTTS-2.0.1:\n",
      "      Successfully uninstalled gTTS-2.0.1\n",
      "Successfully installed gtts-2.0.3 gtts-token-1.1.3\n",
      "\u001b[33mYou are using pip version 9.0.1, however version 18.1 is available.\n",
      "You should consider upgrading via the 'pip install --upgrade pip' command.\u001b[0m\n"
     ]
    }
   ],
   "source": [
    "! pip install --upgrade gtts"
   ]
  },
  {
   "cell_type": "code",
   "execution_count": 285,
   "metadata": {},
   "outputs": [
    {
     "ename": "AttributeError",
     "evalue": "'NoneType' object has no attribute 'group'",
     "output_type": "error",
     "traceback": [
      "\u001b[0;31m---------------------------------------------------------------------------\u001b[0m",
      "\u001b[0;31mAttributeError\u001b[0m                            Traceback (most recent call last)",
      "\u001b[0;32m<ipython-input-285-3484127891c8>\u001b[0m in \u001b[0;36m<module>\u001b[0;34m()\u001b[0m\n\u001b[1;32m     10\u001b[0m         \u001b[0mmixer\u001b[0m\u001b[0;34m.\u001b[0m\u001b[0mmusic\u001b[0m\u001b[0;34m.\u001b[0m\u001b[0mload\u001b[0m\u001b[0;34m(\u001b[0m\u001b[0;34m'{}.mp3'\u001b[0m\u001b[0;34m.\u001b[0m\u001b[0mformat\u001b[0m\u001b[0;34m(\u001b[0m\u001b[0mfp\u001b[0m\u001b[0;34m.\u001b[0m\u001b[0mname\u001b[0m\u001b[0;34m)\u001b[0m\u001b[0;34m)\u001b[0m\u001b[0;34m\u001b[0m\u001b[0m\n\u001b[1;32m     11\u001b[0m         \u001b[0mmixer\u001b[0m\u001b[0;34m.\u001b[0m\u001b[0mmusic\u001b[0m\u001b[0;34m.\u001b[0m\u001b[0mplay\u001b[0m\u001b[0;34m(\u001b[0m\u001b[0;34m)\u001b[0m\u001b[0;34m\u001b[0m\u001b[0m\n\u001b[0;32m---> 12\u001b[0;31m \u001b[0mspeak\u001b[0m\u001b[0;34m(\u001b[0m\u001b[0;34m'你好'\u001b[0m\u001b[0;34m)\u001b[0m\u001b[0;34m\u001b[0m\u001b[0m\n\u001b[0m",
      "\u001b[0;32m<ipython-input-285-3484127891c8>\u001b[0m in \u001b[0;36mspeak\u001b[0;34m(sentence)\u001b[0m\n\u001b[1;32m      7\u001b[0m     \u001b[0;32mwith\u001b[0m \u001b[0mtempfile\u001b[0m\u001b[0;34m.\u001b[0m\u001b[0mNamedTemporaryFile\u001b[0m\u001b[0;34m(\u001b[0m\u001b[0mdelete\u001b[0m\u001b[0;34m=\u001b[0m\u001b[0;32mTrue\u001b[0m\u001b[0;34m)\u001b[0m \u001b[0;32mas\u001b[0m \u001b[0mfp\u001b[0m\u001b[0;34m:\u001b[0m\u001b[0;34m\u001b[0m\u001b[0m\n\u001b[1;32m      8\u001b[0m         \u001b[0mtts\u001b[0m \u001b[0;34m=\u001b[0m \u001b[0mgTTS\u001b[0m\u001b[0;34m(\u001b[0m\u001b[0mtext\u001b[0m\u001b[0;34m=\u001b[0m\u001b[0msentence\u001b[0m\u001b[0;34m)\u001b[0m\u001b[0;34m\u001b[0m\u001b[0m\n\u001b[0;32m----> 9\u001b[0;31m         \u001b[0mtts\u001b[0m\u001b[0;34m.\u001b[0m\u001b[0msave\u001b[0m\u001b[0;34m(\u001b[0m\u001b[0;34m\"{}.mp3\"\u001b[0m\u001b[0;34m.\u001b[0m\u001b[0mformat\u001b[0m\u001b[0;34m(\u001b[0m\u001b[0mfp\u001b[0m\u001b[0;34m.\u001b[0m\u001b[0mname\u001b[0m\u001b[0;34m)\u001b[0m\u001b[0;34m)\u001b[0m\u001b[0;34m\u001b[0m\u001b[0m\n\u001b[0m\u001b[1;32m     10\u001b[0m         \u001b[0mmixer\u001b[0m\u001b[0;34m.\u001b[0m\u001b[0mmusic\u001b[0m\u001b[0;34m.\u001b[0m\u001b[0mload\u001b[0m\u001b[0;34m(\u001b[0m\u001b[0;34m'{}.mp3'\u001b[0m\u001b[0;34m.\u001b[0m\u001b[0mformat\u001b[0m\u001b[0;34m(\u001b[0m\u001b[0mfp\u001b[0m\u001b[0;34m.\u001b[0m\u001b[0mname\u001b[0m\u001b[0;34m)\u001b[0m\u001b[0;34m)\u001b[0m\u001b[0;34m\u001b[0m\u001b[0m\n\u001b[1;32m     11\u001b[0m         \u001b[0mmixer\u001b[0m\u001b[0;34m.\u001b[0m\u001b[0mmusic\u001b[0m\u001b[0;34m.\u001b[0m\u001b[0mplay\u001b[0m\u001b[0;34m(\u001b[0m\u001b[0;34m)\u001b[0m\u001b[0;34m\u001b[0m\u001b[0m\n",
      "\u001b[0;32m~/.pyenv/versions/3.6.2/lib/python3.6/site-packages/gtts/tts.py\u001b[0m in \u001b[0;36msave\u001b[0;34m(self, savefile)\u001b[0m\n\u001b[1;32m    245\u001b[0m             \u001b[0;34m:\u001b[0m\u001b[0;32mclass\u001b[0m\u001b[0;34m:\u001b[0m\u001b[0;31m`\u001b[0m\u001b[0mgTTSError\u001b[0m\u001b[0;31m`\u001b[0m\u001b[0;34m:\u001b[0m \u001b[0mWhen\u001b[0m \u001b[0mthere\u001b[0m\u001b[0;31m'\u001b[0m\u001b[0ms\u001b[0m \u001b[0man\u001b[0m \u001b[0merror\u001b[0m \u001b[0;32mwith\u001b[0m \u001b[0mthe\u001b[0m \u001b[0mAPI\u001b[0m \u001b[0mrequest\u001b[0m\u001b[0;34m.\u001b[0m\u001b[0;34m\u001b[0m\u001b[0m\n\u001b[1;32m    246\u001b[0m \u001b[0;34m\u001b[0m\u001b[0m\n\u001b[0;32m--> 247\u001b[0;31m         \"\"\"\n\u001b[0m\u001b[1;32m    248\u001b[0m         \u001b[0;32mwith\u001b[0m \u001b[0mopen\u001b[0m\u001b[0;34m(\u001b[0m\u001b[0msavefile\u001b[0m\u001b[0;34m,\u001b[0m \u001b[0;34m'wb'\u001b[0m\u001b[0;34m)\u001b[0m \u001b[0;32mas\u001b[0m \u001b[0mf\u001b[0m\u001b[0;34m:\u001b[0m\u001b[0;34m\u001b[0m\u001b[0m\n\u001b[1;32m    249\u001b[0m             \u001b[0mself\u001b[0m\u001b[0;34m.\u001b[0m\u001b[0mwrite_to_fp\u001b[0m\u001b[0;34m(\u001b[0m\u001b[0mf\u001b[0m\u001b[0;34m)\u001b[0m\u001b[0;34m\u001b[0m\u001b[0m\n",
      "\u001b[0;32m~/.pyenv/versions/3.6.2/lib/python3.6/site-packages/gtts/tts.py\u001b[0m in \u001b[0;36mwrite_to_fp\u001b[0;34m(self, fp)\u001b[0m\n\u001b[1;32m    185\u001b[0m \u001b[0;34m\u001b[0m\u001b[0m\n\u001b[1;32m    186\u001b[0m         \u001b[0;32mfor\u001b[0m \u001b[0midx\u001b[0m\u001b[0;34m,\u001b[0m \u001b[0mpart\u001b[0m \u001b[0;32min\u001b[0m \u001b[0menumerate\u001b[0m\u001b[0;34m(\u001b[0m\u001b[0mtext_parts\u001b[0m\u001b[0;34m)\u001b[0m\u001b[0;34m:\u001b[0m\u001b[0;34m\u001b[0m\u001b[0m\n\u001b[0;32m--> 187\u001b[0;31m             \u001b[0;32mtry\u001b[0m\u001b[0;34m:\u001b[0m\u001b[0;34m\u001b[0m\u001b[0m\n\u001b[0m\u001b[1;32m    188\u001b[0m                 \u001b[0;31m# Calculate token\u001b[0m\u001b[0;34m\u001b[0m\u001b[0;34m\u001b[0m\u001b[0m\n\u001b[1;32m    189\u001b[0m                 \u001b[0mpart_tk\u001b[0m \u001b[0;34m=\u001b[0m \u001b[0mself\u001b[0m\u001b[0;34m.\u001b[0m\u001b[0mtoken\u001b[0m\u001b[0;34m.\u001b[0m\u001b[0mcalculate_token\u001b[0m\u001b[0;34m(\u001b[0m\u001b[0mpart\u001b[0m\u001b[0;34m)\u001b[0m\u001b[0;34m\u001b[0m\u001b[0m\n",
      "\u001b[0;32m~/.pyenv/versions/3.6.2/lib/python3.6/site-packages/gtts_token/gtts_token.py\u001b[0m in \u001b[0;36mcalculate_token\u001b[0;34m(self, text, seed)\u001b[0m\n\u001b[1;32m     26\u001b[0m \u001b[0;34m\u001b[0m\u001b[0m\n\u001b[1;32m     27\u001b[0m         \u001b[0;32mif\u001b[0m \u001b[0mseed\u001b[0m \u001b[0;32mis\u001b[0m \u001b[0;32mNone\u001b[0m\u001b[0;34m:\u001b[0m\u001b[0;34m\u001b[0m\u001b[0m\n\u001b[0;32m---> 28\u001b[0;31m             \u001b[0mseed\u001b[0m \u001b[0;34m=\u001b[0m \u001b[0mself\u001b[0m\u001b[0;34m.\u001b[0m\u001b[0m_get_token_key\u001b[0m\u001b[0;34m(\u001b[0m\u001b[0;34m)\u001b[0m\u001b[0;34m\u001b[0m\u001b[0m\n\u001b[0m\u001b[1;32m     29\u001b[0m \u001b[0;34m\u001b[0m\u001b[0m\n\u001b[1;32m     30\u001b[0m         \u001b[0;34m[\u001b[0m\u001b[0mfirst_seed\u001b[0m\u001b[0;34m,\u001b[0m \u001b[0msecond_seed\u001b[0m\u001b[0;34m]\u001b[0m \u001b[0;34m=\u001b[0m \u001b[0mseed\u001b[0m\u001b[0;34m.\u001b[0m\u001b[0msplit\u001b[0m\u001b[0;34m(\u001b[0m\u001b[0;34m\".\"\u001b[0m\u001b[0;34m)\u001b[0m\u001b[0;34m\u001b[0m\u001b[0m\n",
      "\u001b[0;32m~/.pyenv/versions/3.6.2/lib/python3.6/site-packages/gtts_token/gtts_token.py\u001b[0m in \u001b[0;36m_get_token_key\u001b[0;34m(self)\u001b[0m\n\u001b[1;32m     55\u001b[0m         \u001b[0mresponse\u001b[0m \u001b[0;34m=\u001b[0m \u001b[0mrequests\u001b[0m\u001b[0;34m.\u001b[0m\u001b[0mget\u001b[0m\u001b[0;34m(\u001b[0m\u001b[0;34m\"https://translate.google.com/\"\u001b[0m\u001b[0;34m)\u001b[0m\u001b[0;34m\u001b[0m\u001b[0m\n\u001b[1;32m     56\u001b[0m         \u001b[0mtkk_expr\u001b[0m \u001b[0;34m=\u001b[0m \u001b[0mre\u001b[0m\u001b[0;34m.\u001b[0m\u001b[0msearch\u001b[0m\u001b[0;34m(\u001b[0m\u001b[0;34m\"(tkk:.*?),\"\u001b[0m\u001b[0;34m,\u001b[0m \u001b[0mresponse\u001b[0m\u001b[0;34m.\u001b[0m\u001b[0mtext\u001b[0m\u001b[0;34m)\u001b[0m\u001b[0;34m\u001b[0m\u001b[0m\n\u001b[0;32m---> 57\u001b[0;31m         \u001b[0;32mif\u001b[0m \u001b[0;32mnot\u001b[0m \u001b[0mtkk_expr\u001b[0m\u001b[0;34m:\u001b[0m\u001b[0;34m\u001b[0m\u001b[0m\n\u001b[0m\u001b[1;32m     58\u001b[0m             raise ValueError(\n\u001b[1;32m     59\u001b[0m                 \u001b[0;34m\"Unable to find token seed! Did https://translate.google.com change?\"\u001b[0m\u001b[0;34m\u001b[0m\u001b[0m\n",
      "\u001b[0;31mAttributeError\u001b[0m: 'NoneType' object has no attribute 'group'"
     ]
    }
   ],
   "source": [
    "from gtts import gTTS\n",
    "from pygame import mixer\n",
    "mixer.init()\n",
    "\n",
    "import tempfile\n",
    "def speak(sentence):\n",
    "    with tempfile.NamedTemporaryFile(delete=True) as fp:\n",
    "        tts = gTTS(text=sentence, lang='zh_tw')\n",
    "        tts.save(\"{}.mp3\".format(fp.name))\n",
    "        mixer.music.load('{}.mp3'.format(fp.name))\n",
    "        mixer.music.play()\n",
    "speak('你好')"
   ]
  },
  {
   "cell_type": "code",
   "execution_count": 286,
   "metadata": {},
   "outputs": [
    {
     "name": "stdout",
     "output_type": "stream",
     "text": [
      "A：1.整合式對帳單服務：凡是您透過中國信託商業銀行行銷通路購買之保單，而同時您又是中國信託網路銀行之客戶，只要您簽訂保險代理人業務同意書後，即可透過中國信託網路銀行查詢您完整的投保資訊。 2.理賠申請服務：您可至全臺任一中國信託商業銀行分行的保險代理業務專區申請理賠，我們除了提供理賠申請案件之代收送還可幫您追蹤理賠進度，再也不用擔心買了保單之後找不到業務員服務，即使保費只有360元也可享受完整的售後服務。\n"
     ]
    }
   ],
   "source": [
    "user_input = listenTo()\n",
    "c = [' '.join(jieba.cut(user_input))]\n",
    "user_vec = vec.transform(c)\n",
    "cs = cosine_distances(user_vec,know)\n",
    "idx = cs.argsort()[0][0]\n",
    "if cs[0][idx] < 0.5:\n",
    "    res = ctbc_qa.iloc[cs.argsort()[0][0]]\n",
    "    print(res['answer'])\n",
    "else:\n",
    "    print('我現在無法回答您的問題，等我變聰明以後再回答您的問題')"
   ]
  },
  {
   "cell_type": "markdown",
   "metadata": {},
   "source": [
    "## 抓取PTT 卡板資訊"
   ]
  },
  {
   "cell_type": "code",
   "execution_count": 297,
   "metadata": {},
   "outputs": [],
   "source": [
    "import requests\n",
    "res = requests.get('https://www.ptt.cc/bbs/creditcard/index.html')"
   ]
  },
  {
   "cell_type": "code",
   "execution_count": 298,
   "metadata": {},
   "outputs": [],
   "source": [
    "from bs4 import BeautifulSoup\n",
    "soup = BeautifulSoup(res.text, 'lxml')"
   ]
  },
  {
   "cell_type": "code",
   "execution_count": 295,
   "metadata": {},
   "outputs": [
    {
     "name": "stdout",
     "output_type": "stream",
     "text": [
      "coolboyjack [問題] 中信LP鼎極龍騰套餐使用問題 14 https://www.ptt.cc/bbs/creditcard/M.1545236602.A.B1D.html\n",
      "FWade [情報] 107年11月信用卡發卡量與簽帳金額 19 https://www.ptt.cc/bbs/creditcard/M.1545236955.A.DED.html\n",
      "whatcanidoo [問題] koko繳罰單 3 https://www.ptt.cc/bbs/creditcard/M.1545238192.A.E41.html\n",
      "shnh38 [閒聊] 美國運通2019年 17 https://www.ptt.cc/bbs/creditcard/M.1545239884.A.352.html\n",
      "vyvian [討論] 信用卡刷卡儲值管道 12 https://www.ptt.cc/bbs/creditcard/M.1545245273.A.37C.html\n",
      "BMW220i Re: [問題] 刷外幣要長榮聯名卡 or 台新FlyGo 4 https://www.ptt.cc/bbs/creditcard/M.1545245754.A.269.html\n",
      "loveswazi [閒聊] 我算刷不少吧 XX https://www.ptt.cc/bbs/creditcard/M.1545254934.A.00D.html\n",
      "yehpeng65 [心得] 合庫 台大醫院卡 核卡 11 https://www.ptt.cc/bbs/creditcard/M.1545259678.A.05E.html\n",
      "k300plus [問題] 台新加辦新卡有自動扣繳跟電子帳單嗎 3 https://www.ptt.cc/bbs/creditcard/M.1545270425.A.ADB.html\n",
      "yoshikipata Re: [情報] JCB晶緻悠遊卡2019 39 https://www.ptt.cc/bbs/creditcard/M.1545273192.A.C76.html\n",
      "tenghui Re: [情報] 台新FlyGo飛狗卡開放申請 55 https://www.ptt.cc/bbs/creditcard/M.1545276117.A.FC4.html\n",
      "tony711 [問題] 請問2019無腦卡主推哪一張?  https://www.ptt.cc/bbs/creditcard/M.1545276782.A.498.html\n",
      "ax19870820 [閒聊] KOKO卡回饋一問~~ 8 https://www.ptt.cc/bbs/creditcard/M.1545277341.A.739.html\n",
      "Autumnleaf [心得] 學生小白 line pay、花旗饗樂 核卡 4 https://www.ptt.cc/bbs/creditcard/M.1545281567.A.F10.html\n",
      "cookiebear [情報] JCB 2019晶緻禮遇卡友獨享 2 https://www.ptt.cc/bbs/creditcard/M.1545282026.A.499.html\n",
      "kouta Fw: [討論] 9月份購買新機MOMOx國泰3500元回饋已出帳 5 https://www.ptt.cc/bbs/creditcard/M.1545282591.A.67B.html\n",
      "faye543 [情報] 分眾 聯邦刷3筆188 送全家100抵用券 2 https://www.ptt.cc/bbs/creditcard/M.1545287916.A.972.html\n",
      "cakepupu [情報] 聯邦偶數日2%活動持續至6/30  https://www.ptt.cc/bbs/creditcard/M.1545291567.A.1E1.html\n",
      "MoonAthenaX [公告] === 卡板板規 V8.0 === (2018/05/25修訂) 5 https://www.ptt.cc/bbs/creditcard/M.1488251491.A.C7B.html\n",
      "bboy0720 [公告] 置底檢舉專區 爆 https://www.ptt.cc/bbs/creditcard/M.1425488177.A.59D.html\n",
      "MoonAthenaX [情報] 各家銀行0800免付費電話 71 https://www.ptt.cc/bbs/creditcard/M.1425873650.A.F81.html\n",
      "DarkRobert [心得] 小資族 日常消費 最優惠回饋 整理(11/08) 爆 https://www.ptt.cc/bbs/creditcard/M.1528898930.A.F33.html\n"
     ]
    }
   ],
   "source": [
    "domain = 'https://www.ptt.cc'\n",
    "for ent in soup.select('.r-ent'):\n",
    "    if ent.select_one('a'):\n",
    "        title = ent.select_one('.title').text.strip()\n",
    "        nrec  = ent.select_one('.nrec').text.strip()\n",
    "        author  = ent.select_one('.author').text.strip()\n",
    "        link  = domain + ent.select_one('a').get('href')\n",
    "        print(author, title, nrec, link)"
   ]
  },
  {
   "cell_type": "code",
   "execution_count": 304,
   "metadata": {},
   "outputs": [],
   "source": [
    "pagenumber = int(soup.select('.btn')[3].get('href').split('index')[1].split('.html')[0])"
   ]
  },
  {
   "cell_type": "code",
   "execution_count": 307,
   "metadata": {},
   "outputs": [
    {
     "name": "stdout",
     "output_type": "stream",
     "text": [
      "2901\n",
      "2900\n",
      "2899\n",
      "2898\n",
      "2897\n"
     ]
    }
   ],
   "source": [
    "for i in range(pagenumber, pagenumber - 5, -1):\n",
    "    print(i)"
   ]
  },
  {
   "cell_type": "code",
   "execution_count": 308,
   "metadata": {},
   "outputs": [
    {
     "name": "stdout",
     "output_type": "stream",
     "text": [
      "2901\n",
      "2900\n",
      "2899\n",
      "2898\n",
      "2897\n"
     ]
    }
   ],
   "source": [
    "domain = 'https://www.ptt.cc'\n",
    "articles = []\n",
    "for pg in range(pagenumber, pagenumber - 5, -1):\n",
    "    res = requests.get('https://www.ptt.cc/bbs/creditcard/index{}.html'.format(pg))\n",
    "    soup = BeautifulSoup(res.text, 'lxml')\n",
    "    for ent in soup.select('.r-ent'):\n",
    "        if ent.select_one('a'):\n",
    "            article = {}\n",
    "            article['title'] = ent.select_one('.title').text.strip()\n",
    "            article['nrec']  = ent.select_one('.nrec').text.strip()\n",
    "            article['author']  = ent.select_one('.author').text.strip()\n",
    "            article['link']  = domain + ent.select_one('a').get('href')\n",
    "            articles.append(article)\n",
    "    print(pg)"
   ]
  },
  {
   "cell_type": "code",
   "execution_count": 310,
   "metadata": {},
   "outputs": [],
   "source": [
    "import pandas\n",
    "main = pandas.DataFrame(articles)\n",
    "#main"
   ]
  },
  {
   "cell_type": "code",
   "execution_count": 312,
   "metadata": {},
   "outputs": [
    {
     "data": {
      "text/plain": [
       "'https://www.ptt.cc/bbs/creditcard/M.1545197257.A.49D.html'"
      ]
     },
     "execution_count": 312,
     "metadata": {},
     "output_type": "execute_result"
    }
   ],
   "source": [
    "main.iloc[0]['link']"
   ]
  },
  {
   "cell_type": "code",
   "execution_count": 313,
   "metadata": {},
   "outputs": [],
   "source": [
    "import requests\n",
    "res = requests.get('https://www.ptt.cc/bbs/creditcard/M.1545197257.A.49D.html')"
   ]
  },
  {
   "cell_type": "code",
   "execution_count": 315,
   "metadata": {},
   "outputs": [],
   "source": [
    "soup = BeautifulSoup(res.text, 'lxml')"
   ]
  },
  {
   "cell_type": "code",
   "execution_count": 326,
   "metadata": {},
   "outputs": [
    {
     "name": "stdout",
     "output_type": "stream",
     "text": [
      "昨日進線客服預約明年機場接送服務，\n",
      "客服表示明年權益說明還沒公告，\n",
      "但會個案處理預扣2019的接送次數\n",
      "趁怕明年權益更為縮水，剛好回國班機時間也不優\n",
      "心一橫，想說直接填寫接機時接送至家裡。\n",
      "填寫「桃園機場—台南市區」\n",
      "今天收到簡訊已完成接送預訂！\n",
      "\n",
      "不知道大家最遠從機場接送到哪個縣市？\n",
      "應該不會額外收費吧？\n",
      "因為沒有填寫這麼遠的距離過，感謝回答\n",
      "\n",
      "\n",
      "因為填寫接送表格不用寫卡號，並不知道預扣哪張。\n",
      "\n",
      "不過目前擁有的中信鼎極卡有5張：\n",
      "\n",
      "Lexus商務世界、中華電信聯名、ANA極致\n",
      "\n",
      "Line Pay無限卡、極致卡各一\n",
      "\n",
      "補圖：\n",
      "\n",
      "https://i.imgur.com/L1HkmrJ.jpg\n",
      "\n",
      "\n",
      "https://i.imgur.com/7tihZzv.jpg\n",
      "\n",
      "\n",
      "\n",
      "補充（107/12/19更新）\n",
      "\n",
      "致電客服後，客服表示年刷達到100萬以上\n",
      "\n",
      "因此台南—桃園機場\n",
      "\n",
      "來回接送皆是不需要額外支付費用。\n",
      "--\n",
      "\n"
     ]
    }
   ],
   "source": [
    "for c in soup.select_one('#main-content').contents[4:]:\n",
    "    s = BeautifulSoup(str(c), 'lxml')\n",
    "    print(s.text)\n",
    "    if str(c).strip() == '--':\n",
    "        break"
   ]
  },
  {
   "cell_type": "code",
   "execution_count": 330,
   "metadata": {},
   "outputs": [],
   "source": [
    "def getArticle(url):\n",
    "    res = requests.get(url)\n",
    "    soup = BeautifulSoup(res.text, 'lxml')\n",
    "    ret = ''\n",
    "    for c in soup.select_one('#main-content').contents[4:]:\n",
    "        s = BeautifulSoup(str(c), 'lxml')\n",
    "        ret += s.text\n",
    "        if '--' in str(c).strip():\n",
    "            break\n",
    "    return ret"
   ]
  },
  {
   "cell_type": "code",
   "execution_count": 331,
   "metadata": {},
   "outputs": [
    {
     "data": {
      "text/plain": [
       "'https://www.ptt.cc/bbs/creditcard/M.1545199423.A.BAE.html'"
      ]
     },
     "execution_count": 331,
     "metadata": {},
     "output_type": "execute_result"
    }
   ],
   "source": [
    "main.iloc[1]['link']"
   ]
  },
  {
   "cell_type": "code",
   "execution_count": 332,
   "metadata": {},
   "outputs": [
    {
     "data": {
      "text/plain": [
       "'申請Richart帳戶, 因為忘了用推薦連結\\n\\n所以最後沒驗證, 打電話請客服刪除資料\\n\\n今天接到台新簡訊說GOGO卡審核通過\\n\\n不知道是不是本身有台新卡的關係\\n\\n其中不知道哪段就算申請信用卡了\\n\\n莫名其妙就核卡了.......\\n\\n--\\n'"
      ]
     },
     "execution_count": 332,
     "metadata": {},
     "output_type": "execute_result"
    }
   ],
   "source": [
    "getArticle('https://www.ptt.cc/bbs/creditcard/M.1545199423.A.BAE.html')"
   ]
  },
  {
   "cell_type": "code",
   "execution_count": 334,
   "metadata": {},
   "outputs": [],
   "source": [
    "from bs4 import BeautifulSoup\n",
    "res = requests.get('https://www.ptt.cc/bbs/creditcard/M.1545199423.A.BAE.html')\n",
    "soup = BeautifulSoup(res.text, 'lxml')"
   ]
  },
  {
   "cell_type": "code",
   "execution_count": 336,
   "metadata": {},
   "outputs": [],
   "source": [
    "pushs = []\n",
    "for p in soup.select('.push'):\n",
    "    pushdata = {}\n",
    "    pushdata['tag']     = p.select_one('.push-tag').text.strip()\n",
    "    pushdata['userid']  = p.select_one('.push-userid').text.strip()\n",
    "    pushdata['content'] = p.select_one('.push-content').text.lstrip(':')\n",
    "    pushdata['dt']      = p.select_one('.push-ipdatetime').text.strip()\n",
    "    pushs.append(pushdata)\n"
   ]
  },
  {
   "cell_type": "code",
   "execution_count": 337,
   "metadata": {},
   "outputs": [],
   "source": [
    "pushdf = pandas.DataFrame(pushs)"
   ]
  },
  {
   "cell_type": "code",
   "execution_count": 339,
   "metadata": {},
   "outputs": [],
   "source": [
    "pushdf['link'] = 'https://www.ptt.cc/bbs/creditcard/M.1545199423.A.BAE.html'"
   ]
  },
  {
   "cell_type": "code",
   "execution_count": 340,
   "metadata": {},
   "outputs": [
    {
     "data": {
      "text/html": [
       "<div>\n",
       "<style scoped>\n",
       "    .dataframe tbody tr th:only-of-type {\n",
       "        vertical-align: middle;\n",
       "    }\n",
       "\n",
       "    .dataframe tbody tr th {\n",
       "        vertical-align: top;\n",
       "    }\n",
       "\n",
       "    .dataframe thead th {\n",
       "        text-align: right;\n",
       "    }\n",
       "</style>\n",
       "<table border=\"1\" class=\"dataframe\">\n",
       "  <thead>\n",
       "    <tr style=\"text-align: right;\">\n",
       "      <th></th>\n",
       "      <th>content</th>\n",
       "      <th>dt</th>\n",
       "      <th>tag</th>\n",
       "      <th>userid</th>\n",
       "      <th>link</th>\n",
       "    </tr>\n",
       "  </thead>\n",
       "  <tbody>\n",
       "    <tr>\n",
       "      <th>0</th>\n",
       "      <td>你應該有勾選一起申請黑狗</td>\n",
       "      <td>12/19 14:33</td>\n",
       "      <td>推</td>\n",
       "      <td>mwiei</td>\n",
       "      <td>https://www.ptt.cc/bbs/creditcard/M.1545199423...</td>\n",
       "    </tr>\n",
       "    <tr>\n",
       "      <th>1</th>\n",
       "      <td>看了這篇才發現開戶禮又延長了？！</td>\n",
       "      <td>12/19 15:35</td>\n",
       "      <td>推</td>\n",
       "      <td>kyleJ</td>\n",
       "      <td>https://www.ptt.cc/bbs/creditcard/M.1545199423...</td>\n",
       "    </tr>\n",
       "    <tr>\n",
       "      <th>2</th>\n",
       "      <td>如果取消帳戶再用好友推薦連結重開戶可以拿到開戶500</td>\n",
       "      <td>12/19 21:05</td>\n",
       "      <td>推</td>\n",
       "      <td>doubleches</td>\n",
       "      <td>https://www.ptt.cc/bbs/creditcard/M.1545199423...</td>\n",
       "    </tr>\n",
       "    <tr>\n",
       "      <th>3</th>\n",
       "      <td>嗎？</td>\n",
       "      <td>12/19 21:05</td>\n",
       "      <td>→</td>\n",
       "      <td>doubleches</td>\n",
       "      <td>https://www.ptt.cc/bbs/creditcard/M.1545199423...</td>\n",
       "    </tr>\n",
       "    <tr>\n",
       "      <th>4</th>\n",
       "      <td>同樓上問題 想知道</td>\n",
       "      <td>12/19 23:46</td>\n",
       "      <td>推</td>\n",
       "      <td>g2487</td>\n",
       "      <td>https://www.ptt.cc/bbs/creditcard/M.1545199423...</td>\n",
       "    </tr>\n",
       "    <tr>\n",
       "      <th>5</th>\n",
       "      <td>時間很多…</td>\n",
       "      <td>12/20 09:40</td>\n",
       "      <td>推</td>\n",
       "      <td>willko</td>\n",
       "      <td>https://www.ptt.cc/bbs/creditcard/M.1545199423...</td>\n",
       "    </tr>\n",
       "  </tbody>\n",
       "</table>\n",
       "</div>"
      ],
      "text/plain": [
       "                       content           dt tag      userid  \\\n",
       "0                 你應該有勾選一起申請黑狗  12/19 14:33   推       mwiei   \n",
       "1             看了這篇才發現開戶禮又延長了？！  12/19 15:35   推       kyleJ   \n",
       "2   如果取消帳戶再用好友推薦連結重開戶可以拿到開戶500  12/19 21:05   推  doubleches   \n",
       "3                           嗎？  12/19 21:05   →  doubleches   \n",
       "4                    同樓上問題 想知道  12/19 23:46   推       g2487   \n",
       "5                        時間很多…  12/20 09:40   推      willko   \n",
       "\n",
       "                                                link  \n",
       "0  https://www.ptt.cc/bbs/creditcard/M.1545199423...  \n",
       "1  https://www.ptt.cc/bbs/creditcard/M.1545199423...  \n",
       "2  https://www.ptt.cc/bbs/creditcard/M.1545199423...  \n",
       "3  https://www.ptt.cc/bbs/creditcard/M.1545199423...  \n",
       "4  https://www.ptt.cc/bbs/creditcard/M.1545199423...  \n",
       "5  https://www.ptt.cc/bbs/creditcard/M.1545199423...  "
      ]
     },
     "execution_count": 340,
     "metadata": {},
     "output_type": "execute_result"
    }
   ],
   "source": [
    "pushdf"
   ]
  },
  {
   "cell_type": "markdown",
   "metadata": {},
   "source": [
    "## 整理主文資料"
   ]
  },
  {
   "cell_type": "code",
   "execution_count": null,
   "metadata": {},
   "outputs": [],
   "source": [
    "def getArticle(url):\n",
    "    res = requests.get(url)\n",
    "    soup = BeautifulSoup(res.text, 'lxml')\n",
    "    ret = ''\n",
    "    for c in soup.select_one('#main-content').contents[4:]:\n",
    "        s = BeautifulSoup(str(c), 'lxml')\n",
    "        ret += s.text\n",
    "        if '--' in str(c).strip():\n",
    "            break\n",
    "    return ret"
   ]
  },
  {
   "cell_type": "code",
   "execution_count": 341,
   "metadata": {},
   "outputs": [
    {
     "name": "stdout",
     "output_type": "stream",
     "text": [
      "2901\n",
      "2900\n",
      "2899\n",
      "2898\n",
      "2897\n"
     ]
    }
   ],
   "source": [
    "domain = 'https://www.ptt.cc'\n",
    "articles = []\n",
    "for pg in range(pagenumber, pagenumber - 5, -1):\n",
    "    res = requests.get('https://www.ptt.cc/bbs/creditcard/index{}.html'.format(pg))\n",
    "    soup = BeautifulSoup(res.text, 'lxml')\n",
    "    for ent in soup.select('.r-ent'):\n",
    "        if ent.select_one('a'):\n",
    "            article = {}\n",
    "            article['title'] = ent.select_one('.title').text.strip()\n",
    "            article['nrec']  = ent.select_one('.nrec').text.strip()\n",
    "            article['author']  = ent.select_one('.author').text.strip()\n",
    "            article['link']  = domain + ent.select_one('a').get('href')\n",
    "            article['content'] = getArticle(article['link'])\n",
    "            articles.append(article)\n",
    "    print(pg)"
   ]
  },
  {
   "cell_type": "code",
   "execution_count": 344,
   "metadata": {},
   "outputs": [],
   "source": [
    "import pandas\n",
    "opinion_word = pandas.read_csv('ANTUSD/opinion_word_utf8.csv', header = None     )"
   ]
  },
  {
   "cell_type": "code",
   "execution_count": 346,
   "metadata": {},
   "outputs": [],
   "source": [
    "opinion_word = opinion_word.iloc[:,[0,1]]"
   ]
  },
  {
   "cell_type": "code",
   "execution_count": 350,
   "metadata": {},
   "outputs": [],
   "source": [
    "opinion_word.columns = ['word', 'score']"
   ]
  },
  {
   "cell_type": "code",
   "execution_count": 355,
   "metadata": {},
   "outputs": [],
   "source": [
    "emotion_dict = opinion_word.set_index('word').to_dict()['score']"
   ]
  },
  {
   "cell_type": "code",
   "execution_count": 366,
   "metadata": {},
   "outputs": [
    {
     "name": "stdout",
     "output_type": "stream",
     "text": [
      "問題 -0.1804542\n",
      "支付 0.044938900000000004\n",
      "還是 0.1\n",
      "選擇 0.0210186\n",
      "還是 0.1\n",
      "轉換 0.05\n",
      "第一次 0.036000533\n",
      "遇到 0.0445837\n"
     ]
    },
    {
     "data": {
      "text/plain": [
       "0.216087533"
      ]
     },
     "execution_count": 366,
     "metadata": {},
     "output_type": "execute_result"
    }
   ],
   "source": [
    "article = '''\n",
    "因為飯店押金問題，他們說要退押金，當初我是用現金支付(押金與飯店費用)，\n",
    "但他還是只能匯款或選擇退款到信用卡(限visa卡)\n",
    "請問他這種是類似溢繳的方式嗎?\n",
    "還是外幣 真怕轉換的手續費就被吃垮了XD\n",
    "第一次遇到...\n",
    "\n",
    "'''\n",
    "\n",
    "score = 0\n",
    "for w in jieba.cut(article):\n",
    "    if emotion_dict.get(w):\n",
    "        print(w, emotion_dict.get(w))\n",
    "        score += emotion_dict.get(w, 0)\n",
    "score"
   ]
  },
  {
   "cell_type": "code",
   "execution_count": null,
   "metadata": {},
   "outputs": [],
   "source": []
  },
  {
   "cell_type": "code",
   "execution_count": null,
   "metadata": {},
   "outputs": [],
   "source": []
  }
 ],
 "metadata": {
  "kernelspec": {
   "display_name": "Python 3",
   "language": "python",
   "name": "python3"
  },
  "language_info": {
   "codemirror_mode": {
    "name": "ipython",
    "version": 3
   },
   "file_extension": ".py",
   "mimetype": "text/x-python",
   "name": "python",
   "nbconvert_exporter": "python",
   "pygments_lexer": "ipython3",
   "version": "3.6.2"
  }
 },
 "nbformat": 4,
 "nbformat_minor": 2
}
