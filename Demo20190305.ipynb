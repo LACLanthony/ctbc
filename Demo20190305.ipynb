{
 "cells": [
  {
   "cell_type": "markdown",
   "metadata": {},
   "source": [
    "## 引用Keras"
   ]
  },
  {
   "cell_type": "code",
   "execution_count": 1,
   "metadata": {},
   "outputs": [
    {
     "name": "stderr",
     "output_type": "stream",
     "text": [
      "Using TensorFlow backend.\n"
     ]
    }
   ],
   "source": [
    "import keras\n",
    "from keras.datasets import mnist\n",
    "from keras.models import Sequential\n",
    "from keras.layers import Activation, Dense, Flatten, Conv2D, MaxPooling2D\n"
   ]
  },
  {
   "cell_type": "markdown",
   "metadata": {},
   "source": [
    "## 讀取MNIST 數據"
   ]
  },
  {
   "cell_type": "code",
   "execution_count": 2,
   "metadata": {},
   "outputs": [],
   "source": [
    "(x_train, y_train), (x_test, y_test) = mnist.load_data()"
   ]
  },
  {
   "cell_type": "code",
   "execution_count": 3,
   "metadata": {},
   "outputs": [
    {
     "data": {
      "text/plain": [
       "(60000, 28, 28)"
      ]
     },
     "execution_count": 3,
     "metadata": {},
     "output_type": "execute_result"
    }
   ],
   "source": [
    "x_train.shape"
   ]
  },
  {
   "cell_type": "code",
   "execution_count": 4,
   "metadata": {},
   "outputs": [
    {
     "data": {
      "text/plain": [
       "(10000, 28, 28)"
      ]
     },
     "execution_count": 4,
     "metadata": {},
     "output_type": "execute_result"
    }
   ],
   "source": [
    "x_test.shape"
   ]
  },
  {
   "cell_type": "code",
   "execution_count": 5,
   "metadata": {},
   "outputs": [],
   "source": [
    "x_train = x_train.reshape(60000, 28,28,1)\n",
    "x_test  = x_test.reshape(10000, 28,28,1)\n",
    "x_train = x_train.astype('float32')\n",
    "x_test  = x_test.astype('float32')\n",
    "x_train /= 255\n",
    "x_test  /= 255"
   ]
  },
  {
   "cell_type": "code",
   "execution_count": 6,
   "metadata": {},
   "outputs": [],
   "source": [
    "n_classes = 10\n",
    "y_train = keras.utils.to_categorical(y_train, n_classes)\n",
    "y_test  = keras.utils.to_categorical(y_test, n_classes)"
   ]
  },
  {
   "cell_type": "markdown",
   "metadata": {},
   "source": [
    "## 設定網路參數"
   ]
  },
  {
   "cell_type": "code",
   "execution_count": 7,
   "metadata": {},
   "outputs": [],
   "source": [
    "n_hidden_1 = 256 \n",
    "n_classes  = 10 \n",
    "\n",
    "training_epochs = 15\n",
    "batch_size = 100"
   ]
  },
  {
   "cell_type": "markdown",
   "metadata": {},
   "source": [
    "## 建立卷積神經網路"
   ]
  },
  {
   "cell_type": "code",
   "execution_count": 8,
   "metadata": {},
   "outputs": [
    {
     "name": "stdout",
     "output_type": "stream",
     "text": [
      "WARNING:tensorflow:From /Users/davidchiu/.pyenv/versions/3.6.2/lib/python3.6/site-packages/keras/backend/tensorflow_backend.py:1264: calling reduce_prod (from tensorflow.python.ops.math_ops) with keep_dims is deprecated and will be removed in a future version.\n",
      "Instructions for updating:\n",
      "keep_dims is deprecated, use keepdims instead\n"
     ]
    }
   ],
   "source": [
    "model = keras.Sequential()\n",
    "model.add(Conv2D(\n",
    "            filters=16,\n",
    "            kernel_size = (3,3),\n",
    "            padding = 'same',\n",
    "            input_shape = (28,28,1), \n",
    "            activation = 'relu'))\n",
    "model.add(MaxPooling2D(pool_size=(2,2)))\n",
    "model.add(Flatten())\n",
    "model.add(Dense(n_hidden_1, activation='relu'))\n",
    "model.add(Dense(n_classes, activation='softmax'))"
   ]
  },
  {
   "cell_type": "code",
   "execution_count": 9,
   "metadata": {},
   "outputs": [
    {
     "name": "stdout",
     "output_type": "stream",
     "text": [
      "WARNING:tensorflow:From /Users/davidchiu/.pyenv/versions/3.6.2/lib/python3.6/site-packages/keras/backend/tensorflow_backend.py:2885: calling reduce_sum (from tensorflow.python.ops.math_ops) with keep_dims is deprecated and will be removed in a future version.\n",
      "Instructions for updating:\n",
      "keep_dims is deprecated, use keepdims instead\n",
      "WARNING:tensorflow:From /Users/davidchiu/.pyenv/versions/3.6.2/lib/python3.6/site-packages/keras/backend/tensorflow_backend.py:1349: calling reduce_mean (from tensorflow.python.ops.math_ops) with keep_dims is deprecated and will be removed in a future version.\n",
      "Instructions for updating:\n",
      "keep_dims is deprecated, use keepdims instead\n"
     ]
    }
   ],
   "source": [
    "model.compile(loss='categorical_crossentropy',\n",
    "              optimizer='adam',\n",
    "              metrics=['accuracy'])"
   ]
  },
  {
   "cell_type": "markdown",
   "metadata": {},
   "source": [
    "## 訓練神經網路"
   ]
  },
  {
   "cell_type": "code",
   "execution_count": 10,
   "metadata": {},
   "outputs": [
    {
     "name": "stdout",
     "output_type": "stream",
     "text": [
      "Train on 60000 samples, validate on 10000 samples\n",
      "Epoch 1/15\n",
      "60000/60000 [==============================] - 11s 189us/step - loss: 0.2057 - acc: 0.9396 - val_loss: 0.0887 - val_acc: 0.9722\n",
      "Epoch 2/15\n",
      "60000/60000 [==============================] - 11s 184us/step - loss: 0.0644 - acc: 0.9809 - val_loss: 0.0544 - val_acc: 0.9829\n",
      "Epoch 3/15\n",
      "60000/60000 [==============================] - 12s 194us/step - loss: 0.0429 - acc: 0.9869 - val_loss: 0.0484 - val_acc: 0.9836\n",
      "Epoch 4/15\n",
      "60000/60000 [==============================] - 12s 197us/step - loss: 0.0298 - acc: 0.9907 - val_loss: 0.0441 - val_acc: 0.9858\n",
      "Epoch 5/15\n",
      "60000/60000 [==============================] - 12s 199us/step - loss: 0.0218 - acc: 0.9931 - val_loss: 0.0460 - val_acc: 0.9851\n",
      "Epoch 6/15\n",
      "60000/60000 [==============================] - 12s 204us/step - loss: 0.0157 - acc: 0.9951 - val_loss: 0.0486 - val_acc: 0.9844\n",
      "Epoch 7/15\n",
      "60000/60000 [==============================] - 12s 199us/step - loss: 0.0113 - acc: 0.9968 - val_loss: 0.0408 - val_acc: 0.9879\n",
      "Epoch 8/15\n",
      "60000/60000 [==============================] - 12s 198us/step - loss: 0.0095 - acc: 0.9972 - val_loss: 0.0495 - val_acc: 0.9855\n",
      "Epoch 9/15\n",
      "60000/60000 [==============================] - 12s 195us/step - loss: 0.0079 - acc: 0.9975 - val_loss: 0.0606 - val_acc: 0.9820\n",
      "Epoch 10/15\n",
      "60000/60000 [==============================] - 12s 194us/step - loss: 0.0057 - acc: 0.9981 - val_loss: 0.0485 - val_acc: 0.9866\n",
      "Epoch 11/15\n",
      "60000/60000 [==============================] - 12s 196us/step - loss: 0.0039 - acc: 0.9988 - val_loss: 0.0514 - val_acc: 0.9864\n",
      "Epoch 12/15\n",
      "60000/60000 [==============================] - 12s 193us/step - loss: 0.0044 - acc: 0.9988 - val_loss: 0.0558 - val_acc: 0.9865\n",
      "Epoch 13/15\n",
      "60000/60000 [==============================] - 12s 192us/step - loss: 0.0057 - acc: 0.9982 - val_loss: 0.0604 - val_acc: 0.9854\n",
      "Epoch 14/15\n",
      "60000/60000 [==============================] - 12s 193us/step - loss: 0.0031 - acc: 0.9991 - val_loss: 0.0568 - val_acc: 0.9860\n",
      "Epoch 15/15\n",
      "60000/60000 [==============================] - 12s 196us/step - loss: 0.0016 - acc: 0.9996 - val_loss: 0.0720 - val_acc: 0.9845\n"
     ]
    }
   ],
   "source": [
    "history = model.fit(x_train, y_train,\n",
    "                    batch_size=batch_size,\n",
    "                    epochs=15,\n",
    "                    verbose=1,\n",
    "                    validation_data=(x_test, y_test))"
   ]
  },
  {
   "cell_type": "markdown",
   "metadata": {},
   "source": [
    "## 辨識數字"
   ]
  },
  {
   "cell_type": "code",
   "execution_count": 11,
   "metadata": {},
   "outputs": [],
   "source": [
    "from PIL import Image\n",
    "import numpy\n",
    "img = Image.open('/Users/davidchiu/Desktop/4.jpg').convert('L')\n",
    "img  = numpy.asarray(img) "
   ]
  },
  {
   "cell_type": "code",
   "execution_count": 13,
   "metadata": {},
   "outputs": [],
   "source": [
    "img2 = (255 - img) / 255 "
   ]
  },
  {
   "cell_type": "code",
   "execution_count": 15,
   "metadata": {},
   "outputs": [],
   "source": [
    "img3 = img2.reshape(28,28,1)"
   ]
  },
  {
   "cell_type": "code",
   "execution_count": 16,
   "metadata": {},
   "outputs": [],
   "source": [
    "y = numpy.array([img3])"
   ]
  },
  {
   "cell_type": "code",
   "execution_count": 17,
   "metadata": {},
   "outputs": [
    {
     "data": {
      "text/plain": [
       "4"
      ]
     },
     "execution_count": 17,
     "metadata": {},
     "output_type": "execute_result"
    }
   ],
   "source": [
    "numpy.argmax(model.predict(y))"
   ]
  },
  {
   "cell_type": "markdown",
   "metadata": {},
   "source": [
    "## 驗證碼破解"
   ]
  },
  {
   "cell_type": "markdown",
   "metadata": {},
   "source": [
    "### 抓取驗證碼"
   ]
  },
  {
   "cell_type": "code",
   "execution_count": 95,
   "metadata": {},
   "outputs": [],
   "source": [
    "import requests\n",
    "res = requests.get('https://serv.gcis.nat.gov.tw/pub/kaptcha.jpg?code=0.4599771997252926')\n",
    "with open('captcha.jpg', 'wb') as f:\n",
    "    f.write(res.content)"
   ]
  },
  {
   "cell_type": "code",
   "execution_count": 96,
   "metadata": {},
   "outputs": [
    {
     "data": {
      "image/png": "[encoded data removed]",
      "text/plain": [
       "<PIL.JpegImagePlugin.JpegImageFile image mode=RGB size=120x40 at 0x136F15550>"
      ]
     },
     "execution_count": 96,
     "metadata": {},
     "output_type": "execute_result"
    }
   ],
   "source": [
    "from PIL import Image\n",
    "Image.open('captcha.jpg')"
   ]
  },
  {
   "cell_type": "markdown",
   "metadata": {},
   "source": [
    "### 使用OpenCV 切驗證碼"
   ]
  },
  {
   "cell_type": "code",
   "execution_count": 97,
   "metadata": {},
   "outputs": [],
   "source": [
    "pil_image = Image.open('captcha.jpg').convert('L') "
   ]
  },
  {
   "cell_type": "code",
   "execution_count": 98,
   "metadata": {},
   "outputs": [
    {
     "data": {
      "image/png": "[encoded data removed]",
      "text/plain": [
       "<PIL.Image.Image image mode=L size=120x40 at 0x10A78E128>"
      ]
     },
     "execution_count": 98,
     "metadata": {},
     "output_type": "execute_result"
    }
   ],
   "source": [
    "pil_image"
   ]
  },
  {
   "cell_type": "code",
   "execution_count": 99,
   "metadata": {},
   "outputs": [
    {
     "data": {
      "text/plain": [
       "(40, 120)"
      ]
     },
     "execution_count": 99,
     "metadata": {},
     "output_type": "execute_result"
    }
   ],
   "source": [
    "open_cv_image = numpy.array(pil_image) \n",
    "open_cv_image.shape"
   ]
  },
  {
   "cell_type": "code",
   "execution_count": 100,
   "metadata": {},
   "outputs": [
    {
     "data": {
      "text/plain": [
       "array([[  0,  10,   0, ...,   0,  10,   0],\n",
       "       [ 14, 188, 215, ..., 215, 188,  14],\n",
       "       [  0, 217, 223, ..., 223, 217,   0],\n",
       "       ...,\n",
       "       [  0, 217, 223, ..., 223, 217,   0],\n",
       "       [ 14, 188, 215, ..., 215, 188,  14],\n",
       "       [  0,  10,   0, ...,   0,  10,   0]], dtype=uint8)"
      ]
     },
     "execution_count": 100,
     "metadata": {},
     "output_type": "execute_result"
    }
   ],
   "source": [
    "open_cv_image"
   ]
  },
  {
   "cell_type": "code",
   "execution_count": 101,
   "metadata": {},
   "outputs": [],
   "source": [
    "import cv2\n",
    "ret, thresh = cv2.threshold(open_cv_image, 127, 255, 0)"
   ]
  },
  {
   "cell_type": "code",
   "execution_count": 102,
   "metadata": {},
   "outputs": [
    {
     "data": {
      "text/plain": [
       "array([[  0,   0,   0, ...,   0,   0,   0],\n",
       "       [  0, 255, 255, ..., 255, 255,   0],\n",
       "       [  0, 255, 255, ..., 255, 255,   0],\n",
       "       ...,\n",
       "       [  0, 255, 255, ..., 255, 255,   0],\n",
       "       [  0, 255, 255, ..., 255, 255,   0],\n",
       "       [  0,   0,   0, ...,   0,   0,   0]], dtype=uint8)"
      ]
     },
     "execution_count": 102,
     "metadata": {},
     "output_type": "execute_result"
    }
   ],
   "source": [
    "thresh"
   ]
  },
  {
   "cell_type": "code",
   "execution_count": 103,
   "metadata": {},
   "outputs": [],
   "source": [
    "image, contours, hierarchy = cv2.findContours(thresh, cv2.RETR_TREE, cv2.CHAIN_APPROX_SIMPLE)"
   ]
  },
  {
   "cell_type": "code",
   "execution_count": 104,
   "metadata": {},
   "outputs": [],
   "source": [
    "cnts = sorted([(c, cv2.boundingRect(c)[0]) for c in contours], key=lambda x:x[1])\n"
   ]
  },
  {
   "cell_type": "code",
   "execution_count": 105,
   "metadata": {},
   "outputs": [
    {
     "name": "stdout",
     "output_type": "stream",
     "text": [
      "1 1 118 38\n",
      "16 9 15 24\n",
      "32 9 17 24\n",
      "49 9 14 24\n",
      "64 9 14 24\n",
      "75 9 18 24\n",
      "80 13 8 16\n",
      "94 9 15 24\n"
     ]
    }
   ],
   "source": [
    "ary = []\n",
    "for (c,_) in cnts:\n",
    "    (x,y,w,h) = cv2.boundingRect(c)\n",
    "    print(x,y,w,h)\n",
    "    if w >= 10 and w <= 25 and h >= 24:\n",
    "        ary.append((x,y,w,h) )"
   ]
  },
  {
   "cell_type": "code",
   "execution_count": 106,
   "metadata": {},
   "outputs": [
    {
     "data": {
      "text/plain": [
       "[(16, 9, 15, 24),\n",
       " (32, 9, 17, 24),\n",
       " (49, 9, 14, 24),\n",
       " (64, 9, 14, 24),\n",
       " (75, 9, 18, 24),\n",
       " (94, 9, 15, 24)]"
      ]
     },
     "execution_count": 106,
     "metadata": {},
     "output_type": "execute_result"
    }
   ],
   "source": [
    "ary"
   ]
  },
  {
   "cell_type": "code",
   "execution_count": 108,
   "metadata": {},
   "outputs": [],
   "source": [
    "import os\n",
    "dest = 'digits/'\n",
    "#os.mkdir(dest)"
   ]
  },
  {
   "cell_type": "code",
   "execution_count": 109,
   "metadata": {},
   "outputs": [],
   "source": [
    "#for i in range(0,10):\n",
    "#    os.mkdir(dest+str(i))"
   ]
  },
  {
   "cell_type": "code",
   "execution_count": 110,
   "metadata": {},
   "outputs": [
    {
     "name": "stdout",
     "output_type": "stream",
     "text": [
      "Populating the interactive namespace from numpy and matplotlib\n"
     ]
    },
    {
     "name": "stderr",
     "output_type": "stream",
     "text": [
      "/Users/davidchiu/.pyenv/versions/3.6.2/lib/python3.6/site-packages/IPython/core/magics/pylab.py:160: UserWarning: pylab import has clobbered these variables: ['f']\n",
      "`%matplotlib` prevents importing * from pylab and numpy\n",
      "  \"\\n`%matplotlib` prevents importing * from pylab and numpy\"\n"
     ]
    },
    {
     "data": {
      "image/png": "[encoded data removed]",
      "text/plain": [
       "<Figure size 432x288 with 1 Axes>"
      ]
     },
     "metadata": {},
     "output_type": "display_data"
    },
    {
     "data": {
      "image/png": "[encoded data removed]",
      "text/plain": [
       "<Figure size 432x288 with 1 Axes>"
      ]
     },
     "metadata": {},
     "output_type": "display_data"
    },
    {
     "data": {
      "image/png": "[encoded data removed]",
      "text/plain": [
       "<Figure size 432x288 with 1 Axes>"
      ]
     },
     "metadata": {},
     "output_type": "display_data"
    },
    {
     "data": {
      "image/png": "[encoded data removed]",
      "text/plain": [
       "<Figure size 432x288 with 1 Axes>"
      ]
     },
     "metadata": {},
     "output_type": "display_data"
    },
    {
     "data": {
      "image/png": "[encoded data removed]",
      "text/plain": [
       "<Figure size 432x288 with 1 Axes>"
      ]
     },
     "metadata": {},
     "output_type": "display_data"
    },
    {
     "data": {
      "image/png": "[encoded data removed]",
      "text/plain": [
       "<Figure size 432x288 with 1 Axes>"
      ]
     },
     "metadata": {},
     "output_type": "display_data"
    }
   ],
   "source": [
    "%pylab inline\n",
    "from matplotlib import pyplot as plt\n",
    "data = []\n",
    "for idx, (x,y,w,h) in enumerate(ary):\n",
    "    fig = plt.figure()\n",
    "    roi = open_cv_image[y:y+h, x:x+w]\n",
    "    thresh = roi.copy()\n",
    "    plt.imshow(thresh)\n",
    "    plt.savefig(os.path.join(dest, '{}.jpg'.format(idx)), dpi=100)"
   ]
  },
  {
   "cell_type": "code",
   "execution_count": 123,
   "metadata": {},
   "outputs": [
    {
     "data": {
      "text/plain": [
       "0.9508377651837443"
      ]
     },
     "execution_count": 123,
     "metadata": {},
     "output_type": "execute_result"
    }
   ],
   "source": [
    "import random\n",
    "random.random()"
   ]
  },
  {
   "cell_type": "code",
   "execution_count": 130,
   "metadata": {},
   "outputs": [],
   "source": [
    "\n",
    "def getCaptcha(run):\n",
    "    res = requests.get('https://serv.gcis.nat.gov.tw/pub/kaptcha.jpg?code={}'.format(random.random()))\n",
    "    with open('captcha.jpg', 'wb') as f:\n",
    "        f.write(res.content)\n",
    "    \n",
    "    pil_image = Image.open('captcha.jpg').convert('L')\n",
    "    open_cv_image = numpy.array(pil_image) \n",
    "    ret, thresh = cv2.threshold(open_cv_image, 127, 255, 0)\n",
    "    image, contours, hierarchy = cv2.findContours(thresh, cv2.RETR_TREE, cv2.CHAIN_APPROX_SIMPLE)\n",
    "    cnts = sorted([(c, cv2.boundingRect(c)[0]) for c in contours], key=lambda x:x[1])\n",
    "    ary = []\n",
    "    for (c,_) in cnts:\n",
    "        (x,y,w,h) = cv2.boundingRect(c)\n",
    "        #print(x,y,w,h)\n",
    "        if w >= 10 and w <= 25 and h >= 24:\n",
    "            ary.append((x,y,w,h) )\n",
    "    data = []\n",
    "    for idx, (x,y,w,h) in enumerate(ary):\n",
    "        fig = plt.figure()\n",
    "        roi = open_cv_image[y:y+h, x:x+w]\n",
    "        thresh = roi.copy()\n",
    "        plt.imshow(thresh)\n",
    "        plt.savefig(os.path.join(dest, '{}_{}.jpg'.format(run,idx)), dpi=100)"
   ]
  },
  {
   "cell_type": "code",
   "execution_count": 131,
   "metadata": {},
   "outputs": [],
   "source": [
    "#getCaptcha(1)"
   ]
  },
  {
   "cell_type": "code",
   "execution_count": 133,
   "metadata": {},
   "outputs": [],
   "source": [
    "#for i in range(1,20):\n",
    "#    getCaptcha(i)"
   ]
  },
  {
   "cell_type": "code",
   "execution_count": 134,
   "metadata": {},
   "outputs": [],
   "source": [
    "from keras.models import Sequential \n",
    "from keras.layers import Conv2D\n",
    "from keras.layers import MaxPooling2D \n",
    "from keras.layers import Flatten\n",
    "from keras.layers import Dense\n",
    "\n",
    "# Initialising the CNN\n",
    "classifier = Sequential()\n",
    "\n",
    "# Convolution\n",
    "classifier.add(Conv2D(32, (3, 3), input_shape = (60, 40,\n",
    "3), activation = 'relu'))\n",
    "\n",
    "# Max Pooling\n",
    "classifier.add(MaxPooling2D(pool_size = (2, 2)))\n",
    "\n",
    "# Convolution\n",
    "classifier.add(Conv2D(32, (3, 3), activation = 'relu'))\n",
    "\n",
    "# Max Pooling\n",
    "classifier.add(MaxPooling2D(pool_size = (2, 2)))\n",
    "\n",
    "# Flattening\n",
    "classifier.add(Flatten())\n",
    "\n",
    "# Fully Connected\n",
    "classifier.add(Dense(units = 128, activation = 'relu')) \n",
    "classifier.add(Dense(units = 128, activation = 'relu'))\n",
    "classifier.add(Dense(units = 10, activation = 'softmax'))\n",
    "\n",
    "classifier.compile(optimizer = 'adam', \n",
    "                        loss ='categorical_crossentropy', \n",
    "                     metrics = ['accuracy'])"
   ]
  },
  {
   "cell_type": "code",
   "execution_count": 136,
   "metadata": {},
   "outputs": [],
   "source": [
    "from keras.preprocessing.image import ImageDataGenerator\n",
    "\n",
    "train_datagen = ImageDataGenerator(rescale = 1./255,\n",
    "                                   shear_range = 0.2,     #x坐标保持不变，而对应的y坐标按比例发生平移\n",
    "                                   zoom_range = 0.2,      #可以让图片在长或宽的方向进行放大\n",
    "                                   horizontal_flip = True #水平翻转操作\n",
    "                                  )"
   ]
  },
  {
   "cell_type": "code",
   "execution_count": 137,
   "metadata": {},
   "outputs": [
    {
     "name": "stdout",
     "output_type": "stream",
     "text": [
      "Found 105 images belonging to 10 classes.\n"
     ]
    }
   ],
   "source": [
    "training_set = train_datagen.flow_from_directory(\n",
    "    'digits/', target_size = (60, 40),\n",
    "     batch_size = 10,\n",
    "     class_mode = 'categorical')"
   ]
  },
  {
   "cell_type": "code",
   "execution_count": 138,
   "metadata": {},
   "outputs": [
    {
     "name": "stderr",
     "output_type": "stream",
     "text": [
      "/Users/davidchiu/.pyenv/versions/3.6.2/lib/python3.6/site-packages/ipykernel_launcher.py:5: UserWarning: The semantics of the Keras 2 argument `steps_per_epoch` is not the same as the Keras 1 argument `samples_per_epoch`. `steps_per_epoch` is the number of batches to draw from the generator at each epoch. Basically steps_per_epoch = samples_per_epoch/batch_size. Similarly `nb_val_samples`->`validation_steps` and `val_samples`->`steps` arguments have changed. Update your method calls accordingly.\n",
      "  \"\"\"\n",
      "/Users/davidchiu/.pyenv/versions/3.6.2/lib/python3.6/site-packages/ipykernel_launcher.py:5: UserWarning: Update your `fit_generator` call to the Keras 2 API: `fit_generator(<keras.pre..., steps_per_epoch=10, verbose=1, epochs=10, validation_steps=10)`\n",
      "  \"\"\"\n"
     ]
    },
    {
     "name": "stdout",
     "output_type": "stream",
     "text": [
      "Epoch 1/10\n",
      "10/10 [==============================] - 1s 91ms/step - loss: 2.3300 - acc: 0.1287\n",
      "Epoch 2/10\n",
      "10/10 [==============================] - 1s 81ms/step - loss: 2.2633 - acc: 0.1507\n",
      "Epoch 3/10\n",
      "10/10 [==============================] - 1s 91ms/step - loss: 2.1555 - acc: 0.3086\n",
      "Epoch 4/10\n",
      "10/10 [==============================] - 1s 73ms/step - loss: 1.8767 - acc: 0.3187\n",
      "Epoch 5/10\n",
      "10/10 [==============================] - 1s 83ms/step - loss: 1.5093 - acc: 0.5086\n",
      "Epoch 6/10\n",
      "10/10 [==============================] - 1s 88ms/step - loss: 0.9305 - acc: 0.7200\n",
      "Epoch 7/10\n",
      "10/10 [==============================] - 1s 74ms/step - loss: 0.7063 - acc: 0.7096\n",
      "Epoch 8/10\n",
      "10/10 [==============================] - 1s 81ms/step - loss: 0.4849 - acc: 0.8202\n",
      "Epoch 9/10\n",
      "10/10 [==============================] - 1s 98ms/step - loss: 0.3047 - acc: 0.9300\n",
      "Epoch 10/10\n",
      "10/10 [==============================] - 1s 93ms/step - loss: 0.2094 - acc: 0.9416\n"
     ]
    }
   ],
   "source": [
    "history = classifier.fit_generator(training_set,\n",
    "                         nb_epoch=10,\n",
    "                         nb_val_samples=10,\n",
    "                         steps_per_epoch = 10,\n",
    "                         verbose = 1)"
   ]
  },
  {
   "cell_type": "code",
   "execution_count": 195,
   "metadata": {},
   "outputs": [
    {
     "data": {
      "image/png": "[encoded data removed]",
      "text/plain": [
       "<Figure size 432x288 with 1 Axes>"
      ]
     },
     "metadata": {},
     "output_type": "display_data"
    },
    {
     "data": {
      "image/png": "[encoded data removed]",
      "text/plain": [
       "<Figure size 432x288 with 1 Axes>"
      ]
     },
     "metadata": {},
     "output_type": "display_data"
    },
    {
     "data": {
      "image/png": "[encoded data removed]",
      "text/plain": [
       "<Figure size 432x288 with 1 Axes>"
      ]
     },
     "metadata": {},
     "output_type": "display_data"
    },
    {
     "data": {
      "image/png": "[encoded data removed]",
      "text/plain": [
       "<Figure size 432x288 with 1 Axes>"
      ]
     },
     "metadata": {},
     "output_type": "display_data"
    }
   ],
   "source": [
    "getCaptcha(1)"
   ]
  },
  {
   "cell_type": "code",
   "execution_count": 196,
   "metadata": {},
   "outputs": [
    {
     "name": "stdout",
     "output_type": "stream",
     "text": [
      "1_3.jpg [8]\n",
      "1_2.jpg [5]\n",
      "1_0.jpg [1]\n",
      "1_1.jpg [1]\n"
     ]
    },
    {
     "data": {
      "text/plain": [
       "<Figure size 432x288 with 0 Axes>"
      ]
     },
     "metadata": {},
     "output_type": "display_data"
    },
    {
     "data": {
      "text/plain": [
       "<Figure size 432x288 with 0 Axes>"
      ]
     },
     "metadata": {},
     "output_type": "display_data"
    },
    {
     "data": {
      "text/plain": [
       "<Figure size 432x288 with 0 Axes>"
      ]
     },
     "metadata": {},
     "output_type": "display_data"
    },
    {
     "data": {
      "text/plain": [
       "<Figure size 432x288 with 0 Axes>"
      ]
     },
     "metadata": {},
     "output_type": "display_data"
    }
   ],
   "source": [
    "from keras.preprocessing import image\n",
    "for f in os.listdir('digits/predict/'):\n",
    "    fig = plt.figure()\n",
    "    test_image = image.load_img('digits/predict/'+f, target_size= (60,40))\n",
    "    test_image = image.img_to_array(test_image)\n",
    "    test_image = np.expand_dims(test_image, axis = 0)\n",
    "    print(f, classifier.predict_classes(test_image))\n",
    "    #plt.imshow(img)"
   ]
  },
  {
   "cell_type": "code",
   "execution_count": 142,
   "metadata": {},
   "outputs": [],
   "source": [
    "classifier.save('captchabreak.hd5')"
   ]
  },
  {
   "cell_type": "markdown",
   "metadata": {},
   "source": [
    "## 明星圖片分類"
   ]
  },
  {
   "cell_type": "markdown",
   "metadata": {},
   "source": [
    "### 抓取明星圖片"
   ]
  },
  {
   "cell_type": "code",
   "execution_count": 198,
   "metadata": {},
   "outputs": [],
   "source": [
    "\n",
    "import requests\n",
    "res = requests.get('https://www.google.com/search?ei=ygx-XILhB6eMr7wPtZaZgAw&rlz=1C5CHFA_enTW718TW718&yv=3&q=%E5%BC%B5%E9%88%9E%E7%94%AF&tbm=isch&vet=10ahUKEwiC7pz1pergAhUnxosBHTVLBsAQuT0IdSgB.ygx-XILhB6eMr7wPtZaZgAw.i&ved=0ahUKEwiC7pz1pergAhUnxosBHTVLBsAQuT0IdSgB&ijn=2&start=200&asearch=ichunk&async=_id:rg_s,_pms:s,_fmt:pc')\n",
    "#res.text"
   ]
  },
  {
   "cell_type": "code",
   "execution_count": 199,
   "metadata": {},
   "outputs": [],
   "source": [
    "from bs4 import BeautifulSoup\n",
    "soup = BeautifulSoup(res.text)"
   ]
  },
  {
   "cell_type": "code",
   "execution_count": 202,
   "metadata": {},
   "outputs": [
    {
     "name": "stdout",
     "output_type": "stream",
     "text": [
      "https://encrypted-tbn0.gstatic.com/images?q=tbn:ANd9GcR04aJ80DSrPqybj5ZiJEHcmTEpj2DolZYVo2VKOHcj_B_OnS9I1A\n"
     ]
    }
   ],
   "source": [
    "for ele in soup.select('img'):\n",
    "    print(ele.get('data-src'))\n",
    "    break"
   ]
  },
  {
   "cell_type": "code",
   "execution_count": 203,
   "metadata": {},
   "outputs": [
    {
     "data": {
      "text/plain": [
       "'ANd9GcR04aJ80DSrPqybj5ZiJEHcmTEpj2DolZYVo2VKOHcj_B_OnS9I1A'"
      ]
     },
     "execution_count": 203,
     "metadata": {},
     "output_type": "execute_result"
    }
   ],
   "source": [
    "url   = 'https://encrypted-tbn0.gstatic.com/images?q=tbn:ANd9GcR04aJ80DSrPqybj5ZiJEHcmTEpj2DolZYVo2VKOHcj_B_OnS9I1A'\n",
    "fname = url.split('tbn:')[1]\n",
    "fname"
   ]
  },
  {
   "cell_type": "code",
   "execution_count": 204,
   "metadata": {},
   "outputs": [],
   "source": [
    "res = requests.get(url)\n",
    "with open('{}.jpg'.format(fname), 'wb') as f:\n",
    "    f.write(res.content)"
   ]
  },
  {
   "cell_type": "code",
   "execution_count": 205,
   "metadata": {},
   "outputs": [
    {
     "data": {
      "image/png": "[encoded data removed]",
      "text/plain": [
       "<PIL.JpegImagePlugin.JpegImageFile image mode=RGB size=332x152 at 0x1494105F8>"
      ]
     },
     "execution_count": 205,
     "metadata": {},
     "output_type": "execute_result"
    }
   ],
   "source": [
    "from PIL import Image\n",
    "Image.open('{}.jpg'.format(fname))"
   ]
  },
  {
   "cell_type": "markdown",
   "metadata": {},
   "source": [
    "### 圖片抓取函式"
   ]
  },
  {
   "cell_type": "code",
   "execution_count": 207,
   "metadata": {},
   "outputs": [],
   "source": [
    "def getIdolPicture(idolname, start, dest):\n",
    "    if not os.path.exists(dest):\n",
    "        os.mkdir(dest)\n",
    "    res = requests.get('https://www.google.com/search?ei=ygx-XILhB6eMr7wPtZaZgAw&rlz=1C5CHFA_enTW718TW718&yv=3&q={}&tbm=isch&vet=10ahUKEwiC7pz1pergAhUnxosBHTVLBsAQuT0IdSgB.ygx-XILhB6eMr7wPtZaZgAw.i&ved=0ahUKEwiC7pz1pergAhUnxosBHTVLBsAQuT0IdSgB&ijn=2&start={}&asearch=ichunk&async=_id:rg_s,_pms:s,_fmt:pc'.format(idolname, start))\n",
    "    soup = BeautifulSoup(res.text)\n",
    "    for ele in soup.select('img'):\n",
    "        url = ele.get('data-src')\n",
    "        fname = url.split('tbn:')[1]\n",
    "        res = requests.get(url)\n",
    "        with open('{}/{}.jpg'.format(dest,fname), 'wb') as f:\n",
    "            f.write(res.content)"
   ]
  },
  {
   "cell_type": "code",
   "execution_count": 209,
   "metadata": {},
   "outputs": [],
   "source": [
    "for i in range(0,3):\n",
    "    getIdolPicture('謝金燕', i * 100, 'jeannie')"
   ]
  },
  {
   "cell_type": "code",
   "execution_count": 210,
   "metadata": {},
   "outputs": [],
   "source": [
    "for i in range(0,3):\n",
    "    getIdolPicture('周子瑜', i * 100, 'tzuyu')"
   ]
  },
  {
   "cell_type": "code",
   "execution_count": null,
   "metadata": {},
   "outputs": [],
   "source": [
    "for i in range(0,3):\n",
    "    getIdolPicture('張鈞甯', i * 100, 'ning')"
   ]
  },
  {
   "cell_type": "code",
   "execution_count": null,
   "metadata": {},
   "outputs": [],
   "source": []
  }
 ],
 "metadata": {
  "kernelspec": {
   "display_name": "Python 3",
   "language": "python",
   "name": "python3"
  },
  "language_info": {
   "codemirror_mode": {
    "name": "ipython",
    "version": 3
   },
   "file_extension": ".py",
   "mimetype": "text/x-python",
   "name": "python",
   "nbconvert_exporter": "python",
   "pygments_lexer": "ipython3",
   "version": "3.6.2"
  }
 },
 "nbformat": 4,
 "nbformat_minor": 2
}
