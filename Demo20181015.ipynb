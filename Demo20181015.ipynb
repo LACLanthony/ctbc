{
 "cells": [
  {
   "cell_type": "markdown",
   "metadata": {},
   "source": [
    "## 數值運算"
   ]
  },
  {
   "cell_type": "code",
   "execution_count": 1,
   "metadata": {},
   "outputs": [
    {
     "data": {
      "text/plain": [
       "19"
      ]
     },
     "execution_count": 1,
     "metadata": {},
     "output_type": "execute_result"
    }
   ],
   "source": [
    "3 + 2 * 8"
   ]
  },
  {
   "cell_type": "code",
   "execution_count": 2,
   "metadata": {},
   "outputs": [
    {
     "data": {
      "text/plain": [
       "5"
      ]
     },
     "execution_count": 2,
     "metadata": {},
     "output_type": "execute_result"
    }
   ],
   "source": [
    "a = 3\n",
    "b = 2\n",
    "a + b"
   ]
  },
  {
   "cell_type": "code",
   "execution_count": 6,
   "metadata": {},
   "outputs": [
    {
     "data": {
      "text/plain": [
       "int"
      ]
     },
     "execution_count": 6,
     "metadata": {},
     "output_type": "execute_result"
    }
   ],
   "source": [
    "type(a)"
   ]
  },
  {
   "cell_type": "code",
   "execution_count": 3,
   "metadata": {},
   "outputs": [
    {
     "data": {
      "text/plain": [
       "1"
      ]
     },
     "execution_count": 3,
     "metadata": {},
     "output_type": "execute_result"
    }
   ],
   "source": [
    "a - b"
   ]
  },
  {
   "cell_type": "code",
   "execution_count": 4,
   "metadata": {},
   "outputs": [
    {
     "data": {
      "text/plain": [
       "4.0"
      ]
     },
     "execution_count": 4,
     "metadata": {},
     "output_type": "execute_result"
    }
   ],
   "source": [
    "c = 2.5\n",
    "d = 1.5\n",
    "c + d"
   ]
  },
  {
   "cell_type": "code",
   "execution_count": 5,
   "metadata": {},
   "outputs": [
    {
     "data": {
      "text/plain": [
       "1.0"
      ]
     },
     "execution_count": 5,
     "metadata": {},
     "output_type": "execute_result"
    }
   ],
   "source": [
    "c - d"
   ]
  },
  {
   "cell_type": "code",
   "execution_count": 7,
   "metadata": {},
   "outputs": [
    {
     "data": {
      "text/plain": [
       "float"
      ]
     },
     "execution_count": 7,
     "metadata": {},
     "output_type": "execute_result"
    }
   ],
   "source": [
    "type(c)"
   ]
  },
  {
   "cell_type": "code",
   "execution_count": 8,
   "metadata": {},
   "outputs": [
    {
     "data": {
      "text/plain": [
       "str"
      ]
     },
     "execution_count": 8,
     "metadata": {},
     "output_type": "execute_result"
    }
   ],
   "source": [
    "a = '2'\n",
    "type(a)"
   ]
  },
  {
   "cell_type": "code",
   "execution_count": 9,
   "metadata": {},
   "outputs": [
    {
     "data": {
      "text/plain": [
       "2"
      ]
     },
     "execution_count": 9,
     "metadata": {},
     "output_type": "execute_result"
    }
   ],
   "source": [
    "int(a)"
   ]
  },
  {
   "cell_type": "code",
   "execution_count": 10,
   "metadata": {},
   "outputs": [
    {
     "data": {
      "text/plain": [
       "int"
      ]
     },
     "execution_count": 10,
     "metadata": {},
     "output_type": "execute_result"
    }
   ],
   "source": [
    "type(int(a))"
   ]
  },
  {
   "cell_type": "code",
   "execution_count": 11,
   "metadata": {},
   "outputs": [
    {
     "data": {
      "text/plain": [
       "float"
      ]
     },
     "execution_count": 11,
     "metadata": {},
     "output_type": "execute_result"
    }
   ],
   "source": [
    "type(float(2))"
   ]
  },
  {
   "cell_type": "code",
   "execution_count": 12,
   "metadata": {},
   "outputs": [
    {
     "data": {
      "text/plain": [
       "float"
      ]
     },
     "execution_count": 12,
     "metadata": {},
     "output_type": "execute_result"
    }
   ],
   "source": [
    "type(float('3.2'))"
   ]
  },
  {
   "cell_type": "code",
   "execution_count": 13,
   "metadata": {},
   "outputs": [],
   "source": [
    "a = 5"
   ]
  },
  {
   "cell_type": "code",
   "execution_count": 14,
   "metadata": {},
   "outputs": [
    {
     "data": {
      "text/plain": [
       "10"
      ]
     },
     "execution_count": 14,
     "metadata": {},
     "output_type": "execute_result"
    }
   ],
   "source": [
    "a + a"
   ]
  },
  {
   "cell_type": "code",
   "execution_count": 15,
   "metadata": {},
   "outputs": [],
   "source": [
    "a = 10"
   ]
  },
  {
   "cell_type": "code",
   "execution_count": 17,
   "metadata": {},
   "outputs": [
    {
     "data": {
      "text/plain": [
       "20"
      ]
     },
     "execution_count": 17,
     "metadata": {},
     "output_type": "execute_result"
    }
   ],
   "source": [
    "a + a"
   ]
  },
  {
   "cell_type": "code",
   "execution_count": 18,
   "metadata": {},
   "outputs": [
    {
     "data": {
      "text/plain": [
       "20"
      ]
     },
     "execution_count": 18,
     "metadata": {},
     "output_type": "execute_result"
    }
   ],
   "source": [
    "a = a + a\n",
    "a"
   ]
  },
  {
   "cell_type": "code",
   "execution_count": 19,
   "metadata": {},
   "outputs": [],
   "source": [
    "price  = 25.6\n",
    "exchange_rate = 32.33"
   ]
  },
  {
   "cell_type": "code",
   "execution_count": 20,
   "metadata": {},
   "outputs": [
    {
     "data": {
      "text/plain": [
       "827.648"
      ]
     },
     "execution_count": 20,
     "metadata": {},
     "output_type": "execute_result"
    }
   ],
   "source": [
    "price * exchange_rate"
   ]
  },
  {
   "cell_type": "code",
   "execution_count": 21,
   "metadata": {},
   "outputs": [],
   "source": [
    "ntd_price = price * exchange_rate"
   ]
  },
  {
   "cell_type": "code",
   "execution_count": 22,
   "metadata": {},
   "outputs": [
    {
     "data": {
      "text/plain": [
       "827.648"
      ]
     },
     "execution_count": 22,
     "metadata": {},
     "output_type": "execute_result"
    }
   ],
   "source": [
    "ntd_price"
   ]
  },
  {
   "cell_type": "code",
   "execution_count": 24,
   "metadata": {},
   "outputs": [
    {
     "ename": "NameError",
     "evalue": "name 'NTD_PRICE' is not defined",
     "output_type": "error",
     "traceback": [
      "\u001b[0;31m---------------------------------------------------------------------------\u001b[0m",
      "\u001b[0;31mNameError\u001b[0m                                 Traceback (most recent call last)",
      "\u001b[0;32m<ipython-input-24-e94e23827b36>\u001b[0m in \u001b[0;36m<module>\u001b[0;34m()\u001b[0m\n\u001b[0;32m----> 1\u001b[0;31m \u001b[0mNTD_PRICE\u001b[0m\u001b[0;34m\u001b[0m\u001b[0m\n\u001b[0m",
      "\u001b[0;31mNameError\u001b[0m: name 'NTD_PRICE' is not defined"
     ]
    }
   ],
   "source": [
    "NTD_PRICE"
   ]
  },
  {
   "cell_type": "code",
   "execution_count": 25,
   "metadata": {},
   "outputs": [
    {
     "name": "stdout",
     "output_type": "stream",
     "text": [
      "The Zen of Python, by Tim Peters\n",
      "\n",
      "Beautiful is better than ugly.\n",
      "Explicit is better than implicit.\n",
      "Simple is better than complex.\n",
      "Complex is better than complicated.\n",
      "Flat is better than nested.\n",
      "Sparse is better than dense.\n",
      "Readability counts.\n",
      "Special cases aren't special enough to break the rules.\n",
      "Although practicality beats purity.\n",
      "Errors should never pass silently.\n",
      "Unless explicitly silenced.\n",
      "In the face of ambiguity, refuse the temptation to guess.\n",
      "There should be one-- and preferably only one --obvious way to do it.\n",
      "Although that way may not be obvious at first unless you're Dutch.\n",
      "Now is better than never.\n",
      "Although never is often better than *right* now.\n",
      "If the implementation is hard to explain, it's a bad idea.\n",
      "If the implementation is easy to explain, it may be a good idea.\n",
      "Namespaces are one honking great idea -- let's do more of those!\n"
     ]
    }
   ],
   "source": [
    "import this"
   ]
  },
  {
   "cell_type": "markdown",
   "metadata": {},
   "source": [
    "## 字串處理"
   ]
  },
  {
   "cell_type": "code",
   "execution_count": 26,
   "metadata": {},
   "outputs": [],
   "source": [
    "a = 'Hello World'"
   ]
  },
  {
   "cell_type": "code",
   "execution_count": 27,
   "metadata": {},
   "outputs": [
    {
     "data": {
      "text/plain": [
       "'Hello World'"
      ]
     },
     "execution_count": 27,
     "metadata": {},
     "output_type": "execute_result"
    }
   ],
   "source": [
    "a"
   ]
  },
  {
   "cell_type": "code",
   "execution_count": 28,
   "metadata": {},
   "outputs": [],
   "source": [
    "a = \"Hello World\""
   ]
  },
  {
   "cell_type": "code",
   "execution_count": 30,
   "metadata": {},
   "outputs": [
    {
     "ename": "SyntaxError",
     "evalue": "invalid syntax (<ipython-input-30-a26d69fd5f1c>, line 1)",
     "output_type": "error",
     "traceback": [
      "\u001b[0;36m  File \u001b[0;32m\"<ipython-input-30-a26d69fd5f1c>\"\u001b[0;36m, line \u001b[0;32m1\u001b[0m\n\u001b[0;31m    a = 'Hello i'm thirty years old'\u001b[0m\n\u001b[0m                 ^\u001b[0m\n\u001b[0;31mSyntaxError\u001b[0m\u001b[0;31m:\u001b[0m invalid syntax\n"
     ]
    }
   ],
   "source": [
    "a = 'Hello i'm thirty years old'"
   ]
  },
  {
   "cell_type": "code",
   "execution_count": 31,
   "metadata": {},
   "outputs": [],
   "source": [
    "a = \"Hello i'm thirty years old\""
   ]
  },
  {
   "cell_type": "code",
   "execution_count": 32,
   "metadata": {},
   "outputs": [
    {
     "data": {
      "text/plain": [
       "\"Hello i'm thirty years old\""
      ]
     },
     "execution_count": 32,
     "metadata": {},
     "output_type": "execute_result"
    }
   ],
   "source": [
    "a"
   ]
  },
  {
   "cell_type": "code",
   "execution_count": 33,
   "metadata": {},
   "outputs": [
    {
     "data": {
      "text/plain": [
       "'Hello World'"
      ]
     },
     "execution_count": 33,
     "metadata": {},
     "output_type": "execute_result"
    }
   ],
   "source": [
    "'Hello World'"
   ]
  },
  {
   "cell_type": "code",
   "execution_count": 34,
   "metadata": {},
   "outputs": [
    {
     "data": {
      "text/plain": [
       "'寶寶心裏苦 但寶寶不說'"
      ]
     },
     "execution_count": 34,
     "metadata": {},
     "output_type": "execute_result"
    }
   ],
   "source": [
    "'寶寶心裏苦 但寶寶不說'"
   ]
  },
  {
   "cell_type": "code",
   "execution_count": 35,
   "metadata": {},
   "outputs": [
    {
     "data": {
      "text/plain": [
       "'Hi I like python'"
      ]
     },
     "execution_count": 35,
     "metadata": {},
     "output_type": "execute_result"
    }
   ],
   "source": [
    "'Hello World'\n",
    "'Hi I like python'"
   ]
  },
  {
   "cell_type": "code",
   "execution_count": 36,
   "metadata": {},
   "outputs": [
    {
     "name": "stdout",
     "output_type": "stream",
     "text": [
      "Hello World\n",
      "Hi I like python\n"
     ]
    }
   ],
   "source": [
    "print('Hello World')\n",
    "print('Hi I like python')"
   ]
  },
  {
   "cell_type": "code",
   "execution_count": 37,
   "metadata": {},
   "outputs": [
    {
     "name": "stdout",
     "output_type": "stream",
     "text": [
      "Hello world 1\n",
      "Hello world 2\n",
      "Use \n",
      " to print a new line\n",
      "\n",
      "\n",
      "See what i mean?\n"
     ]
    }
   ],
   "source": [
    "print('Hello world 1')\n",
    "print('Hello world 2')\n",
    "print('Use \\n to print a new line')\n",
    "print('\\n')\n",
    "print('See what i mean?')"
   ]
  },
  {
   "cell_type": "code",
   "execution_count": 39,
   "metadata": {},
   "outputs": [
    {
     "name": "stdout",
     "output_type": "stream",
     "text": [
      "Here is a new line \n",
      " and here is the second line\n"
     ]
    }
   ],
   "source": [
    "# \\n => newline\n",
    "print('Here is a new line \\n and here is the second line')"
   ]
  },
  {
   "cell_type": "code",
   "execution_count": 40,
   "metadata": {},
   "outputs": [
    {
     "name": "stdout",
     "output_type": "stream",
     "text": [
      "1 2 3\n",
      "100 200 300\n"
     ]
    }
   ],
   "source": [
    "# \\t => tab\n",
    "print('1 2 3\\n100 200 300')"
   ]
  },
  {
   "cell_type": "code",
   "execution_count": 41,
   "metadata": {},
   "outputs": [
    {
     "name": "stdout",
     "output_type": "stream",
     "text": [
      "1\t2\t3\n",
      "100\t200\t300\n"
     ]
    }
   ],
   "source": [
    "# \\t => tab\n",
    "print('1\\t2\\t3\\n100\\t200\\t300')"
   ]
  },
  {
   "cell_type": "code",
   "execution_count": 42,
   "metadata": {},
   "outputs": [],
   "source": [
    "a = 'i like this game sooooooooooooooooooooooooooooooo much'"
   ]
  },
  {
   "cell_type": "code",
   "execution_count": 43,
   "metadata": {},
   "outputs": [
    {
     "data": {
      "text/plain": [
       "'i like this game sooooooooooooooooooooooooooooooo much'"
      ]
     },
     "execution_count": 43,
     "metadata": {},
     "output_type": "execute_result"
    }
   ],
   "source": [
    "a = 'i like this game soooooooooooo\\\n",
    "ooooooooooooooooooo much'\n",
    "a"
   ]
  },
  {
   "cell_type": "code",
   "execution_count": 45,
   "metadata": {},
   "outputs": [
    {
     "name": "stdout",
     "output_type": "stream",
     "text": [
      "i like this game soooooooooooo\n",
      "ooooooooooooooooooo much\n"
     ]
    }
   ],
   "source": [
    "a = '''i like this game soooooooooooo\n",
    "ooooooooooooooooooo much'''\n",
    "print(a)"
   ]
  },
  {
   "cell_type": "code",
   "execution_count": 46,
   "metadata": {},
   "outputs": [],
   "source": [
    "s = 'Hello'"
   ]
  },
  {
   "cell_type": "code",
   "execution_count": 47,
   "metadata": {},
   "outputs": [
    {
     "data": {
      "text/plain": [
       "'o'"
      ]
     },
     "execution_count": 47,
     "metadata": {},
     "output_type": "execute_result"
    }
   ],
   "source": [
    "#substr(4,5)\n",
    "s[-1]"
   ]
  },
  {
   "cell_type": "code",
   "execution_count": 48,
   "metadata": {},
   "outputs": [
    {
     "data": {
      "text/plain": [
       "'l'"
      ]
     },
     "execution_count": 48,
     "metadata": {},
     "output_type": "execute_result"
    }
   ],
   "source": [
    "s[-2]"
   ]
  },
  {
   "cell_type": "code",
   "execution_count": 49,
   "metadata": {},
   "outputs": [
    {
     "data": {
      "text/plain": [
       "'H'"
      ]
     },
     "execution_count": 49,
     "metadata": {},
     "output_type": "execute_result"
    }
   ],
   "source": [
    "s[0]"
   ]
  },
  {
   "cell_type": "code",
   "execution_count": 50,
   "metadata": {},
   "outputs": [
    {
     "data": {
      "text/plain": [
       "'Hello'"
      ]
     },
     "execution_count": 50,
     "metadata": {},
     "output_type": "execute_result"
    }
   ],
   "source": [
    "s"
   ]
  },
  {
   "cell_type": "code",
   "execution_count": 51,
   "metadata": {},
   "outputs": [
    {
     "data": {
      "text/plain": [
       "'Hello'"
      ]
     },
     "execution_count": 51,
     "metadata": {},
     "output_type": "execute_result"
    }
   ],
   "source": [
    "s[:]"
   ]
  },
  {
   "cell_type": "code",
   "execution_count": 52,
   "metadata": {},
   "outputs": [
    {
     "data": {
      "text/plain": [
       "'ell'"
      ]
     },
     "execution_count": 52,
     "metadata": {},
     "output_type": "execute_result"
    }
   ],
   "source": [
    "# for(i = 1; i< 4; i++)\n",
    "s[1:4]"
   ]
  },
  {
   "cell_type": "code",
   "execution_count": 53,
   "metadata": {},
   "outputs": [
    {
     "data": {
      "text/plain": [
       "'Hel'"
      ]
     },
     "execution_count": 53,
     "metadata": {},
     "output_type": "execute_result"
    }
   ],
   "source": [
    "s[:3]"
   ]
  },
  {
   "cell_type": "code",
   "execution_count": 54,
   "metadata": {},
   "outputs": [
    {
     "data": {
      "text/plain": [
       "'lo'"
      ]
     },
     "execution_count": 54,
     "metadata": {},
     "output_type": "execute_result"
    }
   ],
   "source": [
    "s[3:]"
   ]
  },
  {
   "cell_type": "code",
   "execution_count": 55,
   "metadata": {},
   "outputs": [
    {
     "data": {
      "text/plain": [
       "'八卦'"
      ]
     },
     "execution_count": 55,
     "metadata": {},
     "output_type": "execute_result"
    }
   ],
   "source": [
    "s = '[八卦] 林之靈被發現跟言承旭共處一室'\n",
    "s[1:3]"
   ]
  },
  {
   "cell_type": "code",
   "execution_count": 56,
   "metadata": {},
   "outputs": [
    {
     "data": {
      "text/plain": [
       "'[八卦] 林之靈被發現跟言承旭共處一室'"
      ]
     },
     "execution_count": 56,
     "metadata": {},
     "output_type": "execute_result"
    }
   ],
   "source": [
    "s[::]"
   ]
  },
  {
   "cell_type": "code",
   "execution_count": 57,
   "metadata": {},
   "outputs": [
    {
     "data": {
      "text/plain": [
       "'八卦'"
      ]
     },
     "execution_count": 57,
     "metadata": {},
     "output_type": "execute_result"
    }
   ],
   "source": [
    "# for(i=1; i < 3 ; i = i + 1)\n",
    "s[1:3:1]"
   ]
  },
  {
   "cell_type": "code",
   "execution_count": 58,
   "metadata": {},
   "outputs": [
    {
     "data": {
      "text/plain": [
       "'[八卦'"
      ]
     },
     "execution_count": 58,
     "metadata": {},
     "output_type": "execute_result"
    }
   ],
   "source": [
    "# for(i=0; i < 3 ; i = i + 1)\n",
    "s[:3:1]"
   ]
  },
  {
   "cell_type": "code",
   "execution_count": 59,
   "metadata": {},
   "outputs": [
    {
     "data": {
      "text/plain": [
       "'[卦 之被現言旭處室'"
      ]
     },
     "execution_count": 59,
     "metadata": {},
     "output_type": "execute_result"
    }
   ],
   "source": [
    "# for(i=0; i < len(s) ; i = i + 2)\n",
    "s[::2]"
   ]
  },
  {
   "cell_type": "code",
   "execution_count": 60,
   "metadata": {},
   "outputs": [
    {
     "data": {
      "text/plain": [
       "'室一處共旭承言跟現發被靈之林 ]卦八['"
      ]
     },
     "execution_count": 60,
     "metadata": {},
     "output_type": "execute_result"
    }
   ],
   "source": [
    "# for(i=len(s); i > 0  ; i = i- 1)\n",
    "s[::-1]"
   ]
  },
  {
   "cell_type": "code",
   "execution_count": 61,
   "metadata": {},
   "outputs": [
    {
     "data": {
      "text/plain": [
       "True"
      ]
     },
     "execution_count": 61,
     "metadata": {},
     "output_type": "execute_result"
    }
   ],
   "source": [
    "#palindrome\n",
    "s = '上海自來水來自海上'\n",
    "s == s[::-1]"
   ]
  },
  {
   "cell_type": "code",
   "execution_count": 62,
   "metadata": {},
   "outputs": [
    {
     "data": {
      "text/plain": [
       "False"
      ]
     },
     "execution_count": 62,
     "metadata": {},
     "output_type": "execute_result"
    }
   ],
   "source": [
    "s = '林之靈'\n",
    "s == s[::-1]"
   ]
  },
  {
   "cell_type": "code",
   "execution_count": 63,
   "metadata": {},
   "outputs": [
    {
     "data": {
      "text/plain": [
       "'林之靈言承旭'"
      ]
     },
     "execution_count": 63,
     "metadata": {},
     "output_type": "execute_result"
    }
   ],
   "source": [
    "s1 = '林之靈'\n",
    "s2 = '言承旭'\n",
    "s1 + s2"
   ]
  },
  {
   "cell_type": "code",
   "execution_count": 64,
   "metadata": {},
   "outputs": [
    {
     "data": {
      "text/plain": [
       "'林之靈 Love 言承旭'"
      ]
     },
     "execution_count": 64,
     "metadata": {},
     "output_type": "execute_result"
    }
   ],
   "source": [
    "s1 + ' Love '+ s2"
   ]
  },
  {
   "cell_type": "code",
   "execution_count": 66,
   "metadata": {},
   "outputs": [
    {
     "data": {
      "text/plain": [
       "'對不起對不起對不起對不起對不起對不起對不起對不起對不起對不起'"
      ]
     },
     "execution_count": 66,
     "metadata": {},
     "output_type": "execute_result"
    }
   ],
   "source": [
    "'對不起' * 10"
   ]
  },
  {
   "cell_type": "code",
   "execution_count": 67,
   "metadata": {},
   "outputs": [
    {
     "data": {
      "text/plain": [
       "'HELLO'"
      ]
     },
     "execution_count": 67,
     "metadata": {},
     "output_type": "execute_result"
    }
   ],
   "source": [
    "s = 'hello'\n",
    "s.upper()"
   ]
  },
  {
   "cell_type": "code",
   "execution_count": 68,
   "metadata": {},
   "outputs": [
    {
     "data": {
      "text/plain": [
       "'Hello'"
      ]
     },
     "execution_count": 68,
     "metadata": {},
     "output_type": "execute_result"
    }
   ],
   "source": [
    "s.title()"
   ]
  },
  {
   "cell_type": "code",
   "execution_count": 69,
   "metadata": {},
   "outputs": [
    {
     "name": "stdout",
     "output_type": "stream",
     "text": [
      "['__add__', '__class__', '__contains__', '__delattr__', '__dir__', '__doc__', '__eq__', '__format__', '__ge__', '__getattribute__', '__getitem__', '__getnewargs__', '__gt__', '__hash__', '__init__', '__init_subclass__', '__iter__', '__le__', '__len__', '__lt__', '__mod__', '__mul__', '__ne__', '__new__', '__reduce__', '__reduce_ex__', '__repr__', '__rmod__', '__rmul__', '__setattr__', '__sizeof__', '__str__', '__subclasshook__', 'capitalize', 'casefold', 'center', 'count', 'encode', 'endswith', 'expandtabs', 'find', 'format', 'format_map', 'index', 'isalnum', 'isalpha', 'isdecimal', 'isdigit', 'isidentifier', 'islower', 'isnumeric', 'isprintable', 'isspace', 'istitle', 'isupper', 'join', 'ljust', 'lower', 'lstrip', 'maketrans', 'partition', 'replace', 'rfind', 'rindex', 'rjust', 'rpartition', 'rsplit', 'rstrip', 'split', 'splitlines', 'startswith', 'strip', 'swapcase', 'title', 'translate', 'upper', 'zfill']\n"
     ]
    }
   ],
   "source": [
    "print(dir(s))"
   ]
  },
  {
   "cell_type": "code",
   "execution_count": 70,
   "metadata": {},
   "outputs": [],
   "source": [
    "?s.strip"
   ]
  },
  {
   "cell_type": "code",
   "execution_count": 71,
   "metadata": {},
   "outputs": [
    {
     "name": "stdout",
     "output_type": "stream",
     "text": [
      "                hi           I      Love    Python    \n",
      "\n",
      "  \t\n"
     ]
    }
   ],
   "source": [
    "s = '                hi           I      Love    Python    \\n\\n  \\t'\n",
    "print(s)"
   ]
  },
  {
   "cell_type": "code",
   "execution_count": 72,
   "metadata": {},
   "outputs": [
    {
     "data": {
      "text/plain": [
       "'hi           I      Love    Python'"
      ]
     },
     "execution_count": 72,
     "metadata": {},
     "output_type": "execute_result"
    }
   ],
   "source": [
    "s.strip()"
   ]
  },
  {
   "cell_type": "code",
   "execution_count": 73,
   "metadata": {},
   "outputs": [],
   "source": [
    "?s.split"
   ]
  },
  {
   "cell_type": "code",
   "execution_count": 74,
   "metadata": {},
   "outputs": [
    {
     "data": {
      "text/plain": [
       "['hi', 'I', 'Love', 'Python']"
      ]
     },
     "execution_count": 74,
     "metadata": {},
     "output_type": "execute_result"
    }
   ],
   "source": [
    "s.strip().split()"
   ]
  },
  {
   "cell_type": "code",
   "execution_count": 75,
   "metadata": {},
   "outputs": [
    {
     "data": {
      "text/plain": [
       "'hi I Love Python'"
      ]
     },
     "execution_count": 75,
     "metadata": {},
     "output_type": "execute_result"
    }
   ],
   "source": [
    "' '.join(s.strip().split())"
   ]
  },
  {
   "cell_type": "code",
   "execution_count": 76,
   "metadata": {},
   "outputs": [],
   "source": [
    "speech = '''\n",
    "大會主席蘇嘉全院長，現場的各位貴賓，電視機前面、以及網路上收看直播的全體國人同胞，大家早安，大家好！\n",
    "\n",
    "今天是中華民國一百零七歲的生日，現場有許多來自全世界各地的僑胞和好朋友，跟我們一起歡度國家的慶典。我要代表台灣人民，跟遠道而來的各位，致上最深的謝意。\n",
    "\n",
    "在國慶的這一天，我們不只要共同慶祝，更要一起思考國家的未來。過去一年，新的國際局勢正在考驗著每一個國家，當然也考驗著我們。政府無時無刻都在思考，如何從挑戰中發現機遇，如何在變動中，找出國家最佳戰略跟出路。今天我就要藉著這個機會，向全國人民完整說明政府的因應之道。\n",
    "\n",
    "相信大家都觀察到，國際政經局勢正在面臨劇烈的變化。美中之間的貿易衝突，讓國際產業分工出現重組，也對原有的經貿秩序帶來衝擊。\n",
    "\n",
    "在此同時，印太地區以及兩岸關係的複雜度，也相應升高。中國試圖挑戰區域現狀的作為，已經引起國際社會高度地關注。台灣位處西太平洋第一線，自然承受巨大的壓力。\n",
    "\n",
    "這段時間以來，中國單方面的文攻武嚇和外交打壓，不但傷害了兩岸關係，更嚴重挑戰了台海和平穩定的現狀。\n",
    "\n",
    "面對打壓，有些人希望政府採取更具對抗性的立場。不過，也有另一些人認為，我們應該要退讓妥協。\n",
    "\n",
    "但是各位，越是劇烈的變局，台灣就越要維持穩定，以沉著的態度化解壓力，冷靜地尋找生存的利基。\n",
    "\n",
    "這是兩年多來我一貫的堅持。維護兩千三百萬人民自由民主的生活方式，捍衛中華民國的永續發展，維持台海和平跟區域穩定，這是全體台灣人民最大的公約數，每一個負責任的政治人物和政黨，都應該要堅持捍衛到底！\n",
    "\n",
    "當全世界都在因應中國勢力擴張的同時，我所領導的政府要讓世界看見台灣的強韌。捍衛台灣的最佳方案，就是要讓台灣在世界上變得不可或缺，也不可取代。\n",
    "\n",
    "外在力量企圖單方面改變台海現狀的做法，不可能被台灣人民接受，任何違反普世價值的主張，也絕不會獲得國際社會的認同和支持。\n",
    "\n",
    "我也要再一次呼籲北京當局，一個負責任的大國，應該在區域及全球，扮演良性的角色，而不是衝突的來源。\n",
    "\n",
    "做為總統，我要向大家保證，我們不會貿然升高對抗，也不會屈從退讓。我不會因一時的激憤，走向衝突對抗，而讓兩岸關係陷入險境。我也不會背離民意，犧牲台灣的主權。在變局當中，我們絕對不能錯估情勢。激化衝突或者妥協屈從，都只會治絲益棼。\n",
    "\n",
    "我們的因應之道，就是「求穩、應變、進步」。這條路雖然充滿了挑戰，但卻是現階段台灣必須穩健前行的道路。\n",
    "\n",
    "有效的因應策略，植基於堅強的國力。所以當前最重要的任務，就是強化國家安全、強化經濟實力、強化社會安全網，不斷地「壯大台灣」，厚植實力，提升台灣在國際上的不可替代性，這才是台灣永續生存的利基。\n",
    "\n",
    "當前國家安全所面臨的挑戰，已經不僅僅是傳統國防軍事安全。外交施壓、社會滲透，甚至經濟安全，都是可能造成威脅的手段。當務之急，就是建構整體戰略，啟動國家安全強化的工程。\n",
    "\n",
    "國家安全整體布局的第一個面向，就是在外交上強化價值連結，建構台灣不可取代的戰略重要性。\n",
    "\n",
    "台灣擁有重要的地緣戰略地位，面對國際變局，我們的戰略選擇相當清楚，就是要堅守自由民主以及市場經濟。這兩項根本價值，是台灣今天成為亞洲民主典範，及發展經濟實力的重要基礎。\n",
    "\n",
    "過去兩年，在中國的壓力之下，我們堅持價值理念，展現高度韌性，讓越來越多理念相近國家，表達對中華民國台灣的支持。\n",
    "\n",
    "尤其是美國，最近不僅國會通過了許多友台法案，日前彭斯副總統，也公開譴責中國打壓台灣外交，並且肯定台灣的民主制度。\n",
    "\n",
    "和台灣共享民主價值的日本，無論是在國際場合的聲援、或是天災時相互協助關懷，都讓兩國間的友誼越發密切。\n",
    "\n",
    "前陣子，歐洲議會也通過決議，肯定台灣民主發展，同時也呼籲歐盟國家全力遏止中國武力挑釁台灣、破壞台海和平。\n",
    "\n",
    "我們也有很多友邦，積極為台灣奔走，呼籲國際合作不該遺漏台灣。今天，三位為台灣仗義執言的好朋友，巴拉圭的阿布鐸總統閣下、聖克里斯多福及尼維斯的席頓總督閣下，以及聖露西亞的查士納總理閣下，也出席了我們的國慶典禮\n",
    "\n",
    "讓我們藉著這個機會，向他們表達最誠摯的感謝。現在請大家用熱情的掌聲，歡迎這三位遠道而來的貴賓。\n",
    "\n",
    "國家安全整體布局的第二道面向，就是提升國防戰力。\n",
    "\n",
    "「重層嚇阻，防衛固守」，是我們的軍事戰略。它的核心價值，就在提升中華民國國軍的戰力。我曾經說過，只要蔡英文任總統的一天，國防預算每年都會穩定成長。我們精實的部隊和戰備，絕對有能力捍衛中華民國台灣的主權！\n",
    "\n",
    "在此外，我們也全力強化「國防自主」的能力。今年六月，我到漢翔公司，主持高教機的開架典禮，今年八月，我也在海軍司令部宣布「新海軍啟航」。\n",
    "\n",
    "重啟延宕多時的高教機國造和潛艦國造計畫，將引領國防工業邁向新時代。未來的國防工業，不只能夠強化國軍戰力，更能夠透過帶動產業升級跟群聚，成為經濟發展的重要動力。\n",
    "\n",
    "國家安全布局的第三個面向，是阻止外來勢力對國內進行滲透破壞，確保民主制度及社會經濟正常運作。\n",
    "\n",
    "台灣的多元民主，是我們堅決守護的價值。但是如果有其他國家，利用台灣社會的自由，來進行滲透、製造亂象，我們一定會用盡一切方式來防範，絕對不會坐視。\n",
    "\n",
    "無論是製造散布假消息、非法竊取科技情報，還是蓄意破壞資訊安全系統，甚至企圖用各種方式介入選舉、干擾政治運作的行為，只要罪證確鑿，我們一定嚴辦到底。\n",
    "\n",
    "針對系統性、來自特定國家背景的假消息傳播，我們也會加強跨國合作。不僅僅是交流經驗，未來更要建立查核和通報機制，共同來因應這些假消息對各國的社會穩定，所帶來的破壞和衝擊。\n",
    "\n",
    "國家安全整體布局的第四個面向，就是全球經貿戰略的重整及全新布局。\n",
    "\n",
    "面對美中貿易衝突，和全球經貿秩序重建的巨大變局，我們必須調整台灣在區域發展及全球供應鏈的角色。我們要以中、大型台商在區域分工的整合能力及全球布局能量，加上中小企業的活力，來開展全新的戰略布局，催化台灣經濟全面轉型升級。\n",
    "我們要做三件重要的事情：\n",
    "\n",
    "第一，從產業結構及資源互補的角度，在研發及尖端製造領域，和美、歐、日等工業先進國家，建立緊密的產業分工及技術連結，創造全新、高效率的供應鏈。\n",
    "\n",
    "第二，從資源及市場共享的角度，在具發展潛力的新南向國家及其他新興市場，透過多元合作，共同打造攸關經濟發展及民生福祉的關鍵產業鏈，促進經濟的共榮發展。\n",
    "\n",
    "第三，在我們的邦交國，協同當地政府共同面對氣候變遷的挑戰及尋找新的發展機會，打下經濟永續發展的基礎，也為台灣開闢未來的新市場、新生產基地、以及全球布局的新據點。\n",
    "\n",
    "在經濟實力的強化上，我們必須要強力的推動經濟轉型，有效率的執行基礎建設計畫，認真解決五缺問題，並將經濟成長的利益，由全民共享。\n",
    "\n",
    "經濟轉型的關鍵在科技。政府正努力朝「系統導向、軟硬整合、軍民合一，以及國際鏈結」四大目標，快速提升科技水準及研發的能量，以作為經濟提升的重要基礎。\n",
    "\n",
    "我們用新的思維，拆解不合時宜的框架，也鬆綁了阻礙競爭的約束，帶領產業走向新的機遇。\n",
    "\n",
    "在這當中，「5+2產業創新計畫」已經有效驅動產業升級轉型。導入智慧製造的機械產業，去年的產值已經突破一兆元，精密度跟附加價值也更上一層樓，帶動了航太、物聯網，以及醫材的製造水準。\n",
    "\n",
    "另外，「非核家園」的目標也確立了綠能發展的藍圖，並吸引國際離岸風電大廠前來投資。連帶地，新的風電產業鏈，也正在逐漸形成。\n",
    "\n",
    "我們也要強化多元的國際布局，產業才有能力在面對變局時，快速調整供應鏈來因應。\n",
    "\n",
    "行政院已經組成專案小組，協助台商多元布局生產基地。願意回台灣投資的台商，我們鼎力相助，如果希望到其他國家投資布局，我們也會全力支援。\n",
    "\n",
    "今年，「前瞻基礎建設」計畫第一期特別預算已經開始執行，建設的效益會逐漸展現，對擴大內需的貢獻也在發酵當中。這當中的綠能、數位、水資源、軌道、城鄉，是下一階段台灣要優先投資的基礎建設。\n",
    "\n",
    "在彰化，透過綠電稅收，政府有了穩定的財政基礎，可以確保學生營養午餐、社會福利實施的財政平衡。\n",
    "\n",
    "在原鄉部落及偏遠地區，我們鋪設了寬頻建設，讓小朋友透過網路跟世界連結，拉近城鄉的差距。\n",
    "\n",
    "在水資源建設上，透過石門水庫中庄調整池、湖山水庫下游自來水工程、曾文水庫防淤隧道的興建，我們穩定了從北到南的供水。\n",
    "\n",
    "因為極端氣候強降雨所造成的局部地區淹水問題，也正透過各地滯洪池、人工湖、河川整治和下水道清淤等工程，希望做到快速減災的效果。\n",
    "\n",
    "在交通建設方面，東部地區，透過蘇花公路改善計畫、南迴公路改善計畫，已經初步看見成果。\n",
    "\n",
    "大家所關心的軌道建設，我們也加緊努力，強化進入東部地區的鐵路系統，以及花東之間的鐵路系統，讓環島的鐵路系統更加完備。\n",
    "\n",
    "連結北部都會地區的基隆輕軌、新竹輕軌，串連中部區域的台中山手線，以及捷運綠線延伸彰化方案，還有高雄捷運紅線延伸、黃線新建案等，從南到北，許多新建計畫都已經展開規劃，並陸續進入核定階段。\n",
    "\n",
    "軌道建設的發展，不僅提供便捷的交通，更能有效減少汽機車造成的空氣污染。\n",
    "\n",
    "大力推動前瞻基礎建設的目的，就是要改善投資環境、均衡區域發展，為台灣的下一個世代創造更優質的環境和生活。\n",
    "\n",
    "我們致力改善產業的投資環境。企業所關切的生產元素，包括土地、水、電、人才、勞工的五缺問題，在賴院長「做實事」的態度下，一項又一項逐步解決。\n",
    "\n",
    "請大家回憶一下，去年夏天，能源供應十分緊張，供電警戒的橘燈一共亮起六十六天。今年夏天，無論天氣和景氣，都比去年熱，但是供電警戒的橘燈一天也沒有亮過，我們度過了供電危機。\n",
    "\n",
    "我們再回憶一下，今年上半年，西部地區降雨很少，大家都擔心缺水。但是透過開源、節流、調度和備援的措施，再加上前瞻基礎建設計畫，我們也安然度過了挑戰。\n",
    "\n",
    "前陣子，台積電、華邦電、力晶等大廠，都加碼投資台灣。國際大公司Google、微軟、思科、Facebook，有些準備在台灣設置研發中心，有些是提出新的合作計畫，這些代表了我們改善投資環境的成果，得到了國內外廠商的肯定。\n",
    "\n",
    "當經濟結構轉型的工程啟動，基礎建設開始興建，投資環境呈現改善的同時，我們看見景氣復甦，台灣經濟也開始穩健成長。\n",
    "\n",
    "兩年前，我們走出了連續三季的衰退；今年一到五月的失業率，是十八年來同期新低。2017年實質總薪資更創歷史新高，結束了薪資倒退十幾年的窘境。\n",
    "\n",
    "經濟指標變好，當然令人欣喜，但是對政府來說，最重要的事情是，怎麼將經濟成長的紅利，分享給所有人民。\n",
    "\n",
    "今年，我們把軍公教調高薪資百分之三，帶動了企業加薪的風潮。我們也加速調漲基本工資，明年起將達到兩萬三千一百元，終於擺脫了22K。此外，我們也為學貸增加了四年的寬緩期，減輕學貸族的負擔。\n",
    "\n",
    "明年起生效的租稅改革方案，優化稅制也兼顧租稅公平，大幅調高四大扣除額，未來月薪三萬元以下的民眾，就不需要繳個人所得稅。有學齡前兒童的家庭，免稅額也大大提高。\n",
    "\n",
    "在健全社會安全體系方面，2016年，我剛剛就任時，大家最憂慮的就是，房價太高、長輩沒有人照顧、育兒負擔沉重、社會治安不佳、毒品氾濫動搖國本等問題。整個國家的社會安全體系，可以說是百廢待舉。因此這兩年來，我們幾乎是用急行軍的速度，來健全社會安全體系。\n",
    "\n",
    "攸關居住正義問題的社會住宅，透過多元興辦，目前完工和正在興辦中的，已經超過兩萬四千戶。加上後續開工的案件，今年年底總戶數將可達到近三萬五千戶。在問題最嚴峻的雙北市，近兩年已經有超過五千四百戶陸續入住，我也去視察了其中幾個，無論是質或量，都令人滿意。\n",
    "\n",
    "民眾迫切需要的長照服務，現在升級成「長照2.0」，只要打1966長照專線，就有專人來協助。我們擴大了服務對象和範圍；我們也提高了待遇，使得更多人投入長照服務，增加了服務供給，讓更多家庭的需求被滿足。因為這些努力，接受長照服務人數，在最近一年增加超過五成。而接受喘息服務人數，最近一年則增加了一倍。\n",
    "\n",
    "生育率低，已經成為國安問題。我們除了提供津貼，更透過「準公共化系統」的建置，朝公共化教保的目標邁進了一步。目前，準公共化和公共化托育，共可提供平價收托量達到五萬六千人，比過去更加普及。我們的目標很清楚，減輕家長的負擔，生育率就有機會改善。\n",
    "\n",
    "大家所關心的治安問題，我們透過科技協助，智慧部署警力，犯罪發生數確實呈現下降趨勢。我們也對組織犯罪和詐騙進行全面掃蕩，今年到現在，檢警依違反新修正的《組織犯罪防制條例》，積極打擊包括詐騙集團、幫派在內的各類犯罪組織，起訴超過一千三百人。\n",
    "\n",
    "今年二月和六月兩波「安居緝毒方案」，查獲各級毒品高達九千七百公斤，所逮捕的製毒者、販毒者和藥頭，加起來超過一千九百人。我們更在四年內投入一百億的經費，執行「新世紀反毒策略」，將毒品網絡從社會連根拔起。\n",
    "\n",
    "各位國人同胞，國家發展的方向已經在改變。改變並不可怕，因為改變是為了因應世界的變化，讓台灣能夠繼續屹立不搖。\n",
    "\n",
    "改變也是為了改正過去的錯誤，讓我們把國家交給下一代的時候，不會再有難以承擔的包袱。所以這兩年多來，我們全力衝刺國政的改革。國家要進步，就不能走回頭路。\n",
    "\n",
    "年金改革我們不能走回頭路。因為我們不能讓每一個世代都陷入財務危機的懸崖邊緣。\n",
    "\n",
    "非核家園也不能走回頭路。這不只是為了核電廠所在的新北和屏東，更是為了世世代代的台灣人，能免於核災的威脅。\n",
    "\n",
    "轉型正義更不能走回頭路。過去執政者犯的錯誤，現在的政府更要勇敢面對，透過釐清真相，記取教訓，民主才會向前跨大步。\n",
    "\n",
    "改革也許有陣痛，但是在十年、二十年之後，下一代會感到也會感謝我們此刻的選擇。這是考驗領導人意志的時刻，我會把這個重擔扛起來，帶領國家往正確的方向走。\n",
    "\n",
    "在最後，我要特別感謝今天的國歌領唱代表，他們是一群「燈塔守護者」。\n",
    "\n",
    "我們全國各地的海岸，有三十六座燈塔。有一群人，負責守護著燈塔，維護海上航行的安全。我要代表國家，感謝各位忍受著孤獨和艱難，照亮海岸。\n",
    "\n",
    "台灣就是一個燈塔。我們的民主轉型，不僅照亮了自己曾經走過的黑暗，也為所有追求民主的人們，提供了暗夜中的光芒。所以，在香港、在中國大陸，以及在世界上各個角落，追求民主的朋友，請往台灣的方向看過來。台灣的民主，會照亮世界！\n",
    "\n",
    "當世界看見台灣的美好，台灣就不會孤獨。我要告訴國際友人，這條路，我們會勇敢堅定地走下去！\n",
    "\n",
    "台灣的民主也許吵吵鬧鬧，但我們一向因台灣而團結，因團結而堅強。因為這個國家，屬於兩千三百萬人民，這個國家，要完整地傳給世世代代！\n",
    "\n",
    "我們始終相信，台灣人能用獨特的堅韌，面對從來不曾停止過的內外挑戰，團結起來，讓國家更好，這就是今年國慶的主題，「台灣共好」的最佳寫照。最後，我要祝大家身體健康，萬事如意，中華民國生日快樂。謝謝，謝謝大家！\n",
    "\n",
    "\n",
    "\n",
    "'''"
   ]
  },
  {
   "cell_type": "code",
   "execution_count": 77,
   "metadata": {},
   "outputs": [],
   "source": [
    "?speech.count"
   ]
  },
  {
   "cell_type": "code",
   "execution_count": 78,
   "metadata": {},
   "outputs": [
    {
     "data": {
      "text/plain": [
       "48"
      ]
     },
     "execution_count": 78,
     "metadata": {},
     "output_type": "execute_result"
    }
   ],
   "source": [
    "speech.count('台灣')"
   ]
  },
  {
   "cell_type": "code",
   "execution_count": 79,
   "metadata": {},
   "outputs": [
    {
     "data": {
      "text/plain": [
       "3"
      ]
     },
     "execution_count": 79,
     "metadata": {},
     "output_type": "execute_result"
    }
   ],
   "source": [
    "speech.count('國慶')"
   ]
  },
  {
   "cell_type": "code",
   "execution_count": 80,
   "metadata": {},
   "outputs": [
    {
     "data": {
      "text/plain": [
       "14"
      ]
     },
     "execution_count": 80,
     "metadata": {},
     "output_type": "execute_result"
    }
   ],
   "source": [
    "speech.count('民主')"
   ]
  },
  {
   "cell_type": "code",
   "execution_count": 83,
   "metadata": {},
   "outputs": [
    {
     "data": {
      "text/plain": [
       "6"
      ]
     },
     "execution_count": 83,
     "metadata": {},
     "output_type": "execute_result"
    }
   ],
   "source": [
    "speech.count('中華民國')"
   ]
  },
  {
   "cell_type": "code",
   "execution_count": 82,
   "metadata": {},
   "outputs": [],
   "source": [
    "?speech.find"
   ]
  },
  {
   "cell_type": "code",
   "execution_count": 84,
   "metadata": {},
   "outputs": [
    {
     "data": {
      "text/plain": [
       "56"
      ]
     },
     "execution_count": 84,
     "metadata": {},
     "output_type": "execute_result"
    }
   ],
   "source": [
    "speech.find('中華民國')"
   ]
  },
  {
   "cell_type": "code",
   "execution_count": 85,
   "metadata": {},
   "outputs": [
    {
     "data": {
      "text/plain": [
       "'，大家好！\\n\\n今天是中華民國一百零七歲的'"
      ]
     },
     "execution_count": 85,
     "metadata": {},
     "output_type": "execute_result"
    }
   ],
   "source": [
    "speech[56- 10 : 56 + 10]"
   ]
  },
  {
   "cell_type": "code",
   "execution_count": 96,
   "metadata": {},
   "outputs": [
    {
     "name": "stdout",
     "output_type": "stream",
     "text": [
      "<START> 體國人同胞，大家早安，大家好！\n",
      "\n",
      "今天是中華民國一百零七歲的生日，現場有許多來自 <END>\n",
      "<START> 護兩千三百萬人民自由民主的生活方式，捍衛中華民國的永續發展，維持台海和平跟區域穩 <END>\n",
      "<START> 高度韌性，讓越來越多理念相近國家，表達對中華民國台灣的支持。\n",
      "\n",
      "尤其是美國，最近 <END>\n",
      "<START> 是我們的軍事戰略。它的核心價值，就在提升中華民國國軍的戰力。我曾經說過，只要蔡英 <END>\n",
      "<START> 長。我們精實的部隊和戰備，絕對有能力捍衛中華民國台灣的主權！\n",
      "\n",
      "在此外，我們也全 <END>\n",
      "<START> 照。最後，我要祝大家身體健康，萬事如意，中華民國生日快樂。謝謝，謝謝大家！\n",
      "\n",
      "\n",
      " <END>\n"
     ]
    }
   ],
   "source": [
    "import re\n",
    "for pos in re.finditer('中華民國', speech):\n",
    "    s = pos.start()\n",
    "    print('<START>', speech[s - 20: s + 20], '<END>')"
   ]
  },
  {
   "cell_type": "markdown",
   "metadata": {},
   "source": [
    "## List"
   ]
  },
  {
   "cell_type": "code",
   "execution_count": 97,
   "metadata": {},
   "outputs": [
    {
     "data": {
      "text/plain": [
       "[3, 4, 5, 'asap']"
      ]
     },
     "execution_count": 97,
     "metadata": {},
     "output_type": "execute_result"
    }
   ],
   "source": [
    "a = [3,4,5, 'asap']\n",
    "a"
   ]
  },
  {
   "cell_type": "code",
   "execution_count": 98,
   "metadata": {},
   "outputs": [
    {
     "data": {
      "text/plain": [
       "['w', 'o', 'r', 'd']"
      ]
     },
     "execution_count": 98,
     "metadata": {},
     "output_type": "execute_result"
    }
   ],
   "source": [
    "list('word')"
   ]
  },
  {
   "cell_type": "code",
   "execution_count": 99,
   "metadata": {},
   "outputs": [
    {
     "data": {
      "text/plain": [
       "[['list'], ['of', 'list']]"
      ]
     },
     "execution_count": 99,
     "metadata": {},
     "output_type": "execute_result"
    }
   ],
   "source": [
    "[['list'],['of', 'list']]"
   ]
  },
  {
   "cell_type": "code",
   "execution_count": 100,
   "metadata": {},
   "outputs": [
    {
     "data": {
      "text/plain": [
       "['a', 1]"
      ]
     },
     "execution_count": 100,
     "metadata": {},
     "output_type": "execute_result"
    }
   ],
   "source": [
    "list(('a', 1))"
   ]
  },
  {
   "cell_type": "code",
   "execution_count": 102,
   "metadata": {},
   "outputs": [
    {
     "data": {
      "text/plain": [
       "'hello'"
      ]
     },
     "execution_count": 102,
     "metadata": {},
     "output_type": "execute_result"
    }
   ],
   "source": [
    "a = ['h', 3]\n",
    "a[0] + 'ello'"
   ]
  },
  {
   "cell_type": "code",
   "execution_count": 103,
   "metadata": {},
   "outputs": [
    {
     "data": {
      "text/plain": [
       "15"
      ]
     },
     "execution_count": 103,
     "metadata": {},
     "output_type": "execute_result"
    }
   ],
   "source": [
    "a[1] * 5"
   ]
  },
  {
   "cell_type": "code",
   "execution_count": 104,
   "metadata": {},
   "outputs": [],
   "source": [
    "a = [5,6,7,'s']"
   ]
  },
  {
   "cell_type": "code",
   "execution_count": 105,
   "metadata": {},
   "outputs": [
    {
     "data": {
      "text/plain": [
       "5"
      ]
     },
     "execution_count": 105,
     "metadata": {},
     "output_type": "execute_result"
    }
   ],
   "source": [
    "a[0]"
   ]
  },
  {
   "cell_type": "code",
   "execution_count": 106,
   "metadata": {},
   "outputs": [
    {
     "data": {
      "text/plain": [
       "[7, 's']"
      ]
     },
     "execution_count": 106,
     "metadata": {},
     "output_type": "execute_result"
    }
   ],
   "source": [
    "a[2:4]"
   ]
  },
  {
   "cell_type": "code",
   "execution_count": 107,
   "metadata": {},
   "outputs": [
    {
     "data": {
      "text/plain": [
       "[7, 's']"
      ]
     },
     "execution_count": 107,
     "metadata": {},
     "output_type": "execute_result"
    }
   ],
   "source": [
    "a[2:]"
   ]
  },
  {
   "cell_type": "code",
   "execution_count": 108,
   "metadata": {},
   "outputs": [
    {
     "data": {
      "text/plain": [
       "[7, 's']"
      ]
     },
     "execution_count": 108,
     "metadata": {},
     "output_type": "execute_result"
    }
   ],
   "source": [
    "a[2:100]"
   ]
  },
  {
   "cell_type": "code",
   "execution_count": 109,
   "metadata": {},
   "outputs": [
    {
     "data": {
      "text/plain": [
       "'s'"
      ]
     },
     "execution_count": 109,
     "metadata": {},
     "output_type": "execute_result"
    }
   ],
   "source": [
    "a[-1]"
   ]
  },
  {
   "cell_type": "code",
   "execution_count": 110,
   "metadata": {},
   "outputs": [
    {
     "data": {
      "text/plain": [
       "7"
      ]
     },
     "execution_count": 110,
     "metadata": {},
     "output_type": "execute_result"
    }
   ],
   "source": [
    "a[-2]"
   ]
  },
  {
   "cell_type": "code",
   "execution_count": 111,
   "metadata": {},
   "outputs": [
    {
     "data": {
      "text/plain": [
       "[5, 6, 7, 's']"
      ]
     },
     "execution_count": 111,
     "metadata": {},
     "output_type": "execute_result"
    }
   ],
   "source": [
    "a[:]"
   ]
  },
  {
   "cell_type": "code",
   "execution_count": 112,
   "metadata": {},
   "outputs": [
    {
     "data": {
      "text/plain": [
       "[7, 's']"
      ]
     },
     "execution_count": 112,
     "metadata": {},
     "output_type": "execute_result"
    }
   ],
   "source": [
    "a[2:4]"
   ]
  },
  {
   "cell_type": "code",
   "execution_count": 113,
   "metadata": {},
   "outputs": [
    {
     "data": {
      "text/plain": [
       "[5, 7]"
      ]
     },
     "execution_count": 113,
     "metadata": {},
     "output_type": "execute_result"
    }
   ],
   "source": [
    "a[::2]"
   ]
  },
  {
   "cell_type": "code",
   "execution_count": 114,
   "metadata": {},
   "outputs": [
    {
     "data": {
      "text/plain": [
       "['s', 7, 6, 5]"
      ]
     },
     "execution_count": 114,
     "metadata": {},
     "output_type": "execute_result"
    }
   ],
   "source": [
    "a[::-1]"
   ]
  },
  {
   "cell_type": "code",
   "execution_count": 115,
   "metadata": {},
   "outputs": [
    {
     "data": {
      "text/plain": [
       "4"
      ]
     },
     "execution_count": 115,
     "metadata": {},
     "output_type": "execute_result"
    }
   ],
   "source": [
    "len(a)"
   ]
  },
  {
   "cell_type": "code",
   "execution_count": 116,
   "metadata": {},
   "outputs": [
    {
     "data": {
      "text/plain": [
       "11"
      ]
     },
     "execution_count": 116,
     "metadata": {},
     "output_type": "execute_result"
    }
   ],
   "source": [
    "s = 'hello world'\n",
    "len(s)"
   ]
  },
  {
   "cell_type": "code",
   "execution_count": 117,
   "metadata": {},
   "outputs": [],
   "source": [
    "a = [5,6,7,8]"
   ]
  },
  {
   "cell_type": "code",
   "execution_count": 118,
   "metadata": {},
   "outputs": [
    {
     "data": {
      "text/plain": [
       "8"
      ]
     },
     "execution_count": 118,
     "metadata": {},
     "output_type": "execute_result"
    }
   ],
   "source": [
    "a.pop()"
   ]
  },
  {
   "cell_type": "code",
   "execution_count": 119,
   "metadata": {},
   "outputs": [
    {
     "data": {
      "text/plain": [
       "[5, 6, 7]"
      ]
     },
     "execution_count": 119,
     "metadata": {},
     "output_type": "execute_result"
    }
   ],
   "source": [
    "a"
   ]
  },
  {
   "cell_type": "code",
   "execution_count": 120,
   "metadata": {},
   "outputs": [],
   "source": [
    "a.append(2)"
   ]
  },
  {
   "cell_type": "code",
   "execution_count": 121,
   "metadata": {},
   "outputs": [
    {
     "data": {
      "text/plain": [
       "[5, 6, 7, 2]"
      ]
     },
     "execution_count": 121,
     "metadata": {},
     "output_type": "execute_result"
    }
   ],
   "source": [
    "a"
   ]
  },
  {
   "cell_type": "code",
   "execution_count": 122,
   "metadata": {},
   "outputs": [],
   "source": [
    "a.sort()"
   ]
  },
  {
   "cell_type": "code",
   "execution_count": 123,
   "metadata": {},
   "outputs": [
    {
     "data": {
      "text/plain": [
       "[2, 5, 6, 7]"
      ]
     },
     "execution_count": 123,
     "metadata": {},
     "output_type": "execute_result"
    }
   ],
   "source": [
    "a"
   ]
  },
  {
   "cell_type": "code",
   "execution_count": 124,
   "metadata": {},
   "outputs": [],
   "source": [
    "a.reverse()"
   ]
  },
  {
   "cell_type": "code",
   "execution_count": 125,
   "metadata": {},
   "outputs": [
    {
     "data": {
      "text/plain": [
       "[7, 6, 5, 2]"
      ]
     },
     "execution_count": 125,
     "metadata": {},
     "output_type": "execute_result"
    }
   ],
   "source": [
    "a"
   ]
  },
  {
   "cell_type": "code",
   "execution_count": 126,
   "metadata": {},
   "outputs": [
    {
     "data": {
      "text/plain": [
       "[1, 2, 3, [2, 3, 4]]"
      ]
     },
     "execution_count": 126,
     "metadata": {},
     "output_type": "execute_result"
    }
   ],
   "source": [
    "a = [1,2,3]\n",
    "b = [2,3,4]\n",
    "a.append(b)\n",
    "a"
   ]
  },
  {
   "cell_type": "code",
   "execution_count": 128,
   "metadata": {},
   "outputs": [],
   "source": [
    "a = [1,2,3]\n",
    "b = [2,3,4]\n",
    "a.extend(b)"
   ]
  },
  {
   "cell_type": "code",
   "execution_count": 129,
   "metadata": {},
   "outputs": [
    {
     "data": {
      "text/plain": [
       "[1, 2, 3, 2, 3, 4]"
      ]
     },
     "execution_count": 129,
     "metadata": {},
     "output_type": "execute_result"
    }
   ],
   "source": [
    "a"
   ]
  },
  {
   "cell_type": "code",
   "execution_count": 130,
   "metadata": {},
   "outputs": [
    {
     "name": "stdout",
     "output_type": "stream",
     "text": [
      "['__add__', '__class__', '__contains__', '__delattr__', '__delitem__', '__dir__', '__doc__', '__eq__', '__format__', '__ge__', '__getattribute__', '__getitem__', '__gt__', '__hash__', '__iadd__', '__imul__', '__init__', '__init_subclass__', '__iter__', '__le__', '__len__', '__lt__', '__mul__', '__ne__', '__new__', '__reduce__', '__reduce_ex__', '__repr__', '__reversed__', '__rmul__', '__setattr__', '__setitem__', '__sizeof__', '__str__', '__subclasshook__', 'append', 'clear', 'copy', 'count', 'extend', 'index', 'insert', 'pop', 'remove', 'reverse', 'sort']\n"
     ]
    }
   ],
   "source": [
    "print(dir(a))"
   ]
  },
  {
   "cell_type": "code",
   "execution_count": 131,
   "metadata": {},
   "outputs": [],
   "source": [
    "?a.append"
   ]
  },
  {
   "cell_type": "code",
   "execution_count": 132,
   "metadata": {},
   "outputs": [
    {
     "data": {
      "text/plain": [
       "['a']"
      ]
     },
     "execution_count": 132,
     "metadata": {},
     "output_type": "execute_result"
    }
   ],
   "source": [
    "s = 'a'\n",
    "list(s)"
   ]
  },
  {
   "cell_type": "code",
   "execution_count": 133,
   "metadata": {},
   "outputs": [
    {
     "data": {
      "text/plain": [
       "['h', 'e', 'l', 'l', 'o', ' ', 'w', 'o', 'r', 'l', 'd']"
      ]
     },
     "execution_count": 133,
     "metadata": {},
     "output_type": "execute_result"
    }
   ],
   "source": [
    "s = 'hello world'\n",
    "list(s)"
   ]
  },
  {
   "cell_type": "code",
   "execution_count": 134,
   "metadata": {},
   "outputs": [
    {
     "data": {
      "text/plain": [
       "'hello world'"
      ]
     },
     "execution_count": 134,
     "metadata": {},
     "output_type": "execute_result"
    }
   ],
   "source": [
    "b  = list(s)\n",
    "''.join(b)"
   ]
  },
  {
   "cell_type": "code",
   "execution_count": 135,
   "metadata": {},
   "outputs": [
    {
     "data": {
      "text/plain": [
       "'h@e@l@l@o@ @w@o@r@l@d'"
      ]
     },
     "execution_count": 135,
     "metadata": {},
     "output_type": "execute_result"
    }
   ],
   "source": [
    "'@'.join(b)"
   ]
  },
  {
   "cell_type": "code",
   "execution_count": 136,
   "metadata": {},
   "outputs": [
    {
     "data": {
      "text/plain": [
       "False"
      ]
     },
     "execution_count": 136,
     "metadata": {},
     "output_type": "execute_result"
    }
   ],
   "source": [
    "'a' in b"
   ]
  },
  {
   "cell_type": "code",
   "execution_count": 137,
   "metadata": {},
   "outputs": [
    {
     "data": {
      "text/plain": [
       "True"
      ]
     },
     "execution_count": 137,
     "metadata": {},
     "output_type": "execute_result"
    }
   ],
   "source": [
    "'h' in b"
   ]
  },
  {
   "cell_type": "code",
   "execution_count": 138,
   "metadata": {},
   "outputs": [
    {
     "data": {
      "text/plain": [
       "False"
      ]
     },
     "execution_count": 138,
     "metadata": {},
     "output_type": "execute_result"
    }
   ],
   "source": [
    "c = 'a' in b\n",
    "c"
   ]
  },
  {
   "cell_type": "code",
   "execution_count": 139,
   "metadata": {},
   "outputs": [
    {
     "data": {
      "text/plain": [
       "10"
      ]
     },
     "execution_count": 139,
     "metadata": {},
     "output_type": "execute_result"
    }
   ],
   "source": [
    "a = 5 \n",
    "b = a\n",
    "a + b"
   ]
  },
  {
   "cell_type": "code",
   "execution_count": 140,
   "metadata": {},
   "outputs": [
    {
     "data": {
      "text/plain": [
       "8"
      ]
     },
     "execution_count": 140,
     "metadata": {},
     "output_type": "execute_result"
    }
   ],
   "source": [
    "b = 3\n",
    "a + b"
   ]
  },
  {
   "cell_type": "code",
   "execution_count": 141,
   "metadata": {},
   "outputs": [],
   "source": [
    "a = [1,2,3]\n",
    "b = a"
   ]
  },
  {
   "cell_type": "code",
   "execution_count": 142,
   "metadata": {},
   "outputs": [
    {
     "data": {
      "text/plain": [
       "([1, 2, 3], [1, 2, 3])"
      ]
     },
     "execution_count": 142,
     "metadata": {},
     "output_type": "execute_result"
    }
   ],
   "source": [
    "a, b"
   ]
  },
  {
   "cell_type": "code",
   "execution_count": 143,
   "metadata": {},
   "outputs": [],
   "source": [
    "a[1] = 2000"
   ]
  },
  {
   "cell_type": "code",
   "execution_count": 144,
   "metadata": {},
   "outputs": [
    {
     "data": {
      "text/plain": [
       "([1, 2000, 3], [1, 2000, 3])"
      ]
     },
     "execution_count": 144,
     "metadata": {},
     "output_type": "execute_result"
    }
   ],
   "source": [
    "a,b"
   ]
  },
  {
   "cell_type": "code",
   "execution_count": 145,
   "metadata": {},
   "outputs": [
    {
     "data": {
      "text/plain": [
       "4536391104"
      ]
     },
     "execution_count": 145,
     "metadata": {},
     "output_type": "execute_result"
    }
   ],
   "source": [
    "a = 5\n",
    "id(a)"
   ]
  },
  {
   "cell_type": "code",
   "execution_count": 146,
   "metadata": {},
   "outputs": [
    {
     "data": {
      "text/plain": [
       "4536391040"
      ]
     },
     "execution_count": 146,
     "metadata": {},
     "output_type": "execute_result"
    }
   ],
   "source": [
    "b = 3\n",
    "id(b)"
   ]
  },
  {
   "cell_type": "code",
   "execution_count": 147,
   "metadata": {},
   "outputs": [
    {
     "data": {
      "text/plain": [
       "4536391104"
      ]
     },
     "execution_count": 147,
     "metadata": {},
     "output_type": "execute_result"
    }
   ],
   "source": [
    "b = 5\n",
    "id(b)"
   ]
  },
  {
   "cell_type": "code",
   "execution_count": 148,
   "metadata": {},
   "outputs": [
    {
     "data": {
      "text/plain": [
       "4536391104"
      ]
     },
     "execution_count": 148,
     "metadata": {},
     "output_type": "execute_result"
    }
   ],
   "source": [
    "id(5)"
   ]
  },
  {
   "cell_type": "code",
   "execution_count": 149,
   "metadata": {},
   "outputs": [
    {
     "data": {
      "text/plain": [
       "(4576386504, 4576386504)"
      ]
     },
     "execution_count": 149,
     "metadata": {},
     "output_type": "execute_result"
    }
   ],
   "source": [
    "a = [1,2,3]\n",
    "b = a\n",
    "id(a), id(b)"
   ]
  },
  {
   "cell_type": "code",
   "execution_count": 150,
   "metadata": {},
   "outputs": [
    {
     "data": {
      "text/plain": [
       "4576386504"
      ]
     },
     "execution_count": 150,
     "metadata": {},
     "output_type": "execute_result"
    }
   ],
   "source": [
    "a[1] = 2000\n",
    "id(a)"
   ]
  },
  {
   "cell_type": "code",
   "execution_count": 151,
   "metadata": {},
   "outputs": [
    {
     "data": {
      "text/plain": [
       "([1, 2, 3], [1, 2, 3])"
      ]
     },
     "execution_count": 151,
     "metadata": {},
     "output_type": "execute_result"
    }
   ],
   "source": [
    "a= [1,2,3]\n",
    "aa = a.copy()\n",
    "a,aa"
   ]
  },
  {
   "cell_type": "code",
   "execution_count": 153,
   "metadata": {},
   "outputs": [
    {
     "data": {
      "text/plain": [
       "(4576627080, 4576626824)"
      ]
     },
     "execution_count": 153,
     "metadata": {},
     "output_type": "execute_result"
    }
   ],
   "source": [
    "id(a), id(aa)"
   ]
  },
  {
   "cell_type": "code",
   "execution_count": 152,
   "metadata": {},
   "outputs": [
    {
     "data": {
      "text/plain": [
       "([1, 2000, 3], [1, 2, 3])"
      ]
     },
     "execution_count": 152,
     "metadata": {},
     "output_type": "execute_result"
    }
   ],
   "source": [
    "a[1] = 2000\n",
    "a, aa"
   ]
  },
  {
   "cell_type": "markdown",
   "metadata": {},
   "source": [
    "## Dictionary"
   ]
  },
  {
   "cell_type": "code",
   "execution_count": 154,
   "metadata": {},
   "outputs": [],
   "source": [
    "dic = {'a':100, 'b': \"yes\", 'c':0.98}"
   ]
  },
  {
   "cell_type": "code",
   "execution_count": 155,
   "metadata": {},
   "outputs": [
    {
     "data": {
      "text/plain": [
       "dict_keys(['a', 'b', 'c'])"
      ]
     },
     "execution_count": 155,
     "metadata": {},
     "output_type": "execute_result"
    }
   ],
   "source": [
    "dic.keys()"
   ]
  },
  {
   "cell_type": "code",
   "execution_count": 157,
   "metadata": {},
   "outputs": [
    {
     "data": {
      "text/plain": [
       "dict_values([100, 'yes', 0.98])"
      ]
     },
     "execution_count": 157,
     "metadata": {},
     "output_type": "execute_result"
    }
   ],
   "source": [
    "dic.values()"
   ]
  },
  {
   "cell_type": "code",
   "execution_count": 158,
   "metadata": {},
   "outputs": [
    {
     "data": {
      "text/plain": [
       "100"
      ]
     },
     "execution_count": 158,
     "metadata": {},
     "output_type": "execute_result"
    }
   ],
   "source": [
    "dic['a']"
   ]
  },
  {
   "cell_type": "code",
   "execution_count": 159,
   "metadata": {},
   "outputs": [
    {
     "data": {
      "text/plain": [
       "{'a': 1000, 'b': 'yes', 'c': 0.98}"
      ]
     },
     "execution_count": 159,
     "metadata": {},
     "output_type": "execute_result"
    }
   ],
   "source": [
    "dic['a'] = 1000\n",
    "dic"
   ]
  },
  {
   "cell_type": "code",
   "execution_count": 160,
   "metadata": {},
   "outputs": [
    {
     "ename": "KeyError",
     "evalue": "'d'",
     "output_type": "error",
     "traceback": [
      "\u001b[0;31m---------------------------------------------------------------------------\u001b[0m",
      "\u001b[0;31mKeyError\u001b[0m                                  Traceback (most recent call last)",
      "\u001b[0;32m<ipython-input-160-2b1b63ca196d>\u001b[0m in \u001b[0;36m<module>\u001b[0;34m()\u001b[0m\n\u001b[0;32m----> 1\u001b[0;31m \u001b[0mdic\u001b[0m\u001b[0;34m[\u001b[0m\u001b[0;34m'd'\u001b[0m\u001b[0;34m]\u001b[0m\u001b[0;34m\u001b[0m\u001b[0m\n\u001b[0m",
      "\u001b[0;31mKeyError\u001b[0m: 'd'"
     ]
    }
   ],
   "source": [
    "dic['d']"
   ]
  },
  {
   "cell_type": "code",
   "execution_count": 161,
   "metadata": {},
   "outputs": [],
   "source": [
    "dic['d'] = 'some value'"
   ]
  },
  {
   "cell_type": "code",
   "execution_count": 162,
   "metadata": {},
   "outputs": [
    {
     "data": {
      "text/plain": [
       "'some value'"
      ]
     },
     "execution_count": 162,
     "metadata": {},
     "output_type": "execute_result"
    }
   ],
   "source": [
    "dic['d']"
   ]
  },
  {
   "cell_type": "code",
   "execution_count": 163,
   "metadata": {},
   "outputs": [
    {
     "data": {
      "text/plain": [
       "'some value'"
      ]
     },
     "execution_count": 163,
     "metadata": {},
     "output_type": "execute_result"
    }
   ],
   "source": [
    "dic.get('d')"
   ]
  },
  {
   "cell_type": "code",
   "execution_count": 164,
   "metadata": {},
   "outputs": [
    {
     "ename": "KeyError",
     "evalue": "'e'",
     "output_type": "error",
     "traceback": [
      "\u001b[0;31m---------------------------------------------------------------------------\u001b[0m",
      "\u001b[0;31mKeyError\u001b[0m                                  Traceback (most recent call last)",
      "\u001b[0;32m<ipython-input-164-87d22c709971>\u001b[0m in \u001b[0;36m<module>\u001b[0;34m()\u001b[0m\n\u001b[0;32m----> 1\u001b[0;31m \u001b[0mdic\u001b[0m\u001b[0;34m[\u001b[0m\u001b[0;34m'e'\u001b[0m\u001b[0;34m]\u001b[0m\u001b[0;34m\u001b[0m\u001b[0m\n\u001b[0m",
      "\u001b[0;31mKeyError\u001b[0m: 'e'"
     ]
    }
   ],
   "source": [
    "dic['e']"
   ]
  },
  {
   "cell_type": "code",
   "execution_count": 165,
   "metadata": {},
   "outputs": [],
   "source": [
    "dic.get('e')"
   ]
  },
  {
   "cell_type": "code",
   "execution_count": 166,
   "metadata": {},
   "outputs": [
    {
     "name": "stdout",
     "output_type": "stream",
     "text": [
      "None\n"
     ]
    }
   ],
   "source": [
    "print(dic.get('e'))"
   ]
  },
  {
   "cell_type": "code",
   "execution_count": 167,
   "metadata": {},
   "outputs": [
    {
     "data": {
      "text/plain": [
       "'DEFAULT'"
      ]
     },
     "execution_count": 167,
     "metadata": {},
     "output_type": "execute_result"
    }
   ],
   "source": [
    "dic.get('e', 'DEFAULT')"
   ]
  },
  {
   "cell_type": "code",
   "execution_count": 168,
   "metadata": {},
   "outputs": [
    {
     "data": {
      "text/plain": [
       "'some value'"
      ]
     },
     "execution_count": 168,
     "metadata": {},
     "output_type": "execute_result"
    }
   ],
   "source": [
    "dic.get('d', 'DEFAULT')"
   ]
  },
  {
   "cell_type": "code",
   "execution_count": 169,
   "metadata": {},
   "outputs": [],
   "source": [
    "dic.update({'d':'NEW VALUE', 'e':'NEW NEW'})"
   ]
  },
  {
   "cell_type": "code",
   "execution_count": 170,
   "metadata": {},
   "outputs": [
    {
     "data": {
      "text/plain": [
       "{'a': 1000, 'b': 'yes', 'c': 0.98, 'd': 'NEW VALUE', 'e': 'NEW NEW'}"
      ]
     },
     "execution_count": 170,
     "metadata": {},
     "output_type": "execute_result"
    }
   ],
   "source": [
    "dic"
   ]
  },
  {
   "cell_type": "code",
   "execution_count": 172,
   "metadata": {},
   "outputs": [
    {
     "data": {
      "text/plain": [
       "'我現在還不聰明，以後變聰明以後再回答你'"
      ]
     },
     "execution_count": 172,
     "metadata": {},
     "output_type": "execute_result"
    }
   ],
   "source": [
    "qa = {\n",
    "  '早安': '你也早安',\n",
    "  '芳齡': '不告訴你',\n",
    "  '掰掰': '再見'\n",
    "}\n",
    "qa.get('大大', '我現在還不聰明，以後變聰明以後再回答你')"
   ]
  },
  {
   "cell_type": "code",
   "execution_count": 174,
   "metadata": {},
   "outputs": [
    {
     "name": "stdout",
     "output_type": "stream",
     "text": [
      "請問你要問什麼:大大\n"
     ]
    },
    {
     "data": {
      "text/plain": [
       "'我現在還不聰明，以後變聰明以後再回答你'"
      ]
     },
     "execution_count": 174,
     "metadata": {},
     "output_type": "execute_result"
    }
   ],
   "source": [
    "q = input('請問你要問什麼:')\n",
    "qa.get(q, '我現在還不聰明，以後變聰明以後再回答你')"
   ]
  },
  {
   "cell_type": "code",
   "execution_count": 182,
   "metadata": {},
   "outputs": [
    {
     "name": "stdout",
     "output_type": "stream",
     "text": [
      "請問你要問什麼:早安\n",
      "你也早安\n"
     ]
    }
   ],
   "source": [
    "q = input('請問你要問什麼:')\n",
    "\n",
    "for q_key in qa.keys():\n",
    "    #print(q_key)\n",
    "    if q_key in q:\n",
    "        print(qa.get(q_key))\n",
    "        break\n",
    "else:\n",
    "    print('我現在還不聰明，以後變聰明以後再回答你')"
   ]
  },
  {
   "cell_type": "markdown",
   "metadata": {},
   "source": [
    "## Set"
   ]
  },
  {
   "cell_type": "code",
   "execution_count": 184,
   "metadata": {},
   "outputs": [
    {
     "data": {
      "text/plain": [
       "{1, 2, 3}"
      ]
     },
     "execution_count": 184,
     "metadata": {},
     "output_type": "execute_result"
    }
   ],
   "source": [
    "x = set()\n",
    "x = {}\n",
    "x = {1,2,3}\n",
    "x"
   ]
  },
  {
   "cell_type": "code",
   "execution_count": 186,
   "metadata": {},
   "outputs": [
    {
     "data": {
      "text/plain": [
       "{'CUSTID101', 'CUSTID201'}"
      ]
     },
     "execution_count": 186,
     "metadata": {},
     "output_type": "execute_result"
    }
   ],
   "source": [
    "x = ['CUSTID001','CUSTID101','CUSTID201','CUSTID301']\n",
    "y = ['CUSTID102','CUSTID101','CUSTID201']\n",
    "\n",
    "#交集\n",
    "set(x) & set(y)"
   ]
  },
  {
   "cell_type": "code",
   "execution_count": 187,
   "metadata": {},
   "outputs": [
    {
     "data": {
      "text/plain": [
       "{'CUSTID001', 'CUSTID101', 'CUSTID102', 'CUSTID201', 'CUSTID301'}"
      ]
     },
     "execution_count": 187,
     "metadata": {},
     "output_type": "execute_result"
    }
   ],
   "source": [
    "# 聯集\n",
    "set(x) | set(y)"
   ]
  },
  {
   "cell_type": "code",
   "execution_count": 188,
   "metadata": {},
   "outputs": [
    {
     "data": {
      "text/plain": [
       "{'CUSTID102'}"
      ]
     },
     "execution_count": 188,
     "metadata": {},
     "output_type": "execute_result"
    }
   ],
   "source": [
    "# 差集\n",
    "set(y) - set(x)"
   ]
  },
  {
   "cell_type": "code",
   "execution_count": 189,
   "metadata": {},
   "outputs": [
    {
     "data": {
      "text/plain": [
       "{'CUSTID001', 'CUSTID301'}"
      ]
     },
     "execution_count": 189,
     "metadata": {},
     "output_type": "execute_result"
    }
   ],
   "source": [
    "set(x) - set(y)"
   ]
  },
  {
   "cell_type": "code",
   "execution_count": 190,
   "metadata": {},
   "outputs": [
    {
     "data": {
      "text/plain": [
       "{1, 2, 3}"
      ]
     },
     "execution_count": 190,
     "metadata": {},
     "output_type": "execute_result"
    }
   ],
   "source": [
    "a = [1,1,2,2,3,3,3,2,1]\n",
    "set(a)"
   ]
  },
  {
   "cell_type": "markdown",
   "metadata": {},
   "source": [
    "## Tuple"
   ]
  },
  {
   "cell_type": "code",
   "execution_count": 191,
   "metadata": {},
   "outputs": [
    {
     "data": {
      "text/plain": [
       "(1, 2, 3)"
      ]
     },
     "execution_count": 191,
     "metadata": {},
     "output_type": "execute_result"
    }
   ],
   "source": [
    "tuple1 = (1,2,3)\n",
    "tuple1"
   ]
  },
  {
   "cell_type": "code",
   "execution_count": 192,
   "metadata": {},
   "outputs": [
    {
     "data": {
      "text/plain": [
       "(1, 2, 3)"
      ]
     },
     "execution_count": 192,
     "metadata": {},
     "output_type": "execute_result"
    }
   ],
   "source": [
    "tuple2 = 1,2,3\n",
    "tuple2"
   ]
  },
  {
   "cell_type": "code",
   "execution_count": 193,
   "metadata": {},
   "outputs": [
    {
     "data": {
      "text/plain": [
       "(1, 2, 3)"
      ]
     },
     "execution_count": 193,
     "metadata": {},
     "output_type": "execute_result"
    }
   ],
   "source": [
    "tuple3 = tuple([1,2,3])\n",
    "tuple3"
   ]
  },
  {
   "cell_type": "code",
   "execution_count": 194,
   "metadata": {},
   "outputs": [
    {
     "name": "stdout",
     "output_type": "stream",
     "text": [
      "['__add__', '__class__', '__contains__', '__delattr__', '__dir__', '__doc__', '__eq__', '__format__', '__ge__', '__getattribute__', '__getitem__', '__getnewargs__', '__gt__', '__hash__', '__init__', '__init_subclass__', '__iter__', '__le__', '__len__', '__lt__', '__mul__', '__ne__', '__new__', '__reduce__', '__reduce_ex__', '__repr__', '__rmul__', '__setattr__', '__sizeof__', '__str__', '__subclasshook__', 'count', 'index']\n"
     ]
    }
   ],
   "source": [
    "print(dir(tuple))"
   ]
  },
  {
   "cell_type": "code",
   "execution_count": 195,
   "metadata": {},
   "outputs": [
    {
     "name": "stdout",
     "output_type": "stream",
     "text": [
      "['__add__', '__class__', '__contains__', '__delattr__', '__delitem__', '__dir__', '__doc__', '__eq__', '__format__', '__ge__', '__getattribute__', '__getitem__', '__gt__', '__hash__', '__iadd__', '__imul__', '__init__', '__init_subclass__', '__iter__', '__le__', '__len__', '__lt__', '__mul__', '__ne__', '__new__', '__reduce__', '__reduce_ex__', '__repr__', '__reversed__', '__rmul__', '__setattr__', '__setitem__', '__sizeof__', '__str__', '__subclasshook__', 'append', 'clear', 'copy', 'count', 'extend', 'index', 'insert', 'pop', 'remove', 'reverse', 'sort']\n"
     ]
    }
   ],
   "source": [
    "print(dir(list))"
   ]
  },
  {
   "cell_type": "code",
   "execution_count": 197,
   "metadata": {},
   "outputs": [
    {
     "data": {
      "text/plain": [
       "{'__delitem__',\n",
       " '__iadd__',\n",
       " '__imul__',\n",
       " '__reversed__',\n",
       " '__setitem__',\n",
       " 'append',\n",
       " 'clear',\n",
       " 'copy',\n",
       " 'extend',\n",
       " 'insert',\n",
       " 'pop',\n",
       " 'remove',\n",
       " 'reverse',\n",
       " 'sort'}"
      ]
     },
     "execution_count": 197,
     "metadata": {},
     "output_type": "execute_result"
    }
   ],
   "source": [
    "set(dir(list)) - set(dir(tuple))"
   ]
  },
  {
   "cell_type": "code",
   "execution_count": 198,
   "metadata": {},
   "outputs": [
    {
     "data": {
      "text/plain": [
       "{'__add__',\n",
       " '__class__',\n",
       " '__contains__',\n",
       " '__delattr__',\n",
       " '__dir__',\n",
       " '__doc__',\n",
       " '__eq__',\n",
       " '__format__',\n",
       " '__ge__',\n",
       " '__getattribute__',\n",
       " '__getitem__',\n",
       " '__gt__',\n",
       " '__hash__',\n",
       " '__init__',\n",
       " '__init_subclass__',\n",
       " '__iter__',\n",
       " '__le__',\n",
       " '__len__',\n",
       " '__lt__',\n",
       " '__mul__',\n",
       " '__ne__',\n",
       " '__new__',\n",
       " '__reduce__',\n",
       " '__reduce_ex__',\n",
       " '__repr__',\n",
       " '__rmul__',\n",
       " '__setattr__',\n",
       " '__sizeof__',\n",
       " '__str__',\n",
       " '__subclasshook__',\n",
       " 'count',\n",
       " 'index'}"
      ]
     },
     "execution_count": 198,
     "metadata": {},
     "output_type": "execute_result"
    }
   ],
   "source": [
    "set(dir(list)) & set(dir(tuple))"
   ]
  },
  {
   "cell_type": "code",
   "execution_count": 199,
   "metadata": {},
   "outputs": [],
   "source": [
    "t = ('one',2) "
   ]
  },
  {
   "cell_type": "code",
   "execution_count": 200,
   "metadata": {},
   "outputs": [
    {
     "data": {
      "text/plain": [
       "'one'"
      ]
     },
     "execution_count": 200,
     "metadata": {},
     "output_type": "execute_result"
    }
   ],
   "source": [
    "t[0]"
   ]
  },
  {
   "cell_type": "code",
   "execution_count": 201,
   "metadata": {},
   "outputs": [
    {
     "data": {
      "text/plain": [
       "2"
      ]
     },
     "execution_count": 201,
     "metadata": {},
     "output_type": "execute_result"
    }
   ],
   "source": [
    "t[-1]"
   ]
  },
  {
   "cell_type": "code",
   "execution_count": 202,
   "metadata": {},
   "outputs": [
    {
     "ename": "AttributeError",
     "evalue": "'tuple' object has no attribute 'append'",
     "output_type": "error",
     "traceback": [
      "\u001b[0;31m---------------------------------------------------------------------------\u001b[0m",
      "\u001b[0;31mAttributeError\u001b[0m                            Traceback (most recent call last)",
      "\u001b[0;32m<ipython-input-202-a645ca36d01d>\u001b[0m in \u001b[0;36m<module>\u001b[0;34m()\u001b[0m\n\u001b[0;32m----> 1\u001b[0;31m \u001b[0mt\u001b[0m\u001b[0;34m.\u001b[0m\u001b[0mappend\u001b[0m\u001b[0;34m(\u001b[0m\u001b[0;36m3\u001b[0m\u001b[0;34m)\u001b[0m\u001b[0;34m\u001b[0m\u001b[0m\n\u001b[0m",
      "\u001b[0;31mAttributeError\u001b[0m: 'tuple' object has no attribute 'append'"
     ]
    }
   ],
   "source": [
    "t.append(3)"
   ]
  },
  {
   "cell_type": "code",
   "execution_count": 203,
   "metadata": {},
   "outputs": [],
   "source": [
    "a = 1,2"
   ]
  },
  {
   "cell_type": "code",
   "execution_count": 204,
   "metadata": {},
   "outputs": [
    {
     "data": {
      "text/plain": [
       "(1, 2)"
      ]
     },
     "execution_count": 204,
     "metadata": {},
     "output_type": "execute_result"
    }
   ],
   "source": [
    "a"
   ]
  },
  {
   "cell_type": "code",
   "execution_count": 205,
   "metadata": {},
   "outputs": [],
   "source": [
    "a = 1 \n",
    "b = 2"
   ]
  },
  {
   "cell_type": "code",
   "execution_count": 206,
   "metadata": {},
   "outputs": [],
   "source": [
    "a,b = 1,2"
   ]
  },
  {
   "cell_type": "markdown",
   "metadata": {},
   "source": [
    "## 迴圈與控制流程"
   ]
  },
  {
   "cell_type": "code",
   "execution_count": 216,
   "metadata": {},
   "outputs": [
    {
     "name": "stdout",
     "output_type": "stream",
     "text": [
      "a is greater than 3\n",
      "THE END\n"
     ]
    }
   ],
   "source": [
    "a = 5\n",
    "if a > 3:\n",
    "    print('a is greater than 3')\n",
    "\n",
    "print('THE END')"
   ]
  },
  {
   "cell_type": "code",
   "execution_count": 219,
   "metadata": {},
   "outputs": [
    {
     "data": {
      "text/plain": [
       "[1, 2, 3, 4, 5, 6, 7, 8, 9, 10]"
      ]
     },
     "execution_count": 219,
     "metadata": {},
     "output_type": "execute_result"
    }
   ],
   "source": [
    "a = [1,2,3,4,5,6,7,8,9,10]\n",
    "\n",
    "list(range(1,11))"
   ]
  },
  {
   "cell_type": "code",
   "execution_count": 220,
   "metadata": {},
   "outputs": [
    {
     "name": "stdout",
     "output_type": "stream",
     "text": [
      "1\n",
      "2\n",
      "3\n",
      "4\n",
      "5\n",
      "6\n",
      "7\n",
      "8\n",
      "9\n",
      "10\n"
     ]
    }
   ],
   "source": [
    "for i in range(1,11):\n",
    "    print(i)"
   ]
  },
  {
   "cell_type": "code",
   "execution_count": 221,
   "metadata": {},
   "outputs": [
    {
     "name": "stdout",
     "output_type": "stream",
     "text": [
      "1\n",
      "2\n",
      "3\n",
      "4\n",
      "5\n",
      "6\n",
      "7\n",
      "8\n",
      "9\n",
      "10\n"
     ]
    }
   ],
   "source": [
    "for qoo in range(1,11):\n",
    "    print(qoo)"
   ]
  },
  {
   "cell_type": "code",
   "execution_count": 222,
   "metadata": {},
   "outputs": [
    {
     "name": "stdout",
     "output_type": "stream",
     "text": [
      "keep going\n",
      "keep going\n",
      "keep going\n",
      "keep going\n",
      "keep going\n",
      "keep going\n",
      "keep going\n",
      "one more step\n",
      "you got me\n"
     ]
    }
   ],
   "source": [
    "for i in range(1,11):\n",
    "    if  i == 9:\n",
    "        print('you got me')\n",
    "        break # 跳脫迴圈\n",
    "    elif i ==8:\n",
    "        print('one more step')\n",
    "    else:\n",
    "        print('keep going')"
   ]
  },
  {
   "cell_type": "markdown",
   "metadata": {},
   "source": [
    "### 控制條件\n",
    "- break   : 跳脫迴圈\n",
    "- continue: 持續執行\n",
    "- pass    : 略過這一步"
   ]
  },
  {
   "cell_type": "code",
   "execution_count": 223,
   "metadata": {},
   "outputs": [
    {
     "name": "stdout",
     "output_type": "stream",
     "text": [
      "keep going\n",
      "keep going\n",
      "keep going\n",
      "keep going\n",
      "keep going\n",
      "keep going\n",
      "keep going\n",
      "you got me\n"
     ]
    }
   ],
   "source": [
    "for i in range(1,11):\n",
    "    if  i == 9:\n",
    "        print('you got me')\n",
    "        break # 跳脫迴圈\n",
    "    elif i ==8:\n",
    "        continue #回到迴圈，持續執行\n",
    "        print('one more step')\n",
    "    else:\n",
    "        print('keep going')"
   ]
  },
  {
   "cell_type": "code",
   "execution_count": 225,
   "metadata": {},
   "outputs": [
    {
     "name": "stdout",
     "output_type": "stream",
     "text": [
      "keep going\n",
      "keep going\n",
      "keep going\n",
      "keep going\n",
      "keep going\n",
      "keep going\n",
      "keep going\n",
      "one more step\n",
      "you got me\n"
     ]
    }
   ],
   "source": [
    "for i in range(1,11):\n",
    "    if  i == 9:\n",
    "        print('you got me')\n",
    "        break # 跳脫迴圈\n",
    "    elif i ==8:\n",
    "        pass #略過目前步驟\n",
    "        print('one more step')\n",
    "    else:\n",
    "        print('keep going')"
   ]
  },
  {
   "cell_type": "code",
   "execution_count": 226,
   "metadata": {},
   "outputs": [
    {
     "name": "stdout",
     "output_type": "stream",
     "text": [
      "1\n",
      "2\n",
      "3\n",
      "4\n",
      "5\n",
      "6\n",
      "7\n",
      "8\n",
      "9\n"
     ]
    }
   ],
   "source": [
    "for i in range(1,10):\n",
    "    print(i)"
   ]
  },
  {
   "cell_type": "code",
   "execution_count": 227,
   "metadata": {},
   "outputs": [
    {
     "name": "stdout",
     "output_type": "stream",
     "text": [
      "1\n",
      "2\n",
      "3\n",
      "4\n",
      "5\n",
      "6\n",
      "7\n",
      "8\n",
      "9\n",
      "THE END\n"
     ]
    }
   ],
   "source": [
    "for i in range(1,10):\n",
    "    print(i)\n",
    "else:\n",
    "    print('THE END')"
   ]
  },
  {
   "cell_type": "code",
   "execution_count": 228,
   "metadata": {},
   "outputs": [
    {
     "name": "stdout",
     "output_type": "stream",
     "text": [
      "1\n",
      "3\n",
      "5\n",
      "7\n",
      "9\n"
     ]
    }
   ],
   "source": [
    "for i in range(1,10,2):\n",
    "    print(i)"
   ]
  },
  {
   "cell_type": "code",
   "execution_count": 229,
   "metadata": {},
   "outputs": [
    {
     "name": "stdout",
     "output_type": "stream",
     "text": [
      "APPLE\n",
      "BANANA\n",
      "CAT\n",
      "DOG\n"
     ]
    }
   ],
   "source": [
    "a = ['APPLE', 'BANANA', 'CAT', 'DOG']\n",
    "for item in a:\n",
    "    print(item)"
   ]
  },
  {
   "cell_type": "code",
   "execution_count": 230,
   "metadata": {},
   "outputs": [
    {
     "name": "stdout",
     "output_type": "stream",
     "text": [
      "APPLE\n",
      "BANANA\n",
      "CAT\n",
      "DOG\n"
     ]
    }
   ],
   "source": [
    "t = ('APPLE', 'BANANA', 'CAT', 'DOG')\n",
    "for item in t:\n",
    "    print(item)"
   ]
  },
  {
   "cell_type": "code",
   "execution_count": 232,
   "metadata": {},
   "outputs": [
    {
     "name": "stdout",
     "output_type": "stream",
     "text": [
      "1 APPLE\n",
      "2 BANANA\n",
      "3 CAT\n",
      "4 DOG\n"
     ]
    }
   ],
   "source": [
    "dic = {1:'APPLE', 2:'BANANA', 3:'CAT', 4:'DOG'}\n",
    "for item in dic:\n",
    "    print(item, dic.get(item))"
   ]
  },
  {
   "cell_type": "code",
   "execution_count": 233,
   "metadata": {},
   "outputs": [
    {
     "name": "stdout",
     "output_type": "stream",
     "text": [
      "5050\n"
     ]
    }
   ],
   "source": [
    "i =0\n",
    "s = 0 \n",
    "while(i < 101):\n",
    "    s += i\n",
    "    i +=1\n",
    "print(s)\n"
   ]
  },
  {
   "cell_type": "code",
   "execution_count": 1,
   "metadata": {},
   "outputs": [
    {
     "name": "stdout",
     "output_type": "stream",
     "text": [
      "5050\n"
     ]
    }
   ],
   "source": [
    "i =0\n",
    "s = 0 \n",
    "while(i < 101):\n",
    "    s += i\n",
    "    i +=1\n",
    "print(s)\n"
   ]
  },
  {
   "cell_type": "code",
   "execution_count": 2,
   "metadata": {},
   "outputs": [
    {
     "data": {
      "text/plain": [
       "15"
      ]
     },
     "execution_count": 2,
     "metadata": {},
     "output_type": "execute_result"
    }
   ],
   "source": [
    "sum([1,2,3,4,5]) "
   ]
  },
  {
   "cell_type": "code",
   "execution_count": 3,
   "metadata": {},
   "outputs": [
    {
     "data": {
      "text/plain": [
       "5050"
      ]
     },
     "execution_count": 3,
     "metadata": {},
     "output_type": "execute_result"
    }
   ],
   "source": [
    "sum(range(1,101))"
   ]
  },
  {
   "cell_type": "code",
   "execution_count": 4,
   "metadata": {},
   "outputs": [
    {
     "name": "stdout",
     "output_type": "stream",
     "text": [
      "5050\n"
     ]
    }
   ],
   "source": [
    "i =0\n",
    "sum = 0 \n",
    "while(i < 101):\n",
    "    sum += i\n",
    "    i +=1\n",
    "print(sum)\n"
   ]
  },
  {
   "cell_type": "code",
   "execution_count": 5,
   "metadata": {},
   "outputs": [
    {
     "ename": "TypeError",
     "evalue": "'int' object is not callable",
     "output_type": "error",
     "traceback": [
      "\u001b[0;31m---------------------------------------------------------------------------\u001b[0m",
      "\u001b[0;31mTypeError\u001b[0m                                 Traceback (most recent call last)",
      "\u001b[0;32m<ipython-input-5-a14f9f20b77a>\u001b[0m in \u001b[0;36m<module>\u001b[0;34m()\u001b[0m\n\u001b[0;32m----> 1\u001b[0;31m \u001b[0msum\u001b[0m\u001b[0;34m(\u001b[0m\u001b[0mrange\u001b[0m\u001b[0;34m(\u001b[0m\u001b[0;36m1\u001b[0m\u001b[0;34m,\u001b[0m\u001b[0;36m101\u001b[0m\u001b[0;34m)\u001b[0m\u001b[0;34m)\u001b[0m\u001b[0;34m\u001b[0m\u001b[0m\n\u001b[0m",
      "\u001b[0;31mTypeError\u001b[0m: 'int' object is not callable"
     ]
    }
   ],
   "source": [
    "sum(range(1,101))"
   ]
  },
  {
   "cell_type": "code",
   "execution_count": 6,
   "metadata": {},
   "outputs": [],
   "source": [
    "del sum"
   ]
  },
  {
   "cell_type": "code",
   "execution_count": 7,
   "metadata": {},
   "outputs": [
    {
     "data": {
      "text/plain": [
       "5050"
      ]
     },
     "execution_count": 7,
     "metadata": {},
     "output_type": "execute_result"
    }
   ],
   "source": [
    "sum(range(1,101))"
   ]
  },
  {
   "cell_type": "code",
   "execution_count": 8,
   "metadata": {},
   "outputs": [
    {
     "data": {
      "text/plain": [
       "True"
      ]
     },
     "execution_count": 8,
     "metadata": {},
     "output_type": "execute_result"
    }
   ],
   "source": [
    "a = 5\n",
    "a > 3"
   ]
  },
  {
   "cell_type": "code",
   "execution_count": 9,
   "metadata": {},
   "outputs": [
    {
     "name": "stdout",
     "output_type": "stream",
     "text": [
      "ITS TRUE\n"
     ]
    }
   ],
   "source": [
    "if True:\n",
    "    print('ITS TRUE')"
   ]
  },
  {
   "cell_type": "code",
   "execution_count": 10,
   "metadata": {},
   "outputs": [
    {
     "name": "stdout",
     "output_type": "stream",
     "text": [
      "ITS TRUE\n"
     ]
    }
   ],
   "source": [
    "a = 3\n",
    "if a:\n",
    "    print('ITS TRUE')"
   ]
  },
  {
   "cell_type": "code",
   "execution_count": 11,
   "metadata": {},
   "outputs": [],
   "source": [
    "if False:\n",
    "    print('ITS TRUE')"
   ]
  },
  {
   "cell_type": "code",
   "execution_count": 12,
   "metadata": {},
   "outputs": [],
   "source": [
    "if None:\n",
    "    print('ITS TRUE')"
   ]
  },
  {
   "cell_type": "code",
   "execution_count": 13,
   "metadata": {},
   "outputs": [
    {
     "name": "stdout",
     "output_type": "stream",
     "text": [
      "ITS TRUE\n"
     ]
    }
   ],
   "source": [
    "a = [1,2,3]\n",
    "if a:\n",
    "    print('ITS TRUE')"
   ]
  },
  {
   "cell_type": "code",
   "execution_count": 14,
   "metadata": {},
   "outputs": [],
   "source": [
    "a = []\n",
    "if a:\n",
    "    print('ITS TRUE')"
   ]
  },
  {
   "cell_type": "markdown",
   "metadata": {},
   "source": [
    "## 檔案處理"
   ]
  },
  {
   "cell_type": "code",
   "execution_count": 15,
   "metadata": {},
   "outputs": [],
   "source": [
    "fid = open('test.txt', 'w')\n",
    "fid.write('hello\\nworld')\n",
    "fid.close()"
   ]
  },
  {
   "cell_type": "code",
   "execution_count": 16,
   "metadata": {},
   "outputs": [],
   "source": [
    "with open('test.txt', 'w') as f:\n",
    "    f.write('helllllloooooo\\n wooooooorld')"
   ]
  },
  {
   "cell_type": "code",
   "execution_count": 17,
   "metadata": {},
   "outputs": [
    {
     "name": "stdout",
     "output_type": "stream",
     "text": [
      "helllllloooooo\n",
      "\n",
      " wooooooorld\n"
     ]
    }
   ],
   "source": [
    "with open('test.txt', 'r') as f:\n",
    "    for line in f:\n",
    "        print(line)"
   ]
  },
  {
   "cell_type": "code",
   "execution_count": 18,
   "metadata": {},
   "outputs": [
    {
     "data": {
      "text/plain": [
       "'1              2             3'"
      ]
     },
     "execution_count": 18,
     "metadata": {},
     "output_type": "execute_result"
    }
   ],
   "source": [
    "a = '                 1              2             3     '\n",
    "a.strip()"
   ]
  },
  {
   "cell_type": "code",
   "execution_count": 19,
   "metadata": {},
   "outputs": [
    {
     "name": "stdout",
     "output_type": "stream",
     "text": [
      "helllllloooooo\n",
      "wooooooorld\n"
     ]
    }
   ],
   "source": [
    "with open('test.txt', 'r') as f:\n",
    "    for line in f:\n",
    "        print(line.strip())"
   ]
  },
  {
   "cell_type": "code",
   "execution_count": 21,
   "metadata": {},
   "outputs": [
    {
     "name": "stdout",
     "output_type": "stream",
     "text": [
      "=============\n",
      "helllllloooooo\n",
      " wooooooorld\n",
      "=============\n"
     ]
    }
   ],
   "source": [
    "with open('test.txt', 'r') as fid:\n",
    "    s = fid.read() \n",
    "print('=============')\n",
    "print(s)\n",
    "print('=============')\n"
   ]
  },
  {
   "cell_type": "code",
   "execution_count": 22,
   "metadata": {},
   "outputs": [
    {
     "data": {
      "text/plain": [
       "2"
      ]
     },
     "execution_count": 22,
     "metadata": {},
     "output_type": "execute_result"
    }
   ],
   "source": [
    "k = 0\n",
    "with open('test.txt', 'r') as fid:\n",
    "    for line in fid:\n",
    "        k = k + 1\n",
    "k"
   ]
  },
  {
   "cell_type": "code",
   "execution_count": 23,
   "metadata": {},
   "outputs": [
    {
     "data": {
      "text/plain": [
       "['helllllloooooo\\n', ' wooooooorld']"
      ]
     },
     "execution_count": 23,
     "metadata": {},
     "output_type": "execute_result"
    }
   ],
   "source": [
    "ary = []\n",
    "with open('test.txt', 'r') as fid:\n",
    "    for line in fid:\n",
    "        ary.append(line)\n",
    "ary"
   ]
  },
  {
   "cell_type": "code",
   "execution_count": 24,
   "metadata": {},
   "outputs": [
    {
     "data": {
      "text/plain": [
       "2"
      ]
     },
     "execution_count": 24,
     "metadata": {},
     "output_type": "execute_result"
    }
   ],
   "source": [
    "len(ary)"
   ]
  },
  {
   "cell_type": "code",
   "execution_count": 25,
   "metadata": {},
   "outputs": [
    {
     "data": {
      "text/plain": [
       "['helllllloooooo\\n', ' wooooooorld']"
      ]
     },
     "execution_count": 25,
     "metadata": {},
     "output_type": "execute_result"
    }
   ],
   "source": [
    "[line for line in open('test.txt')]"
   ]
  },
  {
   "cell_type": "code",
   "execution_count": 26,
   "metadata": {},
   "outputs": [
    {
     "data": {
      "text/plain": [
       "2"
      ]
     },
     "execution_count": 26,
     "metadata": {},
     "output_type": "execute_result"
    }
   ],
   "source": [
    "len([line for line in open('test.txt')])"
   ]
  },
  {
   "cell_type": "markdown",
   "metadata": {},
   "source": [
    "## 川普演說文詞頻統計\n",
    "- https://raw.githubusercontent.com/ywchiu/ctbc/master/data/trump.txt"
   ]
  },
  {
   "cell_type": "code",
   "execution_count": 31,
   "metadata": {},
   "outputs": [],
   "source": [
    "with open('data/trump.txt', 'r', encoding='utf-8') as f:\n",
    "    speech = f.read()"
   ]
  },
  {
   "cell_type": "code",
   "execution_count": 46,
   "metadata": {},
   "outputs": [],
   "source": [
    "dic = {}\n",
    "for word in speech.lower().split():\n",
    "    if word not in dic:\n",
    "        dic[word] = 1\n",
    "    else:\n",
    "        dic[word] = dic[word] + 1\n",
    "#dic"
   ]
  },
  {
   "cell_type": "code",
   "execution_count": 47,
   "metadata": {},
   "outputs": [
    {
     "data": {
      "text/plain": [
       "[('Toby', 27, 80000), ('Amy', 30, 60000), ('Sunny', 35, 70000)]"
      ]
     },
     "execution_count": 47,
     "metadata": {},
     "output_type": "execute_result"
    }
   ],
   "source": [
    "\n",
    "a = [('Amy'  , 30, 60000), \\\n",
    "     ('Toby' , 27, 80000), \\\n",
    "     ('Sunny', 35, 70000)]\n",
    "\n",
    "import operator\n",
    "sorted(a, key=operator.itemgetter(1))"
   ]
  },
  {
   "cell_type": "code",
   "execution_count": 48,
   "metadata": {},
   "outputs": [
    {
     "data": {
      "text/plain": [
       "[('Amy', 30, 60000), ('Sunny', 35, 70000), ('Toby', 27, 80000)]"
      ]
     },
     "execution_count": 48,
     "metadata": {},
     "output_type": "execute_result"
    }
   ],
   "source": [
    "import operator\n",
    "sorted(a, key=operator.itemgetter(2))"
   ]
  },
  {
   "cell_type": "code",
   "execution_count": 49,
   "metadata": {},
   "outputs": [],
   "source": [
    "?sorted"
   ]
  },
  {
   "cell_type": "code",
   "execution_count": 51,
   "metadata": {},
   "outputs": [
    {
     "data": {
      "text/plain": [
       "[('Toby', 27, 80000), ('Sunny', 35, 70000), ('Amy', 30, 60000)]"
      ]
     },
     "execution_count": 51,
     "metadata": {},
     "output_type": "execute_result"
    }
   ],
   "source": [
    "import operator\n",
    "sorted(a, key=operator.itemgetter(2), reverse=True)"
   ]
  },
  {
   "cell_type": "code",
   "execution_count": 52,
   "metadata": {},
   "outputs": [],
   "source": [
    "#dic.items()"
   ]
  },
  {
   "cell_type": "code",
   "execution_count": 54,
   "metadata": {},
   "outputs": [],
   "source": [
    "import operator\n",
    "swd = sorted(dic.items(), key=operator.itemgetter(1), reverse=True)"
   ]
  },
  {
   "cell_type": "code",
   "execution_count": 55,
   "metadata": {},
   "outputs": [],
   "source": [
    "stopwords = [\"a\", \"about\", \"above\", \"above\", \"across\", \"after\", \"afterwards\", \"again\", \"against\", \"all\", \"almost\", \"alone\", \"along\", \"already\", \"also\",\"although\",\"always\",\"am\",\"among\", \"amongst\", \"amoungst\", \"amount\",  \"an\", \"and\", \"another\", \"any\",\"anyhow\",\"anyone\",\"anything\",\"anyway\", \"anywhere\", \"are\", \"around\", \"as\",  \"at\", \"back\",\"be\",\"became\", \"because\",\"become\",\"becomes\", \"becoming\", \"been\", \"before\", \"beforehand\", \"behind\", \"being\", \"below\", \"beside\", \"besides\", \"between\", \"beyond\", \"bill\", \"both\", \"bottom\",\"but\", \"by\", \"call\", \"can\", \"cannot\", \"cant\", \"co\", \"con\", \"could\", \"couldnt\", \"cry\", \"de\", \"describe\", \"detail\", \"do\", \"done\", \"down\", \"due\", \"during\", \"each\", \"eg\", \"eight\", \"either\", \"eleven\",\"else\", \"elsewhere\", \"empty\", \"enough\", \"etc\", \"even\", \"ever\", \"every\", \"everyone\", \"everything\", \"everywhere\", \"except\", \"few\", \"fifteen\", \"fify\", \"fill\", \"find\", \"fire\", \"first\", \"five\", \"for\", \"former\", \"formerly\", \"forty\", \"found\", \"four\", \"from\", \"front\", \"full\", \"further\", \"get\", \"give\", \"go\", \"had\", \"has\", \"hasnt\", \"have\", \"he\", \"hence\", \"her\", \"here\", \"hereafter\", \"hereby\", \"herein\", \"hereupon\", \"hers\", \"herself\", \"him\", \"himself\", \"his\", \"how\", \"however\", \"hundred\", \"ie\", \"if\", \"in\", \"inc\", \"indeed\", \"interest\", \"into\", \"is\", \"it\", \"its\", \"itself\", \"keep\", \"last\", \"latter\", \"latterly\", \"least\", \"less\", \"ltd\", \"made\", \"many\", \"may\", \"me\", \"meanwhile\", \"might\", \"mill\", \"mine\", \"more\", \"moreover\", \"most\", \"mostly\", \"move\", \"much\", \"must\", \"my\", \"myself\", \"name\", \"namely\", \"neither\", \"never\", \"nevertheless\", \"next\", \"nine\", \"no\", \"nobody\", \"none\", \"noone\", \"nor\", \"not\", \"nothing\", \"now\", \"nowhere\", \"of\", \"off\", \"often\", \"on\", \"once\", \"one\", \"only\", \"onto\", \"or\", \"other\", \"others\", \"otherwise\", \"our\", \"ours\", \"ourselves\", \"out\", \"over\", \"own\",\"part\", \"per\", \"perhaps\", \"please\", \"put\", \"rather\", \"re\", \"same\", \"see\", \"seem\", \"seemed\", \"seeming\", \"seems\", \"serious\", \"several\", \"she\", \"should\", \"show\", \"side\", \"since\", \"sincere\", \"six\", \"sixty\", \"so\", \"some\", \"somehow\", \"someone\", \"something\", \"sometime\", \"sometimes\", \"somewhere\", \"still\", \"such\", \"system\", \"take\", \"ten\", \"than\", \"that\", \"the\", \"their\", \"them\", \"themselves\", \"then\", \"thence\", \"there\", \"thereafter\", \"thereby\", \"therefore\", \"therein\", \"thereupon\", \"these\", \"they\", \"thickv\", \"thin\", \"third\", \"this\", \"those\", \"though\", \"three\", \"through\", \"throughout\", \"thru\", \"thus\", \"to\", \"together\", \"too\", \"top\", \"toward\", \"towards\", \"twelve\", \"twenty\", \"two\", \"un\", \"under\", \"until\", \"up\", \"upon\", \"us\", \"very\", \"via\", \"was\", \"we\", \"well\", \"were\", \"what\", \"whatever\", \"when\", \"whence\", \"whenever\", \"where\", \"whereafter\", \"whereas\", \"whereby\", \"wherein\", \"whereupon\", \"wherever\", \"whether\", \"which\", \"while\", \"whither\", \"who\", \"whoever\", \"whole\", \"whom\", \"whose\", \"why\", \"will\", \"with\", \"within\", \"without\", \"would\", \"yet\", \"you\", \"your\", \"yours\", \"yourself\", \"yourselves\", \"the\"]"
   ]
  },
  {
   "cell_type": "code",
   "execution_count": 56,
   "metadata": {},
   "outputs": [],
   "source": [
    "dic = {}\n",
    "for word in speech.lower().split():\n",
    "    if word not in stopwords:\n",
    "        if word not in dic:\n",
    "            dic[word] = 1\n",
    "        else:\n",
    "            dic[word] = dic[word] + 1\n",
    "#dic"
   ]
  },
  {
   "cell_type": "code",
   "execution_count": 58,
   "metadata": {},
   "outputs": [],
   "source": [
    "import operator\n",
    "swd = sorted(dic.items(), key=operator.itemgetter(1), reverse=True)\n",
    "#swd"
   ]
  },
  {
   "cell_type": "markdown",
   "metadata": {},
   "source": [
    "## Counter"
   ]
  },
  {
   "cell_type": "code",
   "execution_count": 59,
   "metadata": {},
   "outputs": [
    {
     "data": {
      "text/plain": [
       "[(1, 5), (3, 5), (2, 4)]"
      ]
     },
     "execution_count": 59,
     "metadata": {},
     "output_type": "execute_result"
    }
   ],
   "source": [
    "from collections import Counter\n",
    "a = [1,1,1,1,2,2,3,3,2,1,2,3,3,3]\n",
    "c = Counter(a)\n",
    "c.most_common()"
   ]
  },
  {
   "cell_type": "code",
   "execution_count": 64,
   "metadata": {},
   "outputs": [
    {
     "data": {
      "text/plain": [
       "[('\\x96', 13),\n",
       " ('american', 11),\n",
       " ('america', 10),\n",
       " ('again.', 8),\n",
       " ('president', 6),\n",
       " ('people', 6),\n",
       " ('great', 6),\n",
       " ('country', 6),\n",
       " ('new', 6),\n",
       " ('right', 5)]"
      ]
     },
     "execution_count": 64,
     "metadata": {},
     "output_type": "execute_result"
    }
   ],
   "source": [
    "words = [word for word in speech.lower().split() if word not in stopwords]\n",
    "c = Counter(words)\n",
    "c.most_common(10)"
   ]
  },
  {
   "cell_type": "code",
   "execution_count": 65,
   "metadata": {},
   "outputs": [],
   "source": [
    "speech = '''\n",
    "大會主席蘇嘉全院長，現場的各位貴賓，電視機前面、以及網路上收看直播的全體國人同胞，大家早安，大家好！\n",
    "\n",
    "今天是中華民國一百零七歲的生日，現場有許多來自全世界各地的僑胞和好朋友，跟我們一起歡度國家的慶典。我要代表台灣人民，跟遠道而來的各位，致上最深的謝意。\n",
    "\n",
    "在國慶的這一天，我們不只要共同慶祝，更要一起思考國家的未來。過去一年，新的國際局勢正在考驗著每一個國家，當然也考驗著我們。政府無時無刻都在思考，如何從挑戰中發現機遇，如何在變動中，找出國家最佳戰略跟出路。今天我就要藉著這個機會，向全國人民完整說明政府的因應之道。\n",
    "\n",
    "相信大家都觀察到，國際政經局勢正在面臨劇烈的變化。美中之間的貿易衝突，讓國際產業分工出現重組，也對原有的經貿秩序帶來衝擊。\n",
    "\n",
    "在此同時，印太地區以及兩岸關係的複雜度，也相應升高。中國試圖挑戰區域現狀的作為，已經引起國際社會高度地關注。台灣位處西太平洋第一線，自然承受巨大的壓力。\n",
    "\n",
    "這段時間以來，中國單方面的文攻武嚇和外交打壓，不但傷害了兩岸關係，更嚴重挑戰了台海和平穩定的現狀。\n",
    "\n",
    "面對打壓，有些人希望政府採取更具對抗性的立場。不過，也有另一些人認為，我們應該要退讓妥協。\n",
    "\n",
    "但是各位，越是劇烈的變局，台灣就越要維持穩定，以沉著的態度化解壓力，冷靜地尋找生存的利基。\n",
    "\n",
    "這是兩年多來我一貫的堅持。維護兩千三百萬人民自由民主的生活方式，捍衛中華民國的永續發展，維持台海和平跟區域穩定，這是全體台灣人民最大的公約數，每一個負責任的政治人物和政黨，都應該要堅持捍衛到底！\n",
    "\n",
    "當全世界都在因應中國勢力擴張的同時，我所領導的政府要讓世界看見台灣的強韌。捍衛台灣的最佳方案，就是要讓台灣在世界上變得不可或缺，也不可取代。\n",
    "\n",
    "外在力量企圖單方面改變台海現狀的做法，不可能被台灣人民接受，任何違反普世價值的主張，也絕不會獲得國際社會的認同和支持。\n",
    "\n",
    "我也要再一次呼籲北京當局，一個負責任的大國，應該在區域及全球，扮演良性的角色，而不是衝突的來源。\n",
    "\n",
    "做為總統，我要向大家保證，我們不會貿然升高對抗，也不會屈從退讓。我不會因一時的激憤，走向衝突對抗，而讓兩岸關係陷入險境。我也不會背離民意，犧牲台灣的主權。在變局當中，我們絕對不能錯估情勢。激化衝突或者妥協屈從，都只會治絲益棼。\n",
    "\n",
    "我們的因應之道，就是「求穩、應變、進步」。這條路雖然充滿了挑戰，但卻是現階段台灣必須穩健前行的道路。\n",
    "\n",
    "有效的因應策略，植基於堅強的國力。所以當前最重要的任務，就是強化國家安全、強化經濟實力、強化社會安全網，不斷地「壯大台灣」，厚植實力，提升台灣在國際上的不可替代性，這才是台灣永續生存的利基。\n",
    "\n",
    "當前國家安全所面臨的挑戰，已經不僅僅是傳統國防軍事安全。外交施壓、社會滲透，甚至經濟安全，都是可能造成威脅的手段。當務之急，就是建構整體戰略，啟動國家安全強化的工程。\n",
    "\n",
    "國家安全整體布局的第一個面向，就是在外交上強化價值連結，建構台灣不可取代的戰略重要性。\n",
    "\n",
    "台灣擁有重要的地緣戰略地位，面對國際變局，我們的戰略選擇相當清楚，就是要堅守自由民主以及市場經濟。這兩項根本價值，是台灣今天成為亞洲民主典範，及發展經濟實力的重要基礎。\n",
    "\n",
    "過去兩年，在中國的壓力之下，我們堅持價值理念，展現高度韌性，讓越來越多理念相近國家，表達對中華民國台灣的支持。\n",
    "\n",
    "尤其是美國，最近不僅國會通過了許多友台法案，日前彭斯副總統，也公開譴責中國打壓台灣外交，並且肯定台灣的民主制度。\n",
    "\n",
    "和台灣共享民主價值的日本，無論是在國際場合的聲援、或是天災時相互協助關懷，都讓兩國間的友誼越發密切。\n",
    "\n",
    "前陣子，歐洲議會也通過決議，肯定台灣民主發展，同時也呼籲歐盟國家全力遏止中國武力挑釁台灣、破壞台海和平。\n",
    "\n",
    "我們也有很多友邦，積極為台灣奔走，呼籲國際合作不該遺漏台灣。今天，三位為台灣仗義執言的好朋友，巴拉圭的阿布鐸總統閣下、聖克里斯多福及尼維斯的席頓總督閣下，以及聖露西亞的查士納總理閣下，也出席了我們的國慶典禮\n",
    "\n",
    "讓我們藉著這個機會，向他們表達最誠摯的感謝。現在請大家用熱情的掌聲，歡迎這三位遠道而來的貴賓。\n",
    "\n",
    "國家安全整體布局的第二道面向，就是提升國防戰力。\n",
    "\n",
    "「重層嚇阻，防衛固守」，是我們的軍事戰略。它的核心價值，就在提升中華民國國軍的戰力。我曾經說過，只要蔡英文任總統的一天，國防預算每年都會穩定成長。我們精實的部隊和戰備，絕對有能力捍衛中華民國台灣的主權！\n",
    "\n",
    "在此外，我們也全力強化「國防自主」的能力。今年六月，我到漢翔公司，主持高教機的開架典禮，今年八月，我也在海軍司令部宣布「新海軍啟航」。\n",
    "\n",
    "重啟延宕多時的高教機國造和潛艦國造計畫，將引領國防工業邁向新時代。未來的國防工業，不只能夠強化國軍戰力，更能夠透過帶動產業升級跟群聚，成為經濟發展的重要動力。\n",
    "\n",
    "國家安全布局的第三個面向，是阻止外來勢力對國內進行滲透破壞，確保民主制度及社會經濟正常運作。\n",
    "\n",
    "台灣的多元民主，是我們堅決守護的價值。但是如果有其他國家，利用台灣社會的自由，來進行滲透、製造亂象，我們一定會用盡一切方式來防範，絕對不會坐視。\n",
    "\n",
    "無論是製造散布假消息、非法竊取科技情報，還是蓄意破壞資訊安全系統，甚至企圖用各種方式介入選舉、干擾政治運作的行為，只要罪證確鑿，我們一定嚴辦到底。\n",
    "\n",
    "針對系統性、來自特定國家背景的假消息傳播，我們也會加強跨國合作。不僅僅是交流經驗，未來更要建立查核和通報機制，共同來因應這些假消息對各國的社會穩定，所帶來的破壞和衝擊。\n",
    "\n",
    "國家安全整體布局的第四個面向，就是全球經貿戰略的重整及全新布局。\n",
    "\n",
    "面對美中貿易衝突，和全球經貿秩序重建的巨大變局，我們必須調整台灣在區域發展及全球供應鏈的角色。我們要以中、大型台商在區域分工的整合能力及全球布局能量，加上中小企業的活力，來開展全新的戰略布局，催化台灣經濟全面轉型升級。\n",
    "我們要做三件重要的事情：\n",
    "\n",
    "第一，從產業結構及資源互補的角度，在研發及尖端製造領域，和美、歐、日等工業先進國家，建立緊密的產業分工及技術連結，創造全新、高效率的供應鏈。\n",
    "\n",
    "第二，從資源及市場共享的角度，在具發展潛力的新南向國家及其他新興市場，透過多元合作，共同打造攸關經濟發展及民生福祉的關鍵產業鏈，促進經濟的共榮發展。\n",
    "\n",
    "第三，在我們的邦交國，協同當地政府共同面對氣候變遷的挑戰及尋找新的發展機會，打下經濟永續發展的基礎，也為台灣開闢未來的新市場、新生產基地、以及全球布局的新據點。\n",
    "\n",
    "在經濟實力的強化上，我們必須要強力的推動經濟轉型，有效率的執行基礎建設計畫，認真解決五缺問題，並將經濟成長的利益，由全民共享。\n",
    "\n",
    "經濟轉型的關鍵在科技。政府正努力朝「系統導向、軟硬整合、軍民合一，以及國際鏈結」四大目標，快速提升科技水準及研發的能量，以作為經濟提升的重要基礎。\n",
    "\n",
    "我們用新的思維，拆解不合時宜的框架，也鬆綁了阻礙競爭的約束，帶領產業走向新的機遇。\n",
    "\n",
    "在這當中，「5+2產業創新計畫」已經有效驅動產業升級轉型。導入智慧製造的機械產業，去年的產值已經突破一兆元，精密度跟附加價值也更上一層樓，帶動了航太、物聯網，以及醫材的製造水準。\n",
    "\n",
    "另外，「非核家園」的目標也確立了綠能發展的藍圖，並吸引國際離岸風電大廠前來投資。連帶地，新的風電產業鏈，也正在逐漸形成。\n",
    "\n",
    "我們也要強化多元的國際布局，產業才有能力在面對變局時，快速調整供應鏈來因應。\n",
    "\n",
    "行政院已經組成專案小組，協助台商多元布局生產基地。願意回台灣投資的台商，我們鼎力相助，如果希望到其他國家投資布局，我們也會全力支援。\n",
    "\n",
    "今年，「前瞻基礎建設」計畫第一期特別預算已經開始執行，建設的效益會逐漸展現，對擴大內需的貢獻也在發酵當中。這當中的綠能、數位、水資源、軌道、城鄉，是下一階段台灣要優先投資的基礎建設。\n",
    "\n",
    "在彰化，透過綠電稅收，政府有了穩定的財政基礎，可以確保學生營養午餐、社會福利實施的財政平衡。\n",
    "\n",
    "在原鄉部落及偏遠地區，我們鋪設了寬頻建設，讓小朋友透過網路跟世界連結，拉近城鄉的差距。\n",
    "\n",
    "在水資源建設上，透過石門水庫中庄調整池、湖山水庫下游自來水工程、曾文水庫防淤隧道的興建，我們穩定了從北到南的供水。\n",
    "\n",
    "因為極端氣候強降雨所造成的局部地區淹水問題，也正透過各地滯洪池、人工湖、河川整治和下水道清淤等工程，希望做到快速減災的效果。\n",
    "\n",
    "在交通建設方面，東部地區，透過蘇花公路改善計畫、南迴公路改善計畫，已經初步看見成果。\n",
    "\n",
    "大家所關心的軌道建設，我們也加緊努力，強化進入東部地區的鐵路系統，以及花東之間的鐵路系統，讓環島的鐵路系統更加完備。\n",
    "\n",
    "連結北部都會地區的基隆輕軌、新竹輕軌，串連中部區域的台中山手線，以及捷運綠線延伸彰化方案，還有高雄捷運紅線延伸、黃線新建案等，從南到北，許多新建計畫都已經展開規劃，並陸續進入核定階段。\n",
    "\n",
    "軌道建設的發展，不僅提供便捷的交通，更能有效減少汽機車造成的空氣污染。\n",
    "\n",
    "大力推動前瞻基礎建設的目的，就是要改善投資環境、均衡區域發展，為台灣的下一個世代創造更優質的環境和生活。\n",
    "\n",
    "我們致力改善產業的投資環境。企業所關切的生產元素，包括土地、水、電、人才、勞工的五缺問題，在賴院長「做實事」的態度下，一項又一項逐步解決。\n",
    "\n",
    "請大家回憶一下，去年夏天，能源供應十分緊張，供電警戒的橘燈一共亮起六十六天。今年夏天，無論天氣和景氣，都比去年熱，但是供電警戒的橘燈一天也沒有亮過，我們度過了供電危機。\n",
    "\n",
    "我們再回憶一下，今年上半年，西部地區降雨很少，大家都擔心缺水。但是透過開源、節流、調度和備援的措施，再加上前瞻基礎建設計畫，我們也安然度過了挑戰。\n",
    "\n",
    "前陣子，台積電、華邦電、力晶等大廠，都加碼投資台灣。國際大公司Google、微軟、思科、Facebook，有些準備在台灣設置研發中心，有些是提出新的合作計畫，這些代表了我們改善投資環境的成果，得到了國內外廠商的肯定。\n",
    "\n",
    "當經濟結構轉型的工程啟動，基礎建設開始興建，投資環境呈現改善的同時，我們看見景氣復甦，台灣經濟也開始穩健成長。\n",
    "\n",
    "兩年前，我們走出了連續三季的衰退；今年一到五月的失業率，是十八年來同期新低。2017年實質總薪資更創歷史新高，結束了薪資倒退十幾年的窘境。\n",
    "\n",
    "經濟指標變好，當然令人欣喜，但是對政府來說，最重要的事情是，怎麼將經濟成長的紅利，分享給所有人民。\n",
    "\n",
    "今年，我們把軍公教調高薪資百分之三，帶動了企業加薪的風潮。我們也加速調漲基本工資，明年起將達到兩萬三千一百元，終於擺脫了22K。此外，我們也為學貸增加了四年的寬緩期，減輕學貸族的負擔。\n",
    "\n",
    "明年起生效的租稅改革方案，優化稅制也兼顧租稅公平，大幅調高四大扣除額，未來月薪三萬元以下的民眾，就不需要繳個人所得稅。有學齡前兒童的家庭，免稅額也大大提高。\n",
    "\n",
    "在健全社會安全體系方面，2016年，我剛剛就任時，大家最憂慮的就是，房價太高、長輩沒有人照顧、育兒負擔沉重、社會治安不佳、毒品氾濫動搖國本等問題。整個國家的社會安全體系，可以說是百廢待舉。因此這兩年來，我們幾乎是用急行軍的速度，來健全社會安全體系。\n",
    "\n",
    "攸關居住正義問題的社會住宅，透過多元興辦，目前完工和正在興辦中的，已經超過兩萬四千戶。加上後續開工的案件，今年年底總戶數將可達到近三萬五千戶。在問題最嚴峻的雙北市，近兩年已經有超過五千四百戶陸續入住，我也去視察了其中幾個，無論是質或量，都令人滿意。\n",
    "\n",
    "民眾迫切需要的長照服務，現在升級成「長照2.0」，只要打1966長照專線，就有專人來協助。我們擴大了服務對象和範圍；我們也提高了待遇，使得更多人投入長照服務，增加了服務供給，讓更多家庭的需求被滿足。因為這些努力，接受長照服務人數，在最近一年增加超過五成。而接受喘息服務人數，最近一年則增加了一倍。\n",
    "\n",
    "生育率低，已經成為國安問題。我們除了提供津貼，更透過「準公共化系統」的建置，朝公共化教保的目標邁進了一步。目前，準公共化和公共化托育，共可提供平價收托量達到五萬六千人，比過去更加普及。我們的目標很清楚，減輕家長的負擔，生育率就有機會改善。\n",
    "\n",
    "大家所關心的治安問題，我們透過科技協助，智慧部署警力，犯罪發生數確實呈現下降趨勢。我們也對組織犯罪和詐騙進行全面掃蕩，今年到現在，檢警依違反新修正的《組織犯罪防制條例》，積極打擊包括詐騙集團、幫派在內的各類犯罪組織，起訴超過一千三百人。\n",
    "\n",
    "今年二月和六月兩波「安居緝毒方案」，查獲各級毒品高達九千七百公斤，所逮捕的製毒者、販毒者和藥頭，加起來超過一千九百人。我們更在四年內投入一百億的經費，執行「新世紀反毒策略」，將毒品網絡從社會連根拔起。\n",
    "\n",
    "各位國人同胞，國家發展的方向已經在改變。改變並不可怕，因為改變是為了因應世界的變化，讓台灣能夠繼續屹立不搖。\n",
    "\n",
    "改變也是為了改正過去的錯誤，讓我們把國家交給下一代的時候，不會再有難以承擔的包袱。所以這兩年多來，我們全力衝刺國政的改革。國家要進步，就不能走回頭路。\n",
    "\n",
    "年金改革我們不能走回頭路。因為我們不能讓每一個世代都陷入財務危機的懸崖邊緣。\n",
    "\n",
    "非核家園也不能走回頭路。這不只是為了核電廠所在的新北和屏東，更是為了世世代代的台灣人，能免於核災的威脅。\n",
    "\n",
    "轉型正義更不能走回頭路。過去執政者犯的錯誤，現在的政府更要勇敢面對，透過釐清真相，記取教訓，民主才會向前跨大步。\n",
    "\n",
    "改革也許有陣痛，但是在十年、二十年之後，下一代會感到也會感謝我們此刻的選擇。這是考驗領導人意志的時刻，我會把這個重擔扛起來，帶領國家往正確的方向走。\n",
    "\n",
    "在最後，我要特別感謝今天的國歌領唱代表，他們是一群「燈塔守護者」。\n",
    "\n",
    "我們全國各地的海岸，有三十六座燈塔。有一群人，負責守護著燈塔，維護海上航行的安全。我要代表國家，感謝各位忍受著孤獨和艱難，照亮海岸。\n",
    "\n",
    "台灣就是一個燈塔。我們的民主轉型，不僅照亮了自己曾經走過的黑暗，也為所有追求民主的人們，提供了暗夜中的光芒。所以，在香港、在中國大陸，以及在世界上各個角落，追求民主的朋友，請往台灣的方向看過來。台灣的民主，會照亮世界！\n",
    "\n",
    "當世界看見台灣的美好，台灣就不會孤獨。我要告訴國際友人，這條路，我們會勇敢堅定地走下去！\n",
    "\n",
    "台灣的民主也許吵吵鬧鬧，但我們一向因台灣而團結，因團結而堅強。因為這個國家，屬於兩千三百萬人民，這個國家，要完整地傳給世世代代！\n",
    "\n",
    "我們始終相信，台灣人能用獨特的堅韌，面對從來不曾停止過的內外挑戰，團結起來，讓國家更好，這就是今年國慶的主題，「台灣共好」的最佳寫照。最後，我要祝大家身體健康，萬事如意，中華民國生日快樂。謝謝，謝謝大家！\n",
    "\n",
    "'''"
   ]
  },
  {
   "cell_type": "code",
   "execution_count": 66,
   "metadata": {},
   "outputs": [
    {
     "name": "stdout",
     "output_type": "stream",
     "text": [
      "Requirement already satisfied: jieba in /Users/davidchiu/.pyenv/versions/3.6.2/lib/python3.6/site-packages\n",
      "\u001b[33mYou are using pip version 9.0.1, however version 18.1 is available.\n",
      "You should consider upgrading via the 'pip install --upgrade pip' command.\u001b[0m\n"
     ]
    }
   ],
   "source": [
    "! pip install jieba"
   ]
  },
  {
   "cell_type": "code",
   "execution_count": 69,
   "metadata": {},
   "outputs": [
    {
     "data": {
      "text/plain": [
       "['大會', '主席', '蘇嘉全', '院長']"
      ]
     },
     "execution_count": 69,
     "metadata": {},
     "output_type": "execute_result"
    }
   ],
   "source": [
    "import jieba\n",
    "jieba.add_word('蘇嘉全', 100)\n",
    "list(jieba.cut('大會主席蘇嘉全院長'))"
   ]
  },
  {
   "cell_type": "code",
   "execution_count": 76,
   "metadata": {},
   "outputs": [],
   "source": [
    "t = (1,2,3)\n",
    "a,b,c = t"
   ]
  },
  {
   "cell_type": "code",
   "execution_count": 79,
   "metadata": {},
   "outputs": [
    {
     "data": {
      "text/plain": [
       "3"
      ]
     },
     "execution_count": 79,
     "metadata": {},
     "output_type": "execute_result"
    }
   ],
   "source": [
    "c"
   ]
  },
  {
   "cell_type": "code",
   "execution_count": 82,
   "metadata": {},
   "outputs": [],
   "source": [
    "#c.most_common(100)"
   ]
  },
  {
   "cell_type": "code",
   "execution_count": 80,
   "metadata": {},
   "outputs": [
    {
     "name": "stdout",
     "output_type": "stream",
     "text": [
      "我們 59\n",
      "台灣 39\n",
      "國家 24\n",
      "經濟 16\n",
      "安全 15\n",
      "社會 13\n",
      "發展 13\n",
      "大家 12\n",
      "就是 12\n",
      "民主 12\n",
      "透過 12\n",
      "布局 11\n",
      "建設 11\n",
      "以及 10\n",
      "國際 9\n",
      "政府 9\n",
      "已經 9\n",
      "強化 9\n",
      "基礎 9\n",
      "今年 9\n",
      "計畫 9\n",
      "投資 9\n",
      "戰略 8\n",
      "人民 7\n",
      "因應 7\n",
      "穩定 7\n",
      "重要 7\n",
      "價值 7\n",
      "轉型 7\n",
      "問題 7\n",
      "改善 7\n",
      "我要 6\n",
      "面對 6\n",
      "但是 6\n",
      "全球 6\n",
      "不會 6\n",
      "不能 6\n",
      "地區 6\n",
      "各位 5\n",
      "今天 5\n",
      "中華民國 5\n",
      "未來 5\n",
      "一個 5\n",
      "這個 5\n",
      "衝突 5\n",
      "中國 5\n",
      "挑戰 5\n",
      "變局 5\n",
      "世界 5\n",
      "區域 5\n",
      "提升 5\n",
      "多元 5\n",
      "產業 5\n",
      "因為 5\n",
      "環境 5\n",
      "超過 5\n",
      "代表 4\n",
      "只要 4\n"
     ]
    }
   ],
   "source": [
    "words = list(jieba.cut(speech))\n",
    "c = Counter(words)\n",
    "for w, n in c.most_common(100):\n",
    "    if len(w) >=2:\n",
    "        print(w,n)"
   ]
  },
  {
   "cell_type": "markdown",
   "metadata": {},
   "source": [
    "## Kaggle 資料處理"
   ]
  },
  {
   "cell_type": "markdown",
   "metadata": {},
   "source": [
    "### 讀取資料 "
   ]
  },
  {
   "cell_type": "code",
   "execution_count": 83,
   "metadata": {},
   "outputs": [
    {
     "name": "stdout",
     "output_type": "stream",
     "text": [
      "Id,MSSubClass,MSZoning,LotFrontage,LotArea,Street,Alley,LotShape,LandContour,Utilities,LotConfig,LandSlope,Neighborhood,Condition1,Condition2,BldgType,HouseStyle,OverallQual,OverallCond,YearBuilt,YearRemodAdd,RoofStyle,RoofMatl,Exterior1st,Exterior2nd,MasVnrType,MasVnrArea,ExterQual,ExterCond,Foundation,BsmtQual,BsmtCond,BsmtExposure,BsmtFinType1,BsmtFinSF1,BsmtFinType2,BsmtFinSF2,BsmtUnfSF,TotalBsmtSF,Heating,HeatingQC,CentralAir,Electrical,1stFlrSF,2ndFlrSF,LowQualFinSF,GrLivArea,BsmtFullBath,BsmtHalfBath,FullBath,HalfBath,BedroomAbvGr,KitchenAbvGr,KitchenQual,TotRmsAbvGrd,Functional,Fireplaces,FireplaceQu,GarageType,GarageYrBlt,GarageFinish,GarageCars,GarageArea,GarageQual,GarageCond,PavedDrive,WoodDeckSF,OpenPorchSF,EnclosedPorch,3SsnPorch,ScreenPorch,PoolArea,PoolQC,Fence,MiscFeature,MiscVal,MoSold,YrSold,SaleType,SaleCondition,SalePrice\n",
      "\n"
     ]
    }
   ],
   "source": [
    "with open('data/train.csv') as f:\n",
    "    for line in f.readlines():\n",
    "        print(line)\n",
    "        break"
   ]
  },
  {
   "cell_type": "code",
   "execution_count": 84,
   "metadata": {},
   "outputs": [],
   "source": [
    "with open('data/train.csv') as f:\n",
    "    data =  f.read()"
   ]
  },
  {
   "cell_type": "code",
   "execution_count": 86,
   "metadata": {},
   "outputs": [],
   "source": [
    "#data"
   ]
  },
  {
   "cell_type": "code",
   "execution_count": 87,
   "metadata": {},
   "outputs": [],
   "source": [
    "data = [line for line in open('data/train.csv')]"
   ]
  },
  {
   "cell_type": "code",
   "execution_count": 88,
   "metadata": {},
   "outputs": [
    {
     "data": {
      "text/plain": [
       "1461"
      ]
     },
     "execution_count": 88,
     "metadata": {},
     "output_type": "execute_result"
    }
   ],
   "source": [
    "len(data)"
   ]
  },
  {
   "cell_type": "code",
   "execution_count": 90,
   "metadata": {},
   "outputs": [
    {
     "data": {
      "text/plain": [
       "list"
      ]
     },
     "execution_count": 90,
     "metadata": {},
     "output_type": "execute_result"
    }
   ],
   "source": [
    "type(data)"
   ]
  },
  {
   "cell_type": "code",
   "execution_count": 92,
   "metadata": {},
   "outputs": [
    {
     "data": {
      "text/plain": [
       "'Id,MSSubClass,MSZoning,LotFrontage,LotArea,Street,Alley,LotShape,LandContour,Utilities,LotConfig,LandSlope,Neighborhood,Condition1,Condition2,BldgType,HouseStyle,OverallQual,OverallCond,YearBuilt,YearRemodAdd,RoofStyle,RoofMatl,Exterior1st,Exterior2nd,MasVnrType,MasVnrArea,ExterQual,ExterCond,Foundation,BsmtQual,BsmtCond,BsmtExposure,BsmtFinType1,BsmtFinSF1,BsmtFinType2,BsmtFinSF2,BsmtUnfSF,TotalBsmtSF,Heating,HeatingQC,CentralAir,Electrical,1stFlrSF,2ndFlrSF,LowQualFinSF,GrLivArea,BsmtFullBath,BsmtHalfBath,FullBath,HalfBath,BedroomAbvGr,KitchenAbvGr,KitchenQual,TotRmsAbvGrd,Functional,Fireplaces,FireplaceQu,GarageType,GarageYrBlt,GarageFinish,GarageCars,GarageArea,GarageQual,GarageCond,PavedDrive,WoodDeckSF,OpenPorchSF,EnclosedPorch,3SsnPorch,ScreenPorch,PoolArea,PoolQC,Fence,MiscFeature,MiscVal,MoSold,YrSold,SaleType,SaleCondition,SalePrice\\n'"
      ]
     },
     "execution_count": 92,
     "metadata": {},
     "output_type": "execute_result"
    }
   ],
   "source": [
    "data[0]"
   ]
  },
  {
   "cell_type": "code",
   "execution_count": 94,
   "metadata": {},
   "outputs": [
    {
     "data": {
      "text/plain": [
       "'1,60,RL,65,8450,Pave,NA,Reg,Lvl,AllPub,Inside,Gtl,CollgCr,Norm,Norm,1Fam,2Story,7,5,2003,2003,Gable,CompShg,VinylSd,VinylSd,BrkFace,196,Gd,TA,PConc,Gd,TA,No,GLQ,706,Unf,0,150,856,GasA,Ex,Y,SBrkr,856,854,0,1710,1,0,2,1,3,1,Gd,8,Typ,0,NA,Attchd,2003,RFn,2,548,TA,TA,Y,0,61,0,0,0,0,NA,NA,NA,0,2,2008,WD,Normal,208500\\n'"
      ]
     },
     "execution_count": 94,
     "metadata": {},
     "output_type": "execute_result"
    }
   ],
   "source": [
    "data[1]"
   ]
  },
  {
   "cell_type": "code",
   "execution_count": 97,
   "metadata": {},
   "outputs": [
    {
     "name": "stdout",
     "output_type": "stream",
     "text": [
      "['Id', 'MSSubClass', 'MSZoning', 'LotFrontage', 'LotArea', 'Street', 'Alley', 'LotShape', 'LandContour', 'Utilities', 'LotConfig', 'LandSlope', 'Neighborhood', 'Condition1', 'Condition2', 'BldgType', 'HouseStyle', 'OverallQual', 'OverallCond', 'YearBuilt', 'YearRemodAdd', 'RoofStyle', 'RoofMatl', 'Exterior1st', 'Exterior2nd', 'MasVnrType', 'MasVnrArea', 'ExterQual', 'ExterCond', 'Foundation', 'BsmtQual', 'BsmtCond', 'BsmtExposure', 'BsmtFinType1', 'BsmtFinSF1', 'BsmtFinType2', 'BsmtFinSF2', 'BsmtUnfSF', 'TotalBsmtSF', 'Heating', 'HeatingQC', 'CentralAir', 'Electrical', '1stFlrSF', '2ndFlrSF', 'LowQualFinSF', 'GrLivArea', 'BsmtFullBath', 'BsmtHalfBath', 'FullBath', 'HalfBath', 'BedroomAbvGr', 'KitchenAbvGr', 'KitchenQual', 'TotRmsAbvGrd', 'Functional', 'Fireplaces', 'FireplaceQu', 'GarageType', 'GarageYrBlt', 'GarageFinish', 'GarageCars', 'GarageArea', 'GarageQual', 'GarageCond', 'PavedDrive', 'WoodDeckSF', 'OpenPorchSF', 'EnclosedPorch', '3SsnPorch', 'ScreenPorch', 'PoolArea', 'PoolQC', 'Fence', 'MiscFeature', 'MiscVal', 'MoSold', 'YrSold', 'SaleType', 'SaleCondition', 'SalePrice']\n"
     ]
    }
   ],
   "source": [
    "with open('data/train.csv', 'r') as f:\n",
    "    for l in f:\n",
    "        print(l.strip().split(','))\n",
    "        break"
   ]
  },
  {
   "cell_type": "code",
   "execution_count": 98,
   "metadata": {},
   "outputs": [],
   "source": [
    "data = [] \n",
    "with open('data/train.csv', 'r') as f:\n",
    "    for l in f:\n",
    "        data.append(l.strip().split(','))"
   ]
  },
  {
   "cell_type": "code",
   "execution_count": 100,
   "metadata": {},
   "outputs": [
    {
     "data": {
      "text/plain": [
       "1460"
      ]
     },
     "execution_count": 100,
     "metadata": {},
     "output_type": "execute_result"
    }
   ],
   "source": [
    "len(data[1:])"
   ]
  },
  {
   "cell_type": "code",
   "execution_count": 103,
   "metadata": {},
   "outputs": [
    {
     "data": {
      "text/plain": [
       "'SalePrice'"
      ]
     },
     "execution_count": 103,
     "metadata": {},
     "output_type": "execute_result"
    }
   ],
   "source": [
    "data[0][-1]"
   ]
  },
  {
   "cell_type": "code",
   "execution_count": 109,
   "metadata": {},
   "outputs": [],
   "source": [
    "salePriceList = [] \n",
    "for rec in data[1:]:\n",
    "    salePrice = int(rec[-1])\n",
    "    salePriceList.append(salePrice)"
   ]
  },
  {
   "cell_type": "code",
   "execution_count": 111,
   "metadata": {},
   "outputs": [],
   "source": [
    "#salePriceList"
   ]
  },
  {
   "cell_type": "code",
   "execution_count": 113,
   "metadata": {},
   "outputs": [
    {
     "data": {
      "text/plain": [
       "34900"
      ]
     },
     "execution_count": 113,
     "metadata": {},
     "output_type": "execute_result"
    }
   ],
   "source": [
    "min(salePriceList)"
   ]
  },
  {
   "cell_type": "code",
   "execution_count": 114,
   "metadata": {},
   "outputs": [
    {
     "data": {
      "text/plain": [
       "755000"
      ]
     },
     "execution_count": 114,
     "metadata": {},
     "output_type": "execute_result"
    }
   ],
   "source": [
    "max(salePriceList)"
   ]
  },
  {
   "cell_type": "code",
   "execution_count": 115,
   "metadata": {},
   "outputs": [
    {
     "data": {
      "text/plain": [
       "180921.19589041095"
      ]
     },
     "execution_count": 115,
     "metadata": {},
     "output_type": "execute_result"
    }
   ],
   "source": [
    "sum(salePriceList) / len(salePriceList)"
   ]
  },
  {
   "cell_type": "code",
   "execution_count": 117,
   "metadata": {},
   "outputs": [
    {
     "data": {
      "text/plain": [
       "180921.19589041095"
      ]
     },
     "execution_count": 117,
     "metadata": {},
     "output_type": "execute_result"
    }
   ],
   "source": [
    "from functools import reduce\n",
    "reduce(lambda x, y: x + y, salePriceList) / len(salePriceList)"
   ]
  },
  {
   "cell_type": "code",
   "execution_count": 122,
   "metadata": {},
   "outputs": [],
   "source": [
    "colmapping = []\n",
    "for field in data[0]:\n",
    "    #print(field)\n",
    "    colmapping.append(set())"
   ]
  },
  {
   "cell_type": "code",
   "execution_count": 123,
   "metadata": {},
   "outputs": [
    {
     "data": {
      "text/plain": [
       "[set(),\n",
       " set(),\n",
       " set(),\n",
       " set(),\n",
       " set(),\n",
       " set(),\n",
       " set(),\n",
       " set(),\n",
       " set(),\n",
       " set(),\n",
       " set(),\n",
       " set(),\n",
       " set(),\n",
       " set(),\n",
       " set(),\n",
       " set(),\n",
       " set(),\n",
       " set(),\n",
       " set(),\n",
       " set(),\n",
       " set(),\n",
       " set(),\n",
       " set(),\n",
       " set(),\n",
       " set(),\n",
       " set(),\n",
       " set(),\n",
       " set(),\n",
       " set(),\n",
       " set(),\n",
       " set(),\n",
       " set(),\n",
       " set(),\n",
       " set(),\n",
       " set(),\n",
       " set(),\n",
       " set(),\n",
       " set(),\n",
       " set(),\n",
       " set(),\n",
       " set(),\n",
       " set(),\n",
       " set(),\n",
       " set(),\n",
       " set(),\n",
       " set(),\n",
       " set(),\n",
       " set(),\n",
       " set(),\n",
       " set(),\n",
       " set(),\n",
       " set(),\n",
       " set(),\n",
       " set(),\n",
       " set(),\n",
       " set(),\n",
       " set(),\n",
       " set(),\n",
       " set(),\n",
       " set(),\n",
       " set(),\n",
       " set(),\n",
       " set(),\n",
       " set(),\n",
       " set(),\n",
       " set(),\n",
       " set(),\n",
       " set(),\n",
       " set(),\n",
       " set(),\n",
       " set(),\n",
       " set(),\n",
       " set(),\n",
       " set(),\n",
       " set(),\n",
       " set(),\n",
       " set(),\n",
       " set(),\n",
       " set(),\n",
       " set(),\n",
       " set()]"
      ]
     },
     "execution_count": 123,
     "metadata": {},
     "output_type": "execute_result"
    }
   ],
   "source": [
    "colmapping"
   ]
  },
  {
   "cell_type": "code",
   "execution_count": 124,
   "metadata": {},
   "outputs": [
    {
     "name": "stdout",
     "output_type": "stream",
     "text": [
      "0 2\n",
      "1 3\n",
      "2 5\n",
      "3 7\n",
      "4 9\n"
     ]
    }
   ],
   "source": [
    "a = [2,3,5,7,9]\n",
    "k = 0\n",
    "for e in a:\n",
    "    print(k,e)\n",
    "    k = k + 1"
   ]
  },
  {
   "cell_type": "code",
   "execution_count": 125,
   "metadata": {},
   "outputs": [
    {
     "name": "stdout",
     "output_type": "stream",
     "text": [
      "(0, 2)\n",
      "(1, 3)\n",
      "(2, 5)\n",
      "(3, 7)\n",
      "(4, 9)\n"
     ]
    }
   ],
   "source": [
    "for e in enumerate(a):\n",
    "    print(e)"
   ]
  },
  {
   "cell_type": "code",
   "execution_count": 127,
   "metadata": {},
   "outputs": [
    {
     "data": {
      "text/plain": [
       "0"
      ]
     },
     "execution_count": 127,
     "metadata": {},
     "output_type": "execute_result"
    }
   ],
   "source": [
    "idx, field = (0, 2)\n",
    "idx"
   ]
  },
  {
   "cell_type": "code",
   "execution_count": 128,
   "metadata": {},
   "outputs": [
    {
     "data": {
      "text/plain": [
       "2"
      ]
     },
     "execution_count": 128,
     "metadata": {},
     "output_type": "execute_result"
    }
   ],
   "source": [
    "field"
   ]
  },
  {
   "cell_type": "code",
   "execution_count": 129,
   "metadata": {},
   "outputs": [],
   "source": [
    "for rec in data[1:]:\n",
    "    for idx, field in enumerate(rec):\n",
    "        colmapping[idx].add(field)\n"
   ]
  },
  {
   "cell_type": "code",
   "execution_count": 134,
   "metadata": {},
   "outputs": [
    {
     "data": {
      "text/plain": [
       "{'C (all)', 'FV', 'RH', 'RL', 'RM'}"
      ]
     },
     "execution_count": 134,
     "metadata": {},
     "output_type": "execute_result"
    }
   ],
   "source": [
    "colmapping[2]"
   ]
  },
  {
   "cell_type": "code",
   "execution_count": 136,
   "metadata": {},
   "outputs": [
    {
     "name": "stdout",
     "output_type": "stream",
     "text": [
      "MSZoning {'RH', 'C (all)', 'RM', 'FV', 'RL'}\n",
      "Street {'Pave', 'Grvl'}\n",
      "Alley {'Pave', 'NA', 'Grvl'}\n",
      "LotShape {'IR2', 'IR3', 'IR1', 'Reg'}\n",
      "LandContour {'Low', 'Lvl', 'Bnk', 'HLS'}\n",
      "Utilities {'NoSeWa', 'AllPub'}\n",
      "LotConfig {'Corner', 'FR2', 'Inside', 'FR3', 'CulDSac'}\n",
      "LandSlope {'Sev', 'Gtl', 'Mod'}\n",
      "Condition1 {'PosN', 'PosA', 'RRAe', 'RRNn', 'RRNe', 'RRAn', 'Feedr', 'Norm', 'Artery'}\n",
      "Condition2 {'PosN', 'PosA', 'RRAe', 'RRNn', 'RRAn', 'Feedr', 'Norm', 'Artery'}\n",
      "BldgType {'1Fam', 'TwnhsE', 'Duplex', 'Twnhs', '2fmCon'}\n",
      "HouseStyle {'2.5Unf', '2Story', 'SLvl', '1Story', '1.5Fin', '2.5Fin', '1.5Unf', 'SFoyer'}\n",
      "OverallQual {'7', '1', '3', '4', '9', '2', '5', '8', '10', '6'}\n",
      "OverallCond {'7', '1', '3', '4', '9', '2', '8', '5', '6'}\n",
      "RoofStyle {'Hip', 'Gambrel', 'Shed', 'Flat', 'Gable', 'Mansard'}\n",
      "RoofMatl {'WdShake', 'ClyTile', 'Tar&Grv', 'Roll', 'Metal', 'Membran', 'CompShg', 'WdShngl'}\n",
      "MasVnrType {'None', 'BrkFace', 'BrkCmn', 'Stone', 'NA'}\n",
      "ExterQual {'Ex', 'TA', 'Gd', 'Fa'}\n",
      "ExterCond {'Ex', 'Po', 'TA', 'Gd', 'Fa'}\n",
      "Foundation {'CBlock', 'Wood', 'BrkTil', 'Slab', 'PConc', 'Stone'}\n",
      "BsmtQual {'Ex', 'TA', 'Gd', 'NA', 'Fa'}\n",
      "BsmtCond {'Po', 'TA', 'Gd', 'NA', 'Fa'}\n",
      "BsmtExposure {'Av', 'No', 'Mn', 'Gd', 'NA'}\n",
      "BsmtFinType1 {'LwQ', 'Unf', 'Rec', 'GLQ', 'ALQ', 'BLQ', 'NA'}\n",
      "BsmtFinType2 {'LwQ', 'Unf', 'Rec', 'GLQ', 'ALQ', 'BLQ', 'NA'}\n",
      "Heating {'GasA', 'Wall', 'Floor', 'GasW', 'Grav', 'OthW'}\n",
      "HeatingQC {'Ex', 'Po', 'TA', 'Gd', 'Fa'}\n",
      "CentralAir {'Y', 'N'}\n",
      "Electrical {'FuseF', 'FuseP', 'Mix', 'SBrkr', 'FuseA', 'NA'}\n",
      "BsmtFullBath {'2', '0', '1', '3'}\n",
      "BsmtHalfBath {'2', '0', '1'}\n",
      "FullBath {'0', '2', '1', '3'}\n",
      "HalfBath {'2', '0', '1'}\n",
      "BedroomAbvGr {'1', '3', '4', '0', '2', '5', '8', '6'}\n",
      "KitchenAbvGr {'0', '2', '1', '3'}\n",
      "KitchenQual {'Ex', 'TA', 'Gd', 'Fa'}\n",
      "TotRmsAbvGrd {'11', '7', '14', '3', '4', '12', '9', '2', '5', '8', '10', '6'}\n",
      "Functional {'Sev', 'Typ', 'Mod', 'Min2', 'Min1', 'Maj2', 'Maj1'}\n",
      "Fireplaces {'2', '0', '1', '3'}\n",
      "FireplaceQu {'Ex', 'Po', 'TA', 'Gd', 'NA', 'Fa'}\n",
      "GarageType {'BuiltIn', 'CarPort', 'Detchd', 'Attchd', '2Types', 'Basment', 'NA'}\n",
      "GarageFinish {'Unf', 'Fin', 'NA', 'RFn'}\n",
      "GarageCars {'1', '3', '4', '0', '2'}\n",
      "GarageQual {'Ex', 'Po', 'TA', 'Gd', 'NA', 'Fa'}\n",
      "GarageCond {'Ex', 'Po', 'TA', 'Gd', 'NA', 'Fa'}\n",
      "PavedDrive {'Y', 'N', 'P'}\n",
      "PoolArea {'576', '519', '512', '0', '648', '738', '555', '480'}\n",
      "PoolQC {'Ex', 'Gd', 'NA', 'Fa'}\n",
      "Fence {'MnWw', 'MnPrv', 'GdWo', 'GdPrv', 'NA'}\n",
      "MiscFeature {'Othr', 'Gar2', 'Shed', 'TenC', 'NA'}\n",
      "MoSold {'7', '1', '3', '4', '6', '12', '9', '2', '5', '8', '10', '11'}\n",
      "YrSold {'2008', '2006', '2007', '2009', '2010'}\n",
      "SaleType {'CWD', 'Oth', 'COD', 'Con', 'ConLD', 'New', 'WD', 'ConLw', 'ConLI'}\n",
      "SaleCondition {'Family', 'AdjLand', 'Abnorml', 'Normal', 'Partial', 'Alloca'}\n"
     ]
    }
   ],
   "source": [
    "for idx in range(0,len(data[0])):\n",
    "    if len(colmapping[idx]) < 15:\n",
    "        print(data[0][idx],colmapping[idx])"
   ]
  },
  {
   "cell_type": "markdown",
   "metadata": {},
   "source": [
    "## Pandas"
   ]
  },
  {
   "cell_type": "code",
   "execution_count": 137,
   "metadata": {},
   "outputs": [],
   "source": [
    "import pandas\n",
    "df = pandas.read_csv('data/train.csv')"
   ]
  },
  {
   "cell_type": "code",
   "execution_count": 139,
   "metadata": {},
   "outputs": [
    {
     "data": {
      "text/html": [
       "<div>\n",
       "<style>\n",
       "    .dataframe thead tr:only-child th {\n",
       "        text-align: right;\n",
       "    }\n",
       "\n",
       "    .dataframe thead th {\n",
       "        text-align: left;\n",
       "    }\n",
       "\n",
       "    .dataframe tbody tr th {\n",
       "        vertical-align: top;\n",
       "    }\n",
       "</style>\n",
       "<table border=\"1\" class=\"dataframe\">\n",
       "  <thead>\n",
       "    <tr style=\"text-align: right;\">\n",
       "      <th></th>\n",
       "      <th>Id</th>\n",
       "      <th>MSSubClass</th>\n",
       "      <th>MSZoning</th>\n",
       "      <th>LotFrontage</th>\n",
       "      <th>LotArea</th>\n",
       "      <th>Street</th>\n",
       "      <th>Alley</th>\n",
       "      <th>LotShape</th>\n",
       "      <th>LandContour</th>\n",
       "      <th>Utilities</th>\n",
       "      <th>...</th>\n",
       "      <th>PoolArea</th>\n",
       "      <th>PoolQC</th>\n",
       "      <th>Fence</th>\n",
       "      <th>MiscFeature</th>\n",
       "      <th>MiscVal</th>\n",
       "      <th>MoSold</th>\n",
       "      <th>YrSold</th>\n",
       "      <th>SaleType</th>\n",
       "      <th>SaleCondition</th>\n",
       "      <th>SalePrice</th>\n",
       "    </tr>\n",
       "  </thead>\n",
       "  <tbody>\n",
       "    <tr>\n",
       "      <th>0</th>\n",
       "      <td>1</td>\n",
       "      <td>60</td>\n",
       "      <td>RL</td>\n",
       "      <td>65.0</td>\n",
       "      <td>8450</td>\n",
       "      <td>Pave</td>\n",
       "      <td>NaN</td>\n",
       "      <td>Reg</td>\n",
       "      <td>Lvl</td>\n",
       "      <td>AllPub</td>\n",
       "      <td>...</td>\n",
       "      <td>0</td>\n",
       "      <td>NaN</td>\n",
       "      <td>NaN</td>\n",
       "      <td>NaN</td>\n",
       "      <td>0</td>\n",
       "      <td>2</td>\n",
       "      <td>2008</td>\n",
       "      <td>WD</td>\n",
       "      <td>Normal</td>\n",
       "      <td>208500</td>\n",
       "    </tr>\n",
       "    <tr>\n",
       "      <th>1</th>\n",
       "      <td>2</td>\n",
       "      <td>20</td>\n",
       "      <td>RL</td>\n",
       "      <td>80.0</td>\n",
       "      <td>9600</td>\n",
       "      <td>Pave</td>\n",
       "      <td>NaN</td>\n",
       "      <td>Reg</td>\n",
       "      <td>Lvl</td>\n",
       "      <td>AllPub</td>\n",
       "      <td>...</td>\n",
       "      <td>0</td>\n",
       "      <td>NaN</td>\n",
       "      <td>NaN</td>\n",
       "      <td>NaN</td>\n",
       "      <td>0</td>\n",
       "      <td>5</td>\n",
       "      <td>2007</td>\n",
       "      <td>WD</td>\n",
       "      <td>Normal</td>\n",
       "      <td>181500</td>\n",
       "    </tr>\n",
       "    <tr>\n",
       "      <th>2</th>\n",
       "      <td>3</td>\n",
       "      <td>60</td>\n",
       "      <td>RL</td>\n",
       "      <td>68.0</td>\n",
       "      <td>11250</td>\n",
       "      <td>Pave</td>\n",
       "      <td>NaN</td>\n",
       "      <td>IR1</td>\n",
       "      <td>Lvl</td>\n",
       "      <td>AllPub</td>\n",
       "      <td>...</td>\n",
       "      <td>0</td>\n",
       "      <td>NaN</td>\n",
       "      <td>NaN</td>\n",
       "      <td>NaN</td>\n",
       "      <td>0</td>\n",
       "      <td>9</td>\n",
       "      <td>2008</td>\n",
       "      <td>WD</td>\n",
       "      <td>Normal</td>\n",
       "      <td>223500</td>\n",
       "    </tr>\n",
       "    <tr>\n",
       "      <th>3</th>\n",
       "      <td>4</td>\n",
       "      <td>70</td>\n",
       "      <td>RL</td>\n",
       "      <td>60.0</td>\n",
       "      <td>9550</td>\n",
       "      <td>Pave</td>\n",
       "      <td>NaN</td>\n",
       "      <td>IR1</td>\n",
       "      <td>Lvl</td>\n",
       "      <td>AllPub</td>\n",
       "      <td>...</td>\n",
       "      <td>0</td>\n",
       "      <td>NaN</td>\n",
       "      <td>NaN</td>\n",
       "      <td>NaN</td>\n",
       "      <td>0</td>\n",
       "      <td>2</td>\n",
       "      <td>2006</td>\n",
       "      <td>WD</td>\n",
       "      <td>Abnorml</td>\n",
       "      <td>140000</td>\n",
       "    </tr>\n",
       "    <tr>\n",
       "      <th>4</th>\n",
       "      <td>5</td>\n",
       "      <td>60</td>\n",
       "      <td>RL</td>\n",
       "      <td>84.0</td>\n",
       "      <td>14260</td>\n",
       "      <td>Pave</td>\n",
       "      <td>NaN</td>\n",
       "      <td>IR1</td>\n",
       "      <td>Lvl</td>\n",
       "      <td>AllPub</td>\n",
       "      <td>...</td>\n",
       "      <td>0</td>\n",
       "      <td>NaN</td>\n",
       "      <td>NaN</td>\n",
       "      <td>NaN</td>\n",
       "      <td>0</td>\n",
       "      <td>12</td>\n",
       "      <td>2008</td>\n",
       "      <td>WD</td>\n",
       "      <td>Normal</td>\n",
       "      <td>250000</td>\n",
       "    </tr>\n",
       "  </tbody>\n",
       "</table>\n",
       "<p>5 rows × 81 columns</p>\n",
       "</div>"
      ],
      "text/plain": [
       "   Id  MSSubClass MSZoning  LotFrontage  LotArea Street Alley LotShape  \\\n",
       "0   1          60       RL         65.0     8450   Pave   NaN      Reg   \n",
       "1   2          20       RL         80.0     9600   Pave   NaN      Reg   \n",
       "2   3          60       RL         68.0    11250   Pave   NaN      IR1   \n",
       "3   4          70       RL         60.0     9550   Pave   NaN      IR1   \n",
       "4   5          60       RL         84.0    14260   Pave   NaN      IR1   \n",
       "\n",
       "  LandContour Utilities    ...     PoolArea PoolQC Fence MiscFeature MiscVal  \\\n",
       "0         Lvl    AllPub    ...            0    NaN   NaN         NaN       0   \n",
       "1         Lvl    AllPub    ...            0    NaN   NaN         NaN       0   \n",
       "2         Lvl    AllPub    ...            0    NaN   NaN         NaN       0   \n",
       "3         Lvl    AllPub    ...            0    NaN   NaN         NaN       0   \n",
       "4         Lvl    AllPub    ...            0    NaN   NaN         NaN       0   \n",
       "\n",
       "  MoSold YrSold  SaleType  SaleCondition  SalePrice  \n",
       "0      2   2008        WD         Normal     208500  \n",
       "1      5   2007        WD         Normal     181500  \n",
       "2      9   2008        WD         Normal     223500  \n",
       "3      2   2006        WD        Abnorml     140000  \n",
       "4     12   2008        WD         Normal     250000  \n",
       "\n",
       "[5 rows x 81 columns]"
      ]
     },
     "execution_count": 139,
     "metadata": {},
     "output_type": "execute_result"
    }
   ],
   "source": [
    "df.head()"
   ]
  },
  {
   "cell_type": "code",
   "execution_count": 141,
   "metadata": {},
   "outputs": [
    {
     "name": "stdout",
     "output_type": "stream",
     "text": [
      "<class 'pandas.core.frame.DataFrame'>\n",
      "RangeIndex: 1460 entries, 0 to 1459\n",
      "Data columns (total 81 columns):\n",
      "Id               1460 non-null int64\n",
      "MSSubClass       1460 non-null int64\n",
      "MSZoning         1460 non-null object\n",
      "LotFrontage      1201 non-null float64\n",
      "LotArea          1460 non-null int64\n",
      "Street           1460 non-null object\n",
      "Alley            91 non-null object\n",
      "LotShape         1460 non-null object\n",
      "LandContour      1460 non-null object\n",
      "Utilities        1460 non-null object\n",
      "LotConfig        1460 non-null object\n",
      "LandSlope        1460 non-null object\n",
      "Neighborhood     1460 non-null object\n",
      "Condition1       1460 non-null object\n",
      "Condition2       1460 non-null object\n",
      "BldgType         1460 non-null object\n",
      "HouseStyle       1460 non-null object\n",
      "OverallQual      1460 non-null int64\n",
      "OverallCond      1460 non-null int64\n",
      "YearBuilt        1460 non-null int64\n",
      "YearRemodAdd     1460 non-null int64\n",
      "RoofStyle        1460 non-null object\n",
      "RoofMatl         1460 non-null object\n",
      "Exterior1st      1460 non-null object\n",
      "Exterior2nd      1460 non-null object\n",
      "MasVnrType       1452 non-null object\n",
      "MasVnrArea       1452 non-null float64\n",
      "ExterQual        1460 non-null object\n",
      "ExterCond        1460 non-null object\n",
      "Foundation       1460 non-null object\n",
      "BsmtQual         1423 non-null object\n",
      "BsmtCond         1423 non-null object\n",
      "BsmtExposure     1422 non-null object\n",
      "BsmtFinType1     1423 non-null object\n",
      "BsmtFinSF1       1460 non-null int64\n",
      "BsmtFinType2     1422 non-null object\n",
      "BsmtFinSF2       1460 non-null int64\n",
      "BsmtUnfSF        1460 non-null int64\n",
      "TotalBsmtSF      1460 non-null int64\n",
      "Heating          1460 non-null object\n",
      "HeatingQC        1460 non-null object\n",
      "CentralAir       1460 non-null object\n",
      "Electrical       1459 non-null object\n",
      "1stFlrSF         1460 non-null int64\n",
      "2ndFlrSF         1460 non-null int64\n",
      "LowQualFinSF     1460 non-null int64\n",
      "GrLivArea        1460 non-null int64\n",
      "BsmtFullBath     1460 non-null int64\n",
      "BsmtHalfBath     1460 non-null int64\n",
      "FullBath         1460 non-null int64\n",
      "HalfBath         1460 non-null int64\n",
      "BedroomAbvGr     1460 non-null int64\n",
      "KitchenAbvGr     1460 non-null int64\n",
      "KitchenQual      1460 non-null object\n",
      "TotRmsAbvGrd     1460 non-null int64\n",
      "Functional       1460 non-null object\n",
      "Fireplaces       1460 non-null int64\n",
      "FireplaceQu      770 non-null object\n",
      "GarageType       1379 non-null object\n",
      "GarageYrBlt      1379 non-null float64\n",
      "GarageFinish     1379 non-null object\n",
      "GarageCars       1460 non-null int64\n",
      "GarageArea       1460 non-null int64\n",
      "GarageQual       1379 non-null object\n",
      "GarageCond       1379 non-null object\n",
      "PavedDrive       1460 non-null object\n",
      "WoodDeckSF       1460 non-null int64\n",
      "OpenPorchSF      1460 non-null int64\n",
      "EnclosedPorch    1460 non-null int64\n",
      "3SsnPorch        1460 non-null int64\n",
      "ScreenPorch      1460 non-null int64\n",
      "PoolArea         1460 non-null int64\n",
      "PoolQC           7 non-null object\n",
      "Fence            281 non-null object\n",
      "MiscFeature      54 non-null object\n",
      "MiscVal          1460 non-null int64\n",
      "MoSold           1460 non-null int64\n",
      "YrSold           1460 non-null int64\n",
      "SaleType         1460 non-null object\n",
      "SaleCondition    1460 non-null object\n",
      "SalePrice        1460 non-null int64\n",
      "dtypes: float64(3), int64(35), object(43)\n",
      "memory usage: 924.0+ KB\n"
     ]
    }
   ],
   "source": [
    "df.info()"
   ]
  },
  {
   "cell_type": "code",
   "execution_count": 142,
   "metadata": {},
   "outputs": [
    {
     "data": {
      "text/plain": [
       "pandas.core.frame.DataFrame"
      ]
     },
     "execution_count": 142,
     "metadata": {},
     "output_type": "execute_result"
    }
   ],
   "source": [
    "type(df)"
   ]
  },
  {
   "cell_type": "code",
   "execution_count": 143,
   "metadata": {},
   "outputs": [
    {
     "data": {
      "text/plain": [
       "Id                 int64\n",
       "MSSubClass         int64\n",
       "MSZoning          object\n",
       "LotFrontage      float64\n",
       "LotArea            int64\n",
       "Street            object\n",
       "Alley             object\n",
       "LotShape          object\n",
       "LandContour       object\n",
       "Utilities         object\n",
       "LotConfig         object\n",
       "LandSlope         object\n",
       "Neighborhood      object\n",
       "Condition1        object\n",
       "Condition2        object\n",
       "BldgType          object\n",
       "HouseStyle        object\n",
       "OverallQual        int64\n",
       "OverallCond        int64\n",
       "YearBuilt          int64\n",
       "YearRemodAdd       int64\n",
       "RoofStyle         object\n",
       "RoofMatl          object\n",
       "Exterior1st       object\n",
       "Exterior2nd       object\n",
       "MasVnrType        object\n",
       "MasVnrArea       float64\n",
       "ExterQual         object\n",
       "ExterCond         object\n",
       "Foundation        object\n",
       "                  ...   \n",
       "BedroomAbvGr       int64\n",
       "KitchenAbvGr       int64\n",
       "KitchenQual       object\n",
       "TotRmsAbvGrd       int64\n",
       "Functional        object\n",
       "Fireplaces         int64\n",
       "FireplaceQu       object\n",
       "GarageType        object\n",
       "GarageYrBlt      float64\n",
       "GarageFinish      object\n",
       "GarageCars         int64\n",
       "GarageArea         int64\n",
       "GarageQual        object\n",
       "GarageCond        object\n",
       "PavedDrive        object\n",
       "WoodDeckSF         int64\n",
       "OpenPorchSF        int64\n",
       "EnclosedPorch      int64\n",
       "3SsnPorch          int64\n",
       "ScreenPorch        int64\n",
       "PoolArea           int64\n",
       "PoolQC            object\n",
       "Fence             object\n",
       "MiscFeature       object\n",
       "MiscVal            int64\n",
       "MoSold             int64\n",
       "YrSold             int64\n",
       "SaleType          object\n",
       "SaleCondition     object\n",
       "SalePrice          int64\n",
       "Length: 81, dtype: object"
      ]
     },
     "execution_count": 143,
     "metadata": {},
     "output_type": "execute_result"
    }
   ],
   "source": [
    "df.dtypes"
   ]
  },
  {
   "cell_type": "code",
   "execution_count": 144,
   "metadata": {},
   "outputs": [
    {
     "data": {
      "text/plain": [
       "180921.19589041095"
      ]
     },
     "execution_count": 144,
     "metadata": {},
     "output_type": "execute_result"
    }
   ],
   "source": [
    "#平均價格\n",
    "df['SalePrice'].mean()"
   ]
  },
  {
   "cell_type": "code",
   "execution_count": 145,
   "metadata": {},
   "outputs": [
    {
     "data": {
      "text/plain": [
       "755000"
      ]
     },
     "execution_count": 145,
     "metadata": {},
     "output_type": "execute_result"
    }
   ],
   "source": [
    "#最大價格\n",
    "df['SalePrice'].max()"
   ]
  },
  {
   "cell_type": "code",
   "execution_count": 146,
   "metadata": {},
   "outputs": [
    {
     "data": {
      "text/plain": [
       "34900"
      ]
     },
     "execution_count": 146,
     "metadata": {},
     "output_type": "execute_result"
    }
   ],
   "source": [
    "#最小價格\n",
    "df['SalePrice'].min()"
   ]
  },
  {
   "cell_type": "code",
   "execution_count": 147,
   "metadata": {},
   "outputs": [
    {
     "data": {
      "text/plain": [
       "count      1460.000000\n",
       "mean     180921.195890\n",
       "std       79442.502883\n",
       "min       34900.000000\n",
       "25%      129975.000000\n",
       "50%      163000.000000\n",
       "75%      214000.000000\n",
       "max      755000.000000\n",
       "Name: SalePrice, dtype: float64"
      ]
     },
     "execution_count": 147,
     "metadata": {},
     "output_type": "execute_result"
    }
   ],
   "source": [
    "#敘述性統計\n",
    "df['SalePrice'].describe()"
   ]
  },
  {
   "cell_type": "code",
   "execution_count": 148,
   "metadata": {},
   "outputs": [
    {
     "name": "stdout",
     "output_type": "stream",
     "text": [
      "Populating the interactive namespace from numpy and matplotlib\n"
     ]
    },
    {
     "name": "stderr",
     "output_type": "stream",
     "text": [
      "/Users/davidchiu/.pyenv/versions/3.6.2/lib/python3.6/site-packages/IPython/core/magics/pylab.py:160: UserWarning: pylab import has clobbered these variables: ['rec', 'e', 'f']\n",
      "`%matplotlib` prevents importing * from pylab and numpy\n",
      "  \"\\n`%matplotlib` prevents importing * from pylab and numpy\"\n"
     ]
    },
    {
     "data": {
      "text/plain": [
       "<matplotlib.axes._subplots.AxesSubplot at 0x119b1d550>"
      ]
     },
     "execution_count": 148,
     "metadata": {},
     "output_type": "execute_result"
    },
    {
     "data": {
      "image/png": "[encoded data removed]",
      "text/plain": [
       "<Figure size 432x288 with 1 Axes>"
      ]
     },
     "metadata": {},
     "output_type": "display_data"
    }
   ],
   "source": [
    "% pylab inline\n",
    "df['SalePrice'].plot(kind = 'box')"
   ]
  },
  {
   "cell_type": "code",
   "execution_count": 149,
   "metadata": {},
   "outputs": [
    {
     "name": "stdout",
     "output_type": "stream",
     "text": [
      "Populating the interactive namespace from numpy and matplotlib\n"
     ]
    },
    {
     "data": {
      "text/plain": [
       "<matplotlib.axes._subplots.AxesSubplot at 0x119b95978>"
      ]
     },
     "execution_count": 149,
     "metadata": {},
     "output_type": "execute_result"
    },
    {
     "data": {
      "image/png": "[encoded data removed]",
      "text/plain": [
       "<Figure size 432x288 with 1 Axes>"
      ]
     },
     "metadata": {},
     "output_type": "display_data"
    }
   ],
   "source": [
    "% pylab inline\n",
    "df['SalePrice'].plot(kind = 'hist')"
   ]
  },
  {
   "cell_type": "code",
   "execution_count": null,
   "metadata": {},
   "outputs": [],
   "source": []
  }
 ],
 "metadata": {
  "kernelspec": {
   "display_name": "Python 3",
   "language": "python",
   "name": "python3"
  },
  "language_info": {
   "codemirror_mode": {
    "name": "ipython",
    "version": 3
   },
   "file_extension": ".py",
   "mimetype": "text/x-python",
   "name": "python",
   "nbconvert_exporter": "python",
   "pygments_lexer": "ipython3",
   "version": "3.6.2"
  }
 },
 "nbformat": 4,
 "nbformat_minor": 2
}
