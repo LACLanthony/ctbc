{
 "cells": [
  {
   "cell_type": "markdown",
   "metadata": {},
   "source": [
    "## 安裝 plotly"
   ]
  },
  {
   "cell_type": "code",
   "execution_count": 1,
   "metadata": {},
   "outputs": [
    {
     "name": "stdout",
     "output_type": "stream",
     "text": [
      "Requirement already satisfied: plotly in /Users/davidchiu/.pyenv/versions/3.6.2/lib/python3.6/site-packages\n",
      "Requirement already satisfied: six in /Users/davidchiu/.pyenv/versions/3.6.2/lib/python3.6/site-packages (from plotly)\n",
      "Requirement already satisfied: pytz in /Users/davidchiu/.pyenv/versions/3.6.2/lib/python3.6/site-packages (from plotly)\n",
      "Requirement already satisfied: decorator>=4.0.6 in /Users/davidchiu/.pyenv/versions/3.6.2/lib/python3.6/site-packages (from plotly)\n",
      "Requirement already satisfied: requests in /Users/davidchiu/.pyenv/versions/3.6.2/lib/python3.6/site-packages (from plotly)\n",
      "Requirement already satisfied: retrying>=1.3.3 in /Users/davidchiu/.pyenv/versions/3.6.2/lib/python3.6/site-packages (from plotly)\n",
      "Requirement already satisfied: nbformat>=4.2 in /Users/davidchiu/.pyenv/versions/3.6.2/lib/python3.6/site-packages (from plotly)\n",
      "Requirement already satisfied: certifi>=2017.4.17 in /Users/davidchiu/.pyenv/versions/3.6.2/lib/python3.6/site-packages (from requests->plotly)\n",
      "Requirement already satisfied: chardet<3.1.0,>=3.0.2 in /Users/davidchiu/.pyenv/versions/3.6.2/lib/python3.6/site-packages (from requests->plotly)\n",
      "Requirement already satisfied: idna<2.8,>=2.5 in /Users/davidchiu/.pyenv/versions/3.6.2/lib/python3.6/site-packages (from requests->plotly)\n",
      "Requirement already satisfied: urllib3<1.25,>=1.21.1 in /Users/davidchiu/.pyenv/versions/3.6.2/lib/python3.6/site-packages (from requests->plotly)\n",
      "Requirement already satisfied: traitlets>=4.1 in /Users/davidchiu/.pyenv/versions/3.6.2/lib/python3.6/site-packages (from nbformat>=4.2->plotly)\n",
      "Requirement already satisfied: jupyter-core in /Users/davidchiu/.pyenv/versions/3.6.2/lib/python3.6/site-packages (from nbformat>=4.2->plotly)\n",
      "Requirement already satisfied: jsonschema!=2.5.0,>=2.4 in /Users/davidchiu/.pyenv/versions/3.6.2/lib/python3.6/site-packages (from nbformat>=4.2->plotly)\n",
      "Requirement already satisfied: ipython-genutils in /Users/davidchiu/.pyenv/versions/3.6.2/lib/python3.6/site-packages (from nbformat>=4.2->plotly)\n",
      "\u001b[33mYou are using pip version 9.0.1, however version 18.1 is available.\n",
      "You should consider upgrading via the 'pip install --upgrade pip' command.\u001b[0m\n"
     ]
    }
   ],
   "source": [
    "! pip install plotly"
   ]
  },
  {
   "cell_type": "markdown",
   "metadata": {},
   "source": [
    "## Scatter Plot"
   ]
  },
  {
   "cell_type": "code",
   "execution_count": 2,
   "metadata": {},
   "outputs": [
    {
     "data": {
      "text/html": [
       "<script type=\"text/javascript\">window.PlotlyConfig = {MathJaxConfig: 'local'};</script><script type=\"text/javascript\">if (window.MathJax) {MathJax.Hub.Config({SVG: {font: \"STIX-Web\"}});}</script><script>requirejs.config({paths: { 'plotly': ['https://cdn.plot.ly/plotly-latest.min']},});if(!window._Plotly) {require(['plotly'],function(plotly) {window._Plotly=plotly;});}</script>"
      ],
      "text/vnd.plotly.v1+html": [
       "<script type=\"text/javascript\">window.PlotlyConfig = {MathJaxConfig: 'local'};</script><script type=\"text/javascript\">if (window.MathJax) {MathJax.Hub.Config({SVG: {font: \"STIX-Web\"}});}</script><script>requirejs.config({paths: { 'plotly': ['https://cdn.plot.ly/plotly-latest.min']},});if(!window._Plotly) {require(['plotly'],function(plotly) {window._Plotly=plotly;});}</script>"
      ]
     },
     "metadata": {},
     "output_type": "display_data"
    }
   ],
   "source": [
    "import plotly.offline as pyo\n",
    "import plotly.graph_objs as go\n",
    "import numpy as np\n",
    "pyo.init_notebook_mode(connected=True)"
   ]
  },
  {
   "cell_type": "code",
   "execution_count": 10,
   "metadata": {},
   "outputs": [
    {
     "data": {
      "text/plain": [
       "array([39, 29, 15,  8, 21, 39])"
      ]
     },
     "execution_count": 10,
     "metadata": {},
     "output_type": "execute_result"
    }
   ],
   "source": [
    "np.random.seed(42)\n",
    "np.random.randint(1,42,6)"
   ]
  },
  {
   "cell_type": "code",
   "execution_count": 11,
   "metadata": {},
   "outputs": [],
   "source": [
    "np.random.seed(42)\n",
    "random_x = np.random.randint(1,101,100)\n",
    "random_y = np.random.randint(1,101,100)"
   ]
  },
  {
   "cell_type": "code",
   "execution_count": null,
   "metadata": {},
   "outputs": [],
   "source": [
    "go."
   ]
  },
  {
   "cell_type": "code",
   "execution_count": 12,
   "metadata": {},
   "outputs": [],
   "source": [
    "data = [\n",
    "    go.Scatter(\n",
    "        x = random_x,\n",
    "        y = random_y,\n",
    "        mode = 'markers',\n",
    "    )\n",
    "]\n"
   ]
  },
  {
   "cell_type": "code",
   "execution_count": 13,
   "metadata": {},
   "outputs": [
    {
     "data": {
      "application/vnd.plotly.v1+json": {
       "data": [
        {
         "mode": "markers",
         "type": "scatter",
         "uid": "d1795704-847c-422f-b931-732994fe56a6",
         "x": [
          52,
          93,
          15,
          72,
          61,
          21,
          83,
          87,
          75,
          75,
          88,
          100,
          24,
          3,
          22,
          53,
          2,
          88,
          30,
          38,
          2,
          64,
          60,
          21,
          33,
          76,
          58,
          22,
          89,
          49,
          91,
          59,
          42,
          92,
          60,
          80,
          15,
          62,
          62,
          47,
          62,
          51,
          55,
          64,
          3,
          51,
          7,
          21,
          73,
          39,
          18,
          4,
          89,
          60,
          14,
          9,
          90,
          53,
          2,
          84,
          92,
          60,
          71,
          44,
          8,
          47,
          35,
          78,
          81,
          36,
          50,
          4,
          2,
          6,
          54,
          4,
          54,
          93,
          63,
          18,
          90,
          44,
          34,
          74,
          62,
          100,
          14,
          95,
          48,
          15,
          72,
          78,
          87,
          62,
          40,
          85,
          80,
          82,
          53,
          24
         ],
         "y": [
          26,
          89,
          60,
          41,
          29,
          15,
          45,
          65,
          89,
          71,
          9,
          88,
          1,
          8,
          88,
          63,
          11,
          81,
          8,
          35,
          35,
          33,
          5,
          41,
          28,
          7,
          73,
          72,
          12,
          34,
          33,
          48,
          23,
          62,
          88,
          37,
          99,
          44,
          86,
          91,
          35,
          65,
          99,
          47,
          78,
          3,
          1,
          5,
          90,
          14,
          27,
          9,
          79,
          15,
          90,
          42,
          77,
          51,
          63,
          96,
          52,
          96,
          4,
          94,
          23,
          15,
          43,
          29,
          36,
          13,
          32,
          71,
          59,
          86,
          28,
          66,
          42,
          45,
          62,
          57,
          6,
          28,
          28,
          44,
          84,
          30,
          62,
          75,
          92,
          89,
          62,
          97,
          1,
          27,
          62,
          77,
          3,
          70,
          72,
          27
         ]
        }
       ],
       "layout": {}
      },
      "text/html": [
       "<div id=\"9b494ad1-576d-46a3-82ba-4f4b6a03d2b1\" style=\"height: 525px; width: 100%;\" class=\"plotly-graph-div\"></div><script type=\"text/javascript\">require([\"plotly\"], function(Plotly) { window.PLOTLYENV=window.PLOTLYENV || {};window.PLOTLYENV.BASE_URL=\"https://plot.ly\";Plotly.newPlot(\"9b494ad1-576d-46a3-82ba-4f4b6a03d2b1\", [{\"mode\": \"markers\", \"x\": [52, 93, 15, 72, 61, 21, 83, 87, 75, 75, 88, 100, 24, 3, 22, 53, 2, 88, 30, 38, 2, 64, 60, 21, 33, 76, 58, 22, 89, 49, 91, 59, 42, 92, 60, 80, 15, 62, 62, 47, 62, 51, 55, 64, 3, 51, 7, 21, 73, 39, 18, 4, 89, 60, 14, 9, 90, 53, 2, 84, 92, 60, 71, 44, 8, 47, 35, 78, 81, 36, 50, 4, 2, 6, 54, 4, 54, 93, 63, 18, 90, 44, 34, 74, 62, 100, 14, 95, 48, 15, 72, 78, 87, 62, 40, 85, 80, 82, 53, 24], \"y\": [26, 89, 60, 41, 29, 15, 45, 65, 89, 71, 9, 88, 1, 8, 88, 63, 11, 81, 8, 35, 35, 33, 5, 41, 28, 7, 73, 72, 12, 34, 33, 48, 23, 62, 88, 37, 99, 44, 86, 91, 35, 65, 99, 47, 78, 3, 1, 5, 90, 14, 27, 9, 79, 15, 90, 42, 77, 51, 63, 96, 52, 96, 4, 94, 23, 15, 43, 29, 36, 13, 32, 71, 59, 86, 28, 66, 42, 45, 62, 57, 6, 28, 28, 44, 84, 30, 62, 75, 92, 89, 62, 97, 1, 27, 62, 77, 3, 70, 72, 27], \"type\": \"scatter\", \"uid\": \"536f525a-ec1f-4508-8736-8beeb0959905\"}], {}, {\"showLink\": true, \"linkText\": \"Export to plot.ly\"})});</script><script type=\"text/javascript\">window.addEventListener(\"resize\", function(){Plotly.Plots.resize(document.getElementById(\"9b494ad1-576d-46a3-82ba-4f4b6a03d2b1\"));});</script>"
      ],
      "text/vnd.plotly.v1+html": [
       "<div id=\"9b494ad1-576d-46a3-82ba-4f4b6a03d2b1\" style=\"height: 525px; width: 100%;\" class=\"plotly-graph-div\"></div><script type=\"text/javascript\">require([\"plotly\"], function(Plotly) { window.PLOTLYENV=window.PLOTLYENV || {};window.PLOTLYENV.BASE_URL=\"https://plot.ly\";Plotly.newPlot(\"9b494ad1-576d-46a3-82ba-4f4b6a03d2b1\", [{\"mode\": \"markers\", \"x\": [52, 93, 15, 72, 61, 21, 83, 87, 75, 75, 88, 100, 24, 3, 22, 53, 2, 88, 30, 38, 2, 64, 60, 21, 33, 76, 58, 22, 89, 49, 91, 59, 42, 92, 60, 80, 15, 62, 62, 47, 62, 51, 55, 64, 3, 51, 7, 21, 73, 39, 18, 4, 89, 60, 14, 9, 90, 53, 2, 84, 92, 60, 71, 44, 8, 47, 35, 78, 81, 36, 50, 4, 2, 6, 54, 4, 54, 93, 63, 18, 90, 44, 34, 74, 62, 100, 14, 95, 48, 15, 72, 78, 87, 62, 40, 85, 80, 82, 53, 24], \"y\": [26, 89, 60, 41, 29, 15, 45, 65, 89, 71, 9, 88, 1, 8, 88, 63, 11, 81, 8, 35, 35, 33, 5, 41, 28, 7, 73, 72, 12, 34, 33, 48, 23, 62, 88, 37, 99, 44, 86, 91, 35, 65, 99, 47, 78, 3, 1, 5, 90, 14, 27, 9, 79, 15, 90, 42, 77, 51, 63, 96, 52, 96, 4, 94, 23, 15, 43, 29, 36, 13, 32, 71, 59, 86, 28, 66, 42, 45, 62, 57, 6, 28, 28, 44, 84, 30, 62, 75, 92, 89, 62, 97, 1, 27, 62, 77, 3, 70, 72, 27], \"type\": \"scatter\", \"uid\": \"536f525a-ec1f-4508-8736-8beeb0959905\"}], {}, {\"showLink\": true, \"linkText\": \"Export to plot.ly\"})});</script><script type=\"text/javascript\">window.addEventListener(\"resize\", function(){Plotly.Plots.resize(document.getElementById(\"9b494ad1-576d-46a3-82ba-4f4b6a03d2b1\"));});</script>"
      ]
     },
     "metadata": {},
     "output_type": "display_data"
    }
   ],
   "source": [
    "pyo.iplot(data, filename='scatter1.html')"
   ]
  },
  {
   "cell_type": "code",
   "execution_count": 14,
   "metadata": {},
   "outputs": [],
   "source": [
    "layout = go.Layout(\n",
    "    title = 'Random Data Scatterplot',\n",
    "    xaxis = dict(title = 'Some random x-values'),\n",
    "    yaxis = dict(title = 'Some random y-values'),\n",
    "    hovermode ='closest' \n",
    ")\n"
   ]
  },
  {
   "cell_type": "code",
   "execution_count": 16,
   "metadata": {},
   "outputs": [
    {
     "data": {
      "application/vnd.plotly.v1+json": {
       "data": [
        {
         "mode": "markers",
         "type": "scatter",
         "uid": "fca99ec9-1a0f-4747-807d-87509c9b33fc",
         "x": [
          52,
          93,
          15,
          72,
          61,
          21,
          83,
          87,
          75,
          75,
          88,
          100,
          24,
          3,
          22,
          53,
          2,
          88,
          30,
          38,
          2,
          64,
          60,
          21,
          33,
          76,
          58,
          22,
          89,
          49,
          91,
          59,
          42,
          92,
          60,
          80,
          15,
          62,
          62,
          47,
          62,
          51,
          55,
          64,
          3,
          51,
          7,
          21,
          73,
          39,
          18,
          4,
          89,
          60,
          14,
          9,
          90,
          53,
          2,
          84,
          92,
          60,
          71,
          44,
          8,
          47,
          35,
          78,
          81,
          36,
          50,
          4,
          2,
          6,
          54,
          4,
          54,
          93,
          63,
          18,
          90,
          44,
          34,
          74,
          62,
          100,
          14,
          95,
          48,
          15,
          72,
          78,
          87,
          62,
          40,
          85,
          80,
          82,
          53,
          24
         ],
         "y": [
          26,
          89,
          60,
          41,
          29,
          15,
          45,
          65,
          89,
          71,
          9,
          88,
          1,
          8,
          88,
          63,
          11,
          81,
          8,
          35,
          35,
          33,
          5,
          41,
          28,
          7,
          73,
          72,
          12,
          34,
          33,
          48,
          23,
          62,
          88,
          37,
          99,
          44,
          86,
          91,
          35,
          65,
          99,
          47,
          78,
          3,
          1,
          5,
          90,
          14,
          27,
          9,
          79,
          15,
          90,
          42,
          77,
          51,
          63,
          96,
          52,
          96,
          4,
          94,
          23,
          15,
          43,
          29,
          36,
          13,
          32,
          71,
          59,
          86,
          28,
          66,
          42,
          45,
          62,
          57,
          6,
          28,
          28,
          44,
          84,
          30,
          62,
          75,
          92,
          89,
          62,
          97,
          1,
          27,
          62,
          77,
          3,
          70,
          72,
          27
         ]
        }
       ],
       "layout": {
        "hovermode": "closest",
        "title": "Random Data Scatterplot",
        "xaxis": {
         "title": "Some random x-values"
        },
        "yaxis": {
         "title": "Some random y-values"
        }
       }
      },
      "text/html": [
       "<div id=\"7aa27730-aff0-4c20-b540-24b7ef26600b\" style=\"height: 525px; width: 100%;\" class=\"plotly-graph-div\"></div><script type=\"text/javascript\">require([\"plotly\"], function(Plotly) { window.PLOTLYENV=window.PLOTLYENV || {};window.PLOTLYENV.BASE_URL=\"https://plot.ly\";Plotly.newPlot(\"7aa27730-aff0-4c20-b540-24b7ef26600b\", [{\"mode\": \"markers\", \"x\": [52, 93, 15, 72, 61, 21, 83, 87, 75, 75, 88, 100, 24, 3, 22, 53, 2, 88, 30, 38, 2, 64, 60, 21, 33, 76, 58, 22, 89, 49, 91, 59, 42, 92, 60, 80, 15, 62, 62, 47, 62, 51, 55, 64, 3, 51, 7, 21, 73, 39, 18, 4, 89, 60, 14, 9, 90, 53, 2, 84, 92, 60, 71, 44, 8, 47, 35, 78, 81, 36, 50, 4, 2, 6, 54, 4, 54, 93, 63, 18, 90, 44, 34, 74, 62, 100, 14, 95, 48, 15, 72, 78, 87, 62, 40, 85, 80, 82, 53, 24], \"y\": [26, 89, 60, 41, 29, 15, 45, 65, 89, 71, 9, 88, 1, 8, 88, 63, 11, 81, 8, 35, 35, 33, 5, 41, 28, 7, 73, 72, 12, 34, 33, 48, 23, 62, 88, 37, 99, 44, 86, 91, 35, 65, 99, 47, 78, 3, 1, 5, 90, 14, 27, 9, 79, 15, 90, 42, 77, 51, 63, 96, 52, 96, 4, 94, 23, 15, 43, 29, 36, 13, 32, 71, 59, 86, 28, 66, 42, 45, 62, 57, 6, 28, 28, 44, 84, 30, 62, 75, 92, 89, 62, 97, 1, 27, 62, 77, 3, 70, 72, 27], \"type\": \"scatter\", \"uid\": \"fca99ec9-1a0f-4747-807d-87509c9b33fc\"}], {\"hovermode\": \"closest\", \"title\": \"Random Data Scatterplot\", \"xaxis\": {\"title\": \"Some random x-values\"}, \"yaxis\": {\"title\": \"Some random y-values\"}}, {\"showLink\": true, \"linkText\": \"Export to plot.ly\"})});</script><script type=\"text/javascript\">window.addEventListener(\"resize\", function(){Plotly.Plots.resize(document.getElementById(\"7aa27730-aff0-4c20-b540-24b7ef26600b\"));});</script>"
      ],
      "text/vnd.plotly.v1+html": [
       "<div id=\"7aa27730-aff0-4c20-b540-24b7ef26600b\" style=\"height: 525px; width: 100%;\" class=\"plotly-graph-div\"></div><script type=\"text/javascript\">require([\"plotly\"], function(Plotly) { window.PLOTLYENV=window.PLOTLYENV || {};window.PLOTLYENV.BASE_URL=\"https://plot.ly\";Plotly.newPlot(\"7aa27730-aff0-4c20-b540-24b7ef26600b\", [{\"mode\": \"markers\", \"x\": [52, 93, 15, 72, 61, 21, 83, 87, 75, 75, 88, 100, 24, 3, 22, 53, 2, 88, 30, 38, 2, 64, 60, 21, 33, 76, 58, 22, 89, 49, 91, 59, 42, 92, 60, 80, 15, 62, 62, 47, 62, 51, 55, 64, 3, 51, 7, 21, 73, 39, 18, 4, 89, 60, 14, 9, 90, 53, 2, 84, 92, 60, 71, 44, 8, 47, 35, 78, 81, 36, 50, 4, 2, 6, 54, 4, 54, 93, 63, 18, 90, 44, 34, 74, 62, 100, 14, 95, 48, 15, 72, 78, 87, 62, 40, 85, 80, 82, 53, 24], \"y\": [26, 89, 60, 41, 29, 15, 45, 65, 89, 71, 9, 88, 1, 8, 88, 63, 11, 81, 8, 35, 35, 33, 5, 41, 28, 7, 73, 72, 12, 34, 33, 48, 23, 62, 88, 37, 99, 44, 86, 91, 35, 65, 99, 47, 78, 3, 1, 5, 90, 14, 27, 9, 79, 15, 90, 42, 77, 51, 63, 96, 52, 96, 4, 94, 23, 15, 43, 29, 36, 13, 32, 71, 59, 86, 28, 66, 42, 45, 62, 57, 6, 28, 28, 44, 84, 30, 62, 75, 92, 89, 62, 97, 1, 27, 62, 77, 3, 70, 72, 27], \"type\": \"scatter\", \"uid\": \"fca99ec9-1a0f-4747-807d-87509c9b33fc\"}], {\"hovermode\": \"closest\", \"title\": \"Random Data Scatterplot\", \"xaxis\": {\"title\": \"Some random x-values\"}, \"yaxis\": {\"title\": \"Some random y-values\"}}, {\"showLink\": true, \"linkText\": \"Export to plot.ly\"})});</script><script type=\"text/javascript\">window.addEventListener(\"resize\", function(){Plotly.Plots.resize(document.getElementById(\"7aa27730-aff0-4c20-b540-24b7ef26600b\"));});</script>"
      ]
     },
     "metadata": {},
     "output_type": "display_data"
    }
   ],
   "source": [
    "fig = go.Figure(data=data, layout=layout)\n",
    "pyo.iplot(fig, filename='scatter2.html')"
   ]
  },
  {
   "cell_type": "code",
   "execution_count": 17,
   "metadata": {},
   "outputs": [],
   "source": [
    "data = [\n",
    "    go.Scatter(\n",
    "        x = random_x,\n",
    "        y = random_y,\n",
    "        mode = 'markers',\n",
    "        marker = dict(      \n",
    "            size = 12,\n",
    "            color = 'rgb(51,204,153)',\n",
    "            symbol = 'pentagon',\n",
    "            line = dict(\n",
    "            width = 2,\n",
    "            )\n",
    "        )\n",
    "    )\n",
    "]\n"
   ]
  },
  {
   "cell_type": "code",
   "execution_count": 24,
   "metadata": {},
   "outputs": [],
   "source": [
    "?pyo.plot\n",
    "?pyo.iplot"
   ]
  },
  {
   "cell_type": "code",
   "execution_count": 25,
   "metadata": {},
   "outputs": [
    {
     "data": {
      "application/vnd.plotly.v1+json": {
       "data": [
        {
         "marker": {
          "color": "rgb(51,204,153)",
          "line": {
           "width": 2
          },
          "size": 12,
          "symbol": "pentagon"
         },
         "mode": "markers",
         "type": "scatter",
         "uid": "20f162e8-d1af-40bc-b0fc-618cf86fd62a",
         "x": [
          52,
          93,
          15,
          72,
          61,
          21,
          83,
          87,
          75,
          75,
          88,
          100,
          24,
          3,
          22,
          53,
          2,
          88,
          30,
          38,
          2,
          64,
          60,
          21,
          33,
          76,
          58,
          22,
          89,
          49,
          91,
          59,
          42,
          92,
          60,
          80,
          15,
          62,
          62,
          47,
          62,
          51,
          55,
          64,
          3,
          51,
          7,
          21,
          73,
          39,
          18,
          4,
          89,
          60,
          14,
          9,
          90,
          53,
          2,
          84,
          92,
          60,
          71,
          44,
          8,
          47,
          35,
          78,
          81,
          36,
          50,
          4,
          2,
          6,
          54,
          4,
          54,
          93,
          63,
          18,
          90,
          44,
          34,
          74,
          62,
          100,
          14,
          95,
          48,
          15,
          72,
          78,
          87,
          62,
          40,
          85,
          80,
          82,
          53,
          24
         ],
         "y": [
          26,
          89,
          60,
          41,
          29,
          15,
          45,
          65,
          89,
          71,
          9,
          88,
          1,
          8,
          88,
          63,
          11,
          81,
          8,
          35,
          35,
          33,
          5,
          41,
          28,
          7,
          73,
          72,
          12,
          34,
          33,
          48,
          23,
          62,
          88,
          37,
          99,
          44,
          86,
          91,
          35,
          65,
          99,
          47,
          78,
          3,
          1,
          5,
          90,
          14,
          27,
          9,
          79,
          15,
          90,
          42,
          77,
          51,
          63,
          96,
          52,
          96,
          4,
          94,
          23,
          15,
          43,
          29,
          36,
          13,
          32,
          71,
          59,
          86,
          28,
          66,
          42,
          45,
          62,
          57,
          6,
          28,
          28,
          44,
          84,
          30,
          62,
          75,
          92,
          89,
          62,
          97,
          1,
          27,
          62,
          77,
          3,
          70,
          72,
          27
         ]
        }
       ],
       "layout": {
        "hovermode": "closest",
        "title": "Random Data Scatterplot",
        "xaxis": {
         "title": "Some random x-values"
        },
        "yaxis": {
         "title": "Some random y-values"
        }
       }
      },
      "text/html": [
       "<div id=\"b12489b8-48be-4465-979c-eba06682f391\" style=\"height: 525px; width: 100%;\" class=\"plotly-graph-div\"></div><script type=\"text/javascript\">require([\"plotly\"], function(Plotly) { window.PLOTLYENV=window.PLOTLYENV || {};window.PLOTLYENV.BASE_URL=\"https://plot.ly\";Plotly.newPlot(\"b12489b8-48be-4465-979c-eba06682f391\", [{\"marker\": {\"color\": \"rgb(51,204,153)\", \"line\": {\"width\": 2}, \"size\": 12, \"symbol\": \"pentagon\"}, \"mode\": \"markers\", \"x\": [52, 93, 15, 72, 61, 21, 83, 87, 75, 75, 88, 100, 24, 3, 22, 53, 2, 88, 30, 38, 2, 64, 60, 21, 33, 76, 58, 22, 89, 49, 91, 59, 42, 92, 60, 80, 15, 62, 62, 47, 62, 51, 55, 64, 3, 51, 7, 21, 73, 39, 18, 4, 89, 60, 14, 9, 90, 53, 2, 84, 92, 60, 71, 44, 8, 47, 35, 78, 81, 36, 50, 4, 2, 6, 54, 4, 54, 93, 63, 18, 90, 44, 34, 74, 62, 100, 14, 95, 48, 15, 72, 78, 87, 62, 40, 85, 80, 82, 53, 24], \"y\": [26, 89, 60, 41, 29, 15, 45, 65, 89, 71, 9, 88, 1, 8, 88, 63, 11, 81, 8, 35, 35, 33, 5, 41, 28, 7, 73, 72, 12, 34, 33, 48, 23, 62, 88, 37, 99, 44, 86, 91, 35, 65, 99, 47, 78, 3, 1, 5, 90, 14, 27, 9, 79, 15, 90, 42, 77, 51, 63, 96, 52, 96, 4, 94, 23, 15, 43, 29, 36, 13, 32, 71, 59, 86, 28, 66, 42, 45, 62, 57, 6, 28, 28, 44, 84, 30, 62, 75, 92, 89, 62, 97, 1, 27, 62, 77, 3, 70, 72, 27], \"type\": \"scatter\", \"uid\": \"20f162e8-d1af-40bc-b0fc-618cf86fd62a\"}], {\"hovermode\": \"closest\", \"title\": \"Random Data Scatterplot\", \"xaxis\": {\"title\": \"Some random x-values\"}, \"yaxis\": {\"title\": \"Some random y-values\"}}, {\"showLink\": true, \"linkText\": \"Export to plot.ly\"})});</script><script type=\"text/javascript\">window.addEventListener(\"resize\", function(){Plotly.Plots.resize(document.getElementById(\"b12489b8-48be-4465-979c-eba06682f391\"));});</script>"
      ],
      "text/vnd.plotly.v1+html": [
       "<div id=\"b12489b8-48be-4465-979c-eba06682f391\" style=\"height: 525px; width: 100%;\" class=\"plotly-graph-div\"></div><script type=\"text/javascript\">require([\"plotly\"], function(Plotly) { window.PLOTLYENV=window.PLOTLYENV || {};window.PLOTLYENV.BASE_URL=\"https://plot.ly\";Plotly.newPlot(\"b12489b8-48be-4465-979c-eba06682f391\", [{\"marker\": {\"color\": \"rgb(51,204,153)\", \"line\": {\"width\": 2}, \"size\": 12, \"symbol\": \"pentagon\"}, \"mode\": \"markers\", \"x\": [52, 93, 15, 72, 61, 21, 83, 87, 75, 75, 88, 100, 24, 3, 22, 53, 2, 88, 30, 38, 2, 64, 60, 21, 33, 76, 58, 22, 89, 49, 91, 59, 42, 92, 60, 80, 15, 62, 62, 47, 62, 51, 55, 64, 3, 51, 7, 21, 73, 39, 18, 4, 89, 60, 14, 9, 90, 53, 2, 84, 92, 60, 71, 44, 8, 47, 35, 78, 81, 36, 50, 4, 2, 6, 54, 4, 54, 93, 63, 18, 90, 44, 34, 74, 62, 100, 14, 95, 48, 15, 72, 78, 87, 62, 40, 85, 80, 82, 53, 24], \"y\": [26, 89, 60, 41, 29, 15, 45, 65, 89, 71, 9, 88, 1, 8, 88, 63, 11, 81, 8, 35, 35, 33, 5, 41, 28, 7, 73, 72, 12, 34, 33, 48, 23, 62, 88, 37, 99, 44, 86, 91, 35, 65, 99, 47, 78, 3, 1, 5, 90, 14, 27, 9, 79, 15, 90, 42, 77, 51, 63, 96, 52, 96, 4, 94, 23, 15, 43, 29, 36, 13, 32, 71, 59, 86, 28, 66, 42, 45, 62, 57, 6, 28, 28, 44, 84, 30, 62, 75, 92, 89, 62, 97, 1, 27, 62, 77, 3, 70, 72, 27], \"type\": \"scatter\", \"uid\": \"20f162e8-d1af-40bc-b0fc-618cf86fd62a\"}], {\"hovermode\": \"closest\", \"title\": \"Random Data Scatterplot\", \"xaxis\": {\"title\": \"Some random x-values\"}, \"yaxis\": {\"title\": \"Some random y-values\"}}, {\"showLink\": true, \"linkText\": \"Export to plot.ly\"})});</script><script type=\"text/javascript\">window.addEventListener(\"resize\", function(){Plotly.Plots.resize(document.getElementById(\"b12489b8-48be-4465-979c-eba06682f391\"));});</script>"
      ]
     },
     "metadata": {},
     "output_type": "display_data"
    }
   ],
   "source": [
    "fig = go.Figure(data=data, layout=layout)\n",
    "pyo.iplot(fig, filename='scatter3.html')"
   ]
  },
  {
   "cell_type": "markdown",
   "metadata": {},
   "source": [
    "## Line Plot"
   ]
  },
  {
   "cell_type": "code",
   "execution_count": 26,
   "metadata": {},
   "outputs": [],
   "source": [
    "import pandas as pd\n",
    "df = pd.DataFrame(np.random.randn(100,4),columns='A B C D'.split())"
   ]
  },
  {
   "cell_type": "code",
   "execution_count": 29,
   "metadata": {},
   "outputs": [],
   "source": [
    "data = []\n",
    "for col in df.columns:\n",
    "    data.append({'x':df.index, 'y':df[col], 'name':col})"
   ]
  },
  {
   "cell_type": "code",
   "execution_count": 30,
   "metadata": {},
   "outputs": [
    {
     "data": {
      "application/vnd.plotly.v1+json": {
       "data": [
        {
         "name": "A",
         "type": "scatter",
         "uid": "9b10edc0-1b49-42bc-8f05-549c7869a015",
         "x": [
          0,
          1,
          2,
          3,
          4,
          5,
          6,
          7,
          8,
          9,
          10,
          11,
          12,
          13,
          14,
          15,
          16,
          17,
          18,
          19,
          20,
          21,
          22,
          23,
          24,
          25,
          26,
          27,
          28,
          29,
          30,
          31,
          32,
          33,
          34,
          35,
          36,
          37,
          38,
          39,
          40,
          41,
          42,
          43,
          44,
          45,
          46,
          47,
          48,
          49,
          50,
          51,
          52,
          53,
          54,
          55,
          56,
          57,
          58,
          59,
          60,
          61,
          62,
          63,
          64,
          65,
          66,
          67,
          68,
          69,
          70,
          71,
          72,
          73,
          74,
          75,
          76,
          77,
          78,
          79,
          80,
          81,
          82,
          83,
          84,
          85,
          86,
          87,
          88,
          89,
          90,
          91,
          92,
          93,
          94,
          95,
          96,
          97,
          98,
          99
         ],
         "y": [
          -1.4153707420504142,
          -0.16128571166600914,
          0.25755039072276437,
          0.06023020994102644,
          -0.03471176970524331,
          0.7910319470430469,
          0.5868570938002703,
          0.09965136508764122,
          -1.0623037137261049,
          -0.7832532923362371,
          0.22745993460412942,
          0.25988279424842353,
          0.5219415656168976,
          -0.6800247215784908,
          1.8657745111447566,
          -0.9746816702273214,
          0.9633761292443218,
          -0.2453881160028705,
          -0.0771017094141042,
          0.01300189187790702,
          0.6256673477650062,
          -0.2234627853258509,
          -0.846793718068405,
          0.21409374413020396,
          -0.883857436201133,
          0.3577873603482833,
          -1.377669367957091,
          0.5150476863060479,
          0.9540017634932023,
          -0.7728252145375718,
          2.3146585666735087,
          -0.47193186578943347,
          -0.7153037092599682,
          0.045571839903813784,
          -2.025142586657607,
          -0.7925207384327007,
          -1.2002964070557762,
          1.7654542402810969,
          2.1221561970126332,
          1.2669111491866227,
          -0.926930471578083,
          -0.2525681513931603,
          -0.44004448669698376,
          1.1631637521549596,
          0.19905969557347003,
          0.11351734525124804,
          2.1330333746562666,
          0.28099186773503265,
          -0.5893647569442115,
          0.8995998754332507,
          -0.8289950109220723,
          -0.020901593964148132,
          0.5470973811700379,
          0.8254163489880298,
          0.6819529712949639,
          0.09699596499271819,
          -1.006017381499702,
          0.6241198170521551,
          0.07580455819372633,
          -0.8254971967925115,
          -0.8222203955664315,
          -0.4710383056183228,
          -0.718444221252436,
          0.8576596232020194,
          -0.01851313599238993,
          0.5193465142411723,
          0.6901439917111125,
          0.09767609854883172,
          1.4511436077950417,
          0.8723206367206782,
          -0.8397218421807761,
          -0.759132661553698,
          0.9504238381860503,
          -1.3202332070206422,
          -1.7131345290908775,
          -1.594427658794367,
          -0.45006547147924364,
          0.12029563171189886,
          -1.5341141707356223,
          1.551151975522523,
          2.060747924881987,
          0.6453759495851475,
          1.0584244868495878,
          -0.26940683444455776,
          1.6286155455712918,
          0.3840654489393073,
          -1.3044695005048532,
          -0.5138669173366935,
          -0.9857260463355437,
          -0.10703035995455783,
          1.9647251329163893,
          -0.11232804969082982,
          -0.5305011476105275,
          -1.5151910621985523,
          0.5765569630557664,
          -0.12791759148076653,
          -0.7563507452843033,
          1.6871416350725648,
          0.0773683076476183,
          -1.0372461543264564
         ]
        },
        {
         "name": "B",
         "type": "scatter",
         "uid": "a112ea26-0e75-4dfa-8e1c-a2c8978f867b",
         "x": [
          0,
          1,
          2,
          3,
          4,
          5,
          6,
          7,
          8,
          9,
          10,
          11,
          12,
          13,
          14,
          15,
          16,
          17,
          18,
          19,
          20,
          21,
          22,
          23,
          24,
          25,
          26,
          27,
          28,
          29,
          30,
          31,
          32,
          33,
          34,
          35,
          36,
          37,
          38,
          39,
          40,
          41,
          42,
          43,
          44,
          45,
          46,
          47,
          48,
          49,
          50,
          51,
          52,
          53,
          54,
          55,
          56,
          57,
          58,
          59,
          60,
          61,
          62,
          63,
          64,
          65,
          66,
          67,
          68,
          69,
          70,
          71,
          72,
          73,
          74,
          75,
          76,
          77,
          78,
          79,
          80,
          81,
          82,
          83,
          84,
          85,
          86,
          87,
          88,
          89,
          90,
          91,
          92,
          93,
          94,
          95,
          96,
          97,
          98,
          99
         ],
         "y": [
          -0.42064532276535904,
          0.4040508568145384,
          -0.07444591576616721,
          2.463242112485286,
          -1.168678037619532,
          -0.9093874547947389,
          2.1904556258099785,
          -0.5034756541161992,
          0.4735924306351816,
          -0.3220615162056756,
          1.307142754282428,
          0.7818228717773104,
          0.29698467323318606,
          0.23225369716100355,
          0.4738329209117875,
          0.787084603742452,
          0.4127809269364983,
          -0.7537361643574896,
          0.3411519748166439,
          1.4535340771573169,
          -0.8571575564162826,
          0.714000494092092,
          -1.5148472246858646,
          -1.245738778711988,
          0.1537251059455279,
          0.5607845263682344,
          -0.9378250399151228,
          3.852731490654721,
          0.651391251305798,
          -0.23681860674000887,
          -1.867265192591748,
          1.088950596967366,
          0.6795977489346758,
          -0.6516003476058171,
          0.18645431476942764,
          -0.11473644146689901,
          -0.3345012358409484,
          0.40498171096095553,
          1.0324652605511468,
          -0.7076694656187807,
          -0.05952535606180008,
          -1.2477831819648495,
          0.13074057728609134,
          0.010233061019587049,
          -0.6002168771587947,
          0.6621306745210467,
          -1.9520877995225019,
          -0.6226995198205938,
          0.8496020970210246,
          0.30729952087660933,
          -0.5601810401969696,
          0.117327383308782,
          -0.20219265243389406,
          0.8135096360006385,
          -0.31026675659345604,
          0.5951570254369136,
          -1.2141886127877322,
          0.6283455092642799,
          -0.6771617115121117,
          -0.32138584165299344,
          0.2436872114919123,
          0.2320499373576363,
          -0.21344715171184725,
          -0.1599385299634271,
          -0.2886586389201383,
          1.5327389130025777,
          -0.40122047188583626,
          -0.7730097838554665,
          0.9592708260852069,
          0.18334200573835174,
          -0.5993926454440222,
          0.15039378647620763,
          -0.5769036556624031,
          1.8314587658543537,
          1.3538723741654128,
          -0.5993750229537729,
          0.6228499323474987,
          0.514438834058749,
          1.277676821898509,
          0.11567463429285867,
          1.7553408424432044,
          1.3686315575323487,
          -1.7587394864231143,
          0.7175422557959623,
          -1.3801014582148914,
          -0.03269474809409311,
          0.6696725488300385,
          -1.0592135218889516,
          0.5040465155178444,
          -1.035242322419374,
          0.03526355197172861,
          -0.22096959953322298,
          -0.57581824064468,
          1.3668742674445247,
          0.3112501545435361,
          -0.9555404406004258,
          -1.4222537095976742,
          0.8816397569494505,
          -0.8612842013282637,
          -0.1903386780836082
         ]
        },
        {
         "name": "C",
         "type": "scatter",
         "uid": "4051fc1e-6c9f-4176-a027-adabf08e8b8c",
         "x": [
          0,
          1,
          2,
          3,
          4,
          5,
          6,
          7,
          8,
          9,
          10,
          11,
          12,
          13,
          14,
          15,
          16,
          17,
          18,
          19,
          20,
          21,
          22,
          23,
          24,
          25,
          26,
          27,
          28,
          29,
          30,
          31,
          32,
          33,
          34,
          35,
          36,
          37,
          38,
          39,
          40,
          41,
          42,
          43,
          44,
          45,
          46,
          47,
          48,
          49,
          50,
          51,
          52,
          53,
          54,
          55,
          56,
          57,
          58,
          59,
          60,
          61,
          62,
          63,
          64,
          65,
          66,
          67,
          68,
          69,
          70,
          71,
          72,
          73,
          74,
          75,
          76,
          77,
          78,
          79,
          80,
          81,
          82,
          83,
          84,
          85,
          86,
          87,
          88,
          89,
          90,
          91,
          92,
          93,
          94,
          95,
          96,
          97,
          98,
          99
         ],
         "y": [
          -0.3427145165267695,
          1.8861859012105302,
          -1.9187712152990415,
          -0.19236096478112252,
          1.1428228145150205,
          1.4027943109360992,
          -0.9905363251306883,
          -1.5506634310661327,
          -0.9194242342338032,
          0.8135172173696698,
          -1.6074832345612275,
          -1.236950710878082,
          0.25049285034587654,
          0.29307247329868125,
          -1.1913034972026486,
          1.158595579007404,
          0.82206015999449,
          -0.8895144296255233,
          0.27669079933001905,
          -0.2646568332379561,
          -1.0708924980611123,
          0.47323762457354485,
          -0.4465149520670211,
          0.173180925851182,
          0.058208718445999896,
          1.083051243175277,
          0.5150352672086598,
          0.570890510693167,
          -0.3152692446403456,
          -0.48536354782910346,
          0.6862601903745135,
          0.06428001909546277,
          -0.7303666317171367,
          2.1439440893253257,
          -0.661786464768388,
          0.5049872789804571,
          -0.4749453111609562,
          -1.2608839543350452,
          -1.5193699659540134,
          0.44381942814622843,
          -3.2412673400690726,
          1.6324113039316352,
          1.4412732890661155,
          -0.9815086510479509,
          0.06980208499001891,
          1.586016816145352,
          -0.15178509503558332,
          -0.20812225035727522,
          0.35701548596504734,
          0.8128621188389601,
          0.7472936051232618,
          1.277664895788425,
          -0.2176812032272203,
          1.305478807154329,
          0.3241663524884421,
          -0.8182206832334725,
          1.1581108735000678,
          -0.012246772846914623,
          0.9751197334177512,
          0.41293145427562433,
          0.24496657110872277,
          -1.4480843414973241,
          0.3109075655980046,
          -0.01901620790268883,
          0.3227185603380895,
          -0.1087601484568576,
          0.22409248181041677,
          0.024510174258942714,
          2.1531824575115563,
          2.1898029332176723,
          -2.123895724309807,
          0.34175597577715944,
          -0.898414671348358,
          1.179440120721287,
          -0.11453984525261789,
          0.005243699718183166,
          -1.0676204293825944,
          0.7116148780888898,
          0.33231401197959165,
          1.1792971840638264,
          -0.2489641484790735,
          -0.9649234605801045,
          -1.183258512665775,
          1.502357052096028,
          -1.7033824393551547,
          -2.0674421000398766,
          0.36659824609684827,
          -0.06267909727317188,
          -0.5302576183724408,
          -0.553649305347182,
          -0.6997255079925856,
          0.6141667000434252,
          -0.275051697151644,
          1.6449677135012837,
          3.0788808084552377,
          -1.6064463202575725,
          -0.6465728842425266,
          -0.007972641316617372,
          1.5231240772696573,
          -0.8756182533847572
         ]
        },
        {
         "name": "D",
         "type": "scatter",
         "uid": "e41e6e40-4dd5-42e0-80bd-a58b610d6083",
         "x": [
          0,
          1,
          2,
          3,
          4,
          5,
          6,
          7,
          8,
          9,
          10,
          11,
          12,
          13,
          14,
          15,
          16,
          17,
          18,
          19,
          20,
          21,
          22,
          23,
          24,
          25,
          26,
          27,
          28,
          29,
          30,
          31,
          32,
          33,
          34,
          35,
          36,
          37,
          38,
          39,
          40,
          41,
          42,
          43,
          44,
          45,
          46,
          47,
          48,
          49,
          50,
          51,
          52,
          53,
          54,
          55,
          56,
          57,
          58,
          59,
          60,
          61,
          62,
          63,
          64,
          65,
          66,
          67,
          68,
          69,
          70,
          71,
          72,
          73,
          74,
          75,
          76,
          77,
          78,
          79,
          80,
          81,
          82,
          83,
          84,
          85,
          86,
          87,
          88,
          89,
          90,
          91,
          92,
          93,
          94,
          95,
          96,
          97,
          98,
          99
         ],
         "y": [
          -0.8022772692216189,
          0.17457781283183896,
          -0.026513875449216878,
          0.30154734233361247,
          0.7519330326867741,
          -1.4018510627922809,
          -0.5662977296027719,
          0.06856297480602733,
          1.5499344050175394,
          -1.2308643164339552,
          0.1846338585323042,
          -1.3204566130842763,
          0.3464482094969757,
          -0.7143514180263678,
          0.6565536086338297,
          -0.8206823183517105,
          1.8967929826539474,
          -0.8158102849654383,
          0.8271832490360238,
          2.720169166589619,
          0.4824724152431853,
          -0.07282891265687277,
          0.8563987943234723,
          0.3853173797288368,
          -1.142970297830623,
          1.053802052034903,
          0.5137859509122088,
          1.135565640180599,
          0.7589692204932674,
          0.08187413938632256,
          -1.6127158711896517,
          -1.0777447779293061,
          0.21645858958197486,
          0.6339190223180112,
          0.852433334796224,
          0.8657551941701215,
          -0.6533292325737119,
          0.9178619470547761,
          -0.48423407286625136,
          0.7746340534293368,
          -1.0243876413342898,
          -1.4301413779606327,
          -1.4358621511794394,
          0.46210347426327075,
          -0.3853135968617602,
          -1.237815498826849,
          0.5883172064845765,
          -0.4930009346588328,
          -0.6929095952606542,
          0.6296288419236122,
          0.6103702654334648,
          -0.5915713888358299,
          1.09877685198719,
          0.02100384163275905,
          -0.13014305436768459,
          2.0923872756854602,
          0.7916626939629359,
          -0.8972543714858315,
          -0.14705738150213865,
          -0.5637245528039747,
          -0.5069431753711298,
          -1.4074637743765552,
          1.475356216949552,
          -1.0025293646378088,
          -0.827230943552323,
          0.40171172209894146,
          0.01259240078179486,
          0.49799829124544975,
          -0.7673475628880495,
          -0.8082982853551515,
          -0.525755021680761,
          1.8761708392158862,
          0.4919191715065057,
          -0.4691756521047048,
          1.2378163119734618,
          0.046980593764742055,
          -0.1423794850212935,
          -1.1246420918378692,
          -0.7484865365565536,
          0.06751848141010895,
          0.9715709509543554,
          0.6860514599984393,
          -2.0392321777601006,
          0.07409478041977519,
          -0.05554769889661878,
          -0.08912003951278841,
          -0.9398797863273552,
          0.9551423205012383,
          -0.7928728322623442,
          -1.1978778925888485,
          0.213979910734222,
          0.7575077100473051,
          -2.301921164735585,
          -0.24903603955637832,
          1.1195749114345768,
          0.2034636358672231,
          -1.081548003614395,
          1.4799441388900259,
          0.5389100436846587,
          -1.382799730964336
         ]
        }
       ],
       "layout": {}
      },
      "text/html": [
       "<div id=\"b0de4fd7-5a42-4243-b898-214319f60082\" style=\"height: 525px; width: 100%;\" class=\"plotly-graph-div\"></div><script type=\"text/javascript\">require([\"plotly\"], function(Plotly) { window.PLOTLYENV=window.PLOTLYENV || {};window.PLOTLYENV.BASE_URL=\"https://plot.ly\";Plotly.newPlot(\"b0de4fd7-5a42-4243-b898-214319f60082\", [{\"name\": \"A\", \"x\": [0, 1, 2, 3, 4, 5, 6, 7, 8, 9, 10, 11, 12, 13, 14, 15, 16, 17, 18, 19, 20, 21, 22, 23, 24, 25, 26, 27, 28, 29, 30, 31, 32, 33, 34, 35, 36, 37, 38, 39, 40, 41, 42, 43, 44, 45, 46, 47, 48, 49, 50, 51, 52, 53, 54, 55, 56, 57, 58, 59, 60, 61, 62, 63, 64, 65, 66, 67, 68, 69, 70, 71, 72, 73, 74, 75, 76, 77, 78, 79, 80, 81, 82, 83, 84, 85, 86, 87, 88, 89, 90, 91, 92, 93, 94, 95, 96, 97, 98, 99], \"y\": [-1.4153707420504142, -0.16128571166600914, 0.25755039072276437, 0.06023020994102644, -0.03471176970524331, 0.7910319470430469, 0.5868570938002703, 0.09965136508764122, -1.0623037137261049, -0.7832532923362371, 0.22745993460412942, 0.25988279424842353, 0.5219415656168976, -0.6800247215784908, 1.8657745111447566, -0.9746816702273214, 0.9633761292443218, -0.2453881160028705, -0.0771017094141042, 0.01300189187790702, 0.6256673477650062, -0.2234627853258509, -0.846793718068405, 0.21409374413020396, -0.883857436201133, 0.3577873603482833, -1.377669367957091, 0.5150476863060479, 0.9540017634932023, -0.7728252145375718, 2.3146585666735087, -0.47193186578943347, -0.7153037092599682, 0.045571839903813784, -2.025142586657607, -0.7925207384327007, -1.2002964070557762, 1.7654542402810969, 2.1221561970126332, 1.2669111491866227, -0.926930471578083, -0.2525681513931603, -0.44004448669698376, 1.1631637521549596, 0.19905969557347003, 0.11351734525124804, 2.1330333746562666, 0.28099186773503265, -0.5893647569442115, 0.8995998754332507, -0.8289950109220723, -0.020901593964148132, 0.5470973811700379, 0.8254163489880298, 0.6819529712949639, 0.09699596499271819, -1.006017381499702, 0.6241198170521551, 0.07580455819372633, -0.8254971967925115, -0.8222203955664315, -0.4710383056183228, -0.718444221252436, 0.8576596232020194, -0.01851313599238993, 0.5193465142411723, 0.6901439917111125, 0.09767609854883172, 1.4511436077950417, 0.8723206367206782, -0.8397218421807761, -0.759132661553698, 0.9504238381860503, -1.3202332070206422, -1.7131345290908775, -1.594427658794367, -0.45006547147924364, 0.12029563171189886, -1.5341141707356223, 1.551151975522523, 2.060747924881987, 0.6453759495851475, 1.0584244868495878, -0.26940683444455776, 1.6286155455712918, 0.3840654489393073, -1.3044695005048532, -0.5138669173366935, -0.9857260463355437, -0.10703035995455783, 1.9647251329163893, -0.11232804969082982, -0.5305011476105275, -1.5151910621985523, 0.5765569630557664, -0.12791759148076653, -0.7563507452843033, 1.6871416350725648, 0.0773683076476183, -1.0372461543264564], \"type\": \"scatter\", \"uid\": \"e2a4d003-0c87-490d-ac37-1bdcf75ae911\"}, {\"name\": \"B\", \"x\": [0, 1, 2, 3, 4, 5, 6, 7, 8, 9, 10, 11, 12, 13, 14, 15, 16, 17, 18, 19, 20, 21, 22, 23, 24, 25, 26, 27, 28, 29, 30, 31, 32, 33, 34, 35, 36, 37, 38, 39, 40, 41, 42, 43, 44, 45, 46, 47, 48, 49, 50, 51, 52, 53, 54, 55, 56, 57, 58, 59, 60, 61, 62, 63, 64, 65, 66, 67, 68, 69, 70, 71, 72, 73, 74, 75, 76, 77, 78, 79, 80, 81, 82, 83, 84, 85, 86, 87, 88, 89, 90, 91, 92, 93, 94, 95, 96, 97, 98, 99], \"y\": [-0.42064532276535904, 0.4040508568145384, -0.07444591576616721, 2.463242112485286, -1.168678037619532, -0.9093874547947389, 2.1904556258099785, -0.5034756541161992, 0.4735924306351816, -0.3220615162056756, 1.307142754282428, 0.7818228717773104, 0.29698467323318606, 0.23225369716100355, 0.4738329209117875, 0.787084603742452, 0.4127809269364983, -0.7537361643574896, 0.3411519748166439, 1.4535340771573169, -0.8571575564162826, 0.714000494092092, -1.5148472246858646, -1.245738778711988, 0.1537251059455279, 0.5607845263682344, -0.9378250399151228, 3.852731490654721, 0.651391251305798, -0.23681860674000887, -1.867265192591748, 1.088950596967366, 0.6795977489346758, -0.6516003476058171, 0.18645431476942764, -0.11473644146689901, -0.3345012358409484, 0.40498171096095553, 1.0324652605511468, -0.7076694656187807, -0.05952535606180008, -1.2477831819648495, 0.13074057728609134, 0.010233061019587049, -0.6002168771587947, 0.6621306745210467, -1.9520877995225019, -0.6226995198205938, 0.8496020970210246, 0.30729952087660933, -0.5601810401969696, 0.117327383308782, -0.20219265243389406, 0.8135096360006385, -0.31026675659345604, 0.5951570254369136, -1.2141886127877322, 0.6283455092642799, -0.6771617115121117, -0.32138584165299344, 0.2436872114919123, 0.2320499373576363, -0.21344715171184725, -0.1599385299634271, -0.2886586389201383, 1.5327389130025777, -0.40122047188583626, -0.7730097838554665, 0.9592708260852069, 0.18334200573835174, -0.5993926454440222, 0.15039378647620763, -0.5769036556624031, 1.8314587658543537, 1.3538723741654128, -0.5993750229537729, 0.6228499323474987, 0.514438834058749, 1.277676821898509, 0.11567463429285867, 1.7553408424432044, 1.3686315575323487, -1.7587394864231143, 0.7175422557959623, -1.3801014582148914, -0.03269474809409311, 0.6696725488300385, -1.0592135218889516, 0.5040465155178444, -1.035242322419374, 0.03526355197172861, -0.22096959953322298, -0.57581824064468, 1.3668742674445247, 0.3112501545435361, -0.9555404406004258, -1.4222537095976742, 0.8816397569494505, -0.8612842013282637, -0.1903386780836082], \"type\": \"scatter\", \"uid\": \"2b4ff341-aae2-4cde-a10c-e93059312cb1\"}, {\"name\": \"C\", \"x\": [0, 1, 2, 3, 4, 5, 6, 7, 8, 9, 10, 11, 12, 13, 14, 15, 16, 17, 18, 19, 20, 21, 22, 23, 24, 25, 26, 27, 28, 29, 30, 31, 32, 33, 34, 35, 36, 37, 38, 39, 40, 41, 42, 43, 44, 45, 46, 47, 48, 49, 50, 51, 52, 53, 54, 55, 56, 57, 58, 59, 60, 61, 62, 63, 64, 65, 66, 67, 68, 69, 70, 71, 72, 73, 74, 75, 76, 77, 78, 79, 80, 81, 82, 83, 84, 85, 86, 87, 88, 89, 90, 91, 92, 93, 94, 95, 96, 97, 98, 99], \"y\": [-0.3427145165267695, 1.8861859012105302, -1.9187712152990415, -0.19236096478112252, 1.1428228145150205, 1.4027943109360992, -0.9905363251306883, -1.5506634310661327, -0.9194242342338032, 0.8135172173696698, -1.6074832345612275, -1.236950710878082, 0.25049285034587654, 0.29307247329868125, -1.1913034972026486, 1.158595579007404, 0.82206015999449, -0.8895144296255233, 0.27669079933001905, -0.2646568332379561, -1.0708924980611123, 0.47323762457354485, -0.4465149520670211, 0.173180925851182, 0.058208718445999896, 1.083051243175277, 0.5150352672086598, 0.570890510693167, -0.3152692446403456, -0.48536354782910346, 0.6862601903745135, 0.06428001909546277, -0.7303666317171367, 2.1439440893253257, -0.661786464768388, 0.5049872789804571, -0.4749453111609562, -1.2608839543350452, -1.5193699659540134, 0.44381942814622843, -3.2412673400690726, 1.6324113039316352, 1.4412732890661155, -0.9815086510479509, 0.06980208499001891, 1.586016816145352, -0.15178509503558332, -0.20812225035727522, 0.35701548596504734, 0.8128621188389601, 0.7472936051232618, 1.277664895788425, -0.2176812032272203, 1.305478807154329, 0.3241663524884421, -0.8182206832334725, 1.1581108735000678, -0.012246772846914623, 0.9751197334177512, 0.41293145427562433, 0.24496657110872277, -1.4480843414973241, 0.3109075655980046, -0.01901620790268883, 0.3227185603380895, -0.1087601484568576, 0.22409248181041677, 0.024510174258942714, 2.1531824575115563, 2.1898029332176723, -2.123895724309807, 0.34175597577715944, -0.898414671348358, 1.179440120721287, -0.11453984525261789, 0.005243699718183166, -1.0676204293825944, 0.7116148780888898, 0.33231401197959165, 1.1792971840638264, -0.2489641484790735, -0.9649234605801045, -1.183258512665775, 1.502357052096028, -1.7033824393551547, -2.0674421000398766, 0.36659824609684827, -0.06267909727317188, -0.5302576183724408, -0.553649305347182, -0.6997255079925856, 0.6141667000434252, -0.275051697151644, 1.6449677135012837, 3.0788808084552377, -1.6064463202575725, -0.6465728842425266, -0.007972641316617372, 1.5231240772696573, -0.8756182533847572], \"type\": \"scatter\", \"uid\": \"0e7d8af8-ab45-4a6c-bd70-17289a178663\"}, {\"name\": \"D\", \"x\": [0, 1, 2, 3, 4, 5, 6, 7, 8, 9, 10, 11, 12, 13, 14, 15, 16, 17, 18, 19, 20, 21, 22, 23, 24, 25, 26, 27, 28, 29, 30, 31, 32, 33, 34, 35, 36, 37, 38, 39, 40, 41, 42, 43, 44, 45, 46, 47, 48, 49, 50, 51, 52, 53, 54, 55, 56, 57, 58, 59, 60, 61, 62, 63, 64, 65, 66, 67, 68, 69, 70, 71, 72, 73, 74, 75, 76, 77, 78, 79, 80, 81, 82, 83, 84, 85, 86, 87, 88, 89, 90, 91, 92, 93, 94, 95, 96, 97, 98, 99], \"y\": [-0.8022772692216189, 0.17457781283183896, -0.026513875449216878, 0.30154734233361247, 0.7519330326867741, -1.4018510627922809, -0.5662977296027719, 0.06856297480602733, 1.5499344050175394, -1.2308643164339552, 0.1846338585323042, -1.3204566130842763, 0.3464482094969757, -0.7143514180263678, 0.6565536086338297, -0.8206823183517105, 1.8967929826539474, -0.8158102849654383, 0.8271832490360238, 2.720169166589619, 0.4824724152431853, -0.07282891265687277, 0.8563987943234723, 0.3853173797288368, -1.142970297830623, 1.053802052034903, 0.5137859509122088, 1.135565640180599, 0.7589692204932674, 0.08187413938632256, -1.6127158711896517, -1.0777447779293061, 0.21645858958197486, 0.6339190223180112, 0.852433334796224, 0.8657551941701215, -0.6533292325737119, 0.9178619470547761, -0.48423407286625136, 0.7746340534293368, -1.0243876413342898, -1.4301413779606327, -1.4358621511794394, 0.46210347426327075, -0.3853135968617602, -1.237815498826849, 0.5883172064845765, -0.4930009346588328, -0.6929095952606542, 0.6296288419236122, 0.6103702654334648, -0.5915713888358299, 1.09877685198719, 0.02100384163275905, -0.13014305436768459, 2.0923872756854602, 0.7916626939629359, -0.8972543714858315, -0.14705738150213865, -0.5637245528039747, -0.5069431753711298, -1.4074637743765552, 1.475356216949552, -1.0025293646378088, -0.827230943552323, 0.40171172209894146, 0.01259240078179486, 0.49799829124544975, -0.7673475628880495, -0.8082982853551515, -0.525755021680761, 1.8761708392158862, 0.4919191715065057, -0.4691756521047048, 1.2378163119734618, 0.046980593764742055, -0.1423794850212935, -1.1246420918378692, -0.7484865365565536, 0.06751848141010895, 0.9715709509543554, 0.6860514599984393, -2.0392321777601006, 0.07409478041977519, -0.05554769889661878, -0.08912003951278841, -0.9398797863273552, 0.9551423205012383, -0.7928728322623442, -1.1978778925888485, 0.213979910734222, 0.7575077100473051, -2.301921164735585, -0.24903603955637832, 1.1195749114345768, 0.2034636358672231, -1.081548003614395, 1.4799441388900259, 0.5389100436846587, -1.382799730964336], \"type\": \"scatter\", \"uid\": \"f33cb12e-ec47-40a4-be69-0b8ce497077f\"}], {}, {\"showLink\": true, \"linkText\": \"Export to plot.ly\"})});</script><script type=\"text/javascript\">window.addEventListener(\"resize\", function(){Plotly.Plots.resize(document.getElementById(\"b0de4fd7-5a42-4243-b898-214319f60082\"));});</script>"
      ],
      "text/vnd.plotly.v1+html": [
       "<div id=\"b0de4fd7-5a42-4243-b898-214319f60082\" style=\"height: 525px; width: 100%;\" class=\"plotly-graph-div\"></div><script type=\"text/javascript\">require([\"plotly\"], function(Plotly) { window.PLOTLYENV=window.PLOTLYENV || {};window.PLOTLYENV.BASE_URL=\"https://plot.ly\";Plotly.newPlot(\"b0de4fd7-5a42-4243-b898-214319f60082\", [{\"name\": \"A\", \"x\": [0, 1, 2, 3, 4, 5, 6, 7, 8, 9, 10, 11, 12, 13, 14, 15, 16, 17, 18, 19, 20, 21, 22, 23, 24, 25, 26, 27, 28, 29, 30, 31, 32, 33, 34, 35, 36, 37, 38, 39, 40, 41, 42, 43, 44, 45, 46, 47, 48, 49, 50, 51, 52, 53, 54, 55, 56, 57, 58, 59, 60, 61, 62, 63, 64, 65, 66, 67, 68, 69, 70, 71, 72, 73, 74, 75, 76, 77, 78, 79, 80, 81, 82, 83, 84, 85, 86, 87, 88, 89, 90, 91, 92, 93, 94, 95, 96, 97, 98, 99], \"y\": [-1.4153707420504142, -0.16128571166600914, 0.25755039072276437, 0.06023020994102644, -0.03471176970524331, 0.7910319470430469, 0.5868570938002703, 0.09965136508764122, -1.0623037137261049, -0.7832532923362371, 0.22745993460412942, 0.25988279424842353, 0.5219415656168976, -0.6800247215784908, 1.8657745111447566, -0.9746816702273214, 0.9633761292443218, -0.2453881160028705, -0.0771017094141042, 0.01300189187790702, 0.6256673477650062, -0.2234627853258509, -0.846793718068405, 0.21409374413020396, -0.883857436201133, 0.3577873603482833, -1.377669367957091, 0.5150476863060479, 0.9540017634932023, -0.7728252145375718, 2.3146585666735087, -0.47193186578943347, -0.7153037092599682, 0.045571839903813784, -2.025142586657607, -0.7925207384327007, -1.2002964070557762, 1.7654542402810969, 2.1221561970126332, 1.2669111491866227, -0.926930471578083, -0.2525681513931603, -0.44004448669698376, 1.1631637521549596, 0.19905969557347003, 0.11351734525124804, 2.1330333746562666, 0.28099186773503265, -0.5893647569442115, 0.8995998754332507, -0.8289950109220723, -0.020901593964148132, 0.5470973811700379, 0.8254163489880298, 0.6819529712949639, 0.09699596499271819, -1.006017381499702, 0.6241198170521551, 0.07580455819372633, -0.8254971967925115, -0.8222203955664315, -0.4710383056183228, -0.718444221252436, 0.8576596232020194, -0.01851313599238993, 0.5193465142411723, 0.6901439917111125, 0.09767609854883172, 1.4511436077950417, 0.8723206367206782, -0.8397218421807761, -0.759132661553698, 0.9504238381860503, -1.3202332070206422, -1.7131345290908775, -1.594427658794367, -0.45006547147924364, 0.12029563171189886, -1.5341141707356223, 1.551151975522523, 2.060747924881987, 0.6453759495851475, 1.0584244868495878, -0.26940683444455776, 1.6286155455712918, 0.3840654489393073, -1.3044695005048532, -0.5138669173366935, -0.9857260463355437, -0.10703035995455783, 1.9647251329163893, -0.11232804969082982, -0.5305011476105275, -1.5151910621985523, 0.5765569630557664, -0.12791759148076653, -0.7563507452843033, 1.6871416350725648, 0.0773683076476183, -1.0372461543264564], \"type\": \"scatter\", \"uid\": \"e2a4d003-0c87-490d-ac37-1bdcf75ae911\"}, {\"name\": \"B\", \"x\": [0, 1, 2, 3, 4, 5, 6, 7, 8, 9, 10, 11, 12, 13, 14, 15, 16, 17, 18, 19, 20, 21, 22, 23, 24, 25, 26, 27, 28, 29, 30, 31, 32, 33, 34, 35, 36, 37, 38, 39, 40, 41, 42, 43, 44, 45, 46, 47, 48, 49, 50, 51, 52, 53, 54, 55, 56, 57, 58, 59, 60, 61, 62, 63, 64, 65, 66, 67, 68, 69, 70, 71, 72, 73, 74, 75, 76, 77, 78, 79, 80, 81, 82, 83, 84, 85, 86, 87, 88, 89, 90, 91, 92, 93, 94, 95, 96, 97, 98, 99], \"y\": [-0.42064532276535904, 0.4040508568145384, -0.07444591576616721, 2.463242112485286, -1.168678037619532, -0.9093874547947389, 2.1904556258099785, -0.5034756541161992, 0.4735924306351816, -0.3220615162056756, 1.307142754282428, 0.7818228717773104, 0.29698467323318606, 0.23225369716100355, 0.4738329209117875, 0.787084603742452, 0.4127809269364983, -0.7537361643574896, 0.3411519748166439, 1.4535340771573169, -0.8571575564162826, 0.714000494092092, -1.5148472246858646, -1.245738778711988, 0.1537251059455279, 0.5607845263682344, -0.9378250399151228, 3.852731490654721, 0.651391251305798, -0.23681860674000887, -1.867265192591748, 1.088950596967366, 0.6795977489346758, -0.6516003476058171, 0.18645431476942764, -0.11473644146689901, -0.3345012358409484, 0.40498171096095553, 1.0324652605511468, -0.7076694656187807, -0.05952535606180008, -1.2477831819648495, 0.13074057728609134, 0.010233061019587049, -0.6002168771587947, 0.6621306745210467, -1.9520877995225019, -0.6226995198205938, 0.8496020970210246, 0.30729952087660933, -0.5601810401969696, 0.117327383308782, -0.20219265243389406, 0.8135096360006385, -0.31026675659345604, 0.5951570254369136, -1.2141886127877322, 0.6283455092642799, -0.6771617115121117, -0.32138584165299344, 0.2436872114919123, 0.2320499373576363, -0.21344715171184725, -0.1599385299634271, -0.2886586389201383, 1.5327389130025777, -0.40122047188583626, -0.7730097838554665, 0.9592708260852069, 0.18334200573835174, -0.5993926454440222, 0.15039378647620763, -0.5769036556624031, 1.8314587658543537, 1.3538723741654128, -0.5993750229537729, 0.6228499323474987, 0.514438834058749, 1.277676821898509, 0.11567463429285867, 1.7553408424432044, 1.3686315575323487, -1.7587394864231143, 0.7175422557959623, -1.3801014582148914, -0.03269474809409311, 0.6696725488300385, -1.0592135218889516, 0.5040465155178444, -1.035242322419374, 0.03526355197172861, -0.22096959953322298, -0.57581824064468, 1.3668742674445247, 0.3112501545435361, -0.9555404406004258, -1.4222537095976742, 0.8816397569494505, -0.8612842013282637, -0.1903386780836082], \"type\": \"scatter\", \"uid\": \"2b4ff341-aae2-4cde-a10c-e93059312cb1\"}, {\"name\": \"C\", \"x\": [0, 1, 2, 3, 4, 5, 6, 7, 8, 9, 10, 11, 12, 13, 14, 15, 16, 17, 18, 19, 20, 21, 22, 23, 24, 25, 26, 27, 28, 29, 30, 31, 32, 33, 34, 35, 36, 37, 38, 39, 40, 41, 42, 43, 44, 45, 46, 47, 48, 49, 50, 51, 52, 53, 54, 55, 56, 57, 58, 59, 60, 61, 62, 63, 64, 65, 66, 67, 68, 69, 70, 71, 72, 73, 74, 75, 76, 77, 78, 79, 80, 81, 82, 83, 84, 85, 86, 87, 88, 89, 90, 91, 92, 93, 94, 95, 96, 97, 98, 99], \"y\": [-0.3427145165267695, 1.8861859012105302, -1.9187712152990415, -0.19236096478112252, 1.1428228145150205, 1.4027943109360992, -0.9905363251306883, -1.5506634310661327, -0.9194242342338032, 0.8135172173696698, -1.6074832345612275, -1.236950710878082, 0.25049285034587654, 0.29307247329868125, -1.1913034972026486, 1.158595579007404, 0.82206015999449, -0.8895144296255233, 0.27669079933001905, -0.2646568332379561, -1.0708924980611123, 0.47323762457354485, -0.4465149520670211, 0.173180925851182, 0.058208718445999896, 1.083051243175277, 0.5150352672086598, 0.570890510693167, -0.3152692446403456, -0.48536354782910346, 0.6862601903745135, 0.06428001909546277, -0.7303666317171367, 2.1439440893253257, -0.661786464768388, 0.5049872789804571, -0.4749453111609562, -1.2608839543350452, -1.5193699659540134, 0.44381942814622843, -3.2412673400690726, 1.6324113039316352, 1.4412732890661155, -0.9815086510479509, 0.06980208499001891, 1.586016816145352, -0.15178509503558332, -0.20812225035727522, 0.35701548596504734, 0.8128621188389601, 0.7472936051232618, 1.277664895788425, -0.2176812032272203, 1.305478807154329, 0.3241663524884421, -0.8182206832334725, 1.1581108735000678, -0.012246772846914623, 0.9751197334177512, 0.41293145427562433, 0.24496657110872277, -1.4480843414973241, 0.3109075655980046, -0.01901620790268883, 0.3227185603380895, -0.1087601484568576, 0.22409248181041677, 0.024510174258942714, 2.1531824575115563, 2.1898029332176723, -2.123895724309807, 0.34175597577715944, -0.898414671348358, 1.179440120721287, -0.11453984525261789, 0.005243699718183166, -1.0676204293825944, 0.7116148780888898, 0.33231401197959165, 1.1792971840638264, -0.2489641484790735, -0.9649234605801045, -1.183258512665775, 1.502357052096028, -1.7033824393551547, -2.0674421000398766, 0.36659824609684827, -0.06267909727317188, -0.5302576183724408, -0.553649305347182, -0.6997255079925856, 0.6141667000434252, -0.275051697151644, 1.6449677135012837, 3.0788808084552377, -1.6064463202575725, -0.6465728842425266, -0.007972641316617372, 1.5231240772696573, -0.8756182533847572], \"type\": \"scatter\", \"uid\": \"0e7d8af8-ab45-4a6c-bd70-17289a178663\"}, {\"name\": \"D\", \"x\": [0, 1, 2, 3, 4, 5, 6, 7, 8, 9, 10, 11, 12, 13, 14, 15, 16, 17, 18, 19, 20, 21, 22, 23, 24, 25, 26, 27, 28, 29, 30, 31, 32, 33, 34, 35, 36, 37, 38, 39, 40, 41, 42, 43, 44, 45, 46, 47, 48, 49, 50, 51, 52, 53, 54, 55, 56, 57, 58, 59, 60, 61, 62, 63, 64, 65, 66, 67, 68, 69, 70, 71, 72, 73, 74, 75, 76, 77, 78, 79, 80, 81, 82, 83, 84, 85, 86, 87, 88, 89, 90, 91, 92, 93, 94, 95, 96, 97, 98, 99], \"y\": [-0.8022772692216189, 0.17457781283183896, -0.026513875449216878, 0.30154734233361247, 0.7519330326867741, -1.4018510627922809, -0.5662977296027719, 0.06856297480602733, 1.5499344050175394, -1.2308643164339552, 0.1846338585323042, -1.3204566130842763, 0.3464482094969757, -0.7143514180263678, 0.6565536086338297, -0.8206823183517105, 1.8967929826539474, -0.8158102849654383, 0.8271832490360238, 2.720169166589619, 0.4824724152431853, -0.07282891265687277, 0.8563987943234723, 0.3853173797288368, -1.142970297830623, 1.053802052034903, 0.5137859509122088, 1.135565640180599, 0.7589692204932674, 0.08187413938632256, -1.6127158711896517, -1.0777447779293061, 0.21645858958197486, 0.6339190223180112, 0.852433334796224, 0.8657551941701215, -0.6533292325737119, 0.9178619470547761, -0.48423407286625136, 0.7746340534293368, -1.0243876413342898, -1.4301413779606327, -1.4358621511794394, 0.46210347426327075, -0.3853135968617602, -1.237815498826849, 0.5883172064845765, -0.4930009346588328, -0.6929095952606542, 0.6296288419236122, 0.6103702654334648, -0.5915713888358299, 1.09877685198719, 0.02100384163275905, -0.13014305436768459, 2.0923872756854602, 0.7916626939629359, -0.8972543714858315, -0.14705738150213865, -0.5637245528039747, -0.5069431753711298, -1.4074637743765552, 1.475356216949552, -1.0025293646378088, -0.827230943552323, 0.40171172209894146, 0.01259240078179486, 0.49799829124544975, -0.7673475628880495, -0.8082982853551515, -0.525755021680761, 1.8761708392158862, 0.4919191715065057, -0.4691756521047048, 1.2378163119734618, 0.046980593764742055, -0.1423794850212935, -1.1246420918378692, -0.7484865365565536, 0.06751848141010895, 0.9715709509543554, 0.6860514599984393, -2.0392321777601006, 0.07409478041977519, -0.05554769889661878, -0.08912003951278841, -0.9398797863273552, 0.9551423205012383, -0.7928728322623442, -1.1978778925888485, 0.213979910734222, 0.7575077100473051, -2.301921164735585, -0.24903603955637832, 1.1195749114345768, 0.2034636358672231, -1.081548003614395, 1.4799441388900259, 0.5389100436846587, -1.382799730964336], \"type\": \"scatter\", \"uid\": \"f33cb12e-ec47-40a4-be69-0b8ce497077f\"}], {}, {\"showLink\": true, \"linkText\": \"Export to plot.ly\"})});</script><script type=\"text/javascript\">window.addEventListener(\"resize\", function(){Plotly.Plots.resize(document.getElementById(\"b0de4fd7-5a42-4243-b898-214319f60082\"));});</script>"
      ]
     },
     "metadata": {},
     "output_type": "display_data"
    }
   ],
   "source": [
    "pyo.iplot(data)"
   ]
  },
  {
   "cell_type": "code",
   "execution_count": 31,
   "metadata": {},
   "outputs": [],
   "source": [
    "import pandas\n",
    "df = pandas.read_csv('https://raw.githubusercontent.com/ywchiu/ctbc/master/data/nst-est2017-alldata.csv')"
   ]
  },
  {
   "cell_type": "code",
   "execution_count": 33,
   "metadata": {},
   "outputs": [
    {
     "data": {
      "text/html": [
       "<div>\n",
       "<style>\n",
       "    .dataframe thead tr:only-child th {\n",
       "        text-align: right;\n",
       "    }\n",
       "\n",
       "    .dataframe thead th {\n",
       "        text-align: left;\n",
       "    }\n",
       "\n",
       "    .dataframe tbody tr th {\n",
       "        vertical-align: top;\n",
       "    }\n",
       "</style>\n",
       "<table border=\"1\" class=\"dataframe\">\n",
       "  <thead>\n",
       "    <tr style=\"text-align: right;\">\n",
       "      <th></th>\n",
       "      <th>POPESTIMATE2010</th>\n",
       "      <th>POPESTIMATE2011</th>\n",
       "      <th>POPESTIMATE2012</th>\n",
       "      <th>POPESTIMATE2013</th>\n",
       "      <th>POPESTIMATE2014</th>\n",
       "      <th>POPESTIMATE2015</th>\n",
       "      <th>POPESTIMATE2016</th>\n",
       "      <th>POPESTIMATE2017</th>\n",
       "    </tr>\n",
       "    <tr>\n",
       "      <th>NAME</th>\n",
       "      <th></th>\n",
       "      <th></th>\n",
       "      <th></th>\n",
       "      <th></th>\n",
       "      <th></th>\n",
       "      <th></th>\n",
       "      <th></th>\n",
       "      <th></th>\n",
       "    </tr>\n",
       "  </thead>\n",
       "  <tbody>\n",
       "    <tr>\n",
       "      <th>Connecticut</th>\n",
       "      <td>3580171.0</td>\n",
       "      <td>3591927.0</td>\n",
       "      <td>3597705.0</td>\n",
       "      <td>3602470.0</td>\n",
       "      <td>3600188.0</td>\n",
       "      <td>3593862.0</td>\n",
       "      <td>3587685.0</td>\n",
       "      <td>3588184.0</td>\n",
       "    </tr>\n",
       "    <tr>\n",
       "      <th>Maine</th>\n",
       "      <td>1327568.0</td>\n",
       "      <td>1327968.0</td>\n",
       "      <td>1328101.0</td>\n",
       "      <td>1327975.0</td>\n",
       "      <td>1328903.0</td>\n",
       "      <td>1327787.0</td>\n",
       "      <td>1330232.0</td>\n",
       "      <td>1335907.0</td>\n",
       "    </tr>\n",
       "    <tr>\n",
       "      <th>Massachusetts</th>\n",
       "      <td>6564943.0</td>\n",
       "      <td>6612178.0</td>\n",
       "      <td>6659627.0</td>\n",
       "      <td>6711138.0</td>\n",
       "      <td>6757925.0</td>\n",
       "      <td>6794002.0</td>\n",
       "      <td>6823721.0</td>\n",
       "      <td>6859819.0</td>\n",
       "    </tr>\n",
       "    <tr>\n",
       "      <th>New Hampshire</th>\n",
       "      <td>1316700.0</td>\n",
       "      <td>1318345.0</td>\n",
       "      <td>1320923.0</td>\n",
       "      <td>1322622.0</td>\n",
       "      <td>1328684.0</td>\n",
       "      <td>1330134.0</td>\n",
       "      <td>1335015.0</td>\n",
       "      <td>1342795.0</td>\n",
       "    </tr>\n",
       "    <tr>\n",
       "      <th>Rhode Island</th>\n",
       "      <td>1053169.0</td>\n",
       "      <td>1052154.0</td>\n",
       "      <td>1052761.0</td>\n",
       "      <td>1052784.0</td>\n",
       "      <td>1054782.0</td>\n",
       "      <td>1055916.0</td>\n",
       "      <td>1057566.0</td>\n",
       "      <td>1059639.0</td>\n",
       "    </tr>\n",
       "  </tbody>\n",
       "</table>\n",
       "</div>"
      ],
      "text/plain": [
       "               POPESTIMATE2010  POPESTIMATE2011  POPESTIMATE2012  \\\n",
       "NAME                                                               \n",
       "Connecticut          3580171.0        3591927.0        3597705.0   \n",
       "Maine                1327568.0        1327968.0        1328101.0   \n",
       "Massachusetts        6564943.0        6612178.0        6659627.0   \n",
       "New Hampshire        1316700.0        1318345.0        1320923.0   \n",
       "Rhode Island         1053169.0        1052154.0        1052761.0   \n",
       "\n",
       "               POPESTIMATE2013  POPESTIMATE2014  POPESTIMATE2015  \\\n",
       "NAME                                                               \n",
       "Connecticut          3602470.0        3600188.0        3593862.0   \n",
       "Maine                1327975.0        1328903.0        1327787.0   \n",
       "Massachusetts        6711138.0        6757925.0        6794002.0   \n",
       "New Hampshire        1322622.0        1328684.0        1330134.0   \n",
       "Rhode Island         1052784.0        1054782.0        1055916.0   \n",
       "\n",
       "               POPESTIMATE2016  POPESTIMATE2017  \n",
       "NAME                                             \n",
       "Connecticut          3587685.0        3588184.0  \n",
       "Maine                1330232.0        1335907.0  \n",
       "Massachusetts        6823721.0        6859819.0  \n",
       "New Hampshire        1335015.0        1342795.0  \n",
       "Rhode Island         1057566.0        1059639.0  "
      ]
     },
     "execution_count": 33,
     "metadata": {},
     "output_type": "execute_result"
    }
   ],
   "source": [
    "df2 = df[df['DIVISION']=='1']\n",
    "df2.set_index('NAME', inplace=True)\n",
    "df2 = df2[[col for col in df2.columns if col.startswith('POP')]]\n",
    "df2.head()"
   ]
  },
  {
   "cell_type": "code",
   "execution_count": 34,
   "metadata": {},
   "outputs": [],
   "source": [
    "traces=[\n",
    "    go.Scatter(\n",
    "        x = df2.columns,\n",
    "        y = df2.loc[name],\n",
    "        mode = 'markers+lines',\n",
    "        name = name\n",
    ") for name in df2.index]\n"
   ]
  },
  {
   "cell_type": "code",
   "execution_count": 35,
   "metadata": {},
   "outputs": [
    {
     "data": {
      "application/vnd.plotly.v1+json": {
       "data": [
        {
         "mode": "markers+lines",
         "name": "Connecticut",
         "type": "scatter",
         "uid": "96397561-bf7c-44a4-ac1f-ccfa05e02126",
         "x": [
          "POPESTIMATE2010",
          "POPESTIMATE2011",
          "POPESTIMATE2012",
          "POPESTIMATE2013",
          "POPESTIMATE2014",
          "POPESTIMATE2015",
          "POPESTIMATE2016",
          "POPESTIMATE2017"
         ],
         "y": [
          3580171,
          3591927,
          3597705,
          3602470,
          3600188,
          3593862,
          3587685,
          3588184
         ]
        },
        {
         "mode": "markers+lines",
         "name": "Maine",
         "type": "scatter",
         "uid": "56d23c56-148c-46f0-aa20-1788e6ce2ba0",
         "x": [
          "POPESTIMATE2010",
          "POPESTIMATE2011",
          "POPESTIMATE2012",
          "POPESTIMATE2013",
          "POPESTIMATE2014",
          "POPESTIMATE2015",
          "POPESTIMATE2016",
          "POPESTIMATE2017"
         ],
         "y": [
          1327568,
          1327968,
          1328101,
          1327975,
          1328903,
          1327787,
          1330232,
          1335907
         ]
        },
        {
         "mode": "markers+lines",
         "name": "Massachusetts",
         "type": "scatter",
         "uid": "78398b27-2b32-4685-aed4-92f8730eeb94",
         "x": [
          "POPESTIMATE2010",
          "POPESTIMATE2011",
          "POPESTIMATE2012",
          "POPESTIMATE2013",
          "POPESTIMATE2014",
          "POPESTIMATE2015",
          "POPESTIMATE2016",
          "POPESTIMATE2017"
         ],
         "y": [
          6564943,
          6612178,
          6659627,
          6711138,
          6757925,
          6794002,
          6823721,
          6859819
         ]
        },
        {
         "mode": "markers+lines",
         "name": "New Hampshire",
         "type": "scatter",
         "uid": "c5aeb87d-4bd3-4946-91c3-210896f130b9",
         "x": [
          "POPESTIMATE2010",
          "POPESTIMATE2011",
          "POPESTIMATE2012",
          "POPESTIMATE2013",
          "POPESTIMATE2014",
          "POPESTIMATE2015",
          "POPESTIMATE2016",
          "POPESTIMATE2017"
         ],
         "y": [
          1316700,
          1318345,
          1320923,
          1322622,
          1328684,
          1330134,
          1335015,
          1342795
         ]
        },
        {
         "mode": "markers+lines",
         "name": "Rhode Island",
         "type": "scatter",
         "uid": "6ef1c438-36d3-4dce-98f5-0b92c8cf604d",
         "x": [
          "POPESTIMATE2010",
          "POPESTIMATE2011",
          "POPESTIMATE2012",
          "POPESTIMATE2013",
          "POPESTIMATE2014",
          "POPESTIMATE2015",
          "POPESTIMATE2016",
          "POPESTIMATE2017"
         ],
         "y": [
          1053169,
          1052154,
          1052761,
          1052784,
          1054782,
          1055916,
          1057566,
          1059639
         ]
        },
        {
         "mode": "markers+lines",
         "name": "Vermont",
         "type": "scatter",
         "uid": "f7a520ae-c559-4f0c-86e7-1d56d54a61f4",
         "x": [
          "POPESTIMATE2010",
          "POPESTIMATE2011",
          "POPESTIMATE2012",
          "POPESTIMATE2013",
          "POPESTIMATE2014",
          "POPESTIMATE2015",
          "POPESTIMATE2016",
          "POPESTIMATE2017"
         ],
         "y": [
          625842,
          626210,
          625606,
          626044,
          625665,
          624455,
          623354,
          623657
         ]
        }
       ],
       "layout": {}
      },
      "text/html": [
       "<div id=\"779ac405-60d7-40b0-bf7e-90c3a75e0014\" style=\"height: 525px; width: 100%;\" class=\"plotly-graph-div\"></div><script type=\"text/javascript\">require([\"plotly\"], function(Plotly) { window.PLOTLYENV=window.PLOTLYENV || {};window.PLOTLYENV.BASE_URL=\"https://plot.ly\";Plotly.newPlot(\"779ac405-60d7-40b0-bf7e-90c3a75e0014\", [{\"mode\": \"markers+lines\", \"name\": \"Connecticut\", \"x\": [\"POPESTIMATE2010\", \"POPESTIMATE2011\", \"POPESTIMATE2012\", \"POPESTIMATE2013\", \"POPESTIMATE2014\", \"POPESTIMATE2015\", \"POPESTIMATE2016\", \"POPESTIMATE2017\"], \"y\": [3580171.0, 3591927.0, 3597705.0, 3602470.0, 3600188.0, 3593862.0, 3587685.0, 3588184.0], \"type\": \"scatter\", \"uid\": \"47421871-09d9-46e8-8055-69f4a8973e45\"}, {\"mode\": \"markers+lines\", \"name\": \"Maine\", \"x\": [\"POPESTIMATE2010\", \"POPESTIMATE2011\", \"POPESTIMATE2012\", \"POPESTIMATE2013\", \"POPESTIMATE2014\", \"POPESTIMATE2015\", \"POPESTIMATE2016\", \"POPESTIMATE2017\"], \"y\": [1327568.0, 1327968.0, 1328101.0, 1327975.0, 1328903.0, 1327787.0, 1330232.0, 1335907.0], \"type\": \"scatter\", \"uid\": \"3a9d0330-d3a5-4c9d-9926-e725f374d709\"}, {\"mode\": \"markers+lines\", \"name\": \"Massachusetts\", \"x\": [\"POPESTIMATE2010\", \"POPESTIMATE2011\", \"POPESTIMATE2012\", \"POPESTIMATE2013\", \"POPESTIMATE2014\", \"POPESTIMATE2015\", \"POPESTIMATE2016\", \"POPESTIMATE2017\"], \"y\": [6564943.0, 6612178.0, 6659627.0, 6711138.0, 6757925.0, 6794002.0, 6823721.0, 6859819.0], \"type\": \"scatter\", \"uid\": \"dcf2d4d2-f801-437c-986d-930efedfe25e\"}, {\"mode\": \"markers+lines\", \"name\": \"New Hampshire\", \"x\": [\"POPESTIMATE2010\", \"POPESTIMATE2011\", \"POPESTIMATE2012\", \"POPESTIMATE2013\", \"POPESTIMATE2014\", \"POPESTIMATE2015\", \"POPESTIMATE2016\", \"POPESTIMATE2017\"], \"y\": [1316700.0, 1318345.0, 1320923.0, 1322622.0, 1328684.0, 1330134.0, 1335015.0, 1342795.0], \"type\": \"scatter\", \"uid\": \"2b6a0b65-6b2c-4e60-b870-a7604709be75\"}, {\"mode\": \"markers+lines\", \"name\": \"Rhode Island\", \"x\": [\"POPESTIMATE2010\", \"POPESTIMATE2011\", \"POPESTIMATE2012\", \"POPESTIMATE2013\", \"POPESTIMATE2014\", \"POPESTIMATE2015\", \"POPESTIMATE2016\", \"POPESTIMATE2017\"], \"y\": [1053169.0, 1052154.0, 1052761.0, 1052784.0, 1054782.0, 1055916.0, 1057566.0, 1059639.0], \"type\": \"scatter\", \"uid\": \"753abb26-36ad-4584-a055-aa521e8c830f\"}, {\"mode\": \"markers+lines\", \"name\": \"Vermont\", \"x\": [\"POPESTIMATE2010\", \"POPESTIMATE2011\", \"POPESTIMATE2012\", \"POPESTIMATE2013\", \"POPESTIMATE2014\", \"POPESTIMATE2015\", \"POPESTIMATE2016\", \"POPESTIMATE2017\"], \"y\": [625842.0, 626210.0, 625606.0, 626044.0, 625665.0, 624455.0, 623354.0, 623657.0], \"type\": \"scatter\", \"uid\": \"f3605a76-e024-4e71-9cf1-b1b8b35b951e\"}], {}, {\"showLink\": true, \"linkText\": \"Export to plot.ly\"})});</script><script type=\"text/javascript\">window.addEventListener(\"resize\", function(){Plotly.Plots.resize(document.getElementById(\"779ac405-60d7-40b0-bf7e-90c3a75e0014\"));});</script>"
      ],
      "text/vnd.plotly.v1+html": [
       "<div id=\"779ac405-60d7-40b0-bf7e-90c3a75e0014\" style=\"height: 525px; width: 100%;\" class=\"plotly-graph-div\"></div><script type=\"text/javascript\">require([\"plotly\"], function(Plotly) { window.PLOTLYENV=window.PLOTLYENV || {};window.PLOTLYENV.BASE_URL=\"https://plot.ly\";Plotly.newPlot(\"779ac405-60d7-40b0-bf7e-90c3a75e0014\", [{\"mode\": \"markers+lines\", \"name\": \"Connecticut\", \"x\": [\"POPESTIMATE2010\", \"POPESTIMATE2011\", \"POPESTIMATE2012\", \"POPESTIMATE2013\", \"POPESTIMATE2014\", \"POPESTIMATE2015\", \"POPESTIMATE2016\", \"POPESTIMATE2017\"], \"y\": [3580171.0, 3591927.0, 3597705.0, 3602470.0, 3600188.0, 3593862.0, 3587685.0, 3588184.0], \"type\": \"scatter\", \"uid\": \"47421871-09d9-46e8-8055-69f4a8973e45\"}, {\"mode\": \"markers+lines\", \"name\": \"Maine\", \"x\": [\"POPESTIMATE2010\", \"POPESTIMATE2011\", \"POPESTIMATE2012\", \"POPESTIMATE2013\", \"POPESTIMATE2014\", \"POPESTIMATE2015\", \"POPESTIMATE2016\", \"POPESTIMATE2017\"], \"y\": [1327568.0, 1327968.0, 1328101.0, 1327975.0, 1328903.0, 1327787.0, 1330232.0, 1335907.0], \"type\": \"scatter\", \"uid\": \"3a9d0330-d3a5-4c9d-9926-e725f374d709\"}, {\"mode\": \"markers+lines\", \"name\": \"Massachusetts\", \"x\": [\"POPESTIMATE2010\", \"POPESTIMATE2011\", \"POPESTIMATE2012\", \"POPESTIMATE2013\", \"POPESTIMATE2014\", \"POPESTIMATE2015\", \"POPESTIMATE2016\", \"POPESTIMATE2017\"], \"y\": [6564943.0, 6612178.0, 6659627.0, 6711138.0, 6757925.0, 6794002.0, 6823721.0, 6859819.0], \"type\": \"scatter\", \"uid\": \"dcf2d4d2-f801-437c-986d-930efedfe25e\"}, {\"mode\": \"markers+lines\", \"name\": \"New Hampshire\", \"x\": [\"POPESTIMATE2010\", \"POPESTIMATE2011\", \"POPESTIMATE2012\", \"POPESTIMATE2013\", \"POPESTIMATE2014\", \"POPESTIMATE2015\", \"POPESTIMATE2016\", \"POPESTIMATE2017\"], \"y\": [1316700.0, 1318345.0, 1320923.0, 1322622.0, 1328684.0, 1330134.0, 1335015.0, 1342795.0], \"type\": \"scatter\", \"uid\": \"2b6a0b65-6b2c-4e60-b870-a7604709be75\"}, {\"mode\": \"markers+lines\", \"name\": \"Rhode Island\", \"x\": [\"POPESTIMATE2010\", \"POPESTIMATE2011\", \"POPESTIMATE2012\", \"POPESTIMATE2013\", \"POPESTIMATE2014\", \"POPESTIMATE2015\", \"POPESTIMATE2016\", \"POPESTIMATE2017\"], \"y\": [1053169.0, 1052154.0, 1052761.0, 1052784.0, 1054782.0, 1055916.0, 1057566.0, 1059639.0], \"type\": \"scatter\", \"uid\": \"753abb26-36ad-4584-a055-aa521e8c830f\"}, {\"mode\": \"markers+lines\", \"name\": \"Vermont\", \"x\": [\"POPESTIMATE2010\", \"POPESTIMATE2011\", \"POPESTIMATE2012\", \"POPESTIMATE2013\", \"POPESTIMATE2014\", \"POPESTIMATE2015\", \"POPESTIMATE2016\", \"POPESTIMATE2017\"], \"y\": [625842.0, 626210.0, 625606.0, 626044.0, 625665.0, 624455.0, 623354.0, 623657.0], \"type\": \"scatter\", \"uid\": \"f3605a76-e024-4e71-9cf1-b1b8b35b951e\"}], {}, {\"showLink\": true, \"linkText\": \"Export to plot.ly\"})});</script><script type=\"text/javascript\">window.addEventListener(\"resize\", function(){Plotly.Plots.resize(document.getElementById(\"779ac405-60d7-40b0-bf7e-90c3a75e0014\"));});</script>"
      ]
     },
     "metadata": {},
     "output_type": "display_data"
    }
   ],
   "source": [
    "pyo.iplot(traces)"
   ]
  },
  {
   "cell_type": "code",
   "execution_count": 36,
   "metadata": {},
   "outputs": [
    {
     "data": {
      "application/vnd.plotly.v1+json": {
       "data": [
        {
         "mode": "markers+lines",
         "name": "Connecticut",
         "type": "scatter",
         "uid": "f4d5a6df-95e5-4bdc-bb9d-f325d52a1ae9",
         "x": [
          "POPESTIMATE2010",
          "POPESTIMATE2011",
          "POPESTIMATE2012",
          "POPESTIMATE2013",
          "POPESTIMATE2014",
          "POPESTIMATE2015",
          "POPESTIMATE2016",
          "POPESTIMATE2017"
         ],
         "y": [
          3580171,
          3591927,
          3597705,
          3602470,
          3600188,
          3593862,
          3587685,
          3588184
         ]
        },
        {
         "mode": "markers+lines",
         "name": "Maine",
         "type": "scatter",
         "uid": "a9ce9b02-caed-45b7-8e65-2831f85adead",
         "x": [
          "POPESTIMATE2010",
          "POPESTIMATE2011",
          "POPESTIMATE2012",
          "POPESTIMATE2013",
          "POPESTIMATE2014",
          "POPESTIMATE2015",
          "POPESTIMATE2016",
          "POPESTIMATE2017"
         ],
         "y": [
          1327568,
          1327968,
          1328101,
          1327975,
          1328903,
          1327787,
          1330232,
          1335907
         ]
        },
        {
         "mode": "markers+lines",
         "name": "Massachusetts",
         "type": "scatter",
         "uid": "41cc222b-465e-4d56-a67a-7fbbb07e7fb3",
         "x": [
          "POPESTIMATE2010",
          "POPESTIMATE2011",
          "POPESTIMATE2012",
          "POPESTIMATE2013",
          "POPESTIMATE2014",
          "POPESTIMATE2015",
          "POPESTIMATE2016",
          "POPESTIMATE2017"
         ],
         "y": [
          6564943,
          6612178,
          6659627,
          6711138,
          6757925,
          6794002,
          6823721,
          6859819
         ]
        },
        {
         "mode": "markers+lines",
         "name": "New Hampshire",
         "type": "scatter",
         "uid": "27b91d7e-32fa-4f0a-a06a-7c4bd584952e",
         "x": [
          "POPESTIMATE2010",
          "POPESTIMATE2011",
          "POPESTIMATE2012",
          "POPESTIMATE2013",
          "POPESTIMATE2014",
          "POPESTIMATE2015",
          "POPESTIMATE2016",
          "POPESTIMATE2017"
         ],
         "y": [
          1316700,
          1318345,
          1320923,
          1322622,
          1328684,
          1330134,
          1335015,
          1342795
         ]
        },
        {
         "mode": "markers+lines",
         "name": "Rhode Island",
         "type": "scatter",
         "uid": "e1a7484d-5f77-4068-9d40-2565fb08da63",
         "x": [
          "POPESTIMATE2010",
          "POPESTIMATE2011",
          "POPESTIMATE2012",
          "POPESTIMATE2013",
          "POPESTIMATE2014",
          "POPESTIMATE2015",
          "POPESTIMATE2016",
          "POPESTIMATE2017"
         ],
         "y": [
          1053169,
          1052154,
          1052761,
          1052784,
          1054782,
          1055916,
          1057566,
          1059639
         ]
        },
        {
         "mode": "markers+lines",
         "name": "Vermont",
         "type": "scatter",
         "uid": "5d3387fb-93e6-4b0a-88e7-e9a8b1a12b48",
         "x": [
          "POPESTIMATE2010",
          "POPESTIMATE2011",
          "POPESTIMATE2012",
          "POPESTIMATE2013",
          "POPESTIMATE2014",
          "POPESTIMATE2015",
          "POPESTIMATE2016",
          "POPESTIMATE2017"
         ],
         "y": [
          625842,
          626210,
          625606,
          626044,
          625665,
          624455,
          623354,
          623657
         ]
        }
       ],
       "layout": {
        "title": "Population Estimates of the Six New England States"
       }
      },
      "text/html": [
       "<div id=\"86fac628-7af7-48e1-9650-0749d4f0f161\" style=\"height: 525px; width: 100%;\" class=\"plotly-graph-div\"></div><script type=\"text/javascript\">require([\"plotly\"], function(Plotly) { window.PLOTLYENV=window.PLOTLYENV || {};window.PLOTLYENV.BASE_URL=\"https://plot.ly\";Plotly.newPlot(\"86fac628-7af7-48e1-9650-0749d4f0f161\", [{\"mode\": \"markers+lines\", \"name\": \"Connecticut\", \"x\": [\"POPESTIMATE2010\", \"POPESTIMATE2011\", \"POPESTIMATE2012\", \"POPESTIMATE2013\", \"POPESTIMATE2014\", \"POPESTIMATE2015\", \"POPESTIMATE2016\", \"POPESTIMATE2017\"], \"y\": [3580171.0, 3591927.0, 3597705.0, 3602470.0, 3600188.0, 3593862.0, 3587685.0, 3588184.0], \"type\": \"scatter\", \"uid\": \"f4d5a6df-95e5-4bdc-bb9d-f325d52a1ae9\"}, {\"mode\": \"markers+lines\", \"name\": \"Maine\", \"x\": [\"POPESTIMATE2010\", \"POPESTIMATE2011\", \"POPESTIMATE2012\", \"POPESTIMATE2013\", \"POPESTIMATE2014\", \"POPESTIMATE2015\", \"POPESTIMATE2016\", \"POPESTIMATE2017\"], \"y\": [1327568.0, 1327968.0, 1328101.0, 1327975.0, 1328903.0, 1327787.0, 1330232.0, 1335907.0], \"type\": \"scatter\", \"uid\": \"a9ce9b02-caed-45b7-8e65-2831f85adead\"}, {\"mode\": \"markers+lines\", \"name\": \"Massachusetts\", \"x\": [\"POPESTIMATE2010\", \"POPESTIMATE2011\", \"POPESTIMATE2012\", \"POPESTIMATE2013\", \"POPESTIMATE2014\", \"POPESTIMATE2015\", \"POPESTIMATE2016\", \"POPESTIMATE2017\"], \"y\": [6564943.0, 6612178.0, 6659627.0, 6711138.0, 6757925.0, 6794002.0, 6823721.0, 6859819.0], \"type\": \"scatter\", \"uid\": \"41cc222b-465e-4d56-a67a-7fbbb07e7fb3\"}, {\"mode\": \"markers+lines\", \"name\": \"New Hampshire\", \"x\": [\"POPESTIMATE2010\", \"POPESTIMATE2011\", \"POPESTIMATE2012\", \"POPESTIMATE2013\", \"POPESTIMATE2014\", \"POPESTIMATE2015\", \"POPESTIMATE2016\", \"POPESTIMATE2017\"], \"y\": [1316700.0, 1318345.0, 1320923.0, 1322622.0, 1328684.0, 1330134.0, 1335015.0, 1342795.0], \"type\": \"scatter\", \"uid\": \"27b91d7e-32fa-4f0a-a06a-7c4bd584952e\"}, {\"mode\": \"markers+lines\", \"name\": \"Rhode Island\", \"x\": [\"POPESTIMATE2010\", \"POPESTIMATE2011\", \"POPESTIMATE2012\", \"POPESTIMATE2013\", \"POPESTIMATE2014\", \"POPESTIMATE2015\", \"POPESTIMATE2016\", \"POPESTIMATE2017\"], \"y\": [1053169.0, 1052154.0, 1052761.0, 1052784.0, 1054782.0, 1055916.0, 1057566.0, 1059639.0], \"type\": \"scatter\", \"uid\": \"e1a7484d-5f77-4068-9d40-2565fb08da63\"}, {\"mode\": \"markers+lines\", \"name\": \"Vermont\", \"x\": [\"POPESTIMATE2010\", \"POPESTIMATE2011\", \"POPESTIMATE2012\", \"POPESTIMATE2013\", \"POPESTIMATE2014\", \"POPESTIMATE2015\", \"POPESTIMATE2016\", \"POPESTIMATE2017\"], \"y\": [625842.0, 626210.0, 625606.0, 626044.0, 625665.0, 624455.0, 623354.0, 623657.0], \"type\": \"scatter\", \"uid\": \"5d3387fb-93e6-4b0a-88e7-e9a8b1a12b48\"}], {\"title\": \"Population Estimates of the Six New England States\"}, {\"showLink\": true, \"linkText\": \"Export to plot.ly\"})});</script><script type=\"text/javascript\">window.addEventListener(\"resize\", function(){Plotly.Plots.resize(document.getElementById(\"86fac628-7af7-48e1-9650-0749d4f0f161\"));});</script>"
      ],
      "text/vnd.plotly.v1+html": [
       "<div id=\"86fac628-7af7-48e1-9650-0749d4f0f161\" style=\"height: 525px; width: 100%;\" class=\"plotly-graph-div\"></div><script type=\"text/javascript\">require([\"plotly\"], function(Plotly) { window.PLOTLYENV=window.PLOTLYENV || {};window.PLOTLYENV.BASE_URL=\"https://plot.ly\";Plotly.newPlot(\"86fac628-7af7-48e1-9650-0749d4f0f161\", [{\"mode\": \"markers+lines\", \"name\": \"Connecticut\", \"x\": [\"POPESTIMATE2010\", \"POPESTIMATE2011\", \"POPESTIMATE2012\", \"POPESTIMATE2013\", \"POPESTIMATE2014\", \"POPESTIMATE2015\", \"POPESTIMATE2016\", \"POPESTIMATE2017\"], \"y\": [3580171.0, 3591927.0, 3597705.0, 3602470.0, 3600188.0, 3593862.0, 3587685.0, 3588184.0], \"type\": \"scatter\", \"uid\": \"f4d5a6df-95e5-4bdc-bb9d-f325d52a1ae9\"}, {\"mode\": \"markers+lines\", \"name\": \"Maine\", \"x\": [\"POPESTIMATE2010\", \"POPESTIMATE2011\", \"POPESTIMATE2012\", \"POPESTIMATE2013\", \"POPESTIMATE2014\", \"POPESTIMATE2015\", \"POPESTIMATE2016\", \"POPESTIMATE2017\"], \"y\": [1327568.0, 1327968.0, 1328101.0, 1327975.0, 1328903.0, 1327787.0, 1330232.0, 1335907.0], \"type\": \"scatter\", \"uid\": \"a9ce9b02-caed-45b7-8e65-2831f85adead\"}, {\"mode\": \"markers+lines\", \"name\": \"Massachusetts\", \"x\": [\"POPESTIMATE2010\", \"POPESTIMATE2011\", \"POPESTIMATE2012\", \"POPESTIMATE2013\", \"POPESTIMATE2014\", \"POPESTIMATE2015\", \"POPESTIMATE2016\", \"POPESTIMATE2017\"], \"y\": [6564943.0, 6612178.0, 6659627.0, 6711138.0, 6757925.0, 6794002.0, 6823721.0, 6859819.0], \"type\": \"scatter\", \"uid\": \"41cc222b-465e-4d56-a67a-7fbbb07e7fb3\"}, {\"mode\": \"markers+lines\", \"name\": \"New Hampshire\", \"x\": [\"POPESTIMATE2010\", \"POPESTIMATE2011\", \"POPESTIMATE2012\", \"POPESTIMATE2013\", \"POPESTIMATE2014\", \"POPESTIMATE2015\", \"POPESTIMATE2016\", \"POPESTIMATE2017\"], \"y\": [1316700.0, 1318345.0, 1320923.0, 1322622.0, 1328684.0, 1330134.0, 1335015.0, 1342795.0], \"type\": \"scatter\", \"uid\": \"27b91d7e-32fa-4f0a-a06a-7c4bd584952e\"}, {\"mode\": \"markers+lines\", \"name\": \"Rhode Island\", \"x\": [\"POPESTIMATE2010\", \"POPESTIMATE2011\", \"POPESTIMATE2012\", \"POPESTIMATE2013\", \"POPESTIMATE2014\", \"POPESTIMATE2015\", \"POPESTIMATE2016\", \"POPESTIMATE2017\"], \"y\": [1053169.0, 1052154.0, 1052761.0, 1052784.0, 1054782.0, 1055916.0, 1057566.0, 1059639.0], \"type\": \"scatter\", \"uid\": \"e1a7484d-5f77-4068-9d40-2565fb08da63\"}, {\"mode\": \"markers+lines\", \"name\": \"Vermont\", \"x\": [\"POPESTIMATE2010\", \"POPESTIMATE2011\", \"POPESTIMATE2012\", \"POPESTIMATE2013\", \"POPESTIMATE2014\", \"POPESTIMATE2015\", \"POPESTIMATE2016\", \"POPESTIMATE2017\"], \"y\": [625842.0, 626210.0, 625606.0, 626044.0, 625665.0, 624455.0, 623354.0, 623657.0], \"type\": \"scatter\", \"uid\": \"5d3387fb-93e6-4b0a-88e7-e9a8b1a12b48\"}], {\"title\": \"Population Estimates of the Six New England States\"}, {\"showLink\": true, \"linkText\": \"Export to plot.ly\"})});</script><script type=\"text/javascript\">window.addEventListener(\"resize\", function(){Plotly.Plots.resize(document.getElementById(\"86fac628-7af7-48e1-9650-0749d4f0f161\"));});</script>"
      ]
     },
     "metadata": {},
     "output_type": "display_data"
    }
   ],
   "source": [
    "layout = go.Layout(\n",
    "    title = 'Population Estimates of the Six New England States'\n",
    ")\n",
    "\n",
    "fig = go.Figure(data=traces,layout=layout)\n",
    "pyo.iplot(fig, filename='line3.html')\n"
   ]
  },
  {
   "cell_type": "markdown",
   "metadata": {},
   "source": [
    "## Area Chart"
   ]
  },
  {
   "cell_type": "code",
   "execution_count": 37,
   "metadata": {},
   "outputs": [],
   "source": [
    "month  = [1,2,3,4,5]\n",
    "taipei = [92.5,132.6,168.8,159.1,218.7]\n",
    "tainan = [21.2, 30.6, 37.3, 84.6, 184.3]\n"
   ]
  },
  {
   "cell_type": "code",
   "execution_count": 41,
   "metadata": {},
   "outputs": [],
   "source": [
    "trace1 = go.Scatter(\n",
    "    x=month,\n",
    "    y=taipei,\n",
    "    fill='tozeroy'\n",
    ")\n",
    "\n",
    "trace2 = go.Scatter(\n",
    "    x=month,\n",
    "    y=tainan,\n",
    "    fill='tozeroy'\n",
    ")\n"
   ]
  },
  {
   "cell_type": "code",
   "execution_count": 42,
   "metadata": {},
   "outputs": [],
   "source": [
    "data = [trace1, trace2]"
   ]
  },
  {
   "cell_type": "code",
   "execution_count": 43,
   "metadata": {},
   "outputs": [
    {
     "data": {
      "application/vnd.plotly.v1+json": {
       "data": [
        {
         "fill": "tozeroy",
         "type": "scatter",
         "uid": "2bfec5e5-2bda-4878-a215-5d0235e1b617",
         "x": [
          1,
          2,
          3,
          4,
          5
         ],
         "y": [
          92.5,
          132.6,
          168.8,
          159.1,
          218.7
         ]
        },
        {
         "fill": "tozeroy",
         "type": "scatter",
         "uid": "c3399bf4-f412-4170-a61d-5e02872966e3",
         "x": [
          1,
          2,
          3,
          4,
          5
         ],
         "y": [
          21.2,
          30.6,
          37.3,
          84.6,
          184.3
         ]
        }
       ],
       "layout": {}
      },
      "text/html": [
       "<div id=\"0b0bf610-324b-4353-901d-d1b58e85ac8a\" style=\"height: 525px; width: 100%;\" class=\"plotly-graph-div\"></div><script type=\"text/javascript\">require([\"plotly\"], function(Plotly) { window.PLOTLYENV=window.PLOTLYENV || {};window.PLOTLYENV.BASE_URL=\"https://plot.ly\";Plotly.newPlot(\"0b0bf610-324b-4353-901d-d1b58e85ac8a\", [{\"fill\": \"tozeroy\", \"x\": [1, 2, 3, 4, 5], \"y\": [92.5, 132.6, 168.8, 159.1, 218.7], \"type\": \"scatter\", \"uid\": \"688ca2eb-1ce9-4c17-9850-4d3372df19db\"}, {\"fill\": \"tozeroy\", \"x\": [1, 2, 3, 4, 5], \"y\": [21.2, 30.6, 37.3, 84.6, 184.3], \"type\": \"scatter\", \"uid\": \"91fc6249-81f5-43e0-82cf-45ae909f4c27\"}], {}, {\"showLink\": true, \"linkText\": \"Export to plot.ly\"})});</script><script type=\"text/javascript\">window.addEventListener(\"resize\", function(){Plotly.Plots.resize(document.getElementById(\"0b0bf610-324b-4353-901d-d1b58e85ac8a\"));});</script>"
      ],
      "text/vnd.plotly.v1+html": [
       "<div id=\"0b0bf610-324b-4353-901d-d1b58e85ac8a\" style=\"height: 525px; width: 100%;\" class=\"plotly-graph-div\"></div><script type=\"text/javascript\">require([\"plotly\"], function(Plotly) { window.PLOTLYENV=window.PLOTLYENV || {};window.PLOTLYENV.BASE_URL=\"https://plot.ly\";Plotly.newPlot(\"0b0bf610-324b-4353-901d-d1b58e85ac8a\", [{\"fill\": \"tozeroy\", \"x\": [1, 2, 3, 4, 5], \"y\": [92.5, 132.6, 168.8, 159.1, 218.7], \"type\": \"scatter\", \"uid\": \"688ca2eb-1ce9-4c17-9850-4d3372df19db\"}, {\"fill\": \"tozeroy\", \"x\": [1, 2, 3, 4, 5], \"y\": [21.2, 30.6, 37.3, 84.6, 184.3], \"type\": \"scatter\", \"uid\": \"91fc6249-81f5-43e0-82cf-45ae909f4c27\"}], {}, {\"showLink\": true, \"linkText\": \"Export to plot.ly\"})});</script><script type=\"text/javascript\">window.addEventListener(\"resize\", function(){Plotly.Plots.resize(document.getElementById(\"0b0bf610-324b-4353-901d-d1b58e85ac8a\"));});</script>"
      ]
     },
     "metadata": {},
     "output_type": "display_data"
    }
   ],
   "source": [
    "pyo.iplot(data)"
   ]
  },
  {
   "cell_type": "code",
   "execution_count": 44,
   "metadata": {},
   "outputs": [],
   "source": [
    "total = []\n",
    "for i,j in zip(taipei, tainan):\n",
    "    total.append(i+j)"
   ]
  },
  {
   "cell_type": "code",
   "execution_count": 45,
   "metadata": {},
   "outputs": [
    {
     "data": {
      "text/plain": [
       "[113.7, 163.2, 206.10000000000002, 243.7, 403.0]"
      ]
     },
     "execution_count": 45,
     "metadata": {},
     "output_type": "execute_result"
    }
   ],
   "source": [
    "total"
   ]
  },
  {
   "cell_type": "code",
   "execution_count": 46,
   "metadata": {},
   "outputs": [],
   "source": [
    "trace1 = go.Scatter(\n",
    "    x=month,\n",
    "    y=taipei,\n",
    "    fill='tozeroy'\n",
    ")\n",
    "\n",
    "trace2 = go.Scatter(\n",
    "    x=month,\n",
    "    y=total,\n",
    "    fill='tonexty'\n",
    ")\n"
   ]
  },
  {
   "cell_type": "code",
   "execution_count": 47,
   "metadata": {},
   "outputs": [],
   "source": [
    "data = [trace1, trace2]"
   ]
  },
  {
   "cell_type": "code",
   "execution_count": 48,
   "metadata": {},
   "outputs": [
    {
     "data": {
      "application/vnd.plotly.v1+json": {
       "data": [
        {
         "fill": "tozeroy",
         "type": "scatter",
         "uid": "c3334eff-459e-4460-b797-f8e3737806e8",
         "x": [
          1,
          2,
          3,
          4,
          5
         ],
         "y": [
          92.5,
          132.6,
          168.8,
          159.1,
          218.7
         ]
        },
        {
         "fill": "tonexty",
         "type": "scatter",
         "uid": "3e030424-8e33-4b3e-9c16-eabb619cebba",
         "x": [
          1,
          2,
          3,
          4,
          5
         ],
         "y": [
          113.7,
          163.2,
          206.10000000000002,
          243.7,
          403
         ]
        }
       ],
       "layout": {}
      },
      "text/html": [
       "<div id=\"90a9e702-dcf6-4853-9e87-a312adaa483e\" style=\"height: 525px; width: 100%;\" class=\"plotly-graph-div\"></div><script type=\"text/javascript\">require([\"plotly\"], function(Plotly) { window.PLOTLYENV=window.PLOTLYENV || {};window.PLOTLYENV.BASE_URL=\"https://plot.ly\";Plotly.newPlot(\"90a9e702-dcf6-4853-9e87-a312adaa483e\", [{\"fill\": \"tozeroy\", \"x\": [1, 2, 3, 4, 5], \"y\": [92.5, 132.6, 168.8, 159.1, 218.7], \"type\": \"scatter\", \"uid\": \"d82cde84-4b50-49e3-ba55-008532928926\"}, {\"fill\": \"tonexty\", \"x\": [1, 2, 3, 4, 5], \"y\": [113.7, 163.2, 206.10000000000002, 243.7, 403.0], \"type\": \"scatter\", \"uid\": \"eaed375b-160e-4ace-8d48-1ac9b2e90b3d\"}], {}, {\"showLink\": true, \"linkText\": \"Export to plot.ly\"})});</script><script type=\"text/javascript\">window.addEventListener(\"resize\", function(){Plotly.Plots.resize(document.getElementById(\"90a9e702-dcf6-4853-9e87-a312adaa483e\"));});</script>"
      ],
      "text/vnd.plotly.v1+html": [
       "<div id=\"90a9e702-dcf6-4853-9e87-a312adaa483e\" style=\"height: 525px; width: 100%;\" class=\"plotly-graph-div\"></div><script type=\"text/javascript\">require([\"plotly\"], function(Plotly) { window.PLOTLYENV=window.PLOTLYENV || {};window.PLOTLYENV.BASE_URL=\"https://plot.ly\";Plotly.newPlot(\"90a9e702-dcf6-4853-9e87-a312adaa483e\", [{\"fill\": \"tozeroy\", \"x\": [1, 2, 3, 4, 5], \"y\": [92.5, 132.6, 168.8, 159.1, 218.7], \"type\": \"scatter\", \"uid\": \"d82cde84-4b50-49e3-ba55-008532928926\"}, {\"fill\": \"tonexty\", \"x\": [1, 2, 3, 4, 5], \"y\": [113.7, 163.2, 206.10000000000002, 243.7, 403.0], \"type\": \"scatter\", \"uid\": \"eaed375b-160e-4ace-8d48-1ac9b2e90b3d\"}], {}, {\"showLink\": true, \"linkText\": \"Export to plot.ly\"})});</script><script type=\"text/javascript\">window.addEventListener(\"resize\", function(){Plotly.Plots.resize(document.getElementById(\"90a9e702-dcf6-4853-9e87-a312adaa483e\"));});</script>"
      ]
     },
     "metadata": {},
     "output_type": "display_data"
    }
   ],
   "source": [
    "pyo.iplot(data)"
   ]
  },
  {
   "cell_type": "markdown",
   "metadata": {},
   "source": [
    "## Bar Chart"
   ]
  },
  {
   "cell_type": "code",
   "execution_count": 50,
   "metadata": {},
   "outputs": [],
   "source": [
    "traindata = pandas.read_csv('data/train.csv')"
   ]
  },
  {
   "cell_type": "code",
   "execution_count": 54,
   "metadata": {},
   "outputs": [],
   "source": [
    "stat = traindata.groupby('YrSold')['Id'].count()"
   ]
  },
  {
   "cell_type": "code",
   "execution_count": 55,
   "metadata": {},
   "outputs": [
    {
     "name": "stdout",
     "output_type": "stream",
     "text": [
      "Populating the interactive namespace from numpy and matplotlib\n"
     ]
    },
    {
     "data": {
      "text/plain": [
       "<matplotlib.axes._subplots.AxesSubplot at 0x11794f828>"
      ]
     },
     "execution_count": 55,
     "metadata": {},
     "output_type": "execute_result"
    },
    {
     "data": {
      "image/png": "[encoded data removed]",
      "text/plain": [
       "<Figure size 432x288 with 1 Axes>"
      ]
     },
     "metadata": {},
     "output_type": "display_data"
    }
   ],
   "source": [
    "%pylab inline\n",
    "stat.plot(kind='bar')"
   ]
  },
  {
   "cell_type": "code",
   "execution_count": 56,
   "metadata": {},
   "outputs": [
    {
     "name": "stdout",
     "output_type": "stream",
     "text": [
      "Populating the interactive namespace from numpy and matplotlib\n"
     ]
    },
    {
     "data": {
      "text/plain": [
       "<matplotlib.axes._subplots.AxesSubplot at 0x119ccc470>"
      ]
     },
     "execution_count": 56,
     "metadata": {},
     "output_type": "execute_result"
    },
    {
     "data": {
      "image/png": "[encoded data removed]",
      "text/plain": [
       "<Figure size 432x288 with 1 Axes>"
      ]
     },
     "metadata": {},
     "output_type": "display_data"
    }
   ],
   "source": [
    "%pylab inline\n",
    "stat.plot(kind='barh')"
   ]
  },
  {
   "cell_type": "code",
   "execution_count": 60,
   "metadata": {},
   "outputs": [],
   "source": [
    "data = [go.Bar(\n",
    "    x=stat.index,  \n",
    "    y=stat\n",
    ")]\n"
   ]
  },
  {
   "cell_type": "code",
   "execution_count": 61,
   "metadata": {},
   "outputs": [
    {
     "data": {
      "application/vnd.plotly.v1+json": {
       "data": [
        {
         "type": "bar",
         "uid": "10d13d79-dc77-4660-915d-d651625d6cd6",
         "x": [
          2006,
          2007,
          2008,
          2009,
          2010
         ],
         "y": [
          314,
          329,
          304,
          338,
          175
         ]
        }
       ],
       "layout": {}
      },
      "text/html": [
       "<div id=\"15cbd49b-7aec-4872-b402-71824299e66a\" style=\"height: 525px; width: 100%;\" class=\"plotly-graph-div\"></div><script type=\"text/javascript\">require([\"plotly\"], function(Plotly) { window.PLOTLYENV=window.PLOTLYENV || {};window.PLOTLYENV.BASE_URL=\"https://plot.ly\";Plotly.newPlot(\"15cbd49b-7aec-4872-b402-71824299e66a\", [{\"x\": [2006, 2007, 2008, 2009, 2010], \"y\": [314, 329, 304, 338, 175], \"type\": \"bar\", \"uid\": \"6c2ef34f-1d3d-43d3-9f17-2738917ad6c2\"}], {}, {\"showLink\": true, \"linkText\": \"Export to plot.ly\"})});</script><script type=\"text/javascript\">window.addEventListener(\"resize\", function(){Plotly.Plots.resize(document.getElementById(\"15cbd49b-7aec-4872-b402-71824299e66a\"));});</script>"
      ],
      "text/vnd.plotly.v1+html": [
       "<div id=\"15cbd49b-7aec-4872-b402-71824299e66a\" style=\"height: 525px; width: 100%;\" class=\"plotly-graph-div\"></div><script type=\"text/javascript\">require([\"plotly\"], function(Plotly) { window.PLOTLYENV=window.PLOTLYENV || {};window.PLOTLYENV.BASE_URL=\"https://plot.ly\";Plotly.newPlot(\"15cbd49b-7aec-4872-b402-71824299e66a\", [{\"x\": [2006, 2007, 2008, 2009, 2010], \"y\": [314, 329, 304, 338, 175], \"type\": \"bar\", \"uid\": \"6c2ef34f-1d3d-43d3-9f17-2738917ad6c2\"}], {}, {\"showLink\": true, \"linkText\": \"Export to plot.ly\"})});</script><script type=\"text/javascript\">window.addEventListener(\"resize\", function(){Plotly.Plots.resize(document.getElementById(\"15cbd49b-7aec-4872-b402-71824299e66a\"));});</script>"
      ]
     },
     "metadata": {},
     "output_type": "display_data"
    }
   ],
   "source": [
    "pyo.iplot(data, filename='bar1.html')\n"
   ]
  },
  {
   "cell_type": "code",
   "execution_count": 68,
   "metadata": {},
   "outputs": [],
   "source": [
    "stat = traindata.groupby(['HouseStyle','YrSold'])['Id'].count().unstack()"
   ]
  },
  {
   "cell_type": "code",
   "execution_count": 69,
   "metadata": {},
   "outputs": [
    {
     "data": {
      "text/html": [
       "<div>\n",
       "<style>\n",
       "    .dataframe thead tr:only-child th {\n",
       "        text-align: right;\n",
       "    }\n",
       "\n",
       "    .dataframe thead th {\n",
       "        text-align: left;\n",
       "    }\n",
       "\n",
       "    .dataframe tbody tr th {\n",
       "        vertical-align: top;\n",
       "    }\n",
       "</style>\n",
       "<table border=\"1\" class=\"dataframe\">\n",
       "  <thead>\n",
       "    <tr style=\"text-align: right;\">\n",
       "      <th>YrSold</th>\n",
       "      <th>2006</th>\n",
       "      <th>2007</th>\n",
       "      <th>2008</th>\n",
       "      <th>2009</th>\n",
       "      <th>2010</th>\n",
       "    </tr>\n",
       "    <tr>\n",
       "      <th>HouseStyle</th>\n",
       "      <th></th>\n",
       "      <th></th>\n",
       "      <th></th>\n",
       "      <th></th>\n",
       "      <th></th>\n",
       "    </tr>\n",
       "  </thead>\n",
       "  <tbody>\n",
       "    <tr>\n",
       "      <th>1.5Fin</th>\n",
       "      <td>34.0</td>\n",
       "      <td>28.0</td>\n",
       "      <td>37.0</td>\n",
       "      <td>39.0</td>\n",
       "      <td>16.0</td>\n",
       "    </tr>\n",
       "    <tr>\n",
       "      <th>1.5Unf</th>\n",
       "      <td>1.0</td>\n",
       "      <td>7.0</td>\n",
       "      <td>3.0</td>\n",
       "      <td>3.0</td>\n",
       "      <td>NaN</td>\n",
       "    </tr>\n",
       "    <tr>\n",
       "      <th>1Story</th>\n",
       "      <td>151.0</td>\n",
       "      <td>167.0</td>\n",
       "      <td>146.0</td>\n",
       "      <td>167.0</td>\n",
       "      <td>95.0</td>\n",
       "    </tr>\n",
       "    <tr>\n",
       "      <th>2.5Fin</th>\n",
       "      <td>2.0</td>\n",
       "      <td>1.0</td>\n",
       "      <td>3.0</td>\n",
       "      <td>2.0</td>\n",
       "      <td>NaN</td>\n",
       "    </tr>\n",
       "    <tr>\n",
       "      <th>2.5Unf</th>\n",
       "      <td>2.0</td>\n",
       "      <td>4.0</td>\n",
       "      <td>3.0</td>\n",
       "      <td>2.0</td>\n",
       "      <td>NaN</td>\n",
       "    </tr>\n",
       "    <tr>\n",
       "      <th>2Story</th>\n",
       "      <td>101.0</td>\n",
       "      <td>99.0</td>\n",
       "      <td>92.0</td>\n",
       "      <td>102.0</td>\n",
       "      <td>51.0</td>\n",
       "    </tr>\n",
       "    <tr>\n",
       "      <th>SFoyer</th>\n",
       "      <td>8.0</td>\n",
       "      <td>9.0</td>\n",
       "      <td>5.0</td>\n",
       "      <td>9.0</td>\n",
       "      <td>6.0</td>\n",
       "    </tr>\n",
       "    <tr>\n",
       "      <th>SLvl</th>\n",
       "      <td>15.0</td>\n",
       "      <td>14.0</td>\n",
       "      <td>15.0</td>\n",
       "      <td>14.0</td>\n",
       "      <td>7.0</td>\n",
       "    </tr>\n",
       "  </tbody>\n",
       "</table>\n",
       "</div>"
      ],
      "text/plain": [
       "YrSold       2006   2007   2008   2009  2010\n",
       "HouseStyle                                  \n",
       "1.5Fin       34.0   28.0   37.0   39.0  16.0\n",
       "1.5Unf        1.0    7.0    3.0    3.0   NaN\n",
       "1Story      151.0  167.0  146.0  167.0  95.0\n",
       "2.5Fin        2.0    1.0    3.0    2.0   NaN\n",
       "2.5Unf        2.0    4.0    3.0    2.0   NaN\n",
       "2Story      101.0   99.0   92.0  102.0  51.0\n",
       "SFoyer        8.0    9.0    5.0    9.0   6.0\n",
       "SLvl         15.0   14.0   15.0   14.0   7.0"
      ]
     },
     "execution_count": 69,
     "metadata": {},
     "output_type": "execute_result"
    }
   ],
   "source": [
    "stat"
   ]
  },
  {
   "cell_type": "code",
   "execution_count": 80,
   "metadata": {},
   "outputs": [],
   "source": [
    "trace1 = go.Bar(\n",
    "    x=stat.index,  \n",
    "    y=stat[2006],\n",
    "    name = '2006',\n",
    "    marker=dict(color='#FFD700')\n",
    ")\n",
    "\n",
    "trace2 = go.Bar(\n",
    "    x=stat.index,  \n",
    "    y=stat[2007],\n",
    "    name = '2007',\n",
    "    marker=dict(color='#9EA0A1')\n",
    ")\n"
   ]
  },
  {
   "cell_type": "code",
   "execution_count": 81,
   "metadata": {},
   "outputs": [
    {
     "data": {
      "application/vnd.plotly.v1+json": {
       "data": [
        {
         "marker": {
          "color": "#FFD700"
         },
         "name": "2006",
         "type": "bar",
         "uid": "709d0ad0-f85d-466e-a8d6-c3c20fdafbaa",
         "x": [
          "1.5Fin",
          "1.5Unf",
          "1Story",
          "2.5Fin",
          "2.5Unf",
          "2Story",
          "SFoyer",
          "SLvl"
         ],
         "y": [
          34,
          1,
          151,
          2,
          2,
          101,
          8,
          15
         ]
        },
        {
         "marker": {
          "color": "#9EA0A1"
         },
         "name": "2007",
         "type": "bar",
         "uid": "4ce5bdaf-b15e-47dc-b97b-f9ee4c65bcce",
         "x": [
          "1.5Fin",
          "1.5Unf",
          "1Story",
          "2.5Fin",
          "2.5Unf",
          "2Story",
          "SFoyer",
          "SLvl"
         ],
         "y": [
          28,
          7,
          167,
          1,
          4,
          99,
          9,
          14
         ]
        }
       ],
       "layout": {}
      },
      "text/html": [
       "<div id=\"098a334b-6692-4d22-bbc5-f02e48320416\" style=\"height: 525px; width: 100%;\" class=\"plotly-graph-div\"></div><script type=\"text/javascript\">require([\"plotly\"], function(Plotly) { window.PLOTLYENV=window.PLOTLYENV || {};window.PLOTLYENV.BASE_URL=\"https://plot.ly\";Plotly.newPlot(\"098a334b-6692-4d22-bbc5-f02e48320416\", [{\"marker\": {\"color\": \"#FFD700\"}, \"name\": \"2006\", \"x\": [\"1.5Fin\", \"1.5Unf\", \"1Story\", \"2.5Fin\", \"2.5Unf\", \"2Story\", \"SFoyer\", \"SLvl\"], \"y\": [34.0, 1.0, 151.0, 2.0, 2.0, 101.0, 8.0, 15.0], \"type\": \"bar\", \"uid\": \"709d0ad0-f85d-466e-a8d6-c3c20fdafbaa\"}, {\"marker\": {\"color\": \"#9EA0A1\"}, \"name\": \"2007\", \"x\": [\"1.5Fin\", \"1.5Unf\", \"1Story\", \"2.5Fin\", \"2.5Unf\", \"2Story\", \"SFoyer\", \"SLvl\"], \"y\": [28.0, 7.0, 167.0, 1.0, 4.0, 99.0, 9.0, 14.0], \"type\": \"bar\", \"uid\": \"4ce5bdaf-b15e-47dc-b97b-f9ee4c65bcce\"}], {}, {\"showLink\": true, \"linkText\": \"Export to plot.ly\"})});</script><script type=\"text/javascript\">window.addEventListener(\"resize\", function(){Plotly.Plots.resize(document.getElementById(\"098a334b-6692-4d22-bbc5-f02e48320416\"));});</script>"
      ],
      "text/vnd.plotly.v1+html": [
       "<div id=\"098a334b-6692-4d22-bbc5-f02e48320416\" style=\"height: 525px; width: 100%;\" class=\"plotly-graph-div\"></div><script type=\"text/javascript\">require([\"plotly\"], function(Plotly) { window.PLOTLYENV=window.PLOTLYENV || {};window.PLOTLYENV.BASE_URL=\"https://plot.ly\";Plotly.newPlot(\"098a334b-6692-4d22-bbc5-f02e48320416\", [{\"marker\": {\"color\": \"#FFD700\"}, \"name\": \"2006\", \"x\": [\"1.5Fin\", \"1.5Unf\", \"1Story\", \"2.5Fin\", \"2.5Unf\", \"2Story\", \"SFoyer\", \"SLvl\"], \"y\": [34.0, 1.0, 151.0, 2.0, 2.0, 101.0, 8.0, 15.0], \"type\": \"bar\", \"uid\": \"709d0ad0-f85d-466e-a8d6-c3c20fdafbaa\"}, {\"marker\": {\"color\": \"#9EA0A1\"}, \"name\": \"2007\", \"x\": [\"1.5Fin\", \"1.5Unf\", \"1Story\", \"2.5Fin\", \"2.5Unf\", \"2Story\", \"SFoyer\", \"SLvl\"], \"y\": [28.0, 7.0, 167.0, 1.0, 4.0, 99.0, 9.0, 14.0], \"type\": \"bar\", \"uid\": \"4ce5bdaf-b15e-47dc-b97b-f9ee4c65bcce\"}], {}, {\"showLink\": true, \"linkText\": \"Export to plot.ly\"})});</script><script type=\"text/javascript\">window.addEventListener(\"resize\", function(){Plotly.Plots.resize(document.getElementById(\"098a334b-6692-4d22-bbc5-f02e48320416\"));});</script>"
      ]
     },
     "metadata": {},
     "output_type": "display_data"
    }
   ],
   "source": [
    "data = [trace1, trace2]\n",
    "\n",
    "fig = go.Figure(data=data)\n",
    "pyo.iplot(fig, filename='bar2.html')\n"
   ]
  },
  {
   "cell_type": "code",
   "execution_count": 82,
   "metadata": {},
   "outputs": [],
   "source": [
    "data = [go.Bar(\n",
    "    x=stat.index,  \n",
    "    y=stat[col],\n",
    "    name = str(col)\n",
    ") for col in stat.columns]"
   ]
  },
  {
   "cell_type": "code",
   "execution_count": 83,
   "metadata": {},
   "outputs": [
    {
     "data": {
      "application/vnd.plotly.v1+json": {
       "data": [
        {
         "name": "2006",
         "type": "bar",
         "uid": "0e5bfcd7-7c07-45b7-9dcc-a9220cc637a5",
         "x": [
          "1.5Fin",
          "1.5Unf",
          "1Story",
          "2.5Fin",
          "2.5Unf",
          "2Story",
          "SFoyer",
          "SLvl"
         ],
         "y": [
          34,
          1,
          151,
          2,
          2,
          101,
          8,
          15
         ]
        },
        {
         "name": "2007",
         "type": "bar",
         "uid": "b24ac85c-9090-4e13-a42f-742b04f8d860",
         "x": [
          "1.5Fin",
          "1.5Unf",
          "1Story",
          "2.5Fin",
          "2.5Unf",
          "2Story",
          "SFoyer",
          "SLvl"
         ],
         "y": [
          28,
          7,
          167,
          1,
          4,
          99,
          9,
          14
         ]
        },
        {
         "name": "2008",
         "type": "bar",
         "uid": "94701491-818c-4842-9568-57016b5dfde6",
         "x": [
          "1.5Fin",
          "1.5Unf",
          "1Story",
          "2.5Fin",
          "2.5Unf",
          "2Story",
          "SFoyer",
          "SLvl"
         ],
         "y": [
          37,
          3,
          146,
          3,
          3,
          92,
          5,
          15
         ]
        },
        {
         "name": "2009",
         "type": "bar",
         "uid": "5ad83dbe-2c2b-42d3-84d4-aabdb9b16acc",
         "x": [
          "1.5Fin",
          "1.5Unf",
          "1Story",
          "2.5Fin",
          "2.5Unf",
          "2Story",
          "SFoyer",
          "SLvl"
         ],
         "y": [
          39,
          3,
          167,
          2,
          2,
          102,
          9,
          14
         ]
        },
        {
         "name": "2010",
         "type": "bar",
         "uid": "39b50022-7539-4924-b0bd-2dad36714482",
         "x": [
          "1.5Fin",
          "1.5Unf",
          "1Story",
          "2.5Fin",
          "2.5Unf",
          "2Story",
          "SFoyer",
          "SLvl"
         ],
         "y": [
          16,
          null,
          95,
          null,
          null,
          51,
          6,
          7
         ]
        }
       ],
       "layout": {}
      },
      "text/html": [
       "<div id=\"458665b7-58fe-455d-af0b-f53cc07c4ec3\" style=\"height: 525px; width: 100%;\" class=\"plotly-graph-div\"></div><script type=\"text/javascript\">require([\"plotly\"], function(Plotly) { window.PLOTLYENV=window.PLOTLYENV || {};window.PLOTLYENV.BASE_URL=\"https://plot.ly\";Plotly.newPlot(\"458665b7-58fe-455d-af0b-f53cc07c4ec3\", [{\"name\": \"2006\", \"x\": [\"1.5Fin\", \"1.5Unf\", \"1Story\", \"2.5Fin\", \"2.5Unf\", \"2Story\", \"SFoyer\", \"SLvl\"], \"y\": [34.0, 1.0, 151.0, 2.0, 2.0, 101.0, 8.0, 15.0], \"type\": \"bar\", \"uid\": \"0e5bfcd7-7c07-45b7-9dcc-a9220cc637a5\"}, {\"name\": \"2007\", \"x\": [\"1.5Fin\", \"1.5Unf\", \"1Story\", \"2.5Fin\", \"2.5Unf\", \"2Story\", \"SFoyer\", \"SLvl\"], \"y\": [28.0, 7.0, 167.0, 1.0, 4.0, 99.0, 9.0, 14.0], \"type\": \"bar\", \"uid\": \"b24ac85c-9090-4e13-a42f-742b04f8d860\"}, {\"name\": \"2008\", \"x\": [\"1.5Fin\", \"1.5Unf\", \"1Story\", \"2.5Fin\", \"2.5Unf\", \"2Story\", \"SFoyer\", \"SLvl\"], \"y\": [37.0, 3.0, 146.0, 3.0, 3.0, 92.0, 5.0, 15.0], \"type\": \"bar\", \"uid\": \"94701491-818c-4842-9568-57016b5dfde6\"}, {\"name\": \"2009\", \"x\": [\"1.5Fin\", \"1.5Unf\", \"1Story\", \"2.5Fin\", \"2.5Unf\", \"2Story\", \"SFoyer\", \"SLvl\"], \"y\": [39.0, 3.0, 167.0, 2.0, 2.0, 102.0, 9.0, 14.0], \"type\": \"bar\", \"uid\": \"5ad83dbe-2c2b-42d3-84d4-aabdb9b16acc\"}, {\"name\": \"2010\", \"x\": [\"1.5Fin\", \"1.5Unf\", \"1Story\", \"2.5Fin\", \"2.5Unf\", \"2Story\", \"SFoyer\", \"SLvl\"], \"y\": [16.0, null, 95.0, null, null, 51.0, 6.0, 7.0], \"type\": \"bar\", \"uid\": \"39b50022-7539-4924-b0bd-2dad36714482\"}], {}, {\"showLink\": true, \"linkText\": \"Export to plot.ly\"})});</script><script type=\"text/javascript\">window.addEventListener(\"resize\", function(){Plotly.Plots.resize(document.getElementById(\"458665b7-58fe-455d-af0b-f53cc07c4ec3\"));});</script>"
      ],
      "text/vnd.plotly.v1+html": [
       "<div id=\"458665b7-58fe-455d-af0b-f53cc07c4ec3\" style=\"height: 525px; width: 100%;\" class=\"plotly-graph-div\"></div><script type=\"text/javascript\">require([\"plotly\"], function(Plotly) { window.PLOTLYENV=window.PLOTLYENV || {};window.PLOTLYENV.BASE_URL=\"https://plot.ly\";Plotly.newPlot(\"458665b7-58fe-455d-af0b-f53cc07c4ec3\", [{\"name\": \"2006\", \"x\": [\"1.5Fin\", \"1.5Unf\", \"1Story\", \"2.5Fin\", \"2.5Unf\", \"2Story\", \"SFoyer\", \"SLvl\"], \"y\": [34.0, 1.0, 151.0, 2.0, 2.0, 101.0, 8.0, 15.0], \"type\": \"bar\", \"uid\": \"0e5bfcd7-7c07-45b7-9dcc-a9220cc637a5\"}, {\"name\": \"2007\", \"x\": [\"1.5Fin\", \"1.5Unf\", \"1Story\", \"2.5Fin\", \"2.5Unf\", \"2Story\", \"SFoyer\", \"SLvl\"], \"y\": [28.0, 7.0, 167.0, 1.0, 4.0, 99.0, 9.0, 14.0], \"type\": \"bar\", \"uid\": \"b24ac85c-9090-4e13-a42f-742b04f8d860\"}, {\"name\": \"2008\", \"x\": [\"1.5Fin\", \"1.5Unf\", \"1Story\", \"2.5Fin\", \"2.5Unf\", \"2Story\", \"SFoyer\", \"SLvl\"], \"y\": [37.0, 3.0, 146.0, 3.0, 3.0, 92.0, 5.0, 15.0], \"type\": \"bar\", \"uid\": \"94701491-818c-4842-9568-57016b5dfde6\"}, {\"name\": \"2009\", \"x\": [\"1.5Fin\", \"1.5Unf\", \"1Story\", \"2.5Fin\", \"2.5Unf\", \"2Story\", \"SFoyer\", \"SLvl\"], \"y\": [39.0, 3.0, 167.0, 2.0, 2.0, 102.0, 9.0, 14.0], \"type\": \"bar\", \"uid\": \"5ad83dbe-2c2b-42d3-84d4-aabdb9b16acc\"}, {\"name\": \"2010\", \"x\": [\"1.5Fin\", \"1.5Unf\", \"1Story\", \"2.5Fin\", \"2.5Unf\", \"2Story\", \"SFoyer\", \"SLvl\"], \"y\": [16.0, null, 95.0, null, null, 51.0, 6.0, 7.0], \"type\": \"bar\", \"uid\": \"39b50022-7539-4924-b0bd-2dad36714482\"}], {}, {\"showLink\": true, \"linkText\": \"Export to plot.ly\"})});</script><script type=\"text/javascript\">window.addEventListener(\"resize\", function(){Plotly.Plots.resize(document.getElementById(\"458665b7-58fe-455d-af0b-f53cc07c4ec3\"));});</script>"
      ]
     },
     "metadata": {},
     "output_type": "display_data"
    }
   ],
   "source": [
    "fig = go.Figure(data=data)\n",
    "pyo.iplot(fig, filename='bar2.html')"
   ]
  },
  {
   "cell_type": "markdown",
   "metadata": {},
   "source": [
    "## Adobe Color Wheel\n",
    "- https://color.adobe.com/zh/explore/?filter=most-popular&time=month\n",
    "- https://www.rgbtohex.net/"
   ]
  },
  {
   "cell_type": "code",
   "execution_count": 90,
   "metadata": {},
   "outputs": [],
   "source": [
    "?go.Bar"
   ]
  },
  {
   "cell_type": "code",
   "execution_count": 89,
   "metadata": {},
   "outputs": [
    {
     "data": {
      "application/vnd.plotly.v1+json": {
       "data": [
        {
         "name": "grades",
         "type": "bar",
         "uid": "242991f0-d2e1-4461-b8b0-4fdc9b84ab0b",
         "x": [
          1,
          2,
          3,
          4
         ],
         "y": [
          80,
          82,
          84,
          88
         ],
         "y0": 80
        }
       ],
       "layout": {}
      },
      "text/html": [
       "<div id=\"4dee295b-a1f5-4dcf-8f31-ef3a441828ec\" style=\"height: 525px; width: 100%;\" class=\"plotly-graph-div\"></div><script type=\"text/javascript\">require([\"plotly\"], function(Plotly) { window.PLOTLYENV=window.PLOTLYENV || {};window.PLOTLYENV.BASE_URL=\"https://plot.ly\";Plotly.newPlot(\"4dee295b-a1f5-4dcf-8f31-ef3a441828ec\", [{\"name\": \"grades\", \"x\": [1, 2, 3, 4], \"y\": [80, 82, 84, 88], \"y0\": 80, \"type\": \"bar\", \"uid\": \"61c19a09-cc5b-4697-8745-82bb34e2cbf7\"}], {}, {\"showLink\": true, \"linkText\": \"Export to plot.ly\"})});</script><script type=\"text/javascript\">window.addEventListener(\"resize\", function(){Plotly.Plots.resize(document.getElementById(\"4dee295b-a1f5-4dcf-8f31-ef3a441828ec\"));});</script>"
      ],
      "text/vnd.plotly.v1+html": [
       "<div id=\"4dee295b-a1f5-4dcf-8f31-ef3a441828ec\" style=\"height: 525px; width: 100%;\" class=\"plotly-graph-div\"></div><script type=\"text/javascript\">require([\"plotly\"], function(Plotly) { window.PLOTLYENV=window.PLOTLYENV || {};window.PLOTLYENV.BASE_URL=\"https://plot.ly\";Plotly.newPlot(\"4dee295b-a1f5-4dcf-8f31-ef3a441828ec\", [{\"name\": \"grades\", \"x\": [1, 2, 3, 4], \"y\": [80, 82, 84, 88], \"y0\": 80, \"type\": \"bar\", \"uid\": \"61c19a09-cc5b-4697-8745-82bb34e2cbf7\"}], {}, {\"showLink\": true, \"linkText\": \"Export to plot.ly\"})});</script><script type=\"text/javascript\">window.addEventListener(\"resize\", function(){Plotly.Plots.resize(document.getElementById(\"4dee295b-a1f5-4dcf-8f31-ef3a441828ec\"));});</script>"
      ]
     },
     "metadata": {},
     "output_type": "display_data"
    }
   ],
   "source": [
    "year   = [1,2,3,4]\n",
    "grades = [80,82,84,88]\n",
    "trace1 = go.Bar(\n",
    "    x=year,  \n",
    "    y=grades,\n",
    "    y0=80,\n",
    "    name = 'grades'\n",
    ")\n",
    "data = [trace1]\n",
    "pyo.iplot(data)"
   ]
  },
  {
   "cell_type": "code",
   "execution_count": null,
   "metadata": {},
   "outputs": [],
   "source": []
  }
 ],
 "metadata": {
  "kernelspec": {
   "display_name": "Python 3",
   "language": "python",
   "name": "python3"
  },
  "language_info": {
   "codemirror_mode": {
    "name": "ipython",
    "version": 3
   },
   "file_extension": ".py",
   "mimetype": "text/x-python",
   "name": "python",
   "nbconvert_exporter": "python",
   "pygments_lexer": "ipython3",
   "version": "3.6.2"
  }
 },
 "nbformat": 4,
 "nbformat_minor": 2
}
