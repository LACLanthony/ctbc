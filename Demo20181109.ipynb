{
 "cells": [
  {
   "cell_type": "markdown",
   "metadata": {},
   "source": [
    "## 安裝 plotly"
   ]
  },
  {
   "cell_type": "code",
   "execution_count": 1,
   "metadata": {},
   "outputs": [
    {
     "name": "stdout",
     "output_type": "stream",
     "text": [
      "Requirement already satisfied: plotly in /Users/davidchiu/.pyenv/versions/3.6.2/lib/python3.6/site-packages\n",
      "Requirement already satisfied: six in /Users/davidchiu/.pyenv/versions/3.6.2/lib/python3.6/site-packages (from plotly)\n",
      "Requirement already satisfied: pytz in /Users/davidchiu/.pyenv/versions/3.6.2/lib/python3.6/site-packages (from plotly)\n",
      "Requirement already satisfied: decorator>=4.0.6 in /Users/davidchiu/.pyenv/versions/3.6.2/lib/python3.6/site-packages (from plotly)\n",
      "Requirement already satisfied: requests in /Users/davidchiu/.pyenv/versions/3.6.2/lib/python3.6/site-packages (from plotly)\n",
      "Requirement already satisfied: retrying>=1.3.3 in /Users/davidchiu/.pyenv/versions/3.6.2/lib/python3.6/site-packages (from plotly)\n",
      "Requirement already satisfied: nbformat>=4.2 in /Users/davidchiu/.pyenv/versions/3.6.2/lib/python3.6/site-packages (from plotly)\n",
      "Requirement already satisfied: certifi>=2017.4.17 in /Users/davidchiu/.pyenv/versions/3.6.2/lib/python3.6/site-packages (from requests->plotly)\n",
      "Requirement already satisfied: chardet<3.1.0,>=3.0.2 in /Users/davidchiu/.pyenv/versions/3.6.2/lib/python3.6/site-packages (from requests->plotly)\n",
      "Requirement already satisfied: idna<2.8,>=2.5 in /Users/davidchiu/.pyenv/versions/3.6.2/lib/python3.6/site-packages (from requests->plotly)\n",
      "Requirement already satisfied: urllib3<1.25,>=1.21.1 in /Users/davidchiu/.pyenv/versions/3.6.2/lib/python3.6/site-packages (from requests->plotly)\n",
      "Requirement already satisfied: traitlets>=4.1 in /Users/davidchiu/.pyenv/versions/3.6.2/lib/python3.6/site-packages (from nbformat>=4.2->plotly)\n",
      "Requirement already satisfied: jupyter-core in /Users/davidchiu/.pyenv/versions/3.6.2/lib/python3.6/site-packages (from nbformat>=4.2->plotly)\n",
      "Requirement already satisfied: jsonschema!=2.5.0,>=2.4 in /Users/davidchiu/.pyenv/versions/3.6.2/lib/python3.6/site-packages (from nbformat>=4.2->plotly)\n",
      "Requirement already satisfied: ipython-genutils in /Users/davidchiu/.pyenv/versions/3.6.2/lib/python3.6/site-packages (from nbformat>=4.2->plotly)\n",
      "\u001b[33mYou are using pip version 9.0.1, however version 18.1 is available.\n",
      "You should consider upgrading via the 'pip install --upgrade pip' command.\u001b[0m\n"
     ]
    }
   ],
   "source": [
    "! pip install plotly"
   ]
  },
  {
   "cell_type": "markdown",
   "metadata": {},
   "source": [
    "## Scatter Plot"
   ]
  },
  {
   "cell_type": "code",
   "execution_count": 1,
   "metadata": {},
   "outputs": [
    {
     "data": {
      "text/html": [
       "<script type=\"text/javascript\">window.PlotlyConfig = {MathJaxConfig: 'local'};</script><script type=\"text/javascript\">if (window.MathJax) {MathJax.Hub.Config({SVG: {font: \"STIX-Web\"}});}</script><script>requirejs.config({paths: { 'plotly': ['https://cdn.plot.ly/plotly-latest.min']},});if(!window._Plotly) {require(['plotly'],function(plotly) {window._Plotly=plotly;});}</script>"
      ],
      "text/vnd.plotly.v1+html": [
       "<script type=\"text/javascript\">window.PlotlyConfig = {MathJaxConfig: 'local'};</script><script type=\"text/javascript\">if (window.MathJax) {MathJax.Hub.Config({SVG: {font: \"STIX-Web\"}});}</script><script>requirejs.config({paths: { 'plotly': ['https://cdn.plot.ly/plotly-latest.min']},});if(!window._Plotly) {require(['plotly'],function(plotly) {window._Plotly=plotly;});}</script>"
      ]
     },
     "metadata": {},
     "output_type": "display_data"
    }
   ],
   "source": [
    "import plotly.offline as pyo\n",
    "import plotly.graph_objs as go\n",
    "import numpy as np\n",
    "pyo.init_notebook_mode(connected=True)"
   ]
  },
  {
   "cell_type": "code",
   "execution_count": 2,
   "metadata": {},
   "outputs": [
    {
     "data": {
      "text/plain": [
       "array([39, 29, 15,  8, 21, 39])"
      ]
     },
     "execution_count": 2,
     "metadata": {},
     "output_type": "execute_result"
    }
   ],
   "source": [
    "np.random.seed(42)\n",
    "np.random.randint(1,42,6)"
   ]
  },
  {
   "cell_type": "code",
   "execution_count": 3,
   "metadata": {},
   "outputs": [],
   "source": [
    "np.random.seed(42)\n",
    "random_x = np.random.randint(1,101,100)\n",
    "random_y = np.random.randint(1,101,100)"
   ]
  },
  {
   "cell_type": "code",
   "execution_count": 4,
   "metadata": {},
   "outputs": [],
   "source": [
    "data = [\n",
    "    go.Scatter(\n",
    "        x = random_x,\n",
    "        y = random_y,\n",
    "        mode = 'markers',\n",
    "    )\n",
    "]\n"
   ]
  },
  {
   "cell_type": "code",
   "execution_count": 6,
   "metadata": {},
   "outputs": [
    {
     "data": {
      "application/vnd.plotly.v1+json": {
       "data": [
        {
         "mode": "markers",
         "type": "scatter",
         "uid": "38fddc69-f74b-4116-b11e-c342c10eaede",
         "x": [
          52,
          93,
          15,
          72,
          61,
          21,
          83,
          87,
          75,
          75,
          88,
          100,
          24,
          3,
          22,
          53,
          2,
          88,
          30,
          38,
          2,
          64,
          60,
          21,
          33,
          76,
          58,
          22,
          89,
          49,
          91,
          59,
          42,
          92,
          60,
          80,
          15,
          62,
          62,
          47,
          62,
          51,
          55,
          64,
          3,
          51,
          7,
          21,
          73,
          39,
          18,
          4,
          89,
          60,
          14,
          9,
          90,
          53,
          2,
          84,
          92,
          60,
          71,
          44,
          8,
          47,
          35,
          78,
          81,
          36,
          50,
          4,
          2,
          6,
          54,
          4,
          54,
          93,
          63,
          18,
          90,
          44,
          34,
          74,
          62,
          100,
          14,
          95,
          48,
          15,
          72,
          78,
          87,
          62,
          40,
          85,
          80,
          82,
          53,
          24
         ],
         "y": [
          26,
          89,
          60,
          41,
          29,
          15,
          45,
          65,
          89,
          71,
          9,
          88,
          1,
          8,
          88,
          63,
          11,
          81,
          8,
          35,
          35,
          33,
          5,
          41,
          28,
          7,
          73,
          72,
          12,
          34,
          33,
          48,
          23,
          62,
          88,
          37,
          99,
          44,
          86,
          91,
          35,
          65,
          99,
          47,
          78,
          3,
          1,
          5,
          90,
          14,
          27,
          9,
          79,
          15,
          90,
          42,
          77,
          51,
          63,
          96,
          52,
          96,
          4,
          94,
          23,
          15,
          43,
          29,
          36,
          13,
          32,
          71,
          59,
          86,
          28,
          66,
          42,
          45,
          62,
          57,
          6,
          28,
          28,
          44,
          84,
          30,
          62,
          75,
          92,
          89,
          62,
          97,
          1,
          27,
          62,
          77,
          3,
          70,
          72,
          27
         ]
        }
       ],
       "layout": {}
      },
      "text/html": [
       "<div id=\"55dbccc2-babd-4738-bb41-6899fef40737\" style=\"height: 525px; width: 100%;\" class=\"plotly-graph-div\"></div><script type=\"text/javascript\">require([\"plotly\"], function(Plotly) { window.PLOTLYENV=window.PLOTLYENV || {};window.PLOTLYENV.BASE_URL=\"https://plot.ly\";Plotly.newPlot(\"55dbccc2-babd-4738-bb41-6899fef40737\", [{\"mode\": \"markers\", \"x\": [52, 93, 15, 72, 61, 21, 83, 87, 75, 75, 88, 100, 24, 3, 22, 53, 2, 88, 30, 38, 2, 64, 60, 21, 33, 76, 58, 22, 89, 49, 91, 59, 42, 92, 60, 80, 15, 62, 62, 47, 62, 51, 55, 64, 3, 51, 7, 21, 73, 39, 18, 4, 89, 60, 14, 9, 90, 53, 2, 84, 92, 60, 71, 44, 8, 47, 35, 78, 81, 36, 50, 4, 2, 6, 54, 4, 54, 93, 63, 18, 90, 44, 34, 74, 62, 100, 14, 95, 48, 15, 72, 78, 87, 62, 40, 85, 80, 82, 53, 24], \"y\": [26, 89, 60, 41, 29, 15, 45, 65, 89, 71, 9, 88, 1, 8, 88, 63, 11, 81, 8, 35, 35, 33, 5, 41, 28, 7, 73, 72, 12, 34, 33, 48, 23, 62, 88, 37, 99, 44, 86, 91, 35, 65, 99, 47, 78, 3, 1, 5, 90, 14, 27, 9, 79, 15, 90, 42, 77, 51, 63, 96, 52, 96, 4, 94, 23, 15, 43, 29, 36, 13, 32, 71, 59, 86, 28, 66, 42, 45, 62, 57, 6, 28, 28, 44, 84, 30, 62, 75, 92, 89, 62, 97, 1, 27, 62, 77, 3, 70, 72, 27], \"type\": \"scatter\", \"uid\": \"75281724-7d92-4e81-8b2c-187ad9873e59\"}], {}, {\"showLink\": true, \"linkText\": \"Export to plot.ly\"})});</script><script type=\"text/javascript\">window.addEventListener(\"resize\", function(){Plotly.Plots.resize(document.getElementById(\"55dbccc2-babd-4738-bb41-6899fef40737\"));});</script>"
      ],
      "text/vnd.plotly.v1+html": [
       "<div id=\"55dbccc2-babd-4738-bb41-6899fef40737\" style=\"height: 525px; width: 100%;\" class=\"plotly-graph-div\"></div><script type=\"text/javascript\">require([\"plotly\"], function(Plotly) { window.PLOTLYENV=window.PLOTLYENV || {};window.PLOTLYENV.BASE_URL=\"https://plot.ly\";Plotly.newPlot(\"55dbccc2-babd-4738-bb41-6899fef40737\", [{\"mode\": \"markers\", \"x\": [52, 93, 15, 72, 61, 21, 83, 87, 75, 75, 88, 100, 24, 3, 22, 53, 2, 88, 30, 38, 2, 64, 60, 21, 33, 76, 58, 22, 89, 49, 91, 59, 42, 92, 60, 80, 15, 62, 62, 47, 62, 51, 55, 64, 3, 51, 7, 21, 73, 39, 18, 4, 89, 60, 14, 9, 90, 53, 2, 84, 92, 60, 71, 44, 8, 47, 35, 78, 81, 36, 50, 4, 2, 6, 54, 4, 54, 93, 63, 18, 90, 44, 34, 74, 62, 100, 14, 95, 48, 15, 72, 78, 87, 62, 40, 85, 80, 82, 53, 24], \"y\": [26, 89, 60, 41, 29, 15, 45, 65, 89, 71, 9, 88, 1, 8, 88, 63, 11, 81, 8, 35, 35, 33, 5, 41, 28, 7, 73, 72, 12, 34, 33, 48, 23, 62, 88, 37, 99, 44, 86, 91, 35, 65, 99, 47, 78, 3, 1, 5, 90, 14, 27, 9, 79, 15, 90, 42, 77, 51, 63, 96, 52, 96, 4, 94, 23, 15, 43, 29, 36, 13, 32, 71, 59, 86, 28, 66, 42, 45, 62, 57, 6, 28, 28, 44, 84, 30, 62, 75, 92, 89, 62, 97, 1, 27, 62, 77, 3, 70, 72, 27], \"type\": \"scatter\", \"uid\": \"75281724-7d92-4e81-8b2c-187ad9873e59\"}], {}, {\"showLink\": true, \"linkText\": \"Export to plot.ly\"})});</script><script type=\"text/javascript\">window.addEventListener(\"resize\", function(){Plotly.Plots.resize(document.getElementById(\"55dbccc2-babd-4738-bb41-6899fef40737\"));});</script>"
      ]
     },
     "metadata": {},
     "output_type": "display_data"
    }
   ],
   "source": [
    "pyo.iplot(data, filename='scatter1.html')"
   ]
  },
  {
   "cell_type": "code",
   "execution_count": 7,
   "metadata": {},
   "outputs": [],
   "source": [
    "layout = go.Layout(\n",
    "    title = 'Random Data Scatterplot',\n",
    "    xaxis = dict(title = 'Some random x-values'),\n",
    "    yaxis = dict(title = 'Some random y-values'),\n",
    "    hovermode ='closest' \n",
    ")\n"
   ]
  },
  {
   "cell_type": "code",
   "execution_count": 8,
   "metadata": {},
   "outputs": [
    {
     "data": {
      "application/vnd.plotly.v1+json": {
       "data": [
        {
         "mode": "markers",
         "type": "scatter",
         "uid": "a6a18509-61ab-4ada-8c6a-8e3ea198ed63",
         "x": [
          52,
          93,
          15,
          72,
          61,
          21,
          83,
          87,
          75,
          75,
          88,
          100,
          24,
          3,
          22,
          53,
          2,
          88,
          30,
          38,
          2,
          64,
          60,
          21,
          33,
          76,
          58,
          22,
          89,
          49,
          91,
          59,
          42,
          92,
          60,
          80,
          15,
          62,
          62,
          47,
          62,
          51,
          55,
          64,
          3,
          51,
          7,
          21,
          73,
          39,
          18,
          4,
          89,
          60,
          14,
          9,
          90,
          53,
          2,
          84,
          92,
          60,
          71,
          44,
          8,
          47,
          35,
          78,
          81,
          36,
          50,
          4,
          2,
          6,
          54,
          4,
          54,
          93,
          63,
          18,
          90,
          44,
          34,
          74,
          62,
          100,
          14,
          95,
          48,
          15,
          72,
          78,
          87,
          62,
          40,
          85,
          80,
          82,
          53,
          24
         ],
         "y": [
          26,
          89,
          60,
          41,
          29,
          15,
          45,
          65,
          89,
          71,
          9,
          88,
          1,
          8,
          88,
          63,
          11,
          81,
          8,
          35,
          35,
          33,
          5,
          41,
          28,
          7,
          73,
          72,
          12,
          34,
          33,
          48,
          23,
          62,
          88,
          37,
          99,
          44,
          86,
          91,
          35,
          65,
          99,
          47,
          78,
          3,
          1,
          5,
          90,
          14,
          27,
          9,
          79,
          15,
          90,
          42,
          77,
          51,
          63,
          96,
          52,
          96,
          4,
          94,
          23,
          15,
          43,
          29,
          36,
          13,
          32,
          71,
          59,
          86,
          28,
          66,
          42,
          45,
          62,
          57,
          6,
          28,
          28,
          44,
          84,
          30,
          62,
          75,
          92,
          89,
          62,
          97,
          1,
          27,
          62,
          77,
          3,
          70,
          72,
          27
         ]
        }
       ],
       "layout": {
        "hovermode": "closest",
        "title": "Random Data Scatterplot",
        "xaxis": {
         "title": "Some random x-values"
        },
        "yaxis": {
         "title": "Some random y-values"
        }
       }
      },
      "text/html": [
       "<div id=\"7872860b-7caa-4169-8713-d72cbac4ca4e\" style=\"height: 525px; width: 100%;\" class=\"plotly-graph-div\"></div><script type=\"text/javascript\">require([\"plotly\"], function(Plotly) { window.PLOTLYENV=window.PLOTLYENV || {};window.PLOTLYENV.BASE_URL=\"https://plot.ly\";Plotly.newPlot(\"7872860b-7caa-4169-8713-d72cbac4ca4e\", [{\"mode\": \"markers\", \"x\": [52, 93, 15, 72, 61, 21, 83, 87, 75, 75, 88, 100, 24, 3, 22, 53, 2, 88, 30, 38, 2, 64, 60, 21, 33, 76, 58, 22, 89, 49, 91, 59, 42, 92, 60, 80, 15, 62, 62, 47, 62, 51, 55, 64, 3, 51, 7, 21, 73, 39, 18, 4, 89, 60, 14, 9, 90, 53, 2, 84, 92, 60, 71, 44, 8, 47, 35, 78, 81, 36, 50, 4, 2, 6, 54, 4, 54, 93, 63, 18, 90, 44, 34, 74, 62, 100, 14, 95, 48, 15, 72, 78, 87, 62, 40, 85, 80, 82, 53, 24], \"y\": [26, 89, 60, 41, 29, 15, 45, 65, 89, 71, 9, 88, 1, 8, 88, 63, 11, 81, 8, 35, 35, 33, 5, 41, 28, 7, 73, 72, 12, 34, 33, 48, 23, 62, 88, 37, 99, 44, 86, 91, 35, 65, 99, 47, 78, 3, 1, 5, 90, 14, 27, 9, 79, 15, 90, 42, 77, 51, 63, 96, 52, 96, 4, 94, 23, 15, 43, 29, 36, 13, 32, 71, 59, 86, 28, 66, 42, 45, 62, 57, 6, 28, 28, 44, 84, 30, 62, 75, 92, 89, 62, 97, 1, 27, 62, 77, 3, 70, 72, 27], \"type\": \"scatter\", \"uid\": \"a6a18509-61ab-4ada-8c6a-8e3ea198ed63\"}], {\"hovermode\": \"closest\", \"title\": \"Random Data Scatterplot\", \"xaxis\": {\"title\": \"Some random x-values\"}, \"yaxis\": {\"title\": \"Some random y-values\"}}, {\"showLink\": true, \"linkText\": \"Export to plot.ly\"})});</script><script type=\"text/javascript\">window.addEventListener(\"resize\", function(){Plotly.Plots.resize(document.getElementById(\"7872860b-7caa-4169-8713-d72cbac4ca4e\"));});</script>"
      ],
      "text/vnd.plotly.v1+html": [
       "<div id=\"7872860b-7caa-4169-8713-d72cbac4ca4e\" style=\"height: 525px; width: 100%;\" class=\"plotly-graph-div\"></div><script type=\"text/javascript\">require([\"plotly\"], function(Plotly) { window.PLOTLYENV=window.PLOTLYENV || {};window.PLOTLYENV.BASE_URL=\"https://plot.ly\";Plotly.newPlot(\"7872860b-7caa-4169-8713-d72cbac4ca4e\", [{\"mode\": \"markers\", \"x\": [52, 93, 15, 72, 61, 21, 83, 87, 75, 75, 88, 100, 24, 3, 22, 53, 2, 88, 30, 38, 2, 64, 60, 21, 33, 76, 58, 22, 89, 49, 91, 59, 42, 92, 60, 80, 15, 62, 62, 47, 62, 51, 55, 64, 3, 51, 7, 21, 73, 39, 18, 4, 89, 60, 14, 9, 90, 53, 2, 84, 92, 60, 71, 44, 8, 47, 35, 78, 81, 36, 50, 4, 2, 6, 54, 4, 54, 93, 63, 18, 90, 44, 34, 74, 62, 100, 14, 95, 48, 15, 72, 78, 87, 62, 40, 85, 80, 82, 53, 24], \"y\": [26, 89, 60, 41, 29, 15, 45, 65, 89, 71, 9, 88, 1, 8, 88, 63, 11, 81, 8, 35, 35, 33, 5, 41, 28, 7, 73, 72, 12, 34, 33, 48, 23, 62, 88, 37, 99, 44, 86, 91, 35, 65, 99, 47, 78, 3, 1, 5, 90, 14, 27, 9, 79, 15, 90, 42, 77, 51, 63, 96, 52, 96, 4, 94, 23, 15, 43, 29, 36, 13, 32, 71, 59, 86, 28, 66, 42, 45, 62, 57, 6, 28, 28, 44, 84, 30, 62, 75, 92, 89, 62, 97, 1, 27, 62, 77, 3, 70, 72, 27], \"type\": \"scatter\", \"uid\": \"a6a18509-61ab-4ada-8c6a-8e3ea198ed63\"}], {\"hovermode\": \"closest\", \"title\": \"Random Data Scatterplot\", \"xaxis\": {\"title\": \"Some random x-values\"}, \"yaxis\": {\"title\": \"Some random y-values\"}}, {\"showLink\": true, \"linkText\": \"Export to plot.ly\"})});</script><script type=\"text/javascript\">window.addEventListener(\"resize\", function(){Plotly.Plots.resize(document.getElementById(\"7872860b-7caa-4169-8713-d72cbac4ca4e\"));});</script>"
      ]
     },
     "metadata": {},
     "output_type": "display_data"
    }
   ],
   "source": [
    "fig = go.Figure(data=data, layout=layout)\n",
    "pyo.iplot(fig, filename='scatter2.html')"
   ]
  },
  {
   "cell_type": "code",
   "execution_count": 9,
   "metadata": {},
   "outputs": [],
   "source": [
    "data = [\n",
    "    go.Scatter(\n",
    "        x = random_x,\n",
    "        y = random_y,\n",
    "        mode = 'markers',\n",
    "        marker = dict(      \n",
    "            size = 12,\n",
    "            color = 'rgb(51,204,153)',\n",
    "            symbol = 'pentagon',\n",
    "            line = dict(\n",
    "            width = 2,\n",
    "            )\n",
    "        )\n",
    "    )\n",
    "]\n"
   ]
  },
  {
   "cell_type": "code",
   "execution_count": 10,
   "metadata": {},
   "outputs": [],
   "source": [
    "?pyo.plot\n",
    "?pyo.iplot"
   ]
  },
  {
   "cell_type": "code",
   "execution_count": 11,
   "metadata": {},
   "outputs": [
    {
     "data": {
      "application/vnd.plotly.v1+json": {
       "data": [
        {
         "marker": {
          "color": "rgb(51,204,153)",
          "line": {
           "width": 2
          },
          "size": 12,
          "symbol": "pentagon"
         },
         "mode": "markers",
         "type": "scatter",
         "uid": "0c1896be-976b-4164-8b92-94eff327ace4",
         "x": [
          52,
          93,
          15,
          72,
          61,
          21,
          83,
          87,
          75,
          75,
          88,
          100,
          24,
          3,
          22,
          53,
          2,
          88,
          30,
          38,
          2,
          64,
          60,
          21,
          33,
          76,
          58,
          22,
          89,
          49,
          91,
          59,
          42,
          92,
          60,
          80,
          15,
          62,
          62,
          47,
          62,
          51,
          55,
          64,
          3,
          51,
          7,
          21,
          73,
          39,
          18,
          4,
          89,
          60,
          14,
          9,
          90,
          53,
          2,
          84,
          92,
          60,
          71,
          44,
          8,
          47,
          35,
          78,
          81,
          36,
          50,
          4,
          2,
          6,
          54,
          4,
          54,
          93,
          63,
          18,
          90,
          44,
          34,
          74,
          62,
          100,
          14,
          95,
          48,
          15,
          72,
          78,
          87,
          62,
          40,
          85,
          80,
          82,
          53,
          24
         ],
         "y": [
          26,
          89,
          60,
          41,
          29,
          15,
          45,
          65,
          89,
          71,
          9,
          88,
          1,
          8,
          88,
          63,
          11,
          81,
          8,
          35,
          35,
          33,
          5,
          41,
          28,
          7,
          73,
          72,
          12,
          34,
          33,
          48,
          23,
          62,
          88,
          37,
          99,
          44,
          86,
          91,
          35,
          65,
          99,
          47,
          78,
          3,
          1,
          5,
          90,
          14,
          27,
          9,
          79,
          15,
          90,
          42,
          77,
          51,
          63,
          96,
          52,
          96,
          4,
          94,
          23,
          15,
          43,
          29,
          36,
          13,
          32,
          71,
          59,
          86,
          28,
          66,
          42,
          45,
          62,
          57,
          6,
          28,
          28,
          44,
          84,
          30,
          62,
          75,
          92,
          89,
          62,
          97,
          1,
          27,
          62,
          77,
          3,
          70,
          72,
          27
         ]
        }
       ],
       "layout": {
        "hovermode": "closest",
        "title": "Random Data Scatterplot",
        "xaxis": {
         "title": "Some random x-values"
        },
        "yaxis": {
         "title": "Some random y-values"
        }
       }
      },
      "text/html": [
       "<div id=\"6c75e2df-4bdc-4acd-9ed2-51da82cfdea8\" style=\"height: 525px; width: 100%;\" class=\"plotly-graph-div\"></div><script type=\"text/javascript\">require([\"plotly\"], function(Plotly) { window.PLOTLYENV=window.PLOTLYENV || {};window.PLOTLYENV.BASE_URL=\"https://plot.ly\";Plotly.newPlot(\"6c75e2df-4bdc-4acd-9ed2-51da82cfdea8\", [{\"marker\": {\"color\": \"rgb(51,204,153)\", \"line\": {\"width\": 2}, \"size\": 12, \"symbol\": \"pentagon\"}, \"mode\": \"markers\", \"x\": [52, 93, 15, 72, 61, 21, 83, 87, 75, 75, 88, 100, 24, 3, 22, 53, 2, 88, 30, 38, 2, 64, 60, 21, 33, 76, 58, 22, 89, 49, 91, 59, 42, 92, 60, 80, 15, 62, 62, 47, 62, 51, 55, 64, 3, 51, 7, 21, 73, 39, 18, 4, 89, 60, 14, 9, 90, 53, 2, 84, 92, 60, 71, 44, 8, 47, 35, 78, 81, 36, 50, 4, 2, 6, 54, 4, 54, 93, 63, 18, 90, 44, 34, 74, 62, 100, 14, 95, 48, 15, 72, 78, 87, 62, 40, 85, 80, 82, 53, 24], \"y\": [26, 89, 60, 41, 29, 15, 45, 65, 89, 71, 9, 88, 1, 8, 88, 63, 11, 81, 8, 35, 35, 33, 5, 41, 28, 7, 73, 72, 12, 34, 33, 48, 23, 62, 88, 37, 99, 44, 86, 91, 35, 65, 99, 47, 78, 3, 1, 5, 90, 14, 27, 9, 79, 15, 90, 42, 77, 51, 63, 96, 52, 96, 4, 94, 23, 15, 43, 29, 36, 13, 32, 71, 59, 86, 28, 66, 42, 45, 62, 57, 6, 28, 28, 44, 84, 30, 62, 75, 92, 89, 62, 97, 1, 27, 62, 77, 3, 70, 72, 27], \"type\": \"scatter\", \"uid\": \"0c1896be-976b-4164-8b92-94eff327ace4\"}], {\"hovermode\": \"closest\", \"title\": \"Random Data Scatterplot\", \"xaxis\": {\"title\": \"Some random x-values\"}, \"yaxis\": {\"title\": \"Some random y-values\"}}, {\"showLink\": true, \"linkText\": \"Export to plot.ly\"})});</script><script type=\"text/javascript\">window.addEventListener(\"resize\", function(){Plotly.Plots.resize(document.getElementById(\"6c75e2df-4bdc-4acd-9ed2-51da82cfdea8\"));});</script>"
      ],
      "text/vnd.plotly.v1+html": [
       "<div id=\"6c75e2df-4bdc-4acd-9ed2-51da82cfdea8\" style=\"height: 525px; width: 100%;\" class=\"plotly-graph-div\"></div><script type=\"text/javascript\">require([\"plotly\"], function(Plotly) { window.PLOTLYENV=window.PLOTLYENV || {};window.PLOTLYENV.BASE_URL=\"https://plot.ly\";Plotly.newPlot(\"6c75e2df-4bdc-4acd-9ed2-51da82cfdea8\", [{\"marker\": {\"color\": \"rgb(51,204,153)\", \"line\": {\"width\": 2}, \"size\": 12, \"symbol\": \"pentagon\"}, \"mode\": \"markers\", \"x\": [52, 93, 15, 72, 61, 21, 83, 87, 75, 75, 88, 100, 24, 3, 22, 53, 2, 88, 30, 38, 2, 64, 60, 21, 33, 76, 58, 22, 89, 49, 91, 59, 42, 92, 60, 80, 15, 62, 62, 47, 62, 51, 55, 64, 3, 51, 7, 21, 73, 39, 18, 4, 89, 60, 14, 9, 90, 53, 2, 84, 92, 60, 71, 44, 8, 47, 35, 78, 81, 36, 50, 4, 2, 6, 54, 4, 54, 93, 63, 18, 90, 44, 34, 74, 62, 100, 14, 95, 48, 15, 72, 78, 87, 62, 40, 85, 80, 82, 53, 24], \"y\": [26, 89, 60, 41, 29, 15, 45, 65, 89, 71, 9, 88, 1, 8, 88, 63, 11, 81, 8, 35, 35, 33, 5, 41, 28, 7, 73, 72, 12, 34, 33, 48, 23, 62, 88, 37, 99, 44, 86, 91, 35, 65, 99, 47, 78, 3, 1, 5, 90, 14, 27, 9, 79, 15, 90, 42, 77, 51, 63, 96, 52, 96, 4, 94, 23, 15, 43, 29, 36, 13, 32, 71, 59, 86, 28, 66, 42, 45, 62, 57, 6, 28, 28, 44, 84, 30, 62, 75, 92, 89, 62, 97, 1, 27, 62, 77, 3, 70, 72, 27], \"type\": \"scatter\", \"uid\": \"0c1896be-976b-4164-8b92-94eff327ace4\"}], {\"hovermode\": \"closest\", \"title\": \"Random Data Scatterplot\", \"xaxis\": {\"title\": \"Some random x-values\"}, \"yaxis\": {\"title\": \"Some random y-values\"}}, {\"showLink\": true, \"linkText\": \"Export to plot.ly\"})});</script><script type=\"text/javascript\">window.addEventListener(\"resize\", function(){Plotly.Plots.resize(document.getElementById(\"6c75e2df-4bdc-4acd-9ed2-51da82cfdea8\"));});</script>"
      ]
     },
     "metadata": {},
     "output_type": "display_data"
    }
   ],
   "source": [
    "fig = go.Figure(data=data, layout=layout)\n",
    "pyo.iplot(fig, filename='scatter3.html')"
   ]
  },
  {
   "cell_type": "markdown",
   "metadata": {},
   "source": [
    "## Line Plot"
   ]
  },
  {
   "cell_type": "code",
   "execution_count": 12,
   "metadata": {},
   "outputs": [],
   "source": [
    "import pandas as pd\n",
    "df = pd.DataFrame(np.random.randn(100,4),columns='A B C D'.split())"
   ]
  },
  {
   "cell_type": "code",
   "execution_count": 13,
   "metadata": {},
   "outputs": [],
   "source": [
    "data = []\n",
    "for col in df.columns:\n",
    "    data.append({'x':df.index, 'y':df[col], 'name':col})"
   ]
  },
  {
   "cell_type": "code",
   "execution_count": 15,
   "metadata": {},
   "outputs": [
    {
     "data": {
      "application/vnd.plotly.v1+json": {
       "data": [
        {
         "name": "A",
         "type": "scatter",
         "uid": "28aeb4a1-9202-4b57-9c92-fbb2c324b7c7",
         "x": [
          0,
          1,
          2,
          3,
          4,
          5,
          6,
          7,
          8,
          9,
          10,
          11,
          12,
          13,
          14,
          15,
          16,
          17,
          18,
          19,
          20,
          21,
          22,
          23,
          24,
          25,
          26,
          27,
          28,
          29,
          30,
          31,
          32,
          33,
          34,
          35,
          36,
          37,
          38,
          39,
          40,
          41,
          42,
          43,
          44,
          45,
          46,
          47,
          48,
          49,
          50,
          51,
          52,
          53,
          54,
          55,
          56,
          57,
          58,
          59,
          60,
          61,
          62,
          63,
          64,
          65,
          66,
          67,
          68,
          69,
          70,
          71,
          72,
          73,
          74,
          75,
          76,
          77,
          78,
          79,
          80,
          81,
          82,
          83,
          84,
          85,
          86,
          87,
          88,
          89,
          90,
          91,
          92,
          93,
          94,
          95,
          96,
          97,
          98,
          99
         ],
         "y": [
          -1.4153707420504142,
          -0.16128571166600914,
          0.25755039072276437,
          0.06023020994102644,
          -0.03471176970524331,
          0.7910319470430469,
          0.5868570938002703,
          0.09965136508764122,
          -1.0623037137261049,
          -0.7832532923362371,
          0.22745993460412942,
          0.25988279424842353,
          0.5219415656168976,
          -0.6800247215784908,
          1.8657745111447566,
          -0.9746816702273214,
          0.9633761292443218,
          -0.2453881160028705,
          -0.0771017094141042,
          0.01300189187790702,
          0.6256673477650062,
          -0.2234627853258509,
          -0.846793718068405,
          0.21409374413020396,
          -0.883857436201133,
          0.3577873603482833,
          -1.377669367957091,
          0.5150476863060479,
          0.9540017634932023,
          -0.7728252145375718,
          2.3146585666735087,
          -0.47193186578943347,
          -0.7153037092599682,
          0.045571839903813784,
          -2.025142586657607,
          -0.7925207384327007,
          -1.2002964070557762,
          1.7654542402810969,
          2.1221561970126332,
          1.2669111491866227,
          -0.926930471578083,
          -0.2525681513931603,
          -0.44004448669698376,
          1.1631637521549596,
          0.19905969557347003,
          0.11351734525124804,
          2.1330333746562666,
          0.28099186773503265,
          -0.5893647569442115,
          0.8995998754332507,
          -0.8289950109220723,
          -0.020901593964148132,
          0.5470973811700379,
          0.8254163489880298,
          0.6819529712949639,
          0.09699596499271819,
          -1.006017381499702,
          0.6241198170521551,
          0.07580455819372633,
          -0.8254971967925115,
          -0.8222203955664315,
          -0.4710383056183228,
          -0.718444221252436,
          0.8576596232020194,
          -0.01851313599238993,
          0.5193465142411723,
          0.6901439917111125,
          0.09767609854883172,
          1.4511436077950417,
          0.8723206367206782,
          -0.8397218421807761,
          -0.759132661553698,
          0.9504238381860503,
          -1.3202332070206422,
          -1.7131345290908775,
          -1.594427658794367,
          -0.45006547147924364,
          0.12029563171189886,
          -1.5341141707356223,
          1.551151975522523,
          2.060747924881987,
          0.6453759495851475,
          1.0584244868495878,
          -0.26940683444455776,
          1.6286155455712918,
          0.3840654489393073,
          -1.3044695005048532,
          -0.5138669173366935,
          -0.9857260463355437,
          -0.10703035995455783,
          1.9647251329163893,
          -0.11232804969082982,
          -0.5305011476105275,
          -1.5151910621985523,
          0.5765569630557664,
          -0.12791759148076653,
          -0.7563507452843033,
          1.6871416350725648,
          0.0773683076476183,
          -1.0372461543264564
         ]
        },
        {
         "name": "B",
         "type": "scatter",
         "uid": "5d054df7-90d5-4a12-9cde-f03f53ce7c4c",
         "x": [
          0,
          1,
          2,
          3,
          4,
          5,
          6,
          7,
          8,
          9,
          10,
          11,
          12,
          13,
          14,
          15,
          16,
          17,
          18,
          19,
          20,
          21,
          22,
          23,
          24,
          25,
          26,
          27,
          28,
          29,
          30,
          31,
          32,
          33,
          34,
          35,
          36,
          37,
          38,
          39,
          40,
          41,
          42,
          43,
          44,
          45,
          46,
          47,
          48,
          49,
          50,
          51,
          52,
          53,
          54,
          55,
          56,
          57,
          58,
          59,
          60,
          61,
          62,
          63,
          64,
          65,
          66,
          67,
          68,
          69,
          70,
          71,
          72,
          73,
          74,
          75,
          76,
          77,
          78,
          79,
          80,
          81,
          82,
          83,
          84,
          85,
          86,
          87,
          88,
          89,
          90,
          91,
          92,
          93,
          94,
          95,
          96,
          97,
          98,
          99
         ],
         "y": [
          -0.42064532276535904,
          0.4040508568145384,
          -0.07444591576616721,
          2.463242112485286,
          -1.168678037619532,
          -0.9093874547947389,
          2.1904556258099785,
          -0.5034756541161992,
          0.4735924306351816,
          -0.3220615162056756,
          1.307142754282428,
          0.7818228717773104,
          0.29698467323318606,
          0.23225369716100355,
          0.4738329209117875,
          0.787084603742452,
          0.4127809269364983,
          -0.7537361643574896,
          0.3411519748166439,
          1.4535340771573169,
          -0.8571575564162826,
          0.714000494092092,
          -1.5148472246858646,
          -1.245738778711988,
          0.1537251059455279,
          0.5607845263682344,
          -0.9378250399151228,
          3.852731490654721,
          0.651391251305798,
          -0.23681860674000887,
          -1.867265192591748,
          1.088950596967366,
          0.6795977489346758,
          -0.6516003476058171,
          0.18645431476942764,
          -0.11473644146689901,
          -0.3345012358409484,
          0.40498171096095553,
          1.0324652605511468,
          -0.7076694656187807,
          -0.05952535606180008,
          -1.2477831819648495,
          0.13074057728609134,
          0.010233061019587049,
          -0.6002168771587947,
          0.6621306745210467,
          -1.9520877995225019,
          -0.6226995198205938,
          0.8496020970210246,
          0.30729952087660933,
          -0.5601810401969696,
          0.117327383308782,
          -0.20219265243389406,
          0.8135096360006385,
          -0.31026675659345604,
          0.5951570254369136,
          -1.2141886127877322,
          0.6283455092642799,
          -0.6771617115121117,
          -0.32138584165299344,
          0.2436872114919123,
          0.2320499373576363,
          -0.21344715171184725,
          -0.1599385299634271,
          -0.2886586389201383,
          1.5327389130025777,
          -0.40122047188583626,
          -0.7730097838554665,
          0.9592708260852069,
          0.18334200573835174,
          -0.5993926454440222,
          0.15039378647620763,
          -0.5769036556624031,
          1.8314587658543537,
          1.3538723741654128,
          -0.5993750229537729,
          0.6228499323474987,
          0.514438834058749,
          1.277676821898509,
          0.11567463429285867,
          1.7553408424432044,
          1.3686315575323487,
          -1.7587394864231143,
          0.7175422557959623,
          -1.3801014582148914,
          -0.03269474809409311,
          0.6696725488300385,
          -1.0592135218889516,
          0.5040465155178444,
          -1.035242322419374,
          0.03526355197172861,
          -0.22096959953322298,
          -0.57581824064468,
          1.3668742674445247,
          0.3112501545435361,
          -0.9555404406004258,
          -1.4222537095976742,
          0.8816397569494505,
          -0.8612842013282637,
          -0.1903386780836082
         ]
        },
        {
         "name": "C",
         "type": "scatter",
         "uid": "c14d4959-41ff-4d6f-8eb5-d6308a459e4b",
         "x": [
          0,
          1,
          2,
          3,
          4,
          5,
          6,
          7,
          8,
          9,
          10,
          11,
          12,
          13,
          14,
          15,
          16,
          17,
          18,
          19,
          20,
          21,
          22,
          23,
          24,
          25,
          26,
          27,
          28,
          29,
          30,
          31,
          32,
          33,
          34,
          35,
          36,
          37,
          38,
          39,
          40,
          41,
          42,
          43,
          44,
          45,
          46,
          47,
          48,
          49,
          50,
          51,
          52,
          53,
          54,
          55,
          56,
          57,
          58,
          59,
          60,
          61,
          62,
          63,
          64,
          65,
          66,
          67,
          68,
          69,
          70,
          71,
          72,
          73,
          74,
          75,
          76,
          77,
          78,
          79,
          80,
          81,
          82,
          83,
          84,
          85,
          86,
          87,
          88,
          89,
          90,
          91,
          92,
          93,
          94,
          95,
          96,
          97,
          98,
          99
         ],
         "y": [
          -0.3427145165267695,
          1.8861859012105302,
          -1.9187712152990415,
          -0.19236096478112252,
          1.1428228145150205,
          1.4027943109360992,
          -0.9905363251306883,
          -1.5506634310661327,
          -0.9194242342338032,
          0.8135172173696698,
          -1.6074832345612275,
          -1.236950710878082,
          0.25049285034587654,
          0.29307247329868125,
          -1.1913034972026486,
          1.158595579007404,
          0.82206015999449,
          -0.8895144296255233,
          0.27669079933001905,
          -0.2646568332379561,
          -1.0708924980611123,
          0.47323762457354485,
          -0.4465149520670211,
          0.173180925851182,
          0.058208718445999896,
          1.083051243175277,
          0.5150352672086598,
          0.570890510693167,
          -0.3152692446403456,
          -0.48536354782910346,
          0.6862601903745135,
          0.06428001909546277,
          -0.7303666317171367,
          2.1439440893253257,
          -0.661786464768388,
          0.5049872789804571,
          -0.4749453111609562,
          -1.2608839543350452,
          -1.5193699659540134,
          0.44381942814622843,
          -3.2412673400690726,
          1.6324113039316352,
          1.4412732890661155,
          -0.9815086510479509,
          0.06980208499001891,
          1.586016816145352,
          -0.15178509503558332,
          -0.20812225035727522,
          0.35701548596504734,
          0.8128621188389601,
          0.7472936051232618,
          1.277664895788425,
          -0.2176812032272203,
          1.305478807154329,
          0.3241663524884421,
          -0.8182206832334725,
          1.1581108735000678,
          -0.012246772846914623,
          0.9751197334177512,
          0.41293145427562433,
          0.24496657110872277,
          -1.4480843414973241,
          0.3109075655980046,
          -0.01901620790268883,
          0.3227185603380895,
          -0.1087601484568576,
          0.22409248181041677,
          0.024510174258942714,
          2.1531824575115563,
          2.1898029332176723,
          -2.123895724309807,
          0.34175597577715944,
          -0.898414671348358,
          1.179440120721287,
          -0.11453984525261789,
          0.005243699718183166,
          -1.0676204293825944,
          0.7116148780888898,
          0.33231401197959165,
          1.1792971840638264,
          -0.2489641484790735,
          -0.9649234605801045,
          -1.183258512665775,
          1.502357052096028,
          -1.7033824393551547,
          -2.0674421000398766,
          0.36659824609684827,
          -0.06267909727317188,
          -0.5302576183724408,
          -0.553649305347182,
          -0.6997255079925856,
          0.6141667000434252,
          -0.275051697151644,
          1.6449677135012837,
          3.0788808084552377,
          -1.6064463202575725,
          -0.6465728842425266,
          -0.007972641316617372,
          1.5231240772696573,
          -0.8756182533847572
         ]
        },
        {
         "name": "D",
         "type": "scatter",
         "uid": "6212f000-ef4d-4555-a741-b34c83c781b5",
         "x": [
          0,
          1,
          2,
          3,
          4,
          5,
          6,
          7,
          8,
          9,
          10,
          11,
          12,
          13,
          14,
          15,
          16,
          17,
          18,
          19,
          20,
          21,
          22,
          23,
          24,
          25,
          26,
          27,
          28,
          29,
          30,
          31,
          32,
          33,
          34,
          35,
          36,
          37,
          38,
          39,
          40,
          41,
          42,
          43,
          44,
          45,
          46,
          47,
          48,
          49,
          50,
          51,
          52,
          53,
          54,
          55,
          56,
          57,
          58,
          59,
          60,
          61,
          62,
          63,
          64,
          65,
          66,
          67,
          68,
          69,
          70,
          71,
          72,
          73,
          74,
          75,
          76,
          77,
          78,
          79,
          80,
          81,
          82,
          83,
          84,
          85,
          86,
          87,
          88,
          89,
          90,
          91,
          92,
          93,
          94,
          95,
          96,
          97,
          98,
          99
         ],
         "y": [
          -0.8022772692216189,
          0.17457781283183896,
          -0.026513875449216878,
          0.30154734233361247,
          0.7519330326867741,
          -1.4018510627922809,
          -0.5662977296027719,
          0.06856297480602733,
          1.5499344050175394,
          -1.2308643164339552,
          0.1846338585323042,
          -1.3204566130842763,
          0.3464482094969757,
          -0.7143514180263678,
          0.6565536086338297,
          -0.8206823183517105,
          1.8967929826539474,
          -0.8158102849654383,
          0.8271832490360238,
          2.720169166589619,
          0.4824724152431853,
          -0.07282891265687277,
          0.8563987943234723,
          0.3853173797288368,
          -1.142970297830623,
          1.053802052034903,
          0.5137859509122088,
          1.135565640180599,
          0.7589692204932674,
          0.08187413938632256,
          -1.6127158711896517,
          -1.0777447779293061,
          0.21645858958197486,
          0.6339190223180112,
          0.852433334796224,
          0.8657551941701215,
          -0.6533292325737119,
          0.9178619470547761,
          -0.48423407286625136,
          0.7746340534293368,
          -1.0243876413342898,
          -1.4301413779606327,
          -1.4358621511794394,
          0.46210347426327075,
          -0.3853135968617602,
          -1.237815498826849,
          0.5883172064845765,
          -0.4930009346588328,
          -0.6929095952606542,
          0.6296288419236122,
          0.6103702654334648,
          -0.5915713888358299,
          1.09877685198719,
          0.02100384163275905,
          -0.13014305436768459,
          2.0923872756854602,
          0.7916626939629359,
          -0.8972543714858315,
          -0.14705738150213865,
          -0.5637245528039747,
          -0.5069431753711298,
          -1.4074637743765552,
          1.475356216949552,
          -1.0025293646378088,
          -0.827230943552323,
          0.40171172209894146,
          0.01259240078179486,
          0.49799829124544975,
          -0.7673475628880495,
          -0.8082982853551515,
          -0.525755021680761,
          1.8761708392158862,
          0.4919191715065057,
          -0.4691756521047048,
          1.2378163119734618,
          0.046980593764742055,
          -0.1423794850212935,
          -1.1246420918378692,
          -0.7484865365565536,
          0.06751848141010895,
          0.9715709509543554,
          0.6860514599984393,
          -2.0392321777601006,
          0.07409478041977519,
          -0.05554769889661878,
          -0.08912003951278841,
          -0.9398797863273552,
          0.9551423205012383,
          -0.7928728322623442,
          -1.1978778925888485,
          0.213979910734222,
          0.7575077100473051,
          -2.301921164735585,
          -0.24903603955637832,
          1.1195749114345768,
          0.2034636358672231,
          -1.081548003614395,
          1.4799441388900259,
          0.5389100436846587,
          -1.382799730964336
         ]
        }
       ],
       "layout": {}
      },
      "text/html": [
       "<div id=\"5eeac028-7b50-4106-81c0-9a09682be462\" style=\"height: 525px; width: 100%;\" class=\"plotly-graph-div\"></div><script type=\"text/javascript\">require([\"plotly\"], function(Plotly) { window.PLOTLYENV=window.PLOTLYENV || {};window.PLOTLYENV.BASE_URL=\"https://plot.ly\";Plotly.newPlot(\"5eeac028-7b50-4106-81c0-9a09682be462\", [{\"name\": \"A\", \"x\": [0, 1, 2, 3, 4, 5, 6, 7, 8, 9, 10, 11, 12, 13, 14, 15, 16, 17, 18, 19, 20, 21, 22, 23, 24, 25, 26, 27, 28, 29, 30, 31, 32, 33, 34, 35, 36, 37, 38, 39, 40, 41, 42, 43, 44, 45, 46, 47, 48, 49, 50, 51, 52, 53, 54, 55, 56, 57, 58, 59, 60, 61, 62, 63, 64, 65, 66, 67, 68, 69, 70, 71, 72, 73, 74, 75, 76, 77, 78, 79, 80, 81, 82, 83, 84, 85, 86, 87, 88, 89, 90, 91, 92, 93, 94, 95, 96, 97, 98, 99], \"y\": [-1.4153707420504142, -0.16128571166600914, 0.25755039072276437, 0.06023020994102644, -0.03471176970524331, 0.7910319470430469, 0.5868570938002703, 0.09965136508764122, -1.0623037137261049, -0.7832532923362371, 0.22745993460412942, 0.25988279424842353, 0.5219415656168976, -0.6800247215784908, 1.8657745111447566, -0.9746816702273214, 0.9633761292443218, -0.2453881160028705, -0.0771017094141042, 0.01300189187790702, 0.6256673477650062, -0.2234627853258509, -0.846793718068405, 0.21409374413020396, -0.883857436201133, 0.3577873603482833, -1.377669367957091, 0.5150476863060479, 0.9540017634932023, -0.7728252145375718, 2.3146585666735087, -0.47193186578943347, -0.7153037092599682, 0.045571839903813784, -2.025142586657607, -0.7925207384327007, -1.2002964070557762, 1.7654542402810969, 2.1221561970126332, 1.2669111491866227, -0.926930471578083, -0.2525681513931603, -0.44004448669698376, 1.1631637521549596, 0.19905969557347003, 0.11351734525124804, 2.1330333746562666, 0.28099186773503265, -0.5893647569442115, 0.8995998754332507, -0.8289950109220723, -0.020901593964148132, 0.5470973811700379, 0.8254163489880298, 0.6819529712949639, 0.09699596499271819, -1.006017381499702, 0.6241198170521551, 0.07580455819372633, -0.8254971967925115, -0.8222203955664315, -0.4710383056183228, -0.718444221252436, 0.8576596232020194, -0.01851313599238993, 0.5193465142411723, 0.6901439917111125, 0.09767609854883172, 1.4511436077950417, 0.8723206367206782, -0.8397218421807761, -0.759132661553698, 0.9504238381860503, -1.3202332070206422, -1.7131345290908775, -1.594427658794367, -0.45006547147924364, 0.12029563171189886, -1.5341141707356223, 1.551151975522523, 2.060747924881987, 0.6453759495851475, 1.0584244868495878, -0.26940683444455776, 1.6286155455712918, 0.3840654489393073, -1.3044695005048532, -0.5138669173366935, -0.9857260463355437, -0.10703035995455783, 1.9647251329163893, -0.11232804969082982, -0.5305011476105275, -1.5151910621985523, 0.5765569630557664, -0.12791759148076653, -0.7563507452843033, 1.6871416350725648, 0.0773683076476183, -1.0372461543264564], \"type\": \"scatter\", \"uid\": \"1fb316f7-94d4-42a8-8abc-5a865119ac38\"}, {\"name\": \"B\", \"x\": [0, 1, 2, 3, 4, 5, 6, 7, 8, 9, 10, 11, 12, 13, 14, 15, 16, 17, 18, 19, 20, 21, 22, 23, 24, 25, 26, 27, 28, 29, 30, 31, 32, 33, 34, 35, 36, 37, 38, 39, 40, 41, 42, 43, 44, 45, 46, 47, 48, 49, 50, 51, 52, 53, 54, 55, 56, 57, 58, 59, 60, 61, 62, 63, 64, 65, 66, 67, 68, 69, 70, 71, 72, 73, 74, 75, 76, 77, 78, 79, 80, 81, 82, 83, 84, 85, 86, 87, 88, 89, 90, 91, 92, 93, 94, 95, 96, 97, 98, 99], \"y\": [-0.42064532276535904, 0.4040508568145384, -0.07444591576616721, 2.463242112485286, -1.168678037619532, -0.9093874547947389, 2.1904556258099785, -0.5034756541161992, 0.4735924306351816, -0.3220615162056756, 1.307142754282428, 0.7818228717773104, 0.29698467323318606, 0.23225369716100355, 0.4738329209117875, 0.787084603742452, 0.4127809269364983, -0.7537361643574896, 0.3411519748166439, 1.4535340771573169, -0.8571575564162826, 0.714000494092092, -1.5148472246858646, -1.245738778711988, 0.1537251059455279, 0.5607845263682344, -0.9378250399151228, 3.852731490654721, 0.651391251305798, -0.23681860674000887, -1.867265192591748, 1.088950596967366, 0.6795977489346758, -0.6516003476058171, 0.18645431476942764, -0.11473644146689901, -0.3345012358409484, 0.40498171096095553, 1.0324652605511468, -0.7076694656187807, -0.05952535606180008, -1.2477831819648495, 0.13074057728609134, 0.010233061019587049, -0.6002168771587947, 0.6621306745210467, -1.9520877995225019, -0.6226995198205938, 0.8496020970210246, 0.30729952087660933, -0.5601810401969696, 0.117327383308782, -0.20219265243389406, 0.8135096360006385, -0.31026675659345604, 0.5951570254369136, -1.2141886127877322, 0.6283455092642799, -0.6771617115121117, -0.32138584165299344, 0.2436872114919123, 0.2320499373576363, -0.21344715171184725, -0.1599385299634271, -0.2886586389201383, 1.5327389130025777, -0.40122047188583626, -0.7730097838554665, 0.9592708260852069, 0.18334200573835174, -0.5993926454440222, 0.15039378647620763, -0.5769036556624031, 1.8314587658543537, 1.3538723741654128, -0.5993750229537729, 0.6228499323474987, 0.514438834058749, 1.277676821898509, 0.11567463429285867, 1.7553408424432044, 1.3686315575323487, -1.7587394864231143, 0.7175422557959623, -1.3801014582148914, -0.03269474809409311, 0.6696725488300385, -1.0592135218889516, 0.5040465155178444, -1.035242322419374, 0.03526355197172861, -0.22096959953322298, -0.57581824064468, 1.3668742674445247, 0.3112501545435361, -0.9555404406004258, -1.4222537095976742, 0.8816397569494505, -0.8612842013282637, -0.1903386780836082], \"type\": \"scatter\", \"uid\": \"9167f311-00d6-48a8-8747-a7a9848822ba\"}, {\"name\": \"C\", \"x\": [0, 1, 2, 3, 4, 5, 6, 7, 8, 9, 10, 11, 12, 13, 14, 15, 16, 17, 18, 19, 20, 21, 22, 23, 24, 25, 26, 27, 28, 29, 30, 31, 32, 33, 34, 35, 36, 37, 38, 39, 40, 41, 42, 43, 44, 45, 46, 47, 48, 49, 50, 51, 52, 53, 54, 55, 56, 57, 58, 59, 60, 61, 62, 63, 64, 65, 66, 67, 68, 69, 70, 71, 72, 73, 74, 75, 76, 77, 78, 79, 80, 81, 82, 83, 84, 85, 86, 87, 88, 89, 90, 91, 92, 93, 94, 95, 96, 97, 98, 99], \"y\": [-0.3427145165267695, 1.8861859012105302, -1.9187712152990415, -0.19236096478112252, 1.1428228145150205, 1.4027943109360992, -0.9905363251306883, -1.5506634310661327, -0.9194242342338032, 0.8135172173696698, -1.6074832345612275, -1.236950710878082, 0.25049285034587654, 0.29307247329868125, -1.1913034972026486, 1.158595579007404, 0.82206015999449, -0.8895144296255233, 0.27669079933001905, -0.2646568332379561, -1.0708924980611123, 0.47323762457354485, -0.4465149520670211, 0.173180925851182, 0.058208718445999896, 1.083051243175277, 0.5150352672086598, 0.570890510693167, -0.3152692446403456, -0.48536354782910346, 0.6862601903745135, 0.06428001909546277, -0.7303666317171367, 2.1439440893253257, -0.661786464768388, 0.5049872789804571, -0.4749453111609562, -1.2608839543350452, -1.5193699659540134, 0.44381942814622843, -3.2412673400690726, 1.6324113039316352, 1.4412732890661155, -0.9815086510479509, 0.06980208499001891, 1.586016816145352, -0.15178509503558332, -0.20812225035727522, 0.35701548596504734, 0.8128621188389601, 0.7472936051232618, 1.277664895788425, -0.2176812032272203, 1.305478807154329, 0.3241663524884421, -0.8182206832334725, 1.1581108735000678, -0.012246772846914623, 0.9751197334177512, 0.41293145427562433, 0.24496657110872277, -1.4480843414973241, 0.3109075655980046, -0.01901620790268883, 0.3227185603380895, -0.1087601484568576, 0.22409248181041677, 0.024510174258942714, 2.1531824575115563, 2.1898029332176723, -2.123895724309807, 0.34175597577715944, -0.898414671348358, 1.179440120721287, -0.11453984525261789, 0.005243699718183166, -1.0676204293825944, 0.7116148780888898, 0.33231401197959165, 1.1792971840638264, -0.2489641484790735, -0.9649234605801045, -1.183258512665775, 1.502357052096028, -1.7033824393551547, -2.0674421000398766, 0.36659824609684827, -0.06267909727317188, -0.5302576183724408, -0.553649305347182, -0.6997255079925856, 0.6141667000434252, -0.275051697151644, 1.6449677135012837, 3.0788808084552377, -1.6064463202575725, -0.6465728842425266, -0.007972641316617372, 1.5231240772696573, -0.8756182533847572], \"type\": \"scatter\", \"uid\": \"1a30213f-439b-4e67-8db1-ef3bcb80dd11\"}, {\"name\": \"D\", \"x\": [0, 1, 2, 3, 4, 5, 6, 7, 8, 9, 10, 11, 12, 13, 14, 15, 16, 17, 18, 19, 20, 21, 22, 23, 24, 25, 26, 27, 28, 29, 30, 31, 32, 33, 34, 35, 36, 37, 38, 39, 40, 41, 42, 43, 44, 45, 46, 47, 48, 49, 50, 51, 52, 53, 54, 55, 56, 57, 58, 59, 60, 61, 62, 63, 64, 65, 66, 67, 68, 69, 70, 71, 72, 73, 74, 75, 76, 77, 78, 79, 80, 81, 82, 83, 84, 85, 86, 87, 88, 89, 90, 91, 92, 93, 94, 95, 96, 97, 98, 99], \"y\": [-0.8022772692216189, 0.17457781283183896, -0.026513875449216878, 0.30154734233361247, 0.7519330326867741, -1.4018510627922809, -0.5662977296027719, 0.06856297480602733, 1.5499344050175394, -1.2308643164339552, 0.1846338585323042, -1.3204566130842763, 0.3464482094969757, -0.7143514180263678, 0.6565536086338297, -0.8206823183517105, 1.8967929826539474, -0.8158102849654383, 0.8271832490360238, 2.720169166589619, 0.4824724152431853, -0.07282891265687277, 0.8563987943234723, 0.3853173797288368, -1.142970297830623, 1.053802052034903, 0.5137859509122088, 1.135565640180599, 0.7589692204932674, 0.08187413938632256, -1.6127158711896517, -1.0777447779293061, 0.21645858958197486, 0.6339190223180112, 0.852433334796224, 0.8657551941701215, -0.6533292325737119, 0.9178619470547761, -0.48423407286625136, 0.7746340534293368, -1.0243876413342898, -1.4301413779606327, -1.4358621511794394, 0.46210347426327075, -0.3853135968617602, -1.237815498826849, 0.5883172064845765, -0.4930009346588328, -0.6929095952606542, 0.6296288419236122, 0.6103702654334648, -0.5915713888358299, 1.09877685198719, 0.02100384163275905, -0.13014305436768459, 2.0923872756854602, 0.7916626939629359, -0.8972543714858315, -0.14705738150213865, -0.5637245528039747, -0.5069431753711298, -1.4074637743765552, 1.475356216949552, -1.0025293646378088, -0.827230943552323, 0.40171172209894146, 0.01259240078179486, 0.49799829124544975, -0.7673475628880495, -0.8082982853551515, -0.525755021680761, 1.8761708392158862, 0.4919191715065057, -0.4691756521047048, 1.2378163119734618, 0.046980593764742055, -0.1423794850212935, -1.1246420918378692, -0.7484865365565536, 0.06751848141010895, 0.9715709509543554, 0.6860514599984393, -2.0392321777601006, 0.07409478041977519, -0.05554769889661878, -0.08912003951278841, -0.9398797863273552, 0.9551423205012383, -0.7928728322623442, -1.1978778925888485, 0.213979910734222, 0.7575077100473051, -2.301921164735585, -0.24903603955637832, 1.1195749114345768, 0.2034636358672231, -1.081548003614395, 1.4799441388900259, 0.5389100436846587, -1.382799730964336], \"type\": \"scatter\", \"uid\": \"f52c47a9-b73f-4258-904b-4aaebe1e9b04\"}], {}, {\"showLink\": true, \"linkText\": \"Export to plot.ly\"})});</script><script type=\"text/javascript\">window.addEventListener(\"resize\", function(){Plotly.Plots.resize(document.getElementById(\"5eeac028-7b50-4106-81c0-9a09682be462\"));});</script>"
      ],
      "text/vnd.plotly.v1+html": [
       "<div id=\"5eeac028-7b50-4106-81c0-9a09682be462\" style=\"height: 525px; width: 100%;\" class=\"plotly-graph-div\"></div><script type=\"text/javascript\">require([\"plotly\"], function(Plotly) { window.PLOTLYENV=window.PLOTLYENV || {};window.PLOTLYENV.BASE_URL=\"https://plot.ly\";Plotly.newPlot(\"5eeac028-7b50-4106-81c0-9a09682be462\", [{\"name\": \"A\", \"x\": [0, 1, 2, 3, 4, 5, 6, 7, 8, 9, 10, 11, 12, 13, 14, 15, 16, 17, 18, 19, 20, 21, 22, 23, 24, 25, 26, 27, 28, 29, 30, 31, 32, 33, 34, 35, 36, 37, 38, 39, 40, 41, 42, 43, 44, 45, 46, 47, 48, 49, 50, 51, 52, 53, 54, 55, 56, 57, 58, 59, 60, 61, 62, 63, 64, 65, 66, 67, 68, 69, 70, 71, 72, 73, 74, 75, 76, 77, 78, 79, 80, 81, 82, 83, 84, 85, 86, 87, 88, 89, 90, 91, 92, 93, 94, 95, 96, 97, 98, 99], \"y\": [-1.4153707420504142, -0.16128571166600914, 0.25755039072276437, 0.06023020994102644, -0.03471176970524331, 0.7910319470430469, 0.5868570938002703, 0.09965136508764122, -1.0623037137261049, -0.7832532923362371, 0.22745993460412942, 0.25988279424842353, 0.5219415656168976, -0.6800247215784908, 1.8657745111447566, -0.9746816702273214, 0.9633761292443218, -0.2453881160028705, -0.0771017094141042, 0.01300189187790702, 0.6256673477650062, -0.2234627853258509, -0.846793718068405, 0.21409374413020396, -0.883857436201133, 0.3577873603482833, -1.377669367957091, 0.5150476863060479, 0.9540017634932023, -0.7728252145375718, 2.3146585666735087, -0.47193186578943347, -0.7153037092599682, 0.045571839903813784, -2.025142586657607, -0.7925207384327007, -1.2002964070557762, 1.7654542402810969, 2.1221561970126332, 1.2669111491866227, -0.926930471578083, -0.2525681513931603, -0.44004448669698376, 1.1631637521549596, 0.19905969557347003, 0.11351734525124804, 2.1330333746562666, 0.28099186773503265, -0.5893647569442115, 0.8995998754332507, -0.8289950109220723, -0.020901593964148132, 0.5470973811700379, 0.8254163489880298, 0.6819529712949639, 0.09699596499271819, -1.006017381499702, 0.6241198170521551, 0.07580455819372633, -0.8254971967925115, -0.8222203955664315, -0.4710383056183228, -0.718444221252436, 0.8576596232020194, -0.01851313599238993, 0.5193465142411723, 0.6901439917111125, 0.09767609854883172, 1.4511436077950417, 0.8723206367206782, -0.8397218421807761, -0.759132661553698, 0.9504238381860503, -1.3202332070206422, -1.7131345290908775, -1.594427658794367, -0.45006547147924364, 0.12029563171189886, -1.5341141707356223, 1.551151975522523, 2.060747924881987, 0.6453759495851475, 1.0584244868495878, -0.26940683444455776, 1.6286155455712918, 0.3840654489393073, -1.3044695005048532, -0.5138669173366935, -0.9857260463355437, -0.10703035995455783, 1.9647251329163893, -0.11232804969082982, -0.5305011476105275, -1.5151910621985523, 0.5765569630557664, -0.12791759148076653, -0.7563507452843033, 1.6871416350725648, 0.0773683076476183, -1.0372461543264564], \"type\": \"scatter\", \"uid\": \"1fb316f7-94d4-42a8-8abc-5a865119ac38\"}, {\"name\": \"B\", \"x\": [0, 1, 2, 3, 4, 5, 6, 7, 8, 9, 10, 11, 12, 13, 14, 15, 16, 17, 18, 19, 20, 21, 22, 23, 24, 25, 26, 27, 28, 29, 30, 31, 32, 33, 34, 35, 36, 37, 38, 39, 40, 41, 42, 43, 44, 45, 46, 47, 48, 49, 50, 51, 52, 53, 54, 55, 56, 57, 58, 59, 60, 61, 62, 63, 64, 65, 66, 67, 68, 69, 70, 71, 72, 73, 74, 75, 76, 77, 78, 79, 80, 81, 82, 83, 84, 85, 86, 87, 88, 89, 90, 91, 92, 93, 94, 95, 96, 97, 98, 99], \"y\": [-0.42064532276535904, 0.4040508568145384, -0.07444591576616721, 2.463242112485286, -1.168678037619532, -0.9093874547947389, 2.1904556258099785, -0.5034756541161992, 0.4735924306351816, -0.3220615162056756, 1.307142754282428, 0.7818228717773104, 0.29698467323318606, 0.23225369716100355, 0.4738329209117875, 0.787084603742452, 0.4127809269364983, -0.7537361643574896, 0.3411519748166439, 1.4535340771573169, -0.8571575564162826, 0.714000494092092, -1.5148472246858646, -1.245738778711988, 0.1537251059455279, 0.5607845263682344, -0.9378250399151228, 3.852731490654721, 0.651391251305798, -0.23681860674000887, -1.867265192591748, 1.088950596967366, 0.6795977489346758, -0.6516003476058171, 0.18645431476942764, -0.11473644146689901, -0.3345012358409484, 0.40498171096095553, 1.0324652605511468, -0.7076694656187807, -0.05952535606180008, -1.2477831819648495, 0.13074057728609134, 0.010233061019587049, -0.6002168771587947, 0.6621306745210467, -1.9520877995225019, -0.6226995198205938, 0.8496020970210246, 0.30729952087660933, -0.5601810401969696, 0.117327383308782, -0.20219265243389406, 0.8135096360006385, -0.31026675659345604, 0.5951570254369136, -1.2141886127877322, 0.6283455092642799, -0.6771617115121117, -0.32138584165299344, 0.2436872114919123, 0.2320499373576363, -0.21344715171184725, -0.1599385299634271, -0.2886586389201383, 1.5327389130025777, -0.40122047188583626, -0.7730097838554665, 0.9592708260852069, 0.18334200573835174, -0.5993926454440222, 0.15039378647620763, -0.5769036556624031, 1.8314587658543537, 1.3538723741654128, -0.5993750229537729, 0.6228499323474987, 0.514438834058749, 1.277676821898509, 0.11567463429285867, 1.7553408424432044, 1.3686315575323487, -1.7587394864231143, 0.7175422557959623, -1.3801014582148914, -0.03269474809409311, 0.6696725488300385, -1.0592135218889516, 0.5040465155178444, -1.035242322419374, 0.03526355197172861, -0.22096959953322298, -0.57581824064468, 1.3668742674445247, 0.3112501545435361, -0.9555404406004258, -1.4222537095976742, 0.8816397569494505, -0.8612842013282637, -0.1903386780836082], \"type\": \"scatter\", \"uid\": \"9167f311-00d6-48a8-8747-a7a9848822ba\"}, {\"name\": \"C\", \"x\": [0, 1, 2, 3, 4, 5, 6, 7, 8, 9, 10, 11, 12, 13, 14, 15, 16, 17, 18, 19, 20, 21, 22, 23, 24, 25, 26, 27, 28, 29, 30, 31, 32, 33, 34, 35, 36, 37, 38, 39, 40, 41, 42, 43, 44, 45, 46, 47, 48, 49, 50, 51, 52, 53, 54, 55, 56, 57, 58, 59, 60, 61, 62, 63, 64, 65, 66, 67, 68, 69, 70, 71, 72, 73, 74, 75, 76, 77, 78, 79, 80, 81, 82, 83, 84, 85, 86, 87, 88, 89, 90, 91, 92, 93, 94, 95, 96, 97, 98, 99], \"y\": [-0.3427145165267695, 1.8861859012105302, -1.9187712152990415, -0.19236096478112252, 1.1428228145150205, 1.4027943109360992, -0.9905363251306883, -1.5506634310661327, -0.9194242342338032, 0.8135172173696698, -1.6074832345612275, -1.236950710878082, 0.25049285034587654, 0.29307247329868125, -1.1913034972026486, 1.158595579007404, 0.82206015999449, -0.8895144296255233, 0.27669079933001905, -0.2646568332379561, -1.0708924980611123, 0.47323762457354485, -0.4465149520670211, 0.173180925851182, 0.058208718445999896, 1.083051243175277, 0.5150352672086598, 0.570890510693167, -0.3152692446403456, -0.48536354782910346, 0.6862601903745135, 0.06428001909546277, -0.7303666317171367, 2.1439440893253257, -0.661786464768388, 0.5049872789804571, -0.4749453111609562, -1.2608839543350452, -1.5193699659540134, 0.44381942814622843, -3.2412673400690726, 1.6324113039316352, 1.4412732890661155, -0.9815086510479509, 0.06980208499001891, 1.586016816145352, -0.15178509503558332, -0.20812225035727522, 0.35701548596504734, 0.8128621188389601, 0.7472936051232618, 1.277664895788425, -0.2176812032272203, 1.305478807154329, 0.3241663524884421, -0.8182206832334725, 1.1581108735000678, -0.012246772846914623, 0.9751197334177512, 0.41293145427562433, 0.24496657110872277, -1.4480843414973241, 0.3109075655980046, -0.01901620790268883, 0.3227185603380895, -0.1087601484568576, 0.22409248181041677, 0.024510174258942714, 2.1531824575115563, 2.1898029332176723, -2.123895724309807, 0.34175597577715944, -0.898414671348358, 1.179440120721287, -0.11453984525261789, 0.005243699718183166, -1.0676204293825944, 0.7116148780888898, 0.33231401197959165, 1.1792971840638264, -0.2489641484790735, -0.9649234605801045, -1.183258512665775, 1.502357052096028, -1.7033824393551547, -2.0674421000398766, 0.36659824609684827, -0.06267909727317188, -0.5302576183724408, -0.553649305347182, -0.6997255079925856, 0.6141667000434252, -0.275051697151644, 1.6449677135012837, 3.0788808084552377, -1.6064463202575725, -0.6465728842425266, -0.007972641316617372, 1.5231240772696573, -0.8756182533847572], \"type\": \"scatter\", \"uid\": \"1a30213f-439b-4e67-8db1-ef3bcb80dd11\"}, {\"name\": \"D\", \"x\": [0, 1, 2, 3, 4, 5, 6, 7, 8, 9, 10, 11, 12, 13, 14, 15, 16, 17, 18, 19, 20, 21, 22, 23, 24, 25, 26, 27, 28, 29, 30, 31, 32, 33, 34, 35, 36, 37, 38, 39, 40, 41, 42, 43, 44, 45, 46, 47, 48, 49, 50, 51, 52, 53, 54, 55, 56, 57, 58, 59, 60, 61, 62, 63, 64, 65, 66, 67, 68, 69, 70, 71, 72, 73, 74, 75, 76, 77, 78, 79, 80, 81, 82, 83, 84, 85, 86, 87, 88, 89, 90, 91, 92, 93, 94, 95, 96, 97, 98, 99], \"y\": [-0.8022772692216189, 0.17457781283183896, -0.026513875449216878, 0.30154734233361247, 0.7519330326867741, -1.4018510627922809, -0.5662977296027719, 0.06856297480602733, 1.5499344050175394, -1.2308643164339552, 0.1846338585323042, -1.3204566130842763, 0.3464482094969757, -0.7143514180263678, 0.6565536086338297, -0.8206823183517105, 1.8967929826539474, -0.8158102849654383, 0.8271832490360238, 2.720169166589619, 0.4824724152431853, -0.07282891265687277, 0.8563987943234723, 0.3853173797288368, -1.142970297830623, 1.053802052034903, 0.5137859509122088, 1.135565640180599, 0.7589692204932674, 0.08187413938632256, -1.6127158711896517, -1.0777447779293061, 0.21645858958197486, 0.6339190223180112, 0.852433334796224, 0.8657551941701215, -0.6533292325737119, 0.9178619470547761, -0.48423407286625136, 0.7746340534293368, -1.0243876413342898, -1.4301413779606327, -1.4358621511794394, 0.46210347426327075, -0.3853135968617602, -1.237815498826849, 0.5883172064845765, -0.4930009346588328, -0.6929095952606542, 0.6296288419236122, 0.6103702654334648, -0.5915713888358299, 1.09877685198719, 0.02100384163275905, -0.13014305436768459, 2.0923872756854602, 0.7916626939629359, -0.8972543714858315, -0.14705738150213865, -0.5637245528039747, -0.5069431753711298, -1.4074637743765552, 1.475356216949552, -1.0025293646378088, -0.827230943552323, 0.40171172209894146, 0.01259240078179486, 0.49799829124544975, -0.7673475628880495, -0.8082982853551515, -0.525755021680761, 1.8761708392158862, 0.4919191715065057, -0.4691756521047048, 1.2378163119734618, 0.046980593764742055, -0.1423794850212935, -1.1246420918378692, -0.7484865365565536, 0.06751848141010895, 0.9715709509543554, 0.6860514599984393, -2.0392321777601006, 0.07409478041977519, -0.05554769889661878, -0.08912003951278841, -0.9398797863273552, 0.9551423205012383, -0.7928728322623442, -1.1978778925888485, 0.213979910734222, 0.7575077100473051, -2.301921164735585, -0.24903603955637832, 1.1195749114345768, 0.2034636358672231, -1.081548003614395, 1.4799441388900259, 0.5389100436846587, -1.382799730964336], \"type\": \"scatter\", \"uid\": \"f52c47a9-b73f-4258-904b-4aaebe1e9b04\"}], {}, {\"showLink\": true, \"linkText\": \"Export to plot.ly\"})});</script><script type=\"text/javascript\">window.addEventListener(\"resize\", function(){Plotly.Plots.resize(document.getElementById(\"5eeac028-7b50-4106-81c0-9a09682be462\"));});</script>"
      ]
     },
     "metadata": {},
     "output_type": "display_data"
    }
   ],
   "source": [
    "pyo.iplot(data)"
   ]
  },
  {
   "cell_type": "code",
   "execution_count": 16,
   "metadata": {},
   "outputs": [],
   "source": [
    "import pandas\n",
    "df = pandas.read_csv('https://raw.githubusercontent.com/ywchiu/ctbc/master/data/nst-est2017-alldata.csv')"
   ]
  },
  {
   "cell_type": "code",
   "execution_count": 17,
   "metadata": {},
   "outputs": [
    {
     "data": {
      "text/html": [
       "<div>\n",
       "<style>\n",
       "    .dataframe thead tr:only-child th {\n",
       "        text-align: right;\n",
       "    }\n",
       "\n",
       "    .dataframe thead th {\n",
       "        text-align: left;\n",
       "    }\n",
       "\n",
       "    .dataframe tbody tr th {\n",
       "        vertical-align: top;\n",
       "    }\n",
       "</style>\n",
       "<table border=\"1\" class=\"dataframe\">\n",
       "  <thead>\n",
       "    <tr style=\"text-align: right;\">\n",
       "      <th></th>\n",
       "      <th>POPESTIMATE2010</th>\n",
       "      <th>POPESTIMATE2011</th>\n",
       "      <th>POPESTIMATE2012</th>\n",
       "      <th>POPESTIMATE2013</th>\n",
       "      <th>POPESTIMATE2014</th>\n",
       "      <th>POPESTIMATE2015</th>\n",
       "      <th>POPESTIMATE2016</th>\n",
       "      <th>POPESTIMATE2017</th>\n",
       "    </tr>\n",
       "    <tr>\n",
       "      <th>NAME</th>\n",
       "      <th></th>\n",
       "      <th></th>\n",
       "      <th></th>\n",
       "      <th></th>\n",
       "      <th></th>\n",
       "      <th></th>\n",
       "      <th></th>\n",
       "      <th></th>\n",
       "    </tr>\n",
       "  </thead>\n",
       "  <tbody>\n",
       "    <tr>\n",
       "      <th>Connecticut</th>\n",
       "      <td>3580171.0</td>\n",
       "      <td>3591927.0</td>\n",
       "      <td>3597705.0</td>\n",
       "      <td>3602470.0</td>\n",
       "      <td>3600188.0</td>\n",
       "      <td>3593862.0</td>\n",
       "      <td>3587685.0</td>\n",
       "      <td>3588184.0</td>\n",
       "    </tr>\n",
       "    <tr>\n",
       "      <th>Maine</th>\n",
       "      <td>1327568.0</td>\n",
       "      <td>1327968.0</td>\n",
       "      <td>1328101.0</td>\n",
       "      <td>1327975.0</td>\n",
       "      <td>1328903.0</td>\n",
       "      <td>1327787.0</td>\n",
       "      <td>1330232.0</td>\n",
       "      <td>1335907.0</td>\n",
       "    </tr>\n",
       "    <tr>\n",
       "      <th>Massachusetts</th>\n",
       "      <td>6564943.0</td>\n",
       "      <td>6612178.0</td>\n",
       "      <td>6659627.0</td>\n",
       "      <td>6711138.0</td>\n",
       "      <td>6757925.0</td>\n",
       "      <td>6794002.0</td>\n",
       "      <td>6823721.0</td>\n",
       "      <td>6859819.0</td>\n",
       "    </tr>\n",
       "    <tr>\n",
       "      <th>New Hampshire</th>\n",
       "      <td>1316700.0</td>\n",
       "      <td>1318345.0</td>\n",
       "      <td>1320923.0</td>\n",
       "      <td>1322622.0</td>\n",
       "      <td>1328684.0</td>\n",
       "      <td>1330134.0</td>\n",
       "      <td>1335015.0</td>\n",
       "      <td>1342795.0</td>\n",
       "    </tr>\n",
       "    <tr>\n",
       "      <th>Rhode Island</th>\n",
       "      <td>1053169.0</td>\n",
       "      <td>1052154.0</td>\n",
       "      <td>1052761.0</td>\n",
       "      <td>1052784.0</td>\n",
       "      <td>1054782.0</td>\n",
       "      <td>1055916.0</td>\n",
       "      <td>1057566.0</td>\n",
       "      <td>1059639.0</td>\n",
       "    </tr>\n",
       "  </tbody>\n",
       "</table>\n",
       "</div>"
      ],
      "text/plain": [
       "               POPESTIMATE2010  POPESTIMATE2011  POPESTIMATE2012  \\\n",
       "NAME                                                               \n",
       "Connecticut          3580171.0        3591927.0        3597705.0   \n",
       "Maine                1327568.0        1327968.0        1328101.0   \n",
       "Massachusetts        6564943.0        6612178.0        6659627.0   \n",
       "New Hampshire        1316700.0        1318345.0        1320923.0   \n",
       "Rhode Island         1053169.0        1052154.0        1052761.0   \n",
       "\n",
       "               POPESTIMATE2013  POPESTIMATE2014  POPESTIMATE2015  \\\n",
       "NAME                                                               \n",
       "Connecticut          3602470.0        3600188.0        3593862.0   \n",
       "Maine                1327975.0        1328903.0        1327787.0   \n",
       "Massachusetts        6711138.0        6757925.0        6794002.0   \n",
       "New Hampshire        1322622.0        1328684.0        1330134.0   \n",
       "Rhode Island         1052784.0        1054782.0        1055916.0   \n",
       "\n",
       "               POPESTIMATE2016  POPESTIMATE2017  \n",
       "NAME                                             \n",
       "Connecticut          3587685.0        3588184.0  \n",
       "Maine                1330232.0        1335907.0  \n",
       "Massachusetts        6823721.0        6859819.0  \n",
       "New Hampshire        1335015.0        1342795.0  \n",
       "Rhode Island         1057566.0        1059639.0  "
      ]
     },
     "execution_count": 17,
     "metadata": {},
     "output_type": "execute_result"
    }
   ],
   "source": [
    "df2 = df[df['DIVISION']=='1']\n",
    "df2.set_index('NAME', inplace=True)\n",
    "df2 = df2[[col for col in df2.columns if col.startswith('POP')]]\n",
    "df2.head()"
   ]
  },
  {
   "cell_type": "code",
   "execution_count": 18,
   "metadata": {},
   "outputs": [],
   "source": [
    "traces=[\n",
    "    go.Scatter(\n",
    "        x = df2.columns,\n",
    "        y = df2.loc[name],\n",
    "        mode = 'markers+lines',\n",
    "        name = name\n",
    ") for name in df2.index]\n"
   ]
  },
  {
   "cell_type": "code",
   "execution_count": 19,
   "metadata": {},
   "outputs": [
    {
     "data": {
      "application/vnd.plotly.v1+json": {
       "data": [
        {
         "mode": "markers+lines",
         "name": "Connecticut",
         "type": "scatter",
         "uid": "e56e004c-a6c7-4f72-9390-bbae34ca09a1",
         "x": [
          "POPESTIMATE2010",
          "POPESTIMATE2011",
          "POPESTIMATE2012",
          "POPESTIMATE2013",
          "POPESTIMATE2014",
          "POPESTIMATE2015",
          "POPESTIMATE2016",
          "POPESTIMATE2017"
         ],
         "y": [
          3580171,
          3591927,
          3597705,
          3602470,
          3600188,
          3593862,
          3587685,
          3588184
         ]
        },
        {
         "mode": "markers+lines",
         "name": "Maine",
         "type": "scatter",
         "uid": "bb009c9c-c22e-4c46-983e-e93775e115b3",
         "x": [
          "POPESTIMATE2010",
          "POPESTIMATE2011",
          "POPESTIMATE2012",
          "POPESTIMATE2013",
          "POPESTIMATE2014",
          "POPESTIMATE2015",
          "POPESTIMATE2016",
          "POPESTIMATE2017"
         ],
         "y": [
          1327568,
          1327968,
          1328101,
          1327975,
          1328903,
          1327787,
          1330232,
          1335907
         ]
        },
        {
         "mode": "markers+lines",
         "name": "Massachusetts",
         "type": "scatter",
         "uid": "a2196bb8-5d93-4b2a-b1f4-9cc9126c891b",
         "x": [
          "POPESTIMATE2010",
          "POPESTIMATE2011",
          "POPESTIMATE2012",
          "POPESTIMATE2013",
          "POPESTIMATE2014",
          "POPESTIMATE2015",
          "POPESTIMATE2016",
          "POPESTIMATE2017"
         ],
         "y": [
          6564943,
          6612178,
          6659627,
          6711138,
          6757925,
          6794002,
          6823721,
          6859819
         ]
        },
        {
         "mode": "markers+lines",
         "name": "New Hampshire",
         "type": "scatter",
         "uid": "99785fa2-1cb3-49b6-b873-93efd0420098",
         "x": [
          "POPESTIMATE2010",
          "POPESTIMATE2011",
          "POPESTIMATE2012",
          "POPESTIMATE2013",
          "POPESTIMATE2014",
          "POPESTIMATE2015",
          "POPESTIMATE2016",
          "POPESTIMATE2017"
         ],
         "y": [
          1316700,
          1318345,
          1320923,
          1322622,
          1328684,
          1330134,
          1335015,
          1342795
         ]
        },
        {
         "mode": "markers+lines",
         "name": "Rhode Island",
         "type": "scatter",
         "uid": "973ec70c-54c1-4c0e-b46c-f71025ba5826",
         "x": [
          "POPESTIMATE2010",
          "POPESTIMATE2011",
          "POPESTIMATE2012",
          "POPESTIMATE2013",
          "POPESTIMATE2014",
          "POPESTIMATE2015",
          "POPESTIMATE2016",
          "POPESTIMATE2017"
         ],
         "y": [
          1053169,
          1052154,
          1052761,
          1052784,
          1054782,
          1055916,
          1057566,
          1059639
         ]
        },
        {
         "mode": "markers+lines",
         "name": "Vermont",
         "type": "scatter",
         "uid": "44cb85e2-43a6-4a5f-93f9-56148990e7b6",
         "x": [
          "POPESTIMATE2010",
          "POPESTIMATE2011",
          "POPESTIMATE2012",
          "POPESTIMATE2013",
          "POPESTIMATE2014",
          "POPESTIMATE2015",
          "POPESTIMATE2016",
          "POPESTIMATE2017"
         ],
         "y": [
          625842,
          626210,
          625606,
          626044,
          625665,
          624455,
          623354,
          623657
         ]
        }
       ],
       "layout": {}
      },
      "text/html": [
       "<div id=\"2d40c8ff-e626-4934-93a8-ab85069fb3bf\" style=\"height: 525px; width: 100%;\" class=\"plotly-graph-div\"></div><script type=\"text/javascript\">require([\"plotly\"], function(Plotly) { window.PLOTLYENV=window.PLOTLYENV || {};window.PLOTLYENV.BASE_URL=\"https://plot.ly\";Plotly.newPlot(\"2d40c8ff-e626-4934-93a8-ab85069fb3bf\", [{\"mode\": \"markers+lines\", \"name\": \"Connecticut\", \"x\": [\"POPESTIMATE2010\", \"POPESTIMATE2011\", \"POPESTIMATE2012\", \"POPESTIMATE2013\", \"POPESTIMATE2014\", \"POPESTIMATE2015\", \"POPESTIMATE2016\", \"POPESTIMATE2017\"], \"y\": [3580171.0, 3591927.0, 3597705.0, 3602470.0, 3600188.0, 3593862.0, 3587685.0, 3588184.0], \"type\": \"scatter\", \"uid\": \"dcca34f9-0232-4796-8156-73e239a32bf8\"}, {\"mode\": \"markers+lines\", \"name\": \"Maine\", \"x\": [\"POPESTIMATE2010\", \"POPESTIMATE2011\", \"POPESTIMATE2012\", \"POPESTIMATE2013\", \"POPESTIMATE2014\", \"POPESTIMATE2015\", \"POPESTIMATE2016\", \"POPESTIMATE2017\"], \"y\": [1327568.0, 1327968.0, 1328101.0, 1327975.0, 1328903.0, 1327787.0, 1330232.0, 1335907.0], \"type\": \"scatter\", \"uid\": \"fabb979b-df61-4450-8069-9b154f04eb36\"}, {\"mode\": \"markers+lines\", \"name\": \"Massachusetts\", \"x\": [\"POPESTIMATE2010\", \"POPESTIMATE2011\", \"POPESTIMATE2012\", \"POPESTIMATE2013\", \"POPESTIMATE2014\", \"POPESTIMATE2015\", \"POPESTIMATE2016\", \"POPESTIMATE2017\"], \"y\": [6564943.0, 6612178.0, 6659627.0, 6711138.0, 6757925.0, 6794002.0, 6823721.0, 6859819.0], \"type\": \"scatter\", \"uid\": \"4b8fb5a7-d4d1-448c-98fd-b6c44c838a7a\"}, {\"mode\": \"markers+lines\", \"name\": \"New Hampshire\", \"x\": [\"POPESTIMATE2010\", \"POPESTIMATE2011\", \"POPESTIMATE2012\", \"POPESTIMATE2013\", \"POPESTIMATE2014\", \"POPESTIMATE2015\", \"POPESTIMATE2016\", \"POPESTIMATE2017\"], \"y\": [1316700.0, 1318345.0, 1320923.0, 1322622.0, 1328684.0, 1330134.0, 1335015.0, 1342795.0], \"type\": \"scatter\", \"uid\": \"30ec785b-e2dc-4657-a76c-f38a11f91fba\"}, {\"mode\": \"markers+lines\", \"name\": \"Rhode Island\", \"x\": [\"POPESTIMATE2010\", \"POPESTIMATE2011\", \"POPESTIMATE2012\", \"POPESTIMATE2013\", \"POPESTIMATE2014\", \"POPESTIMATE2015\", \"POPESTIMATE2016\", \"POPESTIMATE2017\"], \"y\": [1053169.0, 1052154.0, 1052761.0, 1052784.0, 1054782.0, 1055916.0, 1057566.0, 1059639.0], \"type\": \"scatter\", \"uid\": \"17ceadbc-cf22-40cb-ab8a-e81a7101dc0a\"}, {\"mode\": \"markers+lines\", \"name\": \"Vermont\", \"x\": [\"POPESTIMATE2010\", \"POPESTIMATE2011\", \"POPESTIMATE2012\", \"POPESTIMATE2013\", \"POPESTIMATE2014\", \"POPESTIMATE2015\", \"POPESTIMATE2016\", \"POPESTIMATE2017\"], \"y\": [625842.0, 626210.0, 625606.0, 626044.0, 625665.0, 624455.0, 623354.0, 623657.0], \"type\": \"scatter\", \"uid\": \"cb0e1e60-9a70-4e37-a1d6-97b02d2b2e0d\"}], {}, {\"showLink\": true, \"linkText\": \"Export to plot.ly\"})});</script><script type=\"text/javascript\">window.addEventListener(\"resize\", function(){Plotly.Plots.resize(document.getElementById(\"2d40c8ff-e626-4934-93a8-ab85069fb3bf\"));});</script>"
      ],
      "text/vnd.plotly.v1+html": [
       "<div id=\"2d40c8ff-e626-4934-93a8-ab85069fb3bf\" style=\"height: 525px; width: 100%;\" class=\"plotly-graph-div\"></div><script type=\"text/javascript\">require([\"plotly\"], function(Plotly) { window.PLOTLYENV=window.PLOTLYENV || {};window.PLOTLYENV.BASE_URL=\"https://plot.ly\";Plotly.newPlot(\"2d40c8ff-e626-4934-93a8-ab85069fb3bf\", [{\"mode\": \"markers+lines\", \"name\": \"Connecticut\", \"x\": [\"POPESTIMATE2010\", \"POPESTIMATE2011\", \"POPESTIMATE2012\", \"POPESTIMATE2013\", \"POPESTIMATE2014\", \"POPESTIMATE2015\", \"POPESTIMATE2016\", \"POPESTIMATE2017\"], \"y\": [3580171.0, 3591927.0, 3597705.0, 3602470.0, 3600188.0, 3593862.0, 3587685.0, 3588184.0], \"type\": \"scatter\", \"uid\": \"dcca34f9-0232-4796-8156-73e239a32bf8\"}, {\"mode\": \"markers+lines\", \"name\": \"Maine\", \"x\": [\"POPESTIMATE2010\", \"POPESTIMATE2011\", \"POPESTIMATE2012\", \"POPESTIMATE2013\", \"POPESTIMATE2014\", \"POPESTIMATE2015\", \"POPESTIMATE2016\", \"POPESTIMATE2017\"], \"y\": [1327568.0, 1327968.0, 1328101.0, 1327975.0, 1328903.0, 1327787.0, 1330232.0, 1335907.0], \"type\": \"scatter\", \"uid\": \"fabb979b-df61-4450-8069-9b154f04eb36\"}, {\"mode\": \"markers+lines\", \"name\": \"Massachusetts\", \"x\": [\"POPESTIMATE2010\", \"POPESTIMATE2011\", \"POPESTIMATE2012\", \"POPESTIMATE2013\", \"POPESTIMATE2014\", \"POPESTIMATE2015\", \"POPESTIMATE2016\", \"POPESTIMATE2017\"], \"y\": [6564943.0, 6612178.0, 6659627.0, 6711138.0, 6757925.0, 6794002.0, 6823721.0, 6859819.0], \"type\": \"scatter\", \"uid\": \"4b8fb5a7-d4d1-448c-98fd-b6c44c838a7a\"}, {\"mode\": \"markers+lines\", \"name\": \"New Hampshire\", \"x\": [\"POPESTIMATE2010\", \"POPESTIMATE2011\", \"POPESTIMATE2012\", \"POPESTIMATE2013\", \"POPESTIMATE2014\", \"POPESTIMATE2015\", \"POPESTIMATE2016\", \"POPESTIMATE2017\"], \"y\": [1316700.0, 1318345.0, 1320923.0, 1322622.0, 1328684.0, 1330134.0, 1335015.0, 1342795.0], \"type\": \"scatter\", \"uid\": \"30ec785b-e2dc-4657-a76c-f38a11f91fba\"}, {\"mode\": \"markers+lines\", \"name\": \"Rhode Island\", \"x\": [\"POPESTIMATE2010\", \"POPESTIMATE2011\", \"POPESTIMATE2012\", \"POPESTIMATE2013\", \"POPESTIMATE2014\", \"POPESTIMATE2015\", \"POPESTIMATE2016\", \"POPESTIMATE2017\"], \"y\": [1053169.0, 1052154.0, 1052761.0, 1052784.0, 1054782.0, 1055916.0, 1057566.0, 1059639.0], \"type\": \"scatter\", \"uid\": \"17ceadbc-cf22-40cb-ab8a-e81a7101dc0a\"}, {\"mode\": \"markers+lines\", \"name\": \"Vermont\", \"x\": [\"POPESTIMATE2010\", \"POPESTIMATE2011\", \"POPESTIMATE2012\", \"POPESTIMATE2013\", \"POPESTIMATE2014\", \"POPESTIMATE2015\", \"POPESTIMATE2016\", \"POPESTIMATE2017\"], \"y\": [625842.0, 626210.0, 625606.0, 626044.0, 625665.0, 624455.0, 623354.0, 623657.0], \"type\": \"scatter\", \"uid\": \"cb0e1e60-9a70-4e37-a1d6-97b02d2b2e0d\"}], {}, {\"showLink\": true, \"linkText\": \"Export to plot.ly\"})});</script><script type=\"text/javascript\">window.addEventListener(\"resize\", function(){Plotly.Plots.resize(document.getElementById(\"2d40c8ff-e626-4934-93a8-ab85069fb3bf\"));});</script>"
      ]
     },
     "metadata": {},
     "output_type": "display_data"
    }
   ],
   "source": [
    "pyo.iplot(traces)"
   ]
  },
  {
   "cell_type": "code",
   "execution_count": 20,
   "metadata": {},
   "outputs": [
    {
     "data": {
      "application/vnd.plotly.v1+json": {
       "data": [
        {
         "mode": "markers+lines",
         "name": "Connecticut",
         "type": "scatter",
         "uid": "57ea9ab9-166c-45c5-8415-1c3292323d6b",
         "x": [
          "POPESTIMATE2010",
          "POPESTIMATE2011",
          "POPESTIMATE2012",
          "POPESTIMATE2013",
          "POPESTIMATE2014",
          "POPESTIMATE2015",
          "POPESTIMATE2016",
          "POPESTIMATE2017"
         ],
         "y": [
          3580171,
          3591927,
          3597705,
          3602470,
          3600188,
          3593862,
          3587685,
          3588184
         ]
        },
        {
         "mode": "markers+lines",
         "name": "Maine",
         "type": "scatter",
         "uid": "68909779-b0ae-498f-a65f-2a58536b0f4c",
         "x": [
          "POPESTIMATE2010",
          "POPESTIMATE2011",
          "POPESTIMATE2012",
          "POPESTIMATE2013",
          "POPESTIMATE2014",
          "POPESTIMATE2015",
          "POPESTIMATE2016",
          "POPESTIMATE2017"
         ],
         "y": [
          1327568,
          1327968,
          1328101,
          1327975,
          1328903,
          1327787,
          1330232,
          1335907
         ]
        },
        {
         "mode": "markers+lines",
         "name": "Massachusetts",
         "type": "scatter",
         "uid": "f5bd0ecc-23da-47e1-a70b-50e819267041",
         "x": [
          "POPESTIMATE2010",
          "POPESTIMATE2011",
          "POPESTIMATE2012",
          "POPESTIMATE2013",
          "POPESTIMATE2014",
          "POPESTIMATE2015",
          "POPESTIMATE2016",
          "POPESTIMATE2017"
         ],
         "y": [
          6564943,
          6612178,
          6659627,
          6711138,
          6757925,
          6794002,
          6823721,
          6859819
         ]
        },
        {
         "mode": "markers+lines",
         "name": "New Hampshire",
         "type": "scatter",
         "uid": "28a0e677-3fc2-4135-9cda-2aa67bf1c628",
         "x": [
          "POPESTIMATE2010",
          "POPESTIMATE2011",
          "POPESTIMATE2012",
          "POPESTIMATE2013",
          "POPESTIMATE2014",
          "POPESTIMATE2015",
          "POPESTIMATE2016",
          "POPESTIMATE2017"
         ],
         "y": [
          1316700,
          1318345,
          1320923,
          1322622,
          1328684,
          1330134,
          1335015,
          1342795
         ]
        },
        {
         "mode": "markers+lines",
         "name": "Rhode Island",
         "type": "scatter",
         "uid": "828cccfa-b93a-4fe6-9761-014bc61f43c2",
         "x": [
          "POPESTIMATE2010",
          "POPESTIMATE2011",
          "POPESTIMATE2012",
          "POPESTIMATE2013",
          "POPESTIMATE2014",
          "POPESTIMATE2015",
          "POPESTIMATE2016",
          "POPESTIMATE2017"
         ],
         "y": [
          1053169,
          1052154,
          1052761,
          1052784,
          1054782,
          1055916,
          1057566,
          1059639
         ]
        },
        {
         "mode": "markers+lines",
         "name": "Vermont",
         "type": "scatter",
         "uid": "8998deab-efa6-4ede-983b-b1864f3823dd",
         "x": [
          "POPESTIMATE2010",
          "POPESTIMATE2011",
          "POPESTIMATE2012",
          "POPESTIMATE2013",
          "POPESTIMATE2014",
          "POPESTIMATE2015",
          "POPESTIMATE2016",
          "POPESTIMATE2017"
         ],
         "y": [
          625842,
          626210,
          625606,
          626044,
          625665,
          624455,
          623354,
          623657
         ]
        }
       ],
       "layout": {
        "title": "Population Estimates of the Six New England States"
       }
      },
      "text/html": [
       "<div id=\"77421732-81ef-4165-aa2a-4a59709cdc8c\" style=\"height: 525px; width: 100%;\" class=\"plotly-graph-div\"></div><script type=\"text/javascript\">require([\"plotly\"], function(Plotly) { window.PLOTLYENV=window.PLOTLYENV || {};window.PLOTLYENV.BASE_URL=\"https://plot.ly\";Plotly.newPlot(\"77421732-81ef-4165-aa2a-4a59709cdc8c\", [{\"mode\": \"markers+lines\", \"name\": \"Connecticut\", \"x\": [\"POPESTIMATE2010\", \"POPESTIMATE2011\", \"POPESTIMATE2012\", \"POPESTIMATE2013\", \"POPESTIMATE2014\", \"POPESTIMATE2015\", \"POPESTIMATE2016\", \"POPESTIMATE2017\"], \"y\": [3580171.0, 3591927.0, 3597705.0, 3602470.0, 3600188.0, 3593862.0, 3587685.0, 3588184.0], \"type\": \"scatter\", \"uid\": \"57ea9ab9-166c-45c5-8415-1c3292323d6b\"}, {\"mode\": \"markers+lines\", \"name\": \"Maine\", \"x\": [\"POPESTIMATE2010\", \"POPESTIMATE2011\", \"POPESTIMATE2012\", \"POPESTIMATE2013\", \"POPESTIMATE2014\", \"POPESTIMATE2015\", \"POPESTIMATE2016\", \"POPESTIMATE2017\"], \"y\": [1327568.0, 1327968.0, 1328101.0, 1327975.0, 1328903.0, 1327787.0, 1330232.0, 1335907.0], \"type\": \"scatter\", \"uid\": \"68909779-b0ae-498f-a65f-2a58536b0f4c\"}, {\"mode\": \"markers+lines\", \"name\": \"Massachusetts\", \"x\": [\"POPESTIMATE2010\", \"POPESTIMATE2011\", \"POPESTIMATE2012\", \"POPESTIMATE2013\", \"POPESTIMATE2014\", \"POPESTIMATE2015\", \"POPESTIMATE2016\", \"POPESTIMATE2017\"], \"y\": [6564943.0, 6612178.0, 6659627.0, 6711138.0, 6757925.0, 6794002.0, 6823721.0, 6859819.0], \"type\": \"scatter\", \"uid\": \"f5bd0ecc-23da-47e1-a70b-50e819267041\"}, {\"mode\": \"markers+lines\", \"name\": \"New Hampshire\", \"x\": [\"POPESTIMATE2010\", \"POPESTIMATE2011\", \"POPESTIMATE2012\", \"POPESTIMATE2013\", \"POPESTIMATE2014\", \"POPESTIMATE2015\", \"POPESTIMATE2016\", \"POPESTIMATE2017\"], \"y\": [1316700.0, 1318345.0, 1320923.0, 1322622.0, 1328684.0, 1330134.0, 1335015.0, 1342795.0], \"type\": \"scatter\", \"uid\": \"28a0e677-3fc2-4135-9cda-2aa67bf1c628\"}, {\"mode\": \"markers+lines\", \"name\": \"Rhode Island\", \"x\": [\"POPESTIMATE2010\", \"POPESTIMATE2011\", \"POPESTIMATE2012\", \"POPESTIMATE2013\", \"POPESTIMATE2014\", \"POPESTIMATE2015\", \"POPESTIMATE2016\", \"POPESTIMATE2017\"], \"y\": [1053169.0, 1052154.0, 1052761.0, 1052784.0, 1054782.0, 1055916.0, 1057566.0, 1059639.0], \"type\": \"scatter\", \"uid\": \"828cccfa-b93a-4fe6-9761-014bc61f43c2\"}, {\"mode\": \"markers+lines\", \"name\": \"Vermont\", \"x\": [\"POPESTIMATE2010\", \"POPESTIMATE2011\", \"POPESTIMATE2012\", \"POPESTIMATE2013\", \"POPESTIMATE2014\", \"POPESTIMATE2015\", \"POPESTIMATE2016\", \"POPESTIMATE2017\"], \"y\": [625842.0, 626210.0, 625606.0, 626044.0, 625665.0, 624455.0, 623354.0, 623657.0], \"type\": \"scatter\", \"uid\": \"8998deab-efa6-4ede-983b-b1864f3823dd\"}], {\"title\": \"Population Estimates of the Six New England States\"}, {\"showLink\": true, \"linkText\": \"Export to plot.ly\"})});</script><script type=\"text/javascript\">window.addEventListener(\"resize\", function(){Plotly.Plots.resize(document.getElementById(\"77421732-81ef-4165-aa2a-4a59709cdc8c\"));});</script>"
      ],
      "text/vnd.plotly.v1+html": [
       "<div id=\"77421732-81ef-4165-aa2a-4a59709cdc8c\" style=\"height: 525px; width: 100%;\" class=\"plotly-graph-div\"></div><script type=\"text/javascript\">require([\"plotly\"], function(Plotly) { window.PLOTLYENV=window.PLOTLYENV || {};window.PLOTLYENV.BASE_URL=\"https://plot.ly\";Plotly.newPlot(\"77421732-81ef-4165-aa2a-4a59709cdc8c\", [{\"mode\": \"markers+lines\", \"name\": \"Connecticut\", \"x\": [\"POPESTIMATE2010\", \"POPESTIMATE2011\", \"POPESTIMATE2012\", \"POPESTIMATE2013\", \"POPESTIMATE2014\", \"POPESTIMATE2015\", \"POPESTIMATE2016\", \"POPESTIMATE2017\"], \"y\": [3580171.0, 3591927.0, 3597705.0, 3602470.0, 3600188.0, 3593862.0, 3587685.0, 3588184.0], \"type\": \"scatter\", \"uid\": \"57ea9ab9-166c-45c5-8415-1c3292323d6b\"}, {\"mode\": \"markers+lines\", \"name\": \"Maine\", \"x\": [\"POPESTIMATE2010\", \"POPESTIMATE2011\", \"POPESTIMATE2012\", \"POPESTIMATE2013\", \"POPESTIMATE2014\", \"POPESTIMATE2015\", \"POPESTIMATE2016\", \"POPESTIMATE2017\"], \"y\": [1327568.0, 1327968.0, 1328101.0, 1327975.0, 1328903.0, 1327787.0, 1330232.0, 1335907.0], \"type\": \"scatter\", \"uid\": \"68909779-b0ae-498f-a65f-2a58536b0f4c\"}, {\"mode\": \"markers+lines\", \"name\": \"Massachusetts\", \"x\": [\"POPESTIMATE2010\", \"POPESTIMATE2011\", \"POPESTIMATE2012\", \"POPESTIMATE2013\", \"POPESTIMATE2014\", \"POPESTIMATE2015\", \"POPESTIMATE2016\", \"POPESTIMATE2017\"], \"y\": [6564943.0, 6612178.0, 6659627.0, 6711138.0, 6757925.0, 6794002.0, 6823721.0, 6859819.0], \"type\": \"scatter\", \"uid\": \"f5bd0ecc-23da-47e1-a70b-50e819267041\"}, {\"mode\": \"markers+lines\", \"name\": \"New Hampshire\", \"x\": [\"POPESTIMATE2010\", \"POPESTIMATE2011\", \"POPESTIMATE2012\", \"POPESTIMATE2013\", \"POPESTIMATE2014\", \"POPESTIMATE2015\", \"POPESTIMATE2016\", \"POPESTIMATE2017\"], \"y\": [1316700.0, 1318345.0, 1320923.0, 1322622.0, 1328684.0, 1330134.0, 1335015.0, 1342795.0], \"type\": \"scatter\", \"uid\": \"28a0e677-3fc2-4135-9cda-2aa67bf1c628\"}, {\"mode\": \"markers+lines\", \"name\": \"Rhode Island\", \"x\": [\"POPESTIMATE2010\", \"POPESTIMATE2011\", \"POPESTIMATE2012\", \"POPESTIMATE2013\", \"POPESTIMATE2014\", \"POPESTIMATE2015\", \"POPESTIMATE2016\", \"POPESTIMATE2017\"], \"y\": [1053169.0, 1052154.0, 1052761.0, 1052784.0, 1054782.0, 1055916.0, 1057566.0, 1059639.0], \"type\": \"scatter\", \"uid\": \"828cccfa-b93a-4fe6-9761-014bc61f43c2\"}, {\"mode\": \"markers+lines\", \"name\": \"Vermont\", \"x\": [\"POPESTIMATE2010\", \"POPESTIMATE2011\", \"POPESTIMATE2012\", \"POPESTIMATE2013\", \"POPESTIMATE2014\", \"POPESTIMATE2015\", \"POPESTIMATE2016\", \"POPESTIMATE2017\"], \"y\": [625842.0, 626210.0, 625606.0, 626044.0, 625665.0, 624455.0, 623354.0, 623657.0], \"type\": \"scatter\", \"uid\": \"8998deab-efa6-4ede-983b-b1864f3823dd\"}], {\"title\": \"Population Estimates of the Six New England States\"}, {\"showLink\": true, \"linkText\": \"Export to plot.ly\"})});</script><script type=\"text/javascript\">window.addEventListener(\"resize\", function(){Plotly.Plots.resize(document.getElementById(\"77421732-81ef-4165-aa2a-4a59709cdc8c\"));});</script>"
      ]
     },
     "metadata": {},
     "output_type": "display_data"
    }
   ],
   "source": [
    "layout = go.Layout(\n",
    "    title = 'Population Estimates of the Six New England States'\n",
    ")\n",
    "\n",
    "fig = go.Figure(data=traces,layout=layout)\n",
    "pyo.iplot(fig, filename='line3.html')\n"
   ]
  },
  {
   "cell_type": "markdown",
   "metadata": {},
   "source": [
    "## Area Chart"
   ]
  },
  {
   "cell_type": "code",
   "execution_count": 21,
   "metadata": {},
   "outputs": [],
   "source": [
    "month  = [1,2,3,4,5]\n",
    "taipei = [92.5,132.6,168.8,159.1,218.7]\n",
    "tainan = [21.2, 30.6, 37.3, 84.6, 184.3]\n"
   ]
  },
  {
   "cell_type": "code",
   "execution_count": 22,
   "metadata": {},
   "outputs": [],
   "source": [
    "trace1 = go.Scatter(\n",
    "    x=month,\n",
    "    y=taipei,\n",
    "    fill='tozeroy'\n",
    ")\n",
    "\n",
    "trace2 = go.Scatter(\n",
    "    x=month,\n",
    "    y=tainan,\n",
    "    fill='tozeroy'\n",
    ")\n"
   ]
  },
  {
   "cell_type": "code",
   "execution_count": 23,
   "metadata": {},
   "outputs": [],
   "source": [
    "data = [trace1, trace2]"
   ]
  },
  {
   "cell_type": "code",
   "execution_count": 24,
   "metadata": {},
   "outputs": [
    {
     "data": {
      "application/vnd.plotly.v1+json": {
       "data": [
        {
         "fill": "tozeroy",
         "type": "scatter",
         "uid": "61368735-16ae-4af6-a6fb-6d2c203407dc",
         "x": [
          1,
          2,
          3,
          4,
          5
         ],
         "y": [
          92.5,
          132.6,
          168.8,
          159.1,
          218.7
         ]
        },
        {
         "fill": "tozeroy",
         "type": "scatter",
         "uid": "30531416-69b7-416a-94be-37e174f08840",
         "x": [
          1,
          2,
          3,
          4,
          5
         ],
         "y": [
          21.2,
          30.6,
          37.3,
          84.6,
          184.3
         ]
        }
       ],
       "layout": {}
      },
      "text/html": [
       "<div id=\"66667b04-155d-4a41-9a26-2549dd3dc8dc\" style=\"height: 525px; width: 100%;\" class=\"plotly-graph-div\"></div><script type=\"text/javascript\">require([\"plotly\"], function(Plotly) { window.PLOTLYENV=window.PLOTLYENV || {};window.PLOTLYENV.BASE_URL=\"https://plot.ly\";Plotly.newPlot(\"66667b04-155d-4a41-9a26-2549dd3dc8dc\", [{\"fill\": \"tozeroy\", \"x\": [1, 2, 3, 4, 5], \"y\": [92.5, 132.6, 168.8, 159.1, 218.7], \"type\": \"scatter\", \"uid\": \"c9c52f1d-7bc3-4971-94b1-00d97f6095d5\"}, {\"fill\": \"tozeroy\", \"x\": [1, 2, 3, 4, 5], \"y\": [21.2, 30.6, 37.3, 84.6, 184.3], \"type\": \"scatter\", \"uid\": \"27316b80-d723-47a9-bd7f-b79f0d3b9add\"}], {}, {\"showLink\": true, \"linkText\": \"Export to plot.ly\"})});</script><script type=\"text/javascript\">window.addEventListener(\"resize\", function(){Plotly.Plots.resize(document.getElementById(\"66667b04-155d-4a41-9a26-2549dd3dc8dc\"));});</script>"
      ],
      "text/vnd.plotly.v1+html": [
       "<div id=\"66667b04-155d-4a41-9a26-2549dd3dc8dc\" style=\"height: 525px; width: 100%;\" class=\"plotly-graph-div\"></div><script type=\"text/javascript\">require([\"plotly\"], function(Plotly) { window.PLOTLYENV=window.PLOTLYENV || {};window.PLOTLYENV.BASE_URL=\"https://plot.ly\";Plotly.newPlot(\"66667b04-155d-4a41-9a26-2549dd3dc8dc\", [{\"fill\": \"tozeroy\", \"x\": [1, 2, 3, 4, 5], \"y\": [92.5, 132.6, 168.8, 159.1, 218.7], \"type\": \"scatter\", \"uid\": \"c9c52f1d-7bc3-4971-94b1-00d97f6095d5\"}, {\"fill\": \"tozeroy\", \"x\": [1, 2, 3, 4, 5], \"y\": [21.2, 30.6, 37.3, 84.6, 184.3], \"type\": \"scatter\", \"uid\": \"27316b80-d723-47a9-bd7f-b79f0d3b9add\"}], {}, {\"showLink\": true, \"linkText\": \"Export to plot.ly\"})});</script><script type=\"text/javascript\">window.addEventListener(\"resize\", function(){Plotly.Plots.resize(document.getElementById(\"66667b04-155d-4a41-9a26-2549dd3dc8dc\"));});</script>"
      ]
     },
     "metadata": {},
     "output_type": "display_data"
    }
   ],
   "source": [
    "pyo.iplot(data)"
   ]
  },
  {
   "cell_type": "code",
   "execution_count": 25,
   "metadata": {},
   "outputs": [],
   "source": [
    "total = []\n",
    "for i,j in zip(taipei, tainan):\n",
    "    total.append(i+j)"
   ]
  },
  {
   "cell_type": "code",
   "execution_count": 26,
   "metadata": {},
   "outputs": [
    {
     "data": {
      "text/plain": [
       "[113.7, 163.2, 206.10000000000002, 243.7, 403.0]"
      ]
     },
     "execution_count": 26,
     "metadata": {},
     "output_type": "execute_result"
    }
   ],
   "source": [
    "total"
   ]
  },
  {
   "cell_type": "code",
   "execution_count": 27,
   "metadata": {},
   "outputs": [],
   "source": [
    "trace1 = go.Scatter(\n",
    "    x=month,\n",
    "    y=taipei,\n",
    "    fill='tozeroy'\n",
    ")\n",
    "\n",
    "trace2 = go.Scatter(\n",
    "    x=month,\n",
    "    y=total,\n",
    "    fill='tonexty'\n",
    ")\n"
   ]
  },
  {
   "cell_type": "code",
   "execution_count": 28,
   "metadata": {},
   "outputs": [],
   "source": [
    "data = [trace1, trace2]"
   ]
  },
  {
   "cell_type": "code",
   "execution_count": 29,
   "metadata": {},
   "outputs": [
    {
     "data": {
      "application/vnd.plotly.v1+json": {
       "data": [
        {
         "fill": "tozeroy",
         "type": "scatter",
         "uid": "446b3db9-7e61-4f50-9308-19bdba45eca3",
         "x": [
          1,
          2,
          3,
          4,
          5
         ],
         "y": [
          92.5,
          132.6,
          168.8,
          159.1,
          218.7
         ]
        },
        {
         "fill": "tonexty",
         "type": "scatter",
         "uid": "57688051-44c7-480d-9651-36aaaf9d0afe",
         "x": [
          1,
          2,
          3,
          4,
          5
         ],
         "y": [
          113.7,
          163.2,
          206.10000000000002,
          243.7,
          403
         ]
        }
       ],
       "layout": {}
      },
      "text/html": [
       "<div id=\"41f867c6-6991-4ad1-875e-c4c441d8e34b\" style=\"height: 525px; width: 100%;\" class=\"plotly-graph-div\"></div><script type=\"text/javascript\">require([\"plotly\"], function(Plotly) { window.PLOTLYENV=window.PLOTLYENV || {};window.PLOTLYENV.BASE_URL=\"https://plot.ly\";Plotly.newPlot(\"41f867c6-6991-4ad1-875e-c4c441d8e34b\", [{\"fill\": \"tozeroy\", \"x\": [1, 2, 3, 4, 5], \"y\": [92.5, 132.6, 168.8, 159.1, 218.7], \"type\": \"scatter\", \"uid\": \"a20894d5-3750-4879-b5e7-8dc54a8b70e7\"}, {\"fill\": \"tonexty\", \"x\": [1, 2, 3, 4, 5], \"y\": [113.7, 163.2, 206.10000000000002, 243.7, 403.0], \"type\": \"scatter\", \"uid\": \"6b7c97fa-fc0e-4e34-babf-110a99b37cad\"}], {}, {\"showLink\": true, \"linkText\": \"Export to plot.ly\"})});</script><script type=\"text/javascript\">window.addEventListener(\"resize\", function(){Plotly.Plots.resize(document.getElementById(\"41f867c6-6991-4ad1-875e-c4c441d8e34b\"));});</script>"
      ],
      "text/vnd.plotly.v1+html": [
       "<div id=\"41f867c6-6991-4ad1-875e-c4c441d8e34b\" style=\"height: 525px; width: 100%;\" class=\"plotly-graph-div\"></div><script type=\"text/javascript\">require([\"plotly\"], function(Plotly) { window.PLOTLYENV=window.PLOTLYENV || {};window.PLOTLYENV.BASE_URL=\"https://plot.ly\";Plotly.newPlot(\"41f867c6-6991-4ad1-875e-c4c441d8e34b\", [{\"fill\": \"tozeroy\", \"x\": [1, 2, 3, 4, 5], \"y\": [92.5, 132.6, 168.8, 159.1, 218.7], \"type\": \"scatter\", \"uid\": \"a20894d5-3750-4879-b5e7-8dc54a8b70e7\"}, {\"fill\": \"tonexty\", \"x\": [1, 2, 3, 4, 5], \"y\": [113.7, 163.2, 206.10000000000002, 243.7, 403.0], \"type\": \"scatter\", \"uid\": \"6b7c97fa-fc0e-4e34-babf-110a99b37cad\"}], {}, {\"showLink\": true, \"linkText\": \"Export to plot.ly\"})});</script><script type=\"text/javascript\">window.addEventListener(\"resize\", function(){Plotly.Plots.resize(document.getElementById(\"41f867c6-6991-4ad1-875e-c4c441d8e34b\"));});</script>"
      ]
     },
     "metadata": {},
     "output_type": "display_data"
    }
   ],
   "source": [
    "pyo.iplot(data)"
   ]
  },
  {
   "cell_type": "markdown",
   "metadata": {},
   "source": [
    "## Bar Chart"
   ]
  },
  {
   "cell_type": "code",
   "execution_count": 30,
   "metadata": {},
   "outputs": [],
   "source": [
    "traindata = pandas.read_csv('data/train.csv')"
   ]
  },
  {
   "cell_type": "code",
   "execution_count": 31,
   "metadata": {},
   "outputs": [],
   "source": [
    "stat = traindata.groupby('YrSold')['Id'].count()"
   ]
  },
  {
   "cell_type": "code",
   "execution_count": 32,
   "metadata": {},
   "outputs": [
    {
     "name": "stdout",
     "output_type": "stream",
     "text": [
      "Populating the interactive namespace from numpy and matplotlib\n"
     ]
    },
    {
     "data": {
      "text/plain": [
       "<matplotlib.axes._subplots.AxesSubplot at 0x10c6c8898>"
      ]
     },
     "execution_count": 32,
     "metadata": {},
     "output_type": "execute_result"
    },
    {
     "data": {
      "image/png": "[encoded data removed]",
      "text/plain": [
       "<Figure size 432x288 with 1 Axes>"
      ]
     },
     "metadata": {},
     "output_type": "display_data"
    }
   ],
   "source": [
    "%pylab inline\n",
    "stat.plot(kind='bar')"
   ]
  },
  {
   "cell_type": "code",
   "execution_count": 33,
   "metadata": {},
   "outputs": [
    {
     "name": "stdout",
     "output_type": "stream",
     "text": [
      "Populating the interactive namespace from numpy and matplotlib\n"
     ]
    },
    {
     "data": {
      "text/plain": [
       "<matplotlib.axes._subplots.AxesSubplot at 0x111704438>"
      ]
     },
     "execution_count": 33,
     "metadata": {},
     "output_type": "execute_result"
    },
    {
     "data": {
      "image/png": "[encoded data removed]",
      "text/plain": [
       "<Figure size 432x288 with 1 Axes>"
      ]
     },
     "metadata": {},
     "output_type": "display_data"
    }
   ],
   "source": [
    "%pylab inline\n",
    "stat.plot(kind='barh')"
   ]
  },
  {
   "cell_type": "code",
   "execution_count": 34,
   "metadata": {},
   "outputs": [],
   "source": [
    "data = [go.Bar(\n",
    "    x=stat.index,  \n",
    "    y=stat\n",
    ")]\n"
   ]
  },
  {
   "cell_type": "code",
   "execution_count": 35,
   "metadata": {},
   "outputs": [
    {
     "data": {
      "application/vnd.plotly.v1+json": {
       "data": [
        {
         "type": "bar",
         "uid": "38be8b89-8310-4893-9ac9-839346e0c5b6",
         "x": [
          2006,
          2007,
          2008,
          2009,
          2010
         ],
         "y": [
          314,
          329,
          304,
          338,
          175
         ]
        }
       ],
       "layout": {}
      },
      "text/html": [
       "<div id=\"f5515bf2-3668-4518-870b-45f421b36d30\" style=\"height: 525px; width: 100%;\" class=\"plotly-graph-div\"></div><script type=\"text/javascript\">require([\"plotly\"], function(Plotly) { window.PLOTLYENV=window.PLOTLYENV || {};window.PLOTLYENV.BASE_URL=\"https://plot.ly\";Plotly.newPlot(\"f5515bf2-3668-4518-870b-45f421b36d30\", [{\"x\": [2006, 2007, 2008, 2009, 2010], \"y\": [314, 329, 304, 338, 175], \"type\": \"bar\", \"uid\": \"d731adc9-8f50-4b24-8e39-64dfe15c56fe\"}], {}, {\"showLink\": true, \"linkText\": \"Export to plot.ly\"})});</script><script type=\"text/javascript\">window.addEventListener(\"resize\", function(){Plotly.Plots.resize(document.getElementById(\"f5515bf2-3668-4518-870b-45f421b36d30\"));});</script>"
      ],
      "text/vnd.plotly.v1+html": [
       "<div id=\"f5515bf2-3668-4518-870b-45f421b36d30\" style=\"height: 525px; width: 100%;\" class=\"plotly-graph-div\"></div><script type=\"text/javascript\">require([\"plotly\"], function(Plotly) { window.PLOTLYENV=window.PLOTLYENV || {};window.PLOTLYENV.BASE_URL=\"https://plot.ly\";Plotly.newPlot(\"f5515bf2-3668-4518-870b-45f421b36d30\", [{\"x\": [2006, 2007, 2008, 2009, 2010], \"y\": [314, 329, 304, 338, 175], \"type\": \"bar\", \"uid\": \"d731adc9-8f50-4b24-8e39-64dfe15c56fe\"}], {}, {\"showLink\": true, \"linkText\": \"Export to plot.ly\"})});</script><script type=\"text/javascript\">window.addEventListener(\"resize\", function(){Plotly.Plots.resize(document.getElementById(\"f5515bf2-3668-4518-870b-45f421b36d30\"));});</script>"
      ]
     },
     "metadata": {},
     "output_type": "display_data"
    }
   ],
   "source": [
    "pyo.iplot(data, filename='bar1.html')\n"
   ]
  },
  {
   "cell_type": "code",
   "execution_count": 36,
   "metadata": {},
   "outputs": [],
   "source": [
    "stat = traindata.groupby(['HouseStyle','YrSold'])['Id'].count().unstack()"
   ]
  },
  {
   "cell_type": "code",
   "execution_count": 37,
   "metadata": {},
   "outputs": [
    {
     "data": {
      "text/html": [
       "<div>\n",
       "<style>\n",
       "    .dataframe thead tr:only-child th {\n",
       "        text-align: right;\n",
       "    }\n",
       "\n",
       "    .dataframe thead th {\n",
       "        text-align: left;\n",
       "    }\n",
       "\n",
       "    .dataframe tbody tr th {\n",
       "        vertical-align: top;\n",
       "    }\n",
       "</style>\n",
       "<table border=\"1\" class=\"dataframe\">\n",
       "  <thead>\n",
       "    <tr style=\"text-align: right;\">\n",
       "      <th>YrSold</th>\n",
       "      <th>2006</th>\n",
       "      <th>2007</th>\n",
       "      <th>2008</th>\n",
       "      <th>2009</th>\n",
       "      <th>2010</th>\n",
       "    </tr>\n",
       "    <tr>\n",
       "      <th>HouseStyle</th>\n",
       "      <th></th>\n",
       "      <th></th>\n",
       "      <th></th>\n",
       "      <th></th>\n",
       "      <th></th>\n",
       "    </tr>\n",
       "  </thead>\n",
       "  <tbody>\n",
       "    <tr>\n",
       "      <th>1.5Fin</th>\n",
       "      <td>34.0</td>\n",
       "      <td>28.0</td>\n",
       "      <td>37.0</td>\n",
       "      <td>39.0</td>\n",
       "      <td>16.0</td>\n",
       "    </tr>\n",
       "    <tr>\n",
       "      <th>1.5Unf</th>\n",
       "      <td>1.0</td>\n",
       "      <td>7.0</td>\n",
       "      <td>3.0</td>\n",
       "      <td>3.0</td>\n",
       "      <td>NaN</td>\n",
       "    </tr>\n",
       "    <tr>\n",
       "      <th>1Story</th>\n",
       "      <td>151.0</td>\n",
       "      <td>167.0</td>\n",
       "      <td>146.0</td>\n",
       "      <td>167.0</td>\n",
       "      <td>95.0</td>\n",
       "    </tr>\n",
       "    <tr>\n",
       "      <th>2.5Fin</th>\n",
       "      <td>2.0</td>\n",
       "      <td>1.0</td>\n",
       "      <td>3.0</td>\n",
       "      <td>2.0</td>\n",
       "      <td>NaN</td>\n",
       "    </tr>\n",
       "    <tr>\n",
       "      <th>2.5Unf</th>\n",
       "      <td>2.0</td>\n",
       "      <td>4.0</td>\n",
       "      <td>3.0</td>\n",
       "      <td>2.0</td>\n",
       "      <td>NaN</td>\n",
       "    </tr>\n",
       "    <tr>\n",
       "      <th>2Story</th>\n",
       "      <td>101.0</td>\n",
       "      <td>99.0</td>\n",
       "      <td>92.0</td>\n",
       "      <td>102.0</td>\n",
       "      <td>51.0</td>\n",
       "    </tr>\n",
       "    <tr>\n",
       "      <th>SFoyer</th>\n",
       "      <td>8.0</td>\n",
       "      <td>9.0</td>\n",
       "      <td>5.0</td>\n",
       "      <td>9.0</td>\n",
       "      <td>6.0</td>\n",
       "    </tr>\n",
       "    <tr>\n",
       "      <th>SLvl</th>\n",
       "      <td>15.0</td>\n",
       "      <td>14.0</td>\n",
       "      <td>15.0</td>\n",
       "      <td>14.0</td>\n",
       "      <td>7.0</td>\n",
       "    </tr>\n",
       "  </tbody>\n",
       "</table>\n",
       "</div>"
      ],
      "text/plain": [
       "YrSold       2006   2007   2008   2009  2010\n",
       "HouseStyle                                  \n",
       "1.5Fin       34.0   28.0   37.0   39.0  16.0\n",
       "1.5Unf        1.0    7.0    3.0    3.0   NaN\n",
       "1Story      151.0  167.0  146.0  167.0  95.0\n",
       "2.5Fin        2.0    1.0    3.0    2.0   NaN\n",
       "2.5Unf        2.0    4.0    3.0    2.0   NaN\n",
       "2Story      101.0   99.0   92.0  102.0  51.0\n",
       "SFoyer        8.0    9.0    5.0    9.0   6.0\n",
       "SLvl         15.0   14.0   15.0   14.0   7.0"
      ]
     },
     "execution_count": 37,
     "metadata": {},
     "output_type": "execute_result"
    }
   ],
   "source": [
    "stat"
   ]
  },
  {
   "cell_type": "code",
   "execution_count": 38,
   "metadata": {},
   "outputs": [],
   "source": [
    "trace1 = go.Bar(\n",
    "    x=stat.index,  \n",
    "    y=stat[2006],\n",
    "    name = '2006',\n",
    "    marker=dict(color='#FFD700')\n",
    ")\n",
    "\n",
    "trace2 = go.Bar(\n",
    "    x=stat.index,  \n",
    "    y=stat[2007],\n",
    "    name = '2007',\n",
    "    marker=dict(color='#9EA0A1')\n",
    ")\n"
   ]
  },
  {
   "cell_type": "code",
   "execution_count": 39,
   "metadata": {},
   "outputs": [
    {
     "data": {
      "application/vnd.plotly.v1+json": {
       "data": [
        {
         "marker": {
          "color": "#FFD700"
         },
         "name": "2006",
         "type": "bar",
         "uid": "f8c4a5e4-2fa6-4e0e-a2fe-3c27d8e9696a",
         "x": [
          "1.5Fin",
          "1.5Unf",
          "1Story",
          "2.5Fin",
          "2.5Unf",
          "2Story",
          "SFoyer",
          "SLvl"
         ],
         "y": [
          34,
          1,
          151,
          2,
          2,
          101,
          8,
          15
         ]
        },
        {
         "marker": {
          "color": "#9EA0A1"
         },
         "name": "2007",
         "type": "bar",
         "uid": "34ad65b9-4b9f-444b-a337-b98177e86e4e",
         "x": [
          "1.5Fin",
          "1.5Unf",
          "1Story",
          "2.5Fin",
          "2.5Unf",
          "2Story",
          "SFoyer",
          "SLvl"
         ],
         "y": [
          28,
          7,
          167,
          1,
          4,
          99,
          9,
          14
         ]
        }
       ],
       "layout": {}
      },
      "text/html": [
       "<div id=\"c029378e-ead3-4a75-8241-6d4d4cf5df1b\" style=\"height: 525px; width: 100%;\" class=\"plotly-graph-div\"></div><script type=\"text/javascript\">require([\"plotly\"], function(Plotly) { window.PLOTLYENV=window.PLOTLYENV || {};window.PLOTLYENV.BASE_URL=\"https://plot.ly\";Plotly.newPlot(\"c029378e-ead3-4a75-8241-6d4d4cf5df1b\", [{\"marker\": {\"color\": \"#FFD700\"}, \"name\": \"2006\", \"x\": [\"1.5Fin\", \"1.5Unf\", \"1Story\", \"2.5Fin\", \"2.5Unf\", \"2Story\", \"SFoyer\", \"SLvl\"], \"y\": [34.0, 1.0, 151.0, 2.0, 2.0, 101.0, 8.0, 15.0], \"type\": \"bar\", \"uid\": \"f8c4a5e4-2fa6-4e0e-a2fe-3c27d8e9696a\"}, {\"marker\": {\"color\": \"#9EA0A1\"}, \"name\": \"2007\", \"x\": [\"1.5Fin\", \"1.5Unf\", \"1Story\", \"2.5Fin\", \"2.5Unf\", \"2Story\", \"SFoyer\", \"SLvl\"], \"y\": [28.0, 7.0, 167.0, 1.0, 4.0, 99.0, 9.0, 14.0], \"type\": \"bar\", \"uid\": \"34ad65b9-4b9f-444b-a337-b98177e86e4e\"}], {}, {\"showLink\": true, \"linkText\": \"Export to plot.ly\"})});</script><script type=\"text/javascript\">window.addEventListener(\"resize\", function(){Plotly.Plots.resize(document.getElementById(\"c029378e-ead3-4a75-8241-6d4d4cf5df1b\"));});</script>"
      ],
      "text/vnd.plotly.v1+html": [
       "<div id=\"c029378e-ead3-4a75-8241-6d4d4cf5df1b\" style=\"height: 525px; width: 100%;\" class=\"plotly-graph-div\"></div><script type=\"text/javascript\">require([\"plotly\"], function(Plotly) { window.PLOTLYENV=window.PLOTLYENV || {};window.PLOTLYENV.BASE_URL=\"https://plot.ly\";Plotly.newPlot(\"c029378e-ead3-4a75-8241-6d4d4cf5df1b\", [{\"marker\": {\"color\": \"#FFD700\"}, \"name\": \"2006\", \"x\": [\"1.5Fin\", \"1.5Unf\", \"1Story\", \"2.5Fin\", \"2.5Unf\", \"2Story\", \"SFoyer\", \"SLvl\"], \"y\": [34.0, 1.0, 151.0, 2.0, 2.0, 101.0, 8.0, 15.0], \"type\": \"bar\", \"uid\": \"f8c4a5e4-2fa6-4e0e-a2fe-3c27d8e9696a\"}, {\"marker\": {\"color\": \"#9EA0A1\"}, \"name\": \"2007\", \"x\": [\"1.5Fin\", \"1.5Unf\", \"1Story\", \"2.5Fin\", \"2.5Unf\", \"2Story\", \"SFoyer\", \"SLvl\"], \"y\": [28.0, 7.0, 167.0, 1.0, 4.0, 99.0, 9.0, 14.0], \"type\": \"bar\", \"uid\": \"34ad65b9-4b9f-444b-a337-b98177e86e4e\"}], {}, {\"showLink\": true, \"linkText\": \"Export to plot.ly\"})});</script><script type=\"text/javascript\">window.addEventListener(\"resize\", function(){Plotly.Plots.resize(document.getElementById(\"c029378e-ead3-4a75-8241-6d4d4cf5df1b\"));});</script>"
      ]
     },
     "metadata": {},
     "output_type": "display_data"
    }
   ],
   "source": [
    "data = [trace1, trace2]\n",
    "\n",
    "fig = go.Figure(data=data)\n",
    "pyo.iplot(fig, filename='bar2.html')\n"
   ]
  },
  {
   "cell_type": "code",
   "execution_count": 40,
   "metadata": {},
   "outputs": [],
   "source": [
    "data = [go.Bar(\n",
    "    x=stat.index,  \n",
    "    y=stat[col],\n",
    "    name = str(col)\n",
    ") for col in stat.columns]"
   ]
  },
  {
   "cell_type": "code",
   "execution_count": 41,
   "metadata": {},
   "outputs": [
    {
     "data": {
      "application/vnd.plotly.v1+json": {
       "data": [
        {
         "name": "2006",
         "type": "bar",
         "uid": "b3028ca2-6bf6-436c-a291-06197ae59566",
         "x": [
          "1.5Fin",
          "1.5Unf",
          "1Story",
          "2.5Fin",
          "2.5Unf",
          "2Story",
          "SFoyer",
          "SLvl"
         ],
         "y": [
          34,
          1,
          151,
          2,
          2,
          101,
          8,
          15
         ]
        },
        {
         "name": "2007",
         "type": "bar",
         "uid": "50f6918a-7a2e-45f5-a551-c69695211ad7",
         "x": [
          "1.5Fin",
          "1.5Unf",
          "1Story",
          "2.5Fin",
          "2.5Unf",
          "2Story",
          "SFoyer",
          "SLvl"
         ],
         "y": [
          28,
          7,
          167,
          1,
          4,
          99,
          9,
          14
         ]
        },
        {
         "name": "2008",
         "type": "bar",
         "uid": "acf47462-6479-4dfa-8e33-e75f059f4fa6",
         "x": [
          "1.5Fin",
          "1.5Unf",
          "1Story",
          "2.5Fin",
          "2.5Unf",
          "2Story",
          "SFoyer",
          "SLvl"
         ],
         "y": [
          37,
          3,
          146,
          3,
          3,
          92,
          5,
          15
         ]
        },
        {
         "name": "2009",
         "type": "bar",
         "uid": "ff0a7c6c-d3a9-4a95-add5-f58c0fad58e4",
         "x": [
          "1.5Fin",
          "1.5Unf",
          "1Story",
          "2.5Fin",
          "2.5Unf",
          "2Story",
          "SFoyer",
          "SLvl"
         ],
         "y": [
          39,
          3,
          167,
          2,
          2,
          102,
          9,
          14
         ]
        },
        {
         "name": "2010",
         "type": "bar",
         "uid": "16b9c849-dc33-4cb0-a83e-806b5a6be80a",
         "x": [
          "1.5Fin",
          "1.5Unf",
          "1Story",
          "2.5Fin",
          "2.5Unf",
          "2Story",
          "SFoyer",
          "SLvl"
         ],
         "y": [
          16,
          null,
          95,
          null,
          null,
          51,
          6,
          7
         ]
        }
       ],
       "layout": {}
      },
      "text/html": [
       "<div id=\"0a1b2e48-3a1b-430f-aa0d-9e182d944d82\" style=\"height: 525px; width: 100%;\" class=\"plotly-graph-div\"></div><script type=\"text/javascript\">require([\"plotly\"], function(Plotly) { window.PLOTLYENV=window.PLOTLYENV || {};window.PLOTLYENV.BASE_URL=\"https://plot.ly\";Plotly.newPlot(\"0a1b2e48-3a1b-430f-aa0d-9e182d944d82\", [{\"name\": \"2006\", \"x\": [\"1.5Fin\", \"1.5Unf\", \"1Story\", \"2.5Fin\", \"2.5Unf\", \"2Story\", \"SFoyer\", \"SLvl\"], \"y\": [34.0, 1.0, 151.0, 2.0, 2.0, 101.0, 8.0, 15.0], \"type\": \"bar\", \"uid\": \"b3028ca2-6bf6-436c-a291-06197ae59566\"}, {\"name\": \"2007\", \"x\": [\"1.5Fin\", \"1.5Unf\", \"1Story\", \"2.5Fin\", \"2.5Unf\", \"2Story\", \"SFoyer\", \"SLvl\"], \"y\": [28.0, 7.0, 167.0, 1.0, 4.0, 99.0, 9.0, 14.0], \"type\": \"bar\", \"uid\": \"50f6918a-7a2e-45f5-a551-c69695211ad7\"}, {\"name\": \"2008\", \"x\": [\"1.5Fin\", \"1.5Unf\", \"1Story\", \"2.5Fin\", \"2.5Unf\", \"2Story\", \"SFoyer\", \"SLvl\"], \"y\": [37.0, 3.0, 146.0, 3.0, 3.0, 92.0, 5.0, 15.0], \"type\": \"bar\", \"uid\": \"acf47462-6479-4dfa-8e33-e75f059f4fa6\"}, {\"name\": \"2009\", \"x\": [\"1.5Fin\", \"1.5Unf\", \"1Story\", \"2.5Fin\", \"2.5Unf\", \"2Story\", \"SFoyer\", \"SLvl\"], \"y\": [39.0, 3.0, 167.0, 2.0, 2.0, 102.0, 9.0, 14.0], \"type\": \"bar\", \"uid\": \"ff0a7c6c-d3a9-4a95-add5-f58c0fad58e4\"}, {\"name\": \"2010\", \"x\": [\"1.5Fin\", \"1.5Unf\", \"1Story\", \"2.5Fin\", \"2.5Unf\", \"2Story\", \"SFoyer\", \"SLvl\"], \"y\": [16.0, null, 95.0, null, null, 51.0, 6.0, 7.0], \"type\": \"bar\", \"uid\": \"16b9c849-dc33-4cb0-a83e-806b5a6be80a\"}], {}, {\"showLink\": true, \"linkText\": \"Export to plot.ly\"})});</script><script type=\"text/javascript\">window.addEventListener(\"resize\", function(){Plotly.Plots.resize(document.getElementById(\"0a1b2e48-3a1b-430f-aa0d-9e182d944d82\"));});</script>"
      ],
      "text/vnd.plotly.v1+html": [
       "<div id=\"0a1b2e48-3a1b-430f-aa0d-9e182d944d82\" style=\"height: 525px; width: 100%;\" class=\"plotly-graph-div\"></div><script type=\"text/javascript\">require([\"plotly\"], function(Plotly) { window.PLOTLYENV=window.PLOTLYENV || {};window.PLOTLYENV.BASE_URL=\"https://plot.ly\";Plotly.newPlot(\"0a1b2e48-3a1b-430f-aa0d-9e182d944d82\", [{\"name\": \"2006\", \"x\": [\"1.5Fin\", \"1.5Unf\", \"1Story\", \"2.5Fin\", \"2.5Unf\", \"2Story\", \"SFoyer\", \"SLvl\"], \"y\": [34.0, 1.0, 151.0, 2.0, 2.0, 101.0, 8.0, 15.0], \"type\": \"bar\", \"uid\": \"b3028ca2-6bf6-436c-a291-06197ae59566\"}, {\"name\": \"2007\", \"x\": [\"1.5Fin\", \"1.5Unf\", \"1Story\", \"2.5Fin\", \"2.5Unf\", \"2Story\", \"SFoyer\", \"SLvl\"], \"y\": [28.0, 7.0, 167.0, 1.0, 4.0, 99.0, 9.0, 14.0], \"type\": \"bar\", \"uid\": \"50f6918a-7a2e-45f5-a551-c69695211ad7\"}, {\"name\": \"2008\", \"x\": [\"1.5Fin\", \"1.5Unf\", \"1Story\", \"2.5Fin\", \"2.5Unf\", \"2Story\", \"SFoyer\", \"SLvl\"], \"y\": [37.0, 3.0, 146.0, 3.0, 3.0, 92.0, 5.0, 15.0], \"type\": \"bar\", \"uid\": \"acf47462-6479-4dfa-8e33-e75f059f4fa6\"}, {\"name\": \"2009\", \"x\": [\"1.5Fin\", \"1.5Unf\", \"1Story\", \"2.5Fin\", \"2.5Unf\", \"2Story\", \"SFoyer\", \"SLvl\"], \"y\": [39.0, 3.0, 167.0, 2.0, 2.0, 102.0, 9.0, 14.0], \"type\": \"bar\", \"uid\": \"ff0a7c6c-d3a9-4a95-add5-f58c0fad58e4\"}, {\"name\": \"2010\", \"x\": [\"1.5Fin\", \"1.5Unf\", \"1Story\", \"2.5Fin\", \"2.5Unf\", \"2Story\", \"SFoyer\", \"SLvl\"], \"y\": [16.0, null, 95.0, null, null, 51.0, 6.0, 7.0], \"type\": \"bar\", \"uid\": \"16b9c849-dc33-4cb0-a83e-806b5a6be80a\"}], {}, {\"showLink\": true, \"linkText\": \"Export to plot.ly\"})});</script><script type=\"text/javascript\">window.addEventListener(\"resize\", function(){Plotly.Plots.resize(document.getElementById(\"0a1b2e48-3a1b-430f-aa0d-9e182d944d82\"));});</script>"
      ]
     },
     "metadata": {},
     "output_type": "display_data"
    }
   ],
   "source": [
    "fig = go.Figure(data=data)\n",
    "pyo.iplot(fig, filename='bar2.html')"
   ]
  },
  {
   "cell_type": "markdown",
   "metadata": {},
   "source": [
    "## Adobe Color Wheel\n",
    "- https://color.adobe.com/zh/explore/?filter=most-popular&time=month\n",
    "- https://www.rgbtohex.net/"
   ]
  },
  {
   "cell_type": "code",
   "execution_count": 42,
   "metadata": {},
   "outputs": [],
   "source": [
    "?go.Bar"
   ]
  },
  {
   "cell_type": "code",
   "execution_count": 43,
   "metadata": {},
   "outputs": [
    {
     "data": {
      "application/vnd.plotly.v1+json": {
       "data": [
        {
         "name": "grades",
         "type": "bar",
         "uid": "c1ce594a-986f-4dd2-9639-833517230173",
         "x": [
          1,
          2,
          3,
          4
         ],
         "y": [
          80,
          82,
          84,
          88
         ]
        }
       ],
       "layout": {}
      },
      "text/html": [
       "<div id=\"e6a658f2-624b-4b43-a629-a50e38564d5c\" style=\"height: 525px; width: 100%;\" class=\"plotly-graph-div\"></div><script type=\"text/javascript\">require([\"plotly\"], function(Plotly) { window.PLOTLYENV=window.PLOTLYENV || {};window.PLOTLYENV.BASE_URL=\"https://plot.ly\";Plotly.newPlot(\"e6a658f2-624b-4b43-a629-a50e38564d5c\", [{\"name\": \"grades\", \"x\": [1, 2, 3, 4], \"y\": [80, 82, 84, 88], \"type\": \"bar\", \"uid\": \"b39e334c-8d49-4f80-8da3-409e69013ad3\"}], {}, {\"showLink\": true, \"linkText\": \"Export to plot.ly\"})});</script><script type=\"text/javascript\">window.addEventListener(\"resize\", function(){Plotly.Plots.resize(document.getElementById(\"e6a658f2-624b-4b43-a629-a50e38564d5c\"));});</script>"
      ],
      "text/vnd.plotly.v1+html": [
       "<div id=\"e6a658f2-624b-4b43-a629-a50e38564d5c\" style=\"height: 525px; width: 100%;\" class=\"plotly-graph-div\"></div><script type=\"text/javascript\">require([\"plotly\"], function(Plotly) { window.PLOTLYENV=window.PLOTLYENV || {};window.PLOTLYENV.BASE_URL=\"https://plot.ly\";Plotly.newPlot(\"e6a658f2-624b-4b43-a629-a50e38564d5c\", [{\"name\": \"grades\", \"x\": [1, 2, 3, 4], \"y\": [80, 82, 84, 88], \"type\": \"bar\", \"uid\": \"b39e334c-8d49-4f80-8da3-409e69013ad3\"}], {}, {\"showLink\": true, \"linkText\": \"Export to plot.ly\"})});</script><script type=\"text/javascript\">window.addEventListener(\"resize\", function(){Plotly.Plots.resize(document.getElementById(\"e6a658f2-624b-4b43-a629-a50e38564d5c\"));});</script>"
      ]
     },
     "metadata": {},
     "output_type": "display_data"
    }
   ],
   "source": [
    "year   = [1,2,3,4]\n",
    "grades = [80,82,84,88]\n",
    "trace1 = go.Bar(\n",
    "    x=year,  \n",
    "    y=grades,\n",
    "    name = 'grades'\n",
    ")\n",
    "data = [trace1]\n",
    "pyo.iplot(data)"
   ]
  },
  {
   "cell_type": "code",
   "execution_count": 45,
   "metadata": {},
   "outputs": [
    {
     "data": {
      "text/html": [
       "<script type=\"text/javascript\">window.PlotlyConfig = {MathJaxConfig: 'local'};</script><script type=\"text/javascript\">if (window.MathJax) {MathJax.Hub.Config({SVG: {font: \"STIX-Web\"}});}</script><script>requirejs.config({paths: { 'plotly': ['https://cdn.plot.ly/plotly-latest.min']},});if(!window._Plotly) {require(['plotly'],function(plotly) {window._Plotly=plotly;});}</script>"
      ],
      "text/vnd.plotly.v1+html": [
       "<script type=\"text/javascript\">window.PlotlyConfig = {MathJaxConfig: 'local'};</script><script type=\"text/javascript\">if (window.MathJax) {MathJax.Hub.Config({SVG: {font: \"STIX-Web\"}});}</script><script>requirejs.config({paths: { 'plotly': ['https://cdn.plot.ly/plotly-latest.min']},});if(!window._Plotly) {require(['plotly'],function(plotly) {window._Plotly=plotly;});}</script>"
      ]
     },
     "metadata": {},
     "output_type": "display_data"
    }
   ],
   "source": [
    "import plotly.offline as pyo\n",
    "import plotly.graph_objs as go\n",
    "import numpy as np\n",
    "pyo.init_notebook_mode(connected=True)"
   ]
  },
  {
   "cell_type": "code",
   "execution_count": 46,
   "metadata": {},
   "outputs": [],
   "source": [
    "import pandas\n",
    "traindata = pandas.read_csv('data/train.csv')"
   ]
  },
  {
   "cell_type": "code",
   "execution_count": 47,
   "metadata": {},
   "outputs": [],
   "source": [
    "#traindata['SalePrice']"
   ]
  },
  {
   "cell_type": "code",
   "execution_count": 48,
   "metadata": {},
   "outputs": [],
   "source": [
    "data = [\n",
    "    go.Histogram(x = traindata['SalePrice'])\n",
    "]"
   ]
  },
  {
   "cell_type": "code",
   "execution_count": 49,
   "metadata": {},
   "outputs": [
    {
     "data": {
      "text/plain": [
       "'file:///Users/davidchiu/course/ctbc/temp-plot.html'"
      ]
     },
     "execution_count": 49,
     "metadata": {},
     "output_type": "execute_result"
    }
   ],
   "source": [
    "pyo.plot(data)"
   ]
  },
  {
   "cell_type": "code",
   "execution_count": 51,
   "metadata": {},
   "outputs": [
    {
     "data": {
      "text/plain": [
       "'file:///Users/davidchiu/course/ctbc/temp-plot.html'"
      ]
     },
     "execution_count": 51,
     "metadata": {},
     "output_type": "execute_result"
    }
   ],
   "source": [
    "data = [\n",
    "    go.Histogram(\n",
    "        x = traindata['SalePrice'],\n",
    "        xbins=dict(start=100000,end=200000,size=10000),\n",
    "    )\n",
    "]\n",
    "pyo.plot(data)\n",
    "\n"
   ]
  },
  {
   "cell_type": "code",
   "execution_count": 55,
   "metadata": {},
   "outputs": [],
   "source": [
    "#traindata['HouseStyle'] == '1Story'"
   ]
  },
  {
   "cell_type": "code",
   "execution_count": 61,
   "metadata": {},
   "outputs": [],
   "source": [
    "data = [\n",
    "    go.Histogram(\n",
    "        x = traindata.loc[traindata['HouseStyle'] == '1Story','SalePrice'],\n",
    "        opacity=0.75,\n",
    "        name = '1Story'\n",
    "    ),\n",
    "    go.Histogram(\n",
    "        x = traindata.loc[traindata['HouseStyle'] == '2Story','SalePrice'],\n",
    "        opacity=0.75,\n",
    "        name = '2Story'\n",
    "    )\n",
    "]"
   ]
  },
  {
   "cell_type": "code",
   "execution_count": 62,
   "metadata": {},
   "outputs": [
    {
     "data": {
      "text/plain": [
       "'file:///Users/davidchiu/course/ctbc/temp-plot.html'"
      ]
     },
     "execution_count": 62,
     "metadata": {},
     "output_type": "execute_result"
    }
   ],
   "source": [
    "pyo.plot(data)"
   ]
  },
  {
   "cell_type": "code",
   "execution_count": 63,
   "metadata": {},
   "outputs": [],
   "source": [
    "layout = go.Layout(\n",
    "    barmode='overlay',\n",
    "    title=\"Price comparison by HouseStyle\"\n",
    ")\n"
   ]
  },
  {
   "cell_type": "code",
   "execution_count": 64,
   "metadata": {},
   "outputs": [
    {
     "data": {
      "text/plain": [
       "'file:///Users/davidchiu/course/ctbc/basic_histogram2.html'"
      ]
     },
     "execution_count": 64,
     "metadata": {},
     "output_type": "execute_result"
    }
   ],
   "source": [
    "fig = go.Figure(data=data, layout=layout)\n",
    "pyo.plot(fig, filename='basic_histogram2.html')\n"
   ]
  },
  {
   "cell_type": "code",
   "execution_count": 66,
   "metadata": {},
   "outputs": [
    {
     "data": {
      "text/plain": [
       "'file:///Users/davidchiu/course/ctbc/basic_distplot.html'"
      ]
     },
     "execution_count": 66,
     "metadata": {},
     "output_type": "execute_result"
    }
   ],
   "source": [
    "import plotly.figure_factory as ff\n",
    "\n",
    "x = np.random.randn(1000)\n",
    "hist_data    = [x]\n",
    "group_labels = ['distplot']\n",
    "\n",
    "fig = ff.create_distplot(hist_data, group_labels)\n",
    "pyo.plot(fig, filename='basic_distplot.html')\n"
   ]
  },
  {
   "cell_type": "code",
   "execution_count": 68,
   "metadata": {},
   "outputs": [
    {
     "data": {
      "text/plain": [
       "'file:///Users/davidchiu/course/ctbc/multiset_distplot.html'"
      ]
     },
     "execution_count": 68,
     "metadata": {},
     "output_type": "execute_result"
    }
   ],
   "source": [
    "x1 = np.random.randn(200)-2\n",
    "x2 = np.random.randn(200)\n",
    "x3 = np.random.randn(200)+2\n",
    "x4 = np.random.randn(200)+4\n",
    "\n",
    "hist_data = [x1,x2,x3,x4]\n",
    "group_labels = ['Group1','Group2','Group3','Group4']\n",
    "\n",
    "fig = ff.create_distplot(hist_data, group_labels)\n",
    "pyo.plot(fig, filename='multiset_distplot.html')\n"
   ]
  },
  {
   "cell_type": "code",
   "execution_count": 70,
   "metadata": {},
   "outputs": [
    {
     "data": {
      "text/plain": [
       "'file:///Users/davidchiu/course/ctbc/SnodgrassTwainDistplot.html'"
      ]
     },
     "execution_count": 70,
     "metadata": {},
     "output_type": "execute_result"
    }
   ],
   "source": [
    "snodgrass = [.209,.205,.196,.210,.202,.207,.224,.223,.220,.201]\n",
    "twain = [.225,.262,.217,.240,.230,.229,.235,.217]\n",
    "\n",
    "hist_data = [snodgrass,twain]\n",
    "group_labels = ['Snodgrass','Twain']\n",
    "\n",
    "fig = ff.create_distplot(hist_data, group_labels, bin_size=[.005,.005])\n",
    "pyo.plot(fig, filename='SnodgrassTwainDistplot.html')\n"
   ]
  },
  {
   "cell_type": "markdown",
   "metadata": {},
   "source": [
    "## Pie Chart"
   ]
  },
  {
   "cell_type": "code",
   "execution_count": 74,
   "metadata": {},
   "outputs": [],
   "source": [
    "stat = traindata.groupby('HouseStyle')['Id'].count()"
   ]
  },
  {
   "cell_type": "code",
   "execution_count": 76,
   "metadata": {},
   "outputs": [
    {
     "data": {
      "text/plain": [
       "'file:///Users/davidchiu/course/ctbc/temp-plot.html'"
      ]
     },
     "execution_count": 76,
     "metadata": {},
     "output_type": "execute_result"
    }
   ],
   "source": [
    "data = [\n",
    "    go.Pie(\n",
    "        labels = stat.index,\n",
    "        values = stat\n",
    "    )\n",
    "    \n",
    "]\n",
    "pyo.plot(data)"
   ]
  },
  {
   "cell_type": "code",
   "execution_count": 77,
   "metadata": {},
   "outputs": [
    {
     "data": {
      "text/plain": [
       "'file:///Users/davidchiu/course/ctbc/temp-plot.html'"
      ]
     },
     "execution_count": 77,
     "metadata": {},
     "output_type": "execute_result"
    }
   ],
   "source": [
    "data = [\n",
    "    go.Pie(\n",
    "        labels = stat.index,\n",
    "        values = stat,\n",
    "        hole = 0.4\n",
    "    )\n",
    "    \n",
    "]\n",
    "pyo.plot(data)"
   ]
  },
  {
   "cell_type": "code",
   "execution_count": 79,
   "metadata": {},
   "outputs": [
    {
     "data": {
      "text/plain": [
       "'file:///Users/davidchiu/course/ctbc/box1.html'"
      ]
     },
     "execution_count": 79,
     "metadata": {},
     "output_type": "execute_result"
    }
   ],
   "source": [
    "y = [1,14,14,15,16,18,18,19,19,20,20,23,24,26,27,27,28,29,33,54]\n",
    "\n",
    "data = [\n",
    "    go.Box(\n",
    "        y=y,\n",
    "        boxpoints='all',\n",
    "        jitter=0.3,     \n",
    "        pointpos=-1.8   \n",
    "    )\n",
    "]\n",
    "pyo.plot(data, filename='box1.html')\n"
   ]
  },
  {
   "cell_type": "code",
   "execution_count": 81,
   "metadata": {},
   "outputs": [
    {
     "data": {
      "text/plain": [
       "'file:///Users/davidchiu/course/ctbc/box2.html'"
      ]
     },
     "execution_count": 81,
     "metadata": {},
     "output_type": "execute_result"
    }
   ],
   "source": [
    "y = [1,14,14,15,16,18,18,19,19,20,20,23,24,26,27,27,28,29,33,54]\n",
    "\n",
    "data = [\n",
    "    go.Box(\n",
    "        y=y,\n",
    "        boxpoints='outliers' \n",
    "    )\n",
    "]\n",
    "pyo.plot(data, filename='box2.html')\n"
   ]
  },
  {
   "cell_type": "code",
   "execution_count": 82,
   "metadata": {},
   "outputs": [
    {
     "data": {
      "text/plain": [
       "'file:///Users/davidchiu/course/ctbc/box3.html'"
      ]
     },
     "execution_count": 82,
     "metadata": {},
     "output_type": "execute_result"
    }
   ],
   "source": [
    "snodgrass = [.209,.205,.196,.210,.202,.207,.224,.223,.220,.201]\n",
    "twain = [.225,.262,.217,.240,.230,.229,.235,.217]\n",
    "\n",
    "data = [\n",
    "    go.Box(\n",
    "        y=snodgrass,\n",
    "        name='QCS'\n",
    "    ),\n",
    "    go.Box(\n",
    "        y=twain,\n",
    "        name='MT'\n",
    "    )\n",
    "]\n",
    "layout = go.Layout(\n",
    "    title = 'Comparison of three-letter-word frequencies<br>\\\n",
    "    between Quintus Curtius Snodgrass and Mark Twain'\n",
    ")\n",
    "fig = go.Figure(data=data, layout=layout)\n",
    "pyo.plot(fig, filename='box3.html')\n"
   ]
  },
  {
   "cell_type": "code",
   "execution_count": null,
   "metadata": {},
   "outputs": [],
   "source": [
    "data = [\n",
    "    go.Box(\n",
    "        y=traindata.iloc[traindata[HouseStyle== '1Story', 'SalePrice'],\n",
    "        name='QCS'\n",
    "    ),\n",
    "    go.Box(\n",
    "        y=twain,\n",
    "        name='MT'\n",
    "    )\n",
    "]\n",
    "\n",
    "fig = go.Figure(data=data)\n",
    "pyo.plot(fig, filename='box3.html')\n"
   ]
  }
 ],
 "metadata": {
  "kernelspec": {
   "display_name": "Python 3",
   "language": "python",
   "name": "python3"
  },
  "language_info": {
   "codemirror_mode": {
    "name": "ipython",
    "version": 3
   },
   "file_extension": ".py",
   "mimetype": "text/x-python",
   "name": "python",
   "nbconvert_exporter": "python",
   "pygments_lexer": "ipython3",
   "version": "3.6.2"
  }
 },
 "nbformat": 4,
 "nbformat_minor": 2
}
