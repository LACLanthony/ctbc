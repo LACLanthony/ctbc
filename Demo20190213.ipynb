{
 "cells": [
  {
   "cell_type": "markdown",
   "metadata": {},
   "source": [
    "## TensorFlow"
   ]
  },
  {
   "cell_type": "code",
   "execution_count": 4,
   "metadata": {},
   "outputs": [
    {
     "data": {
      "text/plain": [
       "b'Hello World'"
      ]
     },
     "execution_count": 4,
     "metadata": {},
     "output_type": "execute_result"
    }
   ],
   "source": [
    "import tensorflow as tf\n",
    "hello = tf.constant('Hello World')\n",
    "sess = tf.Session()\n",
    "sess.run(hello)"
   ]
  },
  {
   "cell_type": "markdown",
   "metadata": {},
   "source": [
    "### Constant"
   ]
  },
  {
   "cell_type": "code",
   "execution_count": 5,
   "metadata": {},
   "outputs": [
    {
     "name": "stdout",
     "output_type": "stream",
     "text": [
      "b'Hello World'\n"
     ]
    }
   ],
   "source": [
    "import tensorflow as tf\n",
    "hello = tf.constant('Hello World')\n",
    "\n",
    "with tf.Session() as sess:\n",
    "    print(sess.run(hello))"
   ]
  },
  {
   "cell_type": "code",
   "execution_count": 6,
   "metadata": {},
   "outputs": [
    {
     "name": "stdout",
     "output_type": "stream",
     "text": [
      "5\n"
     ]
    }
   ],
   "source": [
    "x = tf.constant(2)\n",
    "y = tf.constant(3)\n",
    "with tf.Session() as sess:\n",
    "    print(sess.run(x+y))"
   ]
  },
  {
   "cell_type": "code",
   "execution_count": 7,
   "metadata": {},
   "outputs": [
    {
     "name": "stdout",
     "output_type": "stream",
     "text": [
      "5\n",
      "-1\n",
      "6\n",
      "0.6666666666666666\n"
     ]
    }
   ],
   "source": [
    "with tf.Session() as sess:\n",
    "    print(sess.run(x + y))\n",
    "    print(sess.run(x - y))\n",
    "    print(sess.run(x * y))\n",
    "    print(sess.run(x / y))"
   ]
  },
  {
   "cell_type": "markdown",
   "metadata": {},
   "source": [
    "### Placeholder"
   ]
  },
  {
   "cell_type": "code",
   "execution_count": 8,
   "metadata": {},
   "outputs": [],
   "source": [
    "x = tf.placeholder(tf.int32)\n",
    "y = tf.placeholder(tf.int32)"
   ]
  },
  {
   "cell_type": "code",
   "execution_count": 9,
   "metadata": {},
   "outputs": [],
   "source": [
    "add = tf.add(x,y)\n",
    "sub = tf.subtract(x,y)\n",
    "mul = tf.multiply(x,y)\n",
    "div = tf.divide(x,y)"
   ]
  },
  {
   "cell_type": "code",
   "execution_count": 10,
   "metadata": {},
   "outputs": [
    {
     "name": "stdout",
     "output_type": "stream",
     "text": [
      "50\n",
      "-10\n",
      "600\n",
      "0.6666666666666666\n"
     ]
    }
   ],
   "source": [
    "with tf.Session() as sess:\n",
    "    print(sess.run(add, feed_dict={x:20, y:30}))\n",
    "    print(sess.run(sub, feed_dict={x:20, y:30}))\n",
    "    print(sess.run(mul, feed_dict={x:20, y:30}))\n",
    "    print(sess.run(div, feed_dict={x:20, y:30}))"
   ]
  },
  {
   "cell_type": "code",
   "execution_count": 11,
   "metadata": {},
   "outputs": [],
   "source": [
    "import numpy as np\n",
    "a = np.array([[5.0,5.0]])\n",
    "b = np.array([[2.0],[2.0]])"
   ]
  },
  {
   "cell_type": "code",
   "execution_count": 12,
   "metadata": {},
   "outputs": [
    {
     "data": {
      "text/plain": [
       "(1, 2)"
      ]
     },
     "execution_count": 12,
     "metadata": {},
     "output_type": "execute_result"
    }
   ],
   "source": [
    "a.shape"
   ]
  },
  {
   "cell_type": "code",
   "execution_count": 13,
   "metadata": {},
   "outputs": [
    {
     "data": {
      "text/plain": [
       "(2, 1)"
      ]
     },
     "execution_count": 13,
     "metadata": {},
     "output_type": "execute_result"
    }
   ],
   "source": [
    "b.shape"
   ]
  },
  {
   "cell_type": "code",
   "execution_count": 14,
   "metadata": {},
   "outputs": [],
   "source": [
    "mat1 = tf.constant(a)\n",
    "mat2 = tf.constant(b)"
   ]
  },
  {
   "cell_type": "code",
   "execution_count": 15,
   "metadata": {},
   "outputs": [],
   "source": [
    "matrix_multi = tf.matmul(mat1,mat2)"
   ]
  },
  {
   "cell_type": "code",
   "execution_count": 16,
   "metadata": {},
   "outputs": [],
   "source": [
    "with tf.Session() as sess:\n",
    "    x = sess.run(matrix_multi)"
   ]
  },
  {
   "cell_type": "code",
   "execution_count": 17,
   "metadata": {},
   "outputs": [
    {
     "data": {
      "text/plain": [
       "array([[20.]])"
      ]
     },
     "execution_count": 17,
     "metadata": {},
     "output_type": "execute_result"
    }
   ],
   "source": [
    "x"
   ]
  },
  {
   "cell_type": "markdown",
   "metadata": {},
   "source": [
    "## 使用TensorFlow 辨識手寫數字"
   ]
  },
  {
   "cell_type": "code",
   "execution_count": 18,
   "metadata": {},
   "outputs": [
    {
     "name": "stdout",
     "output_type": "stream",
     "text": [
      "WARNING:tensorflow:From <ipython-input-18-3be1c2be30d5>:4: read_data_sets (from tensorflow.contrib.learn.python.learn.datasets.mnist) is deprecated and will be removed in a future version.\n",
      "Instructions for updating:\n",
      "Please use alternatives such as official/mnist/dataset.py from tensorflow/models.\n",
      "WARNING:tensorflow:From /Users/davidchiu/.pyenv/versions/3.6.2/lib/python3.6/site-packages/tensorflow/contrib/learn/python/learn/datasets/mnist.py:260: maybe_download (from tensorflow.contrib.learn.python.learn.datasets.base) is deprecated and will be removed in a future version.\n",
      "Instructions for updating:\n",
      "Please write your own downloading logic.\n",
      "WARNING:tensorflow:From /Users/davidchiu/.pyenv/versions/3.6.2/lib/python3.6/site-packages/tensorflow/contrib/learn/python/learn/datasets/mnist.py:262: extract_images (from tensorflow.contrib.learn.python.learn.datasets.mnist) is deprecated and will be removed in a future version.\n",
      "Instructions for updating:\n",
      "Please use tf.data to implement this functionality.\n",
      "Extracting /Users/davidchiu/tmp/train-images-idx3-ubyte.gz\n",
      "WARNING:tensorflow:From /Users/davidchiu/.pyenv/versions/3.6.2/lib/python3.6/site-packages/tensorflow/contrib/learn/python/learn/datasets/mnist.py:267: extract_labels (from tensorflow.contrib.learn.python.learn.datasets.mnist) is deprecated and will be removed in a future version.\n",
      "Instructions for updating:\n",
      "Please use tf.data to implement this functionality.\n",
      "Extracting /Users/davidchiu/tmp/train-labels-idx1-ubyte.gz\n",
      "WARNING:tensorflow:From /Users/davidchiu/.pyenv/versions/3.6.2/lib/python3.6/site-packages/tensorflow/contrib/learn/python/learn/datasets/mnist.py:110: dense_to_one_hot (from tensorflow.contrib.learn.python.learn.datasets.mnist) is deprecated and will be removed in a future version.\n",
      "Instructions for updating:\n",
      "Please use tf.one_hot on tensors.\n",
      "Extracting /Users/davidchiu/tmp/t10k-images-idx3-ubyte.gz\n",
      "Extracting /Users/davidchiu/tmp/t10k-labels-idx1-ubyte.gz\n",
      "WARNING:tensorflow:From /Users/davidchiu/.pyenv/versions/3.6.2/lib/python3.6/site-packages/tensorflow/contrib/learn/python/learn/datasets/mnist.py:290: DataSet.__init__ (from tensorflow.contrib.learn.python.learn.datasets.mnist) is deprecated and will be removed in a future version.\n",
      "Instructions for updating:\n",
      "Please use alternatives such as official/mnist/dataset.py from tensorflow/models.\n"
     ]
    }
   ],
   "source": [
    "import tensorflow as tf\n",
    "\n",
    "from tensorflow.examples.tutorials.mnist import input_data\n",
    "mnist = input_data.read_data_sets(\"/Users/davidchiu/tmp\", one_hot=True)"
   ]
  },
  {
   "cell_type": "code",
   "execution_count": 19,
   "metadata": {},
   "outputs": [
    {
     "data": {
      "text/plain": [
       "(55000, 784)"
      ]
     },
     "execution_count": 19,
     "metadata": {},
     "output_type": "execute_result"
    }
   ],
   "source": [
    "mnist.train.images.shape"
   ]
  },
  {
   "cell_type": "code",
   "execution_count": 20,
   "metadata": {},
   "outputs": [],
   "source": [
    "sample_image = mnist.train.images[0].reshape((28,28))"
   ]
  },
  {
   "cell_type": "code",
   "execution_count": 21,
   "metadata": {},
   "outputs": [
    {
     "name": "stdout",
     "output_type": "stream",
     "text": [
      "Populating the interactive namespace from numpy and matplotlib\n"
     ]
    },
    {
     "name": "stderr",
     "output_type": "stream",
     "text": [
      "/Users/davidchiu/.pyenv/versions/3.6.2/lib/python3.6/site-packages/IPython/core/magics/pylab.py:160: UserWarning: pylab import has clobbered these variables: ['add']\n",
      "`%matplotlib` prevents importing * from pylab and numpy\n",
      "  \"\\n`%matplotlib` prevents importing * from pylab and numpy\"\n"
     ]
    },
    {
     "data": {
      "text/plain": [
       "<matplotlib.image.AxesImage at 0x12e1fe550>"
      ]
     },
     "execution_count": 21,
     "metadata": {},
     "output_type": "execute_result"
    },
    {
     "data": {
      "image/png": "[encoded data removed]",
      "text/plain": [
       "<Figure size 432x288 with 1 Axes>"
      ]
     },
     "metadata": {},
     "output_type": "display_data"
    }
   ],
   "source": [
    "% pylab inline\n",
    "import matplotlib.pyplot as plt\n",
    "plt.imshow(sample_image)"
   ]
  },
  {
   "cell_type": "code",
   "execution_count": 22,
   "metadata": {},
   "outputs": [
    {
     "data": {
      "text/plain": [
       "array([0., 0., 0., 0., 0., 0., 0., 1., 0., 0.])"
      ]
     },
     "execution_count": 22,
     "metadata": {},
     "output_type": "execute_result"
    }
   ],
   "source": [
    "mnist.train.labels[0]"
   ]
  },
  {
   "cell_type": "code",
   "execution_count": 23,
   "metadata": {},
   "outputs": [
    {
     "data": {
      "text/plain": [
       "<matplotlib.image.AxesImage at 0x11af6c9b0>"
      ]
     },
     "execution_count": 23,
     "metadata": {},
     "output_type": "execute_result"
    },
    {
     "data": {
      "image/png": "[encoded data removed]",
      "text/plain": [
       "<Figure size 432x288 with 1 Axes>"
      ]
     },
     "metadata": {},
     "output_type": "display_data"
    }
   ],
   "source": [
    "sample_image = mnist.train.images[18].reshape((28,28))\n",
    "plt.imshow(sample_image)"
   ]
  },
  {
   "cell_type": "code",
   "execution_count": 24,
   "metadata": {},
   "outputs": [
    {
     "data": {
      "text/plain": [
       "array([0., 0., 0., 0., 0., 0., 1., 0., 0., 0.])"
      ]
     },
     "execution_count": 24,
     "metadata": {},
     "output_type": "execute_result"
    }
   ],
   "source": [
    "mnist.train.labels[18]"
   ]
  },
  {
   "cell_type": "markdown",
   "metadata": {},
   "source": [
    "### 設定網路參數"
   ]
  },
  {
   "cell_type": "code",
   "execution_count": 25,
   "metadata": {},
   "outputs": [],
   "source": [
    "learning_rate   = 0.001\n",
    "training_epochs = 15\n",
    "batch_size      = 100"
   ]
  },
  {
   "cell_type": "code",
   "execution_count": 26,
   "metadata": {},
   "outputs": [],
   "source": [
    "n_hidden_1 = 256 \n",
    "n_hidden_2 = 256 \n",
    "n_input    = 784 \n",
    "n_classes  = 10 \n",
    "n_samples  = mnist.train.num_examples"
   ]
  },
  {
   "cell_type": "markdown",
   "metadata": {},
   "source": [
    "### Placeholder"
   ]
  },
  {
   "cell_type": "code",
   "execution_count": 27,
   "metadata": {},
   "outputs": [],
   "source": [
    "x = tf.placeholder(\"float\", [None, n_input])\n",
    "y = tf.placeholder(\"float\", [None, n_classes])"
   ]
  },
  {
   "cell_type": "markdown",
   "metadata": {},
   "source": [
    "### 建構神經網路"
   ]
  },
  {
   "cell_type": "code",
   "execution_count": 28,
   "metadata": {},
   "outputs": [],
   "source": [
    "def multilayer_perceptron(x, weights, biases):  \n",
    "    # First Hidden layer with RELU activation\n",
    "    layer_1 = tf.add(tf.matmul(x, weights['h1']), biases['b1'])\n",
    "    layer_1 = tf.nn.relu(layer_1)\n",
    "    \n",
    "    # Second Hidden layer with RELU activation\n",
    "    layer_2 = tf.add(tf.matmul(layer_1, weights['h2']), biases['b2'])\n",
    "    layer_2 = tf.nn.relu(layer_2)\n",
    "    \n",
    "    # Last Output layer\n",
    "    out_layer = tf.matmul(layer_2, weights['out']) + biases['out']\n",
    "    return out_layer"
   ]
  },
  {
   "cell_type": "markdown",
   "metadata": {},
   "source": [
    "### 設定權重變數"
   ]
  },
  {
   "cell_type": "code",
   "execution_count": 31,
   "metadata": {},
   "outputs": [],
   "source": [
    "weights = {\n",
    "    'h1': tf.Variable(tf.random_normal([n_input, n_hidden_1])),\n",
    "    'h2': tf.Variable(tf.random_normal([n_hidden_1, n_hidden_2])),\n",
    "    'out': tf.Variable(tf.random_normal([n_hidden_2, n_classes]))\n",
    "}"
   ]
  },
  {
   "cell_type": "code",
   "execution_count": 32,
   "metadata": {},
   "outputs": [],
   "source": [
    "biases = {\n",
    "    'b1': tf.Variable(tf.random_normal([n_hidden_1])),\n",
    "    'b2': tf.Variable(tf.random_normal([n_hidden_2])),\n",
    "    'out': tf.Variable(tf.random_normal([n_classes]))\n",
    "}"
   ]
  },
  {
   "cell_type": "markdown",
   "metadata": {},
   "source": [
    "### 設定 cost 與 optimizer"
   ]
  },
  {
   "cell_type": "code",
   "execution_count": 34,
   "metadata": {},
   "outputs": [],
   "source": [
    "pred = multilayer_perceptron(x, weights, biases)"
   ]
  },
  {
   "cell_type": "code",
   "execution_count": 35,
   "metadata": {},
   "outputs": [],
   "source": [
    "cost      = tf.reduce_mean(tf.nn.softmax_cross_entropy_with_logits_v2(logits=pred, labels=y))\n",
    "optimizer = tf.train.GradientDescentOptimizer(learning_rate=learning_rate).minimize(cost)"
   ]
  },
  {
   "cell_type": "markdown",
   "metadata": {},
   "source": [
    "### 初始化變數"
   ]
  },
  {
   "cell_type": "code",
   "execution_count": 36,
   "metadata": {},
   "outputs": [],
   "source": [
    "init = tf.global_variables_initializer()"
   ]
  },
  {
   "cell_type": "markdown",
   "metadata": {},
   "source": [
    "### 訓練模型 "
   ]
  },
  {
   "cell_type": "code",
   "execution_count": 43,
   "metadata": {},
   "outputs": [
    {
     "name": "stdout",
     "output_type": "stream",
     "text": [
      "Epoch: 1 cost=164.15418444546776\n",
      "Epoch: 2 cost=61.81171880201861\n",
      "Epoch: 3 cost=45.483870370171324\n",
      "Epoch: 4 cost=36.46853502013467\n",
      "Epoch: 5 cost=30.73705754973672\n",
      "Epoch: 6 cost=26.606686183322562\n",
      "Epoch: 7 cost=23.550947105234318\n",
      "Epoch: 8 cost=21.185782755071475\n",
      "Epoch: 9 cost=19.2246683300625\n",
      "Epoch: 10 cost=17.595534928278475\n",
      "Epoch: 11 cost=16.226387270363894\n",
      "Epoch: 12 cost=14.999023752537637\n",
      "Epoch: 13 cost=13.978483177098363\n",
      "Epoch: 14 cost=13.066234773072322\n",
      "Epoch: 15 cost=12.24721363847906\n",
      "Training Completed in 15 Epochs\n"
     ]
    }
   ],
   "source": [
    "# Start the session\n",
    "sess = tf.InteractiveSession()\n",
    "\n",
    "# Intialize all the variables\n",
    "sess.run(init)\n",
    "\n",
    "for epoch in range(training_epochs):\n",
    "\n",
    "    # Initial the cost = 0.0\n",
    "    avg_cost = 0.0\n",
    "\n",
    "    total_batch = int(n_samples/batch_size)\n",
    "\n",
    "    for i in range(total_batch):\n",
    "\n",
    "        batch_x, batch_y = mnist.train.next_batch(batch_size)\n",
    "        _, c = sess.run([optimizer, cost], feed_dict={x: batch_x, y: batch_y})\n",
    "\n",
    "        # Compute average loss\n",
    "        avg_cost += c / total_batch\n",
    "\n",
    "    print(\"Epoch: {} cost={}\".format(epoch+1,avg_cost))\n",
    "\n",
    "print(\"Training Completed in {} Epochs\".format(training_epochs))"
   ]
  },
  {
   "cell_type": "markdown",
   "metadata": {},
   "source": [
    "### 評估模型"
   ]
  },
  {
   "cell_type": "code",
   "execution_count": 44,
   "metadata": {},
   "outputs": [
    {
     "data": {
      "text/plain": [
       "<tf.Tensor 'add_3:0' shape=(?, 10) dtype=float32>"
      ]
     },
     "execution_count": 44,
     "metadata": {},
     "output_type": "execute_result"
    }
   ],
   "source": [
    "pred"
   ]
  },
  {
   "cell_type": "code",
   "execution_count": 45,
   "metadata": {},
   "outputs": [],
   "source": [
    "correct_predictions = tf.equal(tf.argmax(pred, 1), tf.argmax(y, 1))"
   ]
  },
  {
   "cell_type": "code",
   "execution_count": 46,
   "metadata": {},
   "outputs": [],
   "source": [
    "correct_predictions = tf.cast(correct_predictions, \"float\")"
   ]
  },
  {
   "cell_type": "code",
   "execution_count": 47,
   "metadata": {},
   "outputs": [],
   "source": [
    "accuracy = tf.reduce_mean(correct_predictions)"
   ]
  },
  {
   "cell_type": "code",
   "execution_count": 48,
   "metadata": {},
   "outputs": [
    {
     "name": "stdout",
     "output_type": "stream",
     "text": [
      "Accuracy: 0.9104\n"
     ]
    }
   ],
   "source": [
    "print(\"Accuracy:\", accuracy.eval({x: mnist.test.images, y: mnist.test.labels}))"
   ]
  },
  {
   "cell_type": "markdown",
   "metadata": {},
   "source": [
    "## TensorBoard"
   ]
  },
  {
   "cell_type": "code",
   "execution_count": 1,
   "metadata": {},
   "outputs": [
    {
     "name": "stdout",
     "output_type": "stream",
     "text": [
      "WARNING:tensorflow:From <ipython-input-1-3be1c2be30d5>:4: read_data_sets (from tensorflow.contrib.learn.python.learn.datasets.mnist) is deprecated and will be removed in a future version.\n",
      "Instructions for updating:\n",
      "Please use alternatives such as official/mnist/dataset.py from tensorflow/models.\n",
      "WARNING:tensorflow:From /Users/davidchiu/.pyenv/versions/3.6.2/lib/python3.6/site-packages/tensorflow/contrib/learn/python/learn/datasets/mnist.py:260: maybe_download (from tensorflow.contrib.learn.python.learn.datasets.base) is deprecated and will be removed in a future version.\n",
      "Instructions for updating:\n",
      "Please write your own downloading logic.\n",
      "WARNING:tensorflow:From /Users/davidchiu/.pyenv/versions/3.6.2/lib/python3.6/site-packages/tensorflow/contrib/learn/python/learn/datasets/mnist.py:262: extract_images (from tensorflow.contrib.learn.python.learn.datasets.mnist) is deprecated and will be removed in a future version.\n",
      "Instructions for updating:\n",
      "Please use tf.data to implement this functionality.\n",
      "Extracting /Users/davidchiu/tmp/train-images-idx3-ubyte.gz\n",
      "WARNING:tensorflow:From /Users/davidchiu/.pyenv/versions/3.6.2/lib/python3.6/site-packages/tensorflow/contrib/learn/python/learn/datasets/mnist.py:267: extract_labels (from tensorflow.contrib.learn.python.learn.datasets.mnist) is deprecated and will be removed in a future version.\n",
      "Instructions for updating:\n",
      "Please use tf.data to implement this functionality.\n",
      "Extracting /Users/davidchiu/tmp/train-labels-idx1-ubyte.gz\n",
      "WARNING:tensorflow:From /Users/davidchiu/.pyenv/versions/3.6.2/lib/python3.6/site-packages/tensorflow/contrib/learn/python/learn/datasets/mnist.py:110: dense_to_one_hot (from tensorflow.contrib.learn.python.learn.datasets.mnist) is deprecated and will be removed in a future version.\n",
      "Instructions for updating:\n",
      "Please use tf.one_hot on tensors.\n",
      "Extracting /Users/davidchiu/tmp/t10k-images-idx3-ubyte.gz\n",
      "Extracting /Users/davidchiu/tmp/t10k-labels-idx1-ubyte.gz\n",
      "WARNING:tensorflow:From /Users/davidchiu/.pyenv/versions/3.6.2/lib/python3.6/site-packages/tensorflow/contrib/learn/python/learn/datasets/mnist.py:290: DataSet.__init__ (from tensorflow.contrib.learn.python.learn.datasets.mnist) is deprecated and will be removed in a future version.\n",
      "Instructions for updating:\n",
      "Please use alternatives such as official/mnist/dataset.py from tensorflow/models.\n"
     ]
    }
   ],
   "source": [
    "import tensorflow as tf\n",
    "\n",
    "from tensorflow.examples.tutorials.mnist import input_data\n",
    "mnist = input_data.read_data_sets(\"/Users/davidchiu/tmp\", one_hot=True)"
   ]
  },
  {
   "cell_type": "code",
   "execution_count": 2,
   "metadata": {},
   "outputs": [],
   "source": [
    "learning_rate   = 0.001\n",
    "training_epochs = 15\n",
    "batch_size      = 100\n",
    "\n",
    "n_hidden_1 = 256 \n",
    "n_hidden_2 = 256 \n",
    "n_input    = 784 \n",
    "n_classes  = 10 \n",
    "n_samples  = mnist.train.num_examples"
   ]
  },
  {
   "cell_type": "markdown",
   "metadata": {},
   "source": [
    "### Placeholders"
   ]
  },
  {
   "cell_type": "code",
   "execution_count": 3,
   "metadata": {},
   "outputs": [],
   "source": [
    "\n",
    "with tf.name_scope('inputs'):\n",
    "    x = tf.placeholder(\"float\", [None, n_input],   name= 'input_x')\n",
    "    y = tf.placeholder(\"float\", [None, n_classes], name= 'input_y')"
   ]
  },
  {
   "cell_type": "code",
   "execution_count": 4,
   "metadata": {},
   "outputs": [],
   "source": [
    "with tf.name_scope('input_reshape'):\n",
    "    image_input = tf.reshape(x,[-1,28,28,1])\n",
    "    tf.summary.image('input', image_input, 10)"
   ]
  },
  {
   "cell_type": "code",
   "execution_count": 5,
   "metadata": {},
   "outputs": [],
   "source": [
    "def add_layer(x, input_tensors, output_tensors, layer_name, activation_function = None):  \n",
    "    with tf.name_scope('Layer'):\n",
    "        with tf.name_scope('Weights'):\n",
    "            weight = tf.Variable(tf.random_normal([input_tensors, output_tensors]), name = 'w')\n",
    "            tf.summary.histogram(name = layer_name + '/Weights', values = weight)\n",
    "        with tf.name_scope('Bias'):\n",
    "            bias = tf.Variable(tf.random_normal([output_tensors]), name= 'b')\n",
    "            tf.summary.histogram(name = layer_name + '/Bias', values = bias)\n",
    "        with tf.name_scope('Wx_plus_b'):\n",
    "            formula = tf.add(tf.matmul(x, weight), bias)\n",
    "        if activation_function is None:\n",
    "            outputs = formula\n",
    "        else:\n",
    "            outputs = activation_function(formula)\n",
    "        tf.summary.histogram(name = layer_name + '/Outputs', values = outputs)\n",
    "        return outputs"
   ]
  },
  {
   "cell_type": "code",
   "execution_count": 6,
   "metadata": {},
   "outputs": [],
   "source": [
    "layer1 = add_layer(x, input_tensors = n_input, output_tensors = n_hidden_1, layer_name='layer1',activation_function = tf.nn.relu)\n",
    "layer2 = add_layer(layer1, input_tensors = n_hidden_1, output_tensors = n_hidden_2, layer_name='layer2',activation_function = tf.nn.relu)\n",
    "out_layer = add_layer(layer2, input_tensors = n_hidden_2, output_tensors = n_classes, layer_name='out_layer',activation_function = None)"
   ]
  },
  {
   "cell_type": "code",
   "execution_count": 7,
   "metadata": {},
   "outputs": [
    {
     "name": "stdout",
     "output_type": "stream",
     "text": [
      "WARNING:tensorflow:From <ipython-input-7-85aab1677ab7>:2: softmax_cross_entropy_with_logits (from tensorflow.python.ops.nn_ops) is deprecated and will be removed in a future version.\n",
      "Instructions for updating:\n",
      "\n",
      "Future major versions of TensorFlow will allow gradients to flow\n",
      "into the labels input on backprop by default.\n",
      "\n",
      "See @{tf.nn.softmax_cross_entropy_with_logits_v2}.\n",
      "\n"
     ]
    }
   ],
   "source": [
    "with tf.name_scope('cost'):\n",
    "    cost = tf.reduce_mean(tf.nn.softmax_cross_entropy_with_logits(logits=out_layer, labels=y))\n",
    "    tf.summary.scalar('loss', cost)\n",
    "    \n",
    "with tf.name_scope('optimizer'):\n",
    "    optimizer = tf.train.GradientDescentOptimizer(learning_rate=learning_rate).minimize(cost)\n",
    "    \n",
    "with tf.name_scope('Accuracy'):\n",
    "    acc = tf.equal(tf.argmax(out_layer, 1), tf.argmax(y, 1))\n",
    "    acc = tf.reduce_mean(tf.cast(acc, tf.float32))\n",
    "    tf.summary.scalar(\"accuracy\", acc)"
   ]
  },
  {
   "cell_type": "markdown",
   "metadata": {},
   "source": [
    "### 訓練模型"
   ]
  },
  {
   "cell_type": "code",
   "execution_count": 8,
   "metadata": {},
   "outputs": [],
   "source": [
    "init = tf.global_variables_initializer()"
   ]
  },
  {
   "cell_type": "code",
   "execution_count": 9,
   "metadata": {},
   "outputs": [
    {
     "name": "stdout",
     "output_type": "stream",
     "text": [
      "Epoch: 1 cost=158.17035009557543\n",
      "Epoch: 2 cost=55.093468905362265\n",
      "Epoch: 3 cost=40.616655424291466\n",
      "Epoch: 4 cost=32.97481956221839\n",
      "Epoch: 5 cost=27.94403530554335\n",
      "Epoch: 6 cost=24.31597251263534\n",
      "Epoch: 7 cost=21.695081967440522\n",
      "Epoch: 8 cost=19.52034002130683\n",
      "Epoch: 9 cost=17.874279665730217\n",
      "Epoch: 10 cost=16.35750202504071\n",
      "Epoch: 11 cost=15.150252793593832\n",
      "Epoch: 12 cost=14.083479566790855\n",
      "Epoch: 13 cost=13.167158144929193\n",
      "Epoch: 14 cost=12.372177070162525\n",
      "Epoch: 15 cost=11.624001837210226\n",
      "Training Completed in 15 Epochs\n"
     ]
    }
   ],
   "source": [
    "merged = tf.summary.merge_all()\n",
    "\n",
    "with tf.Session() as sess:\n",
    "    sess.run(init)\n",
    "\n",
    "    ## Merge Summary\n",
    "    \n",
    "    writer = tf.summary.FileWriter(\"tensorboard2/\", graph = sess.graph)\n",
    "\n",
    "    for epoch in range(training_epochs):\n",
    "        avg_cost = 0.0\n",
    "        total_batch = int(n_samples/batch_size)\n",
    "        for i in range(total_batch):\n",
    "            batch_x, batch_y = mnist.train.next_batch(batch_size)\n",
    "            _, c, result = sess.run([optimizer, cost, merged], feed_dict={x: batch_x, y: batch_y})\n",
    "            avg_cost += c / total_batch\n",
    "            ## Adding summary of each step\n",
    "            writer.add_summary(result,  epoch * total_batch + i)\n",
    "\n",
    "        print(\"Epoch: {} cost={}\".format(epoch+1,avg_cost))\n",
    "\n",
    "    print(\"Training Completed in {} Epochs\".format(training_epochs))"
   ]
  },
  {
   "cell_type": "markdown",
   "metadata": {},
   "source": [
    "### 開啟 TensorBoard\n",
    "- tensorboard --logdir tensorboard2/\n",
    "- 127.0.0.1:6006"
   ]
  },
  {
   "cell_type": "markdown",
   "metadata": {},
   "source": [
    "## 安裝 Keras"
   ]
  },
  {
   "cell_type": "code",
   "execution_count": 10,
   "metadata": {},
   "outputs": [
    {
     "name": "stdout",
     "output_type": "stream",
     "text": [
      "Requirement already satisfied: keras in /Users/davidchiu/.pyenv/versions/3.6.2/lib/python3.6/site-packages\n",
      "Requirement already satisfied: six>=1.9.0 in /Users/davidchiu/.pyenv/versions/3.6.2/lib/python3.6/site-packages (from keras)\n",
      "Requirement already satisfied: pyyaml in /Users/davidchiu/.pyenv/versions/3.6.2/lib/python3.6/site-packages (from keras)\n",
      "Requirement already satisfied: numpy>=1.9.1 in /Users/davidchiu/.pyenv/versions/3.6.2/lib/python3.6/site-packages (from keras)\n",
      "Requirement already satisfied: scipy>=0.14 in /Users/davidchiu/.pyenv/versions/3.6.2/lib/python3.6/site-packages (from keras)\n",
      "\u001b[33mYou are using pip version 9.0.1, however version 19.0.2 is available.\n",
      "You should consider upgrading via the 'pip install --upgrade pip' command.\u001b[0m\n"
     ]
    }
   ],
   "source": [
    "! pip install keras"
   ]
  },
  {
   "cell_type": "markdown",
   "metadata": {},
   "source": [
    "### 引用Keras 套件"
   ]
  },
  {
   "cell_type": "code",
   "execution_count": 11,
   "metadata": {},
   "outputs": [
    {
     "name": "stderr",
     "output_type": "stream",
     "text": [
      "Using TensorFlow backend.\n"
     ]
    }
   ],
   "source": [
    "from keras.datasets import mnist\n",
    "from keras.models import Sequential\n",
    "from keras.optimizers import SGD\n",
    "from keras.layers import Activation, Dense"
   ]
  },
  {
   "cell_type": "markdown",
   "metadata": {},
   "source": [
    "### 讀取 MNIST"
   ]
  },
  {
   "cell_type": "code",
   "execution_count": 12,
   "metadata": {},
   "outputs": [],
   "source": [
    "(x_train, y_train), (x_test, y_test) = mnist.load_data()"
   ]
  },
  {
   "cell_type": "code",
   "execution_count": 13,
   "metadata": {},
   "outputs": [
    {
     "data": {
      "text/plain": [
       "(60000, 28, 28)"
      ]
     },
     "execution_count": 13,
     "metadata": {},
     "output_type": "execute_result"
    }
   ],
   "source": [
    "x_train.shape"
   ]
  },
  {
   "cell_type": "code",
   "execution_count": 14,
   "metadata": {},
   "outputs": [
    {
     "data": {
      "text/plain": [
       "(60000,)"
      ]
     },
     "execution_count": 14,
     "metadata": {},
     "output_type": "execute_result"
    }
   ],
   "source": [
    "y_train.shape"
   ]
  },
  {
   "cell_type": "code",
   "execution_count": 15,
   "metadata": {},
   "outputs": [
    {
     "data": {
      "text/plain": [
       "(10000, 28, 28)"
      ]
     },
     "execution_count": 15,
     "metadata": {},
     "output_type": "execute_result"
    }
   ],
   "source": [
    "x_test.shape"
   ]
  },
  {
   "cell_type": "code",
   "execution_count": 16,
   "metadata": {},
   "outputs": [
    {
     "data": {
      "text/plain": [
       "(10000,)"
      ]
     },
     "execution_count": 16,
     "metadata": {},
     "output_type": "execute_result"
    }
   ],
   "source": [
    "y_test.shape"
   ]
  },
  {
   "cell_type": "code",
   "execution_count": 17,
   "metadata": {},
   "outputs": [],
   "source": [
    "x_train = x_train.reshape(60000, 784)\n",
    "x_test = x_test.reshape(10000, 784)\n",
    "x_train = x_train.astype('float32')\n",
    "x_test  = x_test.astype('float32')\n",
    "x_train /= 255\n",
    "x_test  /= 255"
   ]
  },
  {
   "cell_type": "code",
   "execution_count": 18,
   "metadata": {},
   "outputs": [
    {
     "data": {
      "text/plain": [
       "(60000, 784)"
      ]
     },
     "execution_count": 18,
     "metadata": {},
     "output_type": "execute_result"
    }
   ],
   "source": [
    "x_train.shape"
   ]
  },
  {
   "cell_type": "code",
   "execution_count": 19,
   "metadata": {},
   "outputs": [
    {
     "data": {
      "text/plain": [
       "(10000, 784)"
      ]
     },
     "execution_count": 19,
     "metadata": {},
     "output_type": "execute_result"
    }
   ],
   "source": [
    "x_test.shape"
   ]
  },
  {
   "cell_type": "code",
   "execution_count": 20,
   "metadata": {},
   "outputs": [
    {
     "data": {
      "text/plain": [
       "array([5, 0, 4, ..., 5, 6, 8], dtype=uint8)"
      ]
     },
     "execution_count": 20,
     "metadata": {},
     "output_type": "execute_result"
    }
   ],
   "source": [
    "y_train"
   ]
  },
  {
   "cell_type": "code",
   "execution_count": 22,
   "metadata": {},
   "outputs": [],
   "source": [
    "import keras\n",
    "n_classes  = 10 \n",
    "y_train = keras.utils.to_categorical(y_train, n_classes)\n",
    "y_test  = keras.utils.to_categorical(y_test, n_classes)"
   ]
  },
  {
   "cell_type": "code",
   "execution_count": 23,
   "metadata": {},
   "outputs": [
    {
     "data": {
      "text/plain": [
       "array([0., 0., 0., 0., 0., 1., 0., 0., 0., 0.])"
      ]
     },
     "execution_count": 23,
     "metadata": {},
     "output_type": "execute_result"
    }
   ],
   "source": [
    "y_train[0]"
   ]
  },
  {
   "cell_type": "markdown",
   "metadata": {},
   "source": [
    "### 設定網路參數"
   ]
  },
  {
   "cell_type": "code",
   "execution_count": 24,
   "metadata": {},
   "outputs": [],
   "source": [
    "n_hidden_1 = 256 \n",
    "n_hidden_2 = 256 \n",
    "n_input    = 784 \n",
    "n_classes  = 10 \n",
    "\n",
    "training_epochs = 15\n",
    "batch_size = 100"
   ]
  },
  {
   "cell_type": "markdown",
   "metadata": {},
   "source": [
    "### 訓練神經網路"
   ]
  },
  {
   "cell_type": "code",
   "execution_count": 25,
   "metadata": {},
   "outputs": [],
   "source": [
    "model = keras.Sequential()\n",
    "model.add(Dense(n_hidden_1, activation='relu', input_shape=(n_input,)))\n",
    "model.add(Dense(n_hidden_2, activation='relu'))\n",
    "model.add(Dense(n_classes, activation='softmax'))"
   ]
  },
  {
   "cell_type": "code",
   "execution_count": 26,
   "metadata": {},
   "outputs": [
    {
     "name": "stdout",
     "output_type": "stream",
     "text": [
      "WARNING:tensorflow:From /Users/davidchiu/.pyenv/versions/3.6.2/lib/python3.6/site-packages/keras/backend/tensorflow_backend.py:2885: calling reduce_sum (from tensorflow.python.ops.math_ops) with keep_dims is deprecated and will be removed in a future version.\n",
      "Instructions for updating:\n",
      "keep_dims is deprecated, use keepdims instead\n",
      "WARNING:tensorflow:From /Users/davidchiu/.pyenv/versions/3.6.2/lib/python3.6/site-packages/keras/backend/tensorflow_backend.py:1349: calling reduce_mean (from tensorflow.python.ops.math_ops) with keep_dims is deprecated and will be removed in a future version.\n",
      "Instructions for updating:\n",
      "keep_dims is deprecated, use keepdims instead\n"
     ]
    }
   ],
   "source": [
    "model.compile(loss='categorical_crossentropy',\n",
    "              optimizer=SGD(),\n",
    "              metrics=['accuracy'])"
   ]
  },
  {
   "cell_type": "markdown",
   "metadata": {},
   "source": [
    "### 訓練神經網路"
   ]
  },
  {
   "cell_type": "code",
   "execution_count": 27,
   "metadata": {},
   "outputs": [
    {
     "name": "stdout",
     "output_type": "stream",
     "text": [
      "Train on 60000 samples, validate on 10000 samples\n",
      "Epoch 1/15\n",
      "60000/60000 [==============================] - 2s 34us/step - loss: 1.0084 - acc: 0.7657 - val_loss: 0.4700 - val_acc: 0.8816\n",
      "Epoch 2/15\n",
      "60000/60000 [==============================] - 2s 30us/step - loss: 0.4139 - acc: 0.8887 - val_loss: 0.3491 - val_acc: 0.9023\n",
      "Epoch 3/15\n",
      "60000/60000 [==============================] - 2s 35us/step - loss: 0.3387 - acc: 0.9049 - val_loss: 0.3044 - val_acc: 0.9151\n",
      "Epoch 4/15\n",
      "60000/60000 [==============================] - 2s 32us/step - loss: 0.3015 - acc: 0.9151 - val_loss: 0.2758 - val_acc: 0.9249\n",
      "Epoch 5/15\n",
      "60000/60000 [==============================] - 2s 31us/step - loss: 0.2758 - acc: 0.9219 - val_loss: 0.2557 - val_acc: 0.9284\n",
      "Epoch 6/15\n",
      "60000/60000 [==============================] - 2s 31us/step - loss: 0.2558 - acc: 0.9279 - val_loss: 0.2404 - val_acc: 0.9333\n",
      "Epoch 7/15\n",
      "60000/60000 [==============================] - 2s 31us/step - loss: 0.2388 - acc: 0.9325 - val_loss: 0.2276 - val_acc: 0.9357\n",
      "Epoch 8/15\n",
      "60000/60000 [==============================] - 2s 31us/step - loss: 0.2242 - acc: 0.9362 - val_loss: 0.2164 - val_acc: 0.9379\n",
      "Epoch 9/15\n",
      "60000/60000 [==============================] - 2s 31us/step - loss: 0.2113 - acc: 0.9398 - val_loss: 0.2072 - val_acc: 0.9401\n",
      "Epoch 10/15\n",
      "60000/60000 [==============================] - 2s 31us/step - loss: 0.2002 - acc: 0.9427 - val_loss: 0.1949 - val_acc: 0.9450\n",
      "Epoch 11/15\n",
      "60000/60000 [==============================] - 2s 31us/step - loss: 0.1902 - acc: 0.9454 - val_loss: 0.1882 - val_acc: 0.9453\n",
      "Epoch 12/15\n",
      "60000/60000 [==============================] - 2s 32us/step - loss: 0.1813 - acc: 0.9485 - val_loss: 0.1787 - val_acc: 0.9499\n",
      "Epoch 13/15\n",
      "60000/60000 [==============================] - 2s 31us/step - loss: 0.1730 - acc: 0.9503 - val_loss: 0.1723 - val_acc: 0.9506\n",
      "Epoch 14/15\n",
      "60000/60000 [==============================] - 2s 31us/step - loss: 0.1657 - acc: 0.9525 - val_loss: 0.1681 - val_acc: 0.9529\n",
      "Epoch 15/15\n",
      "60000/60000 [==============================] - 2s 34us/step - loss: 0.1588 - acc: 0.9541 - val_loss: 0.1599 - val_acc: 0.9539\n"
     ]
    }
   ],
   "source": [
    "history = model.fit(x_train, y_train,\n",
    "                    batch_size=batch_size,\n",
    "                    epochs=training_epochs,\n",
    "                    verbose=1,\n",
    "                    validation_data=(x_test, y_test))"
   ]
  },
  {
   "cell_type": "markdown",
   "metadata": {},
   "source": [
    "## 預測客戶是否流失"
   ]
  },
  {
   "cell_type": "code",
   "execution_count": 1,
   "metadata": {},
   "outputs": [],
   "source": [
    "import pandas\n",
    "customer = pandas.read_csv('https://raw.githubusercontent.com/ywchiu/tibamedl/master/Data/Churn_Modelling.csv')"
   ]
  },
  {
   "cell_type": "code",
   "execution_count": 2,
   "metadata": {},
   "outputs": [],
   "source": [
    "customer = customer.iloc[:,3:]"
   ]
  },
  {
   "cell_type": "code",
   "execution_count": 3,
   "metadata": {},
   "outputs": [
    {
     "name": "stdout",
     "output_type": "stream",
     "text": [
      "<class 'pandas.core.frame.DataFrame'>\n",
      "RangeIndex: 10000 entries, 0 to 9999\n",
      "Data columns (total 11 columns):\n",
      "CreditScore        10000 non-null int64\n",
      "Geography          10000 non-null object\n",
      "Gender             10000 non-null object\n",
      "Age                10000 non-null int64\n",
      "Tenure             10000 non-null int64\n",
      "Balance            10000 non-null float64\n",
      "NumOfProducts      10000 non-null int64\n",
      "HasCrCard          10000 non-null int64\n",
      "IsActiveMember     10000 non-null int64\n",
      "EstimatedSalary    10000 non-null float64\n",
      "Exited             10000 non-null int64\n",
      "dtypes: float64(2), int64(7), object(2)\n",
      "memory usage: 859.5+ KB\n"
     ]
    }
   ],
   "source": [
    "customer.info()"
   ]
  },
  {
   "cell_type": "code",
   "execution_count": 4,
   "metadata": {},
   "outputs": [
    {
     "data": {
      "text/plain": [
       "array(['France', 'Spain', 'Germany'], dtype=object)"
      ]
     },
     "execution_count": 4,
     "metadata": {},
     "output_type": "execute_result"
    }
   ],
   "source": [
    "customer['Geography'].unique()"
   ]
  },
  {
   "cell_type": "code",
   "execution_count": 5,
   "metadata": {},
   "outputs": [
    {
     "data": {
      "text/html": [
       "<div>\n",
       "<style scoped>\n",
       "    .dataframe tbody tr th:only-of-type {\n",
       "        vertical-align: middle;\n",
       "    }\n",
       "\n",
       "    .dataframe tbody tr th {\n",
       "        vertical-align: top;\n",
       "    }\n",
       "\n",
       "    .dataframe thead th {\n",
       "        text-align: right;\n",
       "    }\n",
       "</style>\n",
       "<table border=\"1\" class=\"dataframe\">\n",
       "  <thead>\n",
       "    <tr style=\"text-align: right;\">\n",
       "      <th></th>\n",
       "      <th>Germany</th>\n",
       "      <th>Spain</th>\n",
       "    </tr>\n",
       "  </thead>\n",
       "  <tbody>\n",
       "    <tr>\n",
       "      <th>0</th>\n",
       "      <td>0</td>\n",
       "      <td>0</td>\n",
       "    </tr>\n",
       "    <tr>\n",
       "      <th>1</th>\n",
       "      <td>0</td>\n",
       "      <td>1</td>\n",
       "    </tr>\n",
       "    <tr>\n",
       "      <th>2</th>\n",
       "      <td>0</td>\n",
       "      <td>0</td>\n",
       "    </tr>\n",
       "    <tr>\n",
       "      <th>3</th>\n",
       "      <td>0</td>\n",
       "      <td>0</td>\n",
       "    </tr>\n",
       "    <tr>\n",
       "      <th>4</th>\n",
       "      <td>0</td>\n",
       "      <td>1</td>\n",
       "    </tr>\n",
       "  </tbody>\n",
       "</table>\n",
       "</div>"
      ],
      "text/plain": [
       "   Germany  Spain\n",
       "0        0      0\n",
       "1        0      1\n",
       "2        0      0\n",
       "3        0      0\n",
       "4        0      1"
      ]
     },
     "execution_count": 5,
     "metadata": {},
     "output_type": "execute_result"
    }
   ],
   "source": [
    "geo = pandas.get_dummies(customer['Geography'])\n",
    "del geo['France']\n",
    "geo.head()"
   ]
  },
  {
   "cell_type": "code",
   "execution_count": 6,
   "metadata": {},
   "outputs": [
    {
     "data": {
      "text/plain": [
       "array(['Female', 'Male'], dtype=object)"
      ]
     },
     "execution_count": 6,
     "metadata": {},
     "output_type": "execute_result"
    }
   ],
   "source": [
    "customer['Gender'].unique()"
   ]
  },
  {
   "cell_type": "code",
   "execution_count": 7,
   "metadata": {},
   "outputs": [
    {
     "data": {
      "text/html": [
       "<div>\n",
       "<style scoped>\n",
       "    .dataframe tbody tr th:only-of-type {\n",
       "        vertical-align: middle;\n",
       "    }\n",
       "\n",
       "    .dataframe tbody tr th {\n",
       "        vertical-align: top;\n",
       "    }\n",
       "\n",
       "    .dataframe thead th {\n",
       "        text-align: right;\n",
       "    }\n",
       "</style>\n",
       "<table border=\"1\" class=\"dataframe\">\n",
       "  <thead>\n",
       "    <tr style=\"text-align: right;\">\n",
       "      <th></th>\n",
       "      <th>Male</th>\n",
       "    </tr>\n",
       "  </thead>\n",
       "  <tbody>\n",
       "    <tr>\n",
       "      <th>0</th>\n",
       "      <td>0</td>\n",
       "    </tr>\n",
       "    <tr>\n",
       "      <th>1</th>\n",
       "      <td>0</td>\n",
       "    </tr>\n",
       "    <tr>\n",
       "      <th>2</th>\n",
       "      <td>0</td>\n",
       "    </tr>\n",
       "    <tr>\n",
       "      <th>3</th>\n",
       "      <td>0</td>\n",
       "    </tr>\n",
       "    <tr>\n",
       "      <th>4</th>\n",
       "      <td>0</td>\n",
       "    </tr>\n",
       "  </tbody>\n",
       "</table>\n",
       "</div>"
      ],
      "text/plain": [
       "   Male\n",
       "0     0\n",
       "1     0\n",
       "2     0\n",
       "3     0\n",
       "4     0"
      ]
     },
     "execution_count": 7,
     "metadata": {},
     "output_type": "execute_result"
    }
   ],
   "source": [
    "gen = pandas.get_dummies(customer['Gender'])\n",
    "del gen['Female']\n",
    "gen.head()"
   ]
  },
  {
   "cell_type": "code",
   "execution_count": 8,
   "metadata": {},
   "outputs": [
    {
     "data": {
      "text/plain": [
       "0    1\n",
       "1    0\n",
       "2    1\n",
       "3    0\n",
       "4    0\n",
       "Name: Exited, dtype: int64"
      ]
     },
     "execution_count": 8,
     "metadata": {},
     "output_type": "execute_result"
    }
   ],
   "source": [
    "y = customer.iloc[:,-1]\n",
    "y.head()"
   ]
  },
  {
   "cell_type": "code",
   "execution_count": 9,
   "metadata": {},
   "outputs": [],
   "source": [
    "del customer['Geography']\n",
    "del customer['Gender']"
   ]
  },
  {
   "cell_type": "code",
   "execution_count": 10,
   "metadata": {},
   "outputs": [
    {
     "data": {
      "text/html": [
       "<div>\n",
       "<style scoped>\n",
       "    .dataframe tbody tr th:only-of-type {\n",
       "        vertical-align: middle;\n",
       "    }\n",
       "\n",
       "    .dataframe tbody tr th {\n",
       "        vertical-align: top;\n",
       "    }\n",
       "\n",
       "    .dataframe thead th {\n",
       "        text-align: right;\n",
       "    }\n",
       "</style>\n",
       "<table border=\"1\" class=\"dataframe\">\n",
       "  <thead>\n",
       "    <tr style=\"text-align: right;\">\n",
       "      <th></th>\n",
       "      <th>CreditScore</th>\n",
       "      <th>Age</th>\n",
       "      <th>Tenure</th>\n",
       "      <th>Balance</th>\n",
       "      <th>NumOfProducts</th>\n",
       "      <th>HasCrCard</th>\n",
       "      <th>IsActiveMember</th>\n",
       "      <th>EstimatedSalary</th>\n",
       "      <th>Exited</th>\n",
       "      <th>Germany</th>\n",
       "      <th>Spain</th>\n",
       "      <th>Male</th>\n",
       "    </tr>\n",
       "  </thead>\n",
       "  <tbody>\n",
       "    <tr>\n",
       "      <th>0</th>\n",
       "      <td>619</td>\n",
       "      <td>42</td>\n",
       "      <td>2</td>\n",
       "      <td>0.00</td>\n",
       "      <td>1</td>\n",
       "      <td>1</td>\n",
       "      <td>1</td>\n",
       "      <td>101348.88</td>\n",
       "      <td>1</td>\n",
       "      <td>0</td>\n",
       "      <td>0</td>\n",
       "      <td>0</td>\n",
       "    </tr>\n",
       "    <tr>\n",
       "      <th>1</th>\n",
       "      <td>608</td>\n",
       "      <td>41</td>\n",
       "      <td>1</td>\n",
       "      <td>83807.86</td>\n",
       "      <td>1</td>\n",
       "      <td>0</td>\n",
       "      <td>1</td>\n",
       "      <td>112542.58</td>\n",
       "      <td>0</td>\n",
       "      <td>0</td>\n",
       "      <td>1</td>\n",
       "      <td>0</td>\n",
       "    </tr>\n",
       "    <tr>\n",
       "      <th>2</th>\n",
       "      <td>502</td>\n",
       "      <td>42</td>\n",
       "      <td>8</td>\n",
       "      <td>159660.80</td>\n",
       "      <td>3</td>\n",
       "      <td>1</td>\n",
       "      <td>0</td>\n",
       "      <td>113931.57</td>\n",
       "      <td>1</td>\n",
       "      <td>0</td>\n",
       "      <td>0</td>\n",
       "      <td>0</td>\n",
       "    </tr>\n",
       "    <tr>\n",
       "      <th>3</th>\n",
       "      <td>699</td>\n",
       "      <td>39</td>\n",
       "      <td>1</td>\n",
       "      <td>0.00</td>\n",
       "      <td>2</td>\n",
       "      <td>0</td>\n",
       "      <td>0</td>\n",
       "      <td>93826.63</td>\n",
       "      <td>0</td>\n",
       "      <td>0</td>\n",
       "      <td>0</td>\n",
       "      <td>0</td>\n",
       "    </tr>\n",
       "    <tr>\n",
       "      <th>4</th>\n",
       "      <td>850</td>\n",
       "      <td>43</td>\n",
       "      <td>2</td>\n",
       "      <td>125510.82</td>\n",
       "      <td>1</td>\n",
       "      <td>1</td>\n",
       "      <td>1</td>\n",
       "      <td>79084.10</td>\n",
       "      <td>0</td>\n",
       "      <td>0</td>\n",
       "      <td>1</td>\n",
       "      <td>0</td>\n",
       "    </tr>\n",
       "  </tbody>\n",
       "</table>\n",
       "</div>"
      ],
      "text/plain": [
       "   CreditScore  Age  Tenure    Balance  NumOfProducts  HasCrCard  \\\n",
       "0          619   42       2       0.00              1          1   \n",
       "1          608   41       1   83807.86              1          0   \n",
       "2          502   42       8  159660.80              3          1   \n",
       "3          699   39       1       0.00              2          0   \n",
       "4          850   43       2  125510.82              1          1   \n",
       "\n",
       "   IsActiveMember  EstimatedSalary  Exited  Germany  Spain  Male  \n",
       "0               1        101348.88       1        0      0     0  \n",
       "1               1        112542.58       0        0      1     0  \n",
       "2               0        113931.57       1        0      0     0  \n",
       "3               0         93826.63       0        0      0     0  \n",
       "4               1         79084.10       0        0      1     0  "
      ]
     },
     "execution_count": 10,
     "metadata": {},
     "output_type": "execute_result"
    }
   ],
   "source": [
    "X = pandas.concat([customer, geo, gen], axis = 1)\n",
    "X.head()"
   ]
  },
  {
   "cell_type": "code",
   "execution_count": 11,
   "metadata": {},
   "outputs": [],
   "source": [
    "del X['Exited']"
   ]
  },
  {
   "cell_type": "code",
   "execution_count": 12,
   "metadata": {},
   "outputs": [
    {
     "data": {
      "text/html": [
       "<div>\n",
       "<style scoped>\n",
       "    .dataframe tbody tr th:only-of-type {\n",
       "        vertical-align: middle;\n",
       "    }\n",
       "\n",
       "    .dataframe tbody tr th {\n",
       "        vertical-align: top;\n",
       "    }\n",
       "\n",
       "    .dataframe thead th {\n",
       "        text-align: right;\n",
       "    }\n",
       "</style>\n",
       "<table border=\"1\" class=\"dataframe\">\n",
       "  <thead>\n",
       "    <tr style=\"text-align: right;\">\n",
       "      <th></th>\n",
       "      <th>CreditScore</th>\n",
       "      <th>Age</th>\n",
       "      <th>Tenure</th>\n",
       "      <th>Balance</th>\n",
       "      <th>NumOfProducts</th>\n",
       "      <th>HasCrCard</th>\n",
       "      <th>IsActiveMember</th>\n",
       "      <th>EstimatedSalary</th>\n",
       "      <th>Germany</th>\n",
       "      <th>Spain</th>\n",
       "      <th>Male</th>\n",
       "    </tr>\n",
       "  </thead>\n",
       "  <tbody>\n",
       "    <tr>\n",
       "      <th>0</th>\n",
       "      <td>619</td>\n",
       "      <td>42</td>\n",
       "      <td>2</td>\n",
       "      <td>0.00</td>\n",
       "      <td>1</td>\n",
       "      <td>1</td>\n",
       "      <td>1</td>\n",
       "      <td>101348.88</td>\n",
       "      <td>0</td>\n",
       "      <td>0</td>\n",
       "      <td>0</td>\n",
       "    </tr>\n",
       "    <tr>\n",
       "      <th>1</th>\n",
       "      <td>608</td>\n",
       "      <td>41</td>\n",
       "      <td>1</td>\n",
       "      <td>83807.86</td>\n",
       "      <td>1</td>\n",
       "      <td>0</td>\n",
       "      <td>1</td>\n",
       "      <td>112542.58</td>\n",
       "      <td>0</td>\n",
       "      <td>1</td>\n",
       "      <td>0</td>\n",
       "    </tr>\n",
       "    <tr>\n",
       "      <th>2</th>\n",
       "      <td>502</td>\n",
       "      <td>42</td>\n",
       "      <td>8</td>\n",
       "      <td>159660.80</td>\n",
       "      <td>3</td>\n",
       "      <td>1</td>\n",
       "      <td>0</td>\n",
       "      <td>113931.57</td>\n",
       "      <td>0</td>\n",
       "      <td>0</td>\n",
       "      <td>0</td>\n",
       "    </tr>\n",
       "    <tr>\n",
       "      <th>3</th>\n",
       "      <td>699</td>\n",
       "      <td>39</td>\n",
       "      <td>1</td>\n",
       "      <td>0.00</td>\n",
       "      <td>2</td>\n",
       "      <td>0</td>\n",
       "      <td>0</td>\n",
       "      <td>93826.63</td>\n",
       "      <td>0</td>\n",
       "      <td>0</td>\n",
       "      <td>0</td>\n",
       "    </tr>\n",
       "    <tr>\n",
       "      <th>4</th>\n",
       "      <td>850</td>\n",
       "      <td>43</td>\n",
       "      <td>2</td>\n",
       "      <td>125510.82</td>\n",
       "      <td>1</td>\n",
       "      <td>1</td>\n",
       "      <td>1</td>\n",
       "      <td>79084.10</td>\n",
       "      <td>0</td>\n",
       "      <td>1</td>\n",
       "      <td>0</td>\n",
       "    </tr>\n",
       "  </tbody>\n",
       "</table>\n",
       "</div>"
      ],
      "text/plain": [
       "   CreditScore  Age  Tenure    Balance  NumOfProducts  HasCrCard  \\\n",
       "0          619   42       2       0.00              1          1   \n",
       "1          608   41       1   83807.86              1          0   \n",
       "2          502   42       8  159660.80              3          1   \n",
       "3          699   39       1       0.00              2          0   \n",
       "4          850   43       2  125510.82              1          1   \n",
       "\n",
       "   IsActiveMember  EstimatedSalary  Germany  Spain  Male  \n",
       "0               1        101348.88        0      0     0  \n",
       "1               1        112542.58        0      1     0  \n",
       "2               0        113931.57        0      0     0  \n",
       "3               0         93826.63        0      0     0  \n",
       "4               1         79084.10        0      1     0  "
      ]
     },
     "execution_count": 12,
     "metadata": {},
     "output_type": "execute_result"
    }
   ],
   "source": [
    "X.head()"
   ]
  },
  {
   "cell_type": "code",
   "execution_count": 13,
   "metadata": {},
   "outputs": [
    {
     "data": {
      "text/plain": [
       "0    1\n",
       "1    0\n",
       "2    1\n",
       "3    0\n",
       "4    0\n",
       "Name: Exited, dtype: int64"
      ]
     },
     "execution_count": 13,
     "metadata": {},
     "output_type": "execute_result"
    }
   ],
   "source": [
    "y.head()"
   ]
  },
  {
   "cell_type": "markdown",
   "metadata": {},
   "source": [
    "### 將資料分成訓練與測試資料集"
   ]
  },
  {
   "cell_type": "code",
   "execution_count": 14,
   "metadata": {},
   "outputs": [],
   "source": [
    "from sklearn.model_selection import train_test_split\n",
    "x_train, x_test, y_train, y_test = train_test_split(X, y, test_size = 0.2, random_state = 42)"
   ]
  },
  {
   "cell_type": "code",
   "execution_count": 15,
   "metadata": {},
   "outputs": [
    {
     "data": {
      "text/plain": [
       "(8000, 11)"
      ]
     },
     "execution_count": 15,
     "metadata": {},
     "output_type": "execute_result"
    }
   ],
   "source": [
    "x_train.shape"
   ]
  },
  {
   "cell_type": "code",
   "execution_count": 16,
   "metadata": {},
   "outputs": [
    {
     "data": {
      "text/plain": [
       "(2000, 11)"
      ]
     },
     "execution_count": 16,
     "metadata": {},
     "output_type": "execute_result"
    }
   ],
   "source": [
    "x_test.shape"
   ]
  },
  {
   "cell_type": "code",
   "execution_count": 17,
   "metadata": {},
   "outputs": [
    {
     "data": {
      "text/plain": [
       "(8000,)"
      ]
     },
     "execution_count": 17,
     "metadata": {},
     "output_type": "execute_result"
    }
   ],
   "source": [
    "y_train.shape"
   ]
  },
  {
   "cell_type": "code",
   "execution_count": 18,
   "metadata": {},
   "outputs": [
    {
     "data": {
      "text/plain": [
       "(2000,)"
      ]
     },
     "execution_count": 18,
     "metadata": {},
     "output_type": "execute_result"
    }
   ],
   "source": [
    "y_test.shape"
   ]
  },
  {
   "cell_type": "code",
   "execution_count": 19,
   "metadata": {},
   "outputs": [
    {
     "data": {
      "text/html": [
       "<div>\n",
       "<style scoped>\n",
       "    .dataframe tbody tr th:only-of-type {\n",
       "        vertical-align: middle;\n",
       "    }\n",
       "\n",
       "    .dataframe tbody tr th {\n",
       "        vertical-align: top;\n",
       "    }\n",
       "\n",
       "    .dataframe thead th {\n",
       "        text-align: right;\n",
       "    }\n",
       "</style>\n",
       "<table border=\"1\" class=\"dataframe\">\n",
       "  <thead>\n",
       "    <tr style=\"text-align: right;\">\n",
       "      <th></th>\n",
       "      <th>CreditScore</th>\n",
       "      <th>Age</th>\n",
       "      <th>Tenure</th>\n",
       "      <th>Balance</th>\n",
       "      <th>NumOfProducts</th>\n",
       "      <th>HasCrCard</th>\n",
       "      <th>IsActiveMember</th>\n",
       "      <th>EstimatedSalary</th>\n",
       "      <th>Germany</th>\n",
       "      <th>Spain</th>\n",
       "      <th>Male</th>\n",
       "    </tr>\n",
       "  </thead>\n",
       "  <tbody>\n",
       "    <tr>\n",
       "      <th>9254</th>\n",
       "      <td>686</td>\n",
       "      <td>32</td>\n",
       "      <td>6</td>\n",
       "      <td>0.00</td>\n",
       "      <td>2</td>\n",
       "      <td>1</td>\n",
       "      <td>1</td>\n",
       "      <td>179093.26</td>\n",
       "      <td>0</td>\n",
       "      <td>0</td>\n",
       "      <td>1</td>\n",
       "    </tr>\n",
       "    <tr>\n",
       "      <th>1561</th>\n",
       "      <td>632</td>\n",
       "      <td>42</td>\n",
       "      <td>4</td>\n",
       "      <td>119624.60</td>\n",
       "      <td>2</td>\n",
       "      <td>1</td>\n",
       "      <td>1</td>\n",
       "      <td>195978.86</td>\n",
       "      <td>1</td>\n",
       "      <td>0</td>\n",
       "      <td>1</td>\n",
       "    </tr>\n",
       "    <tr>\n",
       "      <th>1670</th>\n",
       "      <td>559</td>\n",
       "      <td>24</td>\n",
       "      <td>3</td>\n",
       "      <td>114739.92</td>\n",
       "      <td>1</td>\n",
       "      <td>1</td>\n",
       "      <td>0</td>\n",
       "      <td>85891.02</td>\n",
       "      <td>0</td>\n",
       "      <td>1</td>\n",
       "      <td>1</td>\n",
       "    </tr>\n",
       "    <tr>\n",
       "      <th>6087</th>\n",
       "      <td>561</td>\n",
       "      <td>27</td>\n",
       "      <td>9</td>\n",
       "      <td>135637.00</td>\n",
       "      <td>1</td>\n",
       "      <td>1</td>\n",
       "      <td>0</td>\n",
       "      <td>153080.40</td>\n",
       "      <td>0</td>\n",
       "      <td>0</td>\n",
       "      <td>0</td>\n",
       "    </tr>\n",
       "    <tr>\n",
       "      <th>6669</th>\n",
       "      <td>517</td>\n",
       "      <td>56</td>\n",
       "      <td>9</td>\n",
       "      <td>142147.32</td>\n",
       "      <td>1</td>\n",
       "      <td>0</td>\n",
       "      <td>0</td>\n",
       "      <td>39488.04</td>\n",
       "      <td>0</td>\n",
       "      <td>0</td>\n",
       "      <td>1</td>\n",
       "    </tr>\n",
       "  </tbody>\n",
       "</table>\n",
       "</div>"
      ],
      "text/plain": [
       "      CreditScore  Age  Tenure    Balance  NumOfProducts  HasCrCard  \\\n",
       "9254          686   32       6       0.00              2          1   \n",
       "1561          632   42       4  119624.60              2          1   \n",
       "1670          559   24       3  114739.92              1          1   \n",
       "6087          561   27       9  135637.00              1          1   \n",
       "6669          517   56       9  142147.32              1          0   \n",
       "\n",
       "      IsActiveMember  EstimatedSalary  Germany  Spain  Male  \n",
       "9254               1        179093.26        0      0     1  \n",
       "1561               1        195978.86        1      0     1  \n",
       "1670               0         85891.02        0      1     1  \n",
       "6087               0        153080.40        0      0     0  \n",
       "6669               0         39488.04        0      0     1  "
      ]
     },
     "execution_count": 19,
     "metadata": {},
     "output_type": "execute_result"
    }
   ],
   "source": [
    "x_train.head()"
   ]
  },
  {
   "cell_type": "markdown",
   "metadata": {},
   "source": [
    "### 將資料標準化"
   ]
  },
  {
   "cell_type": "code",
   "execution_count": 20,
   "metadata": {},
   "outputs": [],
   "source": [
    "from sklearn.preprocessing import StandardScaler\n",
    "sc = StandardScaler()\n",
    "x_train = sc.fit_transform(x_train)\n",
    "x_test  = sc.transform(x_test)"
   ]
  },
  {
   "cell_type": "code",
   "execution_count": 21,
   "metadata": {},
   "outputs": [
    {
     "data": {
      "text/plain": [
       "array([[ 0.35649971, -0.6557859 ,  0.34567966, ..., -0.57946723,\n",
       "        -0.57638802,  0.91324755],\n",
       "       [-0.20389777,  0.29493847, -0.3483691 , ...,  1.72572313,\n",
       "        -0.57638802,  0.91324755],\n",
       "       [-0.96147213, -1.41636539, -0.69539349, ..., -0.57946723,\n",
       "         1.73494238,  0.91324755],\n",
       "       ...,\n",
       "       [ 0.86500853, -0.08535128, -1.38944225, ..., -0.57946723,\n",
       "        -0.57638802, -1.09499335],\n",
       "       [ 0.15932282,  0.3900109 ,  1.03972843, ..., -0.57946723,\n",
       "        -0.57638802,  0.91324755],\n",
       "       [ 0.47065475,  1.15059039, -1.38944225, ...,  1.72572313,\n",
       "        -0.57638802,  0.91324755]])"
      ]
     },
     "execution_count": 21,
     "metadata": {},
     "output_type": "execute_result"
    }
   ],
   "source": [
    "x_train"
   ]
  },
  {
   "cell_type": "code",
   "execution_count": 22,
   "metadata": {},
   "outputs": [
    {
     "data": {
      "text/plain": [
       "array([[-0.57749609, -0.6557859 , -0.69539349, ...,  1.72572313,\n",
       "        -0.57638802,  0.91324755],\n",
       "       [-0.29729735,  0.3900109 , -1.38944225, ..., -0.57946723,\n",
       "        -0.57638802,  0.91324755],\n",
       "       [-0.52560743,  0.48508334, -0.3483691 , ..., -0.57946723,\n",
       "         1.73494238, -1.09499335],\n",
       "       ...,\n",
       "       [ 0.81311987,  0.77030065,  0.69270405, ..., -0.57946723,\n",
       "        -0.57638802, -1.09499335],\n",
       "       [ 0.41876609, -0.94100321, -0.3483691 , ..., -0.57946723,\n",
       "        -0.57638802,  0.91324755],\n",
       "       [-0.24540869,  0.00972116, -1.38944225, ...,  1.72572313,\n",
       "        -0.57638802,  0.91324755]])"
      ]
     },
     "execution_count": 22,
     "metadata": {},
     "output_type": "execute_result"
    }
   ],
   "source": [
    "x_test"
   ]
  },
  {
   "cell_type": "markdown",
   "metadata": {},
   "source": [
    "### 建構類神經網路"
   ]
  },
  {
   "cell_type": "code",
   "execution_count": 163,
   "metadata": {},
   "outputs": [],
   "source": [
    "import keras\n",
    "from keras.models import Sequential\n",
    "from keras.layers import Dense\n",
    "from keras.optimizers import SGD"
   ]
  },
  {
   "cell_type": "code",
   "execution_count": 167,
   "metadata": {},
   "outputs": [],
   "source": [
    "n_hidden_1 = 6 \n",
    "n_hidden_2 = 6 \n",
    "n_input    = 11\n",
    "n_classes  = 1 \n",
    "\n",
    "training_epochs = 100\n",
    "batch_size = 100"
   ]
  },
  {
   "cell_type": "markdown",
   "metadata": {},
   "source": [
    "### 建構模型"
   ]
  },
  {
   "cell_type": "code",
   "execution_count": 168,
   "metadata": {},
   "outputs": [],
   "source": [
    "model = keras.Sequential()\n",
    "model.add(Dense(n_hidden_1, activation='relu', input_shape = (n_input,)))\n",
    "model.add(Dense(n_hidden_2, activation='relu'))\n",
    "model.add(Dense(n_classes, activation='sigmoid'))\n",
    "model.compile(optimizer = 'sgd', loss = 'binary_crossentropy', metrics = ['accuracy'])"
   ]
  },
  {
   "cell_type": "markdown",
   "metadata": {},
   "source": [
    "### 訓練模型"
   ]
  },
  {
   "cell_type": "code",
   "execution_count": 169,
   "metadata": {},
   "outputs": [
    {
     "name": "stdout",
     "output_type": "stream",
     "text": [
      "Train on 8000 samples, validate on 2000 samples\n",
      "Epoch 1/100\n",
      "8000/8000 [==============================] - 0s 48us/step - loss: 0.6270 - acc: 0.7465 - val_loss: 0.5933 - val_acc: 0.7980\n",
      "Epoch 2/100\n",
      "8000/8000 [==============================] - 0s 14us/step - loss: 0.5764 - acc: 0.7931 - val_loss: 0.5581 - val_acc: 0.8050\n",
      "Epoch 3/100\n",
      "8000/8000 [==============================] - 0s 15us/step - loss: 0.5516 - acc: 0.7949 - val_loss: 0.5378 - val_acc: 0.8050\n",
      "Epoch 4/100\n",
      "8000/8000 [==============================] - 0s 14us/step - loss: 0.5361 - acc: 0.7951 - val_loss: 0.5236 - val_acc: 0.8050\n",
      "Epoch 5/100\n",
      "8000/8000 [==============================] - 0s 14us/step - loss: 0.5248 - acc: 0.7947 - val_loss: 0.5127 - val_acc: 0.8050\n",
      "Epoch 6/100\n",
      "8000/8000 [==============================] - 0s 15us/step - loss: 0.5159 - acc: 0.7948 - val_loss: 0.5037 - val_acc: 0.8050\n",
      "Epoch 7/100\n",
      "8000/8000 [==============================] - 0s 16us/step - loss: 0.5085 - acc: 0.7947 - val_loss: 0.4961 - val_acc: 0.8050\n",
      "Epoch 8/100\n",
      "8000/8000 [==============================] - 0s 15us/step - loss: 0.5023 - acc: 0.7949 - val_loss: 0.4896 - val_acc: 0.8050\n",
      "Epoch 9/100\n",
      "8000/8000 [==============================] - 0s 15us/step - loss: 0.4970 - acc: 0.7949 - val_loss: 0.4841 - val_acc: 0.8050\n",
      "Epoch 10/100\n",
      "8000/8000 [==============================] - 0s 15us/step - loss: 0.4924 - acc: 0.7950 - val_loss: 0.4794 - val_acc: 0.8050\n",
      "Epoch 11/100\n",
      "8000/8000 [==============================] - 0s 16us/step - loss: 0.4884 - acc: 0.7949 - val_loss: 0.4752 - val_acc: 0.8050\n",
      "Epoch 12/100\n",
      "8000/8000 [==============================] - 0s 14us/step - loss: 0.4848 - acc: 0.7947 - val_loss: 0.4715 - val_acc: 0.8050\n",
      "Epoch 13/100\n",
      "8000/8000 [==============================] - 0s 14us/step - loss: 0.4816 - acc: 0.7945 - val_loss: 0.4681 - val_acc: 0.8050\n",
      "Epoch 14/100\n",
      "8000/8000 [==============================] - 0s 14us/step - loss: 0.4787 - acc: 0.7945 - val_loss: 0.4649 - val_acc: 0.8050\n",
      "Epoch 15/100\n",
      "8000/8000 [==============================] - 0s 14us/step - loss: 0.4758 - acc: 0.7944 - val_loss: 0.4618 - val_acc: 0.8035\n",
      "Epoch 16/100\n",
      "8000/8000 [==============================] - 0s 16us/step - loss: 0.4730 - acc: 0.7946 - val_loss: 0.4588 - val_acc: 0.8025\n",
      "Epoch 17/100\n",
      "8000/8000 [==============================] - 0s 15us/step - loss: 0.4704 - acc: 0.7956 - val_loss: 0.4559 - val_acc: 0.8015\n",
      "Epoch 18/100\n",
      "8000/8000 [==============================] - 0s 15us/step - loss: 0.4679 - acc: 0.7956 - val_loss: 0.4532 - val_acc: 0.8020\n",
      "Epoch 19/100\n",
      "8000/8000 [==============================] - 0s 15us/step - loss: 0.4655 - acc: 0.7955 - val_loss: 0.4505 - val_acc: 0.8035\n",
      "Epoch 20/100\n",
      "8000/8000 [==============================] - 0s 15us/step - loss: 0.4631 - acc: 0.7962 - val_loss: 0.4479 - val_acc: 0.8045\n",
      "Epoch 21/100\n",
      "8000/8000 [==============================] - 0s 15us/step - loss: 0.4609 - acc: 0.7972 - val_loss: 0.4455 - val_acc: 0.8040\n",
      "Epoch 22/100\n",
      "8000/8000 [==============================] - 0s 15us/step - loss: 0.4588 - acc: 0.7982 - val_loss: 0.4432 - val_acc: 0.8060\n",
      "Epoch 23/100\n",
      "8000/8000 [==============================] - 0s 15us/step - loss: 0.4568 - acc: 0.7990 - val_loss: 0.4409 - val_acc: 0.8065\n",
      "Epoch 24/100\n",
      "8000/8000 [==============================] - 0s 15us/step - loss: 0.4548 - acc: 0.7997 - val_loss: 0.4388 - val_acc: 0.8080\n",
      "Epoch 25/100\n",
      "8000/8000 [==============================] - 0s 15us/step - loss: 0.4529 - acc: 0.8011 - val_loss: 0.4367 - val_acc: 0.8090\n",
      "Epoch 26/100\n",
      "8000/8000 [==============================] - 0s 15us/step - loss: 0.4511 - acc: 0.8021 - val_loss: 0.4348 - val_acc: 0.8110\n",
      "Epoch 27/100\n",
      "8000/8000 [==============================] - 0s 15us/step - loss: 0.4494 - acc: 0.8034 - val_loss: 0.4330 - val_acc: 0.8115\n",
      "Epoch 28/100\n",
      "8000/8000 [==============================] - 0s 15us/step - loss: 0.4478 - acc: 0.8044 - val_loss: 0.4312 - val_acc: 0.8145\n",
      "Epoch 29/100\n",
      "8000/8000 [==============================] - 0s 14us/step - loss: 0.4461 - acc: 0.8054 - val_loss: 0.4294 - val_acc: 0.8165\n",
      "Epoch 30/100\n",
      "8000/8000 [==============================] - 0s 14us/step - loss: 0.4446 - acc: 0.8072 - val_loss: 0.4278 - val_acc: 0.8185\n",
      "Epoch 31/100\n",
      "8000/8000 [==============================] - 0s 14us/step - loss: 0.4431 - acc: 0.8086 - val_loss: 0.4261 - val_acc: 0.8190\n",
      "Epoch 32/100\n",
      "8000/8000 [==============================] - 0s 14us/step - loss: 0.4417 - acc: 0.8106 - val_loss: 0.4247 - val_acc: 0.8215\n",
      "Epoch 33/100\n",
      "8000/8000 [==============================] - 0s 14us/step - loss: 0.4403 - acc: 0.8105 - val_loss: 0.4233 - val_acc: 0.8215\n",
      "Epoch 34/100\n",
      "8000/8000 [==============================] - 0s 15us/step - loss: 0.4390 - acc: 0.8111 - val_loss: 0.4219 - val_acc: 0.8215\n",
      "Epoch 35/100\n",
      "8000/8000 [==============================] - 0s 15us/step - loss: 0.4377 - acc: 0.8119 - val_loss: 0.4205 - val_acc: 0.8210\n",
      "Epoch 36/100\n",
      "8000/8000 [==============================] - 0s 14us/step - loss: 0.4365 - acc: 0.8124 - val_loss: 0.4192 - val_acc: 0.8215\n",
      "Epoch 37/100\n",
      "8000/8000 [==============================] - 0s 14us/step - loss: 0.4353 - acc: 0.8134 - val_loss: 0.4180 - val_acc: 0.8225\n",
      "Epoch 38/100\n",
      "8000/8000 [==============================] - 0s 14us/step - loss: 0.4341 - acc: 0.8130 - val_loss: 0.4168 - val_acc: 0.8240\n",
      "Epoch 39/100\n",
      "8000/8000 [==============================] - 0s 14us/step - loss: 0.4330 - acc: 0.8140 - val_loss: 0.4157 - val_acc: 0.8255\n",
      "Epoch 40/100\n",
      "8000/8000 [==============================] - 0s 14us/step - loss: 0.4318 - acc: 0.8159 - val_loss: 0.4146 - val_acc: 0.8235\n",
      "Epoch 41/100\n",
      "8000/8000 [==============================] - 0s 14us/step - loss: 0.4308 - acc: 0.8157 - val_loss: 0.4136 - val_acc: 0.8235\n",
      "Epoch 42/100\n",
      "8000/8000 [==============================] - 0s 15us/step - loss: 0.4297 - acc: 0.8160 - val_loss: 0.4126 - val_acc: 0.8235\n",
      "Epoch 43/100\n",
      "8000/8000 [==============================] - 0s 14us/step - loss: 0.4287 - acc: 0.8161 - val_loss: 0.4117 - val_acc: 0.8240\n",
      "Epoch 44/100\n",
      "8000/8000 [==============================] - 0s 14us/step - loss: 0.4277 - acc: 0.8169 - val_loss: 0.4108 - val_acc: 0.8245\n",
      "Epoch 45/100\n",
      "8000/8000 [==============================] - 0s 14us/step - loss: 0.4268 - acc: 0.8167 - val_loss: 0.4100 - val_acc: 0.8245\n",
      "Epoch 46/100\n",
      "8000/8000 [==============================] - 0s 15us/step - loss: 0.4259 - acc: 0.8169 - val_loss: 0.4092 - val_acc: 0.8250\n",
      "Epoch 47/100\n",
      "8000/8000 [==============================] - 0s 14us/step - loss: 0.4250 - acc: 0.8177 - val_loss: 0.4085 - val_acc: 0.8270\n",
      "Epoch 48/100\n",
      "8000/8000 [==============================] - 0s 14us/step - loss: 0.4242 - acc: 0.8189 - val_loss: 0.4078 - val_acc: 0.8275\n",
      "Epoch 49/100\n",
      "8000/8000 [==============================] - 0s 14us/step - loss: 0.4233 - acc: 0.8186 - val_loss: 0.4070 - val_acc: 0.8275\n",
      "Epoch 50/100\n",
      "8000/8000 [==============================] - 0s 14us/step - loss: 0.4225 - acc: 0.8186 - val_loss: 0.4062 - val_acc: 0.8300\n",
      "Epoch 51/100\n",
      "8000/8000 [==============================] - 0s 14us/step - loss: 0.4217 - acc: 0.8185 - val_loss: 0.4055 - val_acc: 0.8310\n",
      "Epoch 52/100\n",
      "8000/8000 [==============================] - 0s 14us/step - loss: 0.4209 - acc: 0.8190 - val_loss: 0.4049 - val_acc: 0.8300\n",
      "Epoch 53/100\n",
      "8000/8000 [==============================] - 0s 15us/step - loss: 0.4201 - acc: 0.8191 - val_loss: 0.4042 - val_acc: 0.8305\n",
      "Epoch 54/100\n",
      "8000/8000 [==============================] - 0s 15us/step - loss: 0.4194 - acc: 0.8197 - val_loss: 0.4035 - val_acc: 0.8295\n",
      "Epoch 55/100\n",
      "8000/8000 [==============================] - 0s 14us/step - loss: 0.4187 - acc: 0.8202 - val_loss: 0.4028 - val_acc: 0.8290\n",
      "Epoch 56/100\n",
      "8000/8000 [==============================] - 0s 14us/step - loss: 0.4180 - acc: 0.8194 - val_loss: 0.4022 - val_acc: 0.8290\n",
      "Epoch 57/100\n",
      "8000/8000 [==============================] - 0s 15us/step - loss: 0.4173 - acc: 0.8190 - val_loss: 0.4015 - val_acc: 0.8280\n",
      "Epoch 58/100\n",
      "8000/8000 [==============================] - 0s 15us/step - loss: 0.4166 - acc: 0.8191 - val_loss: 0.4009 - val_acc: 0.8275\n",
      "Epoch 59/100\n",
      "8000/8000 [==============================] - 0s 14us/step - loss: 0.4159 - acc: 0.8200 - val_loss: 0.4002 - val_acc: 0.8290\n",
      "Epoch 60/100\n",
      "8000/8000 [==============================] - 0s 14us/step - loss: 0.4152 - acc: 0.8196 - val_loss: 0.3995 - val_acc: 0.8290\n",
      "Epoch 61/100\n",
      "8000/8000 [==============================] - 0s 15us/step - loss: 0.4145 - acc: 0.8209 - val_loss: 0.3988 - val_acc: 0.8295\n",
      "Epoch 62/100\n",
      "8000/8000 [==============================] - 0s 14us/step - loss: 0.4138 - acc: 0.8209 - val_loss: 0.3981 - val_acc: 0.8290\n",
      "Epoch 63/100\n",
      "8000/8000 [==============================] - 0s 14us/step - loss: 0.4131 - acc: 0.8211 - val_loss: 0.3974 - val_acc: 0.8290\n",
      "Epoch 64/100\n",
      "8000/8000 [==============================] - 0s 15us/step - loss: 0.4124 - acc: 0.8220 - val_loss: 0.3967 - val_acc: 0.8285\n",
      "Epoch 65/100\n",
      "8000/8000 [==============================] - 0s 14us/step - loss: 0.4117 - acc: 0.8222 - val_loss: 0.3959 - val_acc: 0.8285\n",
      "Epoch 66/100\n",
      "8000/8000 [==============================] - 0s 15us/step - loss: 0.4109 - acc: 0.8225 - val_loss: 0.3952 - val_acc: 0.8295\n",
      "Epoch 67/100\n",
      "8000/8000 [==============================] - 0s 15us/step - loss: 0.4101 - acc: 0.8230 - val_loss: 0.3944 - val_acc: 0.8315\n",
      "Epoch 68/100\n",
      "8000/8000 [==============================] - 0s 15us/step - loss: 0.4094 - acc: 0.8237 - val_loss: 0.3937 - val_acc: 0.8325\n",
      "Epoch 69/100\n",
      "8000/8000 [==============================] - 0s 14us/step - loss: 0.4086 - acc: 0.8232 - val_loss: 0.3929 - val_acc: 0.8335\n",
      "Epoch 70/100\n",
      "8000/8000 [==============================] - 0s 14us/step - loss: 0.4078 - acc: 0.8246 - val_loss: 0.3921 - val_acc: 0.8340\n",
      "Epoch 71/100\n",
      "8000/8000 [==============================] - 0s 15us/step - loss: 0.4070 - acc: 0.8244 - val_loss: 0.3913 - val_acc: 0.8340\n",
      "Epoch 72/100\n",
      "8000/8000 [==============================] - 0s 14us/step - loss: 0.4061 - acc: 0.8248 - val_loss: 0.3905 - val_acc: 0.8335\n",
      "Epoch 73/100\n",
      "8000/8000 [==============================] - 0s 15us/step - loss: 0.4053 - acc: 0.8250 - val_loss: 0.3897 - val_acc: 0.8335\n",
      "Epoch 74/100\n",
      "8000/8000 [==============================] - 0s 14us/step - loss: 0.4044 - acc: 0.8255 - val_loss: 0.3889 - val_acc: 0.8340\n",
      "Epoch 75/100\n",
      "8000/8000 [==============================] - 0s 14us/step - loss: 0.4035 - acc: 0.8256 - val_loss: 0.3881 - val_acc: 0.8335\n",
      "Epoch 76/100\n",
      "8000/8000 [==============================] - 0s 15us/step - loss: 0.4026 - acc: 0.8271 - val_loss: 0.3873 - val_acc: 0.8340\n",
      "Epoch 77/100\n",
      "8000/8000 [==============================] - 0s 14us/step - loss: 0.4017 - acc: 0.8286 - val_loss: 0.3865 - val_acc: 0.8340\n",
      "Epoch 78/100\n",
      "8000/8000 [==============================] - 0s 14us/step - loss: 0.4008 - acc: 0.8289 - val_loss: 0.3857 - val_acc: 0.8345\n",
      "Epoch 79/100\n",
      "8000/8000 [==============================] - 0s 15us/step - loss: 0.3999 - acc: 0.8300 - val_loss: 0.3849 - val_acc: 0.8355\n",
      "Epoch 80/100\n",
      "8000/8000 [==============================] - 0s 15us/step - loss: 0.3990 - acc: 0.8304 - val_loss: 0.3841 - val_acc: 0.8355\n",
      "Epoch 81/100\n",
      "8000/8000 [==============================] - 0s 15us/step - loss: 0.3982 - acc: 0.8311 - val_loss: 0.3834 - val_acc: 0.8365\n",
      "Epoch 82/100\n",
      "8000/8000 [==============================] - 0s 13us/step - loss: 0.3973 - acc: 0.8315 - val_loss: 0.3825 - val_acc: 0.8390\n",
      "Epoch 83/100\n",
      "8000/8000 [==============================] - 0s 14us/step - loss: 0.3964 - acc: 0.8329 - val_loss: 0.3818 - val_acc: 0.8390\n",
      "Epoch 84/100\n",
      "8000/8000 [==============================] - 0s 15us/step - loss: 0.3955 - acc: 0.8342 - val_loss: 0.3809 - val_acc: 0.8410\n",
      "Epoch 85/100\n",
      "8000/8000 [==============================] - 0s 14us/step - loss: 0.3945 - acc: 0.8357 - val_loss: 0.3801 - val_acc: 0.8420\n",
      "Epoch 86/100\n",
      "8000/8000 [==============================] - 0s 14us/step - loss: 0.3935 - acc: 0.8354 - val_loss: 0.3793 - val_acc: 0.8420\n",
      "Epoch 87/100\n",
      "8000/8000 [==============================] - 0s 14us/step - loss: 0.3925 - acc: 0.8366 - val_loss: 0.3786 - val_acc: 0.8435\n",
      "Epoch 88/100\n",
      "8000/8000 [==============================] - 0s 15us/step - loss: 0.3916 - acc: 0.8371 - val_loss: 0.3778 - val_acc: 0.8435\n",
      "Epoch 89/100\n",
      "8000/8000 [==============================] - 0s 14us/step - loss: 0.3906 - acc: 0.8370 - val_loss: 0.3771 - val_acc: 0.8435\n",
      "Epoch 90/100\n",
      "8000/8000 [==============================] - 0s 15us/step - loss: 0.3897 - acc: 0.8376 - val_loss: 0.3762 - val_acc: 0.8440\n",
      "Epoch 91/100\n",
      "8000/8000 [==============================] - 0s 15us/step - loss: 0.3887 - acc: 0.8384 - val_loss: 0.3754 - val_acc: 0.8440\n",
      "Epoch 92/100\n",
      "8000/8000 [==============================] - 0s 15us/step - loss: 0.3877 - acc: 0.8395 - val_loss: 0.3747 - val_acc: 0.8435\n",
      "Epoch 93/100\n",
      "8000/8000 [==============================] - 0s 14us/step - loss: 0.3868 - acc: 0.8397 - val_loss: 0.3740 - val_acc: 0.8435\n",
      "Epoch 94/100\n",
      "8000/8000 [==============================] - 0s 15us/step - loss: 0.3859 - acc: 0.8403 - val_loss: 0.3732 - val_acc: 0.8440\n",
      "Epoch 95/100\n",
      "8000/8000 [==============================] - 0s 14us/step - loss: 0.3849 - acc: 0.8412 - val_loss: 0.3725 - val_acc: 0.8445\n",
      "Epoch 96/100\n",
      "8000/8000 [==============================] - 0s 14us/step - loss: 0.3839 - acc: 0.8419 - val_loss: 0.3718 - val_acc: 0.8455\n",
      "Epoch 97/100\n",
      "8000/8000 [==============================] - 0s 14us/step - loss: 0.3830 - acc: 0.8412 - val_loss: 0.3711 - val_acc: 0.8460\n",
      "Epoch 98/100\n",
      "8000/8000 [==============================] - 0s 14us/step - loss: 0.3821 - acc: 0.8405 - val_loss: 0.3704 - val_acc: 0.8460\n",
      "Epoch 99/100\n",
      "8000/8000 [==============================] - 0s 14us/step - loss: 0.3811 - acc: 0.8411 - val_loss: 0.3697 - val_acc: 0.8470\n",
      "Epoch 100/100\n",
      "8000/8000 [==============================] - 0s 14us/step - loss: 0.3802 - acc: 0.8416 - val_loss: 0.3691 - val_acc: 0.8485\n"
     ]
    },
    {
     "data": {
      "text/plain": [
       "<keras.callbacks.History at 0x12da95e80>"
      ]
     },
     "execution_count": 169,
     "metadata": {},
     "output_type": "execute_result"
    }
   ],
   "source": [
    "model.fit(x_train, y_train, batch_size = batch_size, epochs = training_epochs,validation_data=(x_test, y_test))"
   ]
  },
  {
   "cell_type": "markdown",
   "metadata": {},
   "source": [
    "### 評估模型"
   ]
  },
  {
   "cell_type": "code",
   "execution_count": 170,
   "metadata": {},
   "outputs": [],
   "source": [
    "predicted = (model.predict(x_test) > 0.5).flatten().astype(int)"
   ]
  },
  {
   "cell_type": "code",
   "execution_count": 171,
   "metadata": {},
   "outputs": [
    {
     "data": {
      "text/plain": [
       "0.8485"
      ]
     },
     "execution_count": 171,
     "metadata": {},
     "output_type": "execute_result"
    }
   ],
   "source": [
    "from sklearn.metrics import accuracy_score, confusion_matrix\n",
    "accuracy_score(y_test, predicted)"
   ]
  },
  {
   "cell_type": "code",
   "execution_count": 172,
   "metadata": {},
   "outputs": [
    {
     "data": {
      "text/plain": [
       "array([[1551,   56],\n",
       "       [ 247,  146]])"
      ]
     },
     "execution_count": 172,
     "metadata": {},
     "output_type": "execute_result"
    }
   ],
   "source": [
    "from sklearn.metrics import confusion_matrix\n",
    "confusion_matrix(y_test, predicted)"
   ]
  },
  {
   "cell_type": "markdown",
   "metadata": {},
   "source": [
    "### 模型儲存"
   ]
  },
  {
   "cell_type": "code",
   "execution_count": 173,
   "metadata": {},
   "outputs": [],
   "source": [
    "model.save('churn.pkl')"
   ]
  },
  {
   "cell_type": "markdown",
   "metadata": {},
   "source": [
    "### 模型讀取"
   ]
  },
  {
   "cell_type": "code",
   "execution_count": 175,
   "metadata": {},
   "outputs": [],
   "source": [
    "import keras\n",
    "model2 = keras.models.load_model('churn.pkl')"
   ]
  },
  {
   "cell_type": "code",
   "execution_count": 176,
   "metadata": {},
   "outputs": [
    {
     "data": {
      "text/plain": [
       "array([[0.07000732],\n",
       "       [0.03108145],\n",
       "       [0.20445141],\n",
       "       ...,\n",
       "       [0.64702106],\n",
       "       [0.08133572],\n",
       "       [0.23915258]], dtype=float32)"
      ]
     },
     "execution_count": 176,
     "metadata": {},
     "output_type": "execute_result"
    }
   ],
   "source": [
    "model2.predict(x_test)"
   ]
  },
  {
   "cell_type": "markdown",
   "metadata": {},
   "source": [
    "## 優化器"
   ]
  },
  {
   "cell_type": "code",
   "execution_count": 185,
   "metadata": {},
   "outputs": [],
   "source": [
    "def train_model(optimizer):\n",
    "    classifier = Sequential()\n",
    "    classifier.add(Dense(units = 6, kernel_initializer = 'uniform', activation = 'relu', input_dim = 11))\n",
    "    #classifier.add(Dropout(rate=0.1))\n",
    "    classifier.add(Dense(units = 6, kernel_initializer = 'uniform', activation = 'relu'))\n",
    "    #classifier.add(Dropout(rate=0.1))\n",
    "    classifier.add(Dense(units = 1, kernel_initializer = 'uniform', activation = 'sigmoid'))\n",
    "    classifier.compile(optimizer = optimizer, loss = 'binary_crossentropy', metrics = ['accuracy'])\n",
    "    \n",
    "    history = classifier.fit(x_train, y_train,\n",
    "                    batch_size=100,\n",
    "                    epochs=100,\n",
    "                    verbose=0,\n",
    "                    validation_data=(x_test, y_test))\n",
    "    return history"
   ]
  },
  {
   "cell_type": "code",
   "execution_count": 186,
   "metadata": {},
   "outputs": [],
   "source": [
    "sgd_model = train_model('sgd')\n",
    "rmsprop_model = train_model('RMSprop')\n",
    "adagrad_model = train_model('Adagrad')\n",
    "adadelta_model = train_model('Adadelta')\n",
    "adam_model = train_model('Adam')"
   ]
  },
  {
   "cell_type": "code",
   "execution_count": 187,
   "metadata": {},
   "outputs": [
    {
     "name": "stdout",
     "output_type": "stream",
     "text": [
      "Populating the interactive namespace from numpy and matplotlib\n"
     ]
    },
    {
     "data": {
      "image/png": "[encoded data removed]",
      "text/plain": [
       "<Figure size 640x480 with 1 Axes>"
      ]
     },
     "metadata": {},
     "output_type": "display_data"
    }
   ],
   "source": [
    "% pylab inline\n",
    "import matplotlib.pyplot  as plt\n",
    "plt.figure(num=None, figsize=(8, 6), dpi=80, facecolor='w', edgecolor='k')\n",
    "plt.plot(sgd_model.epoch, sgd_model.history['acc'], label='SGD')\n",
    "plt.plot(rmsprop_model.epoch, rmsprop_model.history['acc'], label='RMSProp')\n",
    "plt.plot(adagrad_model.epoch, adagrad_model.history['acc'], label='AdaGrad')\n",
    "plt.plot(adadelta_model.epoch, adadelta_model.history['acc'], label='AdaDelta')\n",
    "plt.plot(adam_model.epoch, adam_model.history['acc'], label='Adam')\n",
    "plt.legend()\n",
    "plt.show()"
   ]
  },
  {
   "cell_type": "markdown",
   "metadata": {},
   "source": [
    "## KFold 交叉驗證"
   ]
  },
  {
   "cell_type": "code",
   "execution_count": 26,
   "metadata": {},
   "outputs": [],
   "source": [
    "import keras\n",
    "from keras.models import Sequential\n",
    "from keras.layers import Dense\n",
    "\n",
    "from keras.wrappers.scikit_learn import KerasClassifier\n",
    "from sklearn.model_selection import cross_val_score"
   ]
  },
  {
   "cell_type": "code",
   "execution_count": 27,
   "metadata": {},
   "outputs": [],
   "source": [
    "def buildClassifier(optimizer):\n",
    "    classifier = Sequential()\n",
    "    classifier.add(Dense(units = 6, kernel_initializer = 'uniform', activation = 'relu', input_dim = 11))\n",
    "    classifier.add(Dense(units = 6, kernel_initializer = 'uniform', activation = 'relu'))\n",
    "    classifier.add(Dense(units = 1, kernel_initializer = 'uniform', activation = 'sigmoid'))\n",
    "    classifier.compile(loss='binary_crossentropy',\n",
    "                  optimizer=optimizer,\n",
    "                  metrics=['accuracy'])\n",
    "\n",
    "    return classifier"
   ]
  },
  {
   "cell_type": "code",
   "execution_count": 30,
   "metadata": {},
   "outputs": [],
   "source": [
    "classifier = KerasClassifier(build_fn = buildClassifier, batch_size = 100, epochs = 100, optimizer = 'adam', verbose = 0)\n",
    "accuracies = cross_val_score(estimator = classifier, X = x_train, y = y_train, cv = 5)\n"
   ]
  },
  {
   "cell_type": "code",
   "execution_count": 31,
   "metadata": {},
   "outputs": [],
   "source": [
    "mean = accuracies.mean()\n",
    "variance = accuracies.std()"
   ]
  },
  {
   "cell_type": "code",
   "execution_count": 32,
   "metadata": {},
   "outputs": [
    {
     "data": {
      "text/plain": [
       "0.8348749950528145"
      ]
     },
     "execution_count": 32,
     "metadata": {},
     "output_type": "execute_result"
    }
   ],
   "source": [
    "mean"
   ]
  },
  {
   "cell_type": "code",
   "execution_count": 33,
   "metadata": {},
   "outputs": [
    {
     "data": {
      "text/plain": [
       "0.008973923270698606"
      ]
     },
     "execution_count": 33,
     "metadata": {},
     "output_type": "execute_result"
    }
   ],
   "source": [
    "variance"
   ]
  },
  {
   "cell_type": "markdown",
   "metadata": {},
   "source": [
    "## Dropout"
   ]
  },
  {
   "cell_type": "code",
   "execution_count": 34,
   "metadata": {},
   "outputs": [],
   "source": [
    "from keras.layers import Dropout"
   ]
  },
  {
   "cell_type": "code",
   "execution_count": 35,
   "metadata": {},
   "outputs": [],
   "source": [
    "def buildClassifierWithDropout(optimizer):\n",
    "    classifier = Sequential()\n",
    "    classifier.add(Dense(units = 6, kernel_initializer = 'uniform', activation = 'relu', input_dim = 11))\n",
    "    classifier.add(Dropout(rate=0.1))\n",
    "    classifier.add(Dense(units = 6, kernel_initializer = 'uniform', activation = 'relu'))\n",
    "    classifier.add(Dropout(rate=0.1))\n",
    "    classifier.add(Dense(units = 1, kernel_initializer = 'uniform', activation = 'sigmoid'))\n",
    "    classifier.compile(loss='binary_crossentropy',\n",
    "                  optimizer=optimizer,\n",
    "                  metrics=['accuracy'])\n",
    "\n",
    "    return classifier"
   ]
  },
  {
   "cell_type": "code",
   "execution_count": 37,
   "metadata": {},
   "outputs": [],
   "source": [
    "classifier = KerasClassifier(build_fn = buildClassifierWithDropout, batch_size = 100, epochs = 100, verbose = 0, optimizer='adam' )\n",
    "accuracies = cross_val_score(estimator = classifier, X = x_train, y = y_train, cv = 5)\n",
    "mean = accuracies.mean()\n",
    "variance = accuracies.std()"
   ]
  },
  {
   "cell_type": "code",
   "execution_count": 38,
   "metadata": {},
   "outputs": [
    {
     "data": {
      "text/plain": [
       "0.8352500058710575"
      ]
     },
     "execution_count": 38,
     "metadata": {},
     "output_type": "execute_result"
    }
   ],
   "source": [
    "mean"
   ]
  },
  {
   "cell_type": "code",
   "execution_count": 39,
   "metadata": {},
   "outputs": [
    {
     "data": {
      "text/plain": [
       "0.006093026141432817"
      ]
     },
     "execution_count": 39,
     "metadata": {},
     "output_type": "execute_result"
    }
   ],
   "source": [
    "variance"
   ]
  },
  {
   "cell_type": "markdown",
   "metadata": {},
   "source": [
    "## Grid Search"
   ]
  },
  {
   "cell_type": "code",
   "execution_count": 41,
   "metadata": {},
   "outputs": [],
   "source": [
    "from sklearn.model_selection import GridSearchCV\n",
    "classifier = KerasClassifier(build_fn = buildClassifierWithDropout, epochs = 100, verbose = 0)\n",
    "parameters = {'batch_size': [100, 101],\n",
    "              'optimizer': ['adam', 'rmsprop']}\n",
    "grid_search = GridSearchCV(estimator = classifier,\n",
    "                           param_grid = parameters,\n",
    "                           scoring = 'accuracy',\n",
    "                           cv = 2)\n",
    "grid_search     = grid_search.fit(x_train, y_train)\n",
    "best_parameters = grid_search.best_params_\n",
    "best_accuracy   = grid_search.best_score_"
   ]
  },
  {
   "cell_type": "code",
   "execution_count": 42,
   "metadata": {},
   "outputs": [
    {
     "data": {
      "text/plain": [
       "{'batch_size': 100, 'optimizer': 'rmsprop'}"
      ]
     },
     "execution_count": 42,
     "metadata": {},
     "output_type": "execute_result"
    }
   ],
   "source": [
    "best_parameters"
   ]
  },
  {
   "cell_type": "code",
   "execution_count": 43,
   "metadata": {},
   "outputs": [
    {
     "data": {
      "text/plain": [
       "0.8285"
      ]
     },
     "execution_count": 43,
     "metadata": {},
     "output_type": "execute_result"
    }
   ],
   "source": [
    "best_accuracy"
   ]
  },
  {
   "cell_type": "markdown",
   "metadata": {},
   "source": [
    "## 繪製ROC 曲線"
   ]
  },
  {
   "cell_type": "code",
   "execution_count": 24,
   "metadata": {},
   "outputs": [],
   "source": [
    "import keras\n",
    "from keras.models import Sequential\n",
    "from keras.layers import Dense, Dropout\n",
    "from keras.wrappers.scikit_learn import KerasClassifier\n",
    "from sklearn.model_selection import cross_val_score"
   ]
  },
  {
   "cell_type": "code",
   "execution_count": 26,
   "metadata": {},
   "outputs": [
    {
     "name": "stdout",
     "output_type": "stream",
     "text": [
      "WARNING:tensorflow:From /Users/davidchiu/.pyenv/versions/3.6.2/lib/python3.6/site-packages/keras/backend/tensorflow_backend.py:1349: calling reduce_mean (from tensorflow.python.ops.math_ops) with keep_dims is deprecated and will be removed in a future version.\n",
      "Instructions for updating:\n",
      "keep_dims is deprecated, use keepdims instead\n",
      "Train on 8000 samples, validate on 2000 samples\n",
      "Epoch 1/100\n",
      "8000/8000 [==============================] - 0s 59us/step - loss: 0.6736 - acc: 0.7922 - val_loss: 0.6375 - val_acc: 0.8035\n",
      "Epoch 2/100\n",
      "8000/8000 [==============================] - 0s 18us/step - loss: 0.5684 - acc: 0.7945 - val_loss: 0.4853 - val_acc: 0.8035\n",
      "Epoch 3/100\n",
      "8000/8000 [==============================] - 0s 17us/step - loss: 0.4682 - acc: 0.7945 - val_loss: 0.4319 - val_acc: 0.8035\n",
      "Epoch 4/100\n",
      "8000/8000 [==============================] - 0s 19us/step - loss: 0.4498 - acc: 0.7945 - val_loss: 0.4239 - val_acc: 0.8035\n",
      "Epoch 5/100\n",
      "8000/8000 [==============================] - 0s 21us/step - loss: 0.4463 - acc: 0.7945 - val_loss: 0.4213 - val_acc: 0.8035\n",
      "Epoch 6/100\n",
      "8000/8000 [==============================] - 0s 19us/step - loss: 0.4425 - acc: 0.7945 - val_loss: 0.4187 - val_acc: 0.8035\n",
      "Epoch 7/100\n",
      "8000/8000 [==============================] - 0s 18us/step - loss: 0.4432 - acc: 0.7945 - val_loss: 0.4177 - val_acc: 0.8035\n",
      "Epoch 8/100\n",
      "8000/8000 [==============================] - 0s 17us/step - loss: 0.4435 - acc: 0.7945 - val_loss: 0.4164 - val_acc: 0.8035\n",
      "Epoch 9/100\n",
      "8000/8000 [==============================] - 0s 17us/step - loss: 0.4417 - acc: 0.7945 - val_loss: 0.4159 - val_acc: 0.8035\n",
      "Epoch 10/100\n",
      "8000/8000 [==============================] - 0s 18us/step - loss: 0.4408 - acc: 0.7945 - val_loss: 0.4165 - val_acc: 0.8035\n",
      "Epoch 11/100\n",
      "8000/8000 [==============================] - 0s 19us/step - loss: 0.4386 - acc: 0.7945 - val_loss: 0.4154 - val_acc: 0.8035\n",
      "Epoch 12/100\n",
      "8000/8000 [==============================] - 0s 19us/step - loss: 0.4373 - acc: 0.7945 - val_loss: 0.4148 - val_acc: 0.8035\n",
      "Epoch 13/100\n",
      "8000/8000 [==============================] - 0s 18us/step - loss: 0.4378 - acc: 0.7945 - val_loss: 0.4140 - val_acc: 0.8035\n",
      "Epoch 14/100\n",
      "8000/8000 [==============================] - 0s 18us/step - loss: 0.4396 - acc: 0.7945 - val_loss: 0.4137 - val_acc: 0.8035\n",
      "Epoch 15/100\n",
      "8000/8000 [==============================] - 0s 18us/step - loss: 0.4363 - acc: 0.7945 - val_loss: 0.4130 - val_acc: 0.8035\n",
      "Epoch 16/100\n",
      "8000/8000 [==============================] - 0s 18us/step - loss: 0.4358 - acc: 0.7945 - val_loss: 0.4121 - val_acc: 0.8035\n",
      "Epoch 17/100\n",
      "8000/8000 [==============================] - 0s 18us/step - loss: 0.4375 - acc: 0.7945 - val_loss: 0.4118 - val_acc: 0.8035\n",
      "Epoch 18/100\n",
      "8000/8000 [==============================] - 0s 18us/step - loss: 0.4335 - acc: 0.7945 - val_loss: 0.4110 - val_acc: 0.8035\n",
      "Epoch 19/100\n",
      "8000/8000 [==============================] - 0s 18us/step - loss: 0.4355 - acc: 0.7945 - val_loss: 0.4107 - val_acc: 0.8035\n",
      "Epoch 20/100\n",
      "8000/8000 [==============================] - 0s 19us/step - loss: 0.4378 - acc: 0.7945 - val_loss: 0.4099 - val_acc: 0.8035\n",
      "Epoch 21/100\n",
      "8000/8000 [==============================] - 0s 18us/step - loss: 0.4354 - acc: 0.7945 - val_loss: 0.4102 - val_acc: 0.8035\n",
      "Epoch 22/100\n",
      "8000/8000 [==============================] - 0s 18us/step - loss: 0.4319 - acc: 0.7945 - val_loss: 0.4088 - val_acc: 0.8035\n",
      "Epoch 23/100\n",
      "8000/8000 [==============================] - 0s 17us/step - loss: 0.4316 - acc: 0.7945 - val_loss: 0.4076 - val_acc: 0.8035\n",
      "Epoch 24/100\n",
      "8000/8000 [==============================] - 0s 17us/step - loss: 0.4322 - acc: 0.7945 - val_loss: 0.4080 - val_acc: 0.8035\n",
      "Epoch 25/100\n",
      "8000/8000 [==============================] - 0s 19us/step - loss: 0.4346 - acc: 0.7945 - val_loss: 0.4079 - val_acc: 0.8035\n",
      "Epoch 26/100\n",
      "8000/8000 [==============================] - 0s 18us/step - loss: 0.4331 - acc: 0.7945 - val_loss: 0.4073 - val_acc: 0.8035\n",
      "Epoch 27/100\n",
      "8000/8000 [==============================] - 0s 18us/step - loss: 0.4291 - acc: 0.7945 - val_loss: 0.4065 - val_acc: 0.8035\n",
      "Epoch 28/100\n",
      "8000/8000 [==============================] - 0s 18us/step - loss: 0.4289 - acc: 0.7945 - val_loss: 0.4066 - val_acc: 0.8035\n",
      "Epoch 29/100\n",
      "8000/8000 [==============================] - 0s 18us/step - loss: 0.4319 - acc: 0.7945 - val_loss: 0.4064 - val_acc: 0.8035\n",
      "Epoch 30/100\n",
      "8000/8000 [==============================] - 0s 18us/step - loss: 0.4273 - acc: 0.7945 - val_loss: 0.4052 - val_acc: 0.8035\n",
      "Epoch 31/100\n",
      "8000/8000 [==============================] - 0s 18us/step - loss: 0.4298 - acc: 0.7945 - val_loss: 0.4054 - val_acc: 0.8035\n",
      "Epoch 32/100\n",
      "8000/8000 [==============================] - 0s 18us/step - loss: 0.4275 - acc: 0.7945 - val_loss: 0.4044 - val_acc: 0.8035\n",
      "Epoch 33/100\n",
      "8000/8000 [==============================] - 0s 20us/step - loss: 0.4259 - acc: 0.8043 - val_loss: 0.4045 - val_acc: 0.8205\n",
      "Epoch 34/100\n",
      "8000/8000 [==============================] - 0s 20us/step - loss: 0.4291 - acc: 0.8185 - val_loss: 0.4038 - val_acc: 0.8205\n",
      "Epoch 35/100\n",
      "8000/8000 [==============================] - 0s 17us/step - loss: 0.4260 - acc: 0.8220 - val_loss: 0.4036 - val_acc: 0.8215\n",
      "Epoch 36/100\n",
      "8000/8000 [==============================] - 0s 19us/step - loss: 0.4284 - acc: 0.8227 - val_loss: 0.4042 - val_acc: 0.8240\n",
      "Epoch 37/100\n",
      "8000/8000 [==============================] - 0s 17us/step - loss: 0.4289 - acc: 0.8229 - val_loss: 0.4030 - val_acc: 0.8240\n",
      "Epoch 38/100\n",
      "8000/8000 [==============================] - 0s 17us/step - loss: 0.4283 - acc: 0.8266 - val_loss: 0.4024 - val_acc: 0.8240\n",
      "Epoch 39/100\n",
      "8000/8000 [==============================] - 0s 18us/step - loss: 0.4306 - acc: 0.8239 - val_loss: 0.4025 - val_acc: 0.8245\n",
      "Epoch 40/100\n",
      "8000/8000 [==============================] - 0s 18us/step - loss: 0.4263 - acc: 0.8241 - val_loss: 0.4023 - val_acc: 0.8240\n",
      "Epoch 41/100\n",
      "8000/8000 [==============================] - 0s 17us/step - loss: 0.4262 - acc: 0.8234 - val_loss: 0.4020 - val_acc: 0.8230\n",
      "Epoch 42/100\n",
      "8000/8000 [==============================] - 0s 19us/step - loss: 0.4265 - acc: 0.8241 - val_loss: 0.4021 - val_acc: 0.8275\n",
      "Epoch 43/100\n",
      "8000/8000 [==============================] - 0s 19us/step - loss: 0.4270 - acc: 0.8262 - val_loss: 0.4021 - val_acc: 0.8280\n",
      "Epoch 44/100\n",
      "8000/8000 [==============================] - 0s 18us/step - loss: 0.4253 - acc: 0.8295 - val_loss: 0.4014 - val_acc: 0.8270\n",
      "Epoch 45/100\n",
      "8000/8000 [==============================] - 0s 18us/step - loss: 0.4253 - acc: 0.8267 - val_loss: 0.4014 - val_acc: 0.8290\n",
      "Epoch 46/100\n",
      "8000/8000 [==============================] - 0s 18us/step - loss: 0.4289 - acc: 0.8252 - val_loss: 0.4005 - val_acc: 0.8285\n",
      "Epoch 47/100\n",
      "8000/8000 [==============================] - 0s 18us/step - loss: 0.4254 - acc: 0.8274 - val_loss: 0.4006 - val_acc: 0.8295\n",
      "Epoch 48/100\n",
      "8000/8000 [==============================] - 0s 18us/step - loss: 0.4257 - acc: 0.8277 - val_loss: 0.4004 - val_acc: 0.8285\n",
      "Epoch 49/100\n",
      "8000/8000 [==============================] - 0s 18us/step - loss: 0.4220 - acc: 0.8285 - val_loss: 0.4002 - val_acc: 0.8315\n",
      "Epoch 50/100\n",
      "8000/8000 [==============================] - 0s 17us/step - loss: 0.4235 - acc: 0.8270 - val_loss: 0.3991 - val_acc: 0.8315\n",
      "Epoch 51/100\n",
      "8000/8000 [==============================] - 0s 16us/step - loss: 0.4239 - acc: 0.8283 - val_loss: 0.3995 - val_acc: 0.8310\n",
      "Epoch 52/100\n",
      "8000/8000 [==============================] - 0s 18us/step - loss: 0.4250 - acc: 0.8284 - val_loss: 0.3992 - val_acc: 0.8310\n",
      "Epoch 53/100\n",
      "8000/8000 [==============================] - 0s 16us/step - loss: 0.4243 - acc: 0.8277 - val_loss: 0.3999 - val_acc: 0.8305\n",
      "Epoch 54/100\n",
      "8000/8000 [==============================] - 0s 17us/step - loss: 0.4216 - acc: 0.8315 - val_loss: 0.3992 - val_acc: 0.8310\n",
      "Epoch 55/100\n",
      "8000/8000 [==============================] - 0s 17us/step - loss: 0.4237 - acc: 0.8300 - val_loss: 0.3988 - val_acc: 0.8320\n",
      "Epoch 56/100\n",
      "8000/8000 [==============================] - 0s 18us/step - loss: 0.4242 - acc: 0.8270 - val_loss: 0.3994 - val_acc: 0.8315\n",
      "Epoch 57/100\n",
      "8000/8000 [==============================] - 0s 17us/step - loss: 0.4256 - acc: 0.8289 - val_loss: 0.3995 - val_acc: 0.8310\n",
      "Epoch 58/100\n"
     ]
    },
    {
     "name": "stdout",
     "output_type": "stream",
     "text": [
      "8000/8000 [==============================] - 0s 18us/step - loss: 0.4246 - acc: 0.8275 - val_loss: 0.3991 - val_acc: 0.8300\n",
      "Epoch 59/100\n",
      "8000/8000 [==============================] - 0s 16us/step - loss: 0.4242 - acc: 0.8289 - val_loss: 0.3985 - val_acc: 0.8310\n",
      "Epoch 60/100\n",
      "8000/8000 [==============================] - 0s 17us/step - loss: 0.4221 - acc: 0.8286 - val_loss: 0.3988 - val_acc: 0.8295\n",
      "Epoch 61/100\n",
      "8000/8000 [==============================] - 0s 17us/step - loss: 0.4210 - acc: 0.8305 - val_loss: 0.3981 - val_acc: 0.8310\n",
      "Epoch 62/100\n",
      "8000/8000 [==============================] - 0s 17us/step - loss: 0.4241 - acc: 0.8285 - val_loss: 0.3985 - val_acc: 0.8340\n",
      "Epoch 63/100\n",
      "8000/8000 [==============================] - 0s 19us/step - loss: 0.4237 - acc: 0.8296 - val_loss: 0.3982 - val_acc: 0.8335\n",
      "Epoch 64/100\n",
      "8000/8000 [==============================] - 0s 19us/step - loss: 0.4255 - acc: 0.8271 - val_loss: 0.3984 - val_acc: 0.8350\n",
      "Epoch 65/100\n",
      "8000/8000 [==============================] - 0s 18us/step - loss: 0.4230 - acc: 0.8301 - val_loss: 0.3981 - val_acc: 0.8340\n",
      "Epoch 66/100\n",
      "8000/8000 [==============================] - 0s 17us/step - loss: 0.4248 - acc: 0.8290 - val_loss: 0.3980 - val_acc: 0.8335\n",
      "Epoch 67/100\n",
      "8000/8000 [==============================] - 0s 17us/step - loss: 0.4253 - acc: 0.8285 - val_loss: 0.3977 - val_acc: 0.8335\n",
      "Epoch 68/100\n",
      "8000/8000 [==============================] - 0s 18us/step - loss: 0.4219 - acc: 0.8299 - val_loss: 0.3978 - val_acc: 0.8345\n",
      "Epoch 69/100\n",
      "8000/8000 [==============================] - 0s 17us/step - loss: 0.4216 - acc: 0.8311 - val_loss: 0.3974 - val_acc: 0.8340\n",
      "Epoch 70/100\n",
      "8000/8000 [==============================] - 0s 18us/step - loss: 0.4257 - acc: 0.8292 - val_loss: 0.3976 - val_acc: 0.8350\n",
      "Epoch 71/100\n",
      "8000/8000 [==============================] - 0s 17us/step - loss: 0.4232 - acc: 0.8305 - val_loss: 0.3971 - val_acc: 0.8345\n",
      "Epoch 72/100\n",
      "8000/8000 [==============================] - 0s 17us/step - loss: 0.4231 - acc: 0.8295 - val_loss: 0.3970 - val_acc: 0.8330\n",
      "Epoch 73/100\n",
      "8000/8000 [==============================] - 0s 18us/step - loss: 0.4236 - acc: 0.8316 - val_loss: 0.3971 - val_acc: 0.8335\n",
      "Epoch 74/100\n",
      "8000/8000 [==============================] - 0s 18us/step - loss: 0.4226 - acc: 0.8315 - val_loss: 0.3975 - val_acc: 0.8340\n",
      "Epoch 75/100\n",
      "8000/8000 [==============================] - 0s 17us/step - loss: 0.4252 - acc: 0.8293 - val_loss: 0.3975 - val_acc: 0.8340\n",
      "Epoch 76/100\n",
      "8000/8000 [==============================] - 0s 18us/step - loss: 0.4235 - acc: 0.8299 - val_loss: 0.3970 - val_acc: 0.8330\n",
      "Epoch 77/100\n",
      "8000/8000 [==============================] - 0s 18us/step - loss: 0.4251 - acc: 0.8287 - val_loss: 0.3972 - val_acc: 0.8330\n",
      "Epoch 78/100\n",
      "8000/8000 [==============================] - 0s 18us/step - loss: 0.4239 - acc: 0.8316 - val_loss: 0.3977 - val_acc: 0.8340\n",
      "Epoch 79/100\n",
      "8000/8000 [==============================] - 0s 18us/step - loss: 0.4215 - acc: 0.8296 - val_loss: 0.3981 - val_acc: 0.8355\n",
      "Epoch 80/100\n",
      "8000/8000 [==============================] - 0s 18us/step - loss: 0.4216 - acc: 0.8325 - val_loss: 0.3966 - val_acc: 0.8345\n",
      "Epoch 81/100\n",
      "8000/8000 [==============================] - 0s 19us/step - loss: 0.4243 - acc: 0.8316 - val_loss: 0.3963 - val_acc: 0.8345\n",
      "Epoch 82/100\n",
      "8000/8000 [==============================] - 0s 19us/step - loss: 0.4231 - acc: 0.8325 - val_loss: 0.3961 - val_acc: 0.8350\n",
      "Epoch 83/100\n",
      "8000/8000 [==============================] - 0s 19us/step - loss: 0.4198 - acc: 0.8320 - val_loss: 0.3966 - val_acc: 0.8355\n",
      "Epoch 84/100\n",
      "8000/8000 [==============================] - 0s 18us/step - loss: 0.4232 - acc: 0.8313 - val_loss: 0.3961 - val_acc: 0.8340\n",
      "Epoch 85/100\n",
      "8000/8000 [==============================] - 0s 18us/step - loss: 0.4214 - acc: 0.8334 - val_loss: 0.3969 - val_acc: 0.8360\n",
      "Epoch 86/100\n",
      "8000/8000 [==============================] - 0s 17us/step - loss: 0.4217 - acc: 0.8290 - val_loss: 0.3974 - val_acc: 0.8370\n",
      "Epoch 87/100\n",
      "8000/8000 [==============================] - 0s 18us/step - loss: 0.4225 - acc: 0.8324 - val_loss: 0.3968 - val_acc: 0.8375\n",
      "Epoch 88/100\n",
      "8000/8000 [==============================] - 0s 17us/step - loss: 0.4213 - acc: 0.8335 - val_loss: 0.3959 - val_acc: 0.8350\n",
      "Epoch 89/100\n",
      "8000/8000 [==============================] - 0s 16us/step - loss: 0.4211 - acc: 0.8326 - val_loss: 0.3970 - val_acc: 0.8370\n",
      "Epoch 90/100\n",
      "8000/8000 [==============================] - 0s 17us/step - loss: 0.4217 - acc: 0.8325 - val_loss: 0.3964 - val_acc: 0.8360\n",
      "Epoch 91/100\n",
      "8000/8000 [==============================] - 0s 18us/step - loss: 0.4222 - acc: 0.8312 - val_loss: 0.3963 - val_acc: 0.8355\n",
      "Epoch 92/100\n",
      "8000/8000 [==============================] - 0s 18us/step - loss: 0.4227 - acc: 0.8300 - val_loss: 0.3974 - val_acc: 0.8375\n",
      "Epoch 93/100\n",
      "8000/8000 [==============================] - 0s 18us/step - loss: 0.4244 - acc: 0.8294 - val_loss: 0.3968 - val_acc: 0.8355\n",
      "Epoch 94/100\n",
      "8000/8000 [==============================] - 0s 18us/step - loss: 0.4177 - acc: 0.8311 - val_loss: 0.3964 - val_acc: 0.8350\n",
      "Epoch 95/100\n",
      "8000/8000 [==============================] - 0s 18us/step - loss: 0.4223 - acc: 0.8324 - val_loss: 0.3969 - val_acc: 0.8350\n",
      "Epoch 96/100\n",
      "8000/8000 [==============================] - 0s 17us/step - loss: 0.4198 - acc: 0.8308 - val_loss: 0.3965 - val_acc: 0.8355\n",
      "Epoch 97/100\n",
      "8000/8000 [==============================] - 0s 17us/step - loss: 0.4220 - acc: 0.8312 - val_loss: 0.3969 - val_acc: 0.8375\n",
      "Epoch 98/100\n",
      "8000/8000 [==============================] - 0s 18us/step - loss: 0.4202 - acc: 0.8316 - val_loss: 0.3967 - val_acc: 0.8375\n",
      "Epoch 99/100\n",
      "8000/8000 [==============================] - 0s 18us/step - loss: 0.4191 - acc: 0.8296 - val_loss: 0.3966 - val_acc: 0.8365\n",
      "Epoch 100/100\n",
      "8000/8000 [==============================] - 0s 18us/step - loss: 0.4222 - acc: 0.8306 - val_loss: 0.3969 - val_acc: 0.8360\n"
     ]
    }
   ],
   "source": [
    "classifier = Sequential()\n",
    "classifier.add(Dense(units = 6, kernel_initializer = 'uniform', activation = 'relu', input_dim = 11))\n",
    "classifier.add(Dropout(rate=0.1))\n",
    "classifier.add(Dense(units = 6, kernel_initializer = 'uniform', activation = 'relu'))\n",
    "classifier.add(Dropout(rate=0.1))\n",
    "classifier.add(Dense(units = 1, kernel_initializer = 'uniform', activation = 'sigmoid'))\n",
    "classifier.compile(loss='binary_crossentropy',\n",
    "              optimizer='adam',\n",
    "              metrics=['accuracy'])\n",
    "\n",
    "history = classifier.fit(x_train, y_train,\n",
    "                    batch_size=100,\n",
    "                    epochs=100,\n",
    "                    validation_data=(x_test, y_test))"
   ]
  },
  {
   "cell_type": "code",
   "execution_count": 34,
   "metadata": {},
   "outputs": [],
   "source": [
    "y_pred = classifier.predict(x_test)"
   ]
  },
  {
   "cell_type": "code",
   "execution_count": 35,
   "metadata": {},
   "outputs": [],
   "source": [
    "from sklearn.metrics import roc_curve\n",
    "fpr_ary, tpr_ary, thresholds = roc_curve(y_test, y_pred)"
   ]
  },
  {
   "cell_type": "code",
   "execution_count": 37,
   "metadata": {},
   "outputs": [],
   "source": [
    "#fpr_ary"
   ]
  },
  {
   "cell_type": "code",
   "execution_count": 38,
   "metadata": {},
   "outputs": [],
   "source": [
    "#tpr_ary"
   ]
  },
  {
   "cell_type": "code",
   "execution_count": 39,
   "metadata": {},
   "outputs": [
    {
     "name": "stdout",
     "output_type": "stream",
     "text": [
      "Populating the interactive namespace from numpy and matplotlib\n"
     ]
    },
    {
     "data": {
      "image/png": "[encoded data removed]",
      "text/plain": [
       "<Figure size 432x288 with 1 Axes>"
      ]
     },
     "metadata": {},
     "output_type": "display_data"
    }
   ],
   "source": [
    "%pylab inline\n",
    "import matplotlib.pyplot as plt\n",
    "plt.plot(fpr_ary, tpr_ary, label='ROC curve')\n",
    "plt.plot([0, 1], [0, 1], 'k--')\n",
    "plt.xlim([0.0, 1.0])\n",
    "plt.ylim([0.0, 1.0])\n",
    "plt.xlabel('False Positive Rate')\n",
    "plt.ylabel('True Positive Rate')\n",
    "plt.title('Receiver operating characteristic')\n",
    "plt.legend(loc=\"lower right\")\n",
    "plt.show()"
   ]
  },
  {
   "cell_type": "code",
   "execution_count": 41,
   "metadata": {},
   "outputs": [
    {
     "data": {
      "text/plain": [
       "0.8031489143394596"
      ]
     },
     "execution_count": 41,
     "metadata": {},
     "output_type": "execute_result"
    }
   ],
   "source": [
    "from sklearn.metrics import auc\n",
    "auc(fpr_ary, tpr_ary)"
   ]
  },
  {
   "cell_type": "markdown",
   "metadata": {},
   "source": [
    "## 比較不同機器學習模型"
   ]
  },
  {
   "cell_type": "code",
   "execution_count": 42,
   "metadata": {},
   "outputs": [
    {
     "name": "stderr",
     "output_type": "stream",
     "text": [
      "/Users/davidchiu/.pyenv/versions/3.6.2/lib/python3.6/site-packages/sklearn/ensemble/weight_boosting.py:29: DeprecationWarning: numpy.core.umath_tests is an internal NumPy module and should not be imported. It will be removed in a future NumPy release.\n",
      "  from numpy.core.umath_tests import inner1d\n"
     ]
    },
    {
     "data": {
      "text/plain": [
       "RandomForestClassifier(bootstrap=True, class_weight=None, criterion='gini',\n",
       "            max_depth=None, max_features='auto', max_leaf_nodes=None,\n",
       "            min_impurity_decrease=0.0, min_impurity_split=None,\n",
       "            min_samples_leaf=1, min_samples_split=2,\n",
       "            min_weight_fraction_leaf=0.0, n_estimators=10, n_jobs=1,\n",
       "            oob_score=False, random_state=None, verbose=0,\n",
       "            warm_start=False)"
      ]
     },
     "execution_count": 42,
     "metadata": {},
     "output_type": "execute_result"
    }
   ],
   "source": [
    "from sklearn.tree import DecisionTreeClassifier\n",
    "from sklearn.svm import SVC\n",
    "from sklearn.linear_model import LogisticRegression\n",
    "from sklearn.ensemble import RandomForestClassifier\n",
    "\n",
    "clf1 = DecisionTreeClassifier()\n",
    "clf1.fit(x_train, y_train)\n",
    "\n",
    "clf2 = SVC(probability=True)\n",
    "clf2.fit(x_train, y_train)\n",
    "\n",
    "clf3 = LogisticRegression()\n",
    "clf3.fit(x_train, y_train)\n",
    "\n",
    "clf4 = RandomForestClassifier()\n",
    "clf4.fit(x_train, y_train)"
   ]
  },
  {
   "cell_type": "code",
   "execution_count": 43,
   "metadata": {},
   "outputs": [
    {
     "data": {
      "image/png": "[encoded data removed]",
      "text/plain": [
       "<Figure size 1440x720 with 1 Axes>"
      ]
     },
     "metadata": {},
     "output_type": "display_data"
    }
   ],
   "source": [
    "plt.figure(figsize= [20,10])\n",
    "\n",
    "for clf, title in zip([classifier, clf1,clf2,clf3, clf4], ['ANN','Decision Tree', 'SVM', 'LogisticRegression', 'RandomForest']):\n",
    "    if title == 'ANN':\n",
    "        y_pred = classifier.predict(x_test)\n",
    "        fpr, tpr, thresholds = roc_curve(y_test, y_pred)\n",
    "    else:\n",
    "        probas_ = clf.fit(x_train, y_train).predict_proba(x_test)\n",
    "        fpr, tpr, thresholds = roc_curve(y_test, probas_[:, 1])\n",
    "    plt.plot(fpr, tpr, label='%s - AUC:%.2f'%(title, auc(fpr, tpr)) )\n",
    "    \n",
    "plt.plot([0, 1], [0, 1], 'k--')\n",
    "plt.xlim([0.0, 1.0])\n",
    "plt.ylim([0.0, 1.0])\n",
    "plt.xlabel('False Positive Rate', fontsize = 20)\n",
    "plt.ylabel('True Positive Rate', fontsize = 20)\n",
    "plt.title('Receiver operating characteristic example', fontsize = 20)\n",
    "plt.legend(loc=\"lower right\", fontsize = 20)\n",
    "plt.show()"
   ]
  },
  {
   "cell_type": "code",
   "execution_count": null,
   "metadata": {},
   "outputs": [],
   "source": []
  }
 ],
 "metadata": {
  "kernelspec": {
   "display_name": "Python 3",
   "language": "python",
   "name": "python3"
  },
  "language_info": {
   "codemirror_mode": {
    "name": "ipython",
    "version": 3
   },
   "file_extension": ".py",
   "mimetype": "text/x-python",
   "name": "python",
   "nbconvert_exporter": "python",
   "pygments_lexer": "ipython3",
   "version": "3.6.2"
  }
 },
 "nbformat": 4,
 "nbformat_minor": 2
}
